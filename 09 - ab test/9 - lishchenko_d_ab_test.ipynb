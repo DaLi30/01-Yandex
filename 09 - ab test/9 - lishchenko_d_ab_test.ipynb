{
 "cells": [
  {
   "cell_type": "markdown",
   "metadata": {},
   "source": [
    "# Анализ гипотез для увеличения выручки интернет-магазина путем проведения А/B-теста\n"
   ]
  },
  {
   "cell_type": "markdown",
   "metadata": {},
   "source": [
    "Проект выполнен для крупного интернет-магазина. Вместе с отделом маркетинга подгтовлен список гипотез для увеличения выручки.\n",
    "\n",
    "\n",
    "План работы:\n",
    "- описание данных\n",
    "- загрузка библиотек\n",
    "- подготовка данных\n",
    "- приоретизация гипотез\n",
    "- проведение A/B-теста\n",
    "- анализ результатов\n",
    "- общий вывод"
   ]
  },
  {
   "cell_type": "markdown",
   "metadata": {},
   "source": [
    "## Описание данных"
   ]
  },
  {
   "cell_type": "markdown",
   "metadata": {},
   "source": [
    "Файл /datasets/hypothesis.csv. \n",
    "\n",
    "    Hypothesis — краткое описание гипотезы;\n",
    "    Reach — охват пользователей по 10-балльной шкале;\n",
    "    Impact — влияние на пользователей по 10-балльной шкале;\n",
    "    Confidence — уверенность в гипотезе по 10-балльной шкале;\n",
    "    Efforts — затраты ресурсов на проверку гипотезы по 10-балльной шкале. Чем больше значение Efforts, тем дороже проверка гипотезы.\n",
    "\n",
    "Файл /datasets/orders.csv. \n",
    "\n",
    "    transactionId — идентификатор заказа;\n",
    "    visitorId — идентификатор пользователя, совершившего заказ;\n",
    "    date — дата, когда был совершён заказ;\n",
    "    revenue — выручка заказа;\n",
    "    group — группа A/B-теста, в которую попал заказ.\n",
    "\n",
    "Файл /datasets/visitors.csv.\n",
    "\n",
    "    date — дата;\n",
    "    group — группа A/B-теста;\n",
    "    visitors — количество пользователей в указанную дату в указанной группе A/B-теста"
   ]
  },
  {
   "cell_type": "markdown",
   "metadata": {},
   "source": [
    "## Загрузка библиотек"
   ]
  },
  {
   "cell_type": "code",
   "execution_count": 1,
   "metadata": {},
   "outputs": [],
   "source": [
    "import pandas as pd\n",
    "import datetime as dt\n",
    "import matplotlib.pyplot as plt\n",
    "import numpy as np\n",
    "import scipy.stats as stats\n",
    "\n",
    "import warnings \n",
    "warnings.filterwarnings('ignore')"
   ]
  },
  {
   "cell_type": "markdown",
   "metadata": {},
   "source": [
    "## Предобработка данных"
   ]
  },
  {
   "cell_type": "markdown",
   "metadata": {},
   "source": [
    "Прочитаем csv файлы"
   ]
  },
  {
   "cell_type": "markdown",
   "metadata": {},
   "source": [
    "Выгрузим первые строки датасетов и информацию о них для первичной проверки качества данных."
   ]
  },
  {
   "cell_type": "code",
   "execution_count": 3,
   "metadata": {},
   "outputs": [
    {
     "data": {
      "text/html": [
       "<div>\n",
       "<style scoped>\n",
       "    .dataframe tbody tr th:only-of-type {\n",
       "        vertical-align: middle;\n",
       "    }\n",
       "\n",
       "    .dataframe tbody tr th {\n",
       "        vertical-align: top;\n",
       "    }\n",
       "\n",
       "    .dataframe thead th {\n",
       "        text-align: right;\n",
       "    }\n",
       "</style>\n",
       "<table border=\"1\" class=\"dataframe\">\n",
       "  <thead>\n",
       "    <tr style=\"text-align: right;\">\n",
       "      <th></th>\n",
       "      <th>Hypothesis</th>\n",
       "      <th>Reach</th>\n",
       "      <th>Impact</th>\n",
       "      <th>Confidence</th>\n",
       "      <th>Efforts</th>\n",
       "    </tr>\n",
       "  </thead>\n",
       "  <tbody>\n",
       "    <tr>\n",
       "      <th>0</th>\n",
       "      <td>Добавить два новых канала привлечения трафика, что позволит привлекать на 30% больше пользователей</td>\n",
       "      <td>3</td>\n",
       "      <td>10</td>\n",
       "      <td>8</td>\n",
       "      <td>6</td>\n",
       "    </tr>\n",
       "    <tr>\n",
       "      <th>1</th>\n",
       "      <td>Запустить собственную службу доставки, что сократит срок доставки заказов</td>\n",
       "      <td>2</td>\n",
       "      <td>5</td>\n",
       "      <td>4</td>\n",
       "      <td>10</td>\n",
       "    </tr>\n",
       "    <tr>\n",
       "      <th>2</th>\n",
       "      <td>Добавить блоки рекомендаций товаров на сайт интернет магазина, чтобы повысить конверсию и средний чек заказа</td>\n",
       "      <td>8</td>\n",
       "      <td>3</td>\n",
       "      <td>7</td>\n",
       "      <td>3</td>\n",
       "    </tr>\n",
       "    <tr>\n",
       "      <th>3</th>\n",
       "      <td>Изменить структура категорий, что увеличит конверсию, т.к. пользователи быстрее найдут нужный товар</td>\n",
       "      <td>8</td>\n",
       "      <td>3</td>\n",
       "      <td>3</td>\n",
       "      <td>8</td>\n",
       "    </tr>\n",
       "    <tr>\n",
       "      <th>4</th>\n",
       "      <td>Изменить цвет фона главной страницы, чтобы увеличить вовлеченность пользователей</td>\n",
       "      <td>3</td>\n",
       "      <td>1</td>\n",
       "      <td>1</td>\n",
       "      <td>1</td>\n",
       "    </tr>\n",
       "  </tbody>\n",
       "</table>\n",
       "</div>"
      ],
      "text/plain": [
       "                                                                                                     Hypothesis  \\\n",
       "0            Добавить два новых канала привлечения трафика, что позволит привлекать на 30% больше пользователей   \n",
       "1                                     Запустить собственную службу доставки, что сократит срок доставки заказов   \n",
       "2  Добавить блоки рекомендаций товаров на сайт интернет магазина, чтобы повысить конверсию и средний чек заказа   \n",
       "3           Изменить структура категорий, что увеличит конверсию, т.к. пользователи быстрее найдут нужный товар   \n",
       "4                              Изменить цвет фона главной страницы, чтобы увеличить вовлеченность пользователей   \n",
       "\n",
       "   Reach  Impact  Confidence  Efforts  \n",
       "0      3      10           8        6  \n",
       "1      2       5           4       10  \n",
       "2      8       3           7        3  \n",
       "3      8       3           3        8  \n",
       "4      3       1           1        1  "
      ]
     },
     "execution_count": 3,
     "metadata": {},
     "output_type": "execute_result"
    }
   ],
   "source": [
    "pd.set_option('max_colwidth', None)\n",
    "hypothesis.head()"
   ]
  },
  {
   "cell_type": "code",
   "execution_count": 4,
   "metadata": {},
   "outputs": [
    {
     "data": {
      "text/html": [
       "<div>\n",
       "<style scoped>\n",
       "    .dataframe tbody tr th:only-of-type {\n",
       "        vertical-align: middle;\n",
       "    }\n",
       "\n",
       "    .dataframe tbody tr th {\n",
       "        vertical-align: top;\n",
       "    }\n",
       "\n",
       "    .dataframe thead th {\n",
       "        text-align: right;\n",
       "    }\n",
       "</style>\n",
       "<table border=\"1\" class=\"dataframe\">\n",
       "  <thead>\n",
       "    <tr style=\"text-align: right;\">\n",
       "      <th></th>\n",
       "      <th>transactionId</th>\n",
       "      <th>visitorId</th>\n",
       "      <th>date</th>\n",
       "      <th>revenue</th>\n",
       "      <th>group</th>\n",
       "    </tr>\n",
       "  </thead>\n",
       "  <tbody>\n",
       "    <tr>\n",
       "      <th>0</th>\n",
       "      <td>3667963787</td>\n",
       "      <td>3312258926</td>\n",
       "      <td>2019-08-15</td>\n",
       "      <td>1650</td>\n",
       "      <td>B</td>\n",
       "    </tr>\n",
       "    <tr>\n",
       "      <th>1</th>\n",
       "      <td>2804400009</td>\n",
       "      <td>3642806036</td>\n",
       "      <td>2019-08-15</td>\n",
       "      <td>730</td>\n",
       "      <td>B</td>\n",
       "    </tr>\n",
       "    <tr>\n",
       "      <th>2</th>\n",
       "      <td>2961555356</td>\n",
       "      <td>4069496402</td>\n",
       "      <td>2019-08-15</td>\n",
       "      <td>400</td>\n",
       "      <td>A</td>\n",
       "    </tr>\n",
       "    <tr>\n",
       "      <th>3</th>\n",
       "      <td>3797467345</td>\n",
       "      <td>1196621759</td>\n",
       "      <td>2019-08-15</td>\n",
       "      <td>9759</td>\n",
       "      <td>B</td>\n",
       "    </tr>\n",
       "    <tr>\n",
       "      <th>4</th>\n",
       "      <td>2282983706</td>\n",
       "      <td>2322279887</td>\n",
       "      <td>2019-08-15</td>\n",
       "      <td>2308</td>\n",
       "      <td>B</td>\n",
       "    </tr>\n",
       "  </tbody>\n",
       "</table>\n",
       "</div>"
      ],
      "text/plain": [
       "   transactionId   visitorId        date  revenue group\n",
       "0     3667963787  3312258926  2019-08-15     1650     B\n",
       "1     2804400009  3642806036  2019-08-15      730     B\n",
       "2     2961555356  4069496402  2019-08-15      400     A\n",
       "3     3797467345  1196621759  2019-08-15     9759     B\n",
       "4     2282983706  2322279887  2019-08-15     2308     B"
      ]
     },
     "execution_count": 4,
     "metadata": {},
     "output_type": "execute_result"
    }
   ],
   "source": [
    "orders.head()"
   ]
  },
  {
   "cell_type": "code",
   "execution_count": 5,
   "metadata": {},
   "outputs": [
    {
     "data": {
      "text/html": [
       "<div>\n",
       "<style scoped>\n",
       "    .dataframe tbody tr th:only-of-type {\n",
       "        vertical-align: middle;\n",
       "    }\n",
       "\n",
       "    .dataframe tbody tr th {\n",
       "        vertical-align: top;\n",
       "    }\n",
       "\n",
       "    .dataframe thead th {\n",
       "        text-align: right;\n",
       "    }\n",
       "</style>\n",
       "<table border=\"1\" class=\"dataframe\">\n",
       "  <thead>\n",
       "    <tr style=\"text-align: right;\">\n",
       "      <th></th>\n",
       "      <th>date</th>\n",
       "      <th>group</th>\n",
       "      <th>visitors</th>\n",
       "    </tr>\n",
       "  </thead>\n",
       "  <tbody>\n",
       "    <tr>\n",
       "      <th>0</th>\n",
       "      <td>2019-08-01</td>\n",
       "      <td>A</td>\n",
       "      <td>719</td>\n",
       "    </tr>\n",
       "    <tr>\n",
       "      <th>1</th>\n",
       "      <td>2019-08-02</td>\n",
       "      <td>A</td>\n",
       "      <td>619</td>\n",
       "    </tr>\n",
       "    <tr>\n",
       "      <th>2</th>\n",
       "      <td>2019-08-03</td>\n",
       "      <td>A</td>\n",
       "      <td>507</td>\n",
       "    </tr>\n",
       "    <tr>\n",
       "      <th>3</th>\n",
       "      <td>2019-08-04</td>\n",
       "      <td>A</td>\n",
       "      <td>717</td>\n",
       "    </tr>\n",
       "    <tr>\n",
       "      <th>4</th>\n",
       "      <td>2019-08-05</td>\n",
       "      <td>A</td>\n",
       "      <td>756</td>\n",
       "    </tr>\n",
       "  </tbody>\n",
       "</table>\n",
       "</div>"
      ],
      "text/plain": [
       "         date group  visitors\n",
       "0  2019-08-01     A       719\n",
       "1  2019-08-02     A       619\n",
       "2  2019-08-03     A       507\n",
       "3  2019-08-04     A       717\n",
       "4  2019-08-05     A       756"
      ]
     },
     "execution_count": 5,
     "metadata": {},
     "output_type": "execute_result"
    }
   ],
   "source": [
    "visitors.head()"
   ]
  },
  {
   "cell_type": "code",
   "execution_count": 6,
   "metadata": {},
   "outputs": [
    {
     "name": "stdout",
     "output_type": "stream",
     "text": [
      "<class 'pandas.core.frame.DataFrame'>\n",
      "RangeIndex: 9 entries, 0 to 8\n",
      "Data columns (total 5 columns):\n",
      " #   Column      Non-Null Count  Dtype \n",
      "---  ------      --------------  ----- \n",
      " 0   Hypothesis  9 non-null      object\n",
      " 1   Reach       9 non-null      int64 \n",
      " 2   Impact      9 non-null      int64 \n",
      " 3   Confidence  9 non-null      int64 \n",
      " 4   Efforts     9 non-null      int64 \n",
      "dtypes: int64(4), object(1)\n",
      "memory usage: 488.0+ bytes\n"
     ]
    }
   ],
   "source": [
    "hypothesis.info()"
   ]
  },
  {
   "cell_type": "code",
   "execution_count": 7,
   "metadata": {},
   "outputs": [
    {
     "name": "stdout",
     "output_type": "stream",
     "text": [
      "<class 'pandas.core.frame.DataFrame'>\n",
      "RangeIndex: 1197 entries, 0 to 1196\n",
      "Data columns (total 5 columns):\n",
      " #   Column         Non-Null Count  Dtype \n",
      "---  ------         --------------  ----- \n",
      " 0   transactionId  1197 non-null   int64 \n",
      " 1   visitorId      1197 non-null   int64 \n",
      " 2   date           1197 non-null   object\n",
      " 3   revenue        1197 non-null   int64 \n",
      " 4   group          1197 non-null   object\n",
      "dtypes: int64(3), object(2)\n",
      "memory usage: 46.9+ KB\n"
     ]
    }
   ],
   "source": [
    "orders.info()"
   ]
  },
  {
   "cell_type": "code",
   "execution_count": 8,
   "metadata": {},
   "outputs": [
    {
     "name": "stdout",
     "output_type": "stream",
     "text": [
      "<class 'pandas.core.frame.DataFrame'>\n",
      "RangeIndex: 62 entries, 0 to 61\n",
      "Data columns (total 3 columns):\n",
      " #   Column    Non-Null Count  Dtype \n",
      "---  ------    --------------  ----- \n",
      " 0   date      62 non-null     object\n",
      " 1   group     62 non-null     object\n",
      " 2   visitors  62 non-null     int64 \n",
      "dtypes: int64(1), object(2)\n",
      "memory usage: 1.6+ KB\n"
     ]
    }
   ],
   "source": [
    "visitors.info()"
   ]
  },
  {
   "cell_type": "markdown",
   "metadata": {},
   "source": [
    "Переименуем столбцы hypothesis и orders в соответствии со snake_case, уберем заглавные буквы"
   ]
  },
  {
   "cell_type": "code",
   "execution_count": 9,
   "metadata": {},
   "outputs": [],
   "source": [
    "hypothesis.columns = [x.lower() for x in hypothesis.columns]\n",
    "orders.columns = [x.lower() for x in orders.columns]"
   ]
  },
  {
   "cell_type": "markdown",
   "metadata": {},
   "source": [
    "Изменим тип данных - в датасете orders для столбца date, в датасете visitors для столбца date - c типа object к типу datetime"
   ]
  },
  {
   "cell_type": "code",
   "execution_count": 10,
   "metadata": {},
   "outputs": [],
   "source": [
    "visitors['date'] = pd.to_datetime(visitors['date'], format='%Y-%m-%d')\n",
    "orders['date'] = pd.to_datetime(orders['date'], format='%Y-%m-%d')"
   ]
  },
  {
   "cell_type": "markdown",
   "metadata": {},
   "source": [
    "Проверим наличие явных дубликатов"
   ]
  },
  {
   "cell_type": "code",
   "execution_count": 11,
   "metadata": {},
   "outputs": [
    {
     "name": "stdout",
     "output_type": "stream",
     "text": [
      "0\n",
      "0\n"
     ]
    }
   ],
   "source": [
    "for table in [visitors, orders]:\n",
    "    print(table.duplicated().sum())"
   ]
  },
  {
   "cell_type": "markdown",
   "metadata": {},
   "source": [
    "Проверим наличие пропусков в данных"
   ]
  },
  {
   "cell_type": "code",
   "execution_count": 12,
   "metadata": {},
   "outputs": [
    {
     "data": {
      "text/plain": [
       "date        0\n",
       "group       0\n",
       "visitors    0\n",
       "dtype: int64"
      ]
     },
     "metadata": {},
     "output_type": "display_data"
    },
    {
     "data": {
      "text/plain": [
       "transactionid    0\n",
       "visitorid        0\n",
       "date             0\n",
       "revenue          0\n",
       "group            0\n",
       "dtype: int64"
      ]
     },
     "metadata": {},
     "output_type": "display_data"
    }
   ],
   "source": [
    "for table in [visitors, orders]:\n",
    "    display(table.isna().sum())"
   ]
  },
  {
   "cell_type": "markdown",
   "metadata": {},
   "source": [
    "Дубликатов и пропусков в не выявлено, данные готовы для анализа."
   ]
  },
  {
   "cell_type": "markdown",
   "metadata": {},
   "source": [
    "## Приоретизация гипотез"
   ]
  },
  {
   "cell_type": "markdown",
   "metadata": {},
   "source": [
    "Приоритизировать гипотезы можно различными способами. Разные фреймворки оценки значимости гипотез содержат несколько отличающиеся параметры, которые учитываются в процессе приоритизации гипотез. В данном проекте будут использованы фреймворки ICE и RICE."
   ]
  },
  {
   "cell_type": "markdown",
   "metadata": {},
   "source": [
    "### Применение фреймворка ICE"
   ]
  },
  {
   "cell_type": "markdown",
   "metadata": {},
   "source": [
    "Фреймворк ICE состоит из трех компонент:\n",
    "\n",
    "__ICE = Impact (влияние на пользователей) * Confidence (уверенность в гипотезе) * Ease (простота проверки гипотезы)__\n",
    "\n",
    "или, через затраты,\n",
    "\n",
    "__ICE = Impact (влияние на пользователей) * Confidence (уверенность в гипотезе) / Efforts (затраты ресурсов на проверку гипотезы)__\n",
    "\n",
    "Рассчитаем параметр ICE для каждой из представленных гипотез:"
   ]
  },
  {
   "cell_type": "code",
   "execution_count": 13,
   "metadata": {},
   "outputs": [
    {
     "data": {
      "text/html": [
       "<div>\n",
       "<style scoped>\n",
       "    .dataframe tbody tr th:only-of-type {\n",
       "        vertical-align: middle;\n",
       "    }\n",
       "\n",
       "    .dataframe tbody tr th {\n",
       "        vertical-align: top;\n",
       "    }\n",
       "\n",
       "    .dataframe thead th {\n",
       "        text-align: right;\n",
       "    }\n",
       "</style>\n",
       "<table border=\"1\" class=\"dataframe\">\n",
       "  <thead>\n",
       "    <tr style=\"text-align: right;\">\n",
       "      <th></th>\n",
       "      <th>hypothesis</th>\n",
       "      <th>reach</th>\n",
       "      <th>impact</th>\n",
       "      <th>confidence</th>\n",
       "      <th>efforts</th>\n",
       "      <th>ICE</th>\n",
       "    </tr>\n",
       "  </thead>\n",
       "  <tbody>\n",
       "    <tr>\n",
       "      <th>8</th>\n",
       "      <td>Запустить акцию, дающую скидку на товар в день рождения</td>\n",
       "      <td>1</td>\n",
       "      <td>9</td>\n",
       "      <td>9</td>\n",
       "      <td>5</td>\n",
       "      <td>16.20</td>\n",
       "    </tr>\n",
       "    <tr>\n",
       "      <th>0</th>\n",
       "      <td>Добавить два новых канала привлечения трафика, что позволит привлекать на 30% больше пользователей</td>\n",
       "      <td>3</td>\n",
       "      <td>10</td>\n",
       "      <td>8</td>\n",
       "      <td>6</td>\n",
       "      <td>13.33</td>\n",
       "    </tr>\n",
       "    <tr>\n",
       "      <th>7</th>\n",
       "      <td>Добавить форму подписки на все основные страницы, чтобы собрать базу клиентов для email-рассылок</td>\n",
       "      <td>10</td>\n",
       "      <td>7</td>\n",
       "      <td>8</td>\n",
       "      <td>5</td>\n",
       "      <td>11.20</td>\n",
       "    </tr>\n",
       "    <tr>\n",
       "      <th>6</th>\n",
       "      <td>Показать на главной странице баннеры с актуальными акциями и распродажами, чтобы увеличить конверсию</td>\n",
       "      <td>5</td>\n",
       "      <td>3</td>\n",
       "      <td>8</td>\n",
       "      <td>3</td>\n",
       "      <td>8.00</td>\n",
       "    </tr>\n",
       "    <tr>\n",
       "      <th>2</th>\n",
       "      <td>Добавить блоки рекомендаций товаров на сайт интернет магазина, чтобы повысить конверсию и средний чек заказа</td>\n",
       "      <td>8</td>\n",
       "      <td>3</td>\n",
       "      <td>7</td>\n",
       "      <td>3</td>\n",
       "      <td>7.00</td>\n",
       "    </tr>\n",
       "    <tr>\n",
       "      <th>1</th>\n",
       "      <td>Запустить собственную службу доставки, что сократит срок доставки заказов</td>\n",
       "      <td>2</td>\n",
       "      <td>5</td>\n",
       "      <td>4</td>\n",
       "      <td>10</td>\n",
       "      <td>2.00</td>\n",
       "    </tr>\n",
       "    <tr>\n",
       "      <th>5</th>\n",
       "      <td>Добавить страницу отзывов клиентов о магазине, что позволит увеличить количество заказов</td>\n",
       "      <td>3</td>\n",
       "      <td>2</td>\n",
       "      <td>2</td>\n",
       "      <td>3</td>\n",
       "      <td>1.33</td>\n",
       "    </tr>\n",
       "    <tr>\n",
       "      <th>3</th>\n",
       "      <td>Изменить структура категорий, что увеличит конверсию, т.к. пользователи быстрее найдут нужный товар</td>\n",
       "      <td>8</td>\n",
       "      <td>3</td>\n",
       "      <td>3</td>\n",
       "      <td>8</td>\n",
       "      <td>1.12</td>\n",
       "    </tr>\n",
       "    <tr>\n",
       "      <th>4</th>\n",
       "      <td>Изменить цвет фона главной страницы, чтобы увеличить вовлеченность пользователей</td>\n",
       "      <td>3</td>\n",
       "      <td>1</td>\n",
       "      <td>1</td>\n",
       "      <td>1</td>\n",
       "      <td>1.00</td>\n",
       "    </tr>\n",
       "  </tbody>\n",
       "</table>\n",
       "</div>"
      ],
      "text/plain": [
       "                                                                                                     hypothesis  \\\n",
       "8                                                       Запустить акцию, дающую скидку на товар в день рождения   \n",
       "0            Добавить два новых канала привлечения трафика, что позволит привлекать на 30% больше пользователей   \n",
       "7              Добавить форму подписки на все основные страницы, чтобы собрать базу клиентов для email-рассылок   \n",
       "6          Показать на главной странице баннеры с актуальными акциями и распродажами, чтобы увеличить конверсию   \n",
       "2  Добавить блоки рекомендаций товаров на сайт интернет магазина, чтобы повысить конверсию и средний чек заказа   \n",
       "1                                     Запустить собственную службу доставки, что сократит срок доставки заказов   \n",
       "5                      Добавить страницу отзывов клиентов о магазине, что позволит увеличить количество заказов   \n",
       "3           Изменить структура категорий, что увеличит конверсию, т.к. пользователи быстрее найдут нужный товар   \n",
       "4                              Изменить цвет фона главной страницы, чтобы увеличить вовлеченность пользователей   \n",
       "\n",
       "   reach  impact  confidence  efforts    ICE  \n",
       "8      1       9           9        5  16.20  \n",
       "0      3      10           8        6  13.33  \n",
       "7     10       7           8        5  11.20  \n",
       "6      5       3           8        3   8.00  \n",
       "2      8       3           7        3   7.00  \n",
       "1      2       5           4       10   2.00  \n",
       "5      3       2           2        3   1.33  \n",
       "3      8       3           3        8   1.12  \n",
       "4      3       1           1        1   1.00  "
      ]
     },
     "execution_count": 13,
     "metadata": {},
     "output_type": "execute_result"
    }
   ],
   "source": [
    "hypothesis['ICE'] = (hypothesis['impact'] * hypothesis['confidence'] / hypothesis['efforts']).round(2)\n",
    "hypothesis.sort_values(by='ICE', ascending=False)"
   ]
  },
  {
   "cell_type": "markdown",
   "metadata": {},
   "source": [
    "__Вывод:__\n",
    "Согласно оценке по методу ICE, первой следует проверить гипотезу с индексом 8, предлагающую запустить акцию с предложением скидки на товар в день рождения(ICE равен 16,20). На втором месте гипотеза 0 о добавлении двух новых каналов привлечения трафика (ICE = 13,33). На третьем месте перспективных гипотез предложение 7 - добавить форму подписки на основные страницы магазина (ICE = 11,20). Все лидеры имеют среднюю оценку по затратам усилий на их проверку (efforts = 5-6), высокие показатели влияния на пользователей (impact = 7-10), а также уверенности в достоверности гипотез (сonfidence = 8-9)."
   ]
  },
  {
   "cell_type": "markdown",
   "metadata": {},
   "source": [
    "### Применение фреймворка RICE"
   ]
  },
  {
   "cell_type": "markdown",
   "metadata": {},
   "source": [
    "Фреймворк RICE состоит из четырёх компонент:\n",
    "\n",
    "__RICE = (Reach (скольких пользователей затронет изменение) * Impact (влияние на пользователей) * Confidence (уверенность в гипотезе)) / Efforts (сколько стоит протестировать гипотезу)__"
   ]
  },
  {
   "cell_type": "code",
   "execution_count": 14,
   "metadata": {},
   "outputs": [
    {
     "data": {
      "text/html": [
       "<div>\n",
       "<style scoped>\n",
       "    .dataframe tbody tr th:only-of-type {\n",
       "        vertical-align: middle;\n",
       "    }\n",
       "\n",
       "    .dataframe tbody tr th {\n",
       "        vertical-align: top;\n",
       "    }\n",
       "\n",
       "    .dataframe thead th {\n",
       "        text-align: right;\n",
       "    }\n",
       "</style>\n",
       "<table border=\"1\" class=\"dataframe\">\n",
       "  <thead>\n",
       "    <tr style=\"text-align: right;\">\n",
       "      <th></th>\n",
       "      <th>hypothesis</th>\n",
       "      <th>reach</th>\n",
       "      <th>impact</th>\n",
       "      <th>confidence</th>\n",
       "      <th>efforts</th>\n",
       "      <th>ICE</th>\n",
       "      <th>RICE</th>\n",
       "    </tr>\n",
       "  </thead>\n",
       "  <tbody>\n",
       "    <tr>\n",
       "      <th>7</th>\n",
       "      <td>Добавить форму подписки на все основные страницы, чтобы собрать базу клиентов для email-рассылок</td>\n",
       "      <td>10</td>\n",
       "      <td>7</td>\n",
       "      <td>8</td>\n",
       "      <td>5</td>\n",
       "      <td>11.20</td>\n",
       "      <td>112.0</td>\n",
       "    </tr>\n",
       "    <tr>\n",
       "      <th>2</th>\n",
       "      <td>Добавить блоки рекомендаций товаров на сайт интернет магазина, чтобы повысить конверсию и средний чек заказа</td>\n",
       "      <td>8</td>\n",
       "      <td>3</td>\n",
       "      <td>7</td>\n",
       "      <td>3</td>\n",
       "      <td>7.00</td>\n",
       "      <td>56.0</td>\n",
       "    </tr>\n",
       "    <tr>\n",
       "      <th>0</th>\n",
       "      <td>Добавить два новых канала привлечения трафика, что позволит привлекать на 30% больше пользователей</td>\n",
       "      <td>3</td>\n",
       "      <td>10</td>\n",
       "      <td>8</td>\n",
       "      <td>6</td>\n",
       "      <td>13.33</td>\n",
       "      <td>40.0</td>\n",
       "    </tr>\n",
       "    <tr>\n",
       "      <th>6</th>\n",
       "      <td>Показать на главной странице баннеры с актуальными акциями и распродажами, чтобы увеличить конверсию</td>\n",
       "      <td>5</td>\n",
       "      <td>3</td>\n",
       "      <td>8</td>\n",
       "      <td>3</td>\n",
       "      <td>8.00</td>\n",
       "      <td>40.0</td>\n",
       "    </tr>\n",
       "    <tr>\n",
       "      <th>8</th>\n",
       "      <td>Запустить акцию, дающую скидку на товар в день рождения</td>\n",
       "      <td>1</td>\n",
       "      <td>9</td>\n",
       "      <td>9</td>\n",
       "      <td>5</td>\n",
       "      <td>16.20</td>\n",
       "      <td>16.2</td>\n",
       "    </tr>\n",
       "    <tr>\n",
       "      <th>3</th>\n",
       "      <td>Изменить структура категорий, что увеличит конверсию, т.к. пользователи быстрее найдут нужный товар</td>\n",
       "      <td>8</td>\n",
       "      <td>3</td>\n",
       "      <td>3</td>\n",
       "      <td>8</td>\n",
       "      <td>1.12</td>\n",
       "      <td>9.0</td>\n",
       "    </tr>\n",
       "    <tr>\n",
       "      <th>1</th>\n",
       "      <td>Запустить собственную службу доставки, что сократит срок доставки заказов</td>\n",
       "      <td>2</td>\n",
       "      <td>5</td>\n",
       "      <td>4</td>\n",
       "      <td>10</td>\n",
       "      <td>2.00</td>\n",
       "      <td>4.0</td>\n",
       "    </tr>\n",
       "    <tr>\n",
       "      <th>5</th>\n",
       "      <td>Добавить страницу отзывов клиентов о магазине, что позволит увеличить количество заказов</td>\n",
       "      <td>3</td>\n",
       "      <td>2</td>\n",
       "      <td>2</td>\n",
       "      <td>3</td>\n",
       "      <td>1.33</td>\n",
       "      <td>4.0</td>\n",
       "    </tr>\n",
       "    <tr>\n",
       "      <th>4</th>\n",
       "      <td>Изменить цвет фона главной страницы, чтобы увеличить вовлеченность пользователей</td>\n",
       "      <td>3</td>\n",
       "      <td>1</td>\n",
       "      <td>1</td>\n",
       "      <td>1</td>\n",
       "      <td>1.00</td>\n",
       "      <td>3.0</td>\n",
       "    </tr>\n",
       "  </tbody>\n",
       "</table>\n",
       "</div>"
      ],
      "text/plain": [
       "                                                                                                     hypothesis  \\\n",
       "7              Добавить форму подписки на все основные страницы, чтобы собрать базу клиентов для email-рассылок   \n",
       "2  Добавить блоки рекомендаций товаров на сайт интернет магазина, чтобы повысить конверсию и средний чек заказа   \n",
       "0            Добавить два новых канала привлечения трафика, что позволит привлекать на 30% больше пользователей   \n",
       "6          Показать на главной странице баннеры с актуальными акциями и распродажами, чтобы увеличить конверсию   \n",
       "8                                                       Запустить акцию, дающую скидку на товар в день рождения   \n",
       "3           Изменить структура категорий, что увеличит конверсию, т.к. пользователи быстрее найдут нужный товар   \n",
       "1                                     Запустить собственную службу доставки, что сократит срок доставки заказов   \n",
       "5                      Добавить страницу отзывов клиентов о магазине, что позволит увеличить количество заказов   \n",
       "4                              Изменить цвет фона главной страницы, чтобы увеличить вовлеченность пользователей   \n",
       "\n",
       "   reach  impact  confidence  efforts    ICE   RICE  \n",
       "7     10       7           8        5  11.20  112.0  \n",
       "2      8       3           7        3   7.00   56.0  \n",
       "0      3      10           8        6  13.33   40.0  \n",
       "6      5       3           8        3   8.00   40.0  \n",
       "8      1       9           9        5  16.20   16.2  \n",
       "3      8       3           3        8   1.12    9.0  \n",
       "1      2       5           4       10   2.00    4.0  \n",
       "5      3       2           2        3   1.33    4.0  \n",
       "4      3       1           1        1   1.00    3.0  "
      ]
     },
     "execution_count": 14,
     "metadata": {},
     "output_type": "execute_result"
    }
   ],
   "source": [
    "hypothesis['RICE'] = hypothesis['reach'] * hypothesis['impact']\\\n",
    "    * hypothesis['confidence'] / hypothesis['efforts'].round(2)\n",
    "hypothesis.sort_values(by='RICE', ascending=False)"
   ]
  },
  {
   "cell_type": "markdown",
   "metadata": {},
   "source": [
    "__Вывод:__\n",
    "Согласно оценке по методу RICE, первой следует проверить гипотезу с индексом 7, предлагающую добваить форму подписки на все основные страницы для сбора базы данных для рассылок(RICE = 112,0). На втором месте гипотеза 2 о добавлении блоков рекомендаций товаров на сайт интернет-магазина (RICE = 56,0). Третье место делят гипотезы 0 (добавить два новых канала привлечения трафика) и 6 (показать на главной странице баннеры с актуальными распродажами и акциями) с равным значением (RICE = 40,0). Все лидеры имеют оценку по затратам усилий на их проверку от низкой до средней (efforts = 3-6), показатели влияния на пользователей от низкого до макисмального (impact = 3-10), высокую уверенности в достоверности гипотез (сonfidence = 7-8)."
   ]
  },
  {
   "cell_type": "markdown",
   "metadata": {},
   "source": [
    "### Изменение приоретизации после применения RICE после ICE"
   ]
  },
  {
   "cell_type": "markdown",
   "metadata": {},
   "source": [
    "Приоритизация предлагаемых гипотез производилась по двум фреймворкам: ICE и RICE. \n",
    "\n",
    "Согласно оценке по методу ICE, первой следует проверить гипотезу с индексом 8, предлагающую запустить акцию с предложением скидки на товар в день рождения(ICE равен 16,20). На втором месте гипотеза 0 о добавлении двух новых каналов привлечения трафика (ICE = 13,33). На третьем месте перспективных гипотез предложение 7 - добавить форму подписки на основные страницы магазина (ICE = 11,20).\n",
    "\n",
    "Согласно оценке по методу RICE, первой следует проверить гипотезу с индексом 7, предлагающую добваить форму подписки на все основные страницы для сбора базы данных для рассылок(RICE = 112,0). На втором месте гипотеза 2 о добавлении блоков рекомендаций товаров на сайт интернет-магазина (RICE = 56,0). Третье место делят гипотезы 0 (добавить два новых канала привлечения трафика) и 6 (показать на главной странице баннеры с актуальными распродажами и акциями) с равным значением (RICE = 40,0).\n",
    "\n",
    "С учетом охвата доли пользователей изменениями той или иной гипотезы (параметр reach), порядок приоритизации гипотез поменятся. По методу RICE, первой следует проверить гипотезу с индексом 7, предлагающую добваить форму подписки на все основные страницы для сбора базы данных для рассылок(RICE = 112,0). Это изменение каснется всех пользователей (reach = 10). Гипотеза 2 о добавлении блоков рекомендаций товаров на сайт интернет-магазина (RICE = 56,0) затронет существенную часть пользователей (оценка 8 из 10), но затраты на проверку оценены в 3 балла из 10. Третье место делят гипотезы 0 (добавить два новых канала привлечения трафика) и 6 (показать на главной странице баннеры с актуальными распродажами и акциями) с равным значением (RICE = 40,0). Охват аудитории для гипотезы 0 составит 3 из 10, треть всех пользователей. Охват аудитории для гипотезы 6 составит 5 из 10, половину пользователей. Влияние на пользователей оценивается в 10 для гипотезы 0 и в 3 для гипотезы 6. \n",
    "\n",
    "Несмотря на отличия, топ-5 гипотез по обоим фреймворкам совпадает:\n",
    "\n",
    "    7 - Добавить форму подписки на все основные страницы, чтобы собрать базу клиентов для email-рассылок\n",
    "    2 - Добавить блоки рекомендаций товаров на сайт интернет магазина, чтобы повысить конверсию и средний чек заказа\n",
    "    0 - Добавить два новых канала привлечения трафика, что позволит привлекать на 30% больше пользователей\t\n",
    "    6 - Показать на главной странице баннеры с актуальными акциями и распродажами, чтобы увеличить конверсию\t\n",
    "    8 - Запустить акцию, дающую скидку на товар в день рождения\n"
   ]
  },
  {
   "cell_type": "markdown",
   "metadata": {},
   "source": [
    "## Анализ А/B-теста"
   ]
  },
  {
   "cell_type": "markdown",
   "metadata": {},
   "source": [
    "Проведен A/B-тест, получены результаты, которые описаны в файлах orders.csv и visitors.csv."
   ]
  },
  {
   "cell_type": "markdown",
   "metadata": {},
   "source": [
    "Сделаем срезы данных, чтобы отдельно увидеть группы A и B. Соединим полученные данные в единую таблицу."
   ]
  },
  {
   "cell_type": "code",
   "execution_count": 15,
   "metadata": {
    "scrolled": true
   },
   "outputs": [
    {
     "data": {
      "text/html": [
       "<div>\n",
       "<style scoped>\n",
       "    .dataframe tbody tr th:only-of-type {\n",
       "        vertical-align: middle;\n",
       "    }\n",
       "\n",
       "    .dataframe tbody tr th {\n",
       "        vertical-align: top;\n",
       "    }\n",
       "\n",
       "    .dataframe thead th {\n",
       "        text-align: right;\n",
       "    }\n",
       "</style>\n",
       "<table border=\"1\" class=\"dataframe\">\n",
       "  <thead>\n",
       "    <tr style=\"text-align: right;\">\n",
       "      <th></th>\n",
       "      <th>date</th>\n",
       "      <th>visitors_A</th>\n",
       "      <th>visitors_B</th>\n",
       "    </tr>\n",
       "  </thead>\n",
       "  <tbody>\n",
       "    <tr>\n",
       "      <th>0</th>\n",
       "      <td>2019-08-01</td>\n",
       "      <td>719</td>\n",
       "      <td>713</td>\n",
       "    </tr>\n",
       "    <tr>\n",
       "      <th>1</th>\n",
       "      <td>2019-08-02</td>\n",
       "      <td>619</td>\n",
       "      <td>581</td>\n",
       "    </tr>\n",
       "    <tr>\n",
       "      <th>2</th>\n",
       "      <td>2019-08-03</td>\n",
       "      <td>507</td>\n",
       "      <td>509</td>\n",
       "    </tr>\n",
       "    <tr>\n",
       "      <th>3</th>\n",
       "      <td>2019-08-04</td>\n",
       "      <td>717</td>\n",
       "      <td>770</td>\n",
       "    </tr>\n",
       "    <tr>\n",
       "      <th>4</th>\n",
       "      <td>2019-08-05</td>\n",
       "      <td>756</td>\n",
       "      <td>707</td>\n",
       "    </tr>\n",
       "    <tr>\n",
       "      <th>5</th>\n",
       "      <td>2019-08-06</td>\n",
       "      <td>667</td>\n",
       "      <td>655</td>\n",
       "    </tr>\n",
       "    <tr>\n",
       "      <th>6</th>\n",
       "      <td>2019-08-07</td>\n",
       "      <td>644</td>\n",
       "      <td>709</td>\n",
       "    </tr>\n",
       "    <tr>\n",
       "      <th>7</th>\n",
       "      <td>2019-08-08</td>\n",
       "      <td>610</td>\n",
       "      <td>654</td>\n",
       "    </tr>\n",
       "    <tr>\n",
       "      <th>8</th>\n",
       "      <td>2019-08-09</td>\n",
       "      <td>617</td>\n",
       "      <td>610</td>\n",
       "    </tr>\n",
       "    <tr>\n",
       "      <th>9</th>\n",
       "      <td>2019-08-10</td>\n",
       "      <td>406</td>\n",
       "      <td>369</td>\n",
       "    </tr>\n",
       "  </tbody>\n",
       "</table>\n",
       "</div>"
      ],
      "text/plain": [
       "        date  visitors_A  visitors_B\n",
       "0 2019-08-01         719         713\n",
       "1 2019-08-02         619         581\n",
       "2 2019-08-03         507         509\n",
       "3 2019-08-04         717         770\n",
       "4 2019-08-05         756         707\n",
       "5 2019-08-06         667         655\n",
       "6 2019-08-07         644         709\n",
       "7 2019-08-08         610         654\n",
       "8 2019-08-09         617         610\n",
       "9 2019-08-10         406         369"
      ]
     },
     "execution_count": 15,
     "metadata": {},
     "output_type": "execute_result"
    }
   ],
   "source": [
    "visitors_A = visitors.loc[visitors['group'] == 'A'].drop('group', axis=1)\n",
    "visitors_B = visitors.loc[visitors['group'] == 'B'].drop('group', axis=1)\n",
    "visitors_grouped = visitors_A.merge(visitors_B, on='date', how='outer')\n",
    "visitors_grouped.columns = ['date', 'visitors_A', 'visitors_B']\n",
    "visitors_grouped.head(10)"
   ]
  },
  {
   "cell_type": "code",
   "execution_count": 16,
   "metadata": {},
   "outputs": [
    {
     "data": {
      "text/html": [
       "<div>\n",
       "<style scoped>\n",
       "    .dataframe tbody tr th:only-of-type {\n",
       "        vertical-align: middle;\n",
       "    }\n",
       "\n",
       "    .dataframe tbody tr th {\n",
       "        vertical-align: top;\n",
       "    }\n",
       "\n",
       "    .dataframe thead th {\n",
       "        text-align: right;\n",
       "    }\n",
       "</style>\n",
       "<table border=\"1\" class=\"dataframe\">\n",
       "  <thead>\n",
       "    <tr style=\"text-align: right;\">\n",
       "      <th></th>\n",
       "      <th>visitors_A</th>\n",
       "      <th>visitors_B</th>\n",
       "    </tr>\n",
       "  </thead>\n",
       "  <tbody>\n",
       "    <tr>\n",
       "      <th>count</th>\n",
       "      <td>31.000000</td>\n",
       "      <td>31.000000</td>\n",
       "    </tr>\n",
       "    <tr>\n",
       "      <th>mean</th>\n",
       "      <td>604.387097</td>\n",
       "      <td>610.193548</td>\n",
       "    </tr>\n",
       "    <tr>\n",
       "      <th>std</th>\n",
       "      <td>112.396227</td>\n",
       "      <td>118.156230</td>\n",
       "    </tr>\n",
       "    <tr>\n",
       "      <th>min</th>\n",
       "      <td>361.000000</td>\n",
       "      <td>369.000000</td>\n",
       "    </tr>\n",
       "    <tr>\n",
       "      <th>25%</th>\n",
       "      <td>541.000000</td>\n",
       "      <td>537.000000</td>\n",
       "    </tr>\n",
       "    <tr>\n",
       "      <th>50%</th>\n",
       "      <td>619.000000</td>\n",
       "      <td>654.000000</td>\n",
       "    </tr>\n",
       "    <tr>\n",
       "      <th>75%</th>\n",
       "      <td>705.000000</td>\n",
       "      <td>711.000000</td>\n",
       "    </tr>\n",
       "    <tr>\n",
       "      <th>max</th>\n",
       "      <td>756.000000</td>\n",
       "      <td>770.000000</td>\n",
       "    </tr>\n",
       "  </tbody>\n",
       "</table>\n",
       "</div>"
      ],
      "text/plain": [
       "       visitors_A  visitors_B\n",
       "count   31.000000   31.000000\n",
       "mean   604.387097  610.193548\n",
       "std    112.396227  118.156230\n",
       "min    361.000000  369.000000\n",
       "25%    541.000000  537.000000\n",
       "50%    619.000000  654.000000\n",
       "75%    705.000000  711.000000\n",
       "max    756.000000  770.000000"
      ]
     },
     "execution_count": 16,
     "metadata": {},
     "output_type": "execute_result"
    }
   ],
   "source": [
    "visitors_grouped.describe()"
   ]
  },
  {
   "cell_type": "code",
   "execution_count": 17,
   "metadata": {
    "scrolled": false
   },
   "outputs": [
    {
     "data": {
      "image/png": "[encoded data removed]",
      "text/plain": [
       "<Figure size 1152x648 with 1 Axes>"
      ]
     },
     "metadata": {
      "needs_background": "light"
     },
     "output_type": "display_data"
    }
   ],
   "source": [
    "visitors_grouped.plot(x='date', y=['visitors_A', 'visitors_B'], kind='bar', \n",
    "                                            figsize=(16,9), grid=True, fontsize=13)\n",
    "\n",
    "plt.title('Количество уникальных пользователей в день по группам',\n",
    "          fontsize=18)\n",
    "plt.ylabel('Количество пользователей', fontsize=15)\n",
    "plt.xlabel('Даты', fontsize=15)\n",
    "\n",
    "plt.xticks(rotation=90)\n",
    "plt.legend(fontsize=15)\n",
    "plt.show()"
   ]
  },
  {
   "cell_type": "markdown",
   "metadata": {},
   "source": [
    "Активность пользователей по дням изменялась в обеих группах теста. Общие колебания количества пользователей в разные дни связаны, вероятно, с поведением пользователей в будни и в выходные дни. Среднее число посетителей сайта в каждой группе теста составляет порядка 600 пользователей в день."
   ]
  },
  {
   "cell_type": "markdown",
   "metadata": {},
   "source": [
    "### График кумулятивной выручки по группам"
   ]
  },
  {
   "cell_type": "markdown",
   "metadata": {},
   "source": [
    "Группируем данные по заказам и группам:"
   ]
  },
  {
   "cell_type": "code",
   "execution_count": 18,
   "metadata": {},
   "outputs": [
    {
     "data": {
      "text/html": [
       "<div>\n",
       "<style scoped>\n",
       "    .dataframe tbody tr th:only-of-type {\n",
       "        vertical-align: middle;\n",
       "    }\n",
       "\n",
       "    .dataframe tbody tr th {\n",
       "        vertical-align: top;\n",
       "    }\n",
       "\n",
       "    .dataframe thead th {\n",
       "        text-align: right;\n",
       "    }\n",
       "</style>\n",
       "<table border=\"1\" class=\"dataframe\">\n",
       "  <thead>\n",
       "    <tr style=\"text-align: right;\">\n",
       "      <th></th>\n",
       "      <th>date</th>\n",
       "      <th>group</th>\n",
       "      <th>orders</th>\n",
       "      <th>buyers</th>\n",
       "      <th>revenue</th>\n",
       "    </tr>\n",
       "  </thead>\n",
       "  <tbody>\n",
       "    <tr>\n",
       "      <th>55</th>\n",
       "      <td>2019-08-01</td>\n",
       "      <td>A</td>\n",
       "      <td>24</td>\n",
       "      <td>20</td>\n",
       "      <td>148579</td>\n",
       "    </tr>\n",
       "    <tr>\n",
       "      <th>66</th>\n",
       "      <td>2019-08-01</td>\n",
       "      <td>B</td>\n",
       "      <td>21</td>\n",
       "      <td>20</td>\n",
       "      <td>101217</td>\n",
       "    </tr>\n",
       "    <tr>\n",
       "      <th>175</th>\n",
       "      <td>2019-08-02</td>\n",
       "      <td>A</td>\n",
       "      <td>44</td>\n",
       "      <td>38</td>\n",
       "      <td>242401</td>\n",
       "    </tr>\n",
       "    <tr>\n",
       "      <th>173</th>\n",
       "      <td>2019-08-02</td>\n",
       "      <td>B</td>\n",
       "      <td>45</td>\n",
       "      <td>43</td>\n",
       "      <td>266748</td>\n",
       "    </tr>\n",
       "    <tr>\n",
       "      <th>291</th>\n",
       "      <td>2019-08-03</td>\n",
       "      <td>A</td>\n",
       "      <td>68</td>\n",
       "      <td>62</td>\n",
       "      <td>354874</td>\n",
       "    </tr>\n",
       "    <tr>\n",
       "      <th>...</th>\n",
       "      <td>...</td>\n",
       "      <td>...</td>\n",
       "      <td>...</td>\n",
       "      <td>...</td>\n",
       "      <td>...</td>\n",
       "    </tr>\n",
       "    <tr>\n",
       "      <th>496</th>\n",
       "      <td>2019-08-29</td>\n",
       "      <td>B</td>\n",
       "      <td>596</td>\n",
       "      <td>544</td>\n",
       "      <td>5559398</td>\n",
       "    </tr>\n",
       "    <tr>\n",
       "      <th>730</th>\n",
       "      <td>2019-08-30</td>\n",
       "      <td>A</td>\n",
       "      <td>545</td>\n",
       "      <td>493</td>\n",
       "      <td>4022970</td>\n",
       "    </tr>\n",
       "    <tr>\n",
       "      <th>690</th>\n",
       "      <td>2019-08-30</td>\n",
       "      <td>B</td>\n",
       "      <td>620</td>\n",
       "      <td>567</td>\n",
       "      <td>5774631</td>\n",
       "    </tr>\n",
       "    <tr>\n",
       "      <th>958</th>\n",
       "      <td>2019-08-31</td>\n",
       "      <td>A</td>\n",
       "      <td>557</td>\n",
       "      <td>503</td>\n",
       "      <td>4084803</td>\n",
       "    </tr>\n",
       "    <tr>\n",
       "      <th>930</th>\n",
       "      <td>2019-08-31</td>\n",
       "      <td>B</td>\n",
       "      <td>640</td>\n",
       "      <td>586</td>\n",
       "      <td>5907760</td>\n",
       "    </tr>\n",
       "  </tbody>\n",
       "</table>\n",
       "<p>62 rows × 5 columns</p>\n",
       "</div>"
      ],
      "text/plain": [
       "          date group  orders  buyers  revenue\n",
       "55  2019-08-01     A      24      20   148579\n",
       "66  2019-08-01     B      21      20   101217\n",
       "175 2019-08-02     A      44      38   242401\n",
       "173 2019-08-02     B      45      43   266748\n",
       "291 2019-08-03     A      68      62   354874\n",
       "..         ...   ...     ...     ...      ...\n",
       "496 2019-08-29     B     596     544  5559398\n",
       "730 2019-08-30     A     545     493  4022970\n",
       "690 2019-08-30     B     620     567  5774631\n",
       "958 2019-08-31     A     557     503  4084803\n",
       "930 2019-08-31     B     640     586  5907760\n",
       "\n",
       "[62 rows x 5 columns]"
      ]
     },
     "execution_count": 18,
     "metadata": {},
     "output_type": "execute_result"
    }
   ],
   "source": [
    "date_group = orders[['date','group']].drop_duplicates()\n",
    "\n",
    "orders_aggregated = date_group.apply(lambda x: \n",
    "                                     orders[np.logical_and(orders['date'] <= x['date'], \n",
    "                                                           orders['group'] == x['group'])\n",
    "                                           ].agg({\n",
    "                                         'date' : 'max', \n",
    "                                         'group' : 'max', \n",
    "                                         'transactionid' : pd.Series.nunique, \n",
    "                                         'visitorid' : pd.Series.nunique, \n",
    "                                         'revenue' : 'sum'}), \n",
    "                                     axis=1).sort_values(by=['date','group'])\n",
    "\n",
    "orders_aggregated.columns = ['date', 'group', 'orders', 'buyers', 'revenue']\n",
    "orders_aggregated"
   ]
  },
  {
   "cell_type": "markdown",
   "metadata": {},
   "source": [
    "Делаем срезы данных по группам и строим график."
   ]
  },
  {
   "cell_type": "code",
   "execution_count": 19,
   "metadata": {},
   "outputs": [
    {
     "data": {
      "image/png": "[encoded data removed]",
      "text/plain": [
       "<Figure size 1152x648 with 1 Axes>"
      ]
     },
     "metadata": {},
     "output_type": "display_data"
    }
   ],
   "source": [
    "cumulative_revenue_A = orders_aggregated[orders_aggregated['group']=='A'][['date','revenue']]\n",
    "cumulative_revenue_B = orders_aggregated[orders_aggregated['group']=='B'][['date','revenue']]\n",
    "\n",
    "plt.style.use('seaborn-darkgrid')\n",
    "plt.figure(figsize=(16,9))\n",
    "\n",
    "plt.plot(cumulative_revenue_A['date'], cumulative_revenue_A['revenue'], label='A')\n",
    "plt.plot(cumulative_revenue_B['date'], cumulative_revenue_B['revenue'], label='B')\n",
    "\n",
    "plt.title('Изменение кумулятивной выручки по группам', fontsize=18)\n",
    "\n",
    "plt.ylabel('Кумулятивная выручка', fontsize=15)\n",
    "plt.xlabel('Даты', fontsize=15)\n",
    "plt.xticks(fontsize=13)\n",
    "plt.yticks(fontsize=13)\n",
    "plt.legend(fontsize=15)\n",
    "plt.show()"
   ]
  },
  {
   "cell_type": "markdown",
   "metadata": {},
   "source": [
    "В начале теста различие в выручке между группами было невелико, но после 18 августа группа B показывает резкий рост кумулятивной выручки. Вероятно наличие выбросов в данных."
   ]
  },
  {
   "cell_type": "markdown",
   "metadata": {},
   "source": [
    "### График кумулятивного среднего чека по группам"
   ]
  },
  {
   "cell_type": "markdown",
   "metadata": {},
   "source": [
    "Группируем аналогичным образом данные по визитам и группам."
   ]
  },
  {
   "cell_type": "code",
   "execution_count": 20,
   "metadata": {},
   "outputs": [
    {
     "data": {
      "text/html": [
       "<div>\n",
       "<style scoped>\n",
       "    .dataframe tbody tr th:only-of-type {\n",
       "        vertical-align: middle;\n",
       "    }\n",
       "\n",
       "    .dataframe tbody tr th {\n",
       "        vertical-align: top;\n",
       "    }\n",
       "\n",
       "    .dataframe thead th {\n",
       "        text-align: right;\n",
       "    }\n",
       "</style>\n",
       "<table border=\"1\" class=\"dataframe\">\n",
       "  <thead>\n",
       "    <tr style=\"text-align: right;\">\n",
       "      <th></th>\n",
       "      <th>date</th>\n",
       "      <th>group</th>\n",
       "      <th>visitors</th>\n",
       "    </tr>\n",
       "  </thead>\n",
       "  <tbody>\n",
       "    <tr>\n",
       "      <th>55</th>\n",
       "      <td>2019-08-01</td>\n",
       "      <td>A</td>\n",
       "      <td>719</td>\n",
       "    </tr>\n",
       "    <tr>\n",
       "      <th>66</th>\n",
       "      <td>2019-08-01</td>\n",
       "      <td>B</td>\n",
       "      <td>713</td>\n",
       "    </tr>\n",
       "    <tr>\n",
       "      <th>175</th>\n",
       "      <td>2019-08-02</td>\n",
       "      <td>A</td>\n",
       "      <td>1338</td>\n",
       "    </tr>\n",
       "    <tr>\n",
       "      <th>173</th>\n",
       "      <td>2019-08-02</td>\n",
       "      <td>B</td>\n",
       "      <td>1294</td>\n",
       "    </tr>\n",
       "    <tr>\n",
       "      <th>291</th>\n",
       "      <td>2019-08-03</td>\n",
       "      <td>A</td>\n",
       "      <td>1845</td>\n",
       "    </tr>\n",
       "    <tr>\n",
       "      <th>...</th>\n",
       "      <td>...</td>\n",
       "      <td>...</td>\n",
       "      <td>...</td>\n",
       "    </tr>\n",
       "    <tr>\n",
       "      <th>496</th>\n",
       "      <td>2019-08-29</td>\n",
       "      <td>B</td>\n",
       "      <td>17708</td>\n",
       "    </tr>\n",
       "    <tr>\n",
       "      <th>730</th>\n",
       "      <td>2019-08-30</td>\n",
       "      <td>A</td>\n",
       "      <td>18037</td>\n",
       "    </tr>\n",
       "    <tr>\n",
       "      <th>690</th>\n",
       "      <td>2019-08-30</td>\n",
       "      <td>B</td>\n",
       "      <td>18198</td>\n",
       "    </tr>\n",
       "    <tr>\n",
       "      <th>958</th>\n",
       "      <td>2019-08-31</td>\n",
       "      <td>A</td>\n",
       "      <td>18736</td>\n",
       "    </tr>\n",
       "    <tr>\n",
       "      <th>930</th>\n",
       "      <td>2019-08-31</td>\n",
       "      <td>B</td>\n",
       "      <td>18916</td>\n",
       "    </tr>\n",
       "  </tbody>\n",
       "</table>\n",
       "<p>62 rows × 3 columns</p>\n",
       "</div>"
      ],
      "text/plain": [
       "          date group  visitors\n",
       "55  2019-08-01     A       719\n",
       "66  2019-08-01     B       713\n",
       "175 2019-08-02     A      1338\n",
       "173 2019-08-02     B      1294\n",
       "291 2019-08-03     A      1845\n",
       "..         ...   ...       ...\n",
       "496 2019-08-29     B     17708\n",
       "730 2019-08-30     A     18037\n",
       "690 2019-08-30     B     18198\n",
       "958 2019-08-31     A     18736\n",
       "930 2019-08-31     B     18916\n",
       "\n",
       "[62 rows x 3 columns]"
      ]
     },
     "execution_count": 20,
     "metadata": {},
     "output_type": "execute_result"
    }
   ],
   "source": [
    "visitors_aggregated = date_group.apply(lambda x: \n",
    "                                       visitors[np.logical_and(\n",
    "                                           visitors['date'] <= x['date'], \n",
    "                                           visitors['group'] == x['group'])\n",
    "                                               ].agg({\n",
    "                                           'date' : 'max', \n",
    "                                           'group' : 'max', \n",
    "                                           'visitors' : 'sum'}), \n",
    "                                       axis=1).sort_values(by=['date','group'])\n",
    "\n",
    "visitors_aggregated"
   ]
  },
  {
   "cell_type": "markdown",
   "metadata": {},
   "source": [
    "Собираем агрегированные данные в один датасет."
   ]
  },
  {
   "cell_type": "code",
   "execution_count": 21,
   "metadata": {
    "scrolled": true
   },
   "outputs": [],
   "source": [
    "cumulative_data = orders_aggregated.merge(visitors_aggregated, left_on=['date', 'group'], \n",
    "                                        right_on=['date', 'group'])"
   ]
  },
  {
   "cell_type": "markdown",
   "metadata": {},
   "source": [
    "Рассчитаем средний чек"
   ]
  },
  {
   "cell_type": "code",
   "execution_count": 22,
   "metadata": {},
   "outputs": [
    {
     "data": {
      "text/html": [
       "<div>\n",
       "<style scoped>\n",
       "    .dataframe tbody tr th:only-of-type {\n",
       "        vertical-align: middle;\n",
       "    }\n",
       "\n",
       "    .dataframe tbody tr th {\n",
       "        vertical-align: top;\n",
       "    }\n",
       "\n",
       "    .dataframe thead th {\n",
       "        text-align: right;\n",
       "    }\n",
       "</style>\n",
       "<table border=\"1\" class=\"dataframe\">\n",
       "  <thead>\n",
       "    <tr style=\"text-align: right;\">\n",
       "      <th></th>\n",
       "      <th>date</th>\n",
       "      <th>group</th>\n",
       "      <th>orders</th>\n",
       "      <th>buyers</th>\n",
       "      <th>revenue</th>\n",
       "      <th>visitors</th>\n",
       "      <th>revenue_per_order</th>\n",
       "    </tr>\n",
       "  </thead>\n",
       "  <tbody>\n",
       "    <tr>\n",
       "      <th>0</th>\n",
       "      <td>2019-08-01</td>\n",
       "      <td>A</td>\n",
       "      <td>24</td>\n",
       "      <td>20</td>\n",
       "      <td>148579</td>\n",
       "      <td>719</td>\n",
       "      <td>6190.791667</td>\n",
       "    </tr>\n",
       "    <tr>\n",
       "      <th>1</th>\n",
       "      <td>2019-08-01</td>\n",
       "      <td>B</td>\n",
       "      <td>21</td>\n",
       "      <td>20</td>\n",
       "      <td>101217</td>\n",
       "      <td>713</td>\n",
       "      <td>4819.857143</td>\n",
       "    </tr>\n",
       "    <tr>\n",
       "      <th>2</th>\n",
       "      <td>2019-08-02</td>\n",
       "      <td>A</td>\n",
       "      <td>44</td>\n",
       "      <td>38</td>\n",
       "      <td>242401</td>\n",
       "      <td>1338</td>\n",
       "      <td>5509.113636</td>\n",
       "    </tr>\n",
       "    <tr>\n",
       "      <th>3</th>\n",
       "      <td>2019-08-02</td>\n",
       "      <td>B</td>\n",
       "      <td>45</td>\n",
       "      <td>43</td>\n",
       "      <td>266748</td>\n",
       "      <td>1294</td>\n",
       "      <td>5927.733333</td>\n",
       "    </tr>\n",
       "    <tr>\n",
       "      <th>4</th>\n",
       "      <td>2019-08-03</td>\n",
       "      <td>A</td>\n",
       "      <td>68</td>\n",
       "      <td>62</td>\n",
       "      <td>354874</td>\n",
       "      <td>1845</td>\n",
       "      <td>5218.735294</td>\n",
       "    </tr>\n",
       "    <tr>\n",
       "      <th>...</th>\n",
       "      <td>...</td>\n",
       "      <td>...</td>\n",
       "      <td>...</td>\n",
       "      <td>...</td>\n",
       "      <td>...</td>\n",
       "      <td>...</td>\n",
       "      <td>...</td>\n",
       "    </tr>\n",
       "    <tr>\n",
       "      <th>57</th>\n",
       "      <td>2019-08-29</td>\n",
       "      <td>B</td>\n",
       "      <td>596</td>\n",
       "      <td>544</td>\n",
       "      <td>5559398</td>\n",
       "      <td>17708</td>\n",
       "      <td>9327.848993</td>\n",
       "    </tr>\n",
       "    <tr>\n",
       "      <th>58</th>\n",
       "      <td>2019-08-30</td>\n",
       "      <td>A</td>\n",
       "      <td>545</td>\n",
       "      <td>493</td>\n",
       "      <td>4022970</td>\n",
       "      <td>18037</td>\n",
       "      <td>7381.596330</td>\n",
       "    </tr>\n",
       "    <tr>\n",
       "      <th>59</th>\n",
       "      <td>2019-08-30</td>\n",
       "      <td>B</td>\n",
       "      <td>620</td>\n",
       "      <td>567</td>\n",
       "      <td>5774631</td>\n",
       "      <td>18198</td>\n",
       "      <td>9313.920968</td>\n",
       "    </tr>\n",
       "    <tr>\n",
       "      <th>60</th>\n",
       "      <td>2019-08-31</td>\n",
       "      <td>A</td>\n",
       "      <td>557</td>\n",
       "      <td>503</td>\n",
       "      <td>4084803</td>\n",
       "      <td>18736</td>\n",
       "      <td>7333.578097</td>\n",
       "    </tr>\n",
       "    <tr>\n",
       "      <th>61</th>\n",
       "      <td>2019-08-31</td>\n",
       "      <td>B</td>\n",
       "      <td>640</td>\n",
       "      <td>586</td>\n",
       "      <td>5907760</td>\n",
       "      <td>18916</td>\n",
       "      <td>9230.875000</td>\n",
       "    </tr>\n",
       "  </tbody>\n",
       "</table>\n",
       "<p>62 rows × 7 columns</p>\n",
       "</div>"
      ],
      "text/plain": [
       "         date group  orders  buyers  revenue  visitors  revenue_per_order\n",
       "0  2019-08-01     A      24      20   148579       719        6190.791667\n",
       "1  2019-08-01     B      21      20   101217       713        4819.857143\n",
       "2  2019-08-02     A      44      38   242401      1338        5509.113636\n",
       "3  2019-08-02     B      45      43   266748      1294        5927.733333\n",
       "4  2019-08-03     A      68      62   354874      1845        5218.735294\n",
       "..        ...   ...     ...     ...      ...       ...                ...\n",
       "57 2019-08-29     B     596     544  5559398     17708        9327.848993\n",
       "58 2019-08-30     A     545     493  4022970     18037        7381.596330\n",
       "59 2019-08-30     B     620     567  5774631     18198        9313.920968\n",
       "60 2019-08-31     A     557     503  4084803     18736        7333.578097\n",
       "61 2019-08-31     B     640     586  5907760     18916        9230.875000\n",
       "\n",
       "[62 rows x 7 columns]"
      ]
     },
     "execution_count": 22,
     "metadata": {},
     "output_type": "execute_result"
    }
   ],
   "source": [
    "cumulative_data['revenue_per_order'] = cumulative_data['revenue'] / cumulative_data['orders']\n",
    "cumulative_data"
   ]
  },
  {
   "cell_type": "code",
   "execution_count": null,
   "metadata": {},
   "outputs": [],
   "source": []
  },
  {
   "cell_type": "markdown",
   "metadata": {},
   "source": [
    "Делаем срез данных по группам и строим график."
   ]
  },
  {
   "cell_type": "code",
   "execution_count": 23,
   "metadata": {
    "scrolled": false
   },
   "outputs": [
    {
     "data": {
      "image/png": "[encoded data removed]",
      "text/plain": [
       "<Figure size 1152x648 with 1 Axes>"
      ]
     },
     "metadata": {},
     "output_type": "display_data"
    }
   ],
   "source": [
    "cumulative_data_A = cumulative_data[cumulative_data['group']=='A'][['date', 'revenue_per_order']]\n",
    "cumulative_data_B = cumulative_data[cumulative_data['group']=='B'][['date', 'revenue_per_order']]\n",
    "\n",
    "plt.style.use('seaborn-darkgrid')\n",
    "plt.figure(figsize=(16,9))\n",
    "\n",
    "plt.plot(cumulative_data_A['date'], cumulative_data_A['revenue_per_order'], label='A')\n",
    "plt.plot(cumulative_data_B['date'], cumulative_data_B['revenue_per_order'], label='B')\n",
    "\n",
    "plt.title('Изменение кумулятивного среднего чека', fontsize=18)\n",
    "plt.ylabel('Кумулятивный средний чек', fontsize=15)\n",
    "plt.xlabel('Даты', fontsize=15)\n",
    "plt.xticks(fontsize=13)\n",
    "plt.yticks(fontsize=13)\n",
    "plt.legend(fontsize=15)\n",
    "plt.show()"
   ]
  },
  {
   "cell_type": "markdown",
   "metadata": {},
   "source": [
    "Для кумулятивного среднего чека мы так же наблюдаем резкий скачок показателя для группы В после 18 августа. Вероятно наличие выбросов в данных, скорее всего, в период 18-19 августа встречаются дорогие заказы."
   ]
  },
  {
   "cell_type": "markdown",
   "metadata": {},
   "source": [
    "### График относительного изменения кумулятивного среднего чека группы B к группе A"
   ]
  },
  {
   "cell_type": "code",
   "execution_count": 24,
   "metadata": {
    "scrolled": false
   },
   "outputs": [
    {
     "data": {
      "image/png": "[encoded data removed]",
      "text/plain": [
       "<Figure size 1152x648 with 1 Axes>"
      ]
     },
     "metadata": {},
     "output_type": "display_data"
    }
   ],
   "source": [
    "merged_сumulative_data = cumulative_data_A.merge(\n",
    "    cumulative_data_B, left_on='date', right_on='date', how='left', suffixes=['A', 'B'])\n",
    "\n",
    "plt.style.use('seaborn-darkgrid')\n",
    "plt.figure(figsize=(16,9))\n",
    "\n",
    "plt.plot(merged_сumulative_data['date'], \n",
    "         merged_сumulative_data['revenue_per_orderB'] / merged_сumulative_data['revenue_per_orderA'] - 1)\n",
    "\n",
    "plt.axhline(y=0, color='black', linestyle='--') \n",
    "\n",
    "plt.title('Относительное изменение кумулятивного среднего чека группы В относительно группы А',\n",
    "          fontsize=18)\n",
    "plt.ylabel('Отношение кумулятивных средних чеков группы В к группе А', fontsize=15)\n",
    "plt.xlabel('Даты', fontsize=15)\n",
    "plt.xticks(fontsize=13)\n",
    "plt.yticks(fontsize=13)\n",
    "plt.show()"
   ]
  },
  {
   "cell_type": "markdown",
   "metadata": {},
   "source": [
    "Резкие скачки кумулятивного среднего чека группы В относительно группы А в нескольких местах графика также указывают на наличие в данных некоторого объема дорогих заказов. Все три графика, касающиеся кумулятивной выручки, демонстрируют схожую картину."
   ]
  },
  {
   "cell_type": "markdown",
   "metadata": {},
   "source": [
    "### График кумулятивного среднего количества заказов на посетителя по группам"
   ]
  },
  {
   "cell_type": "markdown",
   "metadata": {},
   "source": [
    "Сгруппируем данные по визитам и платежам за заказы, чтобы определить количество заказов на каждого пользователя."
   ]
  },
  {
   "cell_type": "code",
   "execution_count": 25,
   "metadata": {},
   "outputs": [],
   "source": [
    "cumulative_data_plus = orders_aggregated.merge(visitors_aggregated, left_on=['date', 'group'], \n",
    "                                        right_on=['date', 'group'])\n",
    "cumulative_data_plus ['conversion'] = cumulative_data_plus['orders']/cumulative_data_plus['visitors']"
   ]
  },
  {
   "cell_type": "code",
   "execution_count": 26,
   "metadata": {},
   "outputs": [
    {
     "data": {
      "image/png": "[encoded data removed]",
      "text/plain": [
       "<Figure size 1152x648 with 1 Axes>"
      ]
     },
     "metadata": {},
     "output_type": "display_data"
    }
   ],
   "source": [
    "cumulative_data_A_plus = cumulative_data_plus[cumulative_data_plus['group']=='A'][['date', 'conversion']]\n",
    "cumulative_data_B_plus = cumulative_data_plus[cumulative_data_plus['group']=='B'][['date', 'conversion']]\n",
    "\n",
    "plt.style.use('seaborn-darkgrid')\n",
    "plt.figure(figsize=(16, 9))\n",
    "plt.plot(cumulative_data_A_plus['date'], cumulative_data_A_plus['conversion'], label='A')\n",
    "plt.plot(cumulative_data_B_plus['date'], cumulative_data_B_plus['conversion'], label='B')\n",
    "\n",
    "plt.axis([dt.datetime(2019, 8, 1), dt.datetime(2019, 9, 1), 0.028, 0.038])\n",
    "plt.title('График кумулятивного среднего количества заказов на посетителя по группам', fontsize=17)\n",
    "plt.xlabel('Дата', fontsize=15)\n",
    "plt.ylabel('среднее количество заказов на посетителя', fontsize=15)\n",
    "plt.legend()\n",
    "plt.show()"
   ]
  },
  {
   "cell_type": "markdown",
   "metadata": {},
   "source": [
    "В начале теста среднее число заказов группы А была была выше, однако среднее число заказов группы B после 5 августа превзошло показатель группы А. В дальнейшем периоде наблюдений среднее число заказов группы В стабильно выше аналогичного показателя группы А."
   ]
  },
  {
   "cell_type": "markdown",
   "metadata": {},
   "source": [
    "### График относительного изменения кумулятивного среднего количества заказов на посетителя группы B к группе A"
   ]
  },
  {
   "cell_type": "code",
   "execution_count": 27,
   "metadata": {},
   "outputs": [
    {
     "data": {
      "image/png": "[encoded data removed]",
      "text/plain": [
       "<Figure size 1152x648 with 1 Axes>"
      ]
     },
     "metadata": {},
     "output_type": "display_data"
    }
   ],
   "source": [
    "merged_сumulative_сonversions = cumulative_data_A_plus[['date','conversion']].merge(cumulative_data_B_plus[['date','conversion']], \n",
    "                                  left_on='date', right_on='date', how='left', suffixes=['A', 'B'])\n",
    "\n",
    "plt.style.use('seaborn-darkgrid')\n",
    "plt.figure(figsize=(16, 9))\n",
    "plt.plot(merged_сumulative_сonversions['date'], merged_сumulative_сonversions['conversionB']/\n",
    "         merged_сumulative_сonversions['conversionA']-1, \n",
    "         label=\"Относительный прирост конверсии группы B относительно группы A\")\n",
    "\n",
    "\n",
    "plt.axhline(y=0, color='black', linestyle='--')\n",
    "plt.axhline(y=0.15, color='grey', linestyle='--')\n",
    "plt.title('График относительного изменения кумулятивного среднего количества заказов на посетителя группы B к группе A',fontsize=17)\n",
    "plt.xlabel('Дата', fontsize=15)\n",
    "plt.ylabel('Среднее количество заказов на посетителя', fontsize=15)\n",
    "plt.legend()\n",
    "plt.show()"
   ]
  },
  {
   "cell_type": "markdown",
   "metadata": {},
   "source": [
    "Группа B выходит вперед относительно показателей группы А после 5-го дня теста, далее лидирует с преимуществом около 15% до конца проведения теста."
   ]
  },
  {
   "cell_type": "markdown",
   "metadata": {},
   "source": [
    "### Точечный график количества заказов по пользователям"
   ]
  },
  {
   "cell_type": "markdown",
   "metadata": {},
   "source": [
    "Сгруппируем данные по числу закзов на пользователя."
   ]
  },
  {
   "cell_type": "code",
   "execution_count": 28,
   "metadata": {},
   "outputs": [],
   "source": [
    "orders_per_user = orders.groupby('visitorid', as_index=False).agg({'transactionid':'nunique'})\\\n",
    "                         .rename(columns={'transactionid':'orders'})"
   ]
  },
  {
   "cell_type": "code",
   "execution_count": 29,
   "metadata": {},
   "outputs": [
    {
     "data": {
      "image/png": "[encoded data removed]",
      "text/plain": [
       "<Figure size 1152x648 with 1 Axes>"
      ]
     },
     "metadata": {},
     "output_type": "display_data"
    }
   ],
   "source": [
    "x_values = pd.Series(range(0, len(orders_per_user)))\n",
    "\n",
    "plt.figure(figsize=(16,9))\n",
    "plt.scatter(x_values, orders_per_user['orders'])\n",
    "plt.title('Точечная диаграмма числа заказов на одного пользователя', fontsize=17)\n",
    "plt.xlabel('Число пользователей', fontsize=15)\n",
    "plt.ylabel('Количество заказов', fontsize=15)\n",
    "plt.show()"
   ]
  },
  {
   "cell_type": "markdown",
   "metadata": {},
   "source": [
    "Преимущественно заказывают 1 раз. Присутствуют аномальные значения - более 10 заказов"
   ]
  },
  {
   "cell_type": "markdown",
   "metadata": {},
   "source": [
    "### 95-й и 99-й перцентили количества заказов на пользователя"
   ]
  },
  {
   "cell_type": "code",
   "execution_count": 30,
   "metadata": {},
   "outputs": [
    {
     "name": "stdout",
     "output_type": "stream",
     "text": [
      "95 перцентиль: 2.00\n",
      "99 перцентиль: 4.00\n"
     ]
    }
   ],
   "source": [
    "print('95 перцентиль: %.2f' % (np.percentile(orders_per_user['orders'], [95])))\n",
    "print('99 перцентиль: %.2f' % (np.percentile(orders_per_user['orders'], [99])))"
   ]
  },
  {
   "cell_type": "markdown",
   "metadata": {},
   "source": [
    "Менее 5% пользователей оформляли больше 2х заказов, 1% пользователей заказывали больше 4 раз. Примем за границу выбросов 99-й перцентиль, 4 заказа и более."
   ]
  },
  {
   "cell_type": "markdown",
   "metadata": {},
   "source": [
    "### Точечный график стоимостей заказов"
   ]
  },
  {
   "cell_type": "code",
   "execution_count": 31,
   "metadata": {},
   "outputs": [
    {
     "data": {
      "image/png": "[encoded data removed]",
      "text/plain": [
       "<Figure size 1152x648 with 1 Axes>"
      ]
     },
     "metadata": {},
     "output_type": "display_data"
    }
   ],
   "source": [
    "x_values = pd.Series(range(0, len(orders['revenue'])))\n",
    "\n",
    "plt.figure(figsize=(16, 9))\n",
    "plt.scatter(x_values, orders['revenue']) \n",
    "\n",
    "plt.title(\"График стоимостей заказов\", fontsize=17)\n",
    "plt.xlabel('Пользователи', fontsize=15)\n",
    "plt.ylabel('Стоимость заказов', fontsize=15)\n",
    "plt.grid()\n",
    "plt.show()"
   ]
  },
  {
   "cell_type": "markdown",
   "metadata": {},
   "source": [
    "Ограничим значения по оси Y, чтобы оценить картину распределения без двух выборосов."
   ]
  },
  {
   "cell_type": "code",
   "execution_count": 32,
   "metadata": {},
   "outputs": [
    {
     "data": {
      "image/png": "[encoded data removed]",
      "text/plain": [
       "<Figure size 1152x648 with 1 Axes>"
      ]
     },
     "metadata": {},
     "output_type": "display_data"
    }
   ],
   "source": [
    "x_values = pd.Series(range(0, len(orders['revenue'])))\n",
    "\n",
    "plt.figure(figsize=(16, 9))\n",
    "plt.scatter(x_values, orders['revenue']) \n",
    "\n",
    "plt.ylim(0,100000)\n",
    "plt.title(\"График стоимостей заказов\", fontsize=17)\n",
    "plt.xlabel('Пользователи', fontsize=15)\n",
    "plt.ylabel('Стоимость заказов', fontsize=15)\n",
    "plt.grid()\n",
    "plt.show()"
   ]
  },
  {
   "cell_type": "markdown",
   "metadata": {},
   "source": [
    "На графике видны выбивающиеся одиночные точки со ориентировочным значением 1,3 млн и 200 тысяч. Остальные данные распределены значительно ниже этих уровней, преимущественно до 30000. "
   ]
  },
  {
   "cell_type": "markdown",
   "metadata": {},
   "source": [
    "### 95-й и 99-й перцентили стоимости заказов"
   ]
  },
  {
   "cell_type": "code",
   "execution_count": 33,
   "metadata": {
    "scrolled": true
   },
   "outputs": [
    {
     "name": "stdout",
     "output_type": "stream",
     "text": [
      "95 перцентиль: 28000.00\n",
      "99 перцентиль: 58233.20\n"
     ]
    }
   ],
   "source": [
    "print('95 перцентиль: %.2f' % (np.percentile(orders['revenue'], [95])))\n",
    "print('99 перцентиль: %.2f' % (np.percentile(orders['revenue'], [99])))"
   ]
  },
  {
   "cell_type": "markdown",
   "metadata": {},
   "source": [
    "Менее 5% пользователей потратили на заказы более 28 тысяч, 1% пользователей потратили более 58,2 тысяч. Примем за границу выбросов 95-й перцентиль, тех, кто потратил более 28 тысяч."
   ]
  },
  {
   "cell_type": "markdown",
   "metadata": {},
   "source": [
    "### Статистическая значимость различий в среднем количестве заказов на посетителя между группами по «сырым» данным"
   ]
  },
  {
   "cell_type": "markdown",
   "metadata": {},
   "source": [
    "Создадим переменные orders_by_users_A и orders_by_users_B со столбцами ['userid', 'orders'], где для пользователей, совершивших хотя бы 1 заказ, будет указано число заказов. Объявим переменные sampleA и sampleB, в которых пользователям с заказами будет соответствовать число заказов пользователя. А пользователям без заказов — нули. \n",
    "\n",
    "Значение alpha примем равным 0.05\n",
    "\n",
    "Это нужно для подготовить выборок к проверке критерием Манна-Уитни:\n",
    "\n",
    "    H0:Среднее количество заказов на посетителя групп A и B равны, статистически значимых отличий нет;\n",
    "    H1:Среднем количество заказов на посетителя групп A и B различны, статистически значимые отличия есть."
   ]
  },
  {
   "cell_type": "code",
   "execution_count": 34,
   "metadata": {},
   "outputs": [],
   "source": [
    "visitorsADaily = visitors[visitors['group'] == 'A'][['date', 'visitors']]\n",
    "visitorsADaily.columns = ['date', 'visitorsPerDateA']\n",
    "\n",
    "visitorsACummulative = visitorsADaily.apply(\n",
    "    lambda x: visitorsADaily[visitorsADaily['date'] <= x['date']].agg(\n",
    "        {'date': 'max', 'visitorsPerDateA': 'sum'}), axis=1,)\n",
    "visitorsACummulative.columns = ['date', 'visitorsCummulativeA']\n",
    "\n",
    "visitorsBDaily = visitors[visitors['group'] == 'B'][['date', 'visitors']]\n",
    "visitorsBDaily.columns = ['date', 'visitorsPerDateB']\n",
    "\n",
    "visitorsBCummulative = visitorsBDaily.apply(\n",
    "    lambda x: visitorsBDaily[visitorsBDaily['date'] <= x['date']].agg(\n",
    "        {'date': 'max', 'visitorsPerDateB': 'sum'}),axis=1,)\n",
    "visitorsBCummulative.columns = ['date', 'visitorsCummulativeB']\n",
    "\n",
    "ordersADaily = (\n",
    "    orders[orders['group'] == 'A'][['date', 'transactionid', 'visitorid', 'revenue']]\n",
    "    .groupby('date', as_index=False).agg({'transactionid': pd.Series.nunique, 'revenue': 'sum'}))\n",
    "ordersADaily.columns = ['date', 'ordersPerDateA', 'revenuePerDateA']\n",
    "\n",
    "ordersACummulative = ordersADaily.apply(\n",
    "    lambda x: ordersADaily[ordersADaily['date'] <= x['date']].agg(\n",
    "        {'date': 'max', 'ordersPerDateA': 'sum', 'revenuePerDateA': 'sum'}),axis=1,).sort_values(by=['date'])\n",
    "ordersACummulative.columns = ['date','ordersCummulativeA','revenueCummulativeA',]\n",
    "\n",
    "ordersBDaily = (\n",
    "    orders[orders['group'] == 'B'][['date', 'transactionid', 'visitorid', 'revenue']]\n",
    "    .groupby('date', as_index=False).agg({'transactionid': pd.Series.nunique, 'revenue': 'sum'}))\n",
    "ordersBDaily.columns = ['date', 'ordersPerDateB', 'revenuePerDateB']\n",
    "\n",
    "ordersBCummulative = ordersBDaily.apply(\n",
    "    lambda x: ordersBDaily[ordersBDaily['date'] <= x['date']].agg(\n",
    "        {'date': 'max', 'ordersPerDateB': 'sum', 'revenuePerDateB': 'sum'}),axis=1,).sort_values(by=['date'])\n",
    "ordersBCummulative.columns = ['date','ordersCummulativeB','revenueCummulativeB',]"
   ]
  },
  {
   "cell_type": "code",
   "execution_count": 35,
   "metadata": {},
   "outputs": [],
   "source": [
    "data = (\n",
    "    ordersADaily.merge(\n",
    "        ordersBDaily, left_on='date', right_on='date', how='left'\n",
    "    )\n",
    "    .merge(ordersACummulative, left_on='date', right_on='date', how='left')\n",
    "    .merge(ordersBCummulative, left_on='date', right_on='date', how='left')\n",
    "    .merge(visitorsADaily, left_on='date', right_on='date', how='left')\n",
    "    .merge(visitorsBDaily, left_on='date', right_on='date', how='left')\n",
    "    .merge(visitorsACummulative, left_on='date', right_on='date', how='left')\n",
    "    .merge(visitorsBCummulative, left_on='date', right_on='date', how='left')\n",
    ")"
   ]
  },
  {
   "cell_type": "code",
   "execution_count": 36,
   "metadata": {},
   "outputs": [
    {
     "name": "stdout",
     "output_type": "stream",
     "text": [
      "p-value: 0.017\n",
      "Относительные различия: 0.138\n"
     ]
    }
   ],
   "source": [
    "ordersByUsersA = (\n",
    "    orders[orders['group'] == 'A']\n",
    "    .groupby('visitorid', as_index=False)\n",
    "    .agg({'transactionid': pd.Series.nunique}))\n",
    "ordersByUsersA.columns = ['visitorid', 'transactionid']\n",
    "\n",
    "ordersByUsersB = (\n",
    "    orders[orders['group'] == 'B']\n",
    "    .groupby('visitorid', as_index=False)\n",
    "    .agg({'transactionid': pd.Series.nunique}))\n",
    "ordersByUsersB.columns = ['visitorid', 'transactionid'] \n",
    "\n",
    "sampleA = pd.concat([ordersByUsersA['transactionid'],pd.Series(0, \n",
    "          index=np.arange(data['visitorsPerDateA'].sum() - len(ordersByUsersA['transactionid'])), name='orders')],axis=0)\n",
    "\n",
    "sampleB = pd.concat([ordersByUsersB['transactionid'],pd.Series(0, \n",
    "          index=np.arange(data['visitorsPerDateB'].sum() - len(ordersByUsersB['transactionid'])), name='orders')],axis=0)\n",
    "\n",
    "print('p-value:',\"{0:.3f}\".format(stats.mannwhitneyu(sampleA, sampleB)[1]))\n",
    "\n",
    "print('Относительные различия:',\"{0:.3f}\".format(sampleB.mean() / sampleA.mean() - 1))"
   ]
  },
  {
   "cell_type": "markdown",
   "metadata": {},
   "source": [
    "P-value значительно меньше 0.05, значит стоит отвергнуть нулевую гипотезу. \"Сырые данные\" говорят, что в среднем количестве заказов между группами есть статистически значимые различия. "
   ]
  },
  {
   "cell_type": "markdown",
   "metadata": {},
   "source": [
    "### Статистическая значимость различий в среднем чеке заказа между группами по «сырым» данным"
   ]
  },
  {
   "cell_type": "markdown",
   "metadata": {},
   "source": [
    "Проверяем следующие гипотезы по критерию Манна-Уитни:\n",
    "\n",
    "    H0:Средние чеки групп A и B равны, статистически значимых отличий нет;\n",
    "    H1:Средние чеки групп A и B различны, статистически значимые отличия есть."
   ]
  },
  {
   "cell_type": "code",
   "execution_count": 37,
   "metadata": {},
   "outputs": [
    {
     "name": "stdout",
     "output_type": "stream",
     "text": [
      "p-value: 0.729\n",
      "Относительные различия: 0.259\n"
     ]
    }
   ],
   "source": [
    "print('p-value:','{0:.3f}'.format(stats.mannwhitneyu(orders[orders['group']=='A']['revenue'], \n",
    "                                                     orders[orders['group']=='B']['revenue'])[1]))\n",
    "print('Относительные различия:','{0:.3f}'.format(orders[orders['group']=='B']['revenue'].mean()/\n",
    "                                                 orders[orders['group']=='A']['revenue'].mean() - 1))"
   ]
  },
  {
   "cell_type": "markdown",
   "metadata": {},
   "source": [
    "P-value значительно больше 0.05, статистически значимых отличий в среднем чеке между группами нет. Кроме того, относительное различие среднего чека между группами составляет 25.9%. Отвергнуть нулевую гипотезу нельзя."
   ]
  },
  {
   "cell_type": "markdown",
   "metadata": {},
   "source": [
    "### Cтатистическая значимость различий в среднем количестве заказов на посетителя между группами по «очищенным» данным"
   ]
  },
  {
   "cell_type": "markdown",
   "metadata": {},
   "source": [
    "Для получение наиболее объективных данных необходимо провести очистку датасетов от аномалий. \n",
    "\n",
    "95-й и 99-й перцентили средних чеков равны 28 тыс и 58,233 тыс.\n",
    "95-й и 99-й перцентили числа заказов на одного пользователя равны 2 и 4 заказам на пользователя.\n",
    "\n",
    "Примем за аномальных пользователей тех, кто потратил более 28 тыс, либо совершил 4 и более заказов.\n",
    "\n",
    "Значение alpha примем равным 0.05\n",
    "\n",
    "Проверка критерием Манна-Уитни:\n",
    "\n",
    "    H0:Среднее количество заказов на посетителя групп A и B равны, статистически значимых отличий нет;\n",
    "    H1:Среднем количество заказов на посетителя групп A и B различны, статистически значимые отличия есть."
   ]
  },
  {
   "cell_type": "code",
   "execution_count": 38,
   "metadata": {},
   "outputs": [],
   "source": [
    "usersWithManyOrders = pd.concat(\n",
    "    [ordersByUsersA[ordersByUsersA['transactionid'] > (np.percentile(orders_per_user['orders'], 99))]['visitorid'],\n",
    "     ordersByUsersB[ordersByUsersB['transactionid'] > (np.percentile(orders_per_user['orders'], 99))]['visitorid'],\n",
    "    ],axis=0,)\n",
    "usersWithExpensiveOrders = orders[orders['revenue'] > (np.percentile(orders['revenue'], 95))]['visitorid']\n",
    "abnormalUsers = (\n",
    "    pd.concat([usersWithManyOrders, usersWithExpensiveOrders], axis=0).drop_duplicates().sort_values())\n"
   ]
  },
  {
   "cell_type": "markdown",
   "metadata": {},
   "source": [
    "Создадим переменные sampleA_filtered и sampleB_filtered, в которых сохраним очищенные данные о заказах. Выведем p-value для сравнения среднего между очищенными группами данных. "
   ]
  },
  {
   "cell_type": "code",
   "execution_count": 39,
   "metadata": {},
   "outputs": [
    {
     "name": "stdout",
     "output_type": "stream",
     "text": [
      "p-value: 0.018\n",
      "Относительные различия: 0.145\n"
     ]
    }
   ],
   "source": [
    "sampleA_filtered = pd.concat(\n",
    "    [ ordersByUsersA[\n",
    "     np.logical_not(ordersByUsersA['visitorid'].isin(abnormalUsers))]['transactionid'],\n",
    "        pd.Series(0,\n",
    "            index=np.arange(data['visitorsPerDateA'].sum() - len(ordersByUsersA['transactionid'])),\n",
    "            name='orders',),\n",
    "    ], axis=0,)\n",
    "\n",
    "sampleB_filtered = pd.concat(\n",
    "    [ordersByUsersB[\n",
    "     np.logical_not(ordersByUsersB['visitorid'].isin(abnormalUsers))]['transactionid'],\n",
    "        pd.Series(0,index=np.arange(data['visitorsPerDateB'].sum() - len(ordersByUsersB['transactionid'])\n",
    "            ),name='orders',),\n",
    "    ],axis=0,) \n",
    "\n",
    "print('p-value:','{0:.3f}'.format(stats.mannwhitneyu(sampleA_filtered, sampleB_filtered)[1]))\n",
    "print('Относительные различия:','{0:.3f}'.format(sampleB_filtered.mean()/sampleA_filtered.mean()-1)) "
   ]
  },
  {
   "cell_type": "markdown",
   "metadata": {},
   "source": [
    "P-value значительно меньше 0.05, как и в случае с сырым данными, статистическая значимость достигнута. Можно отвергнуть нулевую гипотезу."
   ]
  },
  {
   "cell_type": "markdown",
   "metadata": {},
   "source": [
    "### Cтатистическая значимость различий в среднем чеке заказа между группами по «очищенным» данным"
   ]
  },
  {
   "cell_type": "markdown",
   "metadata": {},
   "source": [
    "Значение alpha примем равным 0.05\n",
    "\n",
    "Проверяем следующие гипотезы по критерию Манна-Уитни:\n",
    "\n",
    "    H0:Средние чеки групп A и B равны, статистически значимых отличий нет;\n",
    "    H1:Средние чеки групп A и B различны, статистически значимые отличия есть."
   ]
  },
  {
   "cell_type": "code",
   "execution_count": 40,
   "metadata": {},
   "outputs": [
    {
     "name": "stdout",
     "output_type": "stream",
     "text": [
      "p-value: 0.961\n",
      "Относительные различия: -0.014\n"
     ]
    }
   ],
   "source": [
    "print('p-value:',\n",
    "    '{0:.3f}'.format(\n",
    "        stats.mannwhitneyu(\n",
    "            orders[np.logical_and(\n",
    "                    orders['group'] == 'A',\n",
    "                    np.logical_not(orders['visitorid'].isin(abnormalUsers)),)\n",
    "            ]['revenue'],\n",
    "            orders[np.logical_and(\n",
    "                    orders['group'] == 'B',\n",
    "                    np.logical_not(orders['visitorid'].isin(abnormalUsers)),)\n",
    "            ]['revenue'],\n",
    "        )[1]\n",
    "    )\n",
    ")\n",
    "\n",
    "print('Относительные различия:',\n",
    "    \"{0:.3f}\".format(\n",
    "        orders[np.logical_and(\n",
    "                orders['group'] == 'B',\n",
    "                np.logical_not(orders['visitorid'].isin(abnormalUsers)),)\n",
    "        ]['revenue'].mean()\n",
    "        / orders[\n",
    "            np.logical_and(\n",
    "                orders['group'] == 'A',\n",
    "                np.logical_not(orders['visitorid'].isin(abnormalUsers)),\n",
    "            )\n",
    "        ]['revenue'].mean()\n",
    "        - 1\n",
    "    )\n",
    ") "
   ]
  },
  {
   "cell_type": "markdown",
   "metadata": {},
   "source": [
    "Значение p-value стало больше с 0.729 до 0.961, однако относительные различия уменьшились с 25.9% до 1,4%, что означает, что в данных стало меньше \"шума\" и искажений. Значение p-value значительно превышает 0,05, отвергнуть нулевую гипотезу нельзя. "
   ]
  },
  {
   "cell_type": "markdown",
   "metadata": {},
   "source": [
    "## Общий вывод:"
   ]
  },
  {
   "cell_type": "markdown",
   "metadata": {},
   "source": [
    "Проект выполнен для крупного интернет-магазина. Вместе с отделом маркетинга подгтовлен список гипотез для увеличения выручки.\n",
    "Проведена предобработка данных, проверка на пропущенные значения и дубликаты.\n",
    "\n",
    "Приоритизация предлагаемых гипотез производилась по двум фреймворкам: ICE и RICE.\n",
    "\n",
    "Согласно оценке по методу ICE, первой следует проверить гипотезу с индексом 8, предлагающую запустить акцию с предложением скидки на товар в день рождения(ICE равен 16,20). На втором месте гипотеза 0 о добавлении двух новых каналов привлечения трафика (ICE = 13,33). На третьем месте перспективных гипотез предложение 7 - добавить форму подписки на основные страницы магазина (ICE = 11,20).\n",
    "\n",
    "Согласно оценке по методу RICE, первой следует проверить гипотезу с индексом 7, предлагающую добваить форму подписки на все основные страницы для сбора базы данных для рассылок(RICE = 112,0). На втором месте гипотеза 2 о добавлении блоков рекомендаций товаров на сайт интернет-магазина (RICE = 56,0). Третье место делят гипотезы 0 (добавить два новых канала привлечения трафика) и 6 (показать на главной странице баннеры с актуальными распродажами и акциями) с равным значением (RICE = 40,0).\n",
    "\n",
    "С учетом охвата доли пользователей изменениями той или иной гипотезы (параметр reach), порядок приоритизации гипотез поменятся. По методу RICE, первой следует проверить гипотезу с индексом 7, предлагающую добваить форму подписки на все основные страницы для сбора базы данных для рассылок(RICE = 112,0). Это изменение каснется всех пользователей (reach = 10). Гипотеза 2 о добавлении блоков рекомендаций товаров на сайт интернет-магазина (RICE = 56,0) затронет существенную часть пользователей (оценка 8 из 10), но затраты на проверку оценены в 3 балла из 10. Третье место делят гипотезы 0 (добавить два новых канала привлечения трафика) и 6 (показать на главной странице баннеры с актуальными распродажами и акциями) с равным значением (RICE = 40,0). Охват аудитории для гипотезы 0 составит 3 из 10, треть всех пользователей. Охват аудитории для гипотезы 6 составит 5 из 10, половину пользователей. Влияние на пользователей оценивается в 10 для гипотезы 0 и в 3 для гипотезы 6.\n",
    "\n",
    "Несмотря на отличия, топ-5 гипотез по обоим фреймворкам совпадает:\n",
    "\n",
    "    7 - Добавить форму подписки на все основные страницы, чтобы собрать базу клиентов для email-рассылок\n",
    "    2 - Добавить блоки рекомендаций товаров на сайт интернет магазина, чтобы повысить конверсию и средний чек заказа\n",
    "    0 - Добавить два новых канала привлечения трафика, что позволит привлекать на 30% больше пользователей    \n",
    "    6 - Показать на главной странице баннеры с актуальными акциями и распродажами, чтобы увеличить конверсию    \n",
    "    8 - Запустить акцию, дающую скидку на товар в день рождения\n",
    "\n",
    "\n",
    "В начале теста различие в кумулятивной выручке между группами было невелико, но после 18 августа группа B показывает резкий рост кумулятивной выручки. Ту же картину наблюдаем по графикам среднего чека. Группа B выходит вперед относительно показателей группы А после 5-го дня теста, далее лидирует с преимуществом около 15% до конца проведения теста.\n",
    "\n",
    "Преимущественно заказывают 1 раз. Менее 5% пользователей оформляли больше 2х заказов, 1% пользователей заказывали больше 4 раз. \n",
    "\n",
    "Менее 5% пользователей потратили на заказы более 28 тысяч, 1% пользователей потратили более 58,2 тысяч.\n",
    "\n",
    "По полученным значениям процентилей выбраны границы для исключения аномалий.\n",
    "\n",
    "Выборки проверены по критерию Манна_Уитни, с результате чего получены следующие факты:\n",
    "\n",
    "    Есть статистически значимое различие в среднем количестве заказов между группами по «очищенным» данным и по \"сырым данным\".\n",
    "    Нет статистически значимого различия в среднем чеке заказа между группами ни по «сырым» данным, ни по \"очищенным\".\n",
    "\n",
    "График различия среднего количества заказов на посетителя между группами сообщает, что результаты группы B лучше группы A на примерно 15%.\n",
    "График различия среднего чека говорит о том, что результаты группы B лучше группы А примерно на 20%.\n",
    "\n",
    "На основании вышесказанного можно принять следующее решение: остановить тест, так как группа B превосходит группу А, фиксируем победу группы В."
   ]
  }
 ],
 "metadata": {
  "ExecuteTimeLog": [
   {
    "duration": 1417,
    "start_time": "2023-09-06T06:36:24.057Z"
   },
   {
    "duration": 205,
    "start_time": "2023-09-06T06:36:25.477Z"
   },
   {
    "duration": 15,
    "start_time": "2023-09-06T06:36:25.690Z"
   },
   {
    "duration": 57,
    "start_time": "2023-09-06T06:36:25.708Z"
   },
   {
    "duration": 46,
    "start_time": "2023-09-06T06:36:25.767Z"
   },
   {
    "duration": 40,
    "start_time": "2023-09-06T06:36:25.815Z"
   },
   {
    "duration": 55,
    "start_time": "2023-09-06T06:36:25.857Z"
   },
   {
    "duration": 33,
    "start_time": "2023-09-06T06:36:25.914Z"
   },
   {
    "duration": 1143,
    "start_time": "2023-09-06T06:37:40.317Z"
   },
   {
    "duration": 82,
    "start_time": "2023-09-06T06:37:41.462Z"
   },
   {
    "duration": 12,
    "start_time": "2023-09-06T06:37:41.545Z"
   },
   {
    "duration": 18,
    "start_time": "2023-09-06T06:37:41.559Z"
   },
   {
    "duration": 15,
    "start_time": "2023-09-06T06:37:41.578Z"
   },
   {
    "duration": 23,
    "start_time": "2023-09-06T06:37:41.594Z"
   },
   {
    "duration": 27,
    "start_time": "2023-09-06T06:37:41.618Z"
   },
   {
    "duration": 23,
    "start_time": "2023-09-06T06:37:41.646Z"
   },
   {
    "duration": 100,
    "start_time": "2023-09-06T06:40:57.763Z"
   },
   {
    "duration": 109,
    "start_time": "2023-09-06T06:41:04.559Z"
   },
   {
    "duration": 4,
    "start_time": "2023-09-06T06:41:48.426Z"
   },
   {
    "duration": 10,
    "start_time": "2023-09-06T06:41:58.955Z"
   },
   {
    "duration": 1097,
    "start_time": "2023-09-06T06:56:07.827Z"
   },
   {
    "duration": 84,
    "start_time": "2023-09-06T06:56:08.926Z"
   },
   {
    "duration": 12,
    "start_time": "2023-09-06T06:56:09.012Z"
   },
   {
    "duration": 15,
    "start_time": "2023-09-06T06:56:09.026Z"
   },
   {
    "duration": 16,
    "start_time": "2023-09-06T06:56:09.043Z"
   },
   {
    "duration": 26,
    "start_time": "2023-09-06T06:56:09.061Z"
   },
   {
    "duration": 12,
    "start_time": "2023-09-06T06:56:09.089Z"
   },
   {
    "duration": 44,
    "start_time": "2023-09-06T06:56:09.103Z"
   },
   {
    "duration": 19,
    "start_time": "2023-09-06T06:56:09.149Z"
   },
   {
    "duration": 1979,
    "start_time": "2023-09-06T06:56:09.169Z"
   },
   {
    "duration": 0,
    "start_time": "2023-09-06T06:56:11.149Z"
   },
   {
    "duration": 13,
    "start_time": "2023-09-06T06:56:27.318Z"
   },
   {
    "duration": 11,
    "start_time": "2023-09-06T06:56:32.222Z"
   },
   {
    "duration": 1211,
    "start_time": "2023-09-06T06:57:45.786Z"
   },
   {
    "duration": 77,
    "start_time": "2023-09-06T06:57:47.001Z"
   },
   {
    "duration": 18,
    "start_time": "2023-09-06T06:57:47.080Z"
   },
   {
    "duration": 31,
    "start_time": "2023-09-06T06:57:47.100Z"
   },
   {
    "duration": 52,
    "start_time": "2023-09-06T06:57:47.133Z"
   },
   {
    "duration": 40,
    "start_time": "2023-09-06T06:57:47.189Z"
   },
   {
    "duration": 46,
    "start_time": "2023-09-06T06:57:47.231Z"
   },
   {
    "duration": 39,
    "start_time": "2023-09-06T06:57:47.280Z"
   },
   {
    "duration": 24,
    "start_time": "2023-09-06T06:57:47.322Z"
   },
   {
    "duration": 46,
    "start_time": "2023-09-06T06:57:47.348Z"
   },
   {
    "duration": 50,
    "start_time": "2023-09-06T06:57:47.396Z"
   },
   {
    "duration": 1254,
    "start_time": "2023-09-06T07:06:03.965Z"
   },
   {
    "duration": 101,
    "start_time": "2023-09-06T07:06:05.221Z"
   },
   {
    "duration": 12,
    "start_time": "2023-09-06T07:06:05.324Z"
   },
   {
    "duration": 56,
    "start_time": "2023-09-06T07:06:05.338Z"
   },
   {
    "duration": 25,
    "start_time": "2023-09-06T07:06:05.398Z"
   },
   {
    "duration": 43,
    "start_time": "2023-09-06T07:06:05.425Z"
   },
   {
    "duration": 40,
    "start_time": "2023-09-06T07:06:05.470Z"
   },
   {
    "duration": 21,
    "start_time": "2023-09-06T07:06:05.512Z"
   },
   {
    "duration": 36,
    "start_time": "2023-09-06T07:06:05.534Z"
   },
   {
    "duration": 46,
    "start_time": "2023-09-06T07:06:05.572Z"
   },
   {
    "duration": 1587,
    "start_time": "2023-09-06T07:06:05.620Z"
   },
   {
    "duration": 13,
    "start_time": "2023-09-06T07:07:57.661Z"
   },
   {
    "duration": 13,
    "start_time": "2023-09-06T07:09:24.968Z"
   },
   {
    "duration": 1235,
    "start_time": "2023-09-06T07:10:10.821Z"
   },
   {
    "duration": 84,
    "start_time": "2023-09-06T07:10:12.058Z"
   },
   {
    "duration": 13,
    "start_time": "2023-09-06T07:10:12.144Z"
   },
   {
    "duration": 11,
    "start_time": "2023-09-06T07:10:12.159Z"
   },
   {
    "duration": 25,
    "start_time": "2023-09-06T07:10:12.172Z"
   },
   {
    "duration": 17,
    "start_time": "2023-09-06T07:10:12.199Z"
   },
   {
    "duration": 14,
    "start_time": "2023-09-06T07:10:12.218Z"
   },
   {
    "duration": 21,
    "start_time": "2023-09-06T07:10:12.234Z"
   },
   {
    "duration": 21,
    "start_time": "2023-09-06T07:10:12.257Z"
   },
   {
    "duration": 29,
    "start_time": "2023-09-06T07:10:12.280Z"
   },
   {
    "duration": 19,
    "start_time": "2023-09-06T07:10:12.311Z"
   },
   {
    "duration": 23,
    "start_time": "2023-09-06T07:10:40.177Z"
   },
   {
    "duration": 22,
    "start_time": "2023-09-06T07:10:46.572Z"
   },
   {
    "duration": 1220,
    "start_time": "2023-09-06T07:10:55.717Z"
   },
   {
    "duration": 80,
    "start_time": "2023-09-06T07:10:56.940Z"
   },
   {
    "duration": 11,
    "start_time": "2023-09-06T07:10:57.022Z"
   },
   {
    "duration": 28,
    "start_time": "2023-09-06T07:10:57.035Z"
   },
   {
    "duration": 14,
    "start_time": "2023-09-06T07:10:57.064Z"
   },
   {
    "duration": 26,
    "start_time": "2023-09-06T07:10:57.080Z"
   },
   {
    "duration": 34,
    "start_time": "2023-09-06T07:10:57.108Z"
   },
   {
    "duration": 47,
    "start_time": "2023-09-06T07:10:57.144Z"
   },
   {
    "duration": 33,
    "start_time": "2023-09-06T07:10:57.194Z"
   },
   {
    "duration": 64,
    "start_time": "2023-09-06T07:10:57.230Z"
   },
   {
    "duration": 19,
    "start_time": "2023-09-06T07:10:57.297Z"
   },
   {
    "duration": 1185,
    "start_time": "2023-09-06T07:11:14.973Z"
   },
   {
    "duration": 82,
    "start_time": "2023-09-06T07:11:16.161Z"
   },
   {
    "duration": 13,
    "start_time": "2023-09-06T07:11:16.245Z"
   },
   {
    "duration": 45,
    "start_time": "2023-09-06T07:11:16.261Z"
   },
   {
    "duration": 54,
    "start_time": "2023-09-06T07:11:16.308Z"
   },
   {
    "duration": 34,
    "start_time": "2023-09-06T07:11:16.363Z"
   },
   {
    "duration": 37,
    "start_time": "2023-09-06T07:11:16.400Z"
   },
   {
    "duration": 28,
    "start_time": "2023-09-06T07:11:16.439Z"
   },
   {
    "duration": 25,
    "start_time": "2023-09-06T07:11:16.469Z"
   },
   {
    "duration": 31,
    "start_time": "2023-09-06T07:11:16.496Z"
   },
   {
    "duration": 33,
    "start_time": "2023-09-06T07:11:16.529Z"
   },
   {
    "duration": 1156,
    "start_time": "2023-09-06T07:11:34.318Z"
   },
   {
    "duration": 86,
    "start_time": "2023-09-06T07:11:35.483Z"
   },
   {
    "duration": 15,
    "start_time": "2023-09-06T07:11:35.570Z"
   },
   {
    "duration": 18,
    "start_time": "2023-09-06T07:11:35.586Z"
   },
   {
    "duration": 21,
    "start_time": "2023-09-06T07:11:35.607Z"
   },
   {
    "duration": 41,
    "start_time": "2023-09-06T07:11:35.629Z"
   },
   {
    "duration": 33,
    "start_time": "2023-09-06T07:11:35.672Z"
   },
   {
    "duration": 30,
    "start_time": "2023-09-06T07:11:35.707Z"
   },
   {
    "duration": 22,
    "start_time": "2023-09-06T07:11:35.738Z"
   },
   {
    "duration": 41,
    "start_time": "2023-09-06T07:11:35.761Z"
   },
   {
    "duration": 52,
    "start_time": "2023-09-06T07:11:35.804Z"
   },
   {
    "duration": 1286,
    "start_time": "2023-09-06T07:26:18.752Z"
   },
   {
    "duration": 91,
    "start_time": "2023-09-06T07:26:20.040Z"
   },
   {
    "duration": 12,
    "start_time": "2023-09-06T07:26:20.132Z"
   },
   {
    "duration": 28,
    "start_time": "2023-09-06T07:26:20.146Z"
   },
   {
    "duration": 33,
    "start_time": "2023-09-06T07:26:20.176Z"
   },
   {
    "duration": 13,
    "start_time": "2023-09-06T07:26:20.211Z"
   },
   {
    "duration": 21,
    "start_time": "2023-09-06T07:26:20.225Z"
   },
   {
    "duration": 29,
    "start_time": "2023-09-06T07:26:20.248Z"
   },
   {
    "duration": 18,
    "start_time": "2023-09-06T07:26:20.279Z"
   },
   {
    "duration": 23,
    "start_time": "2023-09-06T07:26:20.299Z"
   },
   {
    "duration": 18,
    "start_time": "2023-09-06T07:26:20.324Z"
   },
   {
    "duration": 1255,
    "start_time": "2023-09-06T07:28:04.429Z"
   },
   {
    "duration": 79,
    "start_time": "2023-09-06T07:28:05.696Z"
   },
   {
    "duration": 15,
    "start_time": "2023-09-06T07:28:05.777Z"
   },
   {
    "duration": 16,
    "start_time": "2023-09-06T07:28:05.795Z"
   },
   {
    "duration": 41,
    "start_time": "2023-09-06T07:28:05.813Z"
   },
   {
    "duration": 48,
    "start_time": "2023-09-06T07:28:05.856Z"
   },
   {
    "duration": 17,
    "start_time": "2023-09-06T07:28:05.906Z"
   },
   {
    "duration": 42,
    "start_time": "2023-09-06T07:28:05.925Z"
   },
   {
    "duration": 33,
    "start_time": "2023-09-06T07:28:05.969Z"
   },
   {
    "duration": 31,
    "start_time": "2023-09-06T07:28:06.004Z"
   },
   {
    "duration": 12,
    "start_time": "2023-09-06T07:28:06.037Z"
   },
   {
    "duration": 56,
    "start_time": "2023-09-06T07:28:06.051Z"
   },
   {
    "duration": 13,
    "start_time": "2023-09-06T07:28:06.109Z"
   },
   {
    "duration": 1379,
    "start_time": "2023-09-06T07:31:04.748Z"
   },
   {
    "duration": 107,
    "start_time": "2023-09-06T07:31:06.130Z"
   },
   {
    "duration": 14,
    "start_time": "2023-09-06T07:31:06.240Z"
   },
   {
    "duration": 43,
    "start_time": "2023-09-06T07:31:06.256Z"
   },
   {
    "duration": 11,
    "start_time": "2023-09-06T07:31:06.306Z"
   },
   {
    "duration": 18,
    "start_time": "2023-09-06T07:31:06.319Z"
   },
   {
    "duration": 25,
    "start_time": "2023-09-06T07:31:06.339Z"
   },
   {
    "duration": 33,
    "start_time": "2023-09-06T07:31:06.366Z"
   },
   {
    "duration": 10,
    "start_time": "2023-09-06T07:31:06.401Z"
   },
   {
    "duration": 14,
    "start_time": "2023-09-06T07:31:06.413Z"
   },
   {
    "duration": 13,
    "start_time": "2023-09-06T07:31:06.431Z"
   },
   {
    "duration": 27,
    "start_time": "2023-09-06T07:31:06.446Z"
   },
   {
    "duration": 28,
    "start_time": "2023-09-06T07:31:06.474Z"
   },
   {
    "duration": 35,
    "start_time": "2023-09-06T07:31:06.505Z"
   },
   {
    "duration": 1401,
    "start_time": "2023-09-06T08:45:50.641Z"
   },
   {
    "duration": 107,
    "start_time": "2023-09-06T08:45:52.044Z"
   },
   {
    "duration": 14,
    "start_time": "2023-09-06T08:45:52.153Z"
   },
   {
    "duration": 47,
    "start_time": "2023-09-06T08:45:52.169Z"
   },
   {
    "duration": 26,
    "start_time": "2023-09-06T08:45:52.218Z"
   },
   {
    "duration": 66,
    "start_time": "2023-09-06T08:45:52.245Z"
   },
   {
    "duration": 19,
    "start_time": "2023-09-06T08:45:52.313Z"
   },
   {
    "duration": 56,
    "start_time": "2023-09-06T08:45:52.334Z"
   },
   {
    "duration": 33,
    "start_time": "2023-09-06T08:45:52.393Z"
   },
   {
    "duration": 34,
    "start_time": "2023-09-06T08:45:52.429Z"
   },
   {
    "duration": 54,
    "start_time": "2023-09-06T08:45:52.465Z"
   },
   {
    "duration": 15,
    "start_time": "2023-09-06T08:45:52.525Z"
   },
   {
    "duration": 35,
    "start_time": "2023-09-06T08:45:52.541Z"
   },
   {
    "duration": 46,
    "start_time": "2023-09-06T08:45:52.578Z"
   },
   {
    "duration": 16,
    "start_time": "2023-09-06T08:45:52.626Z"
   },
   {
    "duration": 658,
    "start_time": "2023-09-06T08:48:24.167Z"
   },
   {
    "duration": 644,
    "start_time": "2023-09-06T08:48:55.661Z"
   },
   {
    "duration": 762,
    "start_time": "2023-09-06T08:54:30.817Z"
   },
   {
    "duration": 658,
    "start_time": "2023-09-06T08:57:33.012Z"
   },
   {
    "duration": 1343,
    "start_time": "2023-09-06T08:58:40.677Z"
   },
   {
    "duration": 109,
    "start_time": "2023-09-06T08:58:42.023Z"
   },
   {
    "duration": 12,
    "start_time": "2023-09-06T08:58:42.133Z"
   },
   {
    "duration": 20,
    "start_time": "2023-09-06T08:58:42.148Z"
   },
   {
    "duration": 37,
    "start_time": "2023-09-06T08:58:42.169Z"
   },
   {
    "duration": 24,
    "start_time": "2023-09-06T08:58:42.208Z"
   },
   {
    "duration": 26,
    "start_time": "2023-09-06T08:58:42.234Z"
   },
   {
    "duration": 34,
    "start_time": "2023-09-06T08:58:42.262Z"
   },
   {
    "duration": 29,
    "start_time": "2023-09-06T08:58:42.298Z"
   },
   {
    "duration": 14,
    "start_time": "2023-09-06T08:58:42.329Z"
   },
   {
    "duration": 30,
    "start_time": "2023-09-06T08:58:42.344Z"
   },
   {
    "duration": 26,
    "start_time": "2023-09-06T08:58:42.375Z"
   },
   {
    "duration": 27,
    "start_time": "2023-09-06T08:58:42.405Z"
   },
   {
    "duration": 14,
    "start_time": "2023-09-06T08:58:42.436Z"
   },
   {
    "duration": 30,
    "start_time": "2023-09-06T08:58:42.452Z"
   },
   {
    "duration": 19,
    "start_time": "2023-09-06T08:58:42.484Z"
   },
   {
    "duration": 637,
    "start_time": "2023-09-06T08:58:42.506Z"
   },
   {
    "duration": 17,
    "start_time": "2023-09-06T08:59:29.037Z"
   },
   {
    "duration": 1390,
    "start_time": "2023-09-06T09:16:52.275Z"
   },
   {
    "duration": 109,
    "start_time": "2023-09-06T09:16:53.667Z"
   },
   {
    "duration": 37,
    "start_time": "2023-09-06T09:16:53.778Z"
   },
   {
    "duration": 23,
    "start_time": "2023-09-06T09:16:53.821Z"
   },
   {
    "duration": 61,
    "start_time": "2023-09-06T09:16:53.846Z"
   },
   {
    "duration": 24,
    "start_time": "2023-09-06T09:16:53.912Z"
   },
   {
    "duration": 24,
    "start_time": "2023-09-06T09:16:53.938Z"
   },
   {
    "duration": 15,
    "start_time": "2023-09-06T09:16:53.964Z"
   },
   {
    "duration": 33,
    "start_time": "2023-09-06T09:16:53.981Z"
   },
   {
    "duration": 11,
    "start_time": "2023-09-06T09:16:54.021Z"
   },
   {
    "duration": 19,
    "start_time": "2023-09-06T09:16:54.036Z"
   },
   {
    "duration": 42,
    "start_time": "2023-09-06T09:16:54.057Z"
   },
   {
    "duration": 35,
    "start_time": "2023-09-06T09:16:54.101Z"
   },
   {
    "duration": 14,
    "start_time": "2023-09-06T09:16:54.139Z"
   },
   {
    "duration": 53,
    "start_time": "2023-09-06T09:16:54.154Z"
   },
   {
    "duration": 33,
    "start_time": "2023-09-06T09:16:54.209Z"
   },
   {
    "duration": 697,
    "start_time": "2023-09-06T09:16:54.244Z"
   },
   {
    "duration": 180,
    "start_time": "2023-09-06T09:16:54.943Z"
   },
   {
    "duration": 0,
    "start_time": "2023-09-06T09:16:55.125Z"
   },
   {
    "duration": 0,
    "start_time": "2023-09-06T09:16:55.126Z"
   },
   {
    "duration": 0,
    "start_time": "2023-09-06T09:16:55.127Z"
   },
   {
    "duration": 0,
    "start_time": "2023-09-06T09:16:55.128Z"
   },
   {
    "duration": 0,
    "start_time": "2023-09-06T09:16:55.129Z"
   },
   {
    "duration": 0,
    "start_time": "2023-09-06T09:16:55.130Z"
   },
   {
    "duration": 0,
    "start_time": "2023-09-06T09:16:55.132Z"
   },
   {
    "duration": 0,
    "start_time": "2023-09-06T09:16:55.133Z"
   },
   {
    "duration": 0,
    "start_time": "2023-09-06T09:16:55.134Z"
   },
   {
    "duration": 0,
    "start_time": "2023-09-06T09:16:55.136Z"
   },
   {
    "duration": 353,
    "start_time": "2023-09-06T09:31:06.466Z"
   },
   {
    "duration": 478,
    "start_time": "2023-09-06T09:31:09.311Z"
   },
   {
    "duration": 1287,
    "start_time": "2023-09-06T09:38:45.167Z"
   },
   {
    "duration": 116,
    "start_time": "2023-09-06T09:38:46.456Z"
   },
   {
    "duration": 18,
    "start_time": "2023-09-06T09:38:46.573Z"
   },
   {
    "duration": 23,
    "start_time": "2023-09-06T09:38:46.595Z"
   },
   {
    "duration": 20,
    "start_time": "2023-09-06T09:38:46.622Z"
   },
   {
    "duration": 13,
    "start_time": "2023-09-06T09:38:46.644Z"
   },
   {
    "duration": 16,
    "start_time": "2023-09-06T09:38:46.658Z"
   },
   {
    "duration": 27,
    "start_time": "2023-09-06T09:38:46.676Z"
   },
   {
    "duration": 42,
    "start_time": "2023-09-06T09:38:46.705Z"
   },
   {
    "duration": 25,
    "start_time": "2023-09-06T09:38:46.749Z"
   },
   {
    "duration": 66,
    "start_time": "2023-09-06T09:38:46.776Z"
   },
   {
    "duration": 21,
    "start_time": "2023-09-06T09:38:46.844Z"
   },
   {
    "duration": 52,
    "start_time": "2023-09-06T09:38:46.867Z"
   },
   {
    "duration": 20,
    "start_time": "2023-09-06T09:38:46.923Z"
   },
   {
    "duration": 18,
    "start_time": "2023-09-06T09:38:46.945Z"
   },
   {
    "duration": 35,
    "start_time": "2023-09-06T09:38:46.965Z"
   },
   {
    "duration": 787,
    "start_time": "2023-09-06T09:38:47.007Z"
   },
   {
    "duration": 266,
    "start_time": "2023-09-06T09:38:47.797Z"
   },
   {
    "duration": 453,
    "start_time": "2023-09-06T09:38:48.065Z"
   },
   {
    "duration": 138,
    "start_time": "2023-09-06T09:38:48.531Z"
   },
   {
    "duration": 0,
    "start_time": "2023-09-06T09:38:48.671Z"
   },
   {
    "duration": 0,
    "start_time": "2023-09-06T09:38:48.672Z"
   },
   {
    "duration": 0,
    "start_time": "2023-09-06T09:38:48.674Z"
   },
   {
    "duration": 0,
    "start_time": "2023-09-06T09:38:48.675Z"
   },
   {
    "duration": 0,
    "start_time": "2023-09-06T09:38:48.676Z"
   },
   {
    "duration": 0,
    "start_time": "2023-09-06T09:38:48.677Z"
   },
   {
    "duration": 0,
    "start_time": "2023-09-06T09:38:48.680Z"
   },
   {
    "duration": 0,
    "start_time": "2023-09-06T09:38:48.681Z"
   },
   {
    "duration": 27,
    "start_time": "2023-09-06T09:52:06.404Z"
   },
   {
    "duration": 8,
    "start_time": "2023-09-06T09:52:41.446Z"
   },
   {
    "duration": 1493,
    "start_time": "2023-09-06T09:53:02.513Z"
   },
   {
    "duration": 129,
    "start_time": "2023-09-06T09:53:04.015Z"
   },
   {
    "duration": 17,
    "start_time": "2023-09-06T09:53:04.146Z"
   },
   {
    "duration": 53,
    "start_time": "2023-09-06T09:53:04.165Z"
   },
   {
    "duration": 34,
    "start_time": "2023-09-06T09:53:04.221Z"
   },
   {
    "duration": 79,
    "start_time": "2023-09-06T09:53:04.256Z"
   },
   {
    "duration": 32,
    "start_time": "2023-09-06T09:53:04.340Z"
   },
   {
    "duration": 59,
    "start_time": "2023-09-06T09:53:04.374Z"
   },
   {
    "duration": 21,
    "start_time": "2023-09-06T09:53:04.435Z"
   },
   {
    "duration": 74,
    "start_time": "2023-09-06T09:53:04.458Z"
   },
   {
    "duration": 34,
    "start_time": "2023-09-06T09:53:04.534Z"
   },
   {
    "duration": 83,
    "start_time": "2023-09-06T09:53:04.571Z"
   },
   {
    "duration": 78,
    "start_time": "2023-09-06T09:53:04.656Z"
   },
   {
    "duration": 20,
    "start_time": "2023-09-06T09:53:04.738Z"
   },
   {
    "duration": 34,
    "start_time": "2023-09-06T09:53:04.760Z"
   },
   {
    "duration": 38,
    "start_time": "2023-09-06T09:53:04.796Z"
   },
   {
    "duration": 802,
    "start_time": "2023-09-06T09:53:04.836Z"
   },
   {
    "duration": 267,
    "start_time": "2023-09-06T09:53:05.644Z"
   },
   {
    "duration": 494,
    "start_time": "2023-09-06T09:53:05.917Z"
   },
   {
    "duration": 177,
    "start_time": "2023-09-06T09:53:06.414Z"
   },
   {
    "duration": 0,
    "start_time": "2023-09-06T09:53:06.594Z"
   },
   {
    "duration": 0,
    "start_time": "2023-09-06T09:53:06.595Z"
   },
   {
    "duration": 0,
    "start_time": "2023-09-06T09:53:06.596Z"
   },
   {
    "duration": 0,
    "start_time": "2023-09-06T09:53:06.598Z"
   },
   {
    "duration": 0,
    "start_time": "2023-09-06T09:53:06.599Z"
   },
   {
    "duration": 0,
    "start_time": "2023-09-06T09:53:06.601Z"
   },
   {
    "duration": 0,
    "start_time": "2023-09-06T09:53:06.602Z"
   },
   {
    "duration": 0,
    "start_time": "2023-09-06T09:53:06.603Z"
   },
   {
    "duration": 0,
    "start_time": "2023-09-06T09:53:06.605Z"
   },
   {
    "duration": 0,
    "start_time": "2023-09-06T09:53:06.606Z"
   },
   {
    "duration": 26,
    "start_time": "2023-09-06T09:56:53.571Z"
   },
   {
    "duration": 351,
    "start_time": "2023-09-06T10:04:11.706Z"
   },
   {
    "duration": 330,
    "start_time": "2023-09-06T10:04:57.771Z"
   },
   {
    "duration": 384,
    "start_time": "2023-09-06T10:08:28.007Z"
   },
   {
    "duration": 1349,
    "start_time": "2023-09-06T10:08:41.170Z"
   },
   {
    "duration": 105,
    "start_time": "2023-09-06T10:08:42.523Z"
   },
   {
    "duration": 12,
    "start_time": "2023-09-06T10:08:42.630Z"
   },
   {
    "duration": 23,
    "start_time": "2023-09-06T10:08:42.644Z"
   },
   {
    "duration": 46,
    "start_time": "2023-09-06T10:08:42.669Z"
   },
   {
    "duration": 15,
    "start_time": "2023-09-06T10:08:42.718Z"
   },
   {
    "duration": 11,
    "start_time": "2023-09-06T10:08:42.735Z"
   },
   {
    "duration": 15,
    "start_time": "2023-09-06T10:08:42.748Z"
   },
   {
    "duration": 30,
    "start_time": "2023-09-06T10:08:42.765Z"
   },
   {
    "duration": 121,
    "start_time": "2023-09-06T10:08:42.799Z"
   },
   {
    "duration": 26,
    "start_time": "2023-09-06T10:08:42.922Z"
   },
   {
    "duration": 79,
    "start_time": "2023-09-06T10:08:42.950Z"
   },
   {
    "duration": 99,
    "start_time": "2023-09-06T10:08:43.031Z"
   },
   {
    "duration": 27,
    "start_time": "2023-09-06T10:08:43.133Z"
   },
   {
    "duration": 67,
    "start_time": "2023-09-06T10:08:43.162Z"
   },
   {
    "duration": 22,
    "start_time": "2023-09-06T10:08:43.230Z"
   },
   {
    "duration": 676,
    "start_time": "2023-09-06T10:08:43.255Z"
   },
   {
    "duration": 306,
    "start_time": "2023-09-06T10:08:43.934Z"
   },
   {
    "duration": 432,
    "start_time": "2023-09-06T10:08:44.242Z"
   },
   {
    "duration": 158,
    "start_time": "2023-09-06T10:08:44.681Z"
   },
   {
    "duration": 0,
    "start_time": "2023-09-06T10:08:44.840Z"
   },
   {
    "duration": 0,
    "start_time": "2023-09-06T10:08:44.842Z"
   },
   {
    "duration": 0,
    "start_time": "2023-09-06T10:08:44.843Z"
   },
   {
    "duration": 0,
    "start_time": "2023-09-06T10:08:44.844Z"
   },
   {
    "duration": 0,
    "start_time": "2023-09-06T10:08:44.845Z"
   },
   {
    "duration": 0,
    "start_time": "2023-09-06T10:08:44.847Z"
   },
   {
    "duration": 0,
    "start_time": "2023-09-06T10:08:44.848Z"
   },
   {
    "duration": 0,
    "start_time": "2023-09-06T10:08:44.849Z"
   },
   {
    "duration": 0,
    "start_time": "2023-09-06T10:08:44.850Z"
   },
   {
    "duration": 0,
    "start_time": "2023-09-06T10:08:44.851Z"
   },
   {
    "duration": 0,
    "start_time": "2023-09-06T10:08:44.852Z"
   },
   {
    "duration": 0,
    "start_time": "2023-09-06T10:08:44.853Z"
   },
   {
    "duration": 322,
    "start_time": "2023-09-06T10:09:16.008Z"
   },
   {
    "duration": 1441,
    "start_time": "2023-09-06T10:15:34.167Z"
   },
   {
    "duration": 117,
    "start_time": "2023-09-06T10:15:35.611Z"
   },
   {
    "duration": 15,
    "start_time": "2023-09-06T10:15:35.731Z"
   },
   {
    "duration": 52,
    "start_time": "2023-09-06T10:15:35.749Z"
   },
   {
    "duration": 40,
    "start_time": "2023-09-06T10:15:35.805Z"
   },
   {
    "duration": 63,
    "start_time": "2023-09-06T10:15:35.846Z"
   },
   {
    "duration": 15,
    "start_time": "2023-09-06T10:15:35.912Z"
   },
   {
    "duration": 46,
    "start_time": "2023-09-06T10:15:35.929Z"
   },
   {
    "duration": 23,
    "start_time": "2023-09-06T10:15:35.977Z"
   },
   {
    "duration": 51,
    "start_time": "2023-09-06T10:15:36.003Z"
   },
   {
    "duration": 74,
    "start_time": "2023-09-06T10:15:36.056Z"
   },
   {
    "duration": 9,
    "start_time": "2023-09-06T10:15:36.132Z"
   },
   {
    "duration": 14,
    "start_time": "2023-09-06T10:15:36.143Z"
   },
   {
    "duration": 13,
    "start_time": "2023-09-06T10:15:36.159Z"
   },
   {
    "duration": 22,
    "start_time": "2023-09-06T10:15:36.174Z"
   },
   {
    "duration": 23,
    "start_time": "2023-09-06T10:15:36.198Z"
   },
   {
    "duration": 744,
    "start_time": "2023-09-06T10:15:36.230Z"
   },
   {
    "duration": 379,
    "start_time": "2023-09-06T10:15:36.976Z"
   },
   {
    "duration": 529,
    "start_time": "2023-09-06T10:15:37.357Z"
   },
   {
    "duration": 245,
    "start_time": "2023-09-06T10:15:37.892Z"
   },
   {
    "duration": 8,
    "start_time": "2023-09-06T10:15:38.139Z"
   },
   {
    "duration": 18,
    "start_time": "2023-09-06T10:15:38.149Z"
   },
   {
    "duration": 375,
    "start_time": "2023-09-06T10:15:38.169Z"
   },
   {
    "duration": 392,
    "start_time": "2023-09-06T10:15:38.546Z"
   },
   {
    "duration": 9,
    "start_time": "2023-09-06T10:15:38.940Z"
   },
   {
    "duration": 152,
    "start_time": "2023-09-06T10:15:38.951Z"
   },
   {
    "duration": 150,
    "start_time": "2023-09-06T10:15:39.105Z"
   },
   {
    "duration": 0,
    "start_time": "2023-09-06T10:15:39.257Z"
   },
   {
    "duration": 0,
    "start_time": "2023-09-06T10:15:39.259Z"
   },
   {
    "duration": 0,
    "start_time": "2023-09-06T10:15:39.260Z"
   },
   {
    "duration": 0,
    "start_time": "2023-09-06T10:15:39.261Z"
   },
   {
    "duration": 0,
    "start_time": "2023-09-06T10:15:39.262Z"
   },
   {
    "duration": 0,
    "start_time": "2023-09-06T10:15:39.263Z"
   },
   {
    "duration": 193,
    "start_time": "2023-09-06T10:24:05.711Z"
   },
   {
    "duration": 201,
    "start_time": "2023-09-06T10:28:16.022Z"
   },
   {
    "duration": 1255,
    "start_time": "2023-09-06T10:30:06.809Z"
   },
   {
    "duration": 82,
    "start_time": "2023-09-06T10:30:08.065Z"
   },
   {
    "duration": 12,
    "start_time": "2023-09-06T10:30:08.149Z"
   },
   {
    "duration": 15,
    "start_time": "2023-09-06T10:30:08.163Z"
   },
   {
    "duration": 18,
    "start_time": "2023-09-06T10:30:08.182Z"
   },
   {
    "duration": 21,
    "start_time": "2023-09-06T10:30:08.201Z"
   },
   {
    "duration": 19,
    "start_time": "2023-09-06T10:30:08.224Z"
   },
   {
    "duration": 42,
    "start_time": "2023-09-06T10:30:08.245Z"
   },
   {
    "duration": 10,
    "start_time": "2023-09-06T10:30:08.295Z"
   },
   {
    "duration": 21,
    "start_time": "2023-09-06T10:30:08.308Z"
   },
   {
    "duration": 17,
    "start_time": "2023-09-06T10:30:08.330Z"
   },
   {
    "duration": 30,
    "start_time": "2023-09-06T10:30:08.348Z"
   },
   {
    "duration": 36,
    "start_time": "2023-09-06T10:30:08.380Z"
   },
   {
    "duration": 13,
    "start_time": "2023-09-06T10:30:08.418Z"
   },
   {
    "duration": 39,
    "start_time": "2023-09-06T10:30:08.432Z"
   },
   {
    "duration": 37,
    "start_time": "2023-09-06T10:30:08.473Z"
   },
   {
    "duration": 586,
    "start_time": "2023-09-06T10:30:08.511Z"
   },
   {
    "duration": 253,
    "start_time": "2023-09-06T10:30:09.099Z"
   },
   {
    "duration": 383,
    "start_time": "2023-09-06T10:30:09.354Z"
   },
   {
    "duration": 171,
    "start_time": "2023-09-06T10:30:09.739Z"
   },
   {
    "duration": 7,
    "start_time": "2023-09-06T10:30:09.912Z"
   },
   {
    "duration": 46,
    "start_time": "2023-09-06T10:30:09.921Z"
   },
   {
    "duration": 316,
    "start_time": "2023-09-06T10:30:09.970Z"
   },
   {
    "duration": 403,
    "start_time": "2023-09-06T10:30:10.289Z"
   },
   {
    "duration": 7,
    "start_time": "2023-09-06T10:30:10.695Z"
   },
   {
    "duration": 173,
    "start_time": "2023-09-06T10:30:10.704Z"
   },
   {
    "duration": 184,
    "start_time": "2023-09-06T10:30:10.879Z"
   },
   {
    "duration": 244,
    "start_time": "2023-09-06T10:30:11.067Z"
   },
   {
    "duration": 5,
    "start_time": "2023-09-06T10:30:11.312Z"
   },
   {
    "duration": 230,
    "start_time": "2023-09-06T10:30:11.319Z"
   },
   {
    "duration": 329,
    "start_time": "2023-09-06T10:30:11.550Z"
   },
   {
    "duration": 11,
    "start_time": "2023-09-06T10:30:11.884Z"
   },
   {
    "duration": 134,
    "start_time": "2023-09-06T10:30:11.897Z"
   },
   {
    "duration": 6,
    "start_time": "2023-09-06T10:30:57.266Z"
   },
   {
    "duration": 2219,
    "start_time": "2023-09-06T10:31:32.621Z"
   },
   {
    "duration": 5,
    "start_time": "2023-09-06T10:31:52.733Z"
   },
   {
    "duration": 1789,
    "start_time": "2023-09-06T10:41:05.622Z"
   },
   {
    "duration": 100,
    "start_time": "2023-09-06T10:41:07.414Z"
   },
   {
    "duration": 37,
    "start_time": "2023-09-06T10:41:07.517Z"
   },
   {
    "duration": 55,
    "start_time": "2023-09-06T10:41:07.556Z"
   },
   {
    "duration": 32,
    "start_time": "2023-09-06T10:41:07.616Z"
   },
   {
    "duration": 58,
    "start_time": "2023-09-06T10:41:07.650Z"
   },
   {
    "duration": 53,
    "start_time": "2023-09-06T10:41:07.709Z"
   },
   {
    "duration": 84,
    "start_time": "2023-09-06T10:41:07.765Z"
   },
   {
    "duration": 31,
    "start_time": "2023-09-06T10:41:07.851Z"
   },
   {
    "duration": 48,
    "start_time": "2023-09-06T10:41:07.885Z"
   },
   {
    "duration": 36,
    "start_time": "2023-09-06T10:41:07.935Z"
   },
   {
    "duration": 51,
    "start_time": "2023-09-06T10:41:07.973Z"
   },
   {
    "duration": 46,
    "start_time": "2023-09-06T10:41:08.026Z"
   },
   {
    "duration": 56,
    "start_time": "2023-09-06T10:41:08.077Z"
   },
   {
    "duration": 70,
    "start_time": "2023-09-06T10:41:08.135Z"
   },
   {
    "duration": 53,
    "start_time": "2023-09-06T10:41:08.208Z"
   },
   {
    "duration": 714,
    "start_time": "2023-09-06T10:41:08.263Z"
   },
   {
    "duration": 299,
    "start_time": "2023-09-06T10:41:08.979Z"
   },
   {
    "duration": 449,
    "start_time": "2023-09-06T10:41:09.280Z"
   },
   {
    "duration": 188,
    "start_time": "2023-09-06T10:41:09.731Z"
   },
   {
    "duration": 7,
    "start_time": "2023-09-06T10:41:09.921Z"
   },
   {
    "duration": 135,
    "start_time": "2023-09-06T10:41:09.930Z"
   },
   {
    "duration": 437,
    "start_time": "2023-09-06T10:41:10.068Z"
   },
   {
    "duration": 405,
    "start_time": "2023-09-06T10:41:10.507Z"
   },
   {
    "duration": 9,
    "start_time": "2023-09-06T10:41:10.919Z"
   },
   {
    "duration": 423,
    "start_time": "2023-09-06T10:41:10.931Z"
   },
   {
    "duration": 0,
    "start_time": "2023-09-06T10:41:11.356Z"
   },
   {
    "duration": 0,
    "start_time": "2023-09-06T10:41:11.357Z"
   },
   {
    "duration": 0,
    "start_time": "2023-09-06T10:41:11.358Z"
   },
   {
    "duration": 0,
    "start_time": "2023-09-06T10:41:11.359Z"
   },
   {
    "duration": 0,
    "start_time": "2023-09-06T10:41:11.360Z"
   },
   {
    "duration": 0,
    "start_time": "2023-09-06T10:41:11.362Z"
   },
   {
    "duration": 0,
    "start_time": "2023-09-06T10:41:11.363Z"
   },
   {
    "duration": 0,
    "start_time": "2023-09-06T10:41:11.365Z"
   },
   {
    "duration": 1587,
    "start_time": "2023-09-06T10:42:29.769Z"
   },
   {
    "duration": 101,
    "start_time": "2023-09-06T10:42:31.358Z"
   },
   {
    "duration": 16,
    "start_time": "2023-09-06T10:42:31.461Z"
   },
   {
    "duration": 25,
    "start_time": "2023-09-06T10:42:31.479Z"
   },
   {
    "duration": 28,
    "start_time": "2023-09-06T10:42:31.508Z"
   },
   {
    "duration": 26,
    "start_time": "2023-09-06T10:42:31.539Z"
   },
   {
    "duration": 30,
    "start_time": "2023-09-06T10:42:31.567Z"
   },
   {
    "duration": 26,
    "start_time": "2023-09-06T10:42:31.599Z"
   },
   {
    "duration": 31,
    "start_time": "2023-09-06T10:42:31.627Z"
   },
   {
    "duration": 38,
    "start_time": "2023-09-06T10:42:31.660Z"
   },
   {
    "duration": 31,
    "start_time": "2023-09-06T10:42:31.700Z"
   },
   {
    "duration": 35,
    "start_time": "2023-09-06T10:42:31.733Z"
   },
   {
    "duration": 48,
    "start_time": "2023-09-06T10:42:31.770Z"
   },
   {
    "duration": 15,
    "start_time": "2023-09-06T10:42:31.822Z"
   },
   {
    "duration": 52,
    "start_time": "2023-09-06T10:42:31.839Z"
   },
   {
    "duration": 25,
    "start_time": "2023-09-06T10:42:31.895Z"
   },
   {
    "duration": 756,
    "start_time": "2023-09-06T10:42:31.922Z"
   },
   {
    "duration": 347,
    "start_time": "2023-09-06T10:42:32.681Z"
   },
   {
    "duration": 532,
    "start_time": "2023-09-06T10:42:33.034Z"
   },
   {
    "duration": 182,
    "start_time": "2023-09-06T10:42:33.568Z"
   },
   {
    "duration": 6,
    "start_time": "2023-09-06T10:42:33.752Z"
   },
   {
    "duration": 145,
    "start_time": "2023-09-06T10:42:33.760Z"
   },
   {
    "duration": 369,
    "start_time": "2023-09-06T10:42:33.908Z"
   },
   {
    "duration": 431,
    "start_time": "2023-09-06T10:42:34.279Z"
   },
   {
    "duration": 10,
    "start_time": "2023-09-06T10:42:34.714Z"
   },
   {
    "duration": 211,
    "start_time": "2023-09-06T10:42:34.726Z"
   },
   {
    "duration": 208,
    "start_time": "2023-09-06T10:42:34.939Z"
   },
   {
    "duration": 236,
    "start_time": "2023-09-06T10:42:35.150Z"
   },
   {
    "duration": 180,
    "start_time": "2023-09-06T10:42:35.388Z"
   },
   {
    "duration": 313,
    "start_time": "2023-09-06T10:42:35.570Z"
   },
   {
    "duration": 8,
    "start_time": "2023-09-06T10:42:35.886Z"
   },
   {
    "duration": 278,
    "start_time": "2023-09-06T10:42:35.898Z"
   },
   {
    "duration": 283,
    "start_time": "2023-09-06T10:42:36.178Z"
   },
   {
    "duration": 5,
    "start_time": "2023-09-06T10:42:36.463Z"
   },
   {
    "duration": 171,
    "start_time": "2023-09-06T10:42:36.471Z"
   },
   {
    "duration": 1566,
    "start_time": "2023-09-06T10:45:06.382Z"
   },
   {
    "duration": 99,
    "start_time": "2023-09-06T10:45:07.950Z"
   },
   {
    "duration": 15,
    "start_time": "2023-09-06T10:45:08.054Z"
   },
   {
    "duration": 51,
    "start_time": "2023-09-06T10:45:08.072Z"
   },
   {
    "duration": 151,
    "start_time": "2023-09-06T10:45:08.125Z"
   },
   {
    "duration": 29,
    "start_time": "2023-09-06T10:45:08.277Z"
   },
   {
    "duration": 17,
    "start_time": "2023-09-06T10:45:08.308Z"
   },
   {
    "duration": 25,
    "start_time": "2023-09-06T10:45:08.327Z"
   },
   {
    "duration": 9,
    "start_time": "2023-09-06T10:45:08.354Z"
   },
   {
    "duration": 22,
    "start_time": "2023-09-06T10:45:08.365Z"
   },
   {
    "duration": 23,
    "start_time": "2023-09-06T10:45:08.391Z"
   },
   {
    "duration": 19,
    "start_time": "2023-09-06T10:45:08.417Z"
   },
   {
    "duration": 21,
    "start_time": "2023-09-06T10:45:08.438Z"
   },
   {
    "duration": 22,
    "start_time": "2023-09-06T10:45:08.462Z"
   },
   {
    "duration": 34,
    "start_time": "2023-09-06T10:45:08.487Z"
   },
   {
    "duration": 38,
    "start_time": "2023-09-06T10:45:08.524Z"
   },
   {
    "duration": 821,
    "start_time": "2023-09-06T10:45:08.564Z"
   },
   {
    "duration": 350,
    "start_time": "2023-09-06T10:45:09.388Z"
   },
   {
    "duration": 423,
    "start_time": "2023-09-06T10:45:09.741Z"
   },
   {
    "duration": 204,
    "start_time": "2023-09-06T10:45:10.166Z"
   },
   {
    "duration": 23,
    "start_time": "2023-09-06T10:45:10.373Z"
   },
   {
    "duration": 29,
    "start_time": "2023-09-06T10:45:10.400Z"
   },
   {
    "duration": 372,
    "start_time": "2023-09-06T10:45:10.430Z"
   },
   {
    "duration": 395,
    "start_time": "2023-09-06T10:45:10.803Z"
   },
   {
    "duration": 11,
    "start_time": "2023-09-06T10:45:11.200Z"
   },
   {
    "duration": 239,
    "start_time": "2023-09-06T10:45:11.213Z"
   },
   {
    "duration": 232,
    "start_time": "2023-09-06T10:45:11.454Z"
   },
   {
    "duration": 274,
    "start_time": "2023-09-06T10:45:11.695Z"
   },
   {
    "duration": 260,
    "start_time": "2023-09-06T10:45:11.972Z"
   },
   {
    "duration": 341,
    "start_time": "2023-09-06T10:45:12.237Z"
   },
   {
    "duration": 10,
    "start_time": "2023-09-06T10:45:12.580Z"
   },
   {
    "duration": 262,
    "start_time": "2023-09-06T10:45:12.592Z"
   },
   {
    "duration": 281,
    "start_time": "2023-09-06T10:45:12.855Z"
   },
   {
    "duration": 6,
    "start_time": "2023-09-06T10:45:13.138Z"
   },
   {
    "duration": 198,
    "start_time": "2023-09-06T10:45:13.146Z"
   },
   {
    "duration": 221,
    "start_time": "2023-09-06T10:45:39.243Z"
   },
   {
    "duration": 495,
    "start_time": "2023-09-06T10:46:46.393Z"
   },
   {
    "duration": 130,
    "start_time": "2023-09-06T11:07:32.821Z"
   },
   {
    "duration": 22,
    "start_time": "2023-09-06T11:08:09.812Z"
   },
   {
    "duration": 22,
    "start_time": "2023-09-06T11:08:55.126Z"
   },
   {
    "duration": 34,
    "start_time": "2023-09-06T11:10:50.836Z"
   },
   {
    "duration": 32,
    "start_time": "2023-09-06T11:13:48.802Z"
   },
   {
    "duration": 1367,
    "start_time": "2023-09-06T11:14:08.148Z"
   },
   {
    "duration": 94,
    "start_time": "2023-09-06T11:14:09.517Z"
   },
   {
    "duration": 13,
    "start_time": "2023-09-06T11:14:09.612Z"
   },
   {
    "duration": 21,
    "start_time": "2023-09-06T11:14:09.627Z"
   },
   {
    "duration": 25,
    "start_time": "2023-09-06T11:14:09.650Z"
   },
   {
    "duration": 27,
    "start_time": "2023-09-06T11:14:09.677Z"
   },
   {
    "duration": 17,
    "start_time": "2023-09-06T11:14:09.706Z"
   },
   {
    "duration": 13,
    "start_time": "2023-09-06T11:14:09.725Z"
   },
   {
    "duration": 11,
    "start_time": "2023-09-06T11:14:09.740Z"
   },
   {
    "duration": 14,
    "start_time": "2023-09-06T11:14:09.754Z"
   },
   {
    "duration": 33,
    "start_time": "2023-09-06T11:14:09.770Z"
   },
   {
    "duration": 30,
    "start_time": "2023-09-06T11:14:09.805Z"
   },
   {
    "duration": 25,
    "start_time": "2023-09-06T11:14:09.837Z"
   },
   {
    "duration": 19,
    "start_time": "2023-09-06T11:14:09.864Z"
   },
   {
    "duration": 26,
    "start_time": "2023-09-06T11:14:09.895Z"
   },
   {
    "duration": 46,
    "start_time": "2023-09-06T11:14:09.923Z"
   },
   {
    "duration": 645,
    "start_time": "2023-09-06T11:14:09.971Z"
   },
   {
    "duration": 244,
    "start_time": "2023-09-06T11:14:10.617Z"
   },
   {
    "duration": 413,
    "start_time": "2023-09-06T11:14:10.864Z"
   },
   {
    "duration": 170,
    "start_time": "2023-09-06T11:14:11.279Z"
   },
   {
    "duration": 6,
    "start_time": "2023-09-06T11:14:11.451Z"
   },
   {
    "duration": 60,
    "start_time": "2023-09-06T11:14:11.459Z"
   },
   {
    "duration": 313,
    "start_time": "2023-09-06T11:14:11.520Z"
   },
   {
    "duration": 378,
    "start_time": "2023-09-06T11:14:11.835Z"
   },
   {
    "duration": 8,
    "start_time": "2023-09-06T11:14:12.216Z"
   },
   {
    "duration": 242,
    "start_time": "2023-09-06T11:14:12.226Z"
   },
   {
    "duration": 151,
    "start_time": "2023-09-06T11:14:12.471Z"
   },
   {
    "duration": 0,
    "start_time": "2023-09-06T11:14:12.624Z"
   },
   {
    "duration": 0,
    "start_time": "2023-09-06T11:14:12.625Z"
   },
   {
    "duration": 0,
    "start_time": "2023-09-06T11:14:12.626Z"
   },
   {
    "duration": 0,
    "start_time": "2023-09-06T11:14:12.627Z"
   },
   {
    "duration": 0,
    "start_time": "2023-09-06T11:14:12.628Z"
   },
   {
    "duration": 0,
    "start_time": "2023-09-06T11:14:12.629Z"
   },
   {
    "duration": 0,
    "start_time": "2023-09-06T11:14:12.630Z"
   },
   {
    "duration": 0,
    "start_time": "2023-09-06T11:14:12.632Z"
   },
   {
    "duration": 0,
    "start_time": "2023-09-06T11:14:12.633Z"
   },
   {
    "duration": 0,
    "start_time": "2023-09-06T11:14:12.635Z"
   },
   {
    "duration": 46,
    "start_time": "2023-09-06T11:16:31.172Z"
   },
   {
    "duration": 1889,
    "start_time": "2023-09-06T11:17:39.570Z"
   },
   {
    "duration": 2579,
    "start_time": "2023-09-06T11:19:17.372Z"
   },
   {
    "duration": 1284,
    "start_time": "2023-09-06T11:19:50.509Z"
   },
   {
    "duration": 84,
    "start_time": "2023-09-06T11:19:51.795Z"
   },
   {
    "duration": 16,
    "start_time": "2023-09-06T11:19:51.880Z"
   },
   {
    "duration": 15,
    "start_time": "2023-09-06T11:19:51.900Z"
   },
   {
    "duration": 28,
    "start_time": "2023-09-06T11:19:51.917Z"
   },
   {
    "duration": 45,
    "start_time": "2023-09-06T11:19:51.946Z"
   },
   {
    "duration": 28,
    "start_time": "2023-09-06T11:19:51.993Z"
   },
   {
    "duration": 29,
    "start_time": "2023-09-06T11:19:52.023Z"
   },
   {
    "duration": 10,
    "start_time": "2023-09-06T11:19:52.054Z"
   },
   {
    "duration": 32,
    "start_time": "2023-09-06T11:19:52.065Z"
   },
   {
    "duration": 24,
    "start_time": "2023-09-06T11:19:52.099Z"
   },
   {
    "duration": 15,
    "start_time": "2023-09-06T11:19:52.125Z"
   },
   {
    "duration": 36,
    "start_time": "2023-09-06T11:19:52.141Z"
   },
   {
    "duration": 37,
    "start_time": "2023-09-06T11:19:52.180Z"
   },
   {
    "duration": 23,
    "start_time": "2023-09-06T11:19:52.218Z"
   },
   {
    "duration": 44,
    "start_time": "2023-09-06T11:19:52.243Z"
   },
   {
    "duration": 605,
    "start_time": "2023-09-06T11:19:52.289Z"
   },
   {
    "duration": 234,
    "start_time": "2023-09-06T11:19:52.896Z"
   },
   {
    "duration": 413,
    "start_time": "2023-09-06T11:19:53.132Z"
   },
   {
    "duration": 165,
    "start_time": "2023-09-06T11:19:53.547Z"
   },
   {
    "duration": 7,
    "start_time": "2023-09-06T11:19:53.714Z"
   },
   {
    "duration": 19,
    "start_time": "2023-09-06T11:19:53.722Z"
   },
   {
    "duration": 326,
    "start_time": "2023-09-06T11:19:53.743Z"
   },
   {
    "duration": 399,
    "start_time": "2023-09-06T11:19:54.071Z"
   },
   {
    "duration": 14,
    "start_time": "2023-09-06T11:19:54.472Z"
   },
   {
    "duration": 215,
    "start_time": "2023-09-06T11:19:54.496Z"
   },
   {
    "duration": 1747,
    "start_time": "2023-09-06T11:19:54.713Z"
   },
   {
    "duration": 0,
    "start_time": "2023-09-06T11:19:56.462Z"
   },
   {
    "duration": 0,
    "start_time": "2023-09-06T11:19:56.463Z"
   },
   {
    "duration": 0,
    "start_time": "2023-09-06T11:19:56.464Z"
   },
   {
    "duration": 0,
    "start_time": "2023-09-06T11:19:56.465Z"
   },
   {
    "duration": 0,
    "start_time": "2023-09-06T11:19:56.467Z"
   },
   {
    "duration": 0,
    "start_time": "2023-09-06T11:19:56.468Z"
   },
   {
    "duration": 0,
    "start_time": "2023-09-06T11:19:56.470Z"
   },
   {
    "duration": 0,
    "start_time": "2023-09-06T11:19:56.470Z"
   },
   {
    "duration": 0,
    "start_time": "2023-09-06T11:19:56.471Z"
   },
   {
    "duration": 1,
    "start_time": "2023-09-06T11:19:56.472Z"
   },
   {
    "duration": 3267,
    "start_time": "2023-09-06T11:20:56.604Z"
   },
   {
    "duration": 1368,
    "start_time": "2023-09-06T11:26:46.529Z"
   },
   {
    "duration": 106,
    "start_time": "2023-09-06T11:26:47.904Z"
   },
   {
    "duration": 12,
    "start_time": "2023-09-06T11:26:48.012Z"
   },
   {
    "duration": 31,
    "start_time": "2023-09-06T11:26:48.027Z"
   },
   {
    "duration": 12,
    "start_time": "2023-09-06T11:26:48.059Z"
   },
   {
    "duration": 32,
    "start_time": "2023-09-06T11:26:48.073Z"
   },
   {
    "duration": 12,
    "start_time": "2023-09-06T11:26:48.111Z"
   },
   {
    "duration": 12,
    "start_time": "2023-09-06T11:26:48.125Z"
   },
   {
    "duration": 7,
    "start_time": "2023-09-06T11:26:48.139Z"
   },
   {
    "duration": 24,
    "start_time": "2023-09-06T11:26:48.149Z"
   },
   {
    "duration": 37,
    "start_time": "2023-09-06T11:26:48.175Z"
   },
   {
    "duration": 16,
    "start_time": "2023-09-06T11:26:48.214Z"
   },
   {
    "duration": 19,
    "start_time": "2023-09-06T11:26:48.232Z"
   },
   {
    "duration": 14,
    "start_time": "2023-09-06T11:26:48.253Z"
   },
   {
    "duration": 46,
    "start_time": "2023-09-06T11:26:48.269Z"
   },
   {
    "duration": 15,
    "start_time": "2023-09-06T11:26:48.317Z"
   },
   {
    "duration": 596,
    "start_time": "2023-09-06T11:26:48.334Z"
   },
   {
    "duration": 236,
    "start_time": "2023-09-06T11:26:48.932Z"
   },
   {
    "duration": 410,
    "start_time": "2023-09-06T11:26:49.169Z"
   },
   {
    "duration": 153,
    "start_time": "2023-09-06T11:26:49.583Z"
   },
   {
    "duration": 7,
    "start_time": "2023-09-06T11:26:49.738Z"
   },
   {
    "duration": 33,
    "start_time": "2023-09-06T11:26:49.746Z"
   },
   {
    "duration": 344,
    "start_time": "2023-09-06T11:26:49.793Z"
   },
   {
    "duration": 397,
    "start_time": "2023-09-06T11:26:50.140Z"
   },
   {
    "duration": 8,
    "start_time": "2023-09-06T11:26:50.538Z"
   },
   {
    "duration": 1698,
    "start_time": "2023-09-06T11:26:50.547Z"
   },
   {
    "duration": 0,
    "start_time": "2023-09-06T11:26:52.247Z"
   },
   {
    "duration": 0,
    "start_time": "2023-09-06T11:26:52.249Z"
   },
   {
    "duration": 0,
    "start_time": "2023-09-06T11:26:52.249Z"
   },
   {
    "duration": 0,
    "start_time": "2023-09-06T11:26:52.250Z"
   },
   {
    "duration": 0,
    "start_time": "2023-09-06T11:26:52.251Z"
   },
   {
    "duration": 0,
    "start_time": "2023-09-06T11:26:52.254Z"
   },
   {
    "duration": 1,
    "start_time": "2023-09-06T11:26:52.255Z"
   },
   {
    "duration": 0,
    "start_time": "2023-09-06T11:26:52.257Z"
   },
   {
    "duration": 0,
    "start_time": "2023-09-06T11:26:52.259Z"
   },
   {
    "duration": 0,
    "start_time": "2023-09-06T11:26:52.260Z"
   },
   {
    "duration": 0,
    "start_time": "2023-09-06T11:26:52.261Z"
   },
   {
    "duration": 22,
    "start_time": "2023-09-06T11:28:13.723Z"
   },
   {
    "duration": 23,
    "start_time": "2023-09-06T11:29:38.023Z"
   },
   {
    "duration": 14,
    "start_time": "2023-09-06T11:33:54.269Z"
   },
   {
    "duration": 13,
    "start_time": "2023-09-06T11:37:40.761Z"
   },
   {
    "duration": 1422,
    "start_time": "2023-09-06T11:37:56.962Z"
   },
   {
    "duration": 106,
    "start_time": "2023-09-06T11:37:58.389Z"
   },
   {
    "duration": 19,
    "start_time": "2023-09-06T11:37:58.503Z"
   },
   {
    "duration": 27,
    "start_time": "2023-09-06T11:37:58.524Z"
   },
   {
    "duration": 32,
    "start_time": "2023-09-06T11:37:58.553Z"
   },
   {
    "duration": 41,
    "start_time": "2023-09-06T11:37:58.587Z"
   },
   {
    "duration": 31,
    "start_time": "2023-09-06T11:37:58.630Z"
   },
   {
    "duration": 21,
    "start_time": "2023-09-06T11:37:58.663Z"
   },
   {
    "duration": 31,
    "start_time": "2023-09-06T11:37:58.686Z"
   },
   {
    "duration": 26,
    "start_time": "2023-09-06T11:37:58.718Z"
   },
   {
    "duration": 48,
    "start_time": "2023-09-06T11:37:58.745Z"
   },
   {
    "duration": 28,
    "start_time": "2023-09-06T11:37:58.795Z"
   },
   {
    "duration": 41,
    "start_time": "2023-09-06T11:37:58.825Z"
   },
   {
    "duration": 18,
    "start_time": "2023-09-06T11:37:58.872Z"
   },
   {
    "duration": 40,
    "start_time": "2023-09-06T11:37:58.893Z"
   },
   {
    "duration": 69,
    "start_time": "2023-09-06T11:37:58.935Z"
   },
   {
    "duration": 633,
    "start_time": "2023-09-06T11:37:59.007Z"
   },
   {
    "duration": 268,
    "start_time": "2023-09-06T11:37:59.642Z"
   },
   {
    "duration": 400,
    "start_time": "2023-09-06T11:37:59.912Z"
   },
   {
    "duration": 150,
    "start_time": "2023-09-06T11:38:00.314Z"
   },
   {
    "duration": 23,
    "start_time": "2023-09-06T11:38:00.465Z"
   },
   {
    "duration": 105,
    "start_time": "2023-09-06T11:38:00.493Z"
   },
   {
    "duration": 325,
    "start_time": "2023-09-06T11:38:00.600Z"
   },
   {
    "duration": 384,
    "start_time": "2023-09-06T11:38:00.927Z"
   },
   {
    "duration": 121,
    "start_time": "2023-09-06T11:38:01.313Z"
   },
   {
    "duration": 0,
    "start_time": "2023-09-06T11:38:01.436Z"
   },
   {
    "duration": 0,
    "start_time": "2023-09-06T11:38:01.437Z"
   },
   {
    "duration": 0,
    "start_time": "2023-09-06T11:38:01.439Z"
   },
   {
    "duration": 0,
    "start_time": "2023-09-06T11:38:01.440Z"
   },
   {
    "duration": 0,
    "start_time": "2023-09-06T11:38:01.441Z"
   },
   {
    "duration": 0,
    "start_time": "2023-09-06T11:38:01.443Z"
   },
   {
    "duration": 0,
    "start_time": "2023-09-06T11:38:01.444Z"
   },
   {
    "duration": 0,
    "start_time": "2023-09-06T11:38:01.445Z"
   },
   {
    "duration": 0,
    "start_time": "2023-09-06T11:38:01.446Z"
   },
   {
    "duration": 0,
    "start_time": "2023-09-06T11:38:01.447Z"
   },
   {
    "duration": 0,
    "start_time": "2023-09-06T11:38:01.448Z"
   },
   {
    "duration": 0,
    "start_time": "2023-09-06T11:38:01.450Z"
   },
   {
    "duration": 0,
    "start_time": "2023-09-06T11:38:01.451Z"
   },
   {
    "duration": 14,
    "start_time": "2023-09-06T11:39:21.559Z"
   },
   {
    "duration": 8,
    "start_time": "2023-09-06T11:41:33.814Z"
   },
   {
    "duration": 1266,
    "start_time": "2023-09-06T11:41:50.813Z"
   },
   {
    "duration": 84,
    "start_time": "2023-09-06T11:41:52.084Z"
   },
   {
    "duration": 15,
    "start_time": "2023-09-06T11:41:52.169Z"
   },
   {
    "duration": 17,
    "start_time": "2023-09-06T11:41:52.189Z"
   },
   {
    "duration": 9,
    "start_time": "2023-09-06T11:41:52.209Z"
   },
   {
    "duration": 15,
    "start_time": "2023-09-06T11:41:52.220Z"
   },
   {
    "duration": 21,
    "start_time": "2023-09-06T11:41:52.237Z"
   },
   {
    "duration": 16,
    "start_time": "2023-09-06T11:41:52.260Z"
   },
   {
    "duration": 23,
    "start_time": "2023-09-06T11:41:52.277Z"
   },
   {
    "duration": 11,
    "start_time": "2023-09-06T11:41:52.302Z"
   },
   {
    "duration": 34,
    "start_time": "2023-09-06T11:41:52.315Z"
   },
   {
    "duration": 14,
    "start_time": "2023-09-06T11:41:52.351Z"
   },
   {
    "duration": 19,
    "start_time": "2023-09-06T11:41:52.367Z"
   },
   {
    "duration": 20,
    "start_time": "2023-09-06T11:41:52.395Z"
   },
   {
    "duration": 22,
    "start_time": "2023-09-06T11:41:52.418Z"
   },
   {
    "duration": 16,
    "start_time": "2023-09-06T11:41:52.442Z"
   },
   {
    "duration": 667,
    "start_time": "2023-09-06T11:41:52.460Z"
   },
   {
    "duration": 242,
    "start_time": "2023-09-06T11:41:53.129Z"
   },
   {
    "duration": 405,
    "start_time": "2023-09-06T11:41:53.373Z"
   },
   {
    "duration": 166,
    "start_time": "2023-09-06T11:41:53.780Z"
   },
   {
    "duration": 5,
    "start_time": "2023-09-06T11:41:53.948Z"
   },
   {
    "duration": 40,
    "start_time": "2023-09-06T11:41:53.955Z"
   },
   {
    "duration": 143,
    "start_time": "2023-09-06T11:41:53.997Z"
   },
   {
    "duration": 0,
    "start_time": "2023-09-06T11:41:54.142Z"
   },
   {
    "duration": 0,
    "start_time": "2023-09-06T11:41:54.143Z"
   },
   {
    "duration": 0,
    "start_time": "2023-09-06T11:41:54.145Z"
   },
   {
    "duration": 0,
    "start_time": "2023-09-06T11:41:54.145Z"
   },
   {
    "duration": 0,
    "start_time": "2023-09-06T11:41:54.146Z"
   },
   {
    "duration": 0,
    "start_time": "2023-09-06T11:41:54.148Z"
   },
   {
    "duration": 0,
    "start_time": "2023-09-06T11:41:54.149Z"
   },
   {
    "duration": 0,
    "start_time": "2023-09-06T11:41:54.150Z"
   },
   {
    "duration": 0,
    "start_time": "2023-09-06T11:41:54.151Z"
   },
   {
    "duration": 0,
    "start_time": "2023-09-06T11:41:54.152Z"
   },
   {
    "duration": 0,
    "start_time": "2023-09-06T11:41:54.153Z"
   },
   {
    "duration": 1,
    "start_time": "2023-09-06T11:41:54.155Z"
   },
   {
    "duration": 0,
    "start_time": "2023-09-06T11:41:54.156Z"
   },
   {
    "duration": 0,
    "start_time": "2023-09-06T11:41:54.158Z"
   },
   {
    "duration": 0,
    "start_time": "2023-09-06T11:41:54.159Z"
   },
   {
    "duration": 0,
    "start_time": "2023-09-06T11:41:54.181Z"
   },
   {
    "duration": 9,
    "start_time": "2023-09-06T11:42:54.609Z"
   },
   {
    "duration": 1171,
    "start_time": "2023-09-06T11:43:18.804Z"
   },
   {
    "duration": 91,
    "start_time": "2023-09-06T11:43:19.977Z"
   },
   {
    "duration": 24,
    "start_time": "2023-09-06T11:43:20.070Z"
   },
   {
    "duration": 9,
    "start_time": "2023-09-06T11:43:20.107Z"
   },
   {
    "duration": 14,
    "start_time": "2023-09-06T11:43:20.119Z"
   },
   {
    "duration": 29,
    "start_time": "2023-09-06T11:43:20.135Z"
   },
   {
    "duration": 33,
    "start_time": "2023-09-06T11:43:20.167Z"
   },
   {
    "duration": 101,
    "start_time": "2023-09-06T11:43:20.207Z"
   },
   {
    "duration": 66,
    "start_time": "2023-09-06T11:43:20.310Z"
   },
   {
    "duration": 107,
    "start_time": "2023-09-06T11:43:20.378Z"
   },
   {
    "duration": 140,
    "start_time": "2023-09-06T11:43:20.486Z"
   },
   {
    "duration": 77,
    "start_time": "2023-09-06T11:43:20.628Z"
   },
   {
    "duration": 118,
    "start_time": "2023-09-06T11:43:20.707Z"
   },
   {
    "duration": 80,
    "start_time": "2023-09-06T11:43:20.830Z"
   },
   {
    "duration": 102,
    "start_time": "2023-09-06T11:43:20.911Z"
   },
   {
    "duration": 16,
    "start_time": "2023-09-06T11:43:21.015Z"
   },
   {
    "duration": 600,
    "start_time": "2023-09-06T11:43:21.033Z"
   },
   {
    "duration": 231,
    "start_time": "2023-09-06T11:43:21.635Z"
   },
   {
    "duration": 372,
    "start_time": "2023-09-06T11:43:21.868Z"
   },
   {
    "duration": 153,
    "start_time": "2023-09-06T11:43:22.242Z"
   },
   {
    "duration": 7,
    "start_time": "2023-09-06T11:43:22.406Z"
   },
   {
    "duration": 113,
    "start_time": "2023-09-06T11:43:22.415Z"
   },
   {
    "duration": 0,
    "start_time": "2023-09-06T11:43:22.530Z"
   },
   {
    "duration": 0,
    "start_time": "2023-09-06T11:43:22.531Z"
   },
   {
    "duration": 0,
    "start_time": "2023-09-06T11:43:22.532Z"
   },
   {
    "duration": 0,
    "start_time": "2023-09-06T11:43:22.533Z"
   },
   {
    "duration": 0,
    "start_time": "2023-09-06T11:43:22.534Z"
   },
   {
    "duration": 0,
    "start_time": "2023-09-06T11:43:22.535Z"
   },
   {
    "duration": 0,
    "start_time": "2023-09-06T11:43:22.536Z"
   },
   {
    "duration": 0,
    "start_time": "2023-09-06T11:43:22.537Z"
   },
   {
    "duration": 0,
    "start_time": "2023-09-06T11:43:22.538Z"
   },
   {
    "duration": 0,
    "start_time": "2023-09-06T11:43:22.539Z"
   },
   {
    "duration": 0,
    "start_time": "2023-09-06T11:43:22.540Z"
   },
   {
    "duration": 0,
    "start_time": "2023-09-06T11:43:22.541Z"
   },
   {
    "duration": 0,
    "start_time": "2023-09-06T11:43:22.542Z"
   },
   {
    "duration": 0,
    "start_time": "2023-09-06T11:43:22.543Z"
   },
   {
    "duration": 0,
    "start_time": "2023-09-06T11:43:22.544Z"
   },
   {
    "duration": 0,
    "start_time": "2023-09-06T11:43:22.545Z"
   },
   {
    "duration": 0,
    "start_time": "2023-09-06T11:43:22.546Z"
   },
   {
    "duration": 26,
    "start_time": "2023-09-06T11:43:48.672Z"
   },
   {
    "duration": 7,
    "start_time": "2023-09-06T11:43:54.205Z"
   },
   {
    "duration": 15,
    "start_time": "2023-09-06T11:43:55.496Z"
   },
   {
    "duration": 17,
    "start_time": "2023-09-06T11:44:12.511Z"
   },
   {
    "duration": 10,
    "start_time": "2023-09-06T11:44:17.227Z"
   },
   {
    "duration": 20,
    "start_time": "2023-09-06T11:44:29.204Z"
   },
   {
    "duration": 9,
    "start_time": "2023-09-06T11:46:11.460Z"
   },
   {
    "duration": 1243,
    "start_time": "2023-09-06T11:46:33.618Z"
   },
   {
    "duration": 97,
    "start_time": "2023-09-06T11:46:34.863Z"
   },
   {
    "duration": 13,
    "start_time": "2023-09-06T11:46:34.961Z"
   },
   {
    "duration": 31,
    "start_time": "2023-09-06T11:46:34.975Z"
   },
   {
    "duration": 13,
    "start_time": "2023-09-06T11:46:35.009Z"
   },
   {
    "duration": 19,
    "start_time": "2023-09-06T11:46:35.024Z"
   },
   {
    "duration": 16,
    "start_time": "2023-09-06T11:46:35.044Z"
   },
   {
    "duration": 17,
    "start_time": "2023-09-06T11:46:35.061Z"
   },
   {
    "duration": 30,
    "start_time": "2023-09-06T11:46:35.080Z"
   },
   {
    "duration": 9,
    "start_time": "2023-09-06T11:46:35.116Z"
   },
   {
    "duration": 16,
    "start_time": "2023-09-06T11:46:35.126Z"
   },
   {
    "duration": 68,
    "start_time": "2023-09-06T11:46:35.144Z"
   },
   {
    "duration": 26,
    "start_time": "2023-09-06T11:46:35.216Z"
   },
   {
    "duration": 17,
    "start_time": "2023-09-06T11:46:35.246Z"
   },
   {
    "duration": 42,
    "start_time": "2023-09-06T11:46:35.265Z"
   },
   {
    "duration": 19,
    "start_time": "2023-09-06T11:46:35.308Z"
   },
   {
    "duration": 636,
    "start_time": "2023-09-06T11:46:35.328Z"
   },
   {
    "duration": 263,
    "start_time": "2023-09-06T11:46:35.966Z"
   },
   {
    "duration": 440,
    "start_time": "2023-09-06T11:46:36.231Z"
   },
   {
    "duration": 229,
    "start_time": "2023-09-06T11:46:36.673Z"
   },
   {
    "duration": 17,
    "start_time": "2023-09-06T11:46:36.907Z"
   },
   {
    "duration": 48,
    "start_time": "2023-09-06T11:46:36.929Z"
   },
   {
    "duration": 151,
    "start_time": "2023-09-06T11:46:36.979Z"
   },
   {
    "duration": 0,
    "start_time": "2023-09-06T11:46:37.132Z"
   },
   {
    "duration": 0,
    "start_time": "2023-09-06T11:46:37.133Z"
   },
   {
    "duration": 0,
    "start_time": "2023-09-06T11:46:37.134Z"
   },
   {
    "duration": 0,
    "start_time": "2023-09-06T11:46:37.135Z"
   },
   {
    "duration": 0,
    "start_time": "2023-09-06T11:46:37.137Z"
   },
   {
    "duration": 0,
    "start_time": "2023-09-06T11:46:37.138Z"
   },
   {
    "duration": 0,
    "start_time": "2023-09-06T11:46:37.139Z"
   },
   {
    "duration": 0,
    "start_time": "2023-09-06T11:46:37.140Z"
   },
   {
    "duration": 0,
    "start_time": "2023-09-06T11:46:37.141Z"
   },
   {
    "duration": 0,
    "start_time": "2023-09-06T11:46:37.142Z"
   },
   {
    "duration": 0,
    "start_time": "2023-09-06T11:46:37.143Z"
   },
   {
    "duration": 0,
    "start_time": "2023-09-06T11:46:37.145Z"
   },
   {
    "duration": 0,
    "start_time": "2023-09-06T11:46:37.148Z"
   },
   {
    "duration": 0,
    "start_time": "2023-09-06T11:46:37.149Z"
   },
   {
    "duration": 0,
    "start_time": "2023-09-06T11:46:37.150Z"
   },
   {
    "duration": 0,
    "start_time": "2023-09-06T11:46:37.151Z"
   },
   {
    "duration": 303,
    "start_time": "2023-09-06T11:47:08.909Z"
   },
   {
    "duration": 1155,
    "start_time": "2023-09-06T11:47:18.806Z"
   },
   {
    "duration": 96,
    "start_time": "2023-09-06T11:47:19.963Z"
   },
   {
    "duration": 11,
    "start_time": "2023-09-06T11:47:20.061Z"
   },
   {
    "duration": 33,
    "start_time": "2023-09-06T11:47:20.074Z"
   },
   {
    "duration": 7,
    "start_time": "2023-09-06T11:47:20.109Z"
   },
   {
    "duration": 35,
    "start_time": "2023-09-06T11:47:20.118Z"
   },
   {
    "duration": 30,
    "start_time": "2023-09-06T11:47:20.155Z"
   },
   {
    "duration": 31,
    "start_time": "2023-09-06T11:47:20.186Z"
   },
   {
    "duration": 22,
    "start_time": "2023-09-06T11:47:20.219Z"
   },
   {
    "duration": 57,
    "start_time": "2023-09-06T11:47:20.242Z"
   },
   {
    "duration": 7,
    "start_time": "2023-09-06T11:47:20.309Z"
   },
   {
    "duration": 38,
    "start_time": "2023-09-06T11:47:20.318Z"
   },
   {
    "duration": 57,
    "start_time": "2023-09-06T11:47:20.358Z"
   },
   {
    "duration": 31,
    "start_time": "2023-09-06T11:47:20.418Z"
   },
   {
    "duration": 19,
    "start_time": "2023-09-06T11:47:20.451Z"
   },
   {
    "duration": 34,
    "start_time": "2023-09-06T11:47:20.471Z"
   },
   {
    "duration": 604,
    "start_time": "2023-09-06T11:47:20.507Z"
   },
   {
    "duration": 221,
    "start_time": "2023-09-06T11:47:21.112Z"
   },
   {
    "duration": 409,
    "start_time": "2023-09-06T11:47:21.334Z"
   },
   {
    "duration": 163,
    "start_time": "2023-09-06T11:47:21.745Z"
   },
   {
    "duration": 7,
    "start_time": "2023-09-06T11:47:21.910Z"
   },
   {
    "duration": 42,
    "start_time": "2023-09-06T11:47:21.919Z"
   },
   {
    "duration": 311,
    "start_time": "2023-09-06T11:47:21.962Z"
   },
   {
    "duration": 416,
    "start_time": "2023-09-06T11:47:22.275Z"
   },
   {
    "duration": 121,
    "start_time": "2023-09-06T11:47:22.693Z"
   },
   {
    "duration": 0,
    "start_time": "2023-09-06T11:47:22.816Z"
   },
   {
    "duration": 0,
    "start_time": "2023-09-06T11:47:22.818Z"
   },
   {
    "duration": 0,
    "start_time": "2023-09-06T11:47:22.819Z"
   },
   {
    "duration": 0,
    "start_time": "2023-09-06T11:47:22.821Z"
   },
   {
    "duration": 0,
    "start_time": "2023-09-06T11:47:22.822Z"
   },
   {
    "duration": 0,
    "start_time": "2023-09-06T11:47:22.824Z"
   },
   {
    "duration": 0,
    "start_time": "2023-09-06T11:47:22.826Z"
   },
   {
    "duration": 0,
    "start_time": "2023-09-06T11:47:22.827Z"
   },
   {
    "duration": 1,
    "start_time": "2023-09-06T11:47:22.828Z"
   },
   {
    "duration": 0,
    "start_time": "2023-09-06T11:47:22.830Z"
   },
   {
    "duration": 0,
    "start_time": "2023-09-06T11:47:22.832Z"
   },
   {
    "duration": 0,
    "start_time": "2023-09-06T11:47:22.833Z"
   },
   {
    "duration": 0,
    "start_time": "2023-09-06T11:47:22.835Z"
   },
   {
    "duration": 10,
    "start_time": "2023-09-06T11:52:55.515Z"
   },
   {
    "duration": 31,
    "start_time": "2023-09-06T11:55:12.176Z"
   },
   {
    "duration": 27,
    "start_time": "2023-09-06T11:55:29.676Z"
   },
   {
    "duration": 263,
    "start_time": "2023-09-06T11:56:38.560Z"
   },
   {
    "duration": 45,
    "start_time": "2023-09-06T11:58:16.576Z"
   },
   {
    "duration": 264,
    "start_time": "2023-09-06T11:58:42.167Z"
   },
   {
    "duration": 1281,
    "start_time": "2023-09-06T11:59:35.652Z"
   },
   {
    "duration": 105,
    "start_time": "2023-09-06T11:59:36.937Z"
   },
   {
    "duration": 13,
    "start_time": "2023-09-06T11:59:37.045Z"
   },
   {
    "duration": 15,
    "start_time": "2023-09-06T11:59:37.060Z"
   },
   {
    "duration": 29,
    "start_time": "2023-09-06T11:59:37.077Z"
   },
   {
    "duration": 131,
    "start_time": "2023-09-06T11:59:37.107Z"
   },
   {
    "duration": 13,
    "start_time": "2023-09-06T11:59:37.240Z"
   },
   {
    "duration": 15,
    "start_time": "2023-09-06T11:59:37.255Z"
   },
   {
    "duration": 6,
    "start_time": "2023-09-06T11:59:37.271Z"
   },
   {
    "duration": 32,
    "start_time": "2023-09-06T11:59:37.279Z"
   },
   {
    "duration": 11,
    "start_time": "2023-09-06T11:59:37.321Z"
   },
   {
    "duration": 13,
    "start_time": "2023-09-06T11:59:37.334Z"
   },
   {
    "duration": 18,
    "start_time": "2023-09-06T11:59:37.348Z"
   },
   {
    "duration": 18,
    "start_time": "2023-09-06T11:59:37.370Z"
   },
   {
    "duration": 27,
    "start_time": "2023-09-06T11:59:37.401Z"
   },
   {
    "duration": 14,
    "start_time": "2023-09-06T11:59:37.430Z"
   },
   {
    "duration": 624,
    "start_time": "2023-09-06T11:59:37.446Z"
   },
   {
    "duration": 252,
    "start_time": "2023-09-06T11:59:38.072Z"
   },
   {
    "duration": 403,
    "start_time": "2023-09-06T11:59:38.325Z"
   },
   {
    "duration": 149,
    "start_time": "2023-09-06T11:59:38.730Z"
   },
   {
    "duration": 22,
    "start_time": "2023-09-06T11:59:38.880Z"
   },
   {
    "duration": 22,
    "start_time": "2023-09-06T11:59:38.914Z"
   },
   {
    "duration": 344,
    "start_time": "2023-09-06T11:59:38.938Z"
   },
   {
    "duration": 433,
    "start_time": "2023-09-06T11:59:39.288Z"
   },
   {
    "duration": 22,
    "start_time": "2023-09-06T11:59:39.723Z"
   },
   {
    "duration": 296,
    "start_time": "2023-09-06T11:59:39.746Z"
   },
   {
    "duration": 149,
    "start_time": "2023-09-06T11:59:40.045Z"
   },
   {
    "duration": 0,
    "start_time": "2023-09-06T11:59:40.196Z"
   },
   {
    "duration": 0,
    "start_time": "2023-09-06T11:59:40.197Z"
   },
   {
    "duration": 0,
    "start_time": "2023-09-06T11:59:40.197Z"
   },
   {
    "duration": 0,
    "start_time": "2023-09-06T11:59:40.198Z"
   },
   {
    "duration": 0,
    "start_time": "2023-09-06T11:59:40.199Z"
   },
   {
    "duration": 0,
    "start_time": "2023-09-06T11:59:40.200Z"
   },
   {
    "duration": 0,
    "start_time": "2023-09-06T11:59:40.201Z"
   },
   {
    "duration": 0,
    "start_time": "2023-09-06T11:59:40.201Z"
   },
   {
    "duration": 0,
    "start_time": "2023-09-06T11:59:40.202Z"
   },
   {
    "duration": 0,
    "start_time": "2023-09-06T11:59:40.206Z"
   },
   {
    "duration": 0,
    "start_time": "2023-09-06T11:59:40.207Z"
   },
   {
    "duration": 0,
    "start_time": "2023-09-06T11:59:40.207Z"
   },
   {
    "duration": 1265,
    "start_time": "2023-09-06T12:03:58.012Z"
   },
   {
    "duration": 133,
    "start_time": "2023-09-06T12:03:59.282Z"
   },
   {
    "duration": 13,
    "start_time": "2023-09-06T12:03:59.418Z"
   },
   {
    "duration": 21,
    "start_time": "2023-09-06T12:03:59.432Z"
   },
   {
    "duration": 24,
    "start_time": "2023-09-06T12:03:59.455Z"
   },
   {
    "duration": 38,
    "start_time": "2023-09-06T12:03:59.481Z"
   },
   {
    "duration": 12,
    "start_time": "2023-09-06T12:03:59.521Z"
   },
   {
    "duration": 24,
    "start_time": "2023-09-06T12:03:59.535Z"
   },
   {
    "duration": 39,
    "start_time": "2023-09-06T12:03:59.561Z"
   },
   {
    "duration": 10,
    "start_time": "2023-09-06T12:03:59.609Z"
   },
   {
    "duration": 36,
    "start_time": "2023-09-06T12:03:59.622Z"
   },
   {
    "duration": 19,
    "start_time": "2023-09-06T12:03:59.660Z"
   },
   {
    "duration": 24,
    "start_time": "2023-09-06T12:03:59.692Z"
   },
   {
    "duration": 16,
    "start_time": "2023-09-06T12:03:59.723Z"
   },
   {
    "duration": 28,
    "start_time": "2023-09-06T12:03:59.741Z"
   },
   {
    "duration": 33,
    "start_time": "2023-09-06T12:03:59.770Z"
   },
   {
    "duration": 641,
    "start_time": "2023-09-06T12:03:59.808Z"
   },
   {
    "duration": 258,
    "start_time": "2023-09-06T12:04:00.451Z"
   },
   {
    "duration": 409,
    "start_time": "2023-09-06T12:04:00.711Z"
   },
   {
    "duration": 148,
    "start_time": "2023-09-06T12:04:01.122Z"
   },
   {
    "duration": 15,
    "start_time": "2023-09-06T12:04:01.272Z"
   },
   {
    "duration": 70,
    "start_time": "2023-09-06T12:04:01.288Z"
   },
   {
    "duration": 369,
    "start_time": "2023-09-06T12:04:01.360Z"
   },
   {
    "duration": 377,
    "start_time": "2023-09-06T12:04:01.731Z"
   },
   {
    "duration": 10,
    "start_time": "2023-09-06T12:04:02.116Z"
   },
   {
    "duration": 412,
    "start_time": "2023-09-06T12:04:02.127Z"
   },
   {
    "duration": 139,
    "start_time": "2023-09-06T12:04:02.541Z"
   },
   {
    "duration": 0,
    "start_time": "2023-09-06T12:04:02.682Z"
   },
   {
    "duration": 0,
    "start_time": "2023-09-06T12:04:02.683Z"
   },
   {
    "duration": 0,
    "start_time": "2023-09-06T12:04:02.686Z"
   },
   {
    "duration": 0,
    "start_time": "2023-09-06T12:04:02.687Z"
   },
   {
    "duration": 0,
    "start_time": "2023-09-06T12:04:02.688Z"
   },
   {
    "duration": 0,
    "start_time": "2023-09-06T12:04:02.689Z"
   },
   {
    "duration": 0,
    "start_time": "2023-09-06T12:04:02.690Z"
   },
   {
    "duration": 0,
    "start_time": "2023-09-06T12:04:02.691Z"
   },
   {
    "duration": 0,
    "start_time": "2023-09-06T12:04:02.692Z"
   },
   {
    "duration": 0,
    "start_time": "2023-09-06T12:04:02.693Z"
   },
   {
    "duration": 0,
    "start_time": "2023-09-06T12:04:02.694Z"
   },
   {
    "duration": 410,
    "start_time": "2023-09-06T12:04:51.168Z"
   },
   {
    "duration": 1282,
    "start_time": "2023-09-06T12:07:47.065Z"
   },
   {
    "duration": 80,
    "start_time": "2023-09-06T12:07:48.349Z"
   },
   {
    "duration": 12,
    "start_time": "2023-09-06T12:07:48.431Z"
   },
   {
    "duration": 11,
    "start_time": "2023-09-06T12:07:48.445Z"
   },
   {
    "duration": 9,
    "start_time": "2023-09-06T12:07:48.458Z"
   },
   {
    "duration": 23,
    "start_time": "2023-09-06T12:07:48.468Z"
   },
   {
    "duration": 15,
    "start_time": "2023-09-06T12:07:48.500Z"
   },
   {
    "duration": 28,
    "start_time": "2023-09-06T12:07:48.517Z"
   },
   {
    "duration": 9,
    "start_time": "2023-09-06T12:07:48.546Z"
   },
   {
    "duration": 18,
    "start_time": "2023-09-06T12:07:48.556Z"
   },
   {
    "duration": 19,
    "start_time": "2023-09-06T12:07:48.577Z"
   },
   {
    "duration": 15,
    "start_time": "2023-09-06T12:07:48.598Z"
   },
   {
    "duration": 13,
    "start_time": "2023-09-06T12:07:48.615Z"
   },
   {
    "duration": 14,
    "start_time": "2023-09-06T12:07:48.632Z"
   },
   {
    "duration": 42,
    "start_time": "2023-09-06T12:07:48.648Z"
   },
   {
    "duration": 23,
    "start_time": "2023-09-06T12:07:48.697Z"
   },
   {
    "duration": 604,
    "start_time": "2023-09-06T12:07:48.722Z"
   },
   {
    "duration": 237,
    "start_time": "2023-09-06T12:07:49.328Z"
   },
   {
    "duration": 398,
    "start_time": "2023-09-06T12:07:49.568Z"
   },
   {
    "duration": 165,
    "start_time": "2023-09-06T12:07:49.968Z"
   },
   {
    "duration": 7,
    "start_time": "2023-09-06T12:07:50.134Z"
   },
   {
    "duration": 26,
    "start_time": "2023-09-06T12:07:50.142Z"
   },
   {
    "duration": 337,
    "start_time": "2023-09-06T12:07:50.170Z"
   },
   {
    "duration": 391,
    "start_time": "2023-09-06T12:07:50.509Z"
   },
   {
    "duration": 11,
    "start_time": "2023-09-06T12:07:50.902Z"
   },
   {
    "duration": 292,
    "start_time": "2023-09-06T12:07:50.915Z"
   },
   {
    "duration": 381,
    "start_time": "2023-09-06T12:07:51.218Z"
   },
   {
    "duration": 10,
    "start_time": "2023-09-06T12:07:51.601Z"
   },
   {
    "duration": 217,
    "start_time": "2023-09-06T12:07:51.613Z"
   },
   {
    "duration": 293,
    "start_time": "2023-09-06T12:07:51.832Z"
   },
   {
    "duration": 155,
    "start_time": "2023-09-06T12:07:52.127Z"
   },
   {
    "duration": 206,
    "start_time": "2023-09-06T12:07:52.289Z"
   },
   {
    "duration": 11,
    "start_time": "2023-09-06T12:07:52.498Z"
   },
   {
    "duration": 229,
    "start_time": "2023-09-06T12:07:52.512Z"
   },
   {
    "duration": 244,
    "start_time": "2023-09-06T12:07:52.742Z"
   },
   {
    "duration": 6,
    "start_time": "2023-09-06T12:07:52.989Z"
   },
   {
    "duration": 137,
    "start_time": "2023-09-06T12:07:52.997Z"
   },
   {
    "duration": 204,
    "start_time": "2023-09-06T12:14:16.458Z"
   },
   {
    "duration": 292,
    "start_time": "2023-09-06T12:15:03.120Z"
   },
   {
    "duration": 385,
    "start_time": "2023-09-06T12:15:25.804Z"
   },
   {
    "duration": 213,
    "start_time": "2023-09-06T12:15:36.624Z"
   },
   {
    "duration": 226,
    "start_time": "2023-09-06T12:15:47.160Z"
   },
   {
    "duration": 113,
    "start_time": "2023-09-06T12:16:30.416Z"
   },
   {
    "duration": 197,
    "start_time": "2023-09-06T12:16:35.112Z"
   },
   {
    "duration": 220,
    "start_time": "2023-09-06T12:25:17.153Z"
   },
   {
    "duration": 230,
    "start_time": "2023-09-06T12:25:53.099Z"
   },
   {
    "duration": 26,
    "start_time": "2023-09-06T12:26:05.897Z"
   },
   {
    "duration": 16,
    "start_time": "2023-09-06T12:27:26.997Z"
   },
   {
    "duration": 166,
    "start_time": "2023-09-06T12:27:55.929Z"
   },
   {
    "duration": 149,
    "start_time": "2023-09-06T12:31:08.447Z"
   },
   {
    "duration": 83,
    "start_time": "2023-09-06T12:32:04.292Z"
   },
   {
    "duration": 11,
    "start_time": "2023-09-06T12:32:08.239Z"
   },
   {
    "duration": 1411,
    "start_time": "2023-09-06T12:39:09.303Z"
   },
   {
    "duration": 8,
    "start_time": "2023-09-06T12:39:13.607Z"
   },
   {
    "duration": 1289,
    "start_time": "2023-09-06T12:39:17.919Z"
   },
   {
    "duration": 41,
    "start_time": "2023-09-06T12:39:44.494Z"
   },
   {
    "duration": 1442,
    "start_time": "2023-09-06T12:43:04.763Z"
   },
   {
    "duration": 14,
    "start_time": "2023-09-06T12:43:21.693Z"
   },
   {
    "duration": 1268,
    "start_time": "2023-09-06T12:55:26.488Z"
   },
   {
    "duration": 85,
    "start_time": "2023-09-06T12:55:27.758Z"
   },
   {
    "duration": 12,
    "start_time": "2023-09-06T12:55:27.845Z"
   },
   {
    "duration": 8,
    "start_time": "2023-09-06T12:55:27.858Z"
   },
   {
    "duration": 27,
    "start_time": "2023-09-06T12:55:27.868Z"
   },
   {
    "duration": 12,
    "start_time": "2023-09-06T12:55:27.897Z"
   },
   {
    "duration": 18,
    "start_time": "2023-09-06T12:55:27.911Z"
   },
   {
    "duration": 19,
    "start_time": "2023-09-06T12:55:27.930Z"
   },
   {
    "duration": 8,
    "start_time": "2023-09-06T12:55:27.950Z"
   },
   {
    "duration": 13,
    "start_time": "2023-09-06T12:55:27.960Z"
   },
   {
    "duration": 9,
    "start_time": "2023-09-06T12:55:27.975Z"
   },
   {
    "duration": 15,
    "start_time": "2023-09-06T12:55:27.986Z"
   },
   {
    "duration": 28,
    "start_time": "2023-09-06T12:55:28.003Z"
   },
   {
    "duration": 40,
    "start_time": "2023-09-06T12:55:28.035Z"
   },
   {
    "duration": 30,
    "start_time": "2023-09-06T12:55:28.076Z"
   },
   {
    "duration": 16,
    "start_time": "2023-09-06T12:55:28.107Z"
   },
   {
    "duration": 580,
    "start_time": "2023-09-06T12:55:28.124Z"
   },
   {
    "duration": 226,
    "start_time": "2023-09-06T12:55:28.706Z"
   },
   {
    "duration": 359,
    "start_time": "2023-09-06T12:55:28.934Z"
   },
   {
    "duration": 142,
    "start_time": "2023-09-06T12:55:29.294Z"
   },
   {
    "duration": 6,
    "start_time": "2023-09-06T12:55:29.437Z"
   },
   {
    "duration": 18,
    "start_time": "2023-09-06T12:55:29.445Z"
   },
   {
    "duration": 285,
    "start_time": "2023-09-06T12:55:29.481Z"
   },
   {
    "duration": 388,
    "start_time": "2023-09-06T12:55:29.768Z"
   },
   {
    "duration": 9,
    "start_time": "2023-09-06T12:55:30.158Z"
   },
   {
    "duration": 301,
    "start_time": "2023-09-06T12:55:30.181Z"
   },
   {
    "duration": 397,
    "start_time": "2023-09-06T12:55:30.490Z"
   },
   {
    "duration": 9,
    "start_time": "2023-09-06T12:55:30.889Z"
   },
   {
    "duration": 250,
    "start_time": "2023-09-06T12:55:30.899Z"
   },
   {
    "duration": 4,
    "start_time": "2023-09-06T12:55:31.151Z"
   },
   {
    "duration": 297,
    "start_time": "2023-09-06T12:55:31.157Z"
   },
   {
    "duration": 6,
    "start_time": "2023-09-06T12:55:31.455Z"
   },
   {
    "duration": 222,
    "start_time": "2023-09-06T12:55:31.462Z"
   },
   {
    "duration": 26,
    "start_time": "2023-09-06T12:55:31.685Z"
   },
   {
    "duration": 196,
    "start_time": "2023-09-06T12:55:31.713Z"
   },
   {
    "duration": 11,
    "start_time": "2023-09-06T12:55:31.911Z"
   },
   {
    "duration": 21,
    "start_time": "2023-09-06T12:55:31.924Z"
   },
   {
    "duration": 51,
    "start_time": "2023-09-06T12:55:31.946Z"
   },
   {
    "duration": 13,
    "start_time": "2023-09-06T12:55:31.999Z"
   },
   {
    "duration": 1163,
    "start_time": "2023-09-06T12:55:47.209Z"
   },
   {
    "duration": 88,
    "start_time": "2023-09-06T12:55:48.374Z"
   },
   {
    "duration": 11,
    "start_time": "2023-09-06T12:55:48.464Z"
   },
   {
    "duration": 15,
    "start_time": "2023-09-06T12:55:48.477Z"
   },
   {
    "duration": 9,
    "start_time": "2023-09-06T12:55:48.494Z"
   },
   {
    "duration": 13,
    "start_time": "2023-09-06T12:55:48.505Z"
   },
   {
    "duration": 22,
    "start_time": "2023-09-06T12:55:48.520Z"
   },
   {
    "duration": 9,
    "start_time": "2023-09-06T12:55:48.544Z"
   },
   {
    "duration": 6,
    "start_time": "2023-09-06T12:55:48.555Z"
   },
   {
    "duration": 7,
    "start_time": "2023-09-06T12:55:48.563Z"
   },
   {
    "duration": 20,
    "start_time": "2023-09-06T12:55:48.572Z"
   },
   {
    "duration": 9,
    "start_time": "2023-09-06T12:55:48.597Z"
   },
   {
    "duration": 12,
    "start_time": "2023-09-06T12:55:48.608Z"
   },
   {
    "duration": 13,
    "start_time": "2023-09-06T12:55:48.622Z"
   },
   {
    "duration": 20,
    "start_time": "2023-09-06T12:55:48.637Z"
   },
   {
    "duration": 44,
    "start_time": "2023-09-06T12:55:48.659Z"
   },
   {
    "duration": 550,
    "start_time": "2023-09-06T12:55:48.704Z"
   },
   {
    "duration": 216,
    "start_time": "2023-09-06T12:55:49.256Z"
   },
   {
    "duration": 337,
    "start_time": "2023-09-06T12:55:49.473Z"
   },
   {
    "duration": 140,
    "start_time": "2023-09-06T12:55:49.812Z"
   },
   {
    "duration": 6,
    "start_time": "2023-09-06T12:55:49.954Z"
   },
   {
    "duration": 36,
    "start_time": "2023-09-06T12:55:49.962Z"
   },
   {
    "duration": 301,
    "start_time": "2023-09-06T12:55:50.000Z"
   },
   {
    "duration": 371,
    "start_time": "2023-09-06T12:55:50.303Z"
   },
   {
    "duration": 19,
    "start_time": "2023-09-06T12:55:50.675Z"
   },
   {
    "duration": 289,
    "start_time": "2023-09-06T12:55:50.696Z"
   },
   {
    "duration": 411,
    "start_time": "2023-09-06T12:55:50.991Z"
   },
   {
    "duration": 7,
    "start_time": "2023-09-06T12:55:51.405Z"
   },
   {
    "duration": 205,
    "start_time": "2023-09-06T12:55:51.414Z"
   },
   {
    "duration": 5,
    "start_time": "2023-09-06T12:55:51.621Z"
   },
   {
    "duration": 302,
    "start_time": "2023-09-06T12:55:51.627Z"
   },
   {
    "duration": 5,
    "start_time": "2023-09-06T12:55:51.931Z"
   },
   {
    "duration": 248,
    "start_time": "2023-09-06T12:55:51.937Z"
   },
   {
    "duration": 24,
    "start_time": "2023-09-06T12:55:52.186Z"
   },
   {
    "duration": 211,
    "start_time": "2023-09-06T12:55:52.211Z"
   },
   {
    "duration": 12,
    "start_time": "2023-09-06T12:55:52.424Z"
   },
   {
    "duration": 18,
    "start_time": "2023-09-06T12:55:52.438Z"
   },
   {
    "duration": 57,
    "start_time": "2023-09-06T12:55:52.458Z"
   },
   {
    "duration": 29,
    "start_time": "2023-09-06T12:55:52.517Z"
   },
   {
    "duration": 1389,
    "start_time": "2023-09-06T13:03:37.337Z"
   },
   {
    "duration": 194,
    "start_time": "2023-09-06T13:03:38.728Z"
   },
   {
    "duration": 13,
    "start_time": "2023-09-06T13:03:38.924Z"
   },
   {
    "duration": 8,
    "start_time": "2023-09-06T13:03:38.939Z"
   },
   {
    "duration": 10,
    "start_time": "2023-09-06T13:03:38.949Z"
   },
   {
    "duration": 13,
    "start_time": "2023-09-06T13:03:38.960Z"
   },
   {
    "duration": 13,
    "start_time": "2023-09-06T13:03:38.975Z"
   },
   {
    "duration": 10,
    "start_time": "2023-09-06T13:03:38.989Z"
   },
   {
    "duration": 12,
    "start_time": "2023-09-06T13:03:39.001Z"
   },
   {
    "duration": 29,
    "start_time": "2023-09-06T13:03:39.017Z"
   },
   {
    "duration": 7,
    "start_time": "2023-09-06T13:03:39.048Z"
   },
   {
    "duration": 20,
    "start_time": "2023-09-06T13:03:39.057Z"
   },
   {
    "duration": 13,
    "start_time": "2023-09-06T13:03:39.078Z"
   },
   {
    "duration": 16,
    "start_time": "2023-09-06T13:03:39.092Z"
   },
   {
    "duration": 39,
    "start_time": "2023-09-06T13:03:39.109Z"
   },
   {
    "duration": 13,
    "start_time": "2023-09-06T13:03:39.150Z"
   },
   {
    "duration": 534,
    "start_time": "2023-09-06T13:03:39.165Z"
   },
   {
    "duration": 210,
    "start_time": "2023-09-06T13:03:39.701Z"
   },
   {
    "duration": 340,
    "start_time": "2023-09-06T13:03:39.913Z"
   },
   {
    "duration": 139,
    "start_time": "2023-09-06T13:03:40.255Z"
   },
   {
    "duration": 6,
    "start_time": "2023-09-06T13:03:40.395Z"
   },
   {
    "duration": 32,
    "start_time": "2023-09-06T13:03:40.402Z"
   },
   {
    "duration": 258,
    "start_time": "2023-09-06T13:03:40.436Z"
   },
   {
    "duration": 410,
    "start_time": "2023-09-06T13:03:40.695Z"
   },
   {
    "duration": 7,
    "start_time": "2023-09-06T13:03:41.107Z"
   },
   {
    "duration": 265,
    "start_time": "2023-09-06T13:03:41.116Z"
   },
   {
    "duration": 353,
    "start_time": "2023-09-06T13:03:41.383Z"
   },
   {
    "duration": 6,
    "start_time": "2023-09-06T13:03:41.746Z"
   },
   {
    "duration": 182,
    "start_time": "2023-09-06T13:03:41.754Z"
   },
   {
    "duration": 10,
    "start_time": "2023-09-06T13:03:41.937Z"
   },
   {
    "duration": 260,
    "start_time": "2023-09-06T13:03:41.949Z"
   },
   {
    "duration": 5,
    "start_time": "2023-09-06T13:03:42.211Z"
   },
   {
    "duration": 227,
    "start_time": "2023-09-06T13:03:42.217Z"
   },
   {
    "duration": 20,
    "start_time": "2023-09-06T13:03:42.446Z"
   },
   {
    "duration": 171,
    "start_time": "2023-09-06T13:03:42.468Z"
   },
   {
    "duration": 12,
    "start_time": "2023-09-06T13:03:42.641Z"
   },
   {
    "duration": 7,
    "start_time": "2023-09-06T13:03:42.655Z"
   },
   {
    "duration": 36,
    "start_time": "2023-09-06T13:03:42.664Z"
   },
   {
    "duration": 14,
    "start_time": "2023-09-06T13:03:42.702Z"
   },
   {
    "duration": 231,
    "start_time": "2023-09-06T13:10:25.856Z"
   },
   {
    "duration": 235,
    "start_time": "2023-09-06T13:10:29.905Z"
   },
   {
    "duration": 5,
    "start_time": "2023-09-06T13:17:21.807Z"
   },
   {
    "duration": 44,
    "start_time": "2023-09-07T07:40:09.448Z"
   },
   {
    "duration": 1247,
    "start_time": "2023-09-07T07:43:39.145Z"
   },
   {
    "duration": 200,
    "start_time": "2023-09-07T07:43:40.393Z"
   },
   {
    "duration": 12,
    "start_time": "2023-09-07T07:43:40.595Z"
   },
   {
    "duration": 14,
    "start_time": "2023-09-07T07:43:40.608Z"
   },
   {
    "duration": 8,
    "start_time": "2023-09-07T07:43:40.623Z"
   },
   {
    "duration": 17,
    "start_time": "2023-09-07T07:43:40.632Z"
   },
   {
    "duration": 14,
    "start_time": "2023-09-07T07:43:40.651Z"
   },
   {
    "duration": 11,
    "start_time": "2023-09-07T07:43:40.666Z"
   },
   {
    "duration": 12,
    "start_time": "2023-09-07T07:43:40.678Z"
   },
   {
    "duration": 6,
    "start_time": "2023-09-07T07:43:40.693Z"
   },
   {
    "duration": 9,
    "start_time": "2023-09-07T07:43:40.700Z"
   },
   {
    "duration": 7,
    "start_time": "2023-09-07T07:43:40.711Z"
   },
   {
    "duration": 19,
    "start_time": "2023-09-07T07:43:40.719Z"
   },
   {
    "duration": 18,
    "start_time": "2023-09-07T07:43:40.739Z"
   },
   {
    "duration": 18,
    "start_time": "2023-09-07T07:43:40.759Z"
   },
   {
    "duration": 20,
    "start_time": "2023-09-07T07:43:40.779Z"
   },
   {
    "duration": 434,
    "start_time": "2023-09-07T07:43:40.801Z"
   },
   {
    "duration": 178,
    "start_time": "2023-09-07T07:43:41.237Z"
   },
   {
    "duration": 312,
    "start_time": "2023-09-07T07:43:41.417Z"
   },
   {
    "duration": 123,
    "start_time": "2023-09-07T07:43:41.730Z"
   },
   {
    "duration": 6,
    "start_time": "2023-09-07T07:43:41.854Z"
   },
   {
    "duration": 16,
    "start_time": "2023-09-07T07:43:41.861Z"
   },
   {
    "duration": 237,
    "start_time": "2023-09-07T07:43:41.879Z"
   },
   {
    "duration": 398,
    "start_time": "2023-09-07T07:43:42.118Z"
   },
   {
    "duration": 6,
    "start_time": "2023-09-07T07:43:42.518Z"
   },
   {
    "duration": 213,
    "start_time": "2023-09-07T07:43:42.526Z"
   },
   {
    "duration": 333,
    "start_time": "2023-09-07T07:43:42.740Z"
   },
   {
    "duration": 5,
    "start_time": "2023-09-07T07:43:43.076Z"
   },
   {
    "duration": 159,
    "start_time": "2023-09-07T07:43:43.082Z"
   },
   {
    "duration": 4,
    "start_time": "2023-09-07T07:43:43.243Z"
   },
   {
    "duration": 220,
    "start_time": "2023-09-07T07:43:43.249Z"
   },
   {
    "duration": 154,
    "start_time": "2023-09-07T07:43:43.470Z"
   },
   {
    "duration": 4,
    "start_time": "2023-09-07T07:43:43.626Z"
   },
   {
    "duration": 187,
    "start_time": "2023-09-07T07:43:43.632Z"
   },
   {
    "duration": 30,
    "start_time": "2023-09-07T07:43:43.820Z"
   },
   {
    "duration": 147,
    "start_time": "2023-09-07T07:43:43.852Z"
   },
   {
    "duration": 8,
    "start_time": "2023-09-07T07:43:44.001Z"
   },
   {
    "duration": 7,
    "start_time": "2023-09-07T07:43:44.011Z"
   },
   {
    "duration": 41,
    "start_time": "2023-09-07T07:43:44.019Z"
   },
   {
    "duration": 13,
    "start_time": "2023-09-07T07:43:44.061Z"
   },
   {
    "duration": 143,
    "start_time": "2023-09-07T07:44:11.852Z"
   },
   {
    "duration": 150,
    "start_time": "2023-09-07T07:44:53.115Z"
   },
   {
    "duration": 1057,
    "start_time": "2023-09-07T07:49:09.356Z"
   },
   {
    "duration": 77,
    "start_time": "2023-09-07T07:49:10.414Z"
   },
   {
    "duration": 10,
    "start_time": "2023-09-07T07:49:10.493Z"
   },
   {
    "duration": 9,
    "start_time": "2023-09-07T07:49:10.505Z"
   },
   {
    "duration": 10,
    "start_time": "2023-09-07T07:49:10.515Z"
   },
   {
    "duration": 23,
    "start_time": "2023-09-07T07:49:10.526Z"
   },
   {
    "duration": 18,
    "start_time": "2023-09-07T07:49:10.551Z"
   },
   {
    "duration": 11,
    "start_time": "2023-09-07T07:49:10.571Z"
   },
   {
    "duration": 7,
    "start_time": "2023-09-07T07:49:10.584Z"
   },
   {
    "duration": 7,
    "start_time": "2023-09-07T07:49:10.595Z"
   },
   {
    "duration": 45,
    "start_time": "2023-09-07T07:49:10.604Z"
   },
   {
    "duration": 16,
    "start_time": "2023-09-07T07:49:10.651Z"
   },
   {
    "duration": 15,
    "start_time": "2023-09-07T07:49:10.669Z"
   },
   {
    "duration": 15,
    "start_time": "2023-09-07T07:49:10.686Z"
   },
   {
    "duration": 21,
    "start_time": "2023-09-07T07:49:10.703Z"
   },
   {
    "duration": 34,
    "start_time": "2023-09-07T07:49:10.726Z"
   },
   {
    "duration": 484,
    "start_time": "2023-09-07T07:49:10.761Z"
   },
   {
    "duration": 189,
    "start_time": "2023-09-07T07:49:11.246Z"
   },
   {
    "duration": 286,
    "start_time": "2023-09-07T07:49:11.437Z"
   },
   {
    "duration": 130,
    "start_time": "2023-09-07T07:49:11.725Z"
   },
   {
    "duration": 5,
    "start_time": "2023-09-07T07:49:11.857Z"
   },
   {
    "duration": 19,
    "start_time": "2023-09-07T07:49:11.864Z"
   },
   {
    "duration": 259,
    "start_time": "2023-09-07T07:49:11.885Z"
   },
   {
    "duration": 333,
    "start_time": "2023-09-07T07:49:12.146Z"
   },
   {
    "duration": 7,
    "start_time": "2023-09-07T07:49:12.480Z"
   },
   {
    "duration": 217,
    "start_time": "2023-09-07T07:49:12.489Z"
   },
   {
    "duration": 327,
    "start_time": "2023-09-07T07:49:12.708Z"
   },
   {
    "duration": 12,
    "start_time": "2023-09-07T07:49:13.038Z"
   },
   {
    "duration": 151,
    "start_time": "2023-09-07T07:49:13.051Z"
   },
   {
    "duration": 5,
    "start_time": "2023-09-07T07:49:13.204Z"
   },
   {
    "duration": 232,
    "start_time": "2023-09-07T07:49:13.210Z"
   },
   {
    "duration": 159,
    "start_time": "2023-09-07T07:49:13.443Z"
   },
   {
    "duration": 5,
    "start_time": "2023-09-07T07:49:13.604Z"
   },
   {
    "duration": 198,
    "start_time": "2023-09-07T07:49:13.611Z"
   },
   {
    "duration": 18,
    "start_time": "2023-09-07T07:49:13.810Z"
   },
   {
    "duration": 154,
    "start_time": "2023-09-07T07:49:13.830Z"
   },
   {
    "duration": 10,
    "start_time": "2023-09-07T07:49:13.986Z"
   },
   {
    "duration": 116,
    "start_time": "2023-09-07T07:49:13.997Z"
   },
   {
    "duration": 0,
    "start_time": "2023-09-07T07:49:14.115Z"
   },
   {
    "duration": 0,
    "start_time": "2023-09-07T07:49:14.117Z"
   },
   {
    "duration": 14,
    "start_time": "2023-09-07T07:49:43.568Z"
   },
   {
    "duration": 194,
    "start_time": "2023-09-07T07:52:41.217Z"
   },
   {
    "duration": 102,
    "start_time": "2023-09-07T07:53:08.199Z"
   },
   {
    "duration": 1112,
    "start_time": "2023-09-07T07:53:55.668Z"
   },
   {
    "duration": 78,
    "start_time": "2023-09-07T07:53:56.782Z"
   },
   {
    "duration": 10,
    "start_time": "2023-09-07T07:53:56.862Z"
   },
   {
    "duration": 8,
    "start_time": "2023-09-07T07:53:56.874Z"
   },
   {
    "duration": 8,
    "start_time": "2023-09-07T07:53:56.883Z"
   },
   {
    "duration": 27,
    "start_time": "2023-09-07T07:53:56.893Z"
   },
   {
    "duration": 12,
    "start_time": "2023-09-07T07:53:56.922Z"
   },
   {
    "duration": 11,
    "start_time": "2023-09-07T07:53:56.935Z"
   },
   {
    "duration": 4,
    "start_time": "2023-09-07T07:53:56.947Z"
   },
   {
    "duration": 7,
    "start_time": "2023-09-07T07:53:56.953Z"
   },
   {
    "duration": 8,
    "start_time": "2023-09-07T07:53:56.961Z"
   },
   {
    "duration": 7,
    "start_time": "2023-09-07T07:53:56.970Z"
   },
   {
    "duration": 19,
    "start_time": "2023-09-07T07:53:56.979Z"
   },
   {
    "duration": 11,
    "start_time": "2023-09-07T07:53:56.999Z"
   },
   {
    "duration": 13,
    "start_time": "2023-09-07T07:53:57.011Z"
   },
   {
    "duration": 34,
    "start_time": "2023-09-07T07:53:57.025Z"
   },
   {
    "duration": 465,
    "start_time": "2023-09-07T07:53:57.061Z"
   },
   {
    "duration": 184,
    "start_time": "2023-09-07T07:53:57.527Z"
   },
   {
    "duration": 288,
    "start_time": "2023-09-07T07:53:57.712Z"
   },
   {
    "duration": 125,
    "start_time": "2023-09-07T07:53:58.001Z"
   },
   {
    "duration": 6,
    "start_time": "2023-09-07T07:53:58.127Z"
   },
   {
    "duration": 27,
    "start_time": "2023-09-07T07:53:58.135Z"
   },
   {
    "duration": 232,
    "start_time": "2023-09-07T07:53:58.164Z"
   },
   {
    "duration": 315,
    "start_time": "2023-09-07T07:53:58.398Z"
   },
   {
    "duration": 7,
    "start_time": "2023-09-07T07:53:58.714Z"
   },
   {
    "duration": 218,
    "start_time": "2023-09-07T07:53:58.722Z"
   },
   {
    "duration": 416,
    "start_time": "2023-09-07T07:53:58.942Z"
   },
   {
    "duration": 6,
    "start_time": "2023-09-07T07:53:59.361Z"
   },
   {
    "duration": 155,
    "start_time": "2023-09-07T07:53:59.368Z"
   },
   {
    "duration": 5,
    "start_time": "2023-09-07T07:53:59.524Z"
   },
   {
    "duration": 231,
    "start_time": "2023-09-07T07:53:59.531Z"
   },
   {
    "duration": 152,
    "start_time": "2023-09-07T07:53:59.764Z"
   },
   {
    "duration": 4,
    "start_time": "2023-09-07T07:53:59.918Z"
   },
   {
    "duration": 200,
    "start_time": "2023-09-07T07:53:59.923Z"
   },
   {
    "duration": 28,
    "start_time": "2023-09-07T07:54:00.124Z"
   },
   {
    "duration": 204,
    "start_time": "2023-09-07T07:54:00.154Z"
   },
   {
    "duration": 10,
    "start_time": "2023-09-07T07:54:00.359Z"
   },
   {
    "duration": 123,
    "start_time": "2023-09-07T07:54:00.370Z"
   },
   {
    "duration": 0,
    "start_time": "2023-09-07T07:54:00.495Z"
   },
   {
    "duration": 0,
    "start_time": "2023-09-07T07:54:00.497Z"
   },
   {
    "duration": 90,
    "start_time": "2023-09-07T07:56:39.255Z"
   },
   {
    "duration": 6,
    "start_time": "2023-09-07T07:57:51.750Z"
   },
   {
    "duration": 5,
    "start_time": "2023-09-07T07:58:16.022Z"
   },
   {
    "duration": 1032,
    "start_time": "2023-09-07T07:58:30.162Z"
   },
   {
    "duration": 78,
    "start_time": "2023-09-07T07:58:31.196Z"
   },
   {
    "duration": 116,
    "start_time": "2023-09-07T07:58:31.275Z"
   },
   {
    "duration": 47,
    "start_time": "2023-09-07T07:58:31.393Z"
   },
   {
    "duration": 39,
    "start_time": "2023-09-07T07:58:31.441Z"
   },
   {
    "duration": 24,
    "start_time": "2023-09-07T07:58:31.482Z"
   },
   {
    "duration": 42,
    "start_time": "2023-09-07T07:58:31.508Z"
   },
   {
    "duration": 25,
    "start_time": "2023-09-07T07:58:31.551Z"
   },
   {
    "duration": 27,
    "start_time": "2023-09-07T07:58:31.577Z"
   },
   {
    "duration": 42,
    "start_time": "2023-09-07T07:58:31.606Z"
   },
   {
    "duration": 27,
    "start_time": "2023-09-07T07:58:31.649Z"
   },
   {
    "duration": 24,
    "start_time": "2023-09-07T07:58:31.678Z"
   },
   {
    "duration": 17,
    "start_time": "2023-09-07T07:58:31.703Z"
   },
   {
    "duration": 24,
    "start_time": "2023-09-07T07:58:31.722Z"
   },
   {
    "duration": 16,
    "start_time": "2023-09-07T07:58:31.747Z"
   },
   {
    "duration": 24,
    "start_time": "2023-09-07T07:58:31.764Z"
   },
   {
    "duration": 451,
    "start_time": "2023-09-07T07:58:31.790Z"
   },
   {
    "duration": 189,
    "start_time": "2023-09-07T07:58:32.243Z"
   },
   {
    "duration": 287,
    "start_time": "2023-09-07T07:58:32.433Z"
   },
   {
    "duration": 121,
    "start_time": "2023-09-07T07:58:32.721Z"
   },
   {
    "duration": 7,
    "start_time": "2023-09-07T07:58:32.849Z"
   },
   {
    "duration": 15,
    "start_time": "2023-09-07T07:58:32.857Z"
   },
   {
    "duration": 251,
    "start_time": "2023-09-07T07:58:32.873Z"
   },
   {
    "duration": 351,
    "start_time": "2023-09-07T07:58:33.126Z"
   },
   {
    "duration": 8,
    "start_time": "2023-09-07T07:58:33.478Z"
   },
   {
    "duration": 212,
    "start_time": "2023-09-07T07:58:33.487Z"
   },
   {
    "duration": 305,
    "start_time": "2023-09-07T07:58:33.700Z"
   },
   {
    "duration": 6,
    "start_time": "2023-09-07T07:58:34.008Z"
   },
   {
    "duration": 177,
    "start_time": "2023-09-07T07:58:34.016Z"
   },
   {
    "duration": 6,
    "start_time": "2023-09-07T07:58:34.194Z"
   },
   {
    "duration": 219,
    "start_time": "2023-09-07T07:58:34.201Z"
   },
   {
    "duration": 170,
    "start_time": "2023-09-07T07:58:34.421Z"
   },
   {
    "duration": 5,
    "start_time": "2023-09-07T07:58:34.593Z"
   },
   {
    "duration": 192,
    "start_time": "2023-09-07T07:58:34.599Z"
   },
   {
    "duration": 17,
    "start_time": "2023-09-07T07:58:34.793Z"
   },
   {
    "duration": 143,
    "start_time": "2023-09-07T07:58:34.812Z"
   },
   {
    "duration": 9,
    "start_time": "2023-09-07T07:58:34.956Z"
   },
   {
    "duration": 112,
    "start_time": "2023-09-07T07:58:34.966Z"
   },
   {
    "duration": 0,
    "start_time": "2023-09-07T07:58:35.080Z"
   },
   {
    "duration": 0,
    "start_time": "2023-09-07T07:58:35.081Z"
   },
   {
    "duration": 1195,
    "start_time": "2023-09-07T08:03:56.612Z"
   },
   {
    "duration": 78,
    "start_time": "2023-09-07T08:03:57.808Z"
   },
   {
    "duration": 11,
    "start_time": "2023-09-07T08:03:57.888Z"
   },
   {
    "duration": 12,
    "start_time": "2023-09-07T08:03:57.901Z"
   },
   {
    "duration": 16,
    "start_time": "2023-09-07T08:03:57.915Z"
   },
   {
    "duration": 19,
    "start_time": "2023-09-07T08:03:57.932Z"
   },
   {
    "duration": 12,
    "start_time": "2023-09-07T08:03:57.953Z"
   },
   {
    "duration": 16,
    "start_time": "2023-09-07T08:03:57.967Z"
   },
   {
    "duration": 13,
    "start_time": "2023-09-07T08:03:57.985Z"
   },
   {
    "duration": 16,
    "start_time": "2023-09-07T08:03:58.000Z"
   },
   {
    "duration": 24,
    "start_time": "2023-09-07T08:03:58.018Z"
   },
   {
    "duration": 29,
    "start_time": "2023-09-07T08:03:58.044Z"
   },
   {
    "duration": 23,
    "start_time": "2023-09-07T08:03:58.075Z"
   },
   {
    "duration": 15,
    "start_time": "2023-09-07T08:03:58.101Z"
   },
   {
    "duration": 26,
    "start_time": "2023-09-07T08:03:58.118Z"
   },
   {
    "duration": 44,
    "start_time": "2023-09-07T08:03:58.146Z"
   },
   {
    "duration": 517,
    "start_time": "2023-09-07T08:03:58.192Z"
   },
   {
    "duration": 223,
    "start_time": "2023-09-07T08:03:58.711Z"
   },
   {
    "duration": 340,
    "start_time": "2023-09-07T08:03:58.936Z"
   },
   {
    "duration": 137,
    "start_time": "2023-09-07T08:03:59.278Z"
   },
   {
    "duration": 7,
    "start_time": "2023-09-07T08:03:59.417Z"
   },
   {
    "duration": 34,
    "start_time": "2023-09-07T08:03:59.425Z"
   },
   {
    "duration": 259,
    "start_time": "2023-09-07T08:03:59.461Z"
   },
   {
    "duration": 370,
    "start_time": "2023-09-07T08:03:59.722Z"
   },
   {
    "duration": 7,
    "start_time": "2023-09-07T08:04:00.094Z"
   },
   {
    "duration": 261,
    "start_time": "2023-09-07T08:04:00.103Z"
   },
   {
    "duration": 357,
    "start_time": "2023-09-07T08:04:00.366Z"
   },
   {
    "duration": 7,
    "start_time": "2023-09-07T08:04:00.725Z"
   },
   {
    "duration": 239,
    "start_time": "2023-09-07T08:04:00.734Z"
   },
   {
    "duration": 6,
    "start_time": "2023-09-07T08:04:00.975Z"
   },
   {
    "duration": 285,
    "start_time": "2023-09-07T08:04:00.982Z"
   },
   {
    "duration": 180,
    "start_time": "2023-09-07T08:04:01.269Z"
   },
   {
    "duration": 4,
    "start_time": "2023-09-07T08:04:01.451Z"
   },
   {
    "duration": 240,
    "start_time": "2023-09-07T08:04:01.457Z"
   },
   {
    "duration": 20,
    "start_time": "2023-09-07T08:04:01.699Z"
   },
   {
    "duration": 226,
    "start_time": "2023-09-07T08:04:01.721Z"
   },
   {
    "duration": 10,
    "start_time": "2023-09-07T08:04:01.949Z"
   },
   {
    "duration": 42,
    "start_time": "2023-09-07T08:04:01.960Z"
   },
   {
    "duration": 58,
    "start_time": "2023-09-07T08:04:02.004Z"
   },
   {
    "duration": 109,
    "start_time": "2023-09-07T08:04:02.064Z"
   },
   {
    "duration": 5,
    "start_time": "2023-09-07T08:09:26.963Z"
   },
   {
    "duration": 1933,
    "start_time": "2023-09-07T08:09:41.995Z"
   },
   {
    "duration": 1033,
    "start_time": "2023-09-07T08:09:54.703Z"
   },
   {
    "duration": 78,
    "start_time": "2023-09-07T08:09:55.738Z"
   },
   {
    "duration": 10,
    "start_time": "2023-09-07T08:09:55.817Z"
   },
   {
    "duration": 7,
    "start_time": "2023-09-07T08:09:55.829Z"
   },
   {
    "duration": 6,
    "start_time": "2023-09-07T08:09:55.837Z"
   },
   {
    "duration": 10,
    "start_time": "2023-09-07T08:09:55.845Z"
   },
   {
    "duration": 10,
    "start_time": "2023-09-07T08:09:55.856Z"
   },
   {
    "duration": 9,
    "start_time": "2023-09-07T08:09:55.867Z"
   },
   {
    "duration": 4,
    "start_time": "2023-09-07T08:09:55.877Z"
   },
   {
    "duration": 6,
    "start_time": "2023-09-07T08:09:55.883Z"
   },
   {
    "duration": 13,
    "start_time": "2023-09-07T08:09:55.890Z"
   },
   {
    "duration": 9,
    "start_time": "2023-09-07T08:09:55.905Z"
   },
   {
    "duration": 38,
    "start_time": "2023-09-07T08:09:55.916Z"
   },
   {
    "duration": 17,
    "start_time": "2023-09-07T08:09:55.956Z"
   },
   {
    "duration": 22,
    "start_time": "2023-09-07T08:09:55.974Z"
   },
   {
    "duration": 23,
    "start_time": "2023-09-07T08:09:55.998Z"
   },
   {
    "duration": 567,
    "start_time": "2023-09-07T08:09:56.023Z"
   },
   {
    "duration": 191,
    "start_time": "2023-09-07T08:09:56.591Z"
   },
   {
    "duration": 307,
    "start_time": "2023-09-07T08:09:56.783Z"
   },
   {
    "duration": 133,
    "start_time": "2023-09-07T08:09:57.091Z"
   },
   {
    "duration": 6,
    "start_time": "2023-09-07T08:09:57.225Z"
   },
   {
    "duration": 26,
    "start_time": "2023-09-07T08:09:57.232Z"
   },
   {
    "duration": 261,
    "start_time": "2023-09-07T08:09:57.259Z"
   },
   {
    "duration": 354,
    "start_time": "2023-09-07T08:09:57.522Z"
   },
   {
    "duration": 8,
    "start_time": "2023-09-07T08:09:57.877Z"
   },
   {
    "duration": 242,
    "start_time": "2023-09-07T08:09:57.886Z"
   },
   {
    "duration": 381,
    "start_time": "2023-09-07T08:09:58.130Z"
   },
   {
    "duration": 7,
    "start_time": "2023-09-07T08:09:58.515Z"
   },
   {
    "duration": 160,
    "start_time": "2023-09-07T08:09:58.524Z"
   },
   {
    "duration": 5,
    "start_time": "2023-09-07T08:09:58.686Z"
   },
   {
    "duration": 235,
    "start_time": "2023-09-07T08:09:58.692Z"
   },
   {
    "duration": 163,
    "start_time": "2023-09-07T08:09:58.929Z"
   },
   {
    "duration": 4,
    "start_time": "2023-09-07T08:09:59.093Z"
   },
   {
    "duration": 202,
    "start_time": "2023-09-07T08:09:59.099Z"
   },
   {
    "duration": 19,
    "start_time": "2023-09-07T08:09:59.302Z"
   },
   {
    "duration": 162,
    "start_time": "2023-09-07T08:09:59.323Z"
   },
   {
    "duration": 9,
    "start_time": "2023-09-07T08:09:59.487Z"
   },
   {
    "duration": 2363,
    "start_time": "2023-09-07T08:09:59.497Z"
   },
   {
    "duration": 0,
    "start_time": "2023-09-07T08:10:01.861Z"
   },
   {
    "duration": 0,
    "start_time": "2023-09-07T08:10:01.862Z"
   },
   {
    "duration": 1917,
    "start_time": "2023-09-07T08:15:21.056Z"
   },
   {
    "duration": 2948,
    "start_time": "2023-09-07T08:19:05.960Z"
   },
   {
    "duration": 185,
    "start_time": "2023-09-07T08:22:28.327Z"
   },
   {
    "duration": 1930,
    "start_time": "2023-09-07T08:22:41.054Z"
   },
   {
    "duration": 1063,
    "start_time": "2023-09-07T08:44:55.295Z"
   },
   {
    "duration": 79,
    "start_time": "2023-09-07T08:44:56.360Z"
   },
   {
    "duration": 14,
    "start_time": "2023-09-07T08:44:56.442Z"
   },
   {
    "duration": 26,
    "start_time": "2023-09-07T08:44:56.458Z"
   },
   {
    "duration": 27,
    "start_time": "2023-09-07T08:44:56.486Z"
   },
   {
    "duration": 25,
    "start_time": "2023-09-07T08:44:56.514Z"
   },
   {
    "duration": 27,
    "start_time": "2023-09-07T08:44:56.540Z"
   },
   {
    "duration": 16,
    "start_time": "2023-09-07T08:44:56.568Z"
   },
   {
    "duration": 14,
    "start_time": "2023-09-07T08:44:56.585Z"
   },
   {
    "duration": 10,
    "start_time": "2023-09-07T08:44:56.602Z"
   },
   {
    "duration": 24,
    "start_time": "2023-09-07T08:44:56.613Z"
   },
   {
    "duration": 12,
    "start_time": "2023-09-07T08:44:56.639Z"
   },
   {
    "duration": 17,
    "start_time": "2023-09-07T08:44:56.652Z"
   },
   {
    "duration": 11,
    "start_time": "2023-09-07T08:44:56.670Z"
   },
   {
    "duration": 30,
    "start_time": "2023-09-07T08:44:56.682Z"
   },
   {
    "duration": 36,
    "start_time": "2023-09-07T08:44:56.714Z"
   },
   {
    "duration": 458,
    "start_time": "2023-09-07T08:44:56.751Z"
   },
   {
    "duration": 190,
    "start_time": "2023-09-07T08:44:57.210Z"
   },
   {
    "duration": 314,
    "start_time": "2023-09-07T08:44:57.402Z"
   },
   {
    "duration": 139,
    "start_time": "2023-09-07T08:44:57.717Z"
   },
   {
    "duration": 5,
    "start_time": "2023-09-07T08:44:57.858Z"
   },
   {
    "duration": 15,
    "start_time": "2023-09-07T08:44:57.864Z"
   },
   {
    "duration": 280,
    "start_time": "2023-09-07T08:44:57.880Z"
   },
   {
    "duration": 330,
    "start_time": "2023-09-07T08:44:58.162Z"
   },
   {
    "duration": 7,
    "start_time": "2023-09-07T08:44:58.494Z"
   },
   {
    "duration": 242,
    "start_time": "2023-09-07T08:44:58.503Z"
   },
   {
    "duration": 352,
    "start_time": "2023-09-07T08:44:58.746Z"
   },
   {
    "duration": 6,
    "start_time": "2023-09-07T08:44:59.101Z"
   },
   {
    "duration": 172,
    "start_time": "2023-09-07T08:44:59.108Z"
   },
   {
    "duration": 4,
    "start_time": "2023-09-07T08:44:59.282Z"
   },
   {
    "duration": 249,
    "start_time": "2023-09-07T08:44:59.287Z"
   },
   {
    "duration": 168,
    "start_time": "2023-09-07T08:44:59.538Z"
   },
   {
    "duration": 5,
    "start_time": "2023-09-07T08:44:59.707Z"
   },
   {
    "duration": 198,
    "start_time": "2023-09-07T08:44:59.713Z"
   },
   {
    "duration": 17,
    "start_time": "2023-09-07T08:44:59.913Z"
   },
   {
    "duration": 152,
    "start_time": "2023-09-07T08:44:59.932Z"
   },
   {
    "duration": 10,
    "start_time": "2023-09-07T08:45:00.086Z"
   },
   {
    "duration": 3539,
    "start_time": "2023-09-07T08:45:00.097Z"
   },
   {
    "duration": 0,
    "start_time": "2023-09-07T08:45:03.637Z"
   },
   {
    "duration": 0,
    "start_time": "2023-09-07T08:45:03.639Z"
   },
   {
    "duration": 105,
    "start_time": "2023-09-07T09:35:37.791Z"
   },
   {
    "duration": 9,
    "start_time": "2023-09-07T09:35:45.710Z"
   },
   {
    "duration": 1076,
    "start_time": "2023-09-07T09:35:59.660Z"
   },
   {
    "duration": 78,
    "start_time": "2023-09-07T09:36:00.738Z"
   },
   {
    "duration": 12,
    "start_time": "2023-09-07T09:36:00.817Z"
   },
   {
    "duration": 75,
    "start_time": "2023-09-07T09:36:00.831Z"
   },
   {
    "duration": 51,
    "start_time": "2023-09-07T09:36:00.908Z"
   },
   {
    "duration": 32,
    "start_time": "2023-09-07T09:36:00.961Z"
   },
   {
    "duration": 50,
    "start_time": "2023-09-07T09:36:00.995Z"
   },
   {
    "duration": 60,
    "start_time": "2023-09-07T09:36:01.046Z"
   },
   {
    "duration": 37,
    "start_time": "2023-09-07T09:36:01.107Z"
   },
   {
    "duration": 45,
    "start_time": "2023-09-07T09:36:01.147Z"
   },
   {
    "duration": 84,
    "start_time": "2023-09-07T09:36:01.194Z"
   },
   {
    "duration": 73,
    "start_time": "2023-09-07T09:36:01.280Z"
   },
   {
    "duration": 60,
    "start_time": "2023-09-07T09:36:01.354Z"
   },
   {
    "duration": 78,
    "start_time": "2023-09-07T09:36:01.415Z"
   },
   {
    "duration": 60,
    "start_time": "2023-09-07T09:36:01.494Z"
   },
   {
    "duration": 92,
    "start_time": "2023-09-07T09:36:01.555Z"
   },
   {
    "duration": 512,
    "start_time": "2023-09-07T09:36:01.648Z"
   },
   {
    "duration": 220,
    "start_time": "2023-09-07T09:36:02.162Z"
   },
   {
    "duration": 339,
    "start_time": "2023-09-07T09:36:02.384Z"
   },
   {
    "duration": 136,
    "start_time": "2023-09-07T09:36:02.725Z"
   },
   {
    "duration": 5,
    "start_time": "2023-09-07T09:36:02.863Z"
   },
   {
    "duration": 27,
    "start_time": "2023-09-07T09:36:02.870Z"
   },
   {
    "duration": 254,
    "start_time": "2023-09-07T09:36:02.898Z"
   },
   {
    "duration": 326,
    "start_time": "2023-09-07T09:36:03.154Z"
   },
   {
    "duration": 7,
    "start_time": "2023-09-07T09:36:03.482Z"
   },
   {
    "duration": 217,
    "start_time": "2023-09-07T09:36:03.490Z"
   },
   {
    "duration": 319,
    "start_time": "2023-09-07T09:36:03.708Z"
   },
   {
    "duration": 21,
    "start_time": "2023-09-07T09:36:04.030Z"
   },
   {
    "duration": 152,
    "start_time": "2023-09-07T09:36:04.054Z"
   },
   {
    "duration": 4,
    "start_time": "2023-09-07T09:36:04.208Z"
   },
   {
    "duration": 246,
    "start_time": "2023-09-07T09:36:04.213Z"
   },
   {
    "duration": 162,
    "start_time": "2023-09-07T09:36:04.461Z"
   },
   {
    "duration": 4,
    "start_time": "2023-09-07T09:36:04.625Z"
   },
   {
    "duration": 204,
    "start_time": "2023-09-07T09:36:04.630Z"
   },
   {
    "duration": 23,
    "start_time": "2023-09-07T09:36:04.836Z"
   },
   {
    "duration": 180,
    "start_time": "2023-09-07T09:36:04.861Z"
   },
   {
    "duration": 12,
    "start_time": "2023-09-07T09:36:05.043Z"
   },
   {
    "duration": 20,
    "start_time": "2023-09-07T09:36:05.057Z"
   },
   {
    "duration": 27,
    "start_time": "2023-09-07T09:36:05.078Z"
   },
   {
    "duration": 12,
    "start_time": "2023-09-07T09:36:05.106Z"
   },
   {
    "duration": 988,
    "start_time": "2023-09-07T09:37:52.100Z"
   },
   {
    "duration": 77,
    "start_time": "2023-09-07T09:37:53.089Z"
   },
   {
    "duration": 10,
    "start_time": "2023-09-07T09:37:53.168Z"
   },
   {
    "duration": 46,
    "start_time": "2023-09-07T09:37:53.179Z"
   },
   {
    "duration": 59,
    "start_time": "2023-09-07T09:37:53.226Z"
   },
   {
    "duration": 16,
    "start_time": "2023-09-07T09:37:53.287Z"
   },
   {
    "duration": 10,
    "start_time": "2023-09-07T09:37:53.304Z"
   },
   {
    "duration": 9,
    "start_time": "2023-09-07T09:37:53.315Z"
   },
   {
    "duration": 8,
    "start_time": "2023-09-07T09:37:53.325Z"
   },
   {
    "duration": 11,
    "start_time": "2023-09-07T09:37:53.335Z"
   },
   {
    "duration": 16,
    "start_time": "2023-09-07T09:37:53.347Z"
   },
   {
    "duration": 28,
    "start_time": "2023-09-07T09:37:53.364Z"
   },
   {
    "duration": 76,
    "start_time": "2023-09-07T09:37:53.394Z"
   },
   {
    "duration": 12,
    "start_time": "2023-09-07T09:37:53.473Z"
   },
   {
    "duration": 19,
    "start_time": "2023-09-07T09:37:53.487Z"
   },
   {
    "duration": 16,
    "start_time": "2023-09-07T09:37:53.508Z"
   },
   {
    "duration": 429,
    "start_time": "2023-09-07T09:37:53.525Z"
   },
   {
    "duration": 179,
    "start_time": "2023-09-07T09:37:53.955Z"
   },
   {
    "duration": 286,
    "start_time": "2023-09-07T09:37:54.136Z"
   },
   {
    "duration": 138,
    "start_time": "2023-09-07T09:37:54.424Z"
   },
   {
    "duration": 5,
    "start_time": "2023-09-07T09:37:54.564Z"
   },
   {
    "duration": 17,
    "start_time": "2023-09-07T09:37:54.570Z"
   },
   {
    "duration": 264,
    "start_time": "2023-09-07T09:37:54.588Z"
   },
   {
    "duration": 321,
    "start_time": "2023-09-07T09:37:54.854Z"
   },
   {
    "duration": 7,
    "start_time": "2023-09-07T09:37:55.176Z"
   },
   {
    "duration": 300,
    "start_time": "2023-09-07T09:37:55.185Z"
   },
   {
    "duration": 329,
    "start_time": "2023-09-07T09:37:55.486Z"
   },
   {
    "duration": 6,
    "start_time": "2023-09-07T09:37:55.818Z"
   },
   {
    "duration": 187,
    "start_time": "2023-09-07T09:37:55.825Z"
   },
   {
    "duration": 6,
    "start_time": "2023-09-07T09:37:56.014Z"
   },
   {
    "duration": 266,
    "start_time": "2023-09-07T09:37:56.022Z"
   },
   {
    "duration": 173,
    "start_time": "2023-09-07T09:37:56.290Z"
   },
   {
    "duration": 7,
    "start_time": "2023-09-07T09:37:56.465Z"
   },
   {
    "duration": 198,
    "start_time": "2023-09-07T09:37:56.473Z"
   },
   {
    "duration": 19,
    "start_time": "2023-09-07T09:37:56.673Z"
   },
   {
    "duration": 156,
    "start_time": "2023-09-07T09:37:56.693Z"
   },
   {
    "duration": 11,
    "start_time": "2023-09-07T09:37:56.852Z"
   },
   {
    "duration": 15,
    "start_time": "2023-09-07T09:37:56.864Z"
   },
   {
    "duration": 28,
    "start_time": "2023-09-07T09:37:56.880Z"
   },
   {
    "duration": 13,
    "start_time": "2023-09-07T09:37:56.910Z"
   },
   {
    "duration": 1325,
    "start_time": "2023-09-07T10:49:32.604Z"
   },
   {
    "duration": 229,
    "start_time": "2023-09-07T10:49:33.932Z"
   },
   {
    "duration": 19,
    "start_time": "2023-09-07T10:49:34.164Z"
   },
   {
    "duration": 56,
    "start_time": "2023-09-07T10:49:34.186Z"
   },
   {
    "duration": 56,
    "start_time": "2023-09-07T10:49:34.244Z"
   },
   {
    "duration": 34,
    "start_time": "2023-09-07T10:49:34.302Z"
   },
   {
    "duration": 21,
    "start_time": "2023-09-07T10:49:34.338Z"
   },
   {
    "duration": 23,
    "start_time": "2023-09-07T10:49:34.360Z"
   },
   {
    "duration": 10,
    "start_time": "2023-09-07T10:49:34.384Z"
   },
   {
    "duration": 15,
    "start_time": "2023-09-07T10:49:34.397Z"
   },
   {
    "duration": 23,
    "start_time": "2023-09-07T10:49:34.414Z"
   },
   {
    "duration": 23,
    "start_time": "2023-09-07T10:49:34.439Z"
   },
   {
    "duration": 30,
    "start_time": "2023-09-07T10:49:34.464Z"
   },
   {
    "duration": 32,
    "start_time": "2023-09-07T10:49:34.496Z"
   },
   {
    "duration": 20,
    "start_time": "2023-09-07T10:49:34.530Z"
   },
   {
    "duration": 31,
    "start_time": "2023-09-07T10:49:34.551Z"
   },
   {
    "duration": 544,
    "start_time": "2023-09-07T10:49:34.583Z"
   },
   {
    "duration": 218,
    "start_time": "2023-09-07T10:49:35.128Z"
   },
   {
    "duration": 373,
    "start_time": "2023-09-07T10:49:35.348Z"
   },
   {
    "duration": 155,
    "start_time": "2023-09-07T10:49:35.723Z"
   },
   {
    "duration": 7,
    "start_time": "2023-09-07T10:49:35.879Z"
   },
   {
    "duration": 39,
    "start_time": "2023-09-07T10:49:35.888Z"
   },
   {
    "duration": 260,
    "start_time": "2023-09-07T10:49:35.929Z"
   },
   {
    "duration": 363,
    "start_time": "2023-09-07T10:49:36.190Z"
   },
   {
    "duration": 16,
    "start_time": "2023-09-07T10:49:36.555Z"
   },
   {
    "duration": 254,
    "start_time": "2023-09-07T10:49:36.573Z"
   },
   {
    "duration": 395,
    "start_time": "2023-09-07T10:49:36.829Z"
   },
   {
    "duration": 6,
    "start_time": "2023-09-07T10:49:37.228Z"
   },
   {
    "duration": 208,
    "start_time": "2023-09-07T10:49:37.236Z"
   },
   {
    "duration": 6,
    "start_time": "2023-09-07T10:49:37.445Z"
   },
   {
    "duration": 276,
    "start_time": "2023-09-07T10:49:37.466Z"
   },
   {
    "duration": 196,
    "start_time": "2023-09-07T10:49:37.744Z"
   },
   {
    "duration": 6,
    "start_time": "2023-09-07T10:49:37.942Z"
   },
   {
    "duration": 220,
    "start_time": "2023-09-07T10:49:37.949Z"
   },
   {
    "duration": 22,
    "start_time": "2023-09-07T10:49:38.170Z"
   },
   {
    "duration": 229,
    "start_time": "2023-09-07T10:49:38.194Z"
   },
   {
    "duration": 18,
    "start_time": "2023-09-07T10:49:38.425Z"
   },
   {
    "duration": 30,
    "start_time": "2023-09-07T10:49:38.445Z"
   },
   {
    "duration": 52,
    "start_time": "2023-09-07T10:49:38.478Z"
   },
   {
    "duration": 16,
    "start_time": "2023-09-07T10:49:38.533Z"
   },
   {
    "duration": 1333,
    "start_time": "2023-09-07T11:09:48.561Z"
   },
   {
    "duration": 248,
    "start_time": "2023-09-07T11:09:49.896Z"
   },
   {
    "duration": 12,
    "start_time": "2023-09-07T11:09:50.146Z"
   },
   {
    "duration": 28,
    "start_time": "2023-09-07T11:09:50.160Z"
   },
   {
    "duration": 57,
    "start_time": "2023-09-07T11:09:50.190Z"
   },
   {
    "duration": 69,
    "start_time": "2023-09-07T11:09:50.249Z"
   },
   {
    "duration": 35,
    "start_time": "2023-09-07T11:09:50.319Z"
   },
   {
    "duration": 45,
    "start_time": "2023-09-07T11:09:50.356Z"
   },
   {
    "duration": 56,
    "start_time": "2023-09-07T11:09:50.403Z"
   },
   {
    "duration": 41,
    "start_time": "2023-09-07T11:09:50.462Z"
   },
   {
    "duration": 34,
    "start_time": "2023-09-07T11:09:50.505Z"
   },
   {
    "duration": 74,
    "start_time": "2023-09-07T11:09:50.541Z"
   },
   {
    "duration": 76,
    "start_time": "2023-09-07T11:09:50.617Z"
   },
   {
    "duration": 56,
    "start_time": "2023-09-07T11:09:50.695Z"
   },
   {
    "duration": 60,
    "start_time": "2023-09-07T11:09:50.753Z"
   },
   {
    "duration": 30,
    "start_time": "2023-09-07T11:09:50.815Z"
   },
   {
    "duration": 484,
    "start_time": "2023-09-07T11:09:50.846Z"
   },
   {
    "duration": 191,
    "start_time": "2023-09-07T11:09:51.332Z"
   },
   {
    "duration": 294,
    "start_time": "2023-09-07T11:09:51.524Z"
   },
   {
    "duration": 138,
    "start_time": "2023-09-07T11:09:51.819Z"
   },
   {
    "duration": 70,
    "start_time": "2023-09-07T11:09:51.959Z"
   },
   {
    "duration": 51,
    "start_time": "2023-09-07T11:09:52.030Z"
   },
   {
    "duration": 290,
    "start_time": "2023-09-07T11:09:52.083Z"
   },
   {
    "duration": 349,
    "start_time": "2023-09-07T11:09:52.374Z"
   },
   {
    "duration": 8,
    "start_time": "2023-09-07T11:09:52.725Z"
   },
   {
    "duration": 268,
    "start_time": "2023-09-07T11:09:52.734Z"
   },
   {
    "duration": 337,
    "start_time": "2023-09-07T11:09:53.004Z"
   },
   {
    "duration": 7,
    "start_time": "2023-09-07T11:09:53.350Z"
   },
   {
    "duration": 183,
    "start_time": "2023-09-07T11:09:53.358Z"
   },
   {
    "duration": 5,
    "start_time": "2023-09-07T11:09:53.542Z"
   },
   {
    "duration": 266,
    "start_time": "2023-09-07T11:09:53.549Z"
   },
   {
    "duration": 166,
    "start_time": "2023-09-07T11:09:53.816Z"
   },
   {
    "duration": 5,
    "start_time": "2023-09-07T11:09:53.984Z"
   },
   {
    "duration": 243,
    "start_time": "2023-09-07T11:09:53.990Z"
   },
   {
    "duration": 24,
    "start_time": "2023-09-07T11:09:54.234Z"
   },
   {
    "duration": 199,
    "start_time": "2023-09-07T11:09:54.260Z"
   },
   {
    "duration": 11,
    "start_time": "2023-09-07T11:09:54.460Z"
   },
   {
    "duration": 35,
    "start_time": "2023-09-07T11:09:54.472Z"
   },
   {
    "duration": 61,
    "start_time": "2023-09-07T11:09:54.509Z"
   },
   {
    "duration": 13,
    "start_time": "2023-09-07T11:09:54.572Z"
   }
  ],
  "kernelspec": {
   "display_name": "Python 3 (ipykernel)",
   "language": "python",
   "name": "python3"
  },
  "language_info": {
   "codemirror_mode": {
    "name": "ipython",
    "version": 3
   },
   "file_extension": ".py",
   "mimetype": "text/x-python",
   "name": "python",
   "nbconvert_exporter": "python",
   "pygments_lexer": "ipython3",
   "version": "3.10.9"
  },
  "toc": {
   "base_numbering": 1,
   "nav_menu": {},
   "number_sections": true,
   "sideBar": true,
   "skip_h1_title": true,
   "title_cell": "Table of Contents",
   "title_sidebar": "Contents",
   "toc_cell": false,
   "toc_position": {},
   "toc_section_display": true,
   "toc_window_display": false
  }
 },
 "nbformat": 4,
 "nbformat_minor": 2
}
