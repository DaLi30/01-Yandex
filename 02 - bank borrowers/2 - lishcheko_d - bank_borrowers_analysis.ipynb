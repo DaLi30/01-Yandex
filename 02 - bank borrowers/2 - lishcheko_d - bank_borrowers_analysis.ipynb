{
 "cells": [
  {
   "cell_type": "markdown",
   "id": "386f2ae7",
   "metadata": {
    "deletable": false,
    "editable": false,
    "id": "386f2ae7"
   },
   "source": [
    "# Исследование надежности заемщиков\n"
   ]
  },
  {
   "cell_type": "markdown",
   "id": "ffe86f65",
   "metadata": {
    "deletable": false,
    "editable": false,
    "id": "ffe86f65"
   },
   "source": [
    "Во второй части проекта вы выполните шаги 3 и 4. Их вручную проверит ревьюер.\n",
    "Чтобы вам не пришлось писать код заново для шагов 1 и 2, мы добавили авторские решения в ячейки с кодом. \n",
    "\n"
   ]
  },
  {
   "cell_type": "markdown",
   "id": "26613308",
   "metadata": {
    "deletable": false,
    "editable": false,
    "id": "26613308"
   },
   "source": [
    "## Откройте таблицу и изучите общую информацию о данных"
   ]
  },
  {
   "cell_type": "markdown",
   "id": "3c9f838e",
   "metadata": {
    "deletable": false,
    "editable": false,
    "id": "3c9f838e"
   },
   "source": [
    "**Задание 1. Импортируйте библиотеку pandas. Считайте данные из csv-файла в датафрейм и сохраните в переменную `data`. Путь к файлу:**\n",
    "\n",
    "`/datasets/data.csv`"
   ]
  },
  {
   "cell_type": "code",
   "execution_count": 1,
   "id": "77a68a90",
   "metadata": {
    "deletable": false,
    "id": "77a68a90"
   },
   "outputs": [],
   "source": [
    "import pandas as pd\n",
    "\n",
    "try:\n",
    "    data = pd.read_csv\n",
    "except:\n",
    "    data = pd.read_csv"
   ]
  },
  {
   "cell_type": "markdown",
   "id": "45365635",
   "metadata": {
    "deletable": false,
    "editable": false,
    "id": "45365635"
   },
   "source": [
    "**Задание 2. Выведите первые 20 строчек датафрейма `data` на экран.**"
   ]
  },
  {
   "cell_type": "code",
   "execution_count": 2,
   "id": "b0451a9a",
   "metadata": {
    "deletable": false,
    "id": "b0451a9a",
    "outputId": "1a8f3ef2-d323-4ec2-ddf7-89670b5944c4"
   },
   "outputs": [
    {
     "data": {
      "text/html": [
       "<div>\n",
       "<style scoped>\n",
       "    .dataframe tbody tr th:only-of-type {\n",
       "        vertical-align: middle;\n",
       "    }\n",
       "\n",
       "    .dataframe tbody tr th {\n",
       "        vertical-align: top;\n",
       "    }\n",
       "\n",
       "    .dataframe thead th {\n",
       "        text-align: right;\n",
       "    }\n",
       "</style>\n",
       "<table border=\"1\" class=\"dataframe\">\n",
       "  <thead>\n",
       "    <tr style=\"text-align: right;\">\n",
       "      <th></th>\n",
       "      <th>children</th>\n",
       "      <th>days_employed</th>\n",
       "      <th>dob_years</th>\n",
       "      <th>education</th>\n",
       "      <th>education_id</th>\n",
       "      <th>family_status</th>\n",
       "      <th>family_status_id</th>\n",
       "      <th>gender</th>\n",
       "      <th>income_type</th>\n",
       "      <th>debt</th>\n",
       "      <th>total_income</th>\n",
       "      <th>purpose</th>\n",
       "    </tr>\n",
       "  </thead>\n",
       "  <tbody>\n",
       "    <tr>\n",
       "      <th>0</th>\n",
       "      <td>1</td>\n",
       "      <td>-8437.673028</td>\n",
       "      <td>42</td>\n",
       "      <td>высшее</td>\n",
       "      <td>0</td>\n",
       "      <td>женат / замужем</td>\n",
       "      <td>0</td>\n",
       "      <td>F</td>\n",
       "      <td>сотрудник</td>\n",
       "      <td>0</td>\n",
       "      <td>253875.639453</td>\n",
       "      <td>покупка жилья</td>\n",
       "    </tr>\n",
       "    <tr>\n",
       "      <th>1</th>\n",
       "      <td>1</td>\n",
       "      <td>-4024.803754</td>\n",
       "      <td>36</td>\n",
       "      <td>среднее</td>\n",
       "      <td>1</td>\n",
       "      <td>женат / замужем</td>\n",
       "      <td>0</td>\n",
       "      <td>F</td>\n",
       "      <td>сотрудник</td>\n",
       "      <td>0</td>\n",
       "      <td>112080.014102</td>\n",
       "      <td>приобретение автомобиля</td>\n",
       "    </tr>\n",
       "    <tr>\n",
       "      <th>2</th>\n",
       "      <td>0</td>\n",
       "      <td>-5623.422610</td>\n",
       "      <td>33</td>\n",
       "      <td>Среднее</td>\n",
       "      <td>1</td>\n",
       "      <td>женат / замужем</td>\n",
       "      <td>0</td>\n",
       "      <td>M</td>\n",
       "      <td>сотрудник</td>\n",
       "      <td>0</td>\n",
       "      <td>145885.952297</td>\n",
       "      <td>покупка жилья</td>\n",
       "    </tr>\n",
       "    <tr>\n",
       "      <th>3</th>\n",
       "      <td>3</td>\n",
       "      <td>-4124.747207</td>\n",
       "      <td>32</td>\n",
       "      <td>среднее</td>\n",
       "      <td>1</td>\n",
       "      <td>женат / замужем</td>\n",
       "      <td>0</td>\n",
       "      <td>M</td>\n",
       "      <td>сотрудник</td>\n",
       "      <td>0</td>\n",
       "      <td>267628.550329</td>\n",
       "      <td>дополнительное образование</td>\n",
       "    </tr>\n",
       "    <tr>\n",
       "      <th>4</th>\n",
       "      <td>0</td>\n",
       "      <td>340266.072047</td>\n",
       "      <td>53</td>\n",
       "      <td>среднее</td>\n",
       "      <td>1</td>\n",
       "      <td>гражданский брак</td>\n",
       "      <td>1</td>\n",
       "      <td>F</td>\n",
       "      <td>пенсионер</td>\n",
       "      <td>0</td>\n",
       "      <td>158616.077870</td>\n",
       "      <td>сыграть свадьбу</td>\n",
       "    </tr>\n",
       "    <tr>\n",
       "      <th>5</th>\n",
       "      <td>0</td>\n",
       "      <td>-926.185831</td>\n",
       "      <td>27</td>\n",
       "      <td>высшее</td>\n",
       "      <td>0</td>\n",
       "      <td>гражданский брак</td>\n",
       "      <td>1</td>\n",
       "      <td>M</td>\n",
       "      <td>компаньон</td>\n",
       "      <td>0</td>\n",
       "      <td>255763.565419</td>\n",
       "      <td>покупка жилья</td>\n",
       "    </tr>\n",
       "    <tr>\n",
       "      <th>6</th>\n",
       "      <td>0</td>\n",
       "      <td>-2879.202052</td>\n",
       "      <td>43</td>\n",
       "      <td>высшее</td>\n",
       "      <td>0</td>\n",
       "      <td>женат / замужем</td>\n",
       "      <td>0</td>\n",
       "      <td>F</td>\n",
       "      <td>компаньон</td>\n",
       "      <td>0</td>\n",
       "      <td>240525.971920</td>\n",
       "      <td>операции с жильем</td>\n",
       "    </tr>\n",
       "    <tr>\n",
       "      <th>7</th>\n",
       "      <td>0</td>\n",
       "      <td>-152.779569</td>\n",
       "      <td>50</td>\n",
       "      <td>СРЕДНЕЕ</td>\n",
       "      <td>1</td>\n",
       "      <td>женат / замужем</td>\n",
       "      <td>0</td>\n",
       "      <td>M</td>\n",
       "      <td>сотрудник</td>\n",
       "      <td>0</td>\n",
       "      <td>135823.934197</td>\n",
       "      <td>образование</td>\n",
       "    </tr>\n",
       "    <tr>\n",
       "      <th>8</th>\n",
       "      <td>2</td>\n",
       "      <td>-6929.865299</td>\n",
       "      <td>35</td>\n",
       "      <td>ВЫСШЕЕ</td>\n",
       "      <td>0</td>\n",
       "      <td>гражданский брак</td>\n",
       "      <td>1</td>\n",
       "      <td>F</td>\n",
       "      <td>сотрудник</td>\n",
       "      <td>0</td>\n",
       "      <td>95856.832424</td>\n",
       "      <td>на проведение свадьбы</td>\n",
       "    </tr>\n",
       "    <tr>\n",
       "      <th>9</th>\n",
       "      <td>0</td>\n",
       "      <td>-2188.756445</td>\n",
       "      <td>41</td>\n",
       "      <td>среднее</td>\n",
       "      <td>1</td>\n",
       "      <td>женат / замужем</td>\n",
       "      <td>0</td>\n",
       "      <td>M</td>\n",
       "      <td>сотрудник</td>\n",
       "      <td>0</td>\n",
       "      <td>144425.938277</td>\n",
       "      <td>покупка жилья для семьи</td>\n",
       "    </tr>\n",
       "    <tr>\n",
       "      <th>10</th>\n",
       "      <td>2</td>\n",
       "      <td>-4171.483647</td>\n",
       "      <td>36</td>\n",
       "      <td>высшее</td>\n",
       "      <td>0</td>\n",
       "      <td>женат / замужем</td>\n",
       "      <td>0</td>\n",
       "      <td>M</td>\n",
       "      <td>компаньон</td>\n",
       "      <td>0</td>\n",
       "      <td>113943.491460</td>\n",
       "      <td>покупка недвижимости</td>\n",
       "    </tr>\n",
       "    <tr>\n",
       "      <th>11</th>\n",
       "      <td>0</td>\n",
       "      <td>-792.701887</td>\n",
       "      <td>40</td>\n",
       "      <td>среднее</td>\n",
       "      <td>1</td>\n",
       "      <td>женат / замужем</td>\n",
       "      <td>0</td>\n",
       "      <td>F</td>\n",
       "      <td>сотрудник</td>\n",
       "      <td>0</td>\n",
       "      <td>77069.234271</td>\n",
       "      <td>покупка коммерческой недвижимости</td>\n",
       "    </tr>\n",
       "    <tr>\n",
       "      <th>12</th>\n",
       "      <td>0</td>\n",
       "      <td>NaN</td>\n",
       "      <td>65</td>\n",
       "      <td>среднее</td>\n",
       "      <td>1</td>\n",
       "      <td>гражданский брак</td>\n",
       "      <td>1</td>\n",
       "      <td>M</td>\n",
       "      <td>пенсионер</td>\n",
       "      <td>0</td>\n",
       "      <td>NaN</td>\n",
       "      <td>сыграть свадьбу</td>\n",
       "    </tr>\n",
       "    <tr>\n",
       "      <th>13</th>\n",
       "      <td>0</td>\n",
       "      <td>-1846.641941</td>\n",
       "      <td>54</td>\n",
       "      <td>неоконченное высшее</td>\n",
       "      <td>2</td>\n",
       "      <td>женат / замужем</td>\n",
       "      <td>0</td>\n",
       "      <td>F</td>\n",
       "      <td>сотрудник</td>\n",
       "      <td>0</td>\n",
       "      <td>130458.228857</td>\n",
       "      <td>приобретение автомобиля</td>\n",
       "    </tr>\n",
       "    <tr>\n",
       "      <th>14</th>\n",
       "      <td>0</td>\n",
       "      <td>-1844.956182</td>\n",
       "      <td>56</td>\n",
       "      <td>высшее</td>\n",
       "      <td>0</td>\n",
       "      <td>гражданский брак</td>\n",
       "      <td>1</td>\n",
       "      <td>F</td>\n",
       "      <td>компаньон</td>\n",
       "      <td>1</td>\n",
       "      <td>165127.911772</td>\n",
       "      <td>покупка жилой недвижимости</td>\n",
       "    </tr>\n",
       "    <tr>\n",
       "      <th>15</th>\n",
       "      <td>1</td>\n",
       "      <td>-972.364419</td>\n",
       "      <td>26</td>\n",
       "      <td>среднее</td>\n",
       "      <td>1</td>\n",
       "      <td>женат / замужем</td>\n",
       "      <td>0</td>\n",
       "      <td>F</td>\n",
       "      <td>сотрудник</td>\n",
       "      <td>0</td>\n",
       "      <td>116820.904450</td>\n",
       "      <td>строительство собственной недвижимости</td>\n",
       "    </tr>\n",
       "    <tr>\n",
       "      <th>16</th>\n",
       "      <td>0</td>\n",
       "      <td>-1719.934226</td>\n",
       "      <td>35</td>\n",
       "      <td>среднее</td>\n",
       "      <td>1</td>\n",
       "      <td>женат / замужем</td>\n",
       "      <td>0</td>\n",
       "      <td>F</td>\n",
       "      <td>сотрудник</td>\n",
       "      <td>0</td>\n",
       "      <td>289202.704229</td>\n",
       "      <td>недвижимость</td>\n",
       "    </tr>\n",
       "    <tr>\n",
       "      <th>17</th>\n",
       "      <td>0</td>\n",
       "      <td>-2369.999720</td>\n",
       "      <td>33</td>\n",
       "      <td>высшее</td>\n",
       "      <td>0</td>\n",
       "      <td>гражданский брак</td>\n",
       "      <td>1</td>\n",
       "      <td>M</td>\n",
       "      <td>сотрудник</td>\n",
       "      <td>0</td>\n",
       "      <td>90410.586745</td>\n",
       "      <td>строительство недвижимости</td>\n",
       "    </tr>\n",
       "    <tr>\n",
       "      <th>18</th>\n",
       "      <td>0</td>\n",
       "      <td>400281.136913</td>\n",
       "      <td>53</td>\n",
       "      <td>среднее</td>\n",
       "      <td>1</td>\n",
       "      <td>вдовец / вдова</td>\n",
       "      <td>2</td>\n",
       "      <td>F</td>\n",
       "      <td>пенсионер</td>\n",
       "      <td>0</td>\n",
       "      <td>56823.777243</td>\n",
       "      <td>на покупку подержанного автомобиля</td>\n",
       "    </tr>\n",
       "    <tr>\n",
       "      <th>19</th>\n",
       "      <td>0</td>\n",
       "      <td>-10038.818549</td>\n",
       "      <td>48</td>\n",
       "      <td>СРЕДНЕЕ</td>\n",
       "      <td>1</td>\n",
       "      <td>в разводе</td>\n",
       "      <td>3</td>\n",
       "      <td>F</td>\n",
       "      <td>сотрудник</td>\n",
       "      <td>0</td>\n",
       "      <td>242831.107982</td>\n",
       "      <td>на покупку своего автомобиля</td>\n",
       "    </tr>\n",
       "  </tbody>\n",
       "</table>\n",
       "</div>"
      ],
      "text/plain": [
       "    children  days_employed  dob_years            education  education_id  \\\n",
       "0          1   -8437.673028         42               высшее             0   \n",
       "1          1   -4024.803754         36              среднее             1   \n",
       "2          0   -5623.422610         33              Среднее             1   \n",
       "3          3   -4124.747207         32              среднее             1   \n",
       "4          0  340266.072047         53              среднее             1   \n",
       "5          0    -926.185831         27               высшее             0   \n",
       "6          0   -2879.202052         43               высшее             0   \n",
       "7          0    -152.779569         50              СРЕДНЕЕ             1   \n",
       "8          2   -6929.865299         35               ВЫСШЕЕ             0   \n",
       "9          0   -2188.756445         41              среднее             1   \n",
       "10         2   -4171.483647         36               высшее             0   \n",
       "11         0    -792.701887         40              среднее             1   \n",
       "12         0            NaN         65              среднее             1   \n",
       "13         0   -1846.641941         54  неоконченное высшее             2   \n",
       "14         0   -1844.956182         56               высшее             0   \n",
       "15         1    -972.364419         26              среднее             1   \n",
       "16         0   -1719.934226         35              среднее             1   \n",
       "17         0   -2369.999720         33               высшее             0   \n",
       "18         0  400281.136913         53              среднее             1   \n",
       "19         0  -10038.818549         48              СРЕДНЕЕ             1   \n",
       "\n",
       "       family_status  family_status_id gender income_type  debt  \\\n",
       "0    женат / замужем                 0      F   сотрудник     0   \n",
       "1    женат / замужем                 0      F   сотрудник     0   \n",
       "2    женат / замужем                 0      M   сотрудник     0   \n",
       "3    женат / замужем                 0      M   сотрудник     0   \n",
       "4   гражданский брак                 1      F   пенсионер     0   \n",
       "5   гражданский брак                 1      M   компаньон     0   \n",
       "6    женат / замужем                 0      F   компаньон     0   \n",
       "7    женат / замужем                 0      M   сотрудник     0   \n",
       "8   гражданский брак                 1      F   сотрудник     0   \n",
       "9    женат / замужем                 0      M   сотрудник     0   \n",
       "10   женат / замужем                 0      M   компаньон     0   \n",
       "11   женат / замужем                 0      F   сотрудник     0   \n",
       "12  гражданский брак                 1      M   пенсионер     0   \n",
       "13   женат / замужем                 0      F   сотрудник     0   \n",
       "14  гражданский брак                 1      F   компаньон     1   \n",
       "15   женат / замужем                 0      F   сотрудник     0   \n",
       "16   женат / замужем                 0      F   сотрудник     0   \n",
       "17  гражданский брак                 1      M   сотрудник     0   \n",
       "18    вдовец / вдова                 2      F   пенсионер     0   \n",
       "19         в разводе                 3      F   сотрудник     0   \n",
       "\n",
       "     total_income                                 purpose  \n",
       "0   253875.639453                           покупка жилья  \n",
       "1   112080.014102                 приобретение автомобиля  \n",
       "2   145885.952297                           покупка жилья  \n",
       "3   267628.550329              дополнительное образование  \n",
       "4   158616.077870                         сыграть свадьбу  \n",
       "5   255763.565419                           покупка жилья  \n",
       "6   240525.971920                       операции с жильем  \n",
       "7   135823.934197                             образование  \n",
       "8    95856.832424                   на проведение свадьбы  \n",
       "9   144425.938277                 покупка жилья для семьи  \n",
       "10  113943.491460                    покупка недвижимости  \n",
       "11   77069.234271       покупка коммерческой недвижимости  \n",
       "12            NaN                         сыграть свадьбу  \n",
       "13  130458.228857                 приобретение автомобиля  \n",
       "14  165127.911772              покупка жилой недвижимости  \n",
       "15  116820.904450  строительство собственной недвижимости  \n",
       "16  289202.704229                            недвижимость  \n",
       "17   90410.586745              строительство недвижимости  \n",
       "18   56823.777243      на покупку подержанного автомобиля  \n",
       "19  242831.107982            на покупку своего автомобиля  "
      ]
     },
     "execution_count": 2,
     "metadata": {},
     "output_type": "execute_result"
    }
   ],
   "source": [
    "data.head(20)"
   ]
  },
  {
   "cell_type": "markdown",
   "id": "0ed8f27f",
   "metadata": {
    "deletable": false,
    "editable": false,
    "id": "0ed8f27f"
   },
   "source": [
    "**Задание 3. Выведите основную информацию о датафрейме с помощью метода `info()`.**"
   ]
  },
  {
   "cell_type": "code",
   "execution_count": 3,
   "id": "ab3f863b",
   "metadata": {
    "deletable": false,
    "id": "ab3f863b",
    "outputId": "15376089-8dad-46c9-b520-c05248d43158"
   },
   "outputs": [
    {
     "name": "stdout",
     "output_type": "stream",
     "text": [
      "<class 'pandas.core.frame.DataFrame'>\n",
      "RangeIndex: 21525 entries, 0 to 21524\n",
      "Data columns (total 12 columns):\n",
      " #   Column            Non-Null Count  Dtype  \n",
      "---  ------            --------------  -----  \n",
      " 0   children          21525 non-null  int64  \n",
      " 1   days_employed     19351 non-null  float64\n",
      " 2   dob_years         21525 non-null  int64  \n",
      " 3   education         21525 non-null  object \n",
      " 4   education_id      21525 non-null  int64  \n",
      " 5   family_status     21525 non-null  object \n",
      " 6   family_status_id  21525 non-null  int64  \n",
      " 7   gender            21525 non-null  object \n",
      " 8   income_type       21525 non-null  object \n",
      " 9   debt              21525 non-null  int64  \n",
      " 10  total_income      19351 non-null  float64\n",
      " 11  purpose           21525 non-null  object \n",
      "dtypes: float64(2), int64(5), object(5)\n",
      "memory usage: 2.0+ MB\n"
     ]
    }
   ],
   "source": [
    "data.info()"
   ]
  },
  {
   "cell_type": "markdown",
   "id": "60e3e22d",
   "metadata": {
    "deletable": false,
    "editable": false,
    "id": "60e3e22d"
   },
   "source": [
    "## Предобработка данных"
   ]
  },
  {
   "cell_type": "markdown",
   "id": "03dc170c",
   "metadata": {
    "deletable": false,
    "editable": false,
    "id": "03dc170c"
   },
   "source": [
    "### Удаление пропусков"
   ]
  },
  {
   "cell_type": "markdown",
   "id": "a4f54eef",
   "metadata": {
    "deletable": false,
    "editable": false,
    "id": "a4f54eef"
   },
   "source": [
    "**Задание 4. Выведите количество пропущенных значений для каждого столбца. Используйте комбинацию двух методов.**"
   ]
  },
  {
   "cell_type": "code",
   "execution_count": 4,
   "id": "2dc372b2",
   "metadata": {
    "deletable": false,
    "id": "2dc372b2",
    "outputId": "81f4d817-781c-465c-ed15-91ce4446810d"
   },
   "outputs": [
    {
     "data": {
      "text/plain": [
       "children               0\n",
       "days_employed       2174\n",
       "dob_years              0\n",
       "education              0\n",
       "education_id           0\n",
       "family_status          0\n",
       "family_status_id       0\n",
       "gender                 0\n",
       "income_type            0\n",
       "debt                   0\n",
       "total_income        2174\n",
       "purpose                0\n",
       "dtype: int64"
      ]
     },
     "execution_count": 4,
     "metadata": {},
     "output_type": "execute_result"
    }
   ],
   "source": [
    "data.isna().sum()"
   ]
  },
  {
   "cell_type": "markdown",
   "id": "14f011b1",
   "metadata": {
    "deletable": false,
    "editable": false,
    "id": "14f011b1"
   },
   "source": [
    "**Задание 5. В двух столбцах есть пропущенные значения. Один из них — `days_employed`. Пропуски в этом столбце вы обработаете на следующем этапе. Другой столбец с пропущенными значениями — `total_income` — хранит данные о доходах. На сумму дохода сильнее всего влияет тип занятости, поэтому заполнить пропуски в этом столбце нужно медианным значением по каждому типу из столбца `income_type`. Например, у человека с типом занятости `сотрудник` пропуск в столбце `total_income` должен быть заполнен медианным доходом среди всех записей с тем же типом.**"
   ]
  },
  {
   "cell_type": "code",
   "execution_count": 5,
   "id": "bdabfb6e",
   "metadata": {
    "deletable": false,
    "id": "bdabfb6e"
   },
   "outputs": [],
   "source": [
    "for t in data['income_type'].unique():\n",
    "    data.loc[(data['income_type'] == t) & (data['total_income'].isna()), 'total_income'] = \\\n",
    "    data.loc[(data['income_type'] == t), 'total_income'].median()"
   ]
  },
  {
   "cell_type": "markdown",
   "id": "5be34059",
   "metadata": {
    "deletable": false,
    "editable": false,
    "id": "5be34059"
   },
   "source": [
    "### Обработка аномальных значений"
   ]
  },
  {
   "cell_type": "markdown",
   "id": "a87606cb",
   "metadata": {
    "deletable": false,
    "editable": false,
    "id": "a87606cb"
   },
   "source": [
    "**Задание 6. В данных могут встречаться артефакты (аномалии) — значения, которые не отражают действительность и появились по какой-то ошибке. таким артефактом будет отрицательное количество дней трудового стажа в столбце `days_employed`. Для реальных данных это нормально. Обработайте значения в этом столбце: замените все отрицательные значения положительными с помощью метода `abs()`.**"
   ]
  },
  {
   "cell_type": "code",
   "execution_count": 6,
   "id": "020c46cc",
   "metadata": {
    "deletable": false,
    "id": "020c46cc"
   },
   "outputs": [],
   "source": [
    "data['days_employed'] = data['days_employed'].abs()"
   ]
  },
  {
   "cell_type": "markdown",
   "id": "45538a3a",
   "metadata": {
    "deletable": false,
    "editable": false,
    "id": "45538a3a"
   },
   "source": [
    "**Задание 7. Для каждого типа занятости выведите медианное значение трудового стажа `days_employed` в днях.**"
   ]
  },
  {
   "cell_type": "code",
   "execution_count": 7,
   "id": "cd3e6328",
   "metadata": {
    "deletable": false,
    "id": "cd3e6328",
    "outputId": "801ef80e-522b-4668-f34e-565af7432bcf"
   },
   "outputs": [
    {
     "data": {
      "text/plain": [
       "income_type\n",
       "безработный        366413.652744\n",
       "в декрете            3296.759962\n",
       "госслужащий          2689.368353\n",
       "компаньон            1547.382223\n",
       "пенсионер          365213.306266\n",
       "предприниматель       520.848083\n",
       "сотрудник            1574.202821\n",
       "студент               578.751554\n",
       "Name: days_employed, dtype: float64"
      ]
     },
     "execution_count": 7,
     "metadata": {},
     "output_type": "execute_result"
    }
   ],
   "source": [
    "data.groupby('income_type')['days_employed'].agg('median')"
   ]
  },
  {
   "cell_type": "markdown",
   "id": "90c5f058",
   "metadata": {
    "deletable": false,
    "editable": false,
    "id": "90c5f058"
   },
   "source": [
    "У двух типов (безработные и пенсионеры) получатся аномально большие значения. Исправить такие значения сложно, поэтому оставьте их как есть."
   ]
  },
  {
   "cell_type": "markdown",
   "id": "9652e50d",
   "metadata": {
    "deletable": false,
    "editable": false,
    "id": "9652e50d"
   },
   "source": [
    "**Задание 8. Выведите перечень уникальных значений столбца `children`.**"
   ]
  },
  {
   "cell_type": "code",
   "execution_count": 8,
   "id": "dbb37b8e",
   "metadata": {
    "deletable": false,
    "id": "dbb37b8e",
    "outputId": "6975b15c-7f95-4697-d16d-a0c79b657b03"
   },
   "outputs": [
    {
     "data": {
      "text/plain": [
       "array([ 1,  0,  3,  2, -1,  4, 20,  5])"
      ]
     },
     "execution_count": 8,
     "metadata": {},
     "output_type": "execute_result"
    }
   ],
   "source": [
    "data['children'].unique()"
   ]
  },
  {
   "cell_type": "markdown",
   "id": "2b8b0715",
   "metadata": {
    "deletable": false,
    "editable": false,
    "id": "2b8b0715"
   },
   "source": [
    "**Задание 9. В столбце `children` есть два аномальных значения. Удалите строки, в которых встречаются такие аномальные значения из датафрейма `data`.**"
   ]
  },
  {
   "cell_type": "code",
   "execution_count": 9,
   "id": "20009df8",
   "metadata": {
    "deletable": false,
    "id": "20009df8"
   },
   "outputs": [],
   "source": [
    "data = data[(data['children'] != -1) & (data['children'] != 20)]"
   ]
  },
  {
   "cell_type": "markdown",
   "id": "8c6ac9f1",
   "metadata": {
    "deletable": false,
    "editable": false,
    "id": "8c6ac9f1"
   },
   "source": [
    "**Задание 10. Ещё раз выведите перечень уникальных значений столбца `children`, чтобы убедиться, что артефакты удалены.**"
   ]
  },
  {
   "cell_type": "code",
   "execution_count": 10,
   "id": "07337b81",
   "metadata": {
    "deletable": false,
    "id": "07337b81",
    "outputId": "b2097101-d49d-44d9-901b-32a65c9463d1"
   },
   "outputs": [
    {
     "data": {
      "text/plain": [
       "array([1, 0, 3, 2, 4, 5])"
      ]
     },
     "execution_count": 10,
     "metadata": {},
     "output_type": "execute_result"
    }
   ],
   "source": [
    "data['children'].unique()"
   ]
  },
  {
   "cell_type": "markdown",
   "id": "ee3f52d4",
   "metadata": {
    "deletable": false,
    "editable": false,
    "id": "ee3f52d4"
   },
   "source": [
    "### Удаление пропусков (продолжение)"
   ]
  },
  {
   "cell_type": "markdown",
   "id": "a700b0e4",
   "metadata": {
    "deletable": false,
    "editable": false,
    "id": "a700b0e4"
   },
   "source": [
    "**Задание 11. Заполните пропуски в столбце `days_employed` медианными значениями по каждого типа занятости `income_type`.**"
   ]
  },
  {
   "cell_type": "code",
   "execution_count": 11,
   "id": "61946b83",
   "metadata": {
    "deletable": false,
    "id": "61946b83"
   },
   "outputs": [],
   "source": [
    "for t in data['income_type'].unique():\n",
    "    data.loc[(data['income_type'] == t) & (data['days_employed'].isna()), 'days_employed'] = \\\n",
    "    data.loc[(data['income_type'] == t), 'days_employed'].median()"
   ]
  },
  {
   "cell_type": "markdown",
   "id": "550dcd9b",
   "metadata": {
    "deletable": false,
    "editable": false,
    "id": "550dcd9b"
   },
   "source": [
    "**Задание 12. Убедитесь, что все пропуски заполнены. Проверьте себя и ещё раз выведите количество пропущенных значений для каждого столбца с помощью двух методов.**"
   ]
  },
  {
   "cell_type": "code",
   "execution_count": 12,
   "id": "937c7014",
   "metadata": {
    "deletable": false,
    "id": "937c7014",
    "outputId": "8da1e4e1-358e-4e87-98c9-f261bce0a7b2"
   },
   "outputs": [
    {
     "data": {
      "text/plain": [
       "children            0\n",
       "days_employed       0\n",
       "dob_years           0\n",
       "education           0\n",
       "education_id        0\n",
       "family_status       0\n",
       "family_status_id    0\n",
       "gender              0\n",
       "income_type         0\n",
       "debt                0\n",
       "total_income        0\n",
       "purpose             0\n",
       "dtype: int64"
      ]
     },
     "execution_count": 12,
     "metadata": {},
     "output_type": "execute_result"
    }
   ],
   "source": [
    "data.isna().sum()"
   ]
  },
  {
   "cell_type": "markdown",
   "id": "d522e295",
   "metadata": {
    "deletable": false,
    "editable": false,
    "id": "d522e295"
   },
   "source": [
    "### Изменение типов данных"
   ]
  },
  {
   "cell_type": "markdown",
   "id": "c229c581",
   "metadata": {
    "deletable": false,
    "editable": false,
    "id": "c229c581"
   },
   "source": [
    "**Задание 13. Замените вещественный тип данных в столбце `total_income` на целочисленный с помощью метода `astype()`.**"
   ]
  },
  {
   "cell_type": "code",
   "execution_count": 13,
   "id": "31036462",
   "metadata": {
    "deletable": false,
    "id": "31036462"
   },
   "outputs": [],
   "source": [
    "data['total_income'] = data['total_income'].astype(int)"
   ]
  },
  {
   "cell_type": "markdown",
   "id": "b8e3d1d9",
   "metadata": {
    "deletable": false,
    "editable": false,
    "id": "b8e3d1d9"
   },
   "source": [
    "### Обработка дубликатов"
   ]
  },
  {
   "cell_type": "markdown",
   "id": "9be53c49",
   "metadata": {
    "deletable": false,
    "editable": false,
    "id": "9be53c49"
   },
   "source": [
    "**Задание 14. Обработайте неявные дубликаты в столбце `education`. В этом столбце есть одни и те же значения, но записанные по-разному: с использованием заглавных и строчных букв. Приведите их к нижнему регистру.**"
   ]
  },
  {
   "cell_type": "code",
   "execution_count": 14,
   "id": "d89e73e1",
   "metadata": {
    "deletable": false,
    "id": "d89e73e1"
   },
   "outputs": [],
   "source": [
    "data['education'] = data['education'].str.lower()"
   ]
  },
  {
   "cell_type": "markdown",
   "id": "01d4500e",
   "metadata": {
    "deletable": false,
    "editable": false,
    "id": "01d4500e"
   },
   "source": [
    "**Задание 15. Выведите на экран количество строк-дубликатов в данных. Если такие строки присутствуют, удалите их.**"
   ]
  },
  {
   "cell_type": "code",
   "execution_count": 15,
   "id": "e10efb23",
   "metadata": {
    "deletable": false,
    "id": "e10efb23",
    "outputId": "9684deba-1934-42d1-99e1-cda61740f822"
   },
   "outputs": [
    {
     "data": {
      "text/plain": [
       "71"
      ]
     },
     "execution_count": 15,
     "metadata": {},
     "output_type": "execute_result"
    }
   ],
   "source": [
    "data.duplicated().sum()"
   ]
  },
  {
   "cell_type": "code",
   "execution_count": 16,
   "id": "df853f20",
   "metadata": {
    "deletable": false,
    "id": "df853f20"
   },
   "outputs": [],
   "source": [
    "data = data.drop_duplicates()"
   ]
  },
  {
   "cell_type": "markdown",
   "id": "627be38f",
   "metadata": {
    "deletable": false,
    "editable": false,
    "id": "627be38f"
   },
   "source": [
    "### Категоризация данных"
   ]
  },
  {
   "cell_type": "markdown",
   "id": "4684c3e0",
   "metadata": {
    "deletable": false,
    "editable": false,
    "id": "4684c3e0"
   },
   "source": [
    "**Задание 16. На основании диапазонов, указанных ниже, создайте в датафрейме `data` столбец `total_income_category` с категориями:**\n",
    "\n",
    "- 0–30000 — `'E'`;\n",
    "- 30001–50000 — `'D'`;\n",
    "- 50001–200000 — `'C'`;\n",
    "- 200001–1000000 — `'B'`;\n",
    "- 1000001 и выше — `'A'`.\n",
    "\n",
    "\n",
    "**Например, кредитополучателю с доходом 25000 нужно назначить категорию `'E'`, а клиенту, получающему 235000, — `'B'`. Используйте собственную функцию с именем `categorize_income()` и метод `apply()`.**"
   ]
  },
  {
   "cell_type": "code",
   "execution_count": 17,
   "id": "78965238",
   "metadata": {
    "deletable": false,
    "id": "78965238"
   },
   "outputs": [],
   "source": [
    "def categorize_income(income):\n",
    "    try:\n",
    "        if 0 <= income <= 30000:\n",
    "            return 'E'\n",
    "        elif 30001 <= income <= 50000:\n",
    "            return 'D'\n",
    "        elif 50001 <= income <= 200000:\n",
    "            return 'C'\n",
    "        elif 200001 <= income <= 1000000:\n",
    "            return 'B'\n",
    "        elif income >= 1000001:\n",
    "            return 'A'\n",
    "    except:\n",
    "        pass"
   ]
  },
  {
   "cell_type": "code",
   "execution_count": 18,
   "id": "0980ada1",
   "metadata": {
    "deletable": false,
    "id": "0980ada1"
   },
   "outputs": [],
   "source": [
    "data['total_income_category'] = data['total_income'].apply(categorize_income)"
   ]
  },
  {
   "cell_type": "markdown",
   "id": "9917bba0",
   "metadata": {
    "deletable": false,
    "editable": false,
    "id": "9917bba0"
   },
   "source": [
    "**Задание 17. Выведите на экран перечень уникальных целей взятия кредита из столбца `purpose`.**"
   ]
  },
  {
   "cell_type": "code",
   "execution_count": 19,
   "id": "ee07b65e",
   "metadata": {
    "deletable": false,
    "id": "ee07b65e",
    "outputId": "673c12d9-7d7e-4ae0-9812-c622c89dd244"
   },
   "outputs": [
    {
     "data": {
      "text/plain": [
       "array(['покупка жилья', 'приобретение автомобиля',\n",
       "       'дополнительное образование', 'сыграть свадьбу',\n",
       "       'операции с жильем', 'образование', 'на проведение свадьбы',\n",
       "       'покупка жилья для семьи', 'покупка недвижимости',\n",
       "       'покупка коммерческой недвижимости', 'покупка жилой недвижимости',\n",
       "       'строительство собственной недвижимости', 'недвижимость',\n",
       "       'строительство недвижимости', 'на покупку подержанного автомобиля',\n",
       "       'на покупку своего автомобиля',\n",
       "       'операции с коммерческой недвижимостью',\n",
       "       'строительство жилой недвижимости', 'жилье',\n",
       "       'операции со своей недвижимостью', 'автомобили',\n",
       "       'заняться образованием', 'сделка с подержанным автомобилем',\n",
       "       'получение образования', 'автомобиль', 'свадьба',\n",
       "       'получение дополнительного образования', 'покупка своего жилья',\n",
       "       'операции с недвижимостью', 'получение высшего образования',\n",
       "       'свой автомобиль', 'сделка с автомобилем',\n",
       "       'профильное образование', 'высшее образование',\n",
       "       'покупка жилья для сдачи', 'на покупку автомобиля', 'ремонт жилью',\n",
       "       'заняться высшим образованием'], dtype=object)"
      ]
     },
     "execution_count": 19,
     "metadata": {},
     "output_type": "execute_result"
    }
   ],
   "source": [
    "data['purpose'].unique()"
   ]
  },
  {
   "cell_type": "markdown",
   "id": "52b79d56",
   "metadata": {
    "deletable": false,
    "editable": false,
    "id": "52b79d56"
   },
   "source": [
    "**Задание 18. Создайте функцию, которая на основании данных из столбца `purpose` сформирует новый столбец `purpose_category`, в который войдут следующие категории:**\n",
    "\n",
    "- `'операции с автомобилем'`,\n",
    "- `'операции с недвижимостью'`,\n",
    "- `'проведение свадьбы'`,\n",
    "- `'получение образования'`.\n",
    "\n",
    "**Например, если в столбце `purpose` находится подстрока `'на покупку автомобиля'`, то в столбце `purpose_category` должна появиться строка `'операции с автомобилем'`.**\n",
    "\n",
    "**Используйте собственную функцию с именем `categorize_purpose()` и метод `apply()`. Изучите данные в столбце `purpose` и определите, какие подстроки помогут вам правильно определить категорию.**"
   ]
  },
  {
   "cell_type": "code",
   "execution_count": 20,
   "id": "be41da5d",
   "metadata": {
    "deletable": false,
    "id": "be41da5d"
   },
   "outputs": [],
   "source": [
    "def categorize_purpose(row):\n",
    "    try:\n",
    "        if 'автом' in row:\n",
    "            return 'операции с автомобилем'\n",
    "        elif 'жил' in row or 'недвиж' in row:\n",
    "            return 'операции с недвижимостью'\n",
    "        elif 'свад' in row:\n",
    "            return 'проведение свадьбы'\n",
    "        elif 'образов' in row:\n",
    "            return 'получение образования'\n",
    "    except:\n",
    "        return 'нет категории'"
   ]
  },
  {
   "cell_type": "code",
   "execution_count": 21,
   "id": "94c4a19a",
   "metadata": {
    "deletable": false,
    "id": "94c4a19a"
   },
   "outputs": [],
   "source": [
    "data['purpose_category'] = data['purpose'].apply(categorize_purpose)"
   ]
  },
  {
   "cell_type": "markdown",
   "id": "3d596c34",
   "metadata": {
    "deletable": false,
    "editable": false,
    "id": "3d596c34"
   },
   "source": [
    "### Шаг 3. Исследуйте данные и ответьте на вопросы"
   ]
  },
  {
   "cell_type": "markdown",
   "id": "648db036",
   "metadata": {
    "deletable": false,
    "editable": false,
    "id": "648db036"
   },
   "source": [
    "#### 3.1 Есть ли зависимость между количеством детей и возвратом кредита в срок?"
   ]
  },
  {
   "cell_type": "markdown",
   "id": "0ce100e3",
   "metadata": {},
   "source": [
    "Гипотеза 1 - люди с детьми являются наиболее надежными заёмщиками\n",
    "Гипотеза 2 - люди с многодетными семьями являются наименее надежными заёмщиками"
   ]
  },
  {
   "cell_type": "code",
   "execution_count": 22,
   "id": "7fcff25e",
   "metadata": {
    "deletable": false,
    "id": "7fcff25e"
   },
   "outputs": [
    {
     "data": {
      "text/html": [
       "<div>\n",
       "<style scoped>\n",
       "    .dataframe tbody tr th:only-of-type {\n",
       "        vertical-align: middle;\n",
       "    }\n",
       "\n",
       "    .dataframe tbody tr th {\n",
       "        vertical-align: top;\n",
       "    }\n",
       "\n",
       "    .dataframe thead th {\n",
       "        text-align: right;\n",
       "    }\n",
       "</style>\n",
       "<table border=\"1\" class=\"dataframe\">\n",
       "  <thead>\n",
       "    <tr style=\"text-align: right;\">\n",
       "      <th></th>\n",
       "      <th>count</th>\n",
       "      <th>sum</th>\n",
       "      <th>late_payment_%</th>\n",
       "    </tr>\n",
       "    <tr>\n",
       "      <th>children</th>\n",
       "      <th></th>\n",
       "      <th></th>\n",
       "      <th></th>\n",
       "    </tr>\n",
       "  </thead>\n",
       "  <tbody>\n",
       "    <tr>\n",
       "      <th>5</th>\n",
       "      <td>9</td>\n",
       "      <td>0</td>\n",
       "      <td>0.000000</td>\n",
       "    </tr>\n",
       "    <tr>\n",
       "      <th>0</th>\n",
       "      <td>14091</td>\n",
       "      <td>1063</td>\n",
       "      <td>7.543822</td>\n",
       "    </tr>\n",
       "    <tr>\n",
       "      <th>3</th>\n",
       "      <td>330</td>\n",
       "      <td>27</td>\n",
       "      <td>8.181818</td>\n",
       "    </tr>\n",
       "    <tr>\n",
       "      <th>1</th>\n",
       "      <td>4808</td>\n",
       "      <td>444</td>\n",
       "      <td>9.234609</td>\n",
       "    </tr>\n",
       "    <tr>\n",
       "      <th>2</th>\n",
       "      <td>2052</td>\n",
       "      <td>194</td>\n",
       "      <td>9.454191</td>\n",
       "    </tr>\n",
       "    <tr>\n",
       "      <th>4</th>\n",
       "      <td>41</td>\n",
       "      <td>4</td>\n",
       "      <td>9.756098</td>\n",
       "    </tr>\n",
       "  </tbody>\n",
       "</table>\n",
       "</div>"
      ],
      "text/plain": [
       "          count   sum  late_payment_%\n",
       "children                             \n",
       "5             9     0        0.000000\n",
       "0         14091  1063        7.543822\n",
       "3           330    27        8.181818\n",
       "1          4808   444        9.234609\n",
       "2          2052   194        9.454191\n",
       "4            41     4        9.756098"
      ]
     },
     "metadata": {},
     "output_type": "display_data"
    }
   ],
   "source": [
    "# Ваш код будет здесь. Вы можете создавать новые ячейки.\n",
    "data_pivot = data.pivot_table(index = ['children'], values = 'debt', aggfunc = {'count','sum'})\n",
    "data_pivot['late_payment_%'] = (data_pivot['sum']/data_pivot['count'])*100\n",
    "data_pivot = data_pivot.sort_values(by='late_payment_%', ascending=True)\n",
    "display(data_pivot)"
   ]
  },
  {
   "cell_type": "markdown",
   "id": "2eb9088e",
   "metadata": {
    "deletable": false,
    "id": "2eb9088e"
   },
   "source": [
    "**Вывод:** "
   ]
  },
  {
   "cell_type": "markdown",
   "id": "743d1558",
   "metadata": {},
   "source": [
    "Люди, у которых 5 детей не допускают просрочку кредита, одна стоит заметить, что таких клиентов менее 10, что может быть недостаточно для полноценной оценки. Бездетные люди люди, имеющие 3 детей допускают просрочку платежей в 7,54% и в 8,18% случаев. Люди, у которых 1,2 или 4 ребенка допускают практически одинаковую просрочку по кредитам (9,23%, 9,45%, 9,75%). При этом семьи с 4 детьми, допускают просрочки наиболее часто. \n",
    "Таким образом люди с 3 и 5 детьми действительно являются более надежными заёмщиками, частично подтврждая гипотезу 1. \n",
    "Гипотеза 2 подтверждается для людей с 4 детьми.\n",
    "Следует отметить, что число бездетных заемщиков составляет 66% от всех зарегистрированных случаев, а людей с многодетными семьями - менее 2% случаев. Это позволяет сделать вывод, что данные по многодетным семьям оказывают несущественное влияние на совокупную выборку. В этой ситуации стоит признать бездетных заёмщиков наиболее надежными."
   ]
  },
  {
   "cell_type": "markdown",
   "id": "74c9b3a7",
   "metadata": {
    "deletable": false,
    "editable": false,
    "id": "74c9b3a7"
   },
   "source": [
    "#### 3.2 Есть ли зависимость между семейным положением и возвратом кредита в срок?"
   ]
  },
  {
   "cell_type": "markdown",
   "id": "7f05018a",
   "metadata": {},
   "source": [
    "Гипотеза 1 - люди, не состоящие в браке являются наименее надежными заёмщиками"
   ]
  },
  {
   "cell_type": "code",
   "execution_count": 23,
   "id": "8098ab3b",
   "metadata": {
    "deletable": false,
    "id": "8098ab3b"
   },
   "outputs": [
    {
     "data": {
      "text/html": [
       "<div>\n",
       "<style scoped>\n",
       "    .dataframe tbody tr th:only-of-type {\n",
       "        vertical-align: middle;\n",
       "    }\n",
       "\n",
       "    .dataframe tbody tr th {\n",
       "        vertical-align: top;\n",
       "    }\n",
       "\n",
       "    .dataframe thead th {\n",
       "        text-align: right;\n",
       "    }\n",
       "</style>\n",
       "<table border=\"1\" class=\"dataframe\">\n",
       "  <thead>\n",
       "    <tr style=\"text-align: right;\">\n",
       "      <th></th>\n",
       "      <th>count</th>\n",
       "      <th>sum</th>\n",
       "      <th>late_payment_%</th>\n",
       "    </tr>\n",
       "    <tr>\n",
       "      <th>family_status</th>\n",
       "      <th></th>\n",
       "      <th></th>\n",
       "      <th></th>\n",
       "    </tr>\n",
       "  </thead>\n",
       "  <tbody>\n",
       "    <tr>\n",
       "      <th>вдовец / вдова</th>\n",
       "      <td>951</td>\n",
       "      <td>63</td>\n",
       "      <td>6.624606</td>\n",
       "    </tr>\n",
       "    <tr>\n",
       "      <th>в разводе</th>\n",
       "      <td>1189</td>\n",
       "      <td>84</td>\n",
       "      <td>7.064760</td>\n",
       "    </tr>\n",
       "    <tr>\n",
       "      <th>женат / замужем</th>\n",
       "      <td>12261</td>\n",
       "      <td>927</td>\n",
       "      <td>7.560558</td>\n",
       "    </tr>\n",
       "    <tr>\n",
       "      <th>гражданский брак</th>\n",
       "      <td>4134</td>\n",
       "      <td>385</td>\n",
       "      <td>9.313014</td>\n",
       "    </tr>\n",
       "    <tr>\n",
       "      <th>Не женат / не замужем</th>\n",
       "      <td>2796</td>\n",
       "      <td>273</td>\n",
       "      <td>9.763948</td>\n",
       "    </tr>\n",
       "  </tbody>\n",
       "</table>\n",
       "</div>"
      ],
      "text/plain": [
       "                       count  sum  late_payment_%\n",
       "family_status                                    \n",
       "вдовец / вдова           951   63        6.624606\n",
       "в разводе               1189   84        7.064760\n",
       "женат / замужем        12261  927        7.560558\n",
       "гражданский брак        4134  385        9.313014\n",
       "Не женат / не замужем   2796  273        9.763948"
      ]
     },
     "metadata": {},
     "output_type": "display_data"
    }
   ],
   "source": [
    "# Ваш код будет здесь. Вы можете создавать новые ячейки.\n",
    "data_pivot = data.pivot_table(index = ['family_status'], values = 'debt', aggfunc = {'count','sum'})\n",
    "data_pivot['late_payment_%'] = (data_pivot['sum']/data_pivot['count'])*100\n",
    "data_pivot = data_pivot.sort_values(by='late_payment_%', ascending=True)\n",
    "display(data_pivot)"
   ]
  },
  {
   "cell_type": "markdown",
   "id": "c389ca63",
   "metadata": {
    "deletable": false,
    "id": "c389ca63"
   },
   "source": [
    "**Вывод:** "
   ]
  },
  {
   "cell_type": "markdown",
   "id": "c3911a6c",
   "metadata": {},
   "source": [
    "Гипотеза подтвердилась - для людей в статусах \"не женат/не замужем\" и \"гражданский брак\" наблюдается наибольшая доля просрочек (9,76% и 9,31%). Наименьшие показатели по просрочкам демонстрируют заёмщики, пребывающие либо пребывавшие в зарегистрированных отношениях. Самый низкий показатель просрочек наблюдается для людей с семейным положением \"вдовец/вдова\". "
   ]
  },
  {
   "cell_type": "markdown",
   "id": "9529de68",
   "metadata": {
    "deletable": false,
    "editable": false,
    "id": "9529de68"
   },
   "source": [
    "#### 3.3 Есть ли зависимость между уровнем дохода и возвратом кредита в срок?"
   ]
  },
  {
   "cell_type": "markdown",
   "id": "38f38e32",
   "metadata": {},
   "source": [
    "Гипотеза - люди, обладающие большим доходом, выплачивают кредиты с наименьшими просрочками"
   ]
  },
  {
   "cell_type": "code",
   "execution_count": 24,
   "id": "8787f44a",
   "metadata": {
    "deletable": false,
    "id": "8787f44a"
   },
   "outputs": [
    {
     "data": {
      "text/html": [
       "<div>\n",
       "<style scoped>\n",
       "    .dataframe tbody tr th:only-of-type {\n",
       "        vertical-align: middle;\n",
       "    }\n",
       "\n",
       "    .dataframe tbody tr th {\n",
       "        vertical-align: top;\n",
       "    }\n",
       "\n",
       "    .dataframe thead th {\n",
       "        text-align: right;\n",
       "    }\n",
       "</style>\n",
       "<table border=\"1\" class=\"dataframe\">\n",
       "  <thead>\n",
       "    <tr style=\"text-align: right;\">\n",
       "      <th></th>\n",
       "      <th>count</th>\n",
       "      <th>sum</th>\n",
       "      <th>late_payment_%</th>\n",
       "    </tr>\n",
       "    <tr>\n",
       "      <th>total_income_category</th>\n",
       "      <th></th>\n",
       "      <th></th>\n",
       "      <th></th>\n",
       "    </tr>\n",
       "  </thead>\n",
       "  <tbody>\n",
       "    <tr>\n",
       "      <th>D</th>\n",
       "      <td>349</td>\n",
       "      <td>21</td>\n",
       "      <td>6.017192</td>\n",
       "    </tr>\n",
       "    <tr>\n",
       "      <th>B</th>\n",
       "      <td>5014</td>\n",
       "      <td>354</td>\n",
       "      <td>7.060231</td>\n",
       "    </tr>\n",
       "    <tr>\n",
       "      <th>A</th>\n",
       "      <td>25</td>\n",
       "      <td>2</td>\n",
       "      <td>8.000000</td>\n",
       "    </tr>\n",
       "    <tr>\n",
       "      <th>C</th>\n",
       "      <td>15921</td>\n",
       "      <td>1353</td>\n",
       "      <td>8.498210</td>\n",
       "    </tr>\n",
       "    <tr>\n",
       "      <th>E</th>\n",
       "      <td>22</td>\n",
       "      <td>2</td>\n",
       "      <td>9.090909</td>\n",
       "    </tr>\n",
       "  </tbody>\n",
       "</table>\n",
       "</div>"
      ],
      "text/plain": [
       "                       count   sum  late_payment_%\n",
       "total_income_category                             \n",
       "D                        349    21        6.017192\n",
       "B                       5014   354        7.060231\n",
       "A                         25     2        8.000000\n",
       "C                      15921  1353        8.498210\n",
       "E                         22     2        9.090909"
      ]
     },
     "metadata": {},
     "output_type": "display_data"
    }
   ],
   "source": [
    "# Ваш код будет здесь. Вы можете создавать новые ячейки.\n",
    "data_pivot = data.pivot_table(index = ['total_income_category'], values = 'debt', aggfunc = {'count','sum'})\n",
    "data_pivot['late_payment_%'] = (data_pivot['sum']/data_pivot['count'])*100\n",
    "data_pivot = data_pivot.sort_values(by='late_payment_%', ascending=True)\n",
    "display(data_pivot)"
   ]
  },
  {
   "cell_type": "markdown",
   "id": "6dd14b57",
   "metadata": {
    "deletable": false,
    "id": "6dd14b57"
   },
   "source": [
    "**Вывод:** "
   ]
  },
  {
   "cell_type": "markdown",
   "id": "7199c617",
   "metadata": {},
   "source": [
    "Гипотеза частично подтвердилась.\n",
    "Лучший показатель по возратности кредита демонстрируют люди с доходом от 30 до 50 тысяч (D) - 6,07 %\n",
    "Люди с доходом до 30 тысяч демонстрируют наихудший показатель (E, 9,09%)\n",
    "Для лиц с доходом до 1млн показывают результат 7,06%, что является средним значением.\n",
    "Количество наблюдений для категорий D, A и E суммарно менее 2% от всей выборки и не оказывает на неё существенного влияния. "
   ]
  },
  {
   "cell_type": "markdown",
   "id": "1dcc9b12",
   "metadata": {
    "deletable": false,
    "editable": false,
    "id": "1dcc9b12"
   },
   "source": [
    "#### 3.4 Как разные цели кредита влияют на его возврат в срок?"
   ]
  },
  {
   "cell_type": "markdown",
   "id": "c0ff905b",
   "metadata": {},
   "source": [
    "Гипотеза - наименьшие просрочки наблюдаются для платежей с целью операций с недвижимостью"
   ]
  },
  {
   "cell_type": "code",
   "execution_count": 25,
   "id": "c602bc8b",
   "metadata": {
    "deletable": false,
    "id": "c602bc8b"
   },
   "outputs": [
    {
     "data": {
      "text/html": [
       "<div>\n",
       "<style scoped>\n",
       "    .dataframe tbody tr th:only-of-type {\n",
       "        vertical-align: middle;\n",
       "    }\n",
       "\n",
       "    .dataframe tbody tr th {\n",
       "        vertical-align: top;\n",
       "    }\n",
       "\n",
       "    .dataframe thead th {\n",
       "        text-align: right;\n",
       "    }\n",
       "</style>\n",
       "<table border=\"1\" class=\"dataframe\">\n",
       "  <thead>\n",
       "    <tr style=\"text-align: right;\">\n",
       "      <th></th>\n",
       "      <th>count</th>\n",
       "      <th>sum</th>\n",
       "      <th>late_payment_%</th>\n",
       "    </tr>\n",
       "    <tr>\n",
       "      <th>purpose_category</th>\n",
       "      <th></th>\n",
       "      <th></th>\n",
       "      <th></th>\n",
       "    </tr>\n",
       "  </thead>\n",
       "  <tbody>\n",
       "    <tr>\n",
       "      <th>операции с недвижимостью</th>\n",
       "      <td>10751</td>\n",
       "      <td>780</td>\n",
       "      <td>7.255139</td>\n",
       "    </tr>\n",
       "    <tr>\n",
       "      <th>проведение свадьбы</th>\n",
       "      <td>2313</td>\n",
       "      <td>183</td>\n",
       "      <td>7.911803</td>\n",
       "    </tr>\n",
       "    <tr>\n",
       "      <th>получение образования</th>\n",
       "      <td>3988</td>\n",
       "      <td>369</td>\n",
       "      <td>9.252758</td>\n",
       "    </tr>\n",
       "    <tr>\n",
       "      <th>операции с автомобилем</th>\n",
       "      <td>4279</td>\n",
       "      <td>400</td>\n",
       "      <td>9.347978</td>\n",
       "    </tr>\n",
       "  </tbody>\n",
       "</table>\n",
       "</div>"
      ],
      "text/plain": [
       "                          count  sum  late_payment_%\n",
       "purpose_category                                    \n",
       "операции с недвижимостью  10751  780        7.255139\n",
       "проведение свадьбы         2313  183        7.911803\n",
       "получение образования      3988  369        9.252758\n",
       "операции с автомобилем     4279  400        9.347978"
      ]
     },
     "metadata": {},
     "output_type": "display_data"
    }
   ],
   "source": [
    "# Ваш код будет здесь. Вы можете создавать новые ячейки.\n",
    "data_pivot = data.pivot_table(index = ['purpose_category'], values = 'debt', aggfunc = {'count','sum'})\n",
    "data_pivot['late_payment_%'] = (data_pivot['sum']/data_pivot['count'])*100\n",
    "data_pivot = data_pivot.sort_values(by='late_payment_%', ascending=True)\n",
    "display(data_pivot)"
   ]
  },
  {
   "cell_type": "markdown",
   "id": "cf05ed63",
   "metadata": {
    "deletable": false,
    "id": "cf05ed63"
   },
   "source": [
    "**Вывод:** "
   ]
  },
  {
   "cell_type": "markdown",
   "id": "4052ffc4",
   "metadata": {},
   "source": [
    "Гипотеза подтвердилась. Наименьший процент просрочек демонстируется для категории \"операции с недвижимостью\" (7,25%).\n",
    "Также низкие показатели просрочек по кредитам на \"проведение свадьбы\". Вероятно, люди стремящиеся к приобретению недвижимости и созданию семьи могут считаться более надежными заёмщиками, чем те, кто берет кредит на потребительские цели либо получение образования."
   ]
  },
  {
   "cell_type": "markdown",
   "id": "46c1f10b",
   "metadata": {
    "deletable": false,
    "editable": false,
    "id": "46c1f10b"
   },
   "source": [
    "#### 3.5 Приведите возможные причины появления пропусков в исходных данных."
   ]
  },
  {
   "cell_type": "markdown",
   "id": "3697d2a9",
   "metadata": {
    "deletable": false,
    "id": "3697d2a9"
   },
   "source": [
    "*Ответ:* "
   ]
  },
  {
   "cell_type": "markdown",
   "id": "bc05018f",
   "metadata": {},
   "source": [
    "Пропуски были в столбцах days_employed и total_income. В первую очередь, причиной может являться человеческий фактор, например, кто-нибудь, не захотел отвечать, раскрывая детали своего дохода и времени занятости. Стоит отметить, что количество пропусков в данных столбцах было одинаковым, возможно, что между заполненностью столбцов days_employed и total_income есть связь. Также есть предположение, что наполнение таблицы могло идти из различных источников, в одном из которых данные столбцы не были предусмотрены."
   ]
  },
  {
   "cell_type": "markdown",
   "id": "3137d257",
   "metadata": {
    "deletable": false,
    "editable": false,
    "id": "3137d257"
   },
   "source": [
    "#### 3.6 Объясните, почему заполнить пропуски медианным значением — лучшее решение для количественных переменных."
   ]
  },
  {
   "cell_type": "markdown",
   "id": "cf40012a",
   "metadata": {
    "deletable": false,
    "id": "cf40012a"
   },
   "source": [
    "*Ответ:* "
   ]
  },
  {
   "cell_type": "markdown",
   "id": "9d2c7ec7",
   "metadata": {},
   "source": [
    "Среднее значение некорректно работает для выборки, где есть значения, сильно отличающиеся от большинства. Медиана же в отличие от среднего разбивает выборку на две части, половина элементов будет больше нее, вторая половина - меньше. Таким образом медиана позволяет получить наиболее объективное значение о выборке, особенно в случае присутствия в ней \"выдающихся\" (выбросов) значений."
   ]
  },
  {
   "cell_type": "markdown",
   "id": "57bc304e",
   "metadata": {
    "deletable": false,
    "editable": false,
    "id": "57bc304e"
   },
   "source": [
    "### Шаг 4: общий вывод."
   ]
  },
  {
   "cell_type": "markdown",
   "id": "1ab75d1c",
   "metadata": {
    "deletable": false,
    "id": "1ab75d1c"
   },
   "source": [
    "Напишите ваш общий вывод."
   ]
  },
  {
   "cell_type": "markdown",
   "id": "af8aaa5e",
   "metadata": {},
   "source": [
    "#### Исследование проведено для кредитного отдела банка. \n",
    "##### Цель: Определить, влияет ли семейное положение и количество детей клиента на факт погашения кредита в срок. \n",
    "###### Входные данные: статистика о платёжеспособности клиентов.\n",
    "###### Результаты исследования будут учтены при построении модели кредитного скоринга.\n",
    "\n",
    "##### Предобработка данных:\n",
    "Входные данные были оценены с точки зрения их полноты и достаточности для анализа. Выявлено наличие пропусков в данных по столбцам days_employed и total_income. В первую очередь, причиной может являться человеческий фактор.Стоит отметить, что количество пропусков в данных столбцах было одинаковым, возможно существование технических ошибок при заполнении данных.\n",
    "\n",
    "   *total_income — хранит данные о доходах. Пропуски были заполнены медианным значением по каждому типу занятости из столбца income_type.\n",
    "   *days_employed - значение трудового стажа в днях. Пропуски были заполнены медианным значением по каждому типу занятости из столбца income_type.\n",
    "\n",
    "Аномалии (артефакты) - значения, которые не отражают действительность и появились по какой-то ошибке. Такие аномалии были выявлены в столбце days_employed (в категориях \"безработный\" и \"пенсионер\"), а также в графе \"children\". Аномалии (например, отрицательное число детей) удалены из данных. Отрицательные значения дней занятости приведены к абcолютному значению.\n",
    "\n",
    "Выявлены дубликаты, проведено их удаление из данных.\n",
    "\n",
    "#### Промежуточные выводы:\n",
    "###### 1) Есть ли зависимость между количеством детей и возвратом кредита в срок?\n",
    "Число заёмщиков с многодетными семьями - менее 2% случаев. Это позволяет сделать вывод, что данные по многодетным семьям оказывают несущественное влияние на совокупную выборку.\n",
    "Бездетные люди и люди, имеющие 3 детей допускают просрочку платежей в 7,54% и в 8,18% случаев. Люди, у которых 1,2 или 4 ребенка допускают практически одинаковую просрочку по кредитам (9,23%, 9,45%, 9,75%). При этом семьи с 4 детьми, допускают просрочки наиболее часто. Таким образом у людей с детьми выше вероятность просрочки.\n",
    "В этой ситуации стоит признать бездетных заёмщиков наиболее надежными.\n",
    "\n",
    "\n",
    "###### 2) Есть ли зависимость между семейным положением и возвратом кредита в срок?\n",
    "Да, для людей в статусах \"не женат/не замужем\" и \"гражданский брак\" наблюдается наибольшая доля просрочек (9,76% и 9,31%). Наименьшие показатели по просрочкам демонстрируют заёмщики, пребывающие либо пребывавшие в зарегистрированных отношениях. Самый низкий показатель просрочек наблюдается для людей с семейным положением \"вдовец/вдова\" (6,62%). \n",
    "\n",
    "###### 3)Есть ли зависимость между уровнем дохода и возвратом кредита в срок?\n",
    "Количество наблюдений для категорий дохода А,D,E cуммарно менее 2% от всей выборки и не оказывает на неё существенного влияния. \n",
    "Лучший показатель по возратности кредита демонстрируют люди с доходом от 30 до 50 тысяч (D) - 6,07 % Люди с доходом до 30 тысяч демонстрируют наихудший показатель (E, 9,09%).\n",
    "Для лиц с доходом от 200 тысяч до 1 млн (B) зафиксирован результат 7,06%, что является средним значением.  \n",
    "В силу вышесказанного, лучшим заёмщиком будет более состоятельный клиент.\n",
    "\n",
    "###### 4) Как разные цели кредита влияют на его возврат в срок?\n",
    "Наименьший процент просрочек демонстируется для категории \"операции с недвижимостью\" (7,25%). Также низкие показатели просрочек по кредитам на \"проведение свадьбы\"(7,91%). Вероятно, люди стремящиеся к приобретению недвижимости и созданию семьи могут считаться более надежными заёмщиками, чем те, кто берет кредит на потребительские цели либо получение образования (более 9,2%)\n",
    "\n",
    "#### Вероятный портрет наиболее надежного заёмщика:\n",
    "Согласно результатам анализа можно получить вероятный портрет наиболее надежного заёмщика:\n",
    "люди, состоящие в браке, либо имевшие данный опыт (разведенные и вдовцы), бездетные, имеющие доход свыше 30 тысяч рублей, а также ставящие целью кредита приобретение недвижимости либо проведение свадьбы.\n",
    "\n",
    "#### Вероятный портрет наименее надежного заёмщика:\n",
    "Наименее надежным заемщиком вероятно будет: \n",
    "человек, не состоящий в браке либо живущий в гражданском браке, с 4 детьми, имеющий низкий доход, и берущий кредит на потребительские цели либо на получение образования.\n"
   ]
  }
 ],
 "metadata": {
  "ExecuteTimeLog": [
   {
    "duration": 432,
    "start_time": "2023-06-01T07:19:30.911Z"
   },
   {
    "duration": 22,
    "start_time": "2023-06-01T07:19:34.981Z"
   },
   {
    "duration": 16,
    "start_time": "2023-06-01T07:19:41.660Z"
   },
   {
    "duration": 10,
    "start_time": "2023-06-01T07:19:45.229Z"
   },
   {
    "duration": 467,
    "start_time": "2023-06-01T07:20:41.252Z"
   },
   {
    "duration": 22,
    "start_time": "2023-06-01T07:20:41.721Z"
   },
   {
    "duration": 18,
    "start_time": "2023-06-01T07:20:41.745Z"
   },
   {
    "duration": 10,
    "start_time": "2023-06-01T07:20:41.766Z"
   },
   {
    "duration": 34,
    "start_time": "2023-06-01T07:20:41.777Z"
   },
   {
    "duration": 3,
    "start_time": "2023-06-01T07:20:41.813Z"
   },
   {
    "duration": 9,
    "start_time": "2023-06-01T07:20:41.818Z"
   },
   {
    "duration": 11,
    "start_time": "2023-06-01T07:20:41.855Z"
   },
   {
    "duration": 7,
    "start_time": "2023-06-01T07:20:41.869Z"
   },
   {
    "duration": 4,
    "start_time": "2023-06-01T07:20:41.879Z"
   },
   {
    "duration": 33,
    "start_time": "2023-06-01T07:20:41.884Z"
   },
   {
    "duration": 9,
    "start_time": "2023-06-01T07:20:41.918Z"
   },
   {
    "duration": 29,
    "start_time": "2023-06-01T07:20:41.928Z"
   },
   {
    "duration": 12,
    "start_time": "2023-06-01T07:20:41.962Z"
   },
   {
    "duration": 20,
    "start_time": "2023-06-01T07:20:41.976Z"
   },
   {
    "duration": 17,
    "start_time": "2023-06-01T07:20:41.998Z"
   },
   {
    "duration": 3,
    "start_time": "2023-06-01T07:20:42.016Z"
   },
   {
    "duration": 13,
    "start_time": "2023-06-01T07:20:42.020Z"
   },
   {
    "duration": 28,
    "start_time": "2023-06-01T07:20:42.035Z"
   },
   {
    "duration": 4,
    "start_time": "2023-06-01T07:20:42.064Z"
   },
   {
    "duration": 10,
    "start_time": "2023-06-01T07:20:42.069Z"
   },
   {
    "duration": 3,
    "start_time": "2023-06-01T07:20:42.080Z"
   },
   {
    "duration": 14,
    "start_time": "2023-06-01T07:20:42.084Z"
   },
   {
    "duration": 4,
    "start_time": "2023-06-01T07:20:42.099Z"
   },
   {
    "duration": 4,
    "start_time": "2023-06-01T07:20:42.105Z"
   },
   {
    "duration": 24,
    "start_time": "2023-06-01T07:24:10.093Z"
   },
   {
    "duration": 20,
    "start_time": "2023-06-01T07:38:04.492Z"
   },
   {
    "duration": 1178,
    "start_time": "2023-06-01T08:04:45.392Z"
   },
   {
    "duration": 1150,
    "start_time": "2023-06-01T08:05:28.091Z"
   },
   {
    "duration": 1101,
    "start_time": "2023-06-01T08:06:01.346Z"
   },
   {
    "duration": 1220,
    "start_time": "2023-06-01T08:06:18.902Z"
   },
   {
    "duration": 26,
    "start_time": "2023-06-01T08:06:53.886Z"
   },
   {
    "duration": 18,
    "start_time": "2023-06-01T08:08:07.202Z"
   },
   {
    "duration": 50,
    "start_time": "2023-06-01T08:09:20.371Z"
   },
   {
    "duration": 71,
    "start_time": "2023-06-01T08:10:22.111Z"
   },
   {
    "duration": 85,
    "start_time": "2023-06-01T08:10:50.523Z"
   },
   {
    "duration": 46,
    "start_time": "2023-06-01T08:13:13.407Z"
   },
   {
    "duration": 27,
    "start_time": "2023-06-01T08:13:35.283Z"
   },
   {
    "duration": 38,
    "start_time": "2023-06-01T08:13:45.331Z"
   },
   {
    "duration": 19,
    "start_time": "2023-06-01T08:14:01.304Z"
   },
   {
    "duration": 21,
    "start_time": "2023-06-01T08:14:19.784Z"
   },
   {
    "duration": 23,
    "start_time": "2023-06-01T08:33:36.372Z"
   },
   {
    "duration": 32,
    "start_time": "2023-06-01T08:34:09.351Z"
   },
   {
    "duration": 18,
    "start_time": "2023-06-01T09:50:58.097Z"
   },
   {
    "duration": 27,
    "start_time": "2023-06-01T09:51:10.483Z"
   },
   {
    "duration": 21,
    "start_time": "2023-06-01T09:51:36.105Z"
   },
   {
    "duration": 23,
    "start_time": "2023-06-01T09:51:39.265Z"
   },
   {
    "duration": 483,
    "start_time": "2023-06-01T10:19:42.779Z"
   },
   {
    "duration": 29,
    "start_time": "2023-06-01T10:19:43.264Z"
   },
   {
    "duration": 15,
    "start_time": "2023-06-01T10:19:43.295Z"
   },
   {
    "duration": 9,
    "start_time": "2023-06-01T10:19:43.311Z"
   },
   {
    "duration": 58,
    "start_time": "2023-06-01T10:19:43.322Z"
   },
   {
    "duration": 4,
    "start_time": "2023-06-01T10:19:43.382Z"
   },
   {
    "duration": 10,
    "start_time": "2023-06-01T10:19:43.387Z"
   },
   {
    "duration": 5,
    "start_time": "2023-06-01T10:19:43.398Z"
   },
   {
    "duration": 8,
    "start_time": "2023-06-01T10:19:43.404Z"
   },
   {
    "duration": 5,
    "start_time": "2023-06-01T10:19:43.413Z"
   },
   {
    "duration": 68,
    "start_time": "2023-06-01T10:19:43.419Z"
   },
   {
    "duration": 10,
    "start_time": "2023-06-01T10:19:43.488Z"
   },
   {
    "duration": 4,
    "start_time": "2023-06-01T10:19:43.499Z"
   },
   {
    "duration": 18,
    "start_time": "2023-06-01T10:19:43.505Z"
   },
   {
    "duration": 48,
    "start_time": "2023-06-01T10:19:43.524Z"
   },
   {
    "duration": 20,
    "start_time": "2023-06-01T10:19:43.574Z"
   },
   {
    "duration": 27,
    "start_time": "2023-06-01T10:19:43.596Z"
   },
   {
    "duration": 59,
    "start_time": "2023-06-01T10:19:43.624Z"
   },
   {
    "duration": 21,
    "start_time": "2023-06-01T10:19:43.685Z"
   },
   {
    "duration": 36,
    "start_time": "2023-06-01T10:19:43.708Z"
   },
   {
    "duration": 22,
    "start_time": "2023-06-01T10:19:43.746Z"
   },
   {
    "duration": 30,
    "start_time": "2023-06-01T10:19:43.770Z"
   },
   {
    "duration": 20,
    "start_time": "2023-06-01T10:19:43.801Z"
   },
   {
    "duration": 40,
    "start_time": "2023-06-01T10:19:43.823Z"
   },
   {
    "duration": 25,
    "start_time": "2023-06-01T10:19:43.866Z"
   },
   {
    "duration": 469,
    "start_time": "2023-06-01T10:21:02.194Z"
   },
   {
    "duration": 28,
    "start_time": "2023-06-01T10:21:02.665Z"
   },
   {
    "duration": 16,
    "start_time": "2023-06-01T10:21:02.695Z"
   },
   {
    "duration": 9,
    "start_time": "2023-06-01T10:21:02.713Z"
   },
   {
    "duration": 60,
    "start_time": "2023-06-01T10:21:02.724Z"
   },
   {
    "duration": 3,
    "start_time": "2023-06-01T10:21:02.786Z"
   },
   {
    "duration": 27,
    "start_time": "2023-06-01T10:21:02.791Z"
   },
   {
    "duration": 20,
    "start_time": "2023-06-01T10:21:02.820Z"
   },
   {
    "duration": 17,
    "start_time": "2023-06-01T10:21:02.842Z"
   },
   {
    "duration": 10,
    "start_time": "2023-06-01T10:21:02.861Z"
   },
   {
    "duration": 49,
    "start_time": "2023-06-01T10:21:02.872Z"
   },
   {
    "duration": 10,
    "start_time": "2023-06-01T10:21:02.922Z"
   },
   {
    "duration": 34,
    "start_time": "2023-06-01T10:21:02.934Z"
   },
   {
    "duration": 24,
    "start_time": "2023-06-01T10:21:02.970Z"
   },
   {
    "duration": 28,
    "start_time": "2023-06-01T10:21:02.996Z"
   },
   {
    "duration": 18,
    "start_time": "2023-06-01T10:21:03.025Z"
   },
   {
    "duration": 4,
    "start_time": "2023-06-01T10:21:03.045Z"
   },
   {
    "duration": 24,
    "start_time": "2023-06-01T10:21:03.054Z"
   },
   {
    "duration": 15,
    "start_time": "2023-06-01T10:21:03.079Z"
   },
   {
    "duration": 12,
    "start_time": "2023-06-01T10:21:03.096Z"
   },
   {
    "duration": 25,
    "start_time": "2023-06-01T10:21:03.109Z"
   },
   {
    "duration": 34,
    "start_time": "2023-06-01T10:21:03.135Z"
   },
   {
    "duration": 20,
    "start_time": "2023-06-01T10:21:03.171Z"
   },
   {
    "duration": 21,
    "start_time": "2023-06-01T10:21:03.193Z"
   },
   {
    "duration": 48,
    "start_time": "2023-06-01T10:21:03.216Z"
   },
   {
    "duration": 531,
    "start_time": "2023-06-01T15:07:03.410Z"
   },
   {
    "duration": 27,
    "start_time": "2023-06-01T15:07:03.944Z"
   },
   {
    "duration": 26,
    "start_time": "2023-06-01T15:07:03.973Z"
   },
   {
    "duration": 12,
    "start_time": "2023-06-01T15:07:04.001Z"
   },
   {
    "duration": 40,
    "start_time": "2023-06-01T15:07:04.017Z"
   },
   {
    "duration": 7,
    "start_time": "2023-06-01T15:07:04.075Z"
   },
   {
    "duration": 16,
    "start_time": "2023-06-01T15:07:04.084Z"
   },
   {
    "duration": 9,
    "start_time": "2023-06-01T15:07:04.102Z"
   },
   {
    "duration": 10,
    "start_time": "2023-06-01T15:07:04.112Z"
   },
   {
    "duration": 7,
    "start_time": "2023-06-01T15:07:04.124Z"
   },
   {
    "duration": 75,
    "start_time": "2023-06-01T15:07:04.133Z"
   },
   {
    "duration": 14,
    "start_time": "2023-06-01T15:07:04.212Z"
   },
   {
    "duration": 4,
    "start_time": "2023-06-01T15:07:04.227Z"
   },
   {
    "duration": 14,
    "start_time": "2023-06-01T15:07:04.234Z"
   },
   {
    "duration": 48,
    "start_time": "2023-06-01T15:07:04.250Z"
   },
   {
    "duration": 19,
    "start_time": "2023-06-01T15:07:04.300Z"
   },
   {
    "duration": 4,
    "start_time": "2023-06-01T15:07:04.320Z"
   },
   {
    "duration": 15,
    "start_time": "2023-06-01T15:07:04.326Z"
   },
   {
    "duration": 8,
    "start_time": "2023-06-01T15:07:04.342Z"
   },
   {
    "duration": 3,
    "start_time": "2023-06-01T15:07:04.376Z"
   },
   {
    "duration": 14,
    "start_time": "2023-06-01T15:07:04.384Z"
   },
   {
    "duration": 25,
    "start_time": "2023-06-01T15:07:04.399Z"
   },
   {
    "duration": 24,
    "start_time": "2023-06-01T15:07:04.426Z"
   },
   {
    "duration": 45,
    "start_time": "2023-06-01T15:07:04.451Z"
   },
   {
    "duration": 19,
    "start_time": "2023-06-01T15:07:04.497Z"
   },
   {
    "duration": 1155,
    "start_time": "2023-06-02T09:00:39.675Z"
   },
   {
    "duration": 23,
    "start_time": "2023-06-02T09:00:40.833Z"
   },
   {
    "duration": 14,
    "start_time": "2023-06-02T09:00:40.858Z"
   },
   {
    "duration": 10,
    "start_time": "2023-06-02T09:00:40.874Z"
   },
   {
    "duration": 36,
    "start_time": "2023-06-02T09:00:40.886Z"
   },
   {
    "duration": 3,
    "start_time": "2023-06-02T09:00:40.924Z"
   },
   {
    "duration": 12,
    "start_time": "2023-06-02T09:00:40.928Z"
   },
   {
    "duration": 6,
    "start_time": "2023-06-02T09:00:40.942Z"
   },
   {
    "duration": 27,
    "start_time": "2023-06-02T09:00:40.950Z"
   },
   {
    "duration": 5,
    "start_time": "2023-06-02T09:00:40.981Z"
   },
   {
    "duration": 38,
    "start_time": "2023-06-02T09:00:40.988Z"
   },
   {
    "duration": 10,
    "start_time": "2023-06-02T09:00:41.028Z"
   },
   {
    "duration": 6,
    "start_time": "2023-06-02T09:00:41.039Z"
   },
   {
    "duration": 35,
    "start_time": "2023-06-02T09:00:41.047Z"
   },
   {
    "duration": 23,
    "start_time": "2023-06-02T09:00:41.084Z"
   },
   {
    "duration": 26,
    "start_time": "2023-06-02T09:00:41.109Z"
   },
   {
    "duration": 4,
    "start_time": "2023-06-02T09:00:41.137Z"
   },
   {
    "duration": 43,
    "start_time": "2023-06-02T09:00:41.143Z"
   },
   {
    "duration": 9,
    "start_time": "2023-06-02T09:00:41.188Z"
   },
   {
    "duration": 4,
    "start_time": "2023-06-02T09:00:41.199Z"
   },
   {
    "duration": 14,
    "start_time": "2023-06-02T09:00:41.205Z"
   },
   {
    "duration": 23,
    "start_time": "2023-06-02T09:00:41.221Z"
   },
   {
    "duration": 48,
    "start_time": "2023-06-02T09:00:41.245Z"
   },
   {
    "duration": 20,
    "start_time": "2023-06-02T09:00:41.295Z"
   },
   {
    "duration": 20,
    "start_time": "2023-06-02T09:00:41.317Z"
   },
   {
    "duration": 539,
    "start_time": "2023-06-02T11:38:47.838Z"
   },
   {
    "duration": 24,
    "start_time": "2023-06-02T11:38:48.379Z"
   },
   {
    "duration": 15,
    "start_time": "2023-06-02T11:38:48.404Z"
   },
   {
    "duration": 9,
    "start_time": "2023-06-02T11:38:48.421Z"
   },
   {
    "duration": 41,
    "start_time": "2023-06-02T11:38:48.453Z"
   },
   {
    "duration": 4,
    "start_time": "2023-06-02T11:38:48.496Z"
   },
   {
    "duration": 14,
    "start_time": "2023-06-02T11:38:48.502Z"
   },
   {
    "duration": 6,
    "start_time": "2023-06-02T11:38:48.518Z"
   },
   {
    "duration": 36,
    "start_time": "2023-06-02T11:38:48.526Z"
   },
   {
    "duration": 7,
    "start_time": "2023-06-02T11:38:48.564Z"
   },
   {
    "duration": 40,
    "start_time": "2023-06-02T11:38:48.573Z"
   },
   {
    "duration": 10,
    "start_time": "2023-06-02T11:38:48.614Z"
   },
   {
    "duration": 4,
    "start_time": "2023-06-02T11:38:48.625Z"
   },
   {
    "duration": 33,
    "start_time": "2023-06-02T11:38:48.632Z"
   },
   {
    "duration": 20,
    "start_time": "2023-06-02T11:38:48.668Z"
   },
   {
    "duration": 17,
    "start_time": "2023-06-02T11:38:48.690Z"
   },
   {
    "duration": 4,
    "start_time": "2023-06-02T11:38:48.709Z"
   },
   {
    "duration": 22,
    "start_time": "2023-06-02T11:38:48.715Z"
   },
   {
    "duration": 7,
    "start_time": "2023-06-02T11:38:48.750Z"
   },
   {
    "duration": 13,
    "start_time": "2023-06-02T11:38:48.758Z"
   },
   {
    "duration": 15,
    "start_time": "2023-06-02T11:38:48.773Z"
   },
   {
    "duration": 24,
    "start_time": "2023-06-02T11:38:48.789Z"
   },
   {
    "duration": 45,
    "start_time": "2023-06-02T11:38:48.815Z"
   },
   {
    "duration": 27,
    "start_time": "2023-06-02T11:38:48.861Z"
   },
   {
    "duration": 25,
    "start_time": "2023-06-02T11:38:48.889Z"
   }
  ],
  "colab": {
   "provenance": []
  },
  "kernelspec": {
   "display_name": "Python 3 (ipykernel)",
   "language": "python",
   "name": "python3"
  },
  "language_info": {
   "codemirror_mode": {
    "name": "ipython",
    "version": 3
   },
   "file_extension": ".py",
   "mimetype": "text/x-python",
   "name": "python",
   "nbconvert_exporter": "python",
   "pygments_lexer": "ipython3",
   "version": "3.10.9"
  },
  "toc": {
   "base_numbering": 1,
   "nav_menu": {},
   "number_sections": true,
   "sideBar": true,
   "skip_h1_title": true,
   "title_cell": "Table of Contents",
   "title_sidebar": "Contents",
   "toc_cell": false,
   "toc_position": {
    "height": "calc(100% - 180px)",
    "left": "10px",
    "top": "150px",
    "width": "374.391px"
   },
   "toc_section_display": true,
   "toc_window_display": true
  }
 },
 "nbformat": 4,
 "nbformat_minor": 5
}
