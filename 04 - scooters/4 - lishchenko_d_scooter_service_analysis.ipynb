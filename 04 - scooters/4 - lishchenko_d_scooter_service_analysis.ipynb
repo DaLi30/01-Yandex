{
 "cells": [
  {
   "cell_type": "markdown",
   "id": "a0171f12",
   "metadata": {},
   "source": [
    "# Оценка сервиса аренды самокатов GoFast"
   ]
  },
  {
   "cell_type": "markdown",
   "id": "e3744c36",
   "metadata": {},
   "source": [
    "Аналитическая оценка популярного сервиса аренды самокатов GoFast. \n",
    "Входные данные: данные о некоторых пользователях из нескольких городов, а также об их поездках. \n",
    "Цель исследования: провести анализ данных и вынести предложения для улучшения бизнес-показателей. \n",
    "\n",
    "Чтобы совершать поездки по городу, пользователи сервиса GoFast пользуются мобильным приложением. Сервисом можно пользоваться:\n",
    "\n",
    "- без подписки\n",
    "       - абонентская плата отсутствует;\n",
    "       - стоимость одной минуты поездки — 8 рублей;\n",
    "       - стоимость старта (начала поездки) — 50 рублей;\n",
    "- с подпиской Ultra\n",
    "       - абонентская плата — 199 рублей в месяц;\n",
    "       - стоимость одной минуты поездки — 6 рублей;\n",
    "       - стоимость старта — бесплатно.\n",
    "       \n",
    "В основных данных есть информация о пользователях, их поездках и подписках.\n",
    "\n",
    "План работы:\n",
    "\n",
    "    Шаг 1 - Загрузка данных\n",
    "    Шаг 2 - Предобработка данных\n",
    "    Шаг 3 - Исследовательский анализ данных\n",
    "    Шаг 4 - Объединение данных\n",
    "    Шаг 5 - Подсчет выручки\n",
    "    Шаг 6 - Проверка гипотез\n",
    "    Шаг 7 - Распределения\n",
    "    Общий вывод\n"
   ]
  },
  {
   "cell_type": "markdown",
   "id": "a0c8ec2f",
   "metadata": {},
   "source": [
    "Импортируем библиотеки:"
   ]
  },
  {
   "cell_type": "code",
   "execution_count": 1,
   "id": "72576667",
   "metadata": {},
   "outputs": [],
   "source": [
    "import pandas as pd\n",
    "import matplotlib.pyplot as plt \n",
    "import seaborn as sns\n",
    "import numpy as np\n",
    "from scipy import stats as st\n",
    "from math import sqrt\n",
    "from math import factorial\n",
    "\n",
    "import warnings \n",
    "warnings.filterwarnings('ignore')"
   ]
  },
  {
   "cell_type": "markdown",
   "id": "c42cbe00",
   "metadata": {},
   "source": [
    "#### Шаг 1. Загрузка данных"
   ]
  },
  {
   "cell_type": "code",
   "execution_count": 2,
   "id": "eff9f206",
   "metadata": {},
   "outputs": [],
   "source": [
    "try:\n",
    "    data_users = pd.read_csv\n",
    "    data_riders = pd.read_csv\n",
    "    data_subscription = pd.read_csv\n",
    "except:\n",
    "    data_users = pd.read_csv\n",
    "    data_riders = pd.read_csv\n",
    "    data_subscription = pd.read_csv "
   ]
  },
  {
   "cell_type": "markdown",
   "id": "dfead765",
   "metadata": {},
   "source": [
    "Выведем первые строки датасетов"
   ]
  },
  {
   "cell_type": "code",
   "execution_count": 3,
   "id": "3797ec87",
   "metadata": {
    "scrolled": true
   },
   "outputs": [
    {
     "data": {
      "text/html": [
       "<div>\n",
       "<style scoped>\n",
       "    .dataframe tbody tr th:only-of-type {\n",
       "        vertical-align: middle;\n",
       "    }\n",
       "\n",
       "    .dataframe tbody tr th {\n",
       "        vertical-align: top;\n",
       "    }\n",
       "\n",
       "    .dataframe thead th {\n",
       "        text-align: right;\n",
       "    }\n",
       "</style>\n",
       "<table border=\"1\" class=\"dataframe\">\n",
       "  <thead>\n",
       "    <tr style=\"text-align: right;\">\n",
       "      <th></th>\n",
       "      <th>user_id</th>\n",
       "      <th>name</th>\n",
       "      <th>age</th>\n",
       "      <th>city</th>\n",
       "      <th>subscription_type</th>\n",
       "    </tr>\n",
       "  </thead>\n",
       "  <tbody>\n",
       "    <tr>\n",
       "      <th>0</th>\n",
       "      <td>1</td>\n",
       "      <td>Кира</td>\n",
       "      <td>22</td>\n",
       "      <td>Тюмень</td>\n",
       "      <td>ultra</td>\n",
       "    </tr>\n",
       "    <tr>\n",
       "      <th>1</th>\n",
       "      <td>2</td>\n",
       "      <td>Станислав</td>\n",
       "      <td>31</td>\n",
       "      <td>Омск</td>\n",
       "      <td>ultra</td>\n",
       "    </tr>\n",
       "    <tr>\n",
       "      <th>2</th>\n",
       "      <td>3</td>\n",
       "      <td>Алексей</td>\n",
       "      <td>20</td>\n",
       "      <td>Москва</td>\n",
       "      <td>ultra</td>\n",
       "    </tr>\n",
       "    <tr>\n",
       "      <th>3</th>\n",
       "      <td>4</td>\n",
       "      <td>Константин</td>\n",
       "      <td>26</td>\n",
       "      <td>Ростов-на-Дону</td>\n",
       "      <td>ultra</td>\n",
       "    </tr>\n",
       "    <tr>\n",
       "      <th>4</th>\n",
       "      <td>5</td>\n",
       "      <td>Адель</td>\n",
       "      <td>28</td>\n",
       "      <td>Омск</td>\n",
       "      <td>ultra</td>\n",
       "    </tr>\n",
       "  </tbody>\n",
       "</table>\n",
       "</div>"
      ],
      "text/plain": [
       "   user_id        name  age            city subscription_type\n",
       "0        1        Кира   22          Тюмень             ultra\n",
       "1        2   Станислав   31            Омск             ultra\n",
       "2        3     Алексей   20          Москва             ultra\n",
       "3        4  Константин   26  Ростов-на-Дону             ultra\n",
       "4        5       Адель   28            Омск             ultra"
      ]
     },
     "execution_count": 3,
     "metadata": {},
     "output_type": "execute_result"
    }
   ],
   "source": [
    "data_users.head()"
   ]
  },
  {
   "cell_type": "code",
   "execution_count": 4,
   "id": "fec3310b",
   "metadata": {},
   "outputs": [
    {
     "data": {
      "text/html": [
       "<div>\n",
       "<style scoped>\n",
       "    .dataframe tbody tr th:only-of-type {\n",
       "        vertical-align: middle;\n",
       "    }\n",
       "\n",
       "    .dataframe tbody tr th {\n",
       "        vertical-align: top;\n",
       "    }\n",
       "\n",
       "    .dataframe thead th {\n",
       "        text-align: right;\n",
       "    }\n",
       "</style>\n",
       "<table border=\"1\" class=\"dataframe\">\n",
       "  <thead>\n",
       "    <tr style=\"text-align: right;\">\n",
       "      <th></th>\n",
       "      <th>user_id</th>\n",
       "      <th>distance</th>\n",
       "      <th>duration</th>\n",
       "      <th>date</th>\n",
       "    </tr>\n",
       "  </thead>\n",
       "  <tbody>\n",
       "    <tr>\n",
       "      <th>0</th>\n",
       "      <td>1</td>\n",
       "      <td>4409.919140</td>\n",
       "      <td>25.599769</td>\n",
       "      <td>2021-01-01</td>\n",
       "    </tr>\n",
       "    <tr>\n",
       "      <th>1</th>\n",
       "      <td>1</td>\n",
       "      <td>2617.592153</td>\n",
       "      <td>15.816871</td>\n",
       "      <td>2021-01-18</td>\n",
       "    </tr>\n",
       "    <tr>\n",
       "      <th>2</th>\n",
       "      <td>1</td>\n",
       "      <td>754.159807</td>\n",
       "      <td>6.232113</td>\n",
       "      <td>2021-04-20</td>\n",
       "    </tr>\n",
       "    <tr>\n",
       "      <th>3</th>\n",
       "      <td>1</td>\n",
       "      <td>2694.783254</td>\n",
       "      <td>18.511000</td>\n",
       "      <td>2021-08-11</td>\n",
       "    </tr>\n",
       "    <tr>\n",
       "      <th>4</th>\n",
       "      <td>1</td>\n",
       "      <td>4028.687306</td>\n",
       "      <td>26.265803</td>\n",
       "      <td>2021-08-28</td>\n",
       "    </tr>\n",
       "  </tbody>\n",
       "</table>\n",
       "</div>"
      ],
      "text/plain": [
       "   user_id     distance   duration        date\n",
       "0        1  4409.919140  25.599769  2021-01-01\n",
       "1        1  2617.592153  15.816871  2021-01-18\n",
       "2        1   754.159807   6.232113  2021-04-20\n",
       "3        1  2694.783254  18.511000  2021-08-11\n",
       "4        1  4028.687306  26.265803  2021-08-28"
      ]
     },
     "execution_count": 4,
     "metadata": {},
     "output_type": "execute_result"
    }
   ],
   "source": [
    "data_riders.head()"
   ]
  },
  {
   "cell_type": "code",
   "execution_count": 5,
   "id": "13ccbf82",
   "metadata": {},
   "outputs": [
    {
     "data": {
      "text/html": [
       "<div>\n",
       "<style scoped>\n",
       "    .dataframe tbody tr th:only-of-type {\n",
       "        vertical-align: middle;\n",
       "    }\n",
       "\n",
       "    .dataframe tbody tr th {\n",
       "        vertical-align: top;\n",
       "    }\n",
       "\n",
       "    .dataframe thead th {\n",
       "        text-align: right;\n",
       "    }\n",
       "</style>\n",
       "<table border=\"1\" class=\"dataframe\">\n",
       "  <thead>\n",
       "    <tr style=\"text-align: right;\">\n",
       "      <th></th>\n",
       "      <th>subscription_type</th>\n",
       "      <th>minute_price</th>\n",
       "      <th>start_ride_price</th>\n",
       "      <th>subscription_fee</th>\n",
       "    </tr>\n",
       "  </thead>\n",
       "  <tbody>\n",
       "    <tr>\n",
       "      <th>0</th>\n",
       "      <td>free</td>\n",
       "      <td>8</td>\n",
       "      <td>50</td>\n",
       "      <td>0</td>\n",
       "    </tr>\n",
       "    <tr>\n",
       "      <th>1</th>\n",
       "      <td>ultra</td>\n",
       "      <td>6</td>\n",
       "      <td>0</td>\n",
       "      <td>199</td>\n",
       "    </tr>\n",
       "  </tbody>\n",
       "</table>\n",
       "</div>"
      ],
      "text/plain": [
       "  subscription_type  minute_price  start_ride_price  subscription_fee\n",
       "0              free             8                50                 0\n",
       "1             ultra             6                 0               199"
      ]
     },
     "execution_count": 5,
     "metadata": {},
     "output_type": "execute_result"
    }
   ],
   "source": [
    "data_subscription.head()"
   ]
  },
  {
   "cell_type": "code",
   "execution_count": 6,
   "id": "a9ccf6d4",
   "metadata": {},
   "outputs": [
    {
     "name": "stdout",
     "output_type": "stream",
     "text": [
      "<class 'pandas.core.frame.DataFrame'>\n",
      "RangeIndex: 1565 entries, 0 to 1564\n",
      "Data columns (total 5 columns):\n",
      " #   Column             Non-Null Count  Dtype \n",
      "---  ------             --------------  ----- \n",
      " 0   user_id            1565 non-null   int64 \n",
      " 1   name               1565 non-null   object\n",
      " 2   age                1565 non-null   int64 \n",
      " 3   city               1565 non-null   object\n",
      " 4   subscription_type  1565 non-null   object\n",
      "dtypes: int64(2), object(3)\n",
      "memory usage: 61.3+ KB\n"
     ]
    }
   ],
   "source": [
    "data_users.info()"
   ]
  },
  {
   "cell_type": "code",
   "execution_count": 7,
   "id": "10753bb7",
   "metadata": {},
   "outputs": [
    {
     "name": "stdout",
     "output_type": "stream",
     "text": [
      "<class 'pandas.core.frame.DataFrame'>\n",
      "RangeIndex: 18068 entries, 0 to 18067\n",
      "Data columns (total 4 columns):\n",
      " #   Column    Non-Null Count  Dtype  \n",
      "---  ------    --------------  -----  \n",
      " 0   user_id   18068 non-null  int64  \n",
      " 1   distance  18068 non-null  float64\n",
      " 2   duration  18068 non-null  float64\n",
      " 3   date      18068 non-null  object \n",
      "dtypes: float64(2), int64(1), object(1)\n",
      "memory usage: 564.8+ KB\n"
     ]
    }
   ],
   "source": [
    "data_riders.info()"
   ]
  },
  {
   "cell_type": "code",
   "execution_count": 8,
   "id": "ad7a6da3",
   "metadata": {},
   "outputs": [
    {
     "name": "stdout",
     "output_type": "stream",
     "text": [
      "<class 'pandas.core.frame.DataFrame'>\n",
      "RangeIndex: 2 entries, 0 to 1\n",
      "Data columns (total 4 columns):\n",
      " #   Column             Non-Null Count  Dtype \n",
      "---  ------             --------------  ----- \n",
      " 0   subscription_type  2 non-null      object\n",
      " 1   minute_price       2 non-null      int64 \n",
      " 2   start_ride_price   2 non-null      int64 \n",
      " 3   subscription_fee   2 non-null      int64 \n",
      "dtypes: int64(3), object(1)\n",
      "memory usage: 192.0+ bytes\n"
     ]
    }
   ],
   "source": [
    "data_subscription.info()"
   ]
  },
  {
   "cell_type": "markdown",
   "id": "391efd8e",
   "metadata": {},
   "source": [
    "Требуется замена типа данных в столбце date (сейчас тип object), а также проверка на пропущенные значения и дубликаты."
   ]
  },
  {
   "cell_type": "markdown",
   "id": "e95ebca7",
   "metadata": {},
   "source": [
    "#### Шаг 2. Предобработка данных"
   ]
  },
  {
   "cell_type": "markdown",
   "id": "e8331fdf",
   "metadata": {},
   "source": [
    "##### Изменение типа данных"
   ]
  },
  {
   "cell_type": "markdown",
   "id": "dca217ba",
   "metadata": {},
   "source": [
    "Приведем данные в столбце date таблицы data_rider к формату datetime."
   ]
  },
  {
   "cell_type": "code",
   "execution_count": 9,
   "id": "65d275e1",
   "metadata": {},
   "outputs": [],
   "source": [
    "data_riders['date'] = pd.to_datetime(data_riders['date'], format = '%Y-%m-%d')"
   ]
  },
  {
   "cell_type": "markdown",
   "id": "28d1a6b7",
   "metadata": {},
   "source": [
    "Создадим новый столбец с данными месяца на основании столбца date.\n",
    "В первую очередь, проверим за какие годы представлены данные:"
   ]
  },
  {
   "cell_type": "code",
   "execution_count": 10,
   "id": "84ef0551",
   "metadata": {},
   "outputs": [
    {
     "data": {
      "text/plain": [
       "array([2021])"
      ]
     },
     "execution_count": 10,
     "metadata": {},
     "output_type": "execute_result"
    }
   ],
   "source": [
    "data_riders['date'].dt.year.unique()"
   ]
  },
  {
   "cell_type": "markdown",
   "id": "1022b5c7",
   "metadata": {},
   "source": [
    "Данные представлены в пределах одного года, значит можно сразу приводить данные к месяцу, ошибок не будет."
   ]
  },
  {
   "cell_type": "code",
   "execution_count": 11,
   "id": "fa658224",
   "metadata": {},
   "outputs": [],
   "source": [
    "data_riders['month'] = data_riders['date'].dt.month"
   ]
  },
  {
   "cell_type": "markdown",
   "id": "46bfdb2d",
   "metadata": {},
   "source": [
    "##### Пропущенные значения"
   ]
  },
  {
   "cell_type": "code",
   "execution_count": 12,
   "id": "866db8e3",
   "metadata": {},
   "outputs": [
    {
     "data": {
      "text/plain": [
       "user_id              0\n",
       "name                 0\n",
       "age                  0\n",
       "city                 0\n",
       "subscription_type    0\n",
       "dtype: int64"
      ]
     },
     "execution_count": 12,
     "metadata": {},
     "output_type": "execute_result"
    }
   ],
   "source": [
    "data_users.isna().sum()"
   ]
  },
  {
   "cell_type": "code",
   "execution_count": 13,
   "id": "3b8eb8d7",
   "metadata": {},
   "outputs": [
    {
     "data": {
      "text/plain": [
       "user_id     0\n",
       "distance    0\n",
       "duration    0\n",
       "date        0\n",
       "month       0\n",
       "dtype: int64"
      ]
     },
     "execution_count": 13,
     "metadata": {},
     "output_type": "execute_result"
    }
   ],
   "source": [
    "data_riders.isna().sum()"
   ]
  },
  {
   "cell_type": "code",
   "execution_count": 14,
   "id": "31e545ef",
   "metadata": {},
   "outputs": [
    {
     "data": {
      "text/plain": [
       "subscription_type    0\n",
       "minute_price         0\n",
       "start_ride_price     0\n",
       "subscription_fee     0\n",
       "dtype: int64"
      ]
     },
     "execution_count": 14,
     "metadata": {},
     "output_type": "execute_result"
    }
   ],
   "source": [
    "data_subscription.isna().sum()"
   ]
  },
  {
   "cell_type": "markdown",
   "id": "770ed6d1",
   "metadata": {},
   "source": [
    "Пропусков в начальных данных не обнаружено."
   ]
  },
  {
   "cell_type": "markdown",
   "id": "ed6ce606",
   "metadata": {},
   "source": [
    "##### Дубликаты"
   ]
  },
  {
   "cell_type": "markdown",
   "id": "88f33746",
   "metadata": {},
   "source": [
    "###### Проверим дубликаты в таблице data_users:"
   ]
  },
  {
   "cell_type": "code",
   "execution_count": 15,
   "id": "964342b2",
   "metadata": {},
   "outputs": [
    {
     "data": {
      "text/plain": [
       "31"
      ]
     },
     "execution_count": 15,
     "metadata": {},
     "output_type": "execute_result"
    }
   ],
   "source": [
    "data_users.duplicated().sum()"
   ]
  },
  {
   "cell_type": "markdown",
   "id": "24246fb1",
   "metadata": {},
   "source": [
    "Обнаружен 31 дубликат. Произведем удаление явных дубликатов и проверим результат."
   ]
  },
  {
   "cell_type": "code",
   "execution_count": 16,
   "id": "e5453174",
   "metadata": {},
   "outputs": [],
   "source": [
    "data_users.drop_duplicates(inplace=True)"
   ]
  },
  {
   "cell_type": "code",
   "execution_count": 17,
   "id": "9fcb1bae",
   "metadata": {},
   "outputs": [
    {
     "data": {
      "text/plain": [
       "0"
      ]
     },
     "execution_count": 17,
     "metadata": {},
     "output_type": "execute_result"
    }
   ],
   "source": [
    "data_users.duplicated().sum()"
   ]
  },
  {
   "cell_type": "markdown",
   "id": "39b7ea7b",
   "metadata": {},
   "source": [
    "Дубликаты в таблице data_users удалены."
   ]
  },
  {
   "cell_type": "markdown",
   "id": "48efb4a5",
   "metadata": {},
   "source": [
    "###### Проверим дубликаты в таблице data_riders:"
   ]
  },
  {
   "cell_type": "code",
   "execution_count": 18,
   "id": "e19b9180",
   "metadata": {},
   "outputs": [
    {
     "data": {
      "text/plain": [
       "0"
      ]
     },
     "execution_count": 18,
     "metadata": {},
     "output_type": "execute_result"
    }
   ],
   "source": [
    "data_riders.duplicated().sum()"
   ]
  },
  {
   "cell_type": "markdown",
   "id": "e74b9590",
   "metadata": {},
   "source": [
    "Дубликатов в таблице data_riders не выявлено."
   ]
  },
  {
   "cell_type": "markdown",
   "id": "bd39e7ed",
   "metadata": {},
   "source": [
    "###### Проверим дубликаты в таблице data_subscription:"
   ]
  },
  {
   "cell_type": "code",
   "execution_count": 19,
   "id": "4a998fe9",
   "metadata": {},
   "outputs": [
    {
     "data": {
      "text/plain": [
       "0"
      ]
     },
     "execution_count": 19,
     "metadata": {},
     "output_type": "execute_result"
    }
   ],
   "source": [
    "data_subscription.duplicated().sum()"
   ]
  },
  {
   "cell_type": "markdown",
   "id": "e5bc4f62",
   "metadata": {},
   "source": [
    "Дубликатов в таблице data_subscription не выявлено."
   ]
  },
  {
   "cell_type": "markdown",
   "id": "212593c7",
   "metadata": {},
   "source": [
    "#### Шаг 3. Исследовательский анализ данных"
   ]
  },
  {
   "cell_type": "markdown",
   "id": "d26357f5",
   "metadata": {},
   "source": [
    "Опишем и визуализируем общую информацию о пользователях и поездках:\n",
    "##### Частота встречаемости городов"
   ]
  },
  {
   "cell_type": "code",
   "execution_count": 20,
   "id": "20af9099",
   "metadata": {},
   "outputs": [],
   "source": [
    "users_by_city = data_users['city'].value_counts()"
   ]
  },
  {
   "cell_type": "code",
   "execution_count": 21,
   "id": "8a79e2fe",
   "metadata": {},
   "outputs": [
    {
     "data": {
      "text/plain": [
       "Пятигорск         219\n",
       "Екатеринбург      204\n",
       "Ростов-на-Дону    198\n",
       "Краснодар         193\n",
       "Сочи              189\n",
       "Омск              183\n",
       "Тюмень            180\n",
       "Москва            168\n",
       "Name: city, dtype: int64"
      ]
     },
     "execution_count": 21,
     "metadata": {},
     "output_type": "execute_result"
    }
   ],
   "source": [
    "users_by_city"
   ]
  },
  {
   "cell_type": "code",
   "execution_count": 22,
   "id": "5db2133a",
   "metadata": {},
   "outputs": [],
   "source": [
    "users_by_city['rate'] = round(data_users['city'].value_counts() / \n",
    "                            users_by_city.sum()) * 100"
   ]
  },
  {
   "cell_type": "code",
   "execution_count": 23,
   "id": "5515a1dc",
   "metadata": {},
   "outputs": [
    {
     "data": {
      "text/plain": [
       "<AxesSubplot:title={'center':'Частота встречаемости городов'}, ylabel='city'>"
      ]
     },
     "execution_count": 23,
     "metadata": {},
     "output_type": "execute_result"
    },
    {
     "data": {
      "image/png": "[encoded data removed]",
      "text/plain": [
       "<Figure size 504x504 with 1 Axes>"
      ]
     },
     "metadata": {},
     "output_type": "display_data"
    }
   ],
   "source": [
    "data_users['city'].value_counts().plot(\n",
    "    kind = 'pie', \n",
    "    y = users_by_city,\n",
    "    autopct = '%1.0f%%',\n",
    "    figsize=(7,7), title = 'Частота встречаемости городов')"
   ]
  },
  {
   "cell_type": "code",
   "execution_count": 24,
   "id": "7d854e30",
   "metadata": {},
   "outputs": [
    {
     "data": {
      "text/plain": [
       "<AxesSubplot:title={'center':'Частота встречаемости городов'}, xlabel='Город', ylabel='Количество пользователей'>"
      ]
     },
     "execution_count": 24,
     "metadata": {},
     "output_type": "execute_result"
    },
    {
     "data": {
      "image/png": "[encoded data removed]",
      "text/plain": [
       "<Figure size 504x504 with 1 Axes>"
      ]
     },
     "metadata": {
      "needs_background": "light"
     },
     "output_type": "display_data"
    }
   ],
   "source": [
    "data_users['city'].value_counts().plot(\n",
    "    kind = 'bar', \n",
    "    y = users_by_city,\n",
    "    xlabel = 'Город',\n",
    "    ylabel = 'Количество пользователей',\n",
    "    figsize=(7,7), title = 'Частота встречаемости городов')"
   ]
  },
  {
   "cell_type": "markdown",
   "id": "c4b3d951",
   "metadata": {},
   "source": [
    "Данные распределены по всем городам достаточно равномерно, доли присутствия по разным городам в структуре составляют от 11% до 14%. Наибольшее число пользователей - Пятигорск, 219. Наименьшее - Москва, 168. "
   ]
  },
  {
   "cell_type": "markdown",
   "id": "512fcd8a",
   "metadata": {},
   "source": [
    "##### Соотношение пользователей с подпиской и без подписки"
   ]
  },
  {
   "cell_type": "code",
   "execution_count": 25,
   "id": "4d0fc4c6",
   "metadata": {},
   "outputs": [],
   "source": [
    "count_sub = data_users['subscription_type'].value_counts()"
   ]
  },
  {
   "cell_type": "code",
   "execution_count": 26,
   "id": "667e2d04",
   "metadata": {},
   "outputs": [
    {
     "data": {
      "text/plain": [
       "free     835\n",
       "ultra    699\n",
       "Name: subscription_type, dtype: int64"
      ]
     },
     "execution_count": 26,
     "metadata": {},
     "output_type": "execute_result"
    }
   ],
   "source": [
    "count_sub"
   ]
  },
  {
   "cell_type": "code",
   "execution_count": 27,
   "id": "65123789",
   "metadata": {},
   "outputs": [
    {
     "data": {
      "text/plain": [
       "<AxesSubplot:title={'center':'Соотношение пользователей с подпиской и без подписки'}, ylabel='subscription_type'>"
      ]
     },
     "execution_count": 27,
     "metadata": {},
     "output_type": "execute_result"
    },
    {
     "data": {
      "image/png": "[encoded data removed]",
      "text/plain": [
       "<Figure size 432x432 with 1 Axes>"
      ]
     },
     "metadata": {},
     "output_type": "display_data"
    }
   ],
   "source": [
    "data_users['subscription_type'].value_counts().plot(\n",
    "    kind = 'pie', \n",
    "    y = count_sub, \n",
    "    autopct = '%1.0f%%',\n",
    "    figsize=(6,6), title = 'Соотношение пользователей с подпиской и без подписки')"
   ]
  },
  {
   "cell_type": "markdown",
   "id": "a3536dc0",
   "metadata": {},
   "source": [
    "Пользователей без подписки больше, чем с подпиской - 54% против 46%"
   ]
  },
  {
   "cell_type": "markdown",
   "id": "43e6c446",
   "metadata": {},
   "source": [
    "##### Возраст пользователей"
   ]
  },
  {
   "cell_type": "code",
   "execution_count": 28,
   "id": "3be8a53f",
   "metadata": {},
   "outputs": [
    {
     "data": {
      "text/plain": [
       "Text(0, 0.5, 'Количество пользователей')"
      ]
     },
     "execution_count": 28,
     "metadata": {},
     "output_type": "execute_result"
    },
    {
     "data": {
      "image/png": "[encoded data removed]",
      "text/plain": [
       "<Figure size 720x504 with 1 Axes>"
      ]
     },
     "metadata": {
      "needs_background": "light"
     },
     "output_type": "display_data"
    }
   ],
   "source": [
    "plt.figure(figsize=(10,7))\n",
    "plt.hist(data_users['age'], bins = 30)\n",
    "plt.title('Возраст пользователей')\n",
    "\n",
    "plt.xlabel('Возраст')\n",
    "\n",
    "plt.ylabel('Количество пользователей')\n",
    "\n",
    "\n",
    "#plt.show()"
   ]
  },
  {
   "cell_type": "markdown",
   "id": "a99afdfe",
   "metadata": {},
   "source": [
    "Возраст пользователей находится в диапазоне от 12 до 43 лет. Наибольшая часть пользователей находится в возрасте от 20 до 30 лет. Пик приходится на 24 года."
   ]
  },
  {
   "cell_type": "markdown",
   "id": "ed185cfa",
   "metadata": {},
   "source": [
    "#####  Расстояние, которое пользователь преодолел за одну поездку"
   ]
  },
  {
   "cell_type": "code",
   "execution_count": 29,
   "id": "83734240",
   "metadata": {
    "scrolled": true
   },
   "outputs": [
    {
     "data": {
      "text/plain": [
       "(0.0, 8000.0)"
      ]
     },
     "execution_count": 29,
     "metadata": {},
     "output_type": "execute_result"
    },
    {
     "data": {
      "image/png": "[encoded data removed]",
      "text/plain": [
       "<Figure size 432x288 with 1 Axes>"
      ]
     },
     "metadata": {
      "needs_background": "light"
     },
     "output_type": "display_data"
    }
   ],
   "source": [
    "data_riders.boxplot(column=['distance'])\n",
    "plt.ylim(0, 8000)"
   ]
  },
  {
   "cell_type": "code",
   "execution_count": 30,
   "id": "03a15caa",
   "metadata": {},
   "outputs": [
    {
     "data": {
      "image/png": "[encoded data removed]",
      "text/plain": [
       "<Figure size 720x504 with 1 Axes>"
      ]
     },
     "metadata": {
      "needs_background": "light"
     },
     "output_type": "display_data"
    }
   ],
   "source": [
    "plt.figure(figsize=(10,7))\n",
    "plt.hist(data_riders['distance'], bins = 30)\n",
    "plt.title('Распределение расстояний поездок')\n",
    "plt.xlabel('Расстояние поездки')\n",
    "plt.ylabel('Количество пользователей')\n",
    "\n",
    "plt.show()"
   ]
  },
  {
   "cell_type": "code",
   "execution_count": 31,
   "id": "4132367c",
   "metadata": {},
   "outputs": [
    {
     "data": {
      "text/plain": [
       "count    18068.000000\n",
       "mean      3070.659976\n",
       "std       1116.831209\n",
       "min          0.855683\n",
       "25%       2543.226360\n",
       "50%       3133.609994\n",
       "75%       3776.222735\n",
       "max       7211.007745\n",
       "Name: distance, dtype: float64"
      ]
     },
     "execution_count": 31,
     "metadata": {},
     "output_type": "execute_result"
    }
   ],
   "source": [
    "data_riders['distance'].describe()"
   ]
  },
  {
   "cell_type": "markdown",
   "id": "ec6ff754",
   "metadata": {},
   "source": [
    "Расстояние, которое наиболее часто проезжают расположено в диапазоне от 2.5 км до 3.7 км. Наибольшее значение расстояния составляет около 7.2 км. Минимальное значение - 0.86 м. Медианное значение - 3.07 км, среднее 1.16 км. На отметке 0.5 км наблюдается локальный пик."
   ]
  },
  {
   "cell_type": "markdown",
   "id": "d2aa4931",
   "metadata": {},
   "source": [
    "##### Продолжительность поездок"
   ]
  },
  {
   "cell_type": "code",
   "execution_count": 32,
   "id": "8c885501",
   "metadata": {
    "scrolled": true
   },
   "outputs": [
    {
     "data": {
      "text/plain": [
       "(0.0, 45.0)"
      ]
     },
     "execution_count": 32,
     "metadata": {},
     "output_type": "execute_result"
    },
    {
     "data": {
      "image/png": "[encoded data removed]",
      "text/plain": [
       "<Figure size 432x288 with 1 Axes>"
      ]
     },
     "metadata": {
      "needs_background": "light"
     },
     "output_type": "display_data"
    }
   ],
   "source": [
    "data_riders.boxplot(column=['duration'])\n",
    "plt.ylim(0, 45)"
   ]
  },
  {
   "cell_type": "code",
   "execution_count": 33,
   "id": "a16d703f",
   "metadata": {},
   "outputs": [
    {
     "data": {
      "image/png": "[encoded data removed]",
      "text/plain": [
       "<Figure size 720x504 with 1 Axes>"
      ]
     },
     "metadata": {
      "needs_background": "light"
     },
     "output_type": "display_data"
    }
   ],
   "source": [
    "plt.figure(figsize=(10,7))\n",
    "plt.hist(data_riders['duration'], bins = 40)\n",
    "plt.title('Распределение продолжительности поездок')\n",
    "plt.xlabel('Продолжительность поездки')\n",
    "plt.ylabel('Количество пользователей')\n",
    "\n",
    "plt.show()"
   ]
  },
  {
   "cell_type": "code",
   "execution_count": 34,
   "id": "26d1637b",
   "metadata": {},
   "outputs": [
    {
     "data": {
      "text/plain": [
       "count    18068.000000\n",
       "mean        17.805011\n",
       "std          6.091051\n",
       "min          0.500000\n",
       "25%         13.597563\n",
       "50%         17.678395\n",
       "75%         21.724800\n",
       "max         40.823963\n",
       "Name: duration, dtype: float64"
      ]
     },
     "execution_count": 34,
     "metadata": {},
     "output_type": "execute_result"
    }
   ],
   "source": [
    "data_riders['duration'].describe()"
   ]
  },
  {
   "cell_type": "markdown",
   "id": "abaf0826",
   "metadata": {},
   "source": [
    "Продолжительность поездок преимущественно расположена в диапазоне от 12 до 23 минут. Минимальное значение времени поездки - 0,5 мин, что вероятно вызвано человеческим фактором (передумал ехать), либо неисправностью самоката. Пик на отметке 18 минут. Медианное значение- 17,8 м, среднее - 6,09 мин. Самая длительная поездка - 40 минут."
   ]
  },
  {
   "cell_type": "markdown",
   "id": "cd8b6203",
   "metadata": {},
   "source": [
    "**Выводы:** \n",
    "- Данные распределены по всем городам достаточно равномерно, доли присутствия по разным городам в структуре составляют от 11% до 14%. Наибольшее число пользователей - Пятигорск, 219. Наименьшее - Москва, 168. \n",
    "- Пользователей без подписки больше, чем с подпиской - 54% против 46%.\n",
    "- Возраст пользователей находится в диапазоне от 12 до 43 лет. Наибольшая часть пользователей находится в возрасте от 20 до 30 лет. Пик приходится на 24 года.\n",
    "- Расстояние, которое наиболее часто проезжают расположено в диапазоне от 2.5 км до 3.7 км. Наибольшее значение расстояния составляет около 7.2 км. Минимальное значение - 0.86 м. Медианное значение - 3.07 км, среднее 1.16 км. На отметке 0.5 км наблюдается локальный пик.\n",
    "- Продолжительность поездок преимущественно расположена в диапазоне от 12 до 23 минут. Минимальное значение времени поездки - 0,5 мин, что вероятно вызвано человеческим фактором (передумал ехать), либо неисправностью самоката. Пик на отметке 18 минут. Медианное значение- 17,8 м, среднее - 6,09 мин. Самая длительная поездка - 40 минут."
   ]
  },
  {
   "cell_type": "markdown",
   "id": "4ef51331",
   "metadata": {},
   "source": [
    "#### Шаг 4. Объединение данных"
   ]
  },
  {
   "cell_type": "markdown",
   "id": "eba975f1",
   "metadata": {},
   "source": [
    "##### Объединяем данные о пользователях, поездках и подписках в один датафрейм."
   ]
  },
  {
   "cell_type": "code",
   "execution_count": 35,
   "id": "b83d760d",
   "metadata": {},
   "outputs": [],
   "source": [
    "full_data = data_users.merge(data_riders, on='user_id')"
   ]
  },
  {
   "cell_type": "code",
   "execution_count": 36,
   "id": "e2e774a0",
   "metadata": {},
   "outputs": [],
   "source": [
    "full_data = full_data.merge(data_subscription)"
   ]
  },
  {
   "cell_type": "code",
   "execution_count": 37,
   "id": "6a59e8c9",
   "metadata": {
    "scrolled": true
   },
   "outputs": [
    {
     "data": {
      "text/html": [
       "<div>\n",
       "<style scoped>\n",
       "    .dataframe tbody tr th:only-of-type {\n",
       "        vertical-align: middle;\n",
       "    }\n",
       "\n",
       "    .dataframe tbody tr th {\n",
       "        vertical-align: top;\n",
       "    }\n",
       "\n",
       "    .dataframe thead th {\n",
       "        text-align: right;\n",
       "    }\n",
       "</style>\n",
       "<table border=\"1\" class=\"dataframe\">\n",
       "  <thead>\n",
       "    <tr style=\"text-align: right;\">\n",
       "      <th></th>\n",
       "      <th>user_id</th>\n",
       "      <th>name</th>\n",
       "      <th>age</th>\n",
       "      <th>city</th>\n",
       "      <th>subscription_type</th>\n",
       "      <th>distance</th>\n",
       "      <th>duration</th>\n",
       "      <th>date</th>\n",
       "      <th>month</th>\n",
       "      <th>minute_price</th>\n",
       "      <th>start_ride_price</th>\n",
       "      <th>subscription_fee</th>\n",
       "    </tr>\n",
       "  </thead>\n",
       "  <tbody>\n",
       "    <tr>\n",
       "      <th>0</th>\n",
       "      <td>1</td>\n",
       "      <td>Кира</td>\n",
       "      <td>22</td>\n",
       "      <td>Тюмень</td>\n",
       "      <td>ultra</td>\n",
       "      <td>4409.919140</td>\n",
       "      <td>25.599769</td>\n",
       "      <td>2021-01-01</td>\n",
       "      <td>1</td>\n",
       "      <td>6</td>\n",
       "      <td>0</td>\n",
       "      <td>199</td>\n",
       "    </tr>\n",
       "    <tr>\n",
       "      <th>1</th>\n",
       "      <td>1</td>\n",
       "      <td>Кира</td>\n",
       "      <td>22</td>\n",
       "      <td>Тюмень</td>\n",
       "      <td>ultra</td>\n",
       "      <td>2617.592153</td>\n",
       "      <td>15.816871</td>\n",
       "      <td>2021-01-18</td>\n",
       "      <td>1</td>\n",
       "      <td>6</td>\n",
       "      <td>0</td>\n",
       "      <td>199</td>\n",
       "    </tr>\n",
       "    <tr>\n",
       "      <th>2</th>\n",
       "      <td>1</td>\n",
       "      <td>Кира</td>\n",
       "      <td>22</td>\n",
       "      <td>Тюмень</td>\n",
       "      <td>ultra</td>\n",
       "      <td>754.159807</td>\n",
       "      <td>6.232113</td>\n",
       "      <td>2021-04-20</td>\n",
       "      <td>4</td>\n",
       "      <td>6</td>\n",
       "      <td>0</td>\n",
       "      <td>199</td>\n",
       "    </tr>\n",
       "    <tr>\n",
       "      <th>3</th>\n",
       "      <td>1</td>\n",
       "      <td>Кира</td>\n",
       "      <td>22</td>\n",
       "      <td>Тюмень</td>\n",
       "      <td>ultra</td>\n",
       "      <td>2694.783254</td>\n",
       "      <td>18.511000</td>\n",
       "      <td>2021-08-11</td>\n",
       "      <td>8</td>\n",
       "      <td>6</td>\n",
       "      <td>0</td>\n",
       "      <td>199</td>\n",
       "    </tr>\n",
       "    <tr>\n",
       "      <th>4</th>\n",
       "      <td>1</td>\n",
       "      <td>Кира</td>\n",
       "      <td>22</td>\n",
       "      <td>Тюмень</td>\n",
       "      <td>ultra</td>\n",
       "      <td>4028.687306</td>\n",
       "      <td>26.265803</td>\n",
       "      <td>2021-08-28</td>\n",
       "      <td>8</td>\n",
       "      <td>6</td>\n",
       "      <td>0</td>\n",
       "      <td>199</td>\n",
       "    </tr>\n",
       "    <tr>\n",
       "      <th>...</th>\n",
       "      <td>...</td>\n",
       "      <td>...</td>\n",
       "      <td>...</td>\n",
       "      <td>...</td>\n",
       "      <td>...</td>\n",
       "      <td>...</td>\n",
       "      <td>...</td>\n",
       "      <td>...</td>\n",
       "      <td>...</td>\n",
       "      <td>...</td>\n",
       "      <td>...</td>\n",
       "      <td>...</td>\n",
       "    </tr>\n",
       "    <tr>\n",
       "      <th>18063</th>\n",
       "      <td>1534</td>\n",
       "      <td>Альберт</td>\n",
       "      <td>25</td>\n",
       "      <td>Краснодар</td>\n",
       "      <td>free</td>\n",
       "      <td>3781.098080</td>\n",
       "      <td>19.822962</td>\n",
       "      <td>2021-11-04</td>\n",
       "      <td>11</td>\n",
       "      <td>8</td>\n",
       "      <td>50</td>\n",
       "      <td>0</td>\n",
       "    </tr>\n",
       "    <tr>\n",
       "      <th>18064</th>\n",
       "      <td>1534</td>\n",
       "      <td>Альберт</td>\n",
       "      <td>25</td>\n",
       "      <td>Краснодар</td>\n",
       "      <td>free</td>\n",
       "      <td>2840.423057</td>\n",
       "      <td>21.409799</td>\n",
       "      <td>2021-11-16</td>\n",
       "      <td>11</td>\n",
       "      <td>8</td>\n",
       "      <td>50</td>\n",
       "      <td>0</td>\n",
       "    </tr>\n",
       "    <tr>\n",
       "      <th>18065</th>\n",
       "      <td>1534</td>\n",
       "      <td>Альберт</td>\n",
       "      <td>25</td>\n",
       "      <td>Краснодар</td>\n",
       "      <td>free</td>\n",
       "      <td>3826.185507</td>\n",
       "      <td>18.435051</td>\n",
       "      <td>2021-11-18</td>\n",
       "      <td>11</td>\n",
       "      <td>8</td>\n",
       "      <td>50</td>\n",
       "      <td>0</td>\n",
       "    </tr>\n",
       "    <tr>\n",
       "      <th>18066</th>\n",
       "      <td>1534</td>\n",
       "      <td>Альберт</td>\n",
       "      <td>25</td>\n",
       "      <td>Краснодар</td>\n",
       "      <td>free</td>\n",
       "      <td>2902.308661</td>\n",
       "      <td>16.674362</td>\n",
       "      <td>2021-11-27</td>\n",
       "      <td>11</td>\n",
       "      <td>8</td>\n",
       "      <td>50</td>\n",
       "      <td>0</td>\n",
       "    </tr>\n",
       "    <tr>\n",
       "      <th>18067</th>\n",
       "      <td>1534</td>\n",
       "      <td>Альберт</td>\n",
       "      <td>25</td>\n",
       "      <td>Краснодар</td>\n",
       "      <td>free</td>\n",
       "      <td>2371.711192</td>\n",
       "      <td>15.893917</td>\n",
       "      <td>2021-12-29</td>\n",
       "      <td>12</td>\n",
       "      <td>8</td>\n",
       "      <td>50</td>\n",
       "      <td>0</td>\n",
       "    </tr>\n",
       "  </tbody>\n",
       "</table>\n",
       "<p>18068 rows × 12 columns</p>\n",
       "</div>"
      ],
      "text/plain": [
       "       user_id     name  age       city subscription_type     distance  \\\n",
       "0            1     Кира   22     Тюмень             ultra  4409.919140   \n",
       "1            1     Кира   22     Тюмень             ultra  2617.592153   \n",
       "2            1     Кира   22     Тюмень             ultra   754.159807   \n",
       "3            1     Кира   22     Тюмень             ultra  2694.783254   \n",
       "4            1     Кира   22     Тюмень             ultra  4028.687306   \n",
       "...        ...      ...  ...        ...               ...          ...   \n",
       "18063     1534  Альберт   25  Краснодар              free  3781.098080   \n",
       "18064     1534  Альберт   25  Краснодар              free  2840.423057   \n",
       "18065     1534  Альберт   25  Краснодар              free  3826.185507   \n",
       "18066     1534  Альберт   25  Краснодар              free  2902.308661   \n",
       "18067     1534  Альберт   25  Краснодар              free  2371.711192   \n",
       "\n",
       "        duration       date  month  minute_price  start_ride_price  \\\n",
       "0      25.599769 2021-01-01      1             6                 0   \n",
       "1      15.816871 2021-01-18      1             6                 0   \n",
       "2       6.232113 2021-04-20      4             6                 0   \n",
       "3      18.511000 2021-08-11      8             6                 0   \n",
       "4      26.265803 2021-08-28      8             6                 0   \n",
       "...          ...        ...    ...           ...               ...   \n",
       "18063  19.822962 2021-11-04     11             8                50   \n",
       "18064  21.409799 2021-11-16     11             8                50   \n",
       "18065  18.435051 2021-11-18     11             8                50   \n",
       "18066  16.674362 2021-11-27     11             8                50   \n",
       "18067  15.893917 2021-12-29     12             8                50   \n",
       "\n",
       "       subscription_fee  \n",
       "0                   199  \n",
       "1                   199  \n",
       "2                   199  \n",
       "3                   199  \n",
       "4                   199  \n",
       "...                 ...  \n",
       "18063                 0  \n",
       "18064                 0  \n",
       "18065                 0  \n",
       "18066                 0  \n",
       "18067                 0  \n",
       "\n",
       "[18068 rows x 12 columns]"
      ]
     },
     "execution_count": 37,
     "metadata": {},
     "output_type": "execute_result"
    }
   ],
   "source": [
    "full_data"
   ]
  },
  {
   "cell_type": "code",
   "execution_count": 38,
   "id": "19022a8e",
   "metadata": {},
   "outputs": [
    {
     "data": {
      "text/html": [
       "<div>\n",
       "<style scoped>\n",
       "    .dataframe tbody tr th:only-of-type {\n",
       "        vertical-align: middle;\n",
       "    }\n",
       "\n",
       "    .dataframe tbody tr th {\n",
       "        vertical-align: top;\n",
       "    }\n",
       "\n",
       "    .dataframe thead th {\n",
       "        text-align: right;\n",
       "    }\n",
       "</style>\n",
       "<table border=\"1\" class=\"dataframe\">\n",
       "  <thead>\n",
       "    <tr style=\"text-align: right;\">\n",
       "      <th></th>\n",
       "      <th>user_id</th>\n",
       "      <th>age</th>\n",
       "      <th>distance</th>\n",
       "      <th>duration</th>\n",
       "      <th>month</th>\n",
       "      <th>minute_price</th>\n",
       "      <th>start_ride_price</th>\n",
       "      <th>subscription_fee</th>\n",
       "    </tr>\n",
       "  </thead>\n",
       "  <tbody>\n",
       "    <tr>\n",
       "      <th>count</th>\n",
       "      <td>18068.000000</td>\n",
       "      <td>18068.000000</td>\n",
       "      <td>18068.000000</td>\n",
       "      <td>18068.000000</td>\n",
       "      <td>18068.000000</td>\n",
       "      <td>18068.000000</td>\n",
       "      <td>18068.000000</td>\n",
       "      <td>18068.000000</td>\n",
       "    </tr>\n",
       "    <tr>\n",
       "      <th>mean</th>\n",
       "      <td>842.869936</td>\n",
       "      <td>24.893071</td>\n",
       "      <td>3070.659976</td>\n",
       "      <td>17.805011</td>\n",
       "      <td>6.486772</td>\n",
       "      <td>7.280496</td>\n",
       "      <td>32.012398</td>\n",
       "      <td>71.590658</td>\n",
       "    </tr>\n",
       "    <tr>\n",
       "      <th>std</th>\n",
       "      <td>434.734317</td>\n",
       "      <td>4.582216</td>\n",
       "      <td>1116.831209</td>\n",
       "      <td>6.091051</td>\n",
       "      <td>3.437410</td>\n",
       "      <td>0.959882</td>\n",
       "      <td>23.997045</td>\n",
       "      <td>95.508238</td>\n",
       "    </tr>\n",
       "    <tr>\n",
       "      <th>min</th>\n",
       "      <td>1.000000</td>\n",
       "      <td>12.000000</td>\n",
       "      <td>0.855683</td>\n",
       "      <td>0.500000</td>\n",
       "      <td>1.000000</td>\n",
       "      <td>6.000000</td>\n",
       "      <td>0.000000</td>\n",
       "      <td>0.000000</td>\n",
       "    </tr>\n",
       "    <tr>\n",
       "      <th>25%</th>\n",
       "      <td>487.000000</td>\n",
       "      <td>22.000000</td>\n",
       "      <td>2543.226360</td>\n",
       "      <td>13.597563</td>\n",
       "      <td>4.000000</td>\n",
       "      <td>6.000000</td>\n",
       "      <td>0.000000</td>\n",
       "      <td>0.000000</td>\n",
       "    </tr>\n",
       "    <tr>\n",
       "      <th>50%</th>\n",
       "      <td>889.000000</td>\n",
       "      <td>25.000000</td>\n",
       "      <td>3133.609994</td>\n",
       "      <td>17.678395</td>\n",
       "      <td>6.000000</td>\n",
       "      <td>8.000000</td>\n",
       "      <td>50.000000</td>\n",
       "      <td>0.000000</td>\n",
       "    </tr>\n",
       "    <tr>\n",
       "      <th>75%</th>\n",
       "      <td>1213.250000</td>\n",
       "      <td>28.000000</td>\n",
       "      <td>3776.222735</td>\n",
       "      <td>21.724800</td>\n",
       "      <td>9.000000</td>\n",
       "      <td>8.000000</td>\n",
       "      <td>50.000000</td>\n",
       "      <td>199.000000</td>\n",
       "    </tr>\n",
       "    <tr>\n",
       "      <th>max</th>\n",
       "      <td>1534.000000</td>\n",
       "      <td>43.000000</td>\n",
       "      <td>7211.007745</td>\n",
       "      <td>40.823963</td>\n",
       "      <td>12.000000</td>\n",
       "      <td>8.000000</td>\n",
       "      <td>50.000000</td>\n",
       "      <td>199.000000</td>\n",
       "    </tr>\n",
       "  </tbody>\n",
       "</table>\n",
       "</div>"
      ],
      "text/plain": [
       "            user_id           age      distance      duration         month  \\\n",
       "count  18068.000000  18068.000000  18068.000000  18068.000000  18068.000000   \n",
       "mean     842.869936     24.893071   3070.659976     17.805011      6.486772   \n",
       "std      434.734317      4.582216   1116.831209      6.091051      3.437410   \n",
       "min        1.000000     12.000000      0.855683      0.500000      1.000000   \n",
       "25%      487.000000     22.000000   2543.226360     13.597563      4.000000   \n",
       "50%      889.000000     25.000000   3133.609994     17.678395      6.000000   \n",
       "75%     1213.250000     28.000000   3776.222735     21.724800      9.000000   \n",
       "max     1534.000000     43.000000   7211.007745     40.823963     12.000000   \n",
       "\n",
       "       minute_price  start_ride_price  subscription_fee  \n",
       "count  18068.000000      18068.000000      18068.000000  \n",
       "mean       7.280496         32.012398         71.590658  \n",
       "std        0.959882         23.997045         95.508238  \n",
       "min        6.000000          0.000000          0.000000  \n",
       "25%        6.000000          0.000000          0.000000  \n",
       "50%        8.000000         50.000000          0.000000  \n",
       "75%        8.000000         50.000000        199.000000  \n",
       "max        8.000000         50.000000        199.000000  "
      ]
     },
     "execution_count": 38,
     "metadata": {},
     "output_type": "execute_result"
    }
   ],
   "source": [
    "full_data.describe()"
   ]
  },
  {
   "cell_type": "markdown",
   "id": "1ee409af",
   "metadata": {},
   "source": [
    "##### Создаем два датафрейма из датафрейма full_data:\n",
    "    - c данными о пользователях без подписки;\n",
    "    - с данными о пользователях с подпиской."
   ]
  },
  {
   "cell_type": "code",
   "execution_count": 39,
   "id": "fd380abc",
   "metadata": {},
   "outputs": [],
   "source": [
    "free_sub = full_data.query(\"`subscription_type` == 'free'\")"
   ]
  },
  {
   "cell_type": "code",
   "execution_count": 40,
   "id": "943a6268",
   "metadata": {},
   "outputs": [
    {
     "data": {
      "text/plain": [
       "11568"
      ]
     },
     "execution_count": 40,
     "metadata": {},
     "output_type": "execute_result"
    }
   ],
   "source": [
    "free_sub.shape[0]"
   ]
  },
  {
   "cell_type": "code",
   "execution_count": 41,
   "id": "e0057d26",
   "metadata": {},
   "outputs": [
    {
     "data": {
      "text/html": [
       "<div>\n",
       "<style scoped>\n",
       "    .dataframe tbody tr th:only-of-type {\n",
       "        vertical-align: middle;\n",
       "    }\n",
       "\n",
       "    .dataframe tbody tr th {\n",
       "        vertical-align: top;\n",
       "    }\n",
       "\n",
       "    .dataframe thead th {\n",
       "        text-align: right;\n",
       "    }\n",
       "</style>\n",
       "<table border=\"1\" class=\"dataframe\">\n",
       "  <thead>\n",
       "    <tr style=\"text-align: right;\">\n",
       "      <th></th>\n",
       "      <th>user_id</th>\n",
       "      <th>name</th>\n",
       "      <th>age</th>\n",
       "      <th>city</th>\n",
       "      <th>subscription_type</th>\n",
       "      <th>distance</th>\n",
       "      <th>duration</th>\n",
       "      <th>date</th>\n",
       "      <th>month</th>\n",
       "      <th>minute_price</th>\n",
       "      <th>start_ride_price</th>\n",
       "      <th>subscription_fee</th>\n",
       "    </tr>\n",
       "  </thead>\n",
       "  <tbody>\n",
       "    <tr>\n",
       "      <th>6500</th>\n",
       "      <td>700</td>\n",
       "      <td>Айдар</td>\n",
       "      <td>22</td>\n",
       "      <td>Омск</td>\n",
       "      <td>free</td>\n",
       "      <td>2515.690719</td>\n",
       "      <td>14.944286</td>\n",
       "      <td>2021-01-02</td>\n",
       "      <td>1</td>\n",
       "      <td>8</td>\n",
       "      <td>50</td>\n",
       "      <td>0</td>\n",
       "    </tr>\n",
       "    <tr>\n",
       "      <th>6501</th>\n",
       "      <td>700</td>\n",
       "      <td>Айдар</td>\n",
       "      <td>22</td>\n",
       "      <td>Омск</td>\n",
       "      <td>free</td>\n",
       "      <td>846.932642</td>\n",
       "      <td>16.234663</td>\n",
       "      <td>2021-02-01</td>\n",
       "      <td>2</td>\n",
       "      <td>8</td>\n",
       "      <td>50</td>\n",
       "      <td>0</td>\n",
       "    </tr>\n",
       "    <tr>\n",
       "      <th>6502</th>\n",
       "      <td>700</td>\n",
       "      <td>Айдар</td>\n",
       "      <td>22</td>\n",
       "      <td>Омск</td>\n",
       "      <td>free</td>\n",
       "      <td>4004.434142</td>\n",
       "      <td>20.016628</td>\n",
       "      <td>2021-02-04</td>\n",
       "      <td>2</td>\n",
       "      <td>8</td>\n",
       "      <td>50</td>\n",
       "      <td>0</td>\n",
       "    </tr>\n",
       "    <tr>\n",
       "      <th>6503</th>\n",
       "      <td>700</td>\n",
       "      <td>Айдар</td>\n",
       "      <td>22</td>\n",
       "      <td>Омск</td>\n",
       "      <td>free</td>\n",
       "      <td>1205.911290</td>\n",
       "      <td>9.782872</td>\n",
       "      <td>2021-02-10</td>\n",
       "      <td>2</td>\n",
       "      <td>8</td>\n",
       "      <td>50</td>\n",
       "      <td>0</td>\n",
       "    </tr>\n",
       "    <tr>\n",
       "      <th>6504</th>\n",
       "      <td>700</td>\n",
       "      <td>Айдар</td>\n",
       "      <td>22</td>\n",
       "      <td>Омск</td>\n",
       "      <td>free</td>\n",
       "      <td>3047.379435</td>\n",
       "      <td>17.427673</td>\n",
       "      <td>2021-02-14</td>\n",
       "      <td>2</td>\n",
       "      <td>8</td>\n",
       "      <td>50</td>\n",
       "      <td>0</td>\n",
       "    </tr>\n",
       "    <tr>\n",
       "      <th>...</th>\n",
       "      <td>...</td>\n",
       "      <td>...</td>\n",
       "      <td>...</td>\n",
       "      <td>...</td>\n",
       "      <td>...</td>\n",
       "      <td>...</td>\n",
       "      <td>...</td>\n",
       "      <td>...</td>\n",
       "      <td>...</td>\n",
       "      <td>...</td>\n",
       "      <td>...</td>\n",
       "      <td>...</td>\n",
       "    </tr>\n",
       "    <tr>\n",
       "      <th>18063</th>\n",
       "      <td>1534</td>\n",
       "      <td>Альберт</td>\n",
       "      <td>25</td>\n",
       "      <td>Краснодар</td>\n",
       "      <td>free</td>\n",
       "      <td>3781.098080</td>\n",
       "      <td>19.822962</td>\n",
       "      <td>2021-11-04</td>\n",
       "      <td>11</td>\n",
       "      <td>8</td>\n",
       "      <td>50</td>\n",
       "      <td>0</td>\n",
       "    </tr>\n",
       "    <tr>\n",
       "      <th>18064</th>\n",
       "      <td>1534</td>\n",
       "      <td>Альберт</td>\n",
       "      <td>25</td>\n",
       "      <td>Краснодар</td>\n",
       "      <td>free</td>\n",
       "      <td>2840.423057</td>\n",
       "      <td>21.409799</td>\n",
       "      <td>2021-11-16</td>\n",
       "      <td>11</td>\n",
       "      <td>8</td>\n",
       "      <td>50</td>\n",
       "      <td>0</td>\n",
       "    </tr>\n",
       "    <tr>\n",
       "      <th>18065</th>\n",
       "      <td>1534</td>\n",
       "      <td>Альберт</td>\n",
       "      <td>25</td>\n",
       "      <td>Краснодар</td>\n",
       "      <td>free</td>\n",
       "      <td>3826.185507</td>\n",
       "      <td>18.435051</td>\n",
       "      <td>2021-11-18</td>\n",
       "      <td>11</td>\n",
       "      <td>8</td>\n",
       "      <td>50</td>\n",
       "      <td>0</td>\n",
       "    </tr>\n",
       "    <tr>\n",
       "      <th>18066</th>\n",
       "      <td>1534</td>\n",
       "      <td>Альберт</td>\n",
       "      <td>25</td>\n",
       "      <td>Краснодар</td>\n",
       "      <td>free</td>\n",
       "      <td>2902.308661</td>\n",
       "      <td>16.674362</td>\n",
       "      <td>2021-11-27</td>\n",
       "      <td>11</td>\n",
       "      <td>8</td>\n",
       "      <td>50</td>\n",
       "      <td>0</td>\n",
       "    </tr>\n",
       "    <tr>\n",
       "      <th>18067</th>\n",
       "      <td>1534</td>\n",
       "      <td>Альберт</td>\n",
       "      <td>25</td>\n",
       "      <td>Краснодар</td>\n",
       "      <td>free</td>\n",
       "      <td>2371.711192</td>\n",
       "      <td>15.893917</td>\n",
       "      <td>2021-12-29</td>\n",
       "      <td>12</td>\n",
       "      <td>8</td>\n",
       "      <td>50</td>\n",
       "      <td>0</td>\n",
       "    </tr>\n",
       "  </tbody>\n",
       "</table>\n",
       "<p>11568 rows × 12 columns</p>\n",
       "</div>"
      ],
      "text/plain": [
       "       user_id     name  age       city subscription_type     distance  \\\n",
       "6500       700    Айдар   22       Омск              free  2515.690719   \n",
       "6501       700    Айдар   22       Омск              free   846.932642   \n",
       "6502       700    Айдар   22       Омск              free  4004.434142   \n",
       "6503       700    Айдар   22       Омск              free  1205.911290   \n",
       "6504       700    Айдар   22       Омск              free  3047.379435   \n",
       "...        ...      ...  ...        ...               ...          ...   \n",
       "18063     1534  Альберт   25  Краснодар              free  3781.098080   \n",
       "18064     1534  Альберт   25  Краснодар              free  2840.423057   \n",
       "18065     1534  Альберт   25  Краснодар              free  3826.185507   \n",
       "18066     1534  Альберт   25  Краснодар              free  2902.308661   \n",
       "18067     1534  Альберт   25  Краснодар              free  2371.711192   \n",
       "\n",
       "        duration       date  month  minute_price  start_ride_price  \\\n",
       "6500   14.944286 2021-01-02      1             8                50   \n",
       "6501   16.234663 2021-02-01      2             8                50   \n",
       "6502   20.016628 2021-02-04      2             8                50   \n",
       "6503    9.782872 2021-02-10      2             8                50   \n",
       "6504   17.427673 2021-02-14      2             8                50   \n",
       "...          ...        ...    ...           ...               ...   \n",
       "18063  19.822962 2021-11-04     11             8                50   \n",
       "18064  21.409799 2021-11-16     11             8                50   \n",
       "18065  18.435051 2021-11-18     11             8                50   \n",
       "18066  16.674362 2021-11-27     11             8                50   \n",
       "18067  15.893917 2021-12-29     12             8                50   \n",
       "\n",
       "       subscription_fee  \n",
       "6500                  0  \n",
       "6501                  0  \n",
       "6502                  0  \n",
       "6503                  0  \n",
       "6504                  0  \n",
       "...                 ...  \n",
       "18063                 0  \n",
       "18064                 0  \n",
       "18065                 0  \n",
       "18066                 0  \n",
       "18067                 0  \n",
       "\n",
       "[11568 rows x 12 columns]"
      ]
     },
     "execution_count": 41,
     "metadata": {},
     "output_type": "execute_result"
    }
   ],
   "source": [
    "free_sub"
   ]
  },
  {
   "cell_type": "code",
   "execution_count": 42,
   "id": "13315532",
   "metadata": {},
   "outputs": [],
   "source": [
    "ultra_sub = full_data.query(\"`subscription_type` == 'ultra'\")"
   ]
  },
  {
   "cell_type": "code",
   "execution_count": 43,
   "id": "1d610f95",
   "metadata": {},
   "outputs": [
    {
     "data": {
      "text/plain": [
       "6500"
      ]
     },
     "execution_count": 43,
     "metadata": {},
     "output_type": "execute_result"
    }
   ],
   "source": [
    "ultra_sub.shape[0]"
   ]
  },
  {
   "cell_type": "code",
   "execution_count": 44,
   "id": "0ecf4f35",
   "metadata": {},
   "outputs": [
    {
     "data": {
      "text/html": [
       "<div>\n",
       "<style scoped>\n",
       "    .dataframe tbody tr th:only-of-type {\n",
       "        vertical-align: middle;\n",
       "    }\n",
       "\n",
       "    .dataframe tbody tr th {\n",
       "        vertical-align: top;\n",
       "    }\n",
       "\n",
       "    .dataframe thead th {\n",
       "        text-align: right;\n",
       "    }\n",
       "</style>\n",
       "<table border=\"1\" class=\"dataframe\">\n",
       "  <thead>\n",
       "    <tr style=\"text-align: right;\">\n",
       "      <th></th>\n",
       "      <th>user_id</th>\n",
       "      <th>name</th>\n",
       "      <th>age</th>\n",
       "      <th>city</th>\n",
       "      <th>subscription_type</th>\n",
       "      <th>distance</th>\n",
       "      <th>duration</th>\n",
       "      <th>date</th>\n",
       "      <th>month</th>\n",
       "      <th>minute_price</th>\n",
       "      <th>start_ride_price</th>\n",
       "      <th>subscription_fee</th>\n",
       "    </tr>\n",
       "  </thead>\n",
       "  <tbody>\n",
       "    <tr>\n",
       "      <th>0</th>\n",
       "      <td>1</td>\n",
       "      <td>Кира</td>\n",
       "      <td>22</td>\n",
       "      <td>Тюмень</td>\n",
       "      <td>ultra</td>\n",
       "      <td>4409.919140</td>\n",
       "      <td>25.599769</td>\n",
       "      <td>2021-01-01</td>\n",
       "      <td>1</td>\n",
       "      <td>6</td>\n",
       "      <td>0</td>\n",
       "      <td>199</td>\n",
       "    </tr>\n",
       "    <tr>\n",
       "      <th>1</th>\n",
       "      <td>1</td>\n",
       "      <td>Кира</td>\n",
       "      <td>22</td>\n",
       "      <td>Тюмень</td>\n",
       "      <td>ultra</td>\n",
       "      <td>2617.592153</td>\n",
       "      <td>15.816871</td>\n",
       "      <td>2021-01-18</td>\n",
       "      <td>1</td>\n",
       "      <td>6</td>\n",
       "      <td>0</td>\n",
       "      <td>199</td>\n",
       "    </tr>\n",
       "    <tr>\n",
       "      <th>2</th>\n",
       "      <td>1</td>\n",
       "      <td>Кира</td>\n",
       "      <td>22</td>\n",
       "      <td>Тюмень</td>\n",
       "      <td>ultra</td>\n",
       "      <td>754.159807</td>\n",
       "      <td>6.232113</td>\n",
       "      <td>2021-04-20</td>\n",
       "      <td>4</td>\n",
       "      <td>6</td>\n",
       "      <td>0</td>\n",
       "      <td>199</td>\n",
       "    </tr>\n",
       "    <tr>\n",
       "      <th>3</th>\n",
       "      <td>1</td>\n",
       "      <td>Кира</td>\n",
       "      <td>22</td>\n",
       "      <td>Тюмень</td>\n",
       "      <td>ultra</td>\n",
       "      <td>2694.783254</td>\n",
       "      <td>18.511000</td>\n",
       "      <td>2021-08-11</td>\n",
       "      <td>8</td>\n",
       "      <td>6</td>\n",
       "      <td>0</td>\n",
       "      <td>199</td>\n",
       "    </tr>\n",
       "    <tr>\n",
       "      <th>4</th>\n",
       "      <td>1</td>\n",
       "      <td>Кира</td>\n",
       "      <td>22</td>\n",
       "      <td>Тюмень</td>\n",
       "      <td>ultra</td>\n",
       "      <td>4028.687306</td>\n",
       "      <td>26.265803</td>\n",
       "      <td>2021-08-28</td>\n",
       "      <td>8</td>\n",
       "      <td>6</td>\n",
       "      <td>0</td>\n",
       "      <td>199</td>\n",
       "    </tr>\n",
       "    <tr>\n",
       "      <th>...</th>\n",
       "      <td>...</td>\n",
       "      <td>...</td>\n",
       "      <td>...</td>\n",
       "      <td>...</td>\n",
       "      <td>...</td>\n",
       "      <td>...</td>\n",
       "      <td>...</td>\n",
       "      <td>...</td>\n",
       "      <td>...</td>\n",
       "      <td>...</td>\n",
       "      <td>...</td>\n",
       "      <td>...</td>\n",
       "    </tr>\n",
       "    <tr>\n",
       "      <th>6495</th>\n",
       "      <td>699</td>\n",
       "      <td>Оксана</td>\n",
       "      <td>22</td>\n",
       "      <td>Москва</td>\n",
       "      <td>ultra</td>\n",
       "      <td>3973.046497</td>\n",
       "      <td>24.671163</td>\n",
       "      <td>2021-08-29</td>\n",
       "      <td>8</td>\n",
       "      <td>6</td>\n",
       "      <td>0</td>\n",
       "      <td>199</td>\n",
       "    </tr>\n",
       "    <tr>\n",
       "      <th>6496</th>\n",
       "      <td>699</td>\n",
       "      <td>Оксана</td>\n",
       "      <td>22</td>\n",
       "      <td>Москва</td>\n",
       "      <td>ultra</td>\n",
       "      <td>3288.702563</td>\n",
       "      <td>15.892886</td>\n",
       "      <td>2021-09-12</td>\n",
       "      <td>9</td>\n",
       "      <td>6</td>\n",
       "      <td>0</td>\n",
       "      <td>199</td>\n",
       "    </tr>\n",
       "    <tr>\n",
       "      <th>6497</th>\n",
       "      <td>699</td>\n",
       "      <td>Оксана</td>\n",
       "      <td>22</td>\n",
       "      <td>Москва</td>\n",
       "      <td>ultra</td>\n",
       "      <td>3076.159348</td>\n",
       "      <td>14.389525</td>\n",
       "      <td>2021-09-26</td>\n",
       "      <td>9</td>\n",
       "      <td>6</td>\n",
       "      <td>0</td>\n",
       "      <td>199</td>\n",
       "    </tr>\n",
       "    <tr>\n",
       "      <th>6498</th>\n",
       "      <td>699</td>\n",
       "      <td>Оксана</td>\n",
       "      <td>22</td>\n",
       "      <td>Москва</td>\n",
       "      <td>ultra</td>\n",
       "      <td>4707.845501</td>\n",
       "      <td>15.839579</td>\n",
       "      <td>2021-10-17</td>\n",
       "      <td>10</td>\n",
       "      <td>6</td>\n",
       "      <td>0</td>\n",
       "      <td>199</td>\n",
       "    </tr>\n",
       "    <tr>\n",
       "      <th>6499</th>\n",
       "      <td>699</td>\n",
       "      <td>Оксана</td>\n",
       "      <td>22</td>\n",
       "      <td>Москва</td>\n",
       "      <td>ultra</td>\n",
       "      <td>3202.890770</td>\n",
       "      <td>25.217345</td>\n",
       "      <td>2021-12-03</td>\n",
       "      <td>12</td>\n",
       "      <td>6</td>\n",
       "      <td>0</td>\n",
       "      <td>199</td>\n",
       "    </tr>\n",
       "  </tbody>\n",
       "</table>\n",
       "<p>6500 rows × 12 columns</p>\n",
       "</div>"
      ],
      "text/plain": [
       "      user_id    name  age    city subscription_type     distance   duration  \\\n",
       "0           1    Кира   22  Тюмень             ultra  4409.919140  25.599769   \n",
       "1           1    Кира   22  Тюмень             ultra  2617.592153  15.816871   \n",
       "2           1    Кира   22  Тюмень             ultra   754.159807   6.232113   \n",
       "3           1    Кира   22  Тюмень             ultra  2694.783254  18.511000   \n",
       "4           1    Кира   22  Тюмень             ultra  4028.687306  26.265803   \n",
       "...       ...     ...  ...     ...               ...          ...        ...   \n",
       "6495      699  Оксана   22  Москва             ultra  3973.046497  24.671163   \n",
       "6496      699  Оксана   22  Москва             ultra  3288.702563  15.892886   \n",
       "6497      699  Оксана   22  Москва             ultra  3076.159348  14.389525   \n",
       "6498      699  Оксана   22  Москва             ultra  4707.845501  15.839579   \n",
       "6499      699  Оксана   22  Москва             ultra  3202.890770  25.217345   \n",
       "\n",
       "           date  month  minute_price  start_ride_price  subscription_fee  \n",
       "0    2021-01-01      1             6                 0               199  \n",
       "1    2021-01-18      1             6                 0               199  \n",
       "2    2021-04-20      4             6                 0               199  \n",
       "3    2021-08-11      8             6                 0               199  \n",
       "4    2021-08-28      8             6                 0               199  \n",
       "...         ...    ...           ...               ...               ...  \n",
       "6495 2021-08-29      8             6                 0               199  \n",
       "6496 2021-09-12      9             6                 0               199  \n",
       "6497 2021-09-26      9             6                 0               199  \n",
       "6498 2021-10-17     10             6                 0               199  \n",
       "6499 2021-12-03     12             6                 0               199  \n",
       "\n",
       "[6500 rows x 12 columns]"
      ]
     },
     "execution_count": 44,
     "metadata": {},
     "output_type": "execute_result"
    }
   ],
   "source": [
    "ultra_sub"
   ]
  },
  {
   "cell_type": "markdown",
   "id": "b7ff34fa",
   "metadata": {},
   "source": [
    "##### Визуализируем информацию о расстоянии и времени поездок для пользователей обеих категорий."
   ]
  },
  {
   "cell_type": "markdown",
   "id": "cfe6171d",
   "metadata": {},
   "source": [
    "Расстояние для обоих видов подписки:"
   ]
  },
  {
   "cell_type": "code",
   "execution_count": 45,
   "id": "b95c6682",
   "metadata": {},
   "outputs": [
    {
     "data": {
      "image/png": "[encoded data removed]",
      "text/plain": [
       "<Figure size 720x504 with 1 Axes>"
      ]
     },
     "metadata": {
      "needs_background": "light"
     },
     "output_type": "display_data"
    }
   ],
   "source": [
    "plt.figure(figsize=(10,7))\n",
    "plt.hist(free_sub['distance'], label=\"free\", alpha=0.8, edgecolor='darkblue')\n",
    "plt.hist(ultra_sub['distance'], label=\"ultra\", alpha=0.6, edgecolor='orange')\n",
    "plt.title('Время поездок для пользователей бесплатного и платного тарифов')\n",
    "plt.xlabel('Расстояние, м')\n",
    "plt.ylabel('Количество поездок')\n",
    "plt.show()"
   ]
  },
  {
   "cell_type": "markdown",
   "id": "109632ad",
   "metadata": {},
   "source": [
    "Расстояние для обоих видов подписки:"
   ]
  },
  {
   "cell_type": "code",
   "execution_count": 46,
   "id": "a2b2621a",
   "metadata": {
    "scrolled": true
   },
   "outputs": [
    {
     "data": {
      "image/png": "[encoded data removed]",
      "text/plain": [
       "<Figure size 720x504 with 1 Axes>"
      ]
     },
     "metadata": {
      "needs_background": "light"
     },
     "output_type": "display_data"
    }
   ],
   "source": [
    "plt.figure(figsize=(10,7))\n",
    "plt.hist(free_sub['duration'], label=\"free\", alpha=0.8, edgecolor='darkblue')\n",
    "plt.hist(ultra_sub['duration'], label=\"ultra\", alpha=0.6, edgecolor='orange')\n",
    "plt.title('Расстояние поездок для пользователей бесплатного и платного тарифов')\n",
    "plt.xlabel('Время, мин')\n",
    "plt.ylabel('Количество поездок')\n",
    "plt.show()"
   ]
  },
  {
   "cell_type": "markdown",
   "id": "9e818f36",
   "metadata": {},
   "source": [
    "**Выводы:**\n",
    "- Проведено объединение данных о пользователях, поездках и тарифах в один датафрейм - full_data.\n",
    "- Из общего датафрейма выделили \n",
    "   - free_sub - Информация о пользователях с бесплатным тарифом\n",
    "   - ultra_sub - Информация о пользователях с платным тарифом\n",
    "- Визуализирована информация о расстоянии и времени для каждого из тарифов.\n",
    "\n",
    "- Для платного тарифа время поездки составляет от 10 до 30 минут и проезжают от 2 до 5 км\n",
    "- Для бесплатного тарифа в основном время укладывается в промежуток от 5 до 35 минут. Большая часть поездок приходится на расстояния от 3 до 6 км.\n",
    "\n",
    "Можно подытожить, что пользователи с бесплатным тарифом в целом совершают более долгие поездки, а также проезжают большие расстояния, чем пользователи на платном тарифе.\n"
   ]
  },
  {
   "cell_type": "markdown",
   "id": "402d620f",
   "metadata": {},
   "source": [
    "#### Шаг 5. Подсчёт выручки"
   ]
  },
  {
   "cell_type": "markdown",
   "id": "c13790b5",
   "metadata": {},
   "source": [
    "##### Создаем датафрейм с агрегированными данными о поездках на основе датафрейма с объединёнными данными из шага 4:  суммарное расстояние, суммарное количество поездок и суммарное время для каждого пользователя за каждый месяц."
   ]
  },
  {
   "cell_type": "code",
   "execution_count": 47,
   "id": "470ac035",
   "metadata": {},
   "outputs": [],
   "source": [
    "total_data = pd.pivot_table(full_data,\n",
    "                           index=['month', 'user_id'],\n",
    "                           values = ['distance', 'duration', 'name', 'subscription_type'],\n",
    "                           aggfunc = {'distance': sum, 'duration' : sum, 'name':len,\n",
    "                                       'subscription_type' : min})"
   ]
  },
  {
   "cell_type": "code",
   "execution_count": 48,
   "id": "6f6ed230",
   "metadata": {},
   "outputs": [
    {
     "data": {
      "text/html": [
       "<div>\n",
       "<style scoped>\n",
       "    .dataframe tbody tr th:only-of-type {\n",
       "        vertical-align: middle;\n",
       "    }\n",
       "\n",
       "    .dataframe tbody tr th {\n",
       "        vertical-align: top;\n",
       "    }\n",
       "\n",
       "    .dataframe thead th {\n",
       "        text-align: right;\n",
       "    }\n",
       "</style>\n",
       "<table border=\"1\" class=\"dataframe\">\n",
       "  <thead>\n",
       "    <tr style=\"text-align: right;\">\n",
       "      <th></th>\n",
       "      <th></th>\n",
       "      <th>distance</th>\n",
       "      <th>duration</th>\n",
       "      <th>name</th>\n",
       "      <th>subscription_type</th>\n",
       "    </tr>\n",
       "    <tr>\n",
       "      <th>month</th>\n",
       "      <th>user_id</th>\n",
       "      <th></th>\n",
       "      <th></th>\n",
       "      <th></th>\n",
       "      <th></th>\n",
       "    </tr>\n",
       "  </thead>\n",
       "  <tbody>\n",
       "    <tr>\n",
       "      <th rowspan=\"5\" valign=\"top\">1</th>\n",
       "      <th>1</th>\n",
       "      <td>7027.511294</td>\n",
       "      <td>41.416640</td>\n",
       "      <td>2</td>\n",
       "      <td>ultra</td>\n",
       "    </tr>\n",
       "    <tr>\n",
       "      <th>3</th>\n",
       "      <td>3061.777147</td>\n",
       "      <td>12.654443</td>\n",
       "      <td>1</td>\n",
       "      <td>ultra</td>\n",
       "    </tr>\n",
       "    <tr>\n",
       "      <th>5</th>\n",
       "      <td>3914.646990</td>\n",
       "      <td>12.395153</td>\n",
       "      <td>1</td>\n",
       "      <td>ultra</td>\n",
       "    </tr>\n",
       "    <tr>\n",
       "      <th>7</th>\n",
       "      <td>6478.080979</td>\n",
       "      <td>27.653450</td>\n",
       "      <td>2</td>\n",
       "      <td>ultra</td>\n",
       "    </tr>\n",
       "    <tr>\n",
       "      <th>12</th>\n",
       "      <td>3577.151148</td>\n",
       "      <td>32.462907</td>\n",
       "      <td>1</td>\n",
       "      <td>ultra</td>\n",
       "    </tr>\n",
       "    <tr>\n",
       "      <th>...</th>\n",
       "      <th>...</th>\n",
       "      <td>...</td>\n",
       "      <td>...</td>\n",
       "      <td>...</td>\n",
       "      <td>...</td>\n",
       "    </tr>\n",
       "    <tr>\n",
       "      <th rowspan=\"5\" valign=\"top\">12</th>\n",
       "      <th>1525</th>\n",
       "      <td>4597.854350</td>\n",
       "      <td>33.220866</td>\n",
       "      <td>1</td>\n",
       "      <td>free</td>\n",
       "    </tr>\n",
       "    <tr>\n",
       "      <th>1526</th>\n",
       "      <td>3644.121544</td>\n",
       "      <td>22.665456</td>\n",
       "      <td>1</td>\n",
       "      <td>free</td>\n",
       "    </tr>\n",
       "    <tr>\n",
       "      <th>1528</th>\n",
       "      <td>3998.569324</td>\n",
       "      <td>10.272902</td>\n",
       "      <td>1</td>\n",
       "      <td>free</td>\n",
       "    </tr>\n",
       "    <tr>\n",
       "      <th>1532</th>\n",
       "      <td>6111.889853</td>\n",
       "      <td>40.128222</td>\n",
       "      <td>2</td>\n",
       "      <td>free</td>\n",
       "    </tr>\n",
       "    <tr>\n",
       "      <th>1534</th>\n",
       "      <td>2371.711192</td>\n",
       "      <td>15.893917</td>\n",
       "      <td>1</td>\n",
       "      <td>free</td>\n",
       "    </tr>\n",
       "  </tbody>\n",
       "</table>\n",
       "<p>11331 rows × 4 columns</p>\n",
       "</div>"
      ],
      "text/plain": [
       "                  distance   duration  name subscription_type\n",
       "month user_id                                                \n",
       "1     1        7027.511294  41.416640     2             ultra\n",
       "      3        3061.777147  12.654443     1             ultra\n",
       "      5        3914.646990  12.395153     1             ultra\n",
       "      7        6478.080979  27.653450     2             ultra\n",
       "      12       3577.151148  32.462907     1             ultra\n",
       "...                    ...        ...   ...               ...\n",
       "12    1525     4597.854350  33.220866     1              free\n",
       "      1526     3644.121544  22.665456     1              free\n",
       "      1528     3998.569324  10.272902     1              free\n",
       "      1532     6111.889853  40.128222     2              free\n",
       "      1534     2371.711192  15.893917     1              free\n",
       "\n",
       "[11331 rows x 4 columns]"
      ]
     },
     "execution_count": 48,
     "metadata": {},
     "output_type": "execute_result"
    }
   ],
   "source": [
    "total_data"
   ]
  },
  {
   "cell_type": "markdown",
   "id": "49ce1ac6",
   "metadata": {},
   "source": [
    "##### В датафрейм добавляем столбец с помесячной выручкой, которую принёс каждый пользователь. "
   ]
  },
  {
   "cell_type": "markdown",
   "id": "8b7ffbc7",
   "metadata": {},
   "source": [
    "Округляем значение продолжительности поездки."
   ]
  },
  {
   "cell_type": "code",
   "execution_count": 49,
   "id": "3b650331",
   "metadata": {},
   "outputs": [],
   "source": [
    "data_riders['duration'] = np.ceil(data_riders['duration']) "
   ]
  },
  {
   "cell_type": "markdown",
   "id": "82a9fcc6",
   "metadata": {},
   "source": [
    "Создаем функцию для расчета выручки для каждого из тарифов, а затем добавляем столбец с рассчитанными данными в датафрейм."
   ]
  },
  {
   "cell_type": "code",
   "execution_count": 50,
   "id": "b6cc995e",
   "metadata": {},
   "outputs": [],
   "source": [
    "def gain(row):\n",
    "    if row['subscription_type'] == 'ultra':\n",
    "        return row['duration']*6 + 199\n",
    "    elif row['subscription_type'] == 'free':\n",
    "        return row['duration']*8 + 50 * row['name']\n",
    "    else:\n",
    "        return 'Нет такого типа данных'"
   ]
  },
  {
   "cell_type": "code",
   "execution_count": 51,
   "id": "0f71f39f",
   "metadata": {},
   "outputs": [],
   "source": [
    "total_data['gain_per_month'] = total_data.apply(gain, axis=1)"
   ]
  },
  {
   "cell_type": "markdown",
   "id": "6f1ddc51",
   "metadata": {},
   "source": [
    "Проверим выборку для пользователя с user_id=1"
   ]
  },
  {
   "cell_type": "code",
   "execution_count": 52,
   "id": "6b70771e",
   "metadata": {},
   "outputs": [
    {
     "data": {
      "text/html": [
       "<div>\n",
       "<style scoped>\n",
       "    .dataframe tbody tr th:only-of-type {\n",
       "        vertical-align: middle;\n",
       "    }\n",
       "\n",
       "    .dataframe tbody tr th {\n",
       "        vertical-align: top;\n",
       "    }\n",
       "\n",
       "    .dataframe thead th {\n",
       "        text-align: right;\n",
       "    }\n",
       "</style>\n",
       "<table border=\"1\" class=\"dataframe\">\n",
       "  <thead>\n",
       "    <tr style=\"text-align: right;\">\n",
       "      <th></th>\n",
       "      <th></th>\n",
       "      <th>distance</th>\n",
       "      <th>duration</th>\n",
       "      <th>name</th>\n",
       "      <th>subscription_type</th>\n",
       "      <th>gain_per_month</th>\n",
       "    </tr>\n",
       "    <tr>\n",
       "      <th>month</th>\n",
       "      <th>user_id</th>\n",
       "      <th></th>\n",
       "      <th></th>\n",
       "      <th></th>\n",
       "      <th></th>\n",
       "      <th></th>\n",
       "    </tr>\n",
       "  </thead>\n",
       "  <tbody>\n",
       "    <tr>\n",
       "      <th>1</th>\n",
       "      <th>1</th>\n",
       "      <td>7027.511294</td>\n",
       "      <td>41.416640</td>\n",
       "      <td>2</td>\n",
       "      <td>ultra</td>\n",
       "      <td>447.499843</td>\n",
       "    </tr>\n",
       "    <tr>\n",
       "      <th>4</th>\n",
       "      <th>1</th>\n",
       "      <td>754.159807</td>\n",
       "      <td>6.232113</td>\n",
       "      <td>1</td>\n",
       "      <td>ultra</td>\n",
       "      <td>236.392681</td>\n",
       "    </tr>\n",
       "    <tr>\n",
       "      <th>8</th>\n",
       "      <th>1</th>\n",
       "      <td>6723.470560</td>\n",
       "      <td>44.776802</td>\n",
       "      <td>2</td>\n",
       "      <td>ultra</td>\n",
       "      <td>467.660815</td>\n",
       "    </tr>\n",
       "    <tr>\n",
       "      <th>10</th>\n",
       "      <th>1</th>\n",
       "      <td>5809.911100</td>\n",
       "      <td>31.578017</td>\n",
       "      <td>2</td>\n",
       "      <td>ultra</td>\n",
       "      <td>388.468102</td>\n",
       "    </tr>\n",
       "    <tr>\n",
       "      <th>11</th>\n",
       "      <th>1</th>\n",
       "      <td>7003.499363</td>\n",
       "      <td>53.397424</td>\n",
       "      <td>3</td>\n",
       "      <td>ultra</td>\n",
       "      <td>519.384541</td>\n",
       "    </tr>\n",
       "    <tr>\n",
       "      <th>12</th>\n",
       "      <th>1</th>\n",
       "      <td>6751.629942</td>\n",
       "      <td>27.203912</td>\n",
       "      <td>2</td>\n",
       "      <td>ultra</td>\n",
       "      <td>362.223471</td>\n",
       "    </tr>\n",
       "  </tbody>\n",
       "</table>\n",
       "</div>"
      ],
      "text/plain": [
       "                  distance   duration  name subscription_type  gain_per_month\n",
       "month user_id                                                                \n",
       "1     1        7027.511294  41.416640     2             ultra      447.499843\n",
       "4     1         754.159807   6.232113     1             ultra      236.392681\n",
       "8     1        6723.470560  44.776802     2             ultra      467.660815\n",
       "10    1        5809.911100  31.578017     2             ultra      388.468102\n",
       "11    1        7003.499363  53.397424     3             ultra      519.384541\n",
       "12    1        6751.629942  27.203912     2             ultra      362.223471"
      ]
     },
     "execution_count": 52,
     "metadata": {},
     "output_type": "execute_result"
    }
   ],
   "source": [
    "total_data.query('user_id == 1')"
   ]
  },
  {
   "cell_type": "markdown",
   "id": "8a98fe92",
   "metadata": {},
   "source": [
    "**Выводы:**\n",
    "Создан новый датафрейм с агрегированными данными total_data на основе датафрейма с объединенными данными full_data.\n",
    "\n",
    "Найдено суммарное расстояние, количество поездок и суммарное время для каждого пользователя за каждый месяц. Добавлен столбец с помесячной выручкой, которую принес каждый пользователь."
   ]
  },
  {
   "cell_type": "markdown",
   "id": "41545ac0",
   "metadata": {},
   "source": [
    "#### Шаг 6. Проверка гипотез"
   ]
  },
  {
   "cell_type": "markdown",
   "id": "1c93a70b",
   "metadata": {},
   "source": [
    "Продакт-менеджеры сервиса хотят увеличить количество пользователей с подпиской. Для этого они будут проводить различные акции, но сначала нужно выяснить несколько важных моментов."
   ]
  },
  {
   "cell_type": "markdown",
   "id": "db9b060a",
   "metadata": {},
   "source": [
    "##### Тратят ли пользователи с подпиской больше времени на поездки? \n",
    "\n",
    "Важно понять, тратят ли пользователи с подпиской больше времени на поездки?\n",
    "\n",
    "Если да, то пользователи с подпиской могут быть «выгоднее» для компании. Проверим гипотезу. Используем исходные данные о продолжительности каждой сессии — отдельно для подписчиков и тех, у кого нет подписки.\n",
    "\n",
    "Проверим гипотезу: пользователи с подпиской тратят больше времени на поездки, чем пользователи без подписки.\n",
    "\n",
    "- H0: Время (duration) пользователей на подписке ultra = время (duration) пользователей на подписке free\n",
    "- H1: Время (duration) пользователей на подписке ultra > время (duration) пользователей на подписке free"
   ]
  },
  {
   "cell_type": "code",
   "execution_count": 53,
   "id": "65743811",
   "metadata": {},
   "outputs": [
    {
     "name": "stdout",
     "output_type": "stream",
     "text": [
      "p-значение: 1.2804098316645618e-34\n",
      "Отвергаем нулевую гипотезу\n",
      "Cредняя оценка длительности поездки тариф ultra: 18.54198516280583\n",
      "Cредняя оценка длительности поездки тариф free: 17.39090929866399\n"
     ]
    }
   ],
   "source": [
    "ultra = ultra_sub['duration'] \n",
    "free = free_sub['duration']\n",
    "alpha = 0.05\n",
    "\n",
    "results = st.ttest_ind(ultra, \n",
    "                       free,\n",
    "                       alternative = 'greater')\n",
    "print('p-значение:',results.pvalue)\n",
    "\n",
    "if results.pvalue < alpha:\n",
    "    print('Отвергаем нулевую гипотезу')\n",
    "else:\n",
    "    print('Не удалось отвергнуть нулевую гипотезу')\n",
    "    \n",
    "ultra_results1 = ultra_sub['duration'].mean()\n",
    "free_results1 = free_sub['duration'].mean()\n",
    "\n",
    "print('Cредняя оценка длительности поездки тариф ultra:',ultra_results1) \n",
    "print('Cредняя оценка длительности поездки тариф free:',free_results1) "
   ]
  },
  {
   "cell_type": "code",
   "execution_count": 54,
   "id": "ce79d59a",
   "metadata": {},
   "outputs": [
    {
     "data": {
      "text/plain": [
       "[Text(0.5, 0, 'Номер месяца'), Text(0, 0.5, 'Продолжительность поездок')]"
      ]
     },
     "execution_count": 54,
     "metadata": {},
     "output_type": "execute_result"
    },
    {
     "data": {
      "image/png": "[encoded data removed]",
      "text/plain": [
       "<Figure size 432x288 with 1 Axes>"
      ]
     },
     "metadata": {
      "needs_background": "light"
     },
     "output_type": "display_data"
    }
   ],
   "source": [
    "table_1 = sns.barplot(x = 'month',\n",
    "            y = 'duration',\n",
    "            hue = \"subscription_type\",\n",
    "            data = full_data,\n",
    "            palette = ['green', 'turquoise'])\n",
    "table_1.set_title('Продолжительность поездок по видам подписки и по месяцам')\n",
    "table_1.set(xlabel='Номер месяца', ylabel='Продолжительность поездок')"
   ]
  },
  {
   "cell_type": "raw",
   "id": "db77897d",
   "metadata": {},
   "source": [
    "Нулевая гипотеза отвергнута. Время поездок пользователей с тарифом free не равно времени поездок пользователей с тарифом ultra. Пользователи с подпиской тратят больше времени на поездки."
   ]
  },
  {
   "cell_type": "markdown",
   "id": "ec0b10a1",
   "metadata": {},
   "source": [
    "##### Расстояние одной поездки в 3130 метров — оптимальное с точки зрения износа самоката. Можно ли сказать, что расстояние, которое проезжают пользователи с подпиской за одну поездку, не превышает 3130 метров? \n",
    "\n",
    "Проверим гипотезу: пользователи с подпиской проезжают расстояние, не превышающее 3130 метров за одну поездку.\n",
    "\n",
    "- H0: Расстояние (distance) пользователей на подписке ultra = 3130 метров\n",
    "- H1: Расстояние (distance) пользователей на подписке ultra < 3130 метров"
   ]
  },
  {
   "cell_type": "code",
   "execution_count": 55,
   "id": "0051157c",
   "metadata": {
    "scrolled": true
   },
   "outputs": [
    {
     "name": "stdout",
     "output_type": "stream",
     "text": [
      "p-значение: 0.08046311521502146\n",
      "Не удалось отвергнуть нулевую гипотезу\n",
      "Cредняя оценка расстояния тариф ultra: 3115.4453880370247\n",
      "Cредняя оценка расстояния тариф free: 3045.495281671816\n"
     ]
    }
   ],
   "source": [
    "ultra_dist = ultra_sub['distance']\n",
    "distance_value = 3130.0\n",
    "alpha = 0.05\n",
    "\n",
    "results = st.ttest_1samp(\n",
    "    ultra_dist, \n",
    "    distance_value,\n",
    "    alternative='less')\n",
    "    \n",
    "print('p-значение:',results.pvalue)\n",
    "\n",
    "if (results.pvalue < alpha):\n",
    "    print('Отвергаем нулевую гипотезу')\n",
    "else:\n",
    "    print('Не удалось отвергнуть нулевую гипотезу')\n",
    "    \n",
    "ultra_results2 = ultra_sub['distance'].mean()\n",
    "free_results2 = free_sub['distance'].mean()\n",
    "\n",
    "print('Cредняя оценка расстояния тариф ultra:',ultra_results2) \n",
    "print('Cредняя оценка расстояния тариф free:',free_results2) "
   ]
  },
  {
   "cell_type": "markdown",
   "id": "9c80b86e",
   "metadata": {},
   "source": [
    "Нулевая гипотеза не была отвергнута, и мы не можем утверждать, что расстояние, которое проехали пользователи на тарифе ultra не превышает 3130 метров. Наблюдаемое значение оказалось далеко от предполагаемого в нулевой гипотезе."
   ]
  },
  {
   "cell_type": "markdown",
   "id": "0cb08354",
   "metadata": {},
   "source": [
    "##### Будет ли помесячная выручка от пользователей с подпиской по месяцам выше, чем выручка от пользователей без подписки?\n",
    "\n",
    "Проверим гипотезу: помесячная выручка от пользователей с подпиской выше, чем выручка от пользователей без подписки\n",
    "\n",
    "- H0: Выручка (gain_per_month) пользователей на подписке ultra = выручка (gain_per_month) пользователей на подписке free\n",
    "- H1: Выручка (gain_per_month) пользователей на подписке ultra > выручка (gain_per_month) пользователей на подписке free"
   ]
  },
  {
   "cell_type": "code",
   "execution_count": 56,
   "id": "ac43dea2",
   "metadata": {},
   "outputs": [
    {
     "name": "stdout",
     "output_type": "stream",
     "text": [
      "p-значение: 2.8999112105809456e-37\n",
      "Отвергаем нулевую гипотезу\n",
      "Cредняя оценка выручки тариф ultra: 358.5273376019032\n",
      "Cредняя оценка выручки тариф free: 321.8335260570109\n"
     ]
    }
   ],
   "source": [
    "ultra_per_month = total_data.loc[total_data.subscription_type == 'ultra', 'gain_per_month'] \n",
    "free_per_month = total_data.loc[total_data.subscription_type == 'free', 'gain_per_month'] \n",
    "alpha = 0.05\n",
    "\n",
    "results = st.ttest_ind(ultra_per_month, \n",
    "                       free_per_month,\n",
    "                       alternative = 'greater')\n",
    "\n",
    "print('p-значение:',results.pvalue)\n",
    "\n",
    "if results.pvalue < alpha:\n",
    "    print('Отвергаем нулевую гипотезу')\n",
    "else:\n",
    "    print('Не удалось отвергнуть нулевую гипотезу')\n",
    "    \n",
    "ultra_results3 = ultra_per_month.mean()\n",
    "free_results3 = free_per_month.mean()\n",
    "\n",
    "print('Cредняя оценка выручки тариф ultra:',ultra_results3) \n",
    "print('Cредняя оценка выручки тариф free:',free_results3) "
   ]
  },
  {
   "cell_type": "markdown",
   "id": "a647fe3a",
   "metadata": {},
   "source": [
    "Нулевая гипотеза была отвергнута, выручка с пользователей на подписке ultra превышает выручку с пользователей на подписке free."
   ]
  },
  {
   "cell_type": "markdown",
   "id": "6643e7a5",
   "metadata": {},
   "source": [
    "##### Представьте такую ситуацию: техническая команда сервиса обновила сервера, с которыми взаимодействует мобильное приложение. Она надеется, что из-за этого количество обращений в техподдержку значимо снизилось. Некоторый файл содержит для каждого пользователя данные о количестве обращений до обновления и после него. Какой тест вам понадобился бы для проверки этой гипотезы?"
   ]
  },
  {
   "cell_type": "markdown",
   "id": "d04f61d8",
   "metadata": {},
   "source": [
    "Так как мы анализируем одну и ту же совокупность, с которой произошли изменения, то будем использовать гипотезу о равенстве средних для зависимых (парных) выборок.\n",
    "\n",
    "Гипотезы будут сформулированы так:\n",
    "\n",
    "    H0 : μ1 = μ2\n",
    "    H1 : μ1 != μ2\n",
    "\n",
    "где μ1 и μ2 - средние значения количество обращений в техподдержку до и после изменения.\n",
    "\n",
    "Метод, который нужно использовать при сравнении: scipy.stats.ttest_rel(). \n",
    "Для работы достаточно передать ему два параметра: наборы данных до и после. "
   ]
  },
  {
   "cell_type": "markdown",
   "id": "61213c5e",
   "metadata": {},
   "source": [
    "#### Шаг 7. Распределения"
   ]
  },
  {
   "cell_type": "markdown",
   "id": "2be13ccf",
   "metadata": {},
   "source": [
    "##### Задача  1.\n",
    "\n",
    "Отделу маркетинга GoFast поставили задачу: нужно провести акцию с раздачей промокодов на один бесплатный месяц подписки, в рамках которой как минимум 100 существующих клиентов должны продлить эту подписку. То есть по завершении периода действия подписки пользователь может либо отказаться от неё, либо продлить, совершив соответствующий платёж. \n",
    "Эта акция уже проводилась ранее и по итогу выяснилось, что после бесплатного пробного периода подписку продлевают 10 % пользователей. Выясните, какое минимальное количество промокодов нужно разослать, чтобы вероятность не выполнить план была примерно 5 %. Подберите параметры распределения, описывающего эту ситуацию, постройте график распределения и сформулируйте ответ на вопрос о количестве промокодов."
   ]
  },
  {
   "cell_type": "code",
   "execution_count": 57,
   "id": "5a82dc1a",
   "metadata": {},
   "outputs": [
    {
     "data": {
      "text/plain": [
       "<BarContainer object of 101 artists>"
      ]
     },
     "execution_count": 57,
     "metadata": {},
     "output_type": "execute_result"
    },
    {
     "data": {
      "image/png": "[encoded data removed]",
      "text/plain": [
       "<Figure size 432x288 with 1 Axes>"
      ]
     },
     "metadata": {
      "needs_background": "light"
     },
     "output_type": "display_data"
    }
   ],
   "source": [
    "n_1 = 100\n",
    "p_1 = 0.1\n",
    "\n",
    "distr_1 = []\n",
    "\n",
    "for k in range(0, n_1 + 1):\n",
    "    choose = factorial(n_1) / (factorial(k) * factorial(n_1 - k))\n",
    "    prob = choose * p_1**k * (1 - p_1)**(n_1 - k) \n",
    "    distr_1.append(prob)\n",
    "    \n",
    "plt.bar(range(0, n_1 + 1), distr_1)"
   ]
  },
  {
   "cell_type": "code",
   "execution_count": 58,
   "id": "35ea48a7",
   "metadata": {},
   "outputs": [
    {
     "data": {
      "text/plain": [
       "<BarContainer object of 1001 artists>"
      ]
     },
     "execution_count": 58,
     "metadata": {},
     "output_type": "execute_result"
    },
    {
     "data": {
      "image/png": "[encoded data removed]",
      "text/plain": [
       "<Figure size 432x288 with 1 Axes>"
      ]
     },
     "metadata": {
      "needs_background": "light"
     },
     "output_type": "display_data"
    }
   ],
   "source": [
    "n_1 = 1000\n",
    "p_1 = 0.1\n",
    "\n",
    "distr_1 = []\n",
    "\n",
    "for k in range(0, n_1 + 1):\n",
    "    choose = factorial(n_1) / (factorial(k) * factorial(n_1 - k))\n",
    "    prob = choose * p_1**k * (1 - p_1)**(n_1 - k) \n",
    "    distr_1.append(prob)\n",
    "    \n",
    "plt.bar(range(0, n_1 + 1), distr_1)"
   ]
  },
  {
   "cell_type": "code",
   "execution_count": 59,
   "id": "f062d372",
   "metadata": {
    "scrolled": true
   },
   "outputs": [
    {
     "data": {
      "text/plain": [
       "0.0475344520790022"
      ]
     },
     "execution_count": 59,
     "metadata": {},
     "output_type": "execute_result"
    }
   ],
   "source": [
    "n_1 = 1700\n",
    "p_1 = 0.05\n",
    "\n",
    "mu_1 = n_1 * p_1\n",
    "sigma_1 = sqrt(n_1 * p_1 * (1 - p_1))\n",
    "\n",
    "distr_2 = st.norm(mu_1, sigma_1) \n",
    "\n",
    "result_2 = 1 - distr_2.cdf(100)\n",
    "\n",
    "result_2"
   ]
  },
  {
   "cell_type": "markdown",
   "id": "9981388a",
   "metadata": {},
   "source": [
    "Для текущих параметров акции, при условии, что после бесплатного пробного периода подписку продлевают 10 % пользователей, следует разослать 1700 промокодов. Это минимальное количество промокодов, при котором вероятность невыполнения плана составит примерно 5%. "
   ]
  },
  {
   "cell_type": "markdown",
   "id": "9c2d82b4",
   "metadata": {},
   "source": [
    "##### Задача 2.\n",
    "Отдел маркетинга рассылает клиентам push-уведомления в мобильном приложении. Клиенты могут открыть его или не открывать. Известно, что уведомления открывают около 40 % получивших клиентов. Отдел планирует разослать 1 млн уведомлений. С помощью аппроксимации постройте примерный график распределения и оцените вероятность того, что уведомление откроют не более 399,5 тыс. пользователей."
   ]
  },
  {
   "cell_type": "code",
   "execution_count": 60,
   "id": "9750068b",
   "metadata": {},
   "outputs": [
    {
     "name": "stdout",
     "output_type": "stream",
     "text": [
      "0.8462829170363023\n"
     ]
    }
   ],
   "source": [
    "n_3 = 1000000\n",
    "p_3 = 0.4\n",
    "\n",
    "mu_3 = n_3 * p_3\n",
    "sigma_3 = sqrt(n_3 * p_3 * (1 - p_3))\n",
    "\n",
    "distr_3 = st.norm(mu_3, sigma_3) \n",
    "result_3 = 1 - distr_3.cdf(399500)\n",
    "print(result_3)"
   ]
  },
  {
   "cell_type": "markdown",
   "id": "856fdbca",
   "metadata": {},
   "source": [
    "Вероятность того, что из 1 млн разосланных уведомлений будет открыто не более 399,5 тыс составляет 84,6%"
   ]
  },
  {
   "cell_type": "markdown",
   "id": "776e79d6",
   "metadata": {},
   "source": [
    "#### Общий вывод"
   ]
  },
  {
   "cell_type": "markdown",
   "id": "bb8f90a2",
   "metadata": {},
   "source": [
    "Проведена аналитическая оценка популярного сервиса аренды самокатов GoFast. \n",
    "Входные данные: данные о некоторых пользователях из нескольких городов, а также об их поездках. \n",
    "Цель исследования: провести анализ данных и вынести предложения для улучшения бизнес-показателей. \n",
    "\n",
    "##### Предообработка данных\n",
    "Входные данные были оценены с точки зрения их полноты и достаточности для анализа. Выявлено наличие пропусков в данных по столбцам. Причиной может являться человеческий фактор и технические ошибки при заполнении данных.\n",
    "Исправлены типы данных в датафрейме (столбец date) \n",
    "Проведена проверка наличия пропущенных данных.\n",
    "Выявлены дубликаты, проведено их удаление из данных.\n",
    "\n",
    "##### Анализ данных\n",
    "Построены круговые диаграммы и гистограммы для оценки параметров (возраст пользователей, доля использования пользователями платного и бесплатного тарифов, число пользователей в разных городах, расстояния и время использования самоката).\n",
    " \n",
    "Изучили наличие зависимости цены от:\n",
    "- Города: Данные распределены по всем городам достаточно равномерно, доли присутствия по разным городам в структуре составляют от 11% до 14%. Наибольшее число пользователей - Пятигорск, 219. Наименьшее - Москва, 168. \n",
    "- Тарифа: Пользователей без подписки больше, чем с подпиской - 54% против 46%.\n",
    "- Возраст пользователей находится в диапазоне от 12 до 43 лет. Наибольшая часть пользователей находится в возрасте от 20 до 30 лет. Пик приходится на 24 года.\n",
    "- Расстояние, которое наиболее часто проезжают расположено в диапазоне от 2.5 км до 3.7 км. Наибольшее значение расстояния составляет около 7.2 км. Минимальное значение - 0.86 м. Медианное значение - 3.07 км, среднее 1.16 км. На отметке 0.5 км наблюдается локальный пик.\n",
    "- Продолжительность поездок преимущественно расположена в диапазоне от 12 до 23 минут. Минимальное значение времени поездки - 0,5 мин, что вероятно вызвано человеческим фактором (передумал ехать), либо неисправностью самоката. Пик на отметке 18 минут. Медианное значение- 17,8 м, среднее - 6,09 мин. Самая длительная поездка - 40 минут.\n",
    "\n",
    "Данные объединены в один датасет, из него выбраны значения для двух датасетов, соответствующие платной и бесплатной подпискам. \n",
    "Проведен расчет выручки. \n",
    "Проведена проверка гипотез.\n",
    "Построены распределения.\n",
    "\n",
    "##### Выводы\n",
    "После проверок гипотез получили следующий результат:\n",
    "- Пользователи с подпиской тратят больше времени на поездки, чем пользователи на бесплатном тарифе\n",
    "     - Нулевая гипотеза отвергнута. Время поездок пользователей с тарифом free не равно времени поездое пользователей с тарифом ultra. Пользователи с подпиской тратят больше времени на поездки.\n",
    "- Пользователи с подпиской проезжают расстояние, не превышающее 3130 метров за одну поездку\n",
    "     - Не удалось отвергнуть нулевую гипотезу. Наблюдаемое значение оказалось далеко от предполагаемого в нулевой гипотезе.\n",
    "- Помесячная выручка от пользователей с подпиской выше, чем выручка от пользователей без подписки\n",
    "     - Нулевая гипотеза была отвергнута, выручка с пользователей на подписке ultra превышает выручку с пользователей на подписке free.\n",
    "\n",
    "Для текущих параметров акции, при условии, что после бесплатного пробного периода подписку продлевают 10 % пользователей, следует разослать 1700 промокодов. Это минимальное количество промокодов, при котором вероятность невыполнения плана составит примерно 5%. \n",
    "\n",
    "Вероятность того, что из 1 млн разосланных push-уведомлений будет открыто не более 399,5 тыс составляет 84,6%"
   ]
  }
 ],
 "metadata": {
  "ExecuteTimeLog": [
   {
    "duration": 876,
    "start_time": "2023-06-27T06:36:31.059Z"
   },
   {
    "duration": 336,
    "start_time": "2023-06-27T06:36:31.938Z"
   },
   {
    "duration": 21,
    "start_time": "2023-06-27T06:36:32.277Z"
   },
   {
    "duration": 11,
    "start_time": "2023-06-27T06:36:57.867Z"
   },
   {
    "duration": 16,
    "start_time": "2023-06-27T06:37:16.206Z"
   },
   {
    "duration": 12,
    "start_time": "2023-06-27T06:37:44.075Z"
   },
   {
    "duration": 667,
    "start_time": "2023-06-27T06:39:45.428Z"
   },
   {
    "duration": 74,
    "start_time": "2023-06-27T06:39:46.097Z"
   },
   {
    "duration": 14,
    "start_time": "2023-06-27T06:39:46.173Z"
   },
   {
    "duration": 46,
    "start_time": "2023-06-27T06:39:46.189Z"
   },
   {
    "duration": 9,
    "start_time": "2023-06-27T06:39:46.237Z"
   },
   {
    "duration": 1233,
    "start_time": "2023-06-27T06:48:17.314Z"
   },
   {
    "duration": 82,
    "start_time": "2023-06-27T06:48:18.549Z"
   },
   {
    "duration": 13,
    "start_time": "2023-06-27T06:48:18.633Z"
   },
   {
    "duration": 8,
    "start_time": "2023-06-27T06:48:18.648Z"
   },
   {
    "duration": 9,
    "start_time": "2023-06-27T06:48:18.658Z"
   },
   {
    "duration": 24,
    "start_time": "2023-06-27T06:48:18.669Z"
   },
   {
    "duration": 10,
    "start_time": "2023-06-27T06:48:18.695Z"
   },
   {
    "duration": 96,
    "start_time": "2023-06-27T06:48:18.706Z"
   },
   {
    "duration": 1202,
    "start_time": "2023-06-27T06:48:33.543Z"
   },
   {
    "duration": 71,
    "start_time": "2023-06-27T06:48:34.747Z"
   },
   {
    "duration": 14,
    "start_time": "2023-06-27T06:48:34.820Z"
   },
   {
    "duration": 18,
    "start_time": "2023-06-27T06:48:34.835Z"
   },
   {
    "duration": 21,
    "start_time": "2023-06-27T06:48:34.856Z"
   },
   {
    "duration": 17,
    "start_time": "2023-06-27T06:48:34.879Z"
   },
   {
    "duration": 8,
    "start_time": "2023-06-27T06:48:34.898Z"
   },
   {
    "duration": 17,
    "start_time": "2023-06-27T06:48:34.908Z"
   },
   {
    "duration": 5,
    "start_time": "2023-06-27T06:50:19.993Z"
   },
   {
    "duration": 1194,
    "start_time": "2023-06-27T06:53:20.548Z"
   },
   {
    "duration": 69,
    "start_time": "2023-06-27T06:53:21.744Z"
   },
   {
    "duration": 13,
    "start_time": "2023-06-27T06:53:21.815Z"
   },
   {
    "duration": 9,
    "start_time": "2023-06-27T06:53:21.830Z"
   },
   {
    "duration": 11,
    "start_time": "2023-06-27T06:53:21.841Z"
   },
   {
    "duration": 15,
    "start_time": "2023-06-27T06:53:21.853Z"
   },
   {
    "duration": 7,
    "start_time": "2023-06-27T06:53:21.870Z"
   },
   {
    "duration": 35,
    "start_time": "2023-06-27T06:53:21.879Z"
   },
   {
    "duration": 8,
    "start_time": "2023-06-27T06:53:21.915Z"
   },
   {
    "duration": 15,
    "start_time": "2023-06-27T06:53:21.924Z"
   },
   {
    "duration": 11,
    "start_time": "2023-06-27T06:53:21.940Z"
   },
   {
    "duration": 21,
    "start_time": "2023-06-27T06:53:21.953Z"
   },
   {
    "duration": 1165,
    "start_time": "2023-06-27T06:57:57.862Z"
   },
   {
    "duration": 69,
    "start_time": "2023-06-27T06:57:59.029Z"
   },
   {
    "duration": 12,
    "start_time": "2023-06-27T06:57:59.100Z"
   },
   {
    "duration": 14,
    "start_time": "2023-06-27T06:57:59.114Z"
   },
   {
    "duration": 23,
    "start_time": "2023-06-27T06:57:59.130Z"
   },
   {
    "duration": 29,
    "start_time": "2023-06-27T06:57:59.156Z"
   },
   {
    "duration": 25,
    "start_time": "2023-06-27T06:57:59.187Z"
   },
   {
    "duration": 16,
    "start_time": "2023-06-27T06:57:59.214Z"
   },
   {
    "duration": 17,
    "start_time": "2023-06-27T06:57:59.231Z"
   },
   {
    "duration": 22,
    "start_time": "2023-06-27T06:57:59.251Z"
   },
   {
    "duration": 9,
    "start_time": "2023-06-27T06:57:59.275Z"
   },
   {
    "duration": 22,
    "start_time": "2023-06-27T06:57:59.286Z"
   },
   {
    "duration": 29,
    "start_time": "2023-06-27T06:57:59.310Z"
   },
   {
    "duration": 30,
    "start_time": "2023-06-27T06:57:59.342Z"
   },
   {
    "duration": 22,
    "start_time": "2023-06-27T06:57:59.373Z"
   },
   {
    "duration": 1195,
    "start_time": "2023-06-27T06:59:11.813Z"
   },
   {
    "duration": 70,
    "start_time": "2023-06-27T06:59:13.010Z"
   },
   {
    "duration": 12,
    "start_time": "2023-06-27T06:59:13.082Z"
   },
   {
    "duration": 9,
    "start_time": "2023-06-27T06:59:13.096Z"
   },
   {
    "duration": 20,
    "start_time": "2023-06-27T06:59:13.108Z"
   },
   {
    "duration": 22,
    "start_time": "2023-06-27T06:59:13.130Z"
   },
   {
    "duration": 29,
    "start_time": "2023-06-27T06:59:13.153Z"
   },
   {
    "duration": 14,
    "start_time": "2023-06-27T06:59:13.184Z"
   },
   {
    "duration": 11,
    "start_time": "2023-06-27T06:59:13.199Z"
   },
   {
    "duration": 25,
    "start_time": "2023-06-27T06:59:13.212Z"
   },
   {
    "duration": 7,
    "start_time": "2023-06-27T06:59:13.239Z"
   },
   {
    "duration": 10,
    "start_time": "2023-06-27T06:59:13.248Z"
   },
   {
    "duration": 12,
    "start_time": "2023-06-27T06:59:13.260Z"
   },
   {
    "duration": 26,
    "start_time": "2023-06-27T06:59:13.275Z"
   },
   {
    "duration": 9,
    "start_time": "2023-06-27T06:59:13.303Z"
   },
   {
    "duration": 5,
    "start_time": "2023-06-27T06:59:13.313Z"
   },
   {
    "duration": 1223,
    "start_time": "2023-06-27T06:59:34.000Z"
   },
   {
    "duration": 70,
    "start_time": "2023-06-27T06:59:35.226Z"
   },
   {
    "duration": 13,
    "start_time": "2023-06-27T06:59:35.297Z"
   },
   {
    "duration": 21,
    "start_time": "2023-06-27T06:59:35.311Z"
   },
   {
    "duration": 9,
    "start_time": "2023-06-27T06:59:35.334Z"
   },
   {
    "duration": 39,
    "start_time": "2023-06-27T06:59:35.344Z"
   },
   {
    "duration": 15,
    "start_time": "2023-06-27T06:59:35.385Z"
   },
   {
    "duration": 21,
    "start_time": "2023-06-27T06:59:35.402Z"
   },
   {
    "duration": 7,
    "start_time": "2023-06-27T06:59:35.424Z"
   },
   {
    "duration": 39,
    "start_time": "2023-06-27T06:59:35.432Z"
   },
   {
    "duration": 26,
    "start_time": "2023-06-27T06:59:35.473Z"
   },
   {
    "duration": 17,
    "start_time": "2023-06-27T06:59:35.501Z"
   },
   {
    "duration": 9,
    "start_time": "2023-06-27T06:59:35.519Z"
   },
   {
    "duration": 23,
    "start_time": "2023-06-27T06:59:35.530Z"
   },
   {
    "duration": 11,
    "start_time": "2023-06-27T06:59:35.554Z"
   },
   {
    "duration": 7,
    "start_time": "2023-06-27T06:59:35.566Z"
   },
   {
    "duration": 1205,
    "start_time": "2023-06-27T07:01:02.851Z"
   },
   {
    "duration": 69,
    "start_time": "2023-06-27T07:01:04.058Z"
   },
   {
    "duration": 12,
    "start_time": "2023-06-27T07:01:04.128Z"
   },
   {
    "duration": 25,
    "start_time": "2023-06-27T07:01:04.141Z"
   },
   {
    "duration": 17,
    "start_time": "2023-06-27T07:01:04.169Z"
   },
   {
    "duration": 49,
    "start_time": "2023-06-27T07:01:04.187Z"
   },
   {
    "duration": 36,
    "start_time": "2023-06-27T07:01:04.238Z"
   },
   {
    "duration": 20,
    "start_time": "2023-06-27T07:01:04.276Z"
   },
   {
    "duration": 18,
    "start_time": "2023-06-27T07:01:04.297Z"
   },
   {
    "duration": 29,
    "start_time": "2023-06-27T07:01:04.317Z"
   },
   {
    "duration": 34,
    "start_time": "2023-06-27T07:01:04.348Z"
   },
   {
    "duration": 63,
    "start_time": "2023-06-27T07:01:04.384Z"
   },
   {
    "duration": 24,
    "start_time": "2023-06-27T07:01:04.450Z"
   },
   {
    "duration": 29,
    "start_time": "2023-06-27T07:01:04.478Z"
   },
   {
    "duration": 22,
    "start_time": "2023-06-27T07:01:04.510Z"
   },
   {
    "duration": 21,
    "start_time": "2023-06-27T07:01:04.534Z"
   },
   {
    "duration": 35,
    "start_time": "2023-06-27T07:01:04.558Z"
   },
   {
    "duration": 22,
    "start_time": "2023-06-27T07:01:04.595Z"
   },
   {
    "duration": 17,
    "start_time": "2023-06-27T07:01:04.619Z"
   },
   {
    "duration": 1319,
    "start_time": "2023-06-27T07:03:08.891Z"
   },
   {
    "duration": 68,
    "start_time": "2023-06-27T07:03:10.215Z"
   },
   {
    "duration": 13,
    "start_time": "2023-06-27T07:03:10.286Z"
   },
   {
    "duration": 11,
    "start_time": "2023-06-27T07:03:10.301Z"
   },
   {
    "duration": 10,
    "start_time": "2023-06-27T07:03:10.315Z"
   },
   {
    "duration": 13,
    "start_time": "2023-06-27T07:03:10.327Z"
   },
   {
    "duration": 18,
    "start_time": "2023-06-27T07:03:10.342Z"
   },
   {
    "duration": 11,
    "start_time": "2023-06-27T07:03:10.362Z"
   },
   {
    "duration": 44,
    "start_time": "2023-06-27T07:03:10.375Z"
   },
   {
    "duration": 21,
    "start_time": "2023-06-27T07:03:10.421Z"
   },
   {
    "duration": 9,
    "start_time": "2023-06-27T07:03:10.445Z"
   },
   {
    "duration": 10,
    "start_time": "2023-06-27T07:03:10.456Z"
   },
   {
    "duration": 9,
    "start_time": "2023-06-27T07:03:10.468Z"
   },
   {
    "duration": 42,
    "start_time": "2023-06-27T07:03:10.480Z"
   },
   {
    "duration": 12,
    "start_time": "2023-06-27T07:03:10.525Z"
   },
   {
    "duration": 9,
    "start_time": "2023-06-27T07:03:10.539Z"
   },
   {
    "duration": 12,
    "start_time": "2023-06-27T07:03:10.550Z"
   },
   {
    "duration": 11,
    "start_time": "2023-06-27T07:03:10.565Z"
   },
   {
    "duration": 36,
    "start_time": "2023-06-27T07:03:10.579Z"
   },
   {
    "duration": 1288,
    "start_time": "2023-06-27T07:07:45.674Z"
   },
   {
    "duration": 70,
    "start_time": "2023-06-27T07:07:46.965Z"
   },
   {
    "duration": 14,
    "start_time": "2023-06-27T07:07:47.037Z"
   },
   {
    "duration": 9,
    "start_time": "2023-06-27T07:07:47.052Z"
   },
   {
    "duration": 8,
    "start_time": "2023-06-27T07:07:47.063Z"
   },
   {
    "duration": 44,
    "start_time": "2023-06-27T07:07:47.073Z"
   },
   {
    "duration": 53,
    "start_time": "2023-06-27T07:07:47.119Z"
   },
   {
    "duration": 30,
    "start_time": "2023-06-27T07:07:47.174Z"
   },
   {
    "duration": 16,
    "start_time": "2023-06-27T07:07:47.205Z"
   },
   {
    "duration": 8,
    "start_time": "2023-06-27T07:07:47.223Z"
   },
   {
    "duration": 6,
    "start_time": "2023-06-27T07:07:47.233Z"
   },
   {
    "duration": 31,
    "start_time": "2023-06-27T07:07:47.241Z"
   },
   {
    "duration": 22,
    "start_time": "2023-06-27T07:07:47.274Z"
   },
   {
    "duration": 26,
    "start_time": "2023-06-27T07:07:47.299Z"
   },
   {
    "duration": 11,
    "start_time": "2023-06-27T07:07:47.327Z"
   },
   {
    "duration": 28,
    "start_time": "2023-06-27T07:07:47.340Z"
   },
   {
    "duration": 35,
    "start_time": "2023-06-27T07:07:47.370Z"
   },
   {
    "duration": 12,
    "start_time": "2023-06-27T07:07:47.407Z"
   },
   {
    "duration": 21,
    "start_time": "2023-06-27T07:07:47.421Z"
   },
   {
    "duration": 8,
    "start_time": "2023-06-27T07:07:47.444Z"
   },
   {
    "duration": 26,
    "start_time": "2023-06-27T07:07:47.454Z"
   },
   {
    "duration": 9,
    "start_time": "2023-06-27T07:07:47.482Z"
   },
   {
    "duration": 1221,
    "start_time": "2023-06-27T07:07:59.102Z"
   },
   {
    "duration": 68,
    "start_time": "2023-06-27T07:08:00.325Z"
   },
   {
    "duration": 13,
    "start_time": "2023-06-27T07:08:00.395Z"
   },
   {
    "duration": 89,
    "start_time": "2023-06-27T07:08:00.409Z"
   },
   {
    "duration": 36,
    "start_time": "2023-06-27T07:08:00.502Z"
   },
   {
    "duration": 52,
    "start_time": "2023-06-27T07:08:00.541Z"
   },
   {
    "duration": 46,
    "start_time": "2023-06-27T07:08:00.595Z"
   },
   {
    "duration": 47,
    "start_time": "2023-06-27T07:08:00.643Z"
   },
   {
    "duration": 43,
    "start_time": "2023-06-27T07:08:00.692Z"
   },
   {
    "duration": 104,
    "start_time": "2023-06-27T07:08:00.737Z"
   },
   {
    "duration": 32,
    "start_time": "2023-06-27T07:08:00.844Z"
   },
   {
    "duration": 18,
    "start_time": "2023-06-27T07:08:00.878Z"
   },
   {
    "duration": 39,
    "start_time": "2023-06-27T07:08:00.898Z"
   },
   {
    "duration": 42,
    "start_time": "2023-06-27T07:08:00.940Z"
   },
   {
    "duration": 62,
    "start_time": "2023-06-27T07:08:00.984Z"
   },
   {
    "duration": 30,
    "start_time": "2023-06-27T07:08:01.048Z"
   },
   {
    "duration": 44,
    "start_time": "2023-06-27T07:08:01.080Z"
   },
   {
    "duration": 31,
    "start_time": "2023-06-27T07:08:01.126Z"
   },
   {
    "duration": 28,
    "start_time": "2023-06-27T07:08:01.159Z"
   },
   {
    "duration": 61,
    "start_time": "2023-06-27T07:08:01.190Z"
   },
   {
    "duration": 40,
    "start_time": "2023-06-27T07:08:01.253Z"
   },
   {
    "duration": 248,
    "start_time": "2023-06-27T07:08:01.295Z"
   },
   {
    "duration": 6,
    "start_time": "2023-06-27T07:08:23.009Z"
   },
   {
    "duration": 170,
    "start_time": "2023-06-27T07:08:24.028Z"
   },
   {
    "duration": 1190,
    "start_time": "2023-06-27T07:13:19.725Z"
   },
   {
    "duration": 70,
    "start_time": "2023-06-27T07:13:20.917Z"
   },
   {
    "duration": 14,
    "start_time": "2023-06-27T07:13:20.989Z"
   },
   {
    "duration": 72,
    "start_time": "2023-06-27T07:13:21.004Z"
   },
   {
    "duration": 38,
    "start_time": "2023-06-27T07:13:21.078Z"
   },
   {
    "duration": 161,
    "start_time": "2023-06-27T07:13:21.118Z"
   },
   {
    "duration": 28,
    "start_time": "2023-06-27T07:13:21.281Z"
   },
   {
    "duration": 37,
    "start_time": "2023-06-27T07:13:21.311Z"
   },
   {
    "duration": 35,
    "start_time": "2023-06-27T07:13:21.350Z"
   },
   {
    "duration": 33,
    "start_time": "2023-06-27T07:13:21.387Z"
   },
   {
    "duration": 31,
    "start_time": "2023-06-27T07:13:21.422Z"
   },
   {
    "duration": 46,
    "start_time": "2023-06-27T07:13:21.455Z"
   },
   {
    "duration": 71,
    "start_time": "2023-06-27T07:13:21.503Z"
   },
   {
    "duration": 101,
    "start_time": "2023-06-27T07:13:21.577Z"
   },
   {
    "duration": 29,
    "start_time": "2023-06-27T07:13:21.680Z"
   },
   {
    "duration": 19,
    "start_time": "2023-06-27T07:13:21.711Z"
   },
   {
    "duration": 21,
    "start_time": "2023-06-27T07:13:21.731Z"
   },
   {
    "duration": 28,
    "start_time": "2023-06-27T07:13:21.754Z"
   },
   {
    "duration": 20,
    "start_time": "2023-06-27T07:13:21.784Z"
   },
   {
    "duration": 29,
    "start_time": "2023-06-27T07:13:21.806Z"
   },
   {
    "duration": 31,
    "start_time": "2023-06-27T07:13:21.837Z"
   },
   {
    "duration": 187,
    "start_time": "2023-06-27T07:13:21.870Z"
   },
   {
    "duration": 3,
    "start_time": "2023-06-27T07:13:22.059Z"
   },
   {
    "duration": 107,
    "start_time": "2023-06-27T07:13:22.064Z"
   },
   {
    "duration": 254,
    "start_time": "2023-06-27T07:13:22.173Z"
   },
   {
    "duration": 1208,
    "start_time": "2023-06-27T07:13:34.224Z"
   },
   {
    "duration": 71,
    "start_time": "2023-06-27T07:13:35.434Z"
   },
   {
    "duration": 15,
    "start_time": "2023-06-27T07:13:35.509Z"
   },
   {
    "duration": 30,
    "start_time": "2023-06-27T07:13:35.526Z"
   },
   {
    "duration": 23,
    "start_time": "2023-06-27T07:13:35.558Z"
   },
   {
    "duration": 35,
    "start_time": "2023-06-27T07:13:35.583Z"
   },
   {
    "duration": 35,
    "start_time": "2023-06-27T07:13:35.620Z"
   },
   {
    "duration": 12,
    "start_time": "2023-06-27T07:13:35.658Z"
   },
   {
    "duration": 14,
    "start_time": "2023-06-27T07:13:35.673Z"
   },
   {
    "duration": 38,
    "start_time": "2023-06-27T07:13:35.689Z"
   },
   {
    "duration": 11,
    "start_time": "2023-06-27T07:13:35.729Z"
   },
   {
    "duration": 37,
    "start_time": "2023-06-27T07:13:35.742Z"
   },
   {
    "duration": 31,
    "start_time": "2023-06-27T07:13:35.780Z"
   },
   {
    "duration": 12,
    "start_time": "2023-06-27T07:13:35.813Z"
   },
   {
    "duration": 14,
    "start_time": "2023-06-27T07:13:35.827Z"
   },
   {
    "duration": 39,
    "start_time": "2023-06-27T07:13:35.843Z"
   },
   {
    "duration": 32,
    "start_time": "2023-06-27T07:13:35.883Z"
   },
   {
    "duration": 16,
    "start_time": "2023-06-27T07:13:35.917Z"
   },
   {
    "duration": 26,
    "start_time": "2023-06-27T07:13:35.935Z"
   },
   {
    "duration": 20,
    "start_time": "2023-06-27T07:13:35.963Z"
   },
   {
    "duration": 20,
    "start_time": "2023-06-27T07:13:35.984Z"
   },
   {
    "duration": 157,
    "start_time": "2023-06-27T07:13:36.006Z"
   },
   {
    "duration": 4,
    "start_time": "2023-06-27T07:13:36.164Z"
   },
   {
    "duration": 111,
    "start_time": "2023-06-27T07:13:36.170Z"
   },
   {
    "duration": 163,
    "start_time": "2023-06-27T07:13:36.283Z"
   },
   {
    "duration": 1263,
    "start_time": "2023-06-27T07:17:34.163Z"
   },
   {
    "duration": 72,
    "start_time": "2023-06-27T07:17:35.429Z"
   },
   {
    "duration": 23,
    "start_time": "2023-06-27T07:17:35.503Z"
   },
   {
    "duration": 12,
    "start_time": "2023-06-27T07:17:35.532Z"
   },
   {
    "duration": 8,
    "start_time": "2023-06-27T07:17:35.547Z"
   },
   {
    "duration": 15,
    "start_time": "2023-06-27T07:17:35.557Z"
   },
   {
    "duration": 15,
    "start_time": "2023-06-27T07:17:35.574Z"
   },
   {
    "duration": 33,
    "start_time": "2023-06-27T07:17:35.591Z"
   },
   {
    "duration": 11,
    "start_time": "2023-06-27T07:17:35.626Z"
   },
   {
    "duration": 15,
    "start_time": "2023-06-27T07:17:35.641Z"
   },
   {
    "duration": 8,
    "start_time": "2023-06-27T07:17:35.659Z"
   },
   {
    "duration": 11,
    "start_time": "2023-06-27T07:17:35.669Z"
   },
   {
    "duration": 19,
    "start_time": "2023-06-27T07:17:35.682Z"
   },
   {
    "duration": 14,
    "start_time": "2023-06-27T07:17:35.715Z"
   },
   {
    "duration": 8,
    "start_time": "2023-06-27T07:17:35.731Z"
   },
   {
    "duration": 9,
    "start_time": "2023-06-27T07:17:35.741Z"
   },
   {
    "duration": 15,
    "start_time": "2023-06-27T07:17:35.752Z"
   },
   {
    "duration": 14,
    "start_time": "2023-06-27T07:17:35.769Z"
   },
   {
    "duration": 6,
    "start_time": "2023-06-27T07:17:35.786Z"
   },
   {
    "duration": 41,
    "start_time": "2023-06-27T07:17:35.794Z"
   },
   {
    "duration": 16,
    "start_time": "2023-06-27T07:17:35.836Z"
   },
   {
    "duration": 207,
    "start_time": "2023-06-27T07:17:35.854Z"
   },
   {
    "duration": 10,
    "start_time": "2023-06-27T07:17:36.063Z"
   },
   {
    "duration": 107,
    "start_time": "2023-06-27T07:17:36.075Z"
   },
   {
    "duration": 170,
    "start_time": "2023-06-27T07:17:36.184Z"
   },
   {
    "duration": 112,
    "start_time": "2023-06-27T07:17:36.356Z"
   },
   {
    "duration": 130,
    "start_time": "2023-06-27T07:18:00.902Z"
   },
   {
    "duration": 1230,
    "start_time": "2023-06-27T07:26:03.408Z"
   },
   {
    "duration": 69,
    "start_time": "2023-06-27T07:26:04.640Z"
   },
   {
    "duration": 13,
    "start_time": "2023-06-27T07:26:04.711Z"
   },
   {
    "duration": 24,
    "start_time": "2023-06-27T07:26:04.725Z"
   },
   {
    "duration": 27,
    "start_time": "2023-06-27T07:26:04.751Z"
   },
   {
    "duration": 34,
    "start_time": "2023-06-27T07:26:04.779Z"
   },
   {
    "duration": 25,
    "start_time": "2023-06-27T07:26:04.814Z"
   },
   {
    "duration": 35,
    "start_time": "2023-06-27T07:26:04.840Z"
   },
   {
    "duration": 31,
    "start_time": "2023-06-27T07:26:04.877Z"
   },
   {
    "duration": 30,
    "start_time": "2023-06-27T07:26:04.910Z"
   },
   {
    "duration": 28,
    "start_time": "2023-06-27T07:26:04.942Z"
   },
   {
    "duration": 29,
    "start_time": "2023-06-27T07:26:04.972Z"
   },
   {
    "duration": 19,
    "start_time": "2023-06-27T07:26:05.002Z"
   },
   {
    "duration": 19,
    "start_time": "2023-06-27T07:26:05.023Z"
   },
   {
    "duration": 27,
    "start_time": "2023-06-27T07:26:05.043Z"
   },
   {
    "duration": 26,
    "start_time": "2023-06-27T07:26:05.072Z"
   },
   {
    "duration": 27,
    "start_time": "2023-06-27T07:26:05.100Z"
   },
   {
    "duration": 25,
    "start_time": "2023-06-27T07:26:05.129Z"
   },
   {
    "duration": 21,
    "start_time": "2023-06-27T07:26:05.156Z"
   },
   {
    "duration": 27,
    "start_time": "2023-06-27T07:26:05.178Z"
   },
   {
    "duration": 22,
    "start_time": "2023-06-27T07:26:05.207Z"
   },
   {
    "duration": 157,
    "start_time": "2023-06-27T07:26:05.230Z"
   },
   {
    "duration": 4,
    "start_time": "2023-06-27T07:26:05.389Z"
   },
   {
    "duration": 113,
    "start_time": "2023-06-27T07:26:05.394Z"
   },
   {
    "duration": 163,
    "start_time": "2023-06-27T07:26:05.508Z"
   },
   {
    "duration": 127,
    "start_time": "2023-06-27T07:26:05.673Z"
   },
   {
    "duration": 1207,
    "start_time": "2023-06-27T07:28:25.537Z"
   },
   {
    "duration": 70,
    "start_time": "2023-06-27T07:28:26.746Z"
   },
   {
    "duration": 14,
    "start_time": "2023-06-27T07:28:26.819Z"
   },
   {
    "duration": 10,
    "start_time": "2023-06-27T07:28:26.835Z"
   },
   {
    "duration": 10,
    "start_time": "2023-06-27T07:28:26.846Z"
   },
   {
    "duration": 13,
    "start_time": "2023-06-27T07:28:26.858Z"
   },
   {
    "duration": 42,
    "start_time": "2023-06-27T07:28:26.873Z"
   },
   {
    "duration": 11,
    "start_time": "2023-06-27T07:28:26.917Z"
   },
   {
    "duration": 15,
    "start_time": "2023-06-27T07:28:26.930Z"
   },
   {
    "duration": 7,
    "start_time": "2023-06-27T07:28:26.948Z"
   },
   {
    "duration": 4,
    "start_time": "2023-06-27T07:28:26.957Z"
   },
   {
    "duration": 9,
    "start_time": "2023-06-27T07:28:26.963Z"
   },
   {
    "duration": 7,
    "start_time": "2023-06-27T07:28:26.974Z"
   },
   {
    "duration": 8,
    "start_time": "2023-06-27T07:28:27.014Z"
   },
   {
    "duration": 10,
    "start_time": "2023-06-27T07:28:27.024Z"
   },
   {
    "duration": 5,
    "start_time": "2023-06-27T07:28:27.036Z"
   },
   {
    "duration": 8,
    "start_time": "2023-06-27T07:28:27.043Z"
   },
   {
    "duration": 16,
    "start_time": "2023-06-27T07:28:27.052Z"
   },
   {
    "duration": 7,
    "start_time": "2023-06-27T07:28:27.070Z"
   },
   {
    "duration": 43,
    "start_time": "2023-06-27T07:28:27.079Z"
   },
   {
    "duration": 14,
    "start_time": "2023-06-27T07:28:27.124Z"
   },
   {
    "duration": 166,
    "start_time": "2023-06-27T07:28:27.140Z"
   },
   {
    "duration": 7,
    "start_time": "2023-06-27T07:28:27.307Z"
   },
   {
    "duration": 132,
    "start_time": "2023-06-27T07:28:27.316Z"
   },
   {
    "duration": 184,
    "start_time": "2023-06-27T07:28:27.451Z"
   },
   {
    "duration": 147,
    "start_time": "2023-06-27T07:28:27.637Z"
   },
   {
    "duration": 139,
    "start_time": "2023-06-27T09:16:35.638Z"
   },
   {
    "duration": 128,
    "start_time": "2023-06-27T09:16:46.106Z"
   },
   {
    "duration": 137,
    "start_time": "2023-06-27T09:17:03.222Z"
   },
   {
    "duration": 1443,
    "start_time": "2023-06-27T09:19:38.305Z"
   },
   {
    "duration": 98,
    "start_time": "2023-06-27T09:19:39.754Z"
   },
   {
    "duration": 20,
    "start_time": "2023-06-27T09:19:39.855Z"
   },
   {
    "duration": 20,
    "start_time": "2023-06-27T09:19:39.877Z"
   },
   {
    "duration": 10,
    "start_time": "2023-06-27T09:19:39.902Z"
   },
   {
    "duration": 18,
    "start_time": "2023-06-27T09:19:39.924Z"
   },
   {
    "duration": 22,
    "start_time": "2023-06-27T09:19:39.945Z"
   },
   {
    "duration": 20,
    "start_time": "2023-06-27T09:19:39.969Z"
   },
   {
    "duration": 21,
    "start_time": "2023-06-27T09:19:39.991Z"
   },
   {
    "duration": 23,
    "start_time": "2023-06-27T09:19:40.020Z"
   },
   {
    "duration": 11,
    "start_time": "2023-06-27T09:19:40.045Z"
   },
   {
    "duration": 9,
    "start_time": "2023-06-27T09:19:40.060Z"
   },
   {
    "duration": 19,
    "start_time": "2023-06-27T09:19:40.072Z"
   },
   {
    "duration": 9,
    "start_time": "2023-06-27T09:19:40.095Z"
   },
   {
    "duration": 25,
    "start_time": "2023-06-27T09:19:40.106Z"
   },
   {
    "duration": 10,
    "start_time": "2023-06-27T09:19:40.138Z"
   },
   {
    "duration": 14,
    "start_time": "2023-06-27T09:19:40.151Z"
   },
   {
    "duration": 24,
    "start_time": "2023-06-27T09:19:40.167Z"
   },
   {
    "duration": 9,
    "start_time": "2023-06-27T09:19:40.194Z"
   },
   {
    "duration": 22,
    "start_time": "2023-06-27T09:19:40.205Z"
   },
   {
    "duration": 25,
    "start_time": "2023-06-27T09:19:40.229Z"
   },
   {
    "duration": 177,
    "start_time": "2023-06-27T09:19:40.256Z"
   },
   {
    "duration": 4,
    "start_time": "2023-06-27T09:19:40.435Z"
   },
   {
    "duration": 138,
    "start_time": "2023-06-27T09:19:40.442Z"
   },
   {
    "duration": 171,
    "start_time": "2023-06-27T09:19:40.582Z"
   },
   {
    "duration": 166,
    "start_time": "2023-06-27T09:19:40.755Z"
   },
   {
    "duration": 160,
    "start_time": "2023-06-27T09:19:40.924Z"
   },
   {
    "duration": 16,
    "start_time": "2023-06-27T09:19:41.086Z"
   },
   {
    "duration": 25,
    "start_time": "2023-06-27T09:19:41.104Z"
   },
   {
    "duration": 14,
    "start_time": "2023-06-27T09:19:41.134Z"
   },
   {
    "duration": 30,
    "start_time": "2023-06-27T09:19:41.151Z"
   },
   {
    "duration": 21,
    "start_time": "2023-06-27T09:57:53.945Z"
   },
   {
    "duration": 20,
    "start_time": "2023-06-27T09:58:10.539Z"
   },
   {
    "duration": 30,
    "start_time": "2023-06-27T09:59:48.668Z"
   },
   {
    "duration": 7,
    "start_time": "2023-06-27T10:09:40.283Z"
   },
   {
    "duration": 1301,
    "start_time": "2023-06-27T10:09:48.736Z"
   },
   {
    "duration": 74,
    "start_time": "2023-06-27T10:09:50.040Z"
   },
   {
    "duration": 17,
    "start_time": "2023-06-27T10:09:50.122Z"
   },
   {
    "duration": 28,
    "start_time": "2023-06-27T10:09:50.141Z"
   },
   {
    "duration": 24,
    "start_time": "2023-06-27T10:09:50.171Z"
   },
   {
    "duration": 35,
    "start_time": "2023-06-27T10:09:50.197Z"
   },
   {
    "duration": 12,
    "start_time": "2023-06-27T10:09:50.234Z"
   },
   {
    "duration": 19,
    "start_time": "2023-06-27T10:09:50.247Z"
   },
   {
    "duration": 12,
    "start_time": "2023-06-27T10:09:50.267Z"
   },
   {
    "duration": 8,
    "start_time": "2023-06-27T10:09:50.281Z"
   },
   {
    "duration": 29,
    "start_time": "2023-06-27T10:09:50.290Z"
   },
   {
    "duration": 48,
    "start_time": "2023-06-27T10:09:50.323Z"
   },
   {
    "duration": 105,
    "start_time": "2023-06-27T10:09:50.372Z"
   },
   {
    "duration": 16,
    "start_time": "2023-06-27T10:09:50.480Z"
   },
   {
    "duration": 39,
    "start_time": "2023-06-27T10:09:50.498Z"
   },
   {
    "duration": 22,
    "start_time": "2023-06-27T10:09:50.539Z"
   },
   {
    "duration": 9,
    "start_time": "2023-06-27T10:09:50.563Z"
   },
   {
    "duration": 12,
    "start_time": "2023-06-27T10:09:50.574Z"
   },
   {
    "duration": 5,
    "start_time": "2023-06-27T10:09:50.588Z"
   },
   {
    "duration": 5,
    "start_time": "2023-06-27T10:09:50.595Z"
   },
   {
    "duration": 9,
    "start_time": "2023-06-27T10:09:50.602Z"
   },
   {
    "duration": 23,
    "start_time": "2023-06-27T10:09:50.613Z"
   },
   {
    "duration": 203,
    "start_time": "2023-06-27T10:09:50.638Z"
   },
   {
    "duration": 3,
    "start_time": "2023-06-27T10:09:50.843Z"
   },
   {
    "duration": 109,
    "start_time": "2023-06-27T10:09:50.848Z"
   },
   {
    "duration": 174,
    "start_time": "2023-06-27T10:09:50.959Z"
   },
   {
    "duration": 140,
    "start_time": "2023-06-27T10:09:51.135Z"
   },
   {
    "duration": 136,
    "start_time": "2023-06-27T10:09:51.277Z"
   },
   {
    "duration": 24,
    "start_time": "2023-06-27T10:09:51.416Z"
   },
   {
    "duration": 21,
    "start_time": "2023-06-27T10:09:51.442Z"
   },
   {
    "duration": 18,
    "start_time": "2023-06-27T10:09:51.464Z"
   },
   {
    "duration": 22,
    "start_time": "2023-06-27T10:09:51.484Z"
   },
   {
    "duration": 1056,
    "start_time": "2023-06-27T10:09:51.508Z"
   },
   {
    "duration": 4,
    "start_time": "2023-06-27T10:09:52.566Z"
   },
   {
    "duration": 234,
    "start_time": "2023-06-27T10:09:52.573Z"
   },
   {
    "duration": 96,
    "start_time": "2023-06-27T10:10:12.579Z"
   },
   {
    "duration": 112,
    "start_time": "2023-06-27T10:10:47.357Z"
   },
   {
    "duration": 5,
    "start_time": "2023-06-27T10:45:54.666Z"
   },
   {
    "duration": 241,
    "start_time": "2023-06-27T10:50:15.403Z"
   },
   {
    "duration": 644,
    "start_time": "2023-06-27T11:21:01.994Z"
   },
   {
    "duration": 428,
    "start_time": "2023-06-27T11:21:13.724Z"
   },
   {
    "duration": 337,
    "start_time": "2023-06-27T11:21:22.793Z"
   },
   {
    "duration": 272,
    "start_time": "2023-06-27T11:22:40.457Z"
   },
   {
    "duration": 188,
    "start_time": "2023-06-27T11:23:07.792Z"
   },
   {
    "duration": 283,
    "start_time": "2023-06-27T11:23:17.850Z"
   },
   {
    "duration": 288,
    "start_time": "2023-06-27T11:23:42.237Z"
   },
   {
    "duration": 93,
    "start_time": "2023-06-27T11:24:21.502Z"
   },
   {
    "duration": 368,
    "start_time": "2023-06-27T11:24:41.194Z"
   },
   {
    "duration": 270,
    "start_time": "2023-06-27T11:27:36.597Z"
   },
   {
    "duration": 332,
    "start_time": "2023-06-27T11:27:51.601Z"
   },
   {
    "duration": 409,
    "start_time": "2023-06-27T11:28:48.394Z"
   },
   {
    "duration": 373,
    "start_time": "2023-06-27T11:29:14.309Z"
   },
   {
    "duration": 367,
    "start_time": "2023-06-27T11:30:08.306Z"
   },
   {
    "duration": 201,
    "start_time": "2023-06-27T11:30:57.417Z"
   },
   {
    "duration": 148,
    "start_time": "2023-06-27T11:32:02.428Z"
   },
   {
    "duration": 429,
    "start_time": "2023-06-27T11:32:16.641Z"
   },
   {
    "duration": 210,
    "start_time": "2023-06-27T11:32:32.696Z"
   },
   {
    "duration": 259,
    "start_time": "2023-06-27T11:32:53.940Z"
   },
   {
    "duration": 220,
    "start_time": "2023-06-27T11:33:34.155Z"
   },
   {
    "duration": 256,
    "start_time": "2023-06-27T11:33:38.999Z"
   },
   {
    "duration": 206,
    "start_time": "2023-06-27T11:35:56.567Z"
   },
   {
    "duration": 187,
    "start_time": "2023-06-27T11:40:24.758Z"
   },
   {
    "duration": 1440,
    "start_time": "2023-06-27T11:42:40.212Z"
   },
   {
    "duration": 109,
    "start_time": "2023-06-27T11:42:41.659Z"
   },
   {
    "duration": 18,
    "start_time": "2023-06-27T11:42:41.770Z"
   },
   {
    "duration": 20,
    "start_time": "2023-06-27T11:42:41.790Z"
   },
   {
    "duration": 41,
    "start_time": "2023-06-27T11:42:41.813Z"
   },
   {
    "duration": 18,
    "start_time": "2023-06-27T11:42:41.859Z"
   },
   {
    "duration": 26,
    "start_time": "2023-06-27T11:42:41.880Z"
   },
   {
    "duration": 26,
    "start_time": "2023-06-27T11:42:41.908Z"
   },
   {
    "duration": 18,
    "start_time": "2023-06-27T11:42:41.936Z"
   },
   {
    "duration": 15,
    "start_time": "2023-06-27T11:42:41.957Z"
   },
   {
    "duration": 9,
    "start_time": "2023-06-27T11:42:41.974Z"
   },
   {
    "duration": 35,
    "start_time": "2023-06-27T11:42:41.985Z"
   },
   {
    "duration": 28,
    "start_time": "2023-06-27T11:42:42.023Z"
   },
   {
    "duration": 7,
    "start_time": "2023-06-27T11:42:42.055Z"
   },
   {
    "duration": 9,
    "start_time": "2023-06-27T11:42:42.064Z"
   },
   {
    "duration": 8,
    "start_time": "2023-06-27T11:42:42.075Z"
   },
   {
    "duration": 16,
    "start_time": "2023-06-27T11:42:42.085Z"
   },
   {
    "duration": 33,
    "start_time": "2023-06-27T11:42:42.103Z"
   },
   {
    "duration": 13,
    "start_time": "2023-06-27T11:42:42.138Z"
   },
   {
    "duration": 10,
    "start_time": "2023-06-27T11:42:42.153Z"
   },
   {
    "duration": 6,
    "start_time": "2023-06-27T11:42:42.165Z"
   },
   {
    "duration": 9,
    "start_time": "2023-06-27T11:42:42.173Z"
   },
   {
    "duration": 219,
    "start_time": "2023-06-27T11:42:42.184Z"
   },
   {
    "duration": 4,
    "start_time": "2023-06-27T11:42:42.405Z"
   },
   {
    "duration": 15,
    "start_time": "2023-06-27T11:42:42.410Z"
   },
   {
    "duration": 175,
    "start_time": "2023-06-27T11:42:42.427Z"
   },
   {
    "duration": 258,
    "start_time": "2023-06-27T11:42:42.605Z"
   },
   {
    "duration": 222,
    "start_time": "2023-06-27T11:42:42.865Z"
   },
   {
    "duration": 220,
    "start_time": "2023-06-27T11:42:43.089Z"
   },
   {
    "duration": 31,
    "start_time": "2023-06-27T11:42:43.313Z"
   },
   {
    "duration": 31,
    "start_time": "2023-06-27T11:42:43.347Z"
   },
   {
    "duration": 41,
    "start_time": "2023-06-27T11:42:43.380Z"
   },
   {
    "duration": 7,
    "start_time": "2023-06-27T11:42:43.429Z"
   },
   {
    "duration": 247,
    "start_time": "2023-06-27T11:42:43.439Z"
   },
   {
    "duration": 246,
    "start_time": "2023-06-27T11:42:43.688Z"
   },
   {
    "duration": 1023,
    "start_time": "2023-06-27T11:42:43.937Z"
   },
   {
    "duration": 4,
    "start_time": "2023-06-27T11:42:44.962Z"
   },
   {
    "duration": 370,
    "start_time": "2023-06-27T11:42:44.968Z"
   },
   {
    "duration": 1479,
    "start_time": "2023-06-27T11:55:29.008Z"
   },
   {
    "duration": 90,
    "start_time": "2023-06-27T11:55:30.490Z"
   },
   {
    "duration": 20,
    "start_time": "2023-06-27T11:55:30.583Z"
   },
   {
    "duration": 75,
    "start_time": "2023-06-27T11:55:30.606Z"
   },
   {
    "duration": 77,
    "start_time": "2023-06-27T11:55:30.684Z"
   },
   {
    "duration": 54,
    "start_time": "2023-06-27T11:55:30.763Z"
   },
   {
    "duration": 27,
    "start_time": "2023-06-27T11:55:30.832Z"
   },
   {
    "duration": 90,
    "start_time": "2023-06-27T11:55:30.862Z"
   },
   {
    "duration": 31,
    "start_time": "2023-06-27T11:55:30.955Z"
   },
   {
    "duration": 48,
    "start_time": "2023-06-27T11:55:30.989Z"
   },
   {
    "duration": 25,
    "start_time": "2023-06-27T11:55:31.040Z"
   },
   {
    "duration": 41,
    "start_time": "2023-06-27T11:55:31.067Z"
   },
   {
    "duration": 61,
    "start_time": "2023-06-27T11:55:31.110Z"
   },
   {
    "duration": 30,
    "start_time": "2023-06-27T11:55:31.175Z"
   },
   {
    "duration": 39,
    "start_time": "2023-06-27T11:55:31.207Z"
   },
   {
    "duration": 41,
    "start_time": "2023-06-27T11:55:31.249Z"
   },
   {
    "duration": 39,
    "start_time": "2023-06-27T11:55:31.293Z"
   },
   {
    "duration": 34,
    "start_time": "2023-06-27T11:55:31.334Z"
   },
   {
    "duration": 17,
    "start_time": "2023-06-27T11:55:31.371Z"
   },
   {
    "duration": 25,
    "start_time": "2023-06-27T11:55:31.391Z"
   },
   {
    "duration": 29,
    "start_time": "2023-06-27T11:55:31.421Z"
   },
   {
    "duration": 23,
    "start_time": "2023-06-27T11:55:31.452Z"
   },
   {
    "duration": 216,
    "start_time": "2023-06-27T11:55:31.478Z"
   },
   {
    "duration": 6,
    "start_time": "2023-06-27T11:55:31.696Z"
   },
   {
    "duration": 36,
    "start_time": "2023-06-27T11:55:31.705Z"
   },
   {
    "duration": 113,
    "start_time": "2023-06-27T11:55:31.744Z"
   },
   {
    "duration": 186,
    "start_time": "2023-06-27T11:55:31.860Z"
   },
   {
    "duration": 195,
    "start_time": "2023-06-27T11:55:32.049Z"
   },
   {
    "duration": 184,
    "start_time": "2023-06-27T11:55:32.246Z"
   },
   {
    "duration": 28,
    "start_time": "2023-06-27T11:55:32.432Z"
   },
   {
    "duration": 28,
    "start_time": "2023-06-27T11:55:32.463Z"
   },
   {
    "duration": 28,
    "start_time": "2023-06-27T11:55:32.493Z"
   },
   {
    "duration": 41,
    "start_time": "2023-06-27T11:55:32.523Z"
   },
   {
    "duration": 252,
    "start_time": "2023-06-27T11:55:32.567Z"
   },
   {
    "duration": 174,
    "start_time": "2023-06-27T11:55:32.831Z"
   },
   {
    "duration": 1159,
    "start_time": "2023-06-27T11:55:33.012Z"
   },
   {
    "duration": 4,
    "start_time": "2023-06-27T11:55:34.174Z"
   },
   {
    "duration": 268,
    "start_time": "2023-06-27T11:55:34.181Z"
   },
   {
    "duration": 1245,
    "start_time": "2023-06-27T12:07:36.609Z"
   },
   {
    "duration": 80,
    "start_time": "2023-06-27T12:07:37.857Z"
   },
   {
    "duration": 20,
    "start_time": "2023-06-27T12:07:37.940Z"
   },
   {
    "duration": 17,
    "start_time": "2023-06-27T12:07:37.962Z"
   },
   {
    "duration": 13,
    "start_time": "2023-06-27T12:07:37.983Z"
   },
   {
    "duration": 27,
    "start_time": "2023-06-27T12:07:37.998Z"
   },
   {
    "duration": 18,
    "start_time": "2023-06-27T12:07:38.027Z"
   },
   {
    "duration": 35,
    "start_time": "2023-06-27T12:07:38.048Z"
   },
   {
    "duration": 18,
    "start_time": "2023-06-27T12:07:38.086Z"
   },
   {
    "duration": 9,
    "start_time": "2023-06-27T12:07:38.113Z"
   },
   {
    "duration": 12,
    "start_time": "2023-06-27T12:07:38.124Z"
   },
   {
    "duration": 12,
    "start_time": "2023-06-27T12:07:38.138Z"
   },
   {
    "duration": 13,
    "start_time": "2023-06-27T12:07:38.151Z"
   },
   {
    "duration": 9,
    "start_time": "2023-06-27T12:07:38.170Z"
   },
   {
    "duration": 37,
    "start_time": "2023-06-27T12:07:38.181Z"
   },
   {
    "duration": 12,
    "start_time": "2023-06-27T12:07:38.221Z"
   },
   {
    "duration": 9,
    "start_time": "2023-06-27T12:07:38.235Z"
   },
   {
    "duration": 29,
    "start_time": "2023-06-27T12:07:38.246Z"
   },
   {
    "duration": 8,
    "start_time": "2023-06-27T12:07:38.278Z"
   },
   {
    "duration": 13,
    "start_time": "2023-06-27T12:07:38.289Z"
   },
   {
    "duration": 6,
    "start_time": "2023-06-27T12:07:38.313Z"
   },
   {
    "duration": 27,
    "start_time": "2023-06-27T12:07:38.322Z"
   },
   {
    "duration": 174,
    "start_time": "2023-06-27T12:07:38.352Z"
   },
   {
    "duration": 4,
    "start_time": "2023-06-27T12:07:38.529Z"
   },
   {
    "duration": 17,
    "start_time": "2023-06-27T12:07:38.535Z"
   },
   {
    "duration": 125,
    "start_time": "2023-06-27T12:07:38.555Z"
   },
   {
    "duration": 246,
    "start_time": "2023-06-27T12:07:38.682Z"
   },
   {
    "duration": 163,
    "start_time": "2023-06-27T12:07:38.931Z"
   },
   {
    "duration": 188,
    "start_time": "2023-06-27T12:07:39.096Z"
   },
   {
    "duration": 29,
    "start_time": "2023-06-27T12:07:39.286Z"
   },
   {
    "duration": 113,
    "start_time": "2023-06-27T12:07:39.317Z"
   },
   {
    "duration": 12,
    "start_time": "2023-06-27T12:07:39.432Z"
   },
   {
    "duration": 45,
    "start_time": "2023-06-27T12:07:39.446Z"
   },
   {
    "duration": 294,
    "start_time": "2023-06-27T12:07:39.493Z"
   },
   {
    "duration": 275,
    "start_time": "2023-06-27T12:07:39.790Z"
   },
   {
    "duration": 976,
    "start_time": "2023-06-27T12:07:40.068Z"
   },
   {
    "duration": 5,
    "start_time": "2023-06-27T12:07:41.046Z"
   },
   {
    "duration": 16,
    "start_time": "2023-06-27T12:07:41.052Z"
   },
   {
    "duration": 324,
    "start_time": "2023-06-27T12:07:41.071Z"
   },
   {
    "duration": 23,
    "start_time": "2023-06-27T12:07:41.398Z"
   },
   {
    "duration": 1331,
    "start_time": "2023-06-27T12:08:08.718Z"
   },
   {
    "duration": 72,
    "start_time": "2023-06-27T12:08:10.052Z"
   },
   {
    "duration": 14,
    "start_time": "2023-06-27T12:08:10.126Z"
   },
   {
    "duration": 42,
    "start_time": "2023-06-27T12:08:10.142Z"
   },
   {
    "duration": 37,
    "start_time": "2023-06-27T12:08:10.187Z"
   },
   {
    "duration": 69,
    "start_time": "2023-06-27T12:08:10.225Z"
   },
   {
    "duration": 39,
    "start_time": "2023-06-27T12:08:10.296Z"
   },
   {
    "duration": 51,
    "start_time": "2023-06-27T12:08:10.337Z"
   },
   {
    "duration": 60,
    "start_time": "2023-06-27T12:08:10.390Z"
   },
   {
    "duration": 15,
    "start_time": "2023-06-27T12:08:10.452Z"
   },
   {
    "duration": 21,
    "start_time": "2023-06-27T12:08:10.470Z"
   },
   {
    "duration": 7,
    "start_time": "2023-06-27T12:08:10.493Z"
   },
   {
    "duration": 61,
    "start_time": "2023-06-27T12:08:10.502Z"
   },
   {
    "duration": 46,
    "start_time": "2023-06-27T12:08:10.568Z"
   },
   {
    "duration": 37,
    "start_time": "2023-06-27T12:08:10.616Z"
   },
   {
    "duration": 17,
    "start_time": "2023-06-27T12:08:10.655Z"
   },
   {
    "duration": 15,
    "start_time": "2023-06-27T12:08:10.674Z"
   },
   {
    "duration": 21,
    "start_time": "2023-06-27T12:08:10.691Z"
   },
   {
    "duration": 30,
    "start_time": "2023-06-27T12:08:10.714Z"
   },
   {
    "duration": 47,
    "start_time": "2023-06-27T12:08:10.746Z"
   },
   {
    "duration": 35,
    "start_time": "2023-06-27T12:08:10.796Z"
   },
   {
    "duration": 11,
    "start_time": "2023-06-27T12:08:10.833Z"
   },
   {
    "duration": 198,
    "start_time": "2023-06-27T12:08:10.847Z"
   },
   {
    "duration": 5,
    "start_time": "2023-06-27T12:08:11.047Z"
   },
   {
    "duration": 31,
    "start_time": "2023-06-27T12:08:11.054Z"
   },
   {
    "duration": 138,
    "start_time": "2023-06-27T12:08:11.088Z"
   },
   {
    "duration": 171,
    "start_time": "2023-06-27T12:08:11.227Z"
   },
   {
    "duration": 149,
    "start_time": "2023-06-27T12:08:11.400Z"
   },
   {
    "duration": 171,
    "start_time": "2023-06-27T12:08:11.551Z"
   },
   {
    "duration": 30,
    "start_time": "2023-06-27T12:08:11.723Z"
   },
   {
    "duration": 33,
    "start_time": "2023-06-27T12:08:11.755Z"
   },
   {
    "duration": 34,
    "start_time": "2023-06-27T12:08:11.790Z"
   },
   {
    "duration": 12,
    "start_time": "2023-06-27T12:08:11.827Z"
   },
   {
    "duration": 179,
    "start_time": "2023-06-27T12:08:11.842Z"
   },
   {
    "duration": 167,
    "start_time": "2023-06-27T12:08:12.022Z"
   },
   {
    "duration": 930,
    "start_time": "2023-06-27T12:08:12.191Z"
   },
   {
    "duration": 4,
    "start_time": "2023-06-27T12:08:13.123Z"
   },
   {
    "duration": 9,
    "start_time": "2023-06-27T12:08:13.130Z"
   },
   {
    "duration": 1381,
    "start_time": "2023-06-27T12:08:13.142Z"
   },
   {
    "duration": 0,
    "start_time": "2023-06-27T12:08:14.526Z"
   },
   {
    "duration": 1653,
    "start_time": "2023-06-27T12:08:57.920Z"
   },
   {
    "duration": 85,
    "start_time": "2023-06-27T12:08:59.576Z"
   },
   {
    "duration": 17,
    "start_time": "2023-06-27T12:08:59.664Z"
   },
   {
    "duration": 12,
    "start_time": "2023-06-27T12:08:59.683Z"
   },
   {
    "duration": 13,
    "start_time": "2023-06-27T12:08:59.697Z"
   },
   {
    "duration": 22,
    "start_time": "2023-06-27T12:08:59.714Z"
   },
   {
    "duration": 19,
    "start_time": "2023-06-27T12:08:59.739Z"
   },
   {
    "duration": 17,
    "start_time": "2023-06-27T12:08:59.762Z"
   },
   {
    "duration": 31,
    "start_time": "2023-06-27T12:08:59.782Z"
   },
   {
    "duration": 8,
    "start_time": "2023-06-27T12:08:59.820Z"
   },
   {
    "duration": 131,
    "start_time": "2023-06-27T12:08:59.830Z"
   },
   {
    "duration": 20,
    "start_time": "2023-06-27T12:08:59.967Z"
   },
   {
    "duration": 23,
    "start_time": "2023-06-27T12:08:59.993Z"
   },
   {
    "duration": 91,
    "start_time": "2023-06-27T12:09:00.018Z"
   },
   {
    "duration": 41,
    "start_time": "2023-06-27T12:09:00.112Z"
   },
   {
    "duration": 97,
    "start_time": "2023-06-27T12:09:00.155Z"
   },
   {
    "duration": 47,
    "start_time": "2023-06-27T12:09:00.255Z"
   },
   {
    "duration": 49,
    "start_time": "2023-06-27T12:09:00.305Z"
   },
   {
    "duration": 90,
    "start_time": "2023-06-27T12:09:00.356Z"
   },
   {
    "duration": 289,
    "start_time": "2023-06-27T12:09:00.449Z"
   },
   {
    "duration": 314,
    "start_time": "2023-06-27T12:09:00.741Z"
   },
   {
    "duration": 56,
    "start_time": "2023-06-27T12:09:01.058Z"
   },
   {
    "duration": 377,
    "start_time": "2023-06-27T12:09:01.117Z"
   },
   {
    "duration": 225,
    "start_time": "2023-06-27T12:09:01.497Z"
   },
   {
    "duration": 91,
    "start_time": "2023-06-27T12:09:01.724Z"
   },
   {
    "duration": 172,
    "start_time": "2023-06-27T12:09:01.817Z"
   },
   {
    "duration": 267,
    "start_time": "2023-06-27T12:09:01.994Z"
   },
   {
    "duration": 207,
    "start_time": "2023-06-27T12:09:02.265Z"
   },
   {
    "duration": 256,
    "start_time": "2023-06-27T12:09:02.474Z"
   },
   {
    "duration": 24,
    "start_time": "2023-06-27T12:09:02.733Z"
   },
   {
    "duration": 36,
    "start_time": "2023-06-27T12:09:02.760Z"
   },
   {
    "duration": 26,
    "start_time": "2023-06-27T12:09:02.800Z"
   },
   {
    "duration": 26,
    "start_time": "2023-06-27T12:09:02.829Z"
   },
   {
    "duration": 256,
    "start_time": "2023-06-27T12:09:02.858Z"
   },
   {
    "duration": 278,
    "start_time": "2023-06-27T12:09:03.116Z"
   },
   {
    "duration": 1467,
    "start_time": "2023-06-27T12:09:03.396Z"
   },
   {
    "duration": 5,
    "start_time": "2023-06-27T12:09:04.864Z"
   },
   {
    "duration": 43,
    "start_time": "2023-06-27T12:09:04.871Z"
   },
   {
    "duration": 392,
    "start_time": "2023-06-27T12:09:04.917Z"
   },
   {
    "duration": 22,
    "start_time": "2023-06-27T12:09:05.312Z"
   },
   {
    "duration": 1532,
    "start_time": "2023-06-27T12:15:18.421Z"
   },
   {
    "duration": 110,
    "start_time": "2023-06-27T12:15:19.956Z"
   },
   {
    "duration": 19,
    "start_time": "2023-06-27T12:15:20.069Z"
   },
   {
    "duration": 28,
    "start_time": "2023-06-27T12:15:20.091Z"
   },
   {
    "duration": 10,
    "start_time": "2023-06-27T12:15:20.122Z"
   },
   {
    "duration": 17,
    "start_time": "2023-06-27T12:15:20.139Z"
   },
   {
    "duration": 17,
    "start_time": "2023-06-27T12:15:20.158Z"
   },
   {
    "duration": 47,
    "start_time": "2023-06-27T12:15:20.177Z"
   },
   {
    "duration": 17,
    "start_time": "2023-06-27T12:15:20.226Z"
   },
   {
    "duration": 12,
    "start_time": "2023-06-27T12:15:20.244Z"
   },
   {
    "duration": 20,
    "start_time": "2023-06-27T12:15:20.258Z"
   },
   {
    "duration": 9,
    "start_time": "2023-06-27T12:15:20.295Z"
   },
   {
    "duration": 27,
    "start_time": "2023-06-27T12:15:20.307Z"
   },
   {
    "duration": 9,
    "start_time": "2023-06-27T12:15:20.337Z"
   },
   {
    "duration": 9,
    "start_time": "2023-06-27T12:15:20.348Z"
   },
   {
    "duration": 6,
    "start_time": "2023-06-27T12:15:20.359Z"
   },
   {
    "duration": 17,
    "start_time": "2023-06-27T12:15:20.367Z"
   },
   {
    "duration": 13,
    "start_time": "2023-06-27T12:15:20.386Z"
   },
   {
    "duration": 22,
    "start_time": "2023-06-27T12:15:20.401Z"
   },
   {
    "duration": 20,
    "start_time": "2023-06-27T12:15:20.427Z"
   },
   {
    "duration": 16,
    "start_time": "2023-06-27T12:15:20.450Z"
   },
   {
    "duration": 19,
    "start_time": "2023-06-27T12:15:20.468Z"
   },
   {
    "duration": 237,
    "start_time": "2023-06-27T12:15:20.489Z"
   },
   {
    "duration": 8,
    "start_time": "2023-06-27T12:15:20.739Z"
   },
   {
    "duration": 10,
    "start_time": "2023-06-27T12:15:20.750Z"
   },
   {
    "duration": 142,
    "start_time": "2023-06-27T12:15:20.762Z"
   },
   {
    "duration": 199,
    "start_time": "2023-06-27T12:15:20.907Z"
   },
   {
    "duration": 217,
    "start_time": "2023-06-27T12:15:21.108Z"
   },
   {
    "duration": 188,
    "start_time": "2023-06-27T12:15:21.334Z"
   },
   {
    "duration": 26,
    "start_time": "2023-06-27T12:15:21.526Z"
   },
   {
    "duration": 23,
    "start_time": "2023-06-27T12:15:21.555Z"
   },
   {
    "duration": 29,
    "start_time": "2023-06-27T12:15:21.580Z"
   },
   {
    "duration": 19,
    "start_time": "2023-06-27T12:15:21.611Z"
   },
   {
    "duration": 194,
    "start_time": "2023-06-27T12:15:21.632Z"
   },
   {
    "duration": 181,
    "start_time": "2023-06-27T12:15:21.828Z"
   },
   {
    "duration": 1049,
    "start_time": "2023-06-27T12:15:22.014Z"
   },
   {
    "duration": 4,
    "start_time": "2023-06-27T12:15:23.065Z"
   },
   {
    "duration": 18,
    "start_time": "2023-06-27T12:15:23.071Z"
   },
   {
    "duration": 268,
    "start_time": "2023-06-27T12:15:23.091Z"
   },
   {
    "duration": 21,
    "start_time": "2023-06-27T12:15:23.361Z"
   },
   {
    "duration": 9,
    "start_time": "2023-06-27T12:15:23.388Z"
   },
   {
    "duration": 1093,
    "start_time": "2023-06-27T12:15:23.400Z"
   },
   {
    "duration": 1307,
    "start_time": "2023-06-27T12:21:11.832Z"
   },
   {
    "duration": 90,
    "start_time": "2023-06-27T12:21:13.143Z"
   },
   {
    "duration": 20,
    "start_time": "2023-06-27T12:21:13.236Z"
   },
   {
    "duration": 12,
    "start_time": "2023-06-27T12:21:13.259Z"
   },
   {
    "duration": 13,
    "start_time": "2023-06-27T12:21:13.274Z"
   },
   {
    "duration": 26,
    "start_time": "2023-06-27T12:21:13.289Z"
   },
   {
    "duration": 13,
    "start_time": "2023-06-27T12:21:13.317Z"
   },
   {
    "duration": 41,
    "start_time": "2023-06-27T12:21:13.332Z"
   },
   {
    "duration": 28,
    "start_time": "2023-06-27T12:21:13.375Z"
   },
   {
    "duration": 14,
    "start_time": "2023-06-27T12:21:13.407Z"
   },
   {
    "duration": 9,
    "start_time": "2023-06-27T12:21:13.424Z"
   },
   {
    "duration": 18,
    "start_time": "2023-06-27T12:21:13.436Z"
   },
   {
    "duration": 16,
    "start_time": "2023-06-27T12:21:13.456Z"
   },
   {
    "duration": 11,
    "start_time": "2023-06-27T12:21:13.474Z"
   },
   {
    "duration": 8,
    "start_time": "2023-06-27T12:21:13.490Z"
   },
   {
    "duration": 33,
    "start_time": "2023-06-27T12:21:13.500Z"
   },
   {
    "duration": 21,
    "start_time": "2023-06-27T12:21:13.535Z"
   },
   {
    "duration": 12,
    "start_time": "2023-06-27T12:21:13.558Z"
   },
   {
    "duration": 7,
    "start_time": "2023-06-27T12:21:13.572Z"
   },
   {
    "duration": 4,
    "start_time": "2023-06-27T12:21:13.581Z"
   },
   {
    "duration": 11,
    "start_time": "2023-06-27T12:21:13.587Z"
   },
   {
    "duration": 17,
    "start_time": "2023-06-27T12:21:13.614Z"
   },
   {
    "duration": 204,
    "start_time": "2023-06-27T12:21:13.634Z"
   },
   {
    "duration": 5,
    "start_time": "2023-06-27T12:21:13.841Z"
   },
   {
    "duration": 26,
    "start_time": "2023-06-27T12:21:13.848Z"
   },
   {
    "duration": 148,
    "start_time": "2023-06-27T12:21:13.879Z"
   },
   {
    "duration": 250,
    "start_time": "2023-06-27T12:21:14.028Z"
   },
   {
    "duration": 202,
    "start_time": "2023-06-27T12:21:14.283Z"
   },
   {
    "duration": 164,
    "start_time": "2023-06-27T12:21:14.487Z"
   },
   {
    "duration": 21,
    "start_time": "2023-06-27T12:21:14.652Z"
   },
   {
    "duration": 40,
    "start_time": "2023-06-27T12:21:14.675Z"
   },
   {
    "duration": 11,
    "start_time": "2023-06-27T12:21:14.721Z"
   },
   {
    "duration": 7,
    "start_time": "2023-06-27T12:21:14.736Z"
   },
   {
    "duration": 191,
    "start_time": "2023-06-27T12:21:14.745Z"
   },
   {
    "duration": 188,
    "start_time": "2023-06-27T12:21:14.938Z"
   },
   {
    "duration": 1047,
    "start_time": "2023-06-27T12:21:15.128Z"
   },
   {
    "duration": 5,
    "start_time": "2023-06-27T12:21:16.177Z"
   },
   {
    "duration": 63,
    "start_time": "2023-06-27T12:21:16.184Z"
   },
   {
    "duration": 325,
    "start_time": "2023-06-27T12:21:16.250Z"
   },
   {
    "duration": 17,
    "start_time": "2023-06-27T12:21:16.577Z"
   },
   {
    "duration": 31,
    "start_time": "2023-06-27T12:21:16.597Z"
   },
   {
    "duration": 1091,
    "start_time": "2023-06-27T12:21:16.632Z"
   },
   {
    "duration": 7,
    "start_time": "2023-06-27T12:21:17.731Z"
   },
   {
    "duration": 44,
    "start_time": "2023-06-27T12:21:17.741Z"
   },
   {
    "duration": 1351,
    "start_time": "2023-06-27T12:21:59.456Z"
   },
   {
    "duration": 84,
    "start_time": "2023-06-27T12:22:00.809Z"
   },
   {
    "duration": 18,
    "start_time": "2023-06-27T12:22:00.895Z"
   },
   {
    "duration": 27,
    "start_time": "2023-06-27T12:22:00.918Z"
   },
   {
    "duration": 33,
    "start_time": "2023-06-27T12:22:00.949Z"
   },
   {
    "duration": 43,
    "start_time": "2023-06-27T12:22:00.987Z"
   },
   {
    "duration": 58,
    "start_time": "2023-06-27T12:22:01.033Z"
   },
   {
    "duration": 75,
    "start_time": "2023-06-27T12:22:01.094Z"
   },
   {
    "duration": 30,
    "start_time": "2023-06-27T12:22:01.171Z"
   },
   {
    "duration": 29,
    "start_time": "2023-06-27T12:22:01.204Z"
   },
   {
    "duration": 38,
    "start_time": "2023-06-27T12:22:01.235Z"
   },
   {
    "duration": 36,
    "start_time": "2023-06-27T12:22:01.276Z"
   },
   {
    "duration": 80,
    "start_time": "2023-06-27T12:22:01.323Z"
   },
   {
    "duration": 40,
    "start_time": "2023-06-27T12:22:01.410Z"
   },
   {
    "duration": 51,
    "start_time": "2023-06-27T12:22:01.452Z"
   },
   {
    "duration": 45,
    "start_time": "2023-06-27T12:22:01.505Z"
   },
   {
    "duration": 51,
    "start_time": "2023-06-27T12:22:01.553Z"
   },
   {
    "duration": 50,
    "start_time": "2023-06-27T12:22:01.607Z"
   },
   {
    "duration": 21,
    "start_time": "2023-06-27T12:22:01.662Z"
   },
   {
    "duration": 24,
    "start_time": "2023-06-27T12:22:01.686Z"
   },
   {
    "duration": 31,
    "start_time": "2023-06-27T12:22:01.712Z"
   },
   {
    "duration": 33,
    "start_time": "2023-06-27T12:22:01.745Z"
   },
   {
    "duration": 269,
    "start_time": "2023-06-27T12:22:01.780Z"
   },
   {
    "duration": 5,
    "start_time": "2023-06-27T12:22:02.051Z"
   },
   {
    "duration": 22,
    "start_time": "2023-06-27T12:22:02.058Z"
   },
   {
    "duration": 171,
    "start_time": "2023-06-27T12:22:02.082Z"
   },
   {
    "duration": 204,
    "start_time": "2023-06-27T12:22:02.255Z"
   },
   {
    "duration": 204,
    "start_time": "2023-06-27T12:22:02.461Z"
   },
   {
    "duration": 224,
    "start_time": "2023-06-27T12:22:02.668Z"
   },
   {
    "duration": 42,
    "start_time": "2023-06-27T12:22:02.895Z"
   },
   {
    "duration": 34,
    "start_time": "2023-06-27T12:22:02.939Z"
   },
   {
    "duration": 14,
    "start_time": "2023-06-27T12:22:02.975Z"
   },
   {
    "duration": 25,
    "start_time": "2023-06-27T12:22:02.992Z"
   },
   {
    "duration": 251,
    "start_time": "2023-06-27T12:22:03.020Z"
   },
   {
    "duration": 206,
    "start_time": "2023-06-27T12:22:03.273Z"
   },
   {
    "duration": 1258,
    "start_time": "2023-06-27T12:22:03.481Z"
   },
   {
    "duration": 6,
    "start_time": "2023-06-27T12:22:04.742Z"
   },
   {
    "duration": 24,
    "start_time": "2023-06-27T12:22:04.750Z"
   },
   {
    "duration": 273,
    "start_time": "2023-06-27T12:22:04.776Z"
   },
   {
    "duration": 15,
    "start_time": "2023-06-27T12:22:05.051Z"
   },
   {
    "duration": 14,
    "start_time": "2023-06-27T12:22:05.072Z"
   },
   {
    "duration": 1532,
    "start_time": "2023-06-27T12:22:05.089Z"
   },
   {
    "duration": 18,
    "start_time": "2023-06-27T12:22:06.623Z"
   },
   {
    "duration": 11,
    "start_time": "2023-06-27T12:22:06.648Z"
   },
   {
    "duration": 1435,
    "start_time": "2023-06-27T14:12:53.667Z"
   },
   {
    "duration": 1700,
    "start_time": "2023-06-27T14:13:06.937Z"
   },
   {
    "duration": 1346,
    "start_time": "2023-06-27T14:13:28.049Z"
   },
   {
    "duration": 1190,
    "start_time": "2023-06-27T14:13:52.883Z"
   },
   {
    "duration": 1628,
    "start_time": "2023-06-27T14:20:51.457Z"
   },
   {
    "duration": 112,
    "start_time": "2023-06-27T14:20:53.087Z"
   },
   {
    "duration": 35,
    "start_time": "2023-06-27T14:20:53.201Z"
   },
   {
    "duration": 33,
    "start_time": "2023-06-27T14:20:53.238Z"
   },
   {
    "duration": 25,
    "start_time": "2023-06-27T14:20:53.277Z"
   },
   {
    "duration": 40,
    "start_time": "2023-06-27T14:20:53.304Z"
   },
   {
    "duration": 21,
    "start_time": "2023-06-27T14:20:53.346Z"
   },
   {
    "duration": 15,
    "start_time": "2023-06-27T14:20:53.369Z"
   },
   {
    "duration": 62,
    "start_time": "2023-06-27T14:20:53.386Z"
   },
   {
    "duration": 16,
    "start_time": "2023-06-27T14:20:53.465Z"
   },
   {
    "duration": 58,
    "start_time": "2023-06-27T14:20:53.483Z"
   },
   {
    "duration": 44,
    "start_time": "2023-06-27T14:20:53.549Z"
   },
   {
    "duration": 46,
    "start_time": "2023-06-27T14:20:53.595Z"
   },
   {
    "duration": 50,
    "start_time": "2023-06-27T14:20:53.649Z"
   },
   {
    "duration": 67,
    "start_time": "2023-06-27T14:20:53.701Z"
   },
   {
    "duration": 28,
    "start_time": "2023-06-27T14:20:53.776Z"
   },
   {
    "duration": 70,
    "start_time": "2023-06-27T14:20:53.806Z"
   },
   {
    "duration": 9,
    "start_time": "2023-06-27T14:20:53.883Z"
   },
   {
    "duration": 6,
    "start_time": "2023-06-27T14:20:53.894Z"
   },
   {
    "duration": 58,
    "start_time": "2023-06-27T14:20:53.902Z"
   },
   {
    "duration": 16,
    "start_time": "2023-06-27T14:20:53.970Z"
   },
   {
    "duration": 22,
    "start_time": "2023-06-27T14:20:53.988Z"
   },
   {
    "duration": 221,
    "start_time": "2023-06-27T14:20:54.015Z"
   },
   {
    "duration": 4,
    "start_time": "2023-06-27T14:20:54.238Z"
   },
   {
    "duration": 12,
    "start_time": "2023-06-27T14:20:54.244Z"
   },
   {
    "duration": 138,
    "start_time": "2023-06-27T14:20:54.258Z"
   },
   {
    "duration": 224,
    "start_time": "2023-06-27T14:20:54.397Z"
   },
   {
    "duration": 206,
    "start_time": "2023-06-27T14:20:54.624Z"
   },
   {
    "duration": 218,
    "start_time": "2023-06-27T14:20:54.833Z"
   },
   {
    "duration": 31,
    "start_time": "2023-06-27T14:20:55.057Z"
   },
   {
    "duration": 58,
    "start_time": "2023-06-27T14:20:55.091Z"
   },
   {
    "duration": 25,
    "start_time": "2023-06-27T14:20:55.158Z"
   },
   {
    "duration": 8,
    "start_time": "2023-06-27T14:20:55.186Z"
   },
   {
    "duration": 242,
    "start_time": "2023-06-27T14:20:55.195Z"
   },
   {
    "duration": 227,
    "start_time": "2023-06-27T14:20:55.440Z"
   },
   {
    "duration": 1235,
    "start_time": "2023-06-27T14:20:55.670Z"
   },
   {
    "duration": 17,
    "start_time": "2023-06-27T14:20:56.907Z"
   },
   {
    "duration": 12,
    "start_time": "2023-06-27T14:20:56.938Z"
   },
   {
    "duration": 280,
    "start_time": "2023-06-27T14:20:56.961Z"
   },
   {
    "duration": 26,
    "start_time": "2023-06-27T14:20:57.246Z"
   },
   {
    "duration": 9,
    "start_time": "2023-06-27T14:20:57.276Z"
   },
   {
    "duration": 1237,
    "start_time": "2023-06-27T14:20:57.287Z"
   },
   {
    "duration": 13,
    "start_time": "2023-06-27T14:20:58.526Z"
   },
   {
    "duration": 31,
    "start_time": "2023-06-27T14:20:58.541Z"
   },
   {
    "duration": 2335,
    "start_time": "2023-06-27T14:50:04.550Z"
   },
   {
    "duration": 125,
    "start_time": "2023-06-27T14:50:06.896Z"
   },
   {
    "duration": 33,
    "start_time": "2023-06-27T14:50:07.030Z"
   },
   {
    "duration": 17,
    "start_time": "2023-06-27T14:50:07.068Z"
   },
   {
    "duration": 21,
    "start_time": "2023-06-27T14:50:07.088Z"
   },
   {
    "duration": 43,
    "start_time": "2023-06-27T14:50:07.110Z"
   },
   {
    "duration": 29,
    "start_time": "2023-06-27T14:50:07.157Z"
   },
   {
    "duration": 23,
    "start_time": "2023-06-27T14:50:07.188Z"
   },
   {
    "duration": 30,
    "start_time": "2023-06-27T14:50:07.213Z"
   },
   {
    "duration": 54,
    "start_time": "2023-06-27T14:50:07.246Z"
   },
   {
    "duration": 5,
    "start_time": "2023-06-27T14:50:07.305Z"
   },
   {
    "duration": 37,
    "start_time": "2023-06-27T14:50:07.312Z"
   },
   {
    "duration": 29,
    "start_time": "2023-06-27T14:50:07.356Z"
   },
   {
    "duration": 12,
    "start_time": "2023-06-27T14:50:07.400Z"
   },
   {
    "duration": 50,
    "start_time": "2023-06-27T14:50:07.423Z"
   },
   {
    "duration": 14,
    "start_time": "2023-06-27T14:50:07.476Z"
   },
   {
    "duration": 20,
    "start_time": "2023-06-27T14:50:07.492Z"
   },
   {
    "duration": 18,
    "start_time": "2023-06-27T14:50:07.531Z"
   },
   {
    "duration": 22,
    "start_time": "2023-06-27T14:50:07.551Z"
   },
   {
    "duration": 27,
    "start_time": "2023-06-27T14:50:07.575Z"
   },
   {
    "duration": 34,
    "start_time": "2023-06-27T14:50:07.604Z"
   },
   {
    "duration": 30,
    "start_time": "2023-06-27T14:50:07.640Z"
   },
   {
    "duration": 345,
    "start_time": "2023-06-27T14:50:07.672Z"
   },
   {
    "duration": 5,
    "start_time": "2023-06-27T14:50:08.019Z"
   },
   {
    "duration": 14,
    "start_time": "2023-06-27T14:50:08.026Z"
   },
   {
    "duration": 239,
    "start_time": "2023-06-27T14:50:08.042Z"
   },
   {
    "duration": 291,
    "start_time": "2023-06-27T14:50:08.283Z"
   },
   {
    "duration": 203,
    "start_time": "2023-06-27T14:50:08.578Z"
   },
   {
    "duration": 215,
    "start_time": "2023-06-27T14:50:08.790Z"
   },
   {
    "duration": 46,
    "start_time": "2023-06-27T14:50:09.011Z"
   },
   {
    "duration": 43,
    "start_time": "2023-06-27T14:50:09.064Z"
   },
   {
    "duration": 20,
    "start_time": "2023-06-27T14:50:09.109Z"
   },
   {
    "duration": 12,
    "start_time": "2023-06-27T14:50:09.131Z"
   },
   {
    "duration": 305,
    "start_time": "2023-06-27T14:50:09.145Z"
   },
   {
    "duration": 255,
    "start_time": "2023-06-27T14:50:09.453Z"
   },
   {
    "duration": 1808,
    "start_time": "2023-06-27T14:50:09.712Z"
   },
   {
    "duration": 5,
    "start_time": "2023-06-27T14:50:11.522Z"
   },
   {
    "duration": 14,
    "start_time": "2023-06-27T14:50:11.548Z"
   },
   {
    "duration": 466,
    "start_time": "2023-06-27T14:50:11.565Z"
   },
   {
    "duration": 32,
    "start_time": "2023-06-27T14:50:12.037Z"
   },
   {
    "duration": 24,
    "start_time": "2023-06-27T14:50:12.074Z"
   },
   {
    "duration": 1611,
    "start_time": "2023-06-27T14:50:12.103Z"
   },
   {
    "duration": 10,
    "start_time": "2023-06-27T14:50:13.721Z"
   },
   {
    "duration": 46,
    "start_time": "2023-06-27T14:50:13.739Z"
   },
   {
    "duration": 80,
    "start_time": "2023-06-28T06:59:34.267Z"
   },
   {
    "duration": 12105,
    "start_time": "2023-06-28T06:59:49.782Z"
   },
   {
    "duration": 590,
    "start_time": "2023-06-28T07:00:01.895Z"
   },
   {
    "duration": 53,
    "start_time": "2023-06-28T07:00:02.487Z"
   },
   {
    "duration": 349,
    "start_time": "2023-06-28T07:00:02.557Z"
   },
   {
    "duration": 258,
    "start_time": "2023-06-28T07:00:02.914Z"
   },
   {
    "duration": 187,
    "start_time": "2023-06-28T07:00:03.179Z"
   },
   {
    "duration": 190,
    "start_time": "2023-06-28T07:00:03.373Z"
   },
   {
    "duration": 36,
    "start_time": "2023-06-28T07:00:03.571Z"
   },
   {
    "duration": 96,
    "start_time": "2023-06-28T07:00:03.614Z"
   },
   {
    "duration": 132,
    "start_time": "2023-06-28T07:00:03.716Z"
   },
   {
    "duration": 167,
    "start_time": "2023-06-28T07:00:03.850Z"
   },
   {
    "duration": 83,
    "start_time": "2023-06-28T07:00:04.026Z"
   },
   {
    "duration": 76,
    "start_time": "2023-06-28T07:00:04.111Z"
   },
   {
    "duration": 92,
    "start_time": "2023-06-28T07:00:04.201Z"
   },
   {
    "duration": 118,
    "start_time": "2023-06-28T07:00:04.296Z"
   },
   {
    "duration": 152,
    "start_time": "2023-06-28T07:00:04.425Z"
   },
   {
    "duration": 125,
    "start_time": "2023-06-28T07:00:04.587Z"
   },
   {
    "duration": 73,
    "start_time": "2023-06-28T07:00:04.725Z"
   },
   {
    "duration": 147,
    "start_time": "2023-06-28T07:00:04.800Z"
   },
   {
    "duration": 86,
    "start_time": "2023-06-28T07:00:04.955Z"
   },
   {
    "duration": 232,
    "start_time": "2023-06-28T07:00:05.043Z"
   },
   {
    "duration": 89,
    "start_time": "2023-06-28T07:00:05.292Z"
   },
   {
    "duration": 386,
    "start_time": "2023-06-28T07:00:05.391Z"
   },
   {
    "duration": 6,
    "start_time": "2023-06-28T07:00:05.783Z"
   },
   {
    "duration": 113,
    "start_time": "2023-06-28T07:00:05.798Z"
   },
   {
    "duration": 313,
    "start_time": "2023-06-28T07:00:05.916Z"
   },
   {
    "duration": 252,
    "start_time": "2023-06-28T07:00:06.236Z"
   },
   {
    "duration": 322,
    "start_time": "2023-06-28T07:00:06.496Z"
   },
   {
    "duration": 246,
    "start_time": "2023-06-28T07:00:06.826Z"
   },
   {
    "duration": 90,
    "start_time": "2023-06-28T07:00:07.080Z"
   },
   {
    "duration": 167,
    "start_time": "2023-06-28T07:00:07.177Z"
   },
   {
    "duration": 34,
    "start_time": "2023-06-28T07:00:07.356Z"
   },
   {
    "duration": 63,
    "start_time": "2023-06-28T07:00:07.393Z"
   },
   {
    "duration": 370,
    "start_time": "2023-06-28T07:00:07.463Z"
   },
   {
    "duration": 299,
    "start_time": "2023-06-28T07:00:07.840Z"
   },
   {
    "duration": 1315,
    "start_time": "2023-06-28T07:00:08.147Z"
   },
   {
    "duration": 7,
    "start_time": "2023-06-28T07:00:09.463Z"
   },
   {
    "duration": 98,
    "start_time": "2023-06-28T07:00:09.481Z"
   },
   {
    "duration": 254,
    "start_time": "2023-06-28T07:00:09.581Z"
   },
   {
    "duration": 53,
    "start_time": "2023-06-28T07:00:09.845Z"
   },
   {
    "duration": 76,
    "start_time": "2023-06-28T07:00:09.899Z"
   },
   {
    "duration": 192,
    "start_time": "2023-06-28T07:00:09.977Z"
   },
   {
    "duration": 0,
    "start_time": "2023-06-28T07:00:10.173Z"
   },
   {
    "duration": 0,
    "start_time": "2023-06-28T07:00:10.174Z"
   },
   {
    "duration": 0,
    "start_time": "2023-06-28T07:00:10.175Z"
   },
   {
    "duration": 1822,
    "start_time": "2023-06-28T07:00:50.294Z"
   },
   {
    "duration": 114,
    "start_time": "2023-06-28T07:00:52.129Z"
   },
   {
    "duration": 18,
    "start_time": "2023-06-28T07:00:52.245Z"
   },
   {
    "duration": 56,
    "start_time": "2023-06-28T07:00:52.268Z"
   },
   {
    "duration": 83,
    "start_time": "2023-06-28T07:00:52.333Z"
   },
   {
    "duration": 150,
    "start_time": "2023-06-28T07:00:52.425Z"
   },
   {
    "duration": 109,
    "start_time": "2023-06-28T07:00:52.582Z"
   },
   {
    "duration": 24,
    "start_time": "2023-06-28T07:00:52.693Z"
   },
   {
    "duration": 51,
    "start_time": "2023-06-28T07:00:52.720Z"
   },
   {
    "duration": 103,
    "start_time": "2023-06-28T07:00:52.773Z"
   },
   {
    "duration": 96,
    "start_time": "2023-06-28T07:00:52.881Z"
   },
   {
    "duration": 88,
    "start_time": "2023-06-28T07:00:52.983Z"
   },
   {
    "duration": 123,
    "start_time": "2023-06-28T07:00:53.095Z"
   },
   {
    "duration": 114,
    "start_time": "2023-06-28T07:00:53.239Z"
   },
   {
    "duration": 154,
    "start_time": "2023-06-28T07:00:53.361Z"
   },
   {
    "duration": 75,
    "start_time": "2023-06-28T07:00:53.521Z"
   },
   {
    "duration": 102,
    "start_time": "2023-06-28T07:00:53.598Z"
   },
   {
    "duration": 76,
    "start_time": "2023-06-28T07:00:53.706Z"
   },
   {
    "duration": 105,
    "start_time": "2023-06-28T07:00:53.785Z"
   },
   {
    "duration": 51,
    "start_time": "2023-06-28T07:00:53.893Z"
   },
   {
    "duration": 93,
    "start_time": "2023-06-28T07:00:53.946Z"
   },
   {
    "duration": 98,
    "start_time": "2023-06-28T07:00:54.042Z"
   },
   {
    "duration": 343,
    "start_time": "2023-06-28T07:00:54.144Z"
   },
   {
    "duration": 13,
    "start_time": "2023-06-28T07:00:54.495Z"
   },
   {
    "duration": 59,
    "start_time": "2023-06-28T07:00:54.513Z"
   },
   {
    "duration": 215,
    "start_time": "2023-06-28T07:00:54.575Z"
   },
   {
    "duration": 295,
    "start_time": "2023-06-28T07:00:54.799Z"
   },
   {
    "duration": 168,
    "start_time": "2023-06-28T07:00:55.097Z"
   },
   {
    "duration": 245,
    "start_time": "2023-06-28T07:00:55.278Z"
   },
   {
    "duration": 33,
    "start_time": "2023-06-28T07:00:55.531Z"
   },
   {
    "duration": 130,
    "start_time": "2023-06-28T07:00:55.566Z"
   },
   {
    "duration": 78,
    "start_time": "2023-06-28T07:00:55.698Z"
   },
   {
    "duration": 13,
    "start_time": "2023-06-28T07:00:55.778Z"
   },
   {
    "duration": 270,
    "start_time": "2023-06-28T07:00:55.793Z"
   },
   {
    "duration": 218,
    "start_time": "2023-06-28T07:00:56.065Z"
   },
   {
    "duration": 1830,
    "start_time": "2023-06-28T07:00:56.288Z"
   },
   {
    "duration": 10,
    "start_time": "2023-06-28T07:00:58.130Z"
   },
   {
    "duration": 63,
    "start_time": "2023-06-28T07:00:58.148Z"
   },
   {
    "duration": 450,
    "start_time": "2023-06-28T07:00:58.219Z"
   },
   {
    "duration": 54,
    "start_time": "2023-06-28T07:00:58.679Z"
   },
   {
    "duration": 72,
    "start_time": "2023-06-28T07:00:58.744Z"
   },
   {
    "duration": 1699,
    "start_time": "2023-06-28T07:00:58.822Z"
   },
   {
    "duration": 15,
    "start_time": "2023-06-28T07:01:00.528Z"
   },
   {
    "duration": 1732,
    "start_time": "2023-06-28T07:01:00.552Z"
   },
   {
    "duration": 18,
    "start_time": "2023-06-28T07:01:02.289Z"
   },
   {
    "duration": 240,
    "start_time": "2023-06-28T07:05:37.537Z"
   },
   {
    "duration": 1535,
    "start_time": "2023-06-28T07:05:54.126Z"
   },
   {
    "duration": 104,
    "start_time": "2023-06-28T07:05:55.664Z"
   },
   {
    "duration": 14,
    "start_time": "2023-06-28T07:05:55.770Z"
   },
   {
    "duration": 90,
    "start_time": "2023-06-28T07:05:55.785Z"
   },
   {
    "duration": 41,
    "start_time": "2023-06-28T07:05:55.879Z"
   },
   {
    "duration": 60,
    "start_time": "2023-06-28T07:05:55.923Z"
   },
   {
    "duration": 66,
    "start_time": "2023-06-28T07:05:55.986Z"
   },
   {
    "duration": 27,
    "start_time": "2023-06-28T07:05:56.057Z"
   },
   {
    "duration": 23,
    "start_time": "2023-06-28T07:05:56.087Z"
   },
   {
    "duration": 60,
    "start_time": "2023-06-28T07:05:56.112Z"
   },
   {
    "duration": 9,
    "start_time": "2023-06-28T07:05:56.174Z"
   },
   {
    "duration": 77,
    "start_time": "2023-06-28T07:05:56.185Z"
   },
   {
    "duration": 18,
    "start_time": "2023-06-28T07:05:56.265Z"
   },
   {
    "duration": 9,
    "start_time": "2023-06-28T07:05:56.288Z"
   },
   {
    "duration": 46,
    "start_time": "2023-06-28T07:05:56.299Z"
   },
   {
    "duration": 15,
    "start_time": "2023-06-28T07:05:56.347Z"
   },
   {
    "duration": 26,
    "start_time": "2023-06-28T07:05:56.364Z"
   },
   {
    "duration": 29,
    "start_time": "2023-06-28T07:05:56.392Z"
   },
   {
    "duration": 38,
    "start_time": "2023-06-28T07:05:56.422Z"
   },
   {
    "duration": 6,
    "start_time": "2023-06-28T07:05:56.462Z"
   },
   {
    "duration": 32,
    "start_time": "2023-06-28T07:05:56.471Z"
   },
   {
    "duration": 44,
    "start_time": "2023-06-28T07:05:56.506Z"
   },
   {
    "duration": 292,
    "start_time": "2023-06-28T07:05:56.552Z"
   },
   {
    "duration": 7,
    "start_time": "2023-06-28T07:05:56.846Z"
   },
   {
    "duration": 35,
    "start_time": "2023-06-28T07:05:56.854Z"
   },
   {
    "duration": 119,
    "start_time": "2023-06-28T07:05:56.891Z"
   },
   {
    "duration": 182,
    "start_time": "2023-06-28T07:05:57.012Z"
   },
   {
    "duration": 174,
    "start_time": "2023-06-28T07:05:57.196Z"
   },
   {
    "duration": 218,
    "start_time": "2023-06-28T07:05:57.372Z"
   },
   {
    "duration": 61,
    "start_time": "2023-06-28T07:05:57.592Z"
   },
   {
    "duration": 27,
    "start_time": "2023-06-28T07:05:57.654Z"
   },
   {
    "duration": 10,
    "start_time": "2023-06-28T07:05:57.683Z"
   },
   {
    "duration": 18,
    "start_time": "2023-06-28T07:05:57.694Z"
   },
   {
    "duration": 234,
    "start_time": "2023-06-28T07:05:57.714Z"
   },
   {
    "duration": 200,
    "start_time": "2023-06-28T07:05:57.950Z"
   },
   {
    "duration": 1087,
    "start_time": "2023-06-28T07:05:58.152Z"
   },
   {
    "duration": 4,
    "start_time": "2023-06-28T07:05:59.241Z"
   },
   {
    "duration": 9,
    "start_time": "2023-06-28T07:05:59.247Z"
   },
   {
    "duration": 312,
    "start_time": "2023-06-28T07:05:59.260Z"
   },
   {
    "duration": 15,
    "start_time": "2023-06-28T07:05:59.574Z"
   },
   {
    "duration": 20,
    "start_time": "2023-06-28T07:05:59.604Z"
   },
   {
    "duration": 1170,
    "start_time": "2023-06-28T07:05:59.626Z"
   },
   {
    "duration": 13,
    "start_time": "2023-06-28T07:06:00.799Z"
   },
   {
    "duration": 83,
    "start_time": "2023-06-28T07:06:00.814Z"
   },
   {
    "duration": 218,
    "start_time": "2023-06-28T07:06:00.900Z"
   },
   {
    "duration": 30,
    "start_time": "2023-06-28T07:07:05.230Z"
   },
   {
    "duration": 14,
    "start_time": "2023-06-28T07:07:13.585Z"
   },
   {
    "duration": 1807,
    "start_time": "2023-06-28T07:10:36.317Z"
   },
   {
    "duration": 106,
    "start_time": "2023-06-28T07:10:38.133Z"
   },
   {
    "duration": 22,
    "start_time": "2023-06-28T07:10:38.245Z"
   },
   {
    "duration": 18,
    "start_time": "2023-06-28T07:10:38.269Z"
   },
   {
    "duration": 39,
    "start_time": "2023-06-28T07:10:38.290Z"
   },
   {
    "duration": 34,
    "start_time": "2023-06-28T07:10:38.331Z"
   },
   {
    "duration": 20,
    "start_time": "2023-06-28T07:10:38.368Z"
   },
   {
    "duration": 15,
    "start_time": "2023-06-28T07:10:38.390Z"
   },
   {
    "duration": 52,
    "start_time": "2023-06-28T07:10:38.406Z"
   },
   {
    "duration": 21,
    "start_time": "2023-06-28T07:10:38.460Z"
   },
   {
    "duration": 6,
    "start_time": "2023-06-28T07:10:38.483Z"
   },
   {
    "duration": 19,
    "start_time": "2023-06-28T07:10:38.490Z"
   },
   {
    "duration": 46,
    "start_time": "2023-06-28T07:10:38.516Z"
   },
   {
    "duration": 19,
    "start_time": "2023-06-28T07:10:38.567Z"
   },
   {
    "duration": 19,
    "start_time": "2023-06-28T07:10:38.588Z"
   },
   {
    "duration": 57,
    "start_time": "2023-06-28T07:10:38.609Z"
   },
   {
    "duration": 15,
    "start_time": "2023-06-28T07:10:38.668Z"
   },
   {
    "duration": 13,
    "start_time": "2023-06-28T07:10:38.686Z"
   },
   {
    "duration": 51,
    "start_time": "2023-06-28T07:10:38.705Z"
   },
   {
    "duration": 26,
    "start_time": "2023-06-28T07:10:38.758Z"
   },
   {
    "duration": 57,
    "start_time": "2023-06-28T07:10:38.786Z"
   },
   {
    "duration": 25,
    "start_time": "2023-06-28T07:10:38.845Z"
   },
   {
    "duration": 241,
    "start_time": "2023-06-28T07:10:38.872Z"
   },
   {
    "duration": 13,
    "start_time": "2023-06-28T07:10:39.125Z"
   },
   {
    "duration": 43,
    "start_time": "2023-06-28T07:10:39.146Z"
   },
   {
    "duration": 176,
    "start_time": "2023-06-28T07:10:39.191Z"
   },
   {
    "duration": 203,
    "start_time": "2023-06-28T07:10:39.369Z"
   },
   {
    "duration": 177,
    "start_time": "2023-06-28T07:10:39.574Z"
   },
   {
    "duration": 172,
    "start_time": "2023-06-28T07:10:39.753Z"
   },
   {
    "duration": 26,
    "start_time": "2023-06-28T07:10:39.931Z"
   },
   {
    "duration": 35,
    "start_time": "2023-06-28T07:10:39.959Z"
   },
   {
    "duration": 62,
    "start_time": "2023-06-28T07:10:39.996Z"
   },
   {
    "duration": 17,
    "start_time": "2023-06-28T07:10:40.060Z"
   },
   {
    "duration": 261,
    "start_time": "2023-06-28T07:10:40.079Z"
   },
   {
    "duration": 286,
    "start_time": "2023-06-28T07:10:40.348Z"
   },
   {
    "duration": 1288,
    "start_time": "2023-06-28T07:10:40.636Z"
   },
   {
    "duration": 6,
    "start_time": "2023-06-28T07:10:41.926Z"
   },
   {
    "duration": 32,
    "start_time": "2023-06-28T07:10:41.934Z"
   },
   {
    "duration": 349,
    "start_time": "2023-06-28T07:10:41.968Z"
   },
   {
    "duration": 22,
    "start_time": "2023-06-28T07:10:42.319Z"
   },
   {
    "duration": 12,
    "start_time": "2023-06-28T07:10:42.350Z"
   },
   {
    "duration": 1063,
    "start_time": "2023-06-28T07:10:42.364Z"
   },
   {
    "duration": 14,
    "start_time": "2023-06-28T07:10:43.434Z"
   },
   {
    "duration": 13,
    "start_time": "2023-06-28T07:10:43.450Z"
   },
   {
    "duration": 163,
    "start_time": "2023-06-28T07:10:43.464Z"
   },
   {
    "duration": 16,
    "start_time": "2023-06-28T07:24:52.703Z"
   },
   {
    "duration": 1809,
    "start_time": "2023-06-28T07:25:17.043Z"
   },
   {
    "duration": 93,
    "start_time": "2023-06-28T07:25:18.854Z"
   },
   {
    "duration": 14,
    "start_time": "2023-06-28T07:25:18.949Z"
   },
   {
    "duration": 14,
    "start_time": "2023-06-28T07:25:18.966Z"
   },
   {
    "duration": 15,
    "start_time": "2023-06-28T07:25:18.984Z"
   },
   {
    "duration": 78,
    "start_time": "2023-06-28T07:25:19.001Z"
   },
   {
    "duration": 38,
    "start_time": "2023-06-28T07:25:19.081Z"
   },
   {
    "duration": 54,
    "start_time": "2023-06-28T07:25:19.121Z"
   },
   {
    "duration": 35,
    "start_time": "2023-06-28T07:25:19.178Z"
   },
   {
    "duration": 47,
    "start_time": "2023-06-28T07:25:19.221Z"
   },
   {
    "duration": 6,
    "start_time": "2023-06-28T07:25:19.271Z"
   },
   {
    "duration": 11,
    "start_time": "2023-06-28T07:25:19.279Z"
   },
   {
    "duration": 59,
    "start_time": "2023-06-28T07:25:19.293Z"
   },
   {
    "duration": 10,
    "start_time": "2023-06-28T07:25:19.357Z"
   },
   {
    "duration": 19,
    "start_time": "2023-06-28T07:25:19.370Z"
   },
   {
    "duration": 23,
    "start_time": "2023-06-28T07:25:19.391Z"
   },
   {
    "duration": 45,
    "start_time": "2023-06-28T07:25:19.416Z"
   },
   {
    "duration": 9,
    "start_time": "2023-06-28T07:25:19.464Z"
   },
   {
    "duration": 11,
    "start_time": "2023-06-28T07:25:19.475Z"
   },
   {
    "duration": 8,
    "start_time": "2023-06-28T07:25:19.488Z"
   },
   {
    "duration": 50,
    "start_time": "2023-06-28T07:25:19.498Z"
   },
   {
    "duration": 14,
    "start_time": "2023-06-28T07:25:19.551Z"
   },
   {
    "duration": 263,
    "start_time": "2023-06-28T07:25:19.568Z"
   },
   {
    "duration": 7,
    "start_time": "2023-06-28T07:25:19.832Z"
   },
   {
    "duration": 35,
    "start_time": "2023-06-28T07:25:19.850Z"
   },
   {
    "duration": 154,
    "start_time": "2023-06-28T07:25:19.888Z"
   },
   {
    "duration": 186,
    "start_time": "2023-06-28T07:25:20.045Z"
   },
   {
    "duration": 205,
    "start_time": "2023-06-28T07:25:20.236Z"
   },
   {
    "duration": 212,
    "start_time": "2023-06-28T07:25:20.443Z"
   },
   {
    "duration": 24,
    "start_time": "2023-06-28T07:25:20.657Z"
   },
   {
    "duration": 59,
    "start_time": "2023-06-28T07:25:20.683Z"
   },
   {
    "duration": 49,
    "start_time": "2023-06-28T07:25:20.744Z"
   },
   {
    "duration": 50,
    "start_time": "2023-06-28T07:25:20.795Z"
   },
   {
    "duration": 336,
    "start_time": "2023-06-28T07:25:20.847Z"
   },
   {
    "duration": 280,
    "start_time": "2023-06-28T07:25:21.186Z"
   },
   {
    "duration": 1127,
    "start_time": "2023-06-28T07:25:21.468Z"
   },
   {
    "duration": 17,
    "start_time": "2023-06-28T07:25:22.598Z"
   },
   {
    "duration": 43,
    "start_time": "2023-06-28T07:25:22.618Z"
   },
   {
    "duration": 290,
    "start_time": "2023-06-28T07:25:22.664Z"
   },
   {
    "duration": 16,
    "start_time": "2023-06-28T07:25:22.956Z"
   },
   {
    "duration": 7,
    "start_time": "2023-06-28T07:25:22.977Z"
   },
   {
    "duration": 1195,
    "start_time": "2023-06-28T07:25:22.987Z"
   },
   {
    "duration": 7,
    "start_time": "2023-06-28T07:25:24.184Z"
   },
   {
    "duration": 42,
    "start_time": "2023-06-28T07:25:24.221Z"
   },
   {
    "duration": 196,
    "start_time": "2023-06-28T07:25:24.266Z"
   },
   {
    "duration": 0,
    "start_time": "2023-06-28T07:25:24.465Z"
   },
   {
    "duration": 1574,
    "start_time": "2023-06-28T07:25:50.346Z"
   },
   {
    "duration": 87,
    "start_time": "2023-06-28T07:25:51.922Z"
   },
   {
    "duration": 20,
    "start_time": "2023-06-28T07:25:52.011Z"
   },
   {
    "duration": 30,
    "start_time": "2023-06-28T07:25:52.033Z"
   },
   {
    "duration": 21,
    "start_time": "2023-06-28T07:25:52.067Z"
   },
   {
    "duration": 52,
    "start_time": "2023-06-28T07:25:52.090Z"
   },
   {
    "duration": 24,
    "start_time": "2023-06-28T07:25:52.144Z"
   },
   {
    "duration": 26,
    "start_time": "2023-06-28T07:25:52.170Z"
   },
   {
    "duration": 64,
    "start_time": "2023-06-28T07:25:52.198Z"
   },
   {
    "duration": 28,
    "start_time": "2023-06-28T07:25:52.264Z"
   },
   {
    "duration": 19,
    "start_time": "2023-06-28T07:25:52.295Z"
   },
   {
    "duration": 46,
    "start_time": "2023-06-28T07:25:52.317Z"
   },
   {
    "duration": 17,
    "start_time": "2023-06-28T07:25:52.365Z"
   },
   {
    "duration": 10,
    "start_time": "2023-06-28T07:25:52.386Z"
   },
   {
    "duration": 13,
    "start_time": "2023-06-28T07:25:52.398Z"
   },
   {
    "duration": 46,
    "start_time": "2023-06-28T07:25:52.419Z"
   },
   {
    "duration": 15,
    "start_time": "2023-06-28T07:25:52.467Z"
   },
   {
    "duration": 23,
    "start_time": "2023-06-28T07:25:52.484Z"
   },
   {
    "duration": 43,
    "start_time": "2023-06-28T07:25:52.512Z"
   },
   {
    "duration": 22,
    "start_time": "2023-06-28T07:25:52.556Z"
   },
   {
    "duration": 19,
    "start_time": "2023-06-28T07:25:52.581Z"
   },
   {
    "duration": 52,
    "start_time": "2023-06-28T07:25:52.602Z"
   },
   {
    "duration": 207,
    "start_time": "2023-06-28T07:25:52.656Z"
   },
   {
    "duration": 7,
    "start_time": "2023-06-28T07:25:52.865Z"
   },
   {
    "duration": 17,
    "start_time": "2023-06-28T07:25:52.873Z"
   },
   {
    "duration": 132,
    "start_time": "2023-06-28T07:25:52.903Z"
   },
   {
    "duration": 185,
    "start_time": "2023-06-28T07:25:53.038Z"
   },
   {
    "duration": 163,
    "start_time": "2023-06-28T07:25:53.224Z"
   },
   {
    "duration": 176,
    "start_time": "2023-06-28T07:25:53.389Z"
   },
   {
    "duration": 44,
    "start_time": "2023-06-28T07:25:53.569Z"
   },
   {
    "duration": 41,
    "start_time": "2023-06-28T07:25:53.616Z"
   },
   {
    "duration": 106,
    "start_time": "2023-06-28T07:25:53.660Z"
   },
   {
    "duration": 38,
    "start_time": "2023-06-28T07:25:53.768Z"
   },
   {
    "duration": 363,
    "start_time": "2023-06-28T07:25:53.809Z"
   },
   {
    "duration": 204,
    "start_time": "2023-06-28T07:25:54.174Z"
   },
   {
    "duration": 1072,
    "start_time": "2023-06-28T07:25:54.380Z"
   },
   {
    "duration": 6,
    "start_time": "2023-06-28T07:25:55.454Z"
   },
   {
    "duration": 27,
    "start_time": "2023-06-28T07:25:55.462Z"
   },
   {
    "duration": 320,
    "start_time": "2023-06-28T07:25:55.491Z"
   },
   {
    "duration": 24,
    "start_time": "2023-06-28T07:25:55.813Z"
   },
   {
    "duration": 34,
    "start_time": "2023-06-28T07:25:55.843Z"
   },
   {
    "duration": 1059,
    "start_time": "2023-06-28T07:25:55.879Z"
   },
   {
    "duration": 7,
    "start_time": "2023-06-28T07:25:56.940Z"
   },
   {
    "duration": 13,
    "start_time": "2023-06-28T07:25:56.951Z"
   },
   {
    "duration": 28,
    "start_time": "2023-06-28T07:25:56.966Z"
   },
   {
    "duration": 56,
    "start_time": "2023-06-28T07:25:56.996Z"
   },
   {
    "duration": 1605,
    "start_time": "2023-06-28T07:27:06.595Z"
   },
   {
    "duration": 151,
    "start_time": "2023-06-28T07:27:08.202Z"
   },
   {
    "duration": 15,
    "start_time": "2023-06-28T07:27:08.355Z"
   },
   {
    "duration": 23,
    "start_time": "2023-06-28T07:27:08.373Z"
   },
   {
    "duration": 66,
    "start_time": "2023-06-28T07:27:08.402Z"
   },
   {
    "duration": 25,
    "start_time": "2023-06-28T07:27:08.471Z"
   },
   {
    "duration": 81,
    "start_time": "2023-06-28T07:27:08.498Z"
   },
   {
    "duration": 19,
    "start_time": "2023-06-28T07:27:08.582Z"
   },
   {
    "duration": 24,
    "start_time": "2023-06-28T07:27:08.603Z"
   },
   {
    "duration": 62,
    "start_time": "2023-06-28T07:27:08.634Z"
   },
   {
    "duration": 68,
    "start_time": "2023-06-28T07:27:08.699Z"
   },
   {
    "duration": 21,
    "start_time": "2023-06-28T07:27:08.770Z"
   },
   {
    "duration": 65,
    "start_time": "2023-06-28T07:27:08.793Z"
   },
   {
    "duration": 10,
    "start_time": "2023-06-28T07:27:08.863Z"
   },
   {
    "duration": 16,
    "start_time": "2023-06-28T07:27:08.875Z"
   },
   {
    "duration": 11,
    "start_time": "2023-06-28T07:27:08.893Z"
   },
   {
    "duration": 68,
    "start_time": "2023-06-28T07:27:08.906Z"
   },
   {
    "duration": 18,
    "start_time": "2023-06-28T07:27:08.977Z"
   },
   {
    "duration": 65,
    "start_time": "2023-06-28T07:27:08.997Z"
   },
   {
    "duration": 29,
    "start_time": "2023-06-28T07:27:09.065Z"
   },
   {
    "duration": 66,
    "start_time": "2023-06-28T07:27:09.096Z"
   },
   {
    "duration": 49,
    "start_time": "2023-06-28T07:27:09.164Z"
   },
   {
    "duration": 363,
    "start_time": "2023-06-28T07:27:09.217Z"
   },
   {
    "duration": 10,
    "start_time": "2023-06-28T07:27:09.582Z"
   },
   {
    "duration": 95,
    "start_time": "2023-06-28T07:27:09.603Z"
   },
   {
    "duration": 205,
    "start_time": "2023-06-28T07:27:09.700Z"
   },
   {
    "duration": 196,
    "start_time": "2023-06-28T07:27:09.909Z"
   },
   {
    "duration": 161,
    "start_time": "2023-06-28T07:27:10.110Z"
   },
   {
    "duration": 201,
    "start_time": "2023-06-28T07:27:10.274Z"
   },
   {
    "duration": 46,
    "start_time": "2023-06-28T07:27:10.481Z"
   },
   {
    "duration": 48,
    "start_time": "2023-06-28T07:27:10.531Z"
   },
   {
    "duration": 27,
    "start_time": "2023-06-28T07:27:10.580Z"
   },
   {
    "duration": 67,
    "start_time": "2023-06-28T07:27:10.613Z"
   },
   {
    "duration": 282,
    "start_time": "2023-06-28T07:27:10.687Z"
   },
   {
    "duration": 284,
    "start_time": "2023-06-28T07:27:10.971Z"
   },
   {
    "duration": 1448,
    "start_time": "2023-06-28T07:27:11.258Z"
   },
   {
    "duration": 9,
    "start_time": "2023-06-28T07:27:12.711Z"
   },
   {
    "duration": 41,
    "start_time": "2023-06-28T07:27:12.725Z"
   },
   {
    "duration": 328,
    "start_time": "2023-06-28T07:27:12.768Z"
   },
   {
    "duration": 20,
    "start_time": "2023-06-28T07:27:13.099Z"
   },
   {
    "duration": 51,
    "start_time": "2023-06-28T07:27:13.124Z"
   },
   {
    "duration": 1332,
    "start_time": "2023-06-28T07:27:13.177Z"
   },
   {
    "duration": 7,
    "start_time": "2023-06-28T07:27:14.511Z"
   },
   {
    "duration": 75,
    "start_time": "2023-06-28T07:27:14.522Z"
   },
   {
    "duration": 54,
    "start_time": "2023-06-28T07:27:14.599Z"
   },
   {
    "duration": 209,
    "start_time": "2023-06-28T07:27:14.655Z"
   },
   {
    "duration": 0,
    "start_time": "2023-06-28T07:27:14.869Z"
   },
   {
    "duration": 7,
    "start_time": "2023-06-28T07:27:42.560Z"
   },
   {
    "duration": 17,
    "start_time": "2023-06-28T07:28:01.725Z"
   },
   {
    "duration": 13,
    "start_time": "2023-06-28T07:28:57.130Z"
   },
   {
    "duration": 11,
    "start_time": "2023-06-28T07:29:37.769Z"
   },
   {
    "duration": 26,
    "start_time": "2023-06-28T07:30:49.527Z"
   },
   {
    "duration": 5,
    "start_time": "2023-06-28T07:31:02.925Z"
   },
   {
    "duration": 10,
    "start_time": "2023-06-28T07:31:04.240Z"
   },
   {
    "duration": 10,
    "start_time": "2023-06-28T07:31:12.327Z"
   },
   {
    "duration": 12,
    "start_time": "2023-06-28T07:32:48.302Z"
   },
   {
    "duration": 11,
    "start_time": "2023-06-28T07:35:43.549Z"
   },
   {
    "duration": 1426,
    "start_time": "2023-06-28T07:36:03.401Z"
   },
   {
    "duration": 92,
    "start_time": "2023-06-28T07:36:04.840Z"
   },
   {
    "duration": 15,
    "start_time": "2023-06-28T07:36:04.938Z"
   },
   {
    "duration": 15,
    "start_time": "2023-06-28T07:36:04.955Z"
   },
   {
    "duration": 15,
    "start_time": "2023-06-28T07:36:04.972Z"
   },
   {
    "duration": 16,
    "start_time": "2023-06-28T07:36:04.989Z"
   },
   {
    "duration": 54,
    "start_time": "2023-06-28T07:36:05.006Z"
   },
   {
    "duration": 10,
    "start_time": "2023-06-28T07:36:05.062Z"
   },
   {
    "duration": 10,
    "start_time": "2023-06-28T07:36:05.074Z"
   },
   {
    "duration": 20,
    "start_time": "2023-06-28T07:36:05.086Z"
   },
   {
    "duration": 48,
    "start_time": "2023-06-28T07:36:05.112Z"
   },
   {
    "duration": 8,
    "start_time": "2023-06-28T07:36:05.162Z"
   },
   {
    "duration": 18,
    "start_time": "2023-06-28T07:36:05.172Z"
   },
   {
    "duration": 8,
    "start_time": "2023-06-28T07:36:05.194Z"
   },
   {
    "duration": 58,
    "start_time": "2023-06-28T07:36:05.204Z"
   },
   {
    "duration": 7,
    "start_time": "2023-06-28T07:36:05.263Z"
   },
   {
    "duration": 9,
    "start_time": "2023-06-28T07:36:05.271Z"
   },
   {
    "duration": 11,
    "start_time": "2023-06-28T07:36:05.282Z"
   },
   {
    "duration": 6,
    "start_time": "2023-06-28T07:36:05.294Z"
   },
   {
    "duration": 57,
    "start_time": "2023-06-28T07:36:05.303Z"
   },
   {
    "duration": 17,
    "start_time": "2023-06-28T07:36:05.362Z"
   },
   {
    "duration": 11,
    "start_time": "2023-06-28T07:36:05.381Z"
   },
   {
    "duration": 188,
    "start_time": "2023-06-28T07:36:05.394Z"
   },
   {
    "duration": 4,
    "start_time": "2023-06-28T07:36:05.584Z"
   },
   {
    "duration": 72,
    "start_time": "2023-06-28T07:36:05.589Z"
   },
   {
    "duration": 189,
    "start_time": "2023-06-28T07:36:05.663Z"
   },
   {
    "duration": 183,
    "start_time": "2023-06-28T07:36:05.854Z"
   },
   {
    "duration": 148,
    "start_time": "2023-06-28T07:36:06.041Z"
   },
   {
    "duration": 169,
    "start_time": "2023-06-28T07:36:06.191Z"
   },
   {
    "duration": 19,
    "start_time": "2023-06-28T07:36:06.362Z"
   },
   {
    "duration": 44,
    "start_time": "2023-06-28T07:36:06.383Z"
   },
   {
    "duration": 33,
    "start_time": "2023-06-28T07:36:06.429Z"
   },
   {
    "duration": 15,
    "start_time": "2023-06-28T07:36:06.464Z"
   },
   {
    "duration": 193,
    "start_time": "2023-06-28T07:36:06.481Z"
   },
   {
    "duration": 189,
    "start_time": "2023-06-28T07:36:06.676Z"
   },
   {
    "duration": 1100,
    "start_time": "2023-06-28T07:36:06.867Z"
   },
   {
    "duration": 4,
    "start_time": "2023-06-28T07:36:07.969Z"
   },
   {
    "duration": 9,
    "start_time": "2023-06-28T07:36:07.974Z"
   },
   {
    "duration": 286,
    "start_time": "2023-06-28T07:36:07.984Z"
   },
   {
    "duration": 15,
    "start_time": "2023-06-28T07:36:08.272Z"
   },
   {
    "duration": 7,
    "start_time": "2023-06-28T07:36:08.305Z"
   },
   {
    "duration": 1056,
    "start_time": "2023-06-28T07:36:08.317Z"
   },
   {
    "duration": 5,
    "start_time": "2023-06-28T07:36:09.375Z"
   },
   {
    "duration": 53,
    "start_time": "2023-06-28T07:36:09.382Z"
   },
   {
    "duration": 293,
    "start_time": "2023-06-28T07:36:09.437Z"
   },
   {
    "duration": 7,
    "start_time": "2023-06-28T07:36:09.732Z"
   },
   {
    "duration": 22,
    "start_time": "2023-06-28T07:36:09.743Z"
   },
   {
    "duration": 1852,
    "start_time": "2023-06-28T07:41:45.874Z"
   },
   {
    "duration": 1922,
    "start_time": "2023-06-28T07:41:54.950Z"
   },
   {
    "duration": 306,
    "start_time": "2023-06-28T07:42:03.772Z"
   },
   {
    "duration": 1367,
    "start_time": "2023-06-28T07:46:01.664Z"
   },
   {
    "duration": 99,
    "start_time": "2023-06-28T07:46:03.033Z"
   },
   {
    "duration": 18,
    "start_time": "2023-06-28T07:46:03.138Z"
   },
   {
    "duration": 31,
    "start_time": "2023-06-28T07:46:03.159Z"
   },
   {
    "duration": 81,
    "start_time": "2023-06-28T07:46:03.194Z"
   },
   {
    "duration": 52,
    "start_time": "2023-06-28T07:46:03.277Z"
   },
   {
    "duration": 153,
    "start_time": "2023-06-28T07:46:03.331Z"
   },
   {
    "duration": 28,
    "start_time": "2023-06-28T07:46:03.487Z"
   },
   {
    "duration": 70,
    "start_time": "2023-06-28T07:46:03.522Z"
   },
   {
    "duration": 18,
    "start_time": "2023-06-28T07:46:03.594Z"
   },
   {
    "duration": 69,
    "start_time": "2023-06-28T07:46:03.623Z"
   },
   {
    "duration": 35,
    "start_time": "2023-06-28T07:46:03.694Z"
   },
   {
    "duration": 50,
    "start_time": "2023-06-28T07:46:03.733Z"
   },
   {
    "duration": 11,
    "start_time": "2023-06-28T07:46:03.786Z"
   },
   {
    "duration": 76,
    "start_time": "2023-06-28T07:46:03.799Z"
   },
   {
    "duration": 14,
    "start_time": "2023-06-28T07:46:03.877Z"
   },
   {
    "duration": 42,
    "start_time": "2023-06-28T07:46:03.893Z"
   },
   {
    "duration": 48,
    "start_time": "2023-06-28T07:46:03.939Z"
   },
   {
    "duration": 16,
    "start_time": "2023-06-28T07:46:03.989Z"
   },
   {
    "duration": 65,
    "start_time": "2023-06-28T07:46:04.008Z"
   },
   {
    "duration": 89,
    "start_time": "2023-06-28T07:46:04.076Z"
   },
   {
    "duration": 19,
    "start_time": "2023-06-28T07:46:04.167Z"
   },
   {
    "duration": 211,
    "start_time": "2023-06-28T07:46:04.188Z"
   },
   {
    "duration": 16,
    "start_time": "2023-06-28T07:46:04.403Z"
   },
   {
    "duration": 56,
    "start_time": "2023-06-28T07:46:04.431Z"
   },
   {
    "duration": 203,
    "start_time": "2023-06-28T07:46:04.489Z"
   },
   {
    "duration": 200,
    "start_time": "2023-06-28T07:46:04.694Z"
   },
   {
    "duration": 217,
    "start_time": "2023-06-28T07:46:04.895Z"
   },
   {
    "duration": 204,
    "start_time": "2023-06-28T07:46:05.115Z"
   },
   {
    "duration": 23,
    "start_time": "2023-06-28T07:46:05.321Z"
   },
   {
    "duration": 67,
    "start_time": "2023-06-28T07:46:05.348Z"
   },
   {
    "duration": 49,
    "start_time": "2023-06-28T07:46:05.417Z"
   },
   {
    "duration": 32,
    "start_time": "2023-06-28T07:46:05.467Z"
   },
   {
    "duration": 253,
    "start_time": "2023-06-28T07:46:05.501Z"
   },
   {
    "duration": 185,
    "start_time": "2023-06-28T07:46:05.755Z"
   },
   {
    "duration": 1110,
    "start_time": "2023-06-28T07:46:05.942Z"
   },
   {
    "duration": 4,
    "start_time": "2023-06-28T07:46:07.057Z"
   },
   {
    "duration": 10,
    "start_time": "2023-06-28T07:46:07.063Z"
   },
   {
    "duration": 318,
    "start_time": "2023-06-28T07:46:07.074Z"
   },
   {
    "duration": 22,
    "start_time": "2023-06-28T07:46:07.393Z"
   },
   {
    "duration": 58,
    "start_time": "2023-06-28T07:46:07.420Z"
   },
   {
    "duration": 1099,
    "start_time": "2023-06-28T07:46:07.479Z"
   },
   {
    "duration": 6,
    "start_time": "2023-06-28T07:46:08.580Z"
   },
   {
    "duration": 51,
    "start_time": "2023-06-28T07:46:08.587Z"
   },
   {
    "duration": 321,
    "start_time": "2023-06-28T07:46:08.641Z"
   },
   {
    "duration": 279,
    "start_time": "2023-06-28T07:46:08.964Z"
   },
   {
    "duration": 143,
    "start_time": "2023-06-28T07:46:09.250Z"
   },
   {
    "duration": 0,
    "start_time": "2023-06-28T07:46:09.396Z"
   },
   {
    "duration": 478,
    "start_time": "2023-06-28T07:46:25.331Z"
   },
   {
    "duration": 711,
    "start_time": "2023-06-28T07:46:38.153Z"
   },
   {
    "duration": 13,
    "start_time": "2023-06-28T07:50:27.335Z"
   },
   {
    "duration": 6,
    "start_time": "2023-06-28T07:50:37.140Z"
   },
   {
    "duration": 8,
    "start_time": "2023-06-28T07:50:42.298Z"
   },
   {
    "duration": 5,
    "start_time": "2023-06-28T07:50:45.573Z"
   },
   {
    "duration": 10,
    "start_time": "2023-06-28T07:50:49.024Z"
   },
   {
    "duration": 6,
    "start_time": "2023-06-28T07:50:55.546Z"
   },
   {
    "duration": 288,
    "start_time": "2023-06-28T07:51:04.227Z"
   },
   {
    "duration": 308,
    "start_time": "2023-06-28T07:51:19.852Z"
   },
   {
    "duration": 416,
    "start_time": "2023-06-28T07:52:44.272Z"
   },
   {
    "duration": 7,
    "start_time": "2023-06-28T07:52:57.732Z"
   },
   {
    "duration": 362,
    "start_time": "2023-06-28T07:53:02.665Z"
   },
   {
    "duration": 17,
    "start_time": "2023-06-28T07:53:20.298Z"
   },
   {
    "duration": 6,
    "start_time": "2023-06-28T07:53:23.589Z"
   },
   {
    "duration": 532,
    "start_time": "2023-06-28T07:53:27.917Z"
   },
   {
    "duration": 6,
    "start_time": "2023-06-28T07:55:04.061Z"
   },
   {
    "duration": 331,
    "start_time": "2023-06-28T07:55:09.853Z"
   },
   {
    "duration": 10,
    "start_time": "2023-06-28T08:00:41.019Z"
   },
   {
    "duration": 8,
    "start_time": "2023-06-28T08:03:05.333Z"
   },
   {
    "duration": 9,
    "start_time": "2023-06-28T08:03:14.832Z"
   },
   {
    "duration": 7,
    "start_time": "2023-06-28T08:03:25.435Z"
   },
   {
    "duration": 12,
    "start_time": "2023-06-28T08:03:33.239Z"
   },
   {
    "duration": 7,
    "start_time": "2023-06-28T08:03:51.028Z"
   },
   {
    "duration": 18,
    "start_time": "2023-06-28T08:06:15.755Z"
   },
   {
    "duration": 14,
    "start_time": "2023-06-28T08:06:24.644Z"
   },
   {
    "duration": 8,
    "start_time": "2023-06-28T08:06:55.551Z"
   },
   {
    "duration": 6,
    "start_time": "2023-06-28T08:08:17.473Z"
   },
   {
    "duration": 7,
    "start_time": "2023-06-28T08:08:22.537Z"
   },
   {
    "duration": 186,
    "start_time": "2023-06-28T08:09:43.068Z"
   },
   {
    "duration": 6,
    "start_time": "2023-06-28T08:13:25.957Z"
   },
   {
    "duration": 6,
    "start_time": "2023-06-28T08:18:45.972Z"
   },
   {
    "duration": 6,
    "start_time": "2023-06-28T08:26:55.059Z"
   },
   {
    "duration": 16,
    "start_time": "2023-06-28T08:27:05.222Z"
   },
   {
    "duration": 7,
    "start_time": "2023-06-28T08:27:19.156Z"
   },
   {
    "duration": 5,
    "start_time": "2023-06-28T08:27:45.243Z"
   },
   {
    "duration": 6,
    "start_time": "2023-06-28T08:27:52.034Z"
   },
   {
    "duration": 6,
    "start_time": "2023-06-28T08:29:54.542Z"
   },
   {
    "duration": 13,
    "start_time": "2023-06-28T08:30:07.239Z"
   },
   {
    "duration": 7,
    "start_time": "2023-06-28T08:30:15.249Z"
   },
   {
    "duration": 8,
    "start_time": "2023-06-28T08:30:28.636Z"
   },
   {
    "duration": 8,
    "start_time": "2023-06-28T08:30:31.863Z"
   },
   {
    "duration": 6,
    "start_time": "2023-06-28T08:30:39.251Z"
   },
   {
    "duration": 11,
    "start_time": "2023-06-28T08:30:55.194Z"
   },
   {
    "duration": 1457,
    "start_time": "2023-06-28T08:35:47.529Z"
   },
   {
    "duration": 93,
    "start_time": "2023-06-28T08:35:48.988Z"
   },
   {
    "duration": 14,
    "start_time": "2023-06-28T08:35:49.083Z"
   },
   {
    "duration": 48,
    "start_time": "2023-06-28T08:35:49.099Z"
   },
   {
    "duration": 14,
    "start_time": "2023-06-28T08:35:49.149Z"
   },
   {
    "duration": 20,
    "start_time": "2023-06-28T08:35:49.165Z"
   },
   {
    "duration": 27,
    "start_time": "2023-06-28T08:35:49.188Z"
   },
   {
    "duration": 42,
    "start_time": "2023-06-28T08:35:49.217Z"
   },
   {
    "duration": 16,
    "start_time": "2023-06-28T08:35:49.261Z"
   },
   {
    "duration": 13,
    "start_time": "2023-06-28T08:35:49.279Z"
   },
   {
    "duration": 12,
    "start_time": "2023-06-28T08:35:49.294Z"
   },
   {
    "duration": 45,
    "start_time": "2023-06-28T08:35:49.307Z"
   },
   {
    "duration": 22,
    "start_time": "2023-06-28T08:35:49.354Z"
   },
   {
    "duration": 26,
    "start_time": "2023-06-28T08:35:49.381Z"
   },
   {
    "duration": 40,
    "start_time": "2023-06-28T08:35:49.409Z"
   },
   {
    "duration": 10,
    "start_time": "2023-06-28T08:35:49.451Z"
   },
   {
    "duration": 15,
    "start_time": "2023-06-28T08:35:49.463Z"
   },
   {
    "duration": 13,
    "start_time": "2023-06-28T08:35:49.481Z"
   },
   {
    "duration": 8,
    "start_time": "2023-06-28T08:35:49.496Z"
   },
   {
    "duration": 37,
    "start_time": "2023-06-28T08:35:49.514Z"
   },
   {
    "duration": 10,
    "start_time": "2023-06-28T08:35:49.553Z"
   },
   {
    "duration": 24,
    "start_time": "2023-06-28T08:35:49.564Z"
   },
   {
    "duration": 194,
    "start_time": "2023-06-28T08:35:49.591Z"
   },
   {
    "duration": 22,
    "start_time": "2023-06-28T08:35:49.787Z"
   },
   {
    "duration": 25,
    "start_time": "2023-06-28T08:35:49.820Z"
   },
   {
    "duration": 144,
    "start_time": "2023-06-28T08:35:49.847Z"
   },
   {
    "duration": 182,
    "start_time": "2023-06-28T08:35:49.994Z"
   },
   {
    "duration": 176,
    "start_time": "2023-06-28T08:35:50.178Z"
   },
   {
    "duration": 202,
    "start_time": "2023-06-28T08:35:50.356Z"
   },
   {
    "duration": 27,
    "start_time": "2023-06-28T08:35:50.560Z"
   },
   {
    "duration": 45,
    "start_time": "2023-06-28T08:35:50.589Z"
   },
   {
    "duration": 75,
    "start_time": "2023-06-28T08:35:50.637Z"
   },
   {
    "duration": 77,
    "start_time": "2023-06-28T08:35:50.714Z"
   },
   {
    "duration": 298,
    "start_time": "2023-06-28T08:35:50.794Z"
   },
   {
    "duration": 217,
    "start_time": "2023-06-28T08:35:51.095Z"
   },
   {
    "duration": 1131,
    "start_time": "2023-06-28T08:35:51.314Z"
   },
   {
    "duration": 6,
    "start_time": "2023-06-28T08:35:52.450Z"
   },
   {
    "duration": 8,
    "start_time": "2023-06-28T08:35:52.459Z"
   },
   {
    "duration": 311,
    "start_time": "2023-06-28T08:35:52.470Z"
   },
   {
    "duration": 20,
    "start_time": "2023-06-28T08:35:52.783Z"
   },
   {
    "duration": 37,
    "start_time": "2023-06-28T08:35:52.814Z"
   },
   {
    "duration": 1425,
    "start_time": "2023-06-28T08:35:52.853Z"
   },
   {
    "duration": 7,
    "start_time": "2023-06-28T08:35:54.281Z"
   },
   {
    "duration": 29,
    "start_time": "2023-06-28T08:35:54.303Z"
   },
   {
    "duration": 329,
    "start_time": "2023-06-28T08:35:54.342Z"
   },
   {
    "duration": 247,
    "start_time": "2023-06-28T08:35:54.674Z"
   },
   {
    "duration": 14,
    "start_time": "2023-06-28T08:35:54.923Z"
   },
   {
    "duration": 9,
    "start_time": "2023-06-28T08:35:54.939Z"
   },
   {
    "duration": 15,
    "start_time": "2023-06-28T08:42:28.430Z"
   },
   {
    "duration": 7,
    "start_time": "2023-06-28T08:42:34.939Z"
   },
   {
    "duration": 15,
    "start_time": "2023-06-28T08:45:27.217Z"
   },
   {
    "duration": 10,
    "start_time": "2023-06-28T08:45:33.225Z"
   },
   {
    "duration": 7,
    "start_time": "2023-06-28T08:45:37.245Z"
   },
   {
    "duration": 7,
    "start_time": "2023-06-28T08:45:41.120Z"
   },
   {
    "duration": 6,
    "start_time": "2023-06-28T08:45:46.348Z"
   },
   {
    "duration": 6,
    "start_time": "2023-06-28T08:45:54.150Z"
   },
   {
    "duration": 7,
    "start_time": "2023-06-28T08:45:58.670Z"
   },
   {
    "duration": 6,
    "start_time": "2023-06-28T08:46:03.160Z"
   },
   {
    "duration": 837,
    "start_time": "2023-06-28T08:46:37.150Z"
   },
   {
    "duration": 541,
    "start_time": "2023-06-28T08:46:43.027Z"
   },
   {
    "duration": 8,
    "start_time": "2023-06-28T08:47:22.040Z"
   },
   {
    "duration": 7,
    "start_time": "2023-06-28T08:48:14.379Z"
   },
   {
    "duration": 7,
    "start_time": "2023-06-28T08:48:24.632Z"
   },
   {
    "duration": 8,
    "start_time": "2023-06-28T08:48:31.439Z"
   },
   {
    "duration": 7,
    "start_time": "2023-06-28T08:48:35.330Z"
   },
   {
    "duration": 9,
    "start_time": "2023-06-28T08:48:42.133Z"
   },
   {
    "duration": 9,
    "start_time": "2023-06-28T08:48:49.050Z"
   },
   {
    "duration": 9,
    "start_time": "2023-06-28T08:48:53.429Z"
   },
   {
    "duration": 18,
    "start_time": "2023-06-28T08:49:01.514Z"
   },
   {
    "duration": 6,
    "start_time": "2023-06-28T08:49:16.852Z"
   },
   {
    "duration": 7,
    "start_time": "2023-06-28T08:49:23.530Z"
   },
   {
    "duration": 8,
    "start_time": "2023-06-28T08:49:28.734Z"
   },
   {
    "duration": 10,
    "start_time": "2023-06-28T08:49:33.731Z"
   },
   {
    "duration": 6,
    "start_time": "2023-06-28T08:49:39.039Z"
   },
   {
    "duration": 7,
    "start_time": "2023-06-28T08:49:43.537Z"
   },
   {
    "duration": 7,
    "start_time": "2023-06-28T08:49:48.971Z"
   },
   {
    "duration": 9,
    "start_time": "2023-06-28T08:49:52.846Z"
   },
   {
    "duration": 7,
    "start_time": "2023-06-28T08:49:55.944Z"
   },
   {
    "duration": 7,
    "start_time": "2023-06-28T08:49:58.543Z"
   },
   {
    "duration": 7,
    "start_time": "2023-06-28T08:50:02.236Z"
   },
   {
    "duration": 170,
    "start_time": "2023-06-28T08:50:27.026Z"
   },
   {
    "duration": 1323,
    "start_time": "2023-06-28T08:50:35.434Z"
   },
   {
    "duration": 78,
    "start_time": "2023-06-28T08:50:36.759Z"
   },
   {
    "duration": 12,
    "start_time": "2023-06-28T08:50:36.838Z"
   },
   {
    "duration": 28,
    "start_time": "2023-06-28T08:50:36.852Z"
   },
   {
    "duration": 26,
    "start_time": "2023-06-28T08:50:36.883Z"
   },
   {
    "duration": 60,
    "start_time": "2023-06-28T08:50:36.911Z"
   },
   {
    "duration": 37,
    "start_time": "2023-06-28T08:50:36.973Z"
   },
   {
    "duration": 54,
    "start_time": "2023-06-28T08:50:37.012Z"
   },
   {
    "duration": 15,
    "start_time": "2023-06-28T08:50:37.068Z"
   },
   {
    "duration": 15,
    "start_time": "2023-06-28T08:50:37.085Z"
   },
   {
    "duration": 32,
    "start_time": "2023-06-28T08:50:37.106Z"
   },
   {
    "duration": 6,
    "start_time": "2023-06-28T08:50:37.140Z"
   },
   {
    "duration": 12,
    "start_time": "2023-06-28T08:50:37.148Z"
   },
   {
    "duration": 34,
    "start_time": "2023-06-28T08:50:37.164Z"
   },
   {
    "duration": 43,
    "start_time": "2023-06-28T08:50:37.200Z"
   },
   {
    "duration": 21,
    "start_time": "2023-06-28T08:50:37.245Z"
   },
   {
    "duration": 23,
    "start_time": "2023-06-28T08:50:37.268Z"
   },
   {
    "duration": 46,
    "start_time": "2023-06-28T08:50:37.293Z"
   },
   {
    "duration": 9,
    "start_time": "2023-06-28T08:50:37.341Z"
   },
   {
    "duration": 22,
    "start_time": "2023-06-28T08:50:37.352Z"
   },
   {
    "duration": 22,
    "start_time": "2023-06-28T08:50:37.375Z"
   },
   {
    "duration": 42,
    "start_time": "2023-06-28T08:50:37.398Z"
   },
   {
    "duration": 184,
    "start_time": "2023-06-28T08:50:37.442Z"
   },
   {
    "duration": 4,
    "start_time": "2023-06-28T08:50:37.628Z"
   },
   {
    "duration": 35,
    "start_time": "2023-06-28T08:50:37.635Z"
   },
   {
    "duration": 120,
    "start_time": "2023-06-28T08:50:37.672Z"
   },
   {
    "duration": 163,
    "start_time": "2023-06-28T08:50:37.808Z"
   },
   {
    "duration": 155,
    "start_time": "2023-06-28T08:50:37.973Z"
   },
   {
    "duration": 142,
    "start_time": "2023-06-28T08:50:38.130Z"
   },
   {
    "duration": 18,
    "start_time": "2023-06-28T08:50:38.274Z"
   },
   {
    "duration": 27,
    "start_time": "2023-06-28T08:50:38.301Z"
   },
   {
    "duration": 12,
    "start_time": "2023-06-28T08:50:38.332Z"
   },
   {
    "duration": 7,
    "start_time": "2023-06-28T08:50:38.345Z"
   },
   {
    "duration": 184,
    "start_time": "2023-06-28T08:50:38.354Z"
   },
   {
    "duration": 196,
    "start_time": "2023-06-28T08:50:38.540Z"
   },
   {
    "duration": 1013,
    "start_time": "2023-06-28T08:50:38.738Z"
   },
   {
    "duration": 4,
    "start_time": "2023-06-28T08:50:39.753Z"
   },
   {
    "duration": 6,
    "start_time": "2023-06-28T08:50:39.758Z"
   },
   {
    "duration": 265,
    "start_time": "2023-06-28T08:50:39.766Z"
   },
   {
    "duration": 17,
    "start_time": "2023-06-28T08:50:40.033Z"
   },
   {
    "duration": 10,
    "start_time": "2023-06-28T08:50:40.054Z"
   },
   {
    "duration": 1022,
    "start_time": "2023-06-28T08:50:40.066Z"
   },
   {
    "duration": 16,
    "start_time": "2023-06-28T08:50:41.089Z"
   },
   {
    "duration": 21,
    "start_time": "2023-06-28T08:50:41.111Z"
   },
   {
    "duration": 279,
    "start_time": "2023-06-28T08:50:41.133Z"
   },
   {
    "duration": 171,
    "start_time": "2023-06-28T08:50:41.414Z"
   },
   {
    "duration": 0,
    "start_time": "2023-06-28T08:50:41.587Z"
   },
   {
    "duration": 0,
    "start_time": "2023-06-28T08:50:41.588Z"
   },
   {
    "duration": 2335,
    "start_time": "2023-06-28T09:00:18.741Z"
   },
   {
    "duration": 81,
    "start_time": "2023-06-28T09:00:31.891Z"
   },
   {
    "duration": 77,
    "start_time": "2023-06-28T09:00:39.433Z"
   },
   {
    "duration": 2125,
    "start_time": "2023-06-28T09:00:43.664Z"
   },
   {
    "duration": 14,
    "start_time": "2023-06-28T09:02:57.013Z"
   },
   {
    "duration": 8,
    "start_time": "2023-06-28T09:03:03.845Z"
   },
   {
    "duration": 8,
    "start_time": "2023-06-28T09:03:09.649Z"
   },
   {
    "duration": 1266,
    "start_time": "2023-06-28T09:05:32.163Z"
   },
   {
    "duration": 2687,
    "start_time": "2023-06-28T09:05:50.717Z"
   },
   {
    "duration": 1632,
    "start_time": "2023-06-28T09:08:43.223Z"
   },
   {
    "duration": 22,
    "start_time": "2023-06-28T09:08:55.330Z"
   },
   {
    "duration": 7,
    "start_time": "2023-06-28T09:09:01.671Z"
   },
   {
    "duration": 24,
    "start_time": "2023-06-28T09:09:11.029Z"
   },
   {
    "duration": 12,
    "start_time": "2023-06-28T09:12:17.803Z"
   },
   {
    "duration": 8,
    "start_time": "2023-06-28T09:12:34.895Z"
   },
   {
    "duration": 10,
    "start_time": "2023-06-28T09:12:41.538Z"
   },
   {
    "duration": 9,
    "start_time": "2023-06-28T09:12:44.977Z"
   },
   {
    "duration": 19,
    "start_time": "2023-06-28T09:12:49.828Z"
   },
   {
    "duration": 10,
    "start_time": "2023-06-28T09:12:53.279Z"
   },
   {
    "duration": 7,
    "start_time": "2023-06-28T09:12:57.751Z"
   },
   {
    "duration": 1576,
    "start_time": "2023-06-28T09:17:29.801Z"
   },
   {
    "duration": 102,
    "start_time": "2023-06-28T09:17:31.380Z"
   },
   {
    "duration": 35,
    "start_time": "2023-06-28T09:17:31.485Z"
   },
   {
    "duration": 59,
    "start_time": "2023-06-28T09:17:31.535Z"
   },
   {
    "duration": 69,
    "start_time": "2023-06-28T09:17:31.598Z"
   },
   {
    "duration": 103,
    "start_time": "2023-06-28T09:17:31.669Z"
   },
   {
    "duration": 42,
    "start_time": "2023-06-28T09:17:31.774Z"
   },
   {
    "duration": 53,
    "start_time": "2023-06-28T09:17:31.818Z"
   },
   {
    "duration": 37,
    "start_time": "2023-06-28T09:17:31.874Z"
   },
   {
    "duration": 57,
    "start_time": "2023-06-28T09:17:31.913Z"
   },
   {
    "duration": 27,
    "start_time": "2023-06-28T09:17:31.973Z"
   },
   {
    "duration": 67,
    "start_time": "2023-06-28T09:17:32.002Z"
   },
   {
    "duration": 79,
    "start_time": "2023-06-28T09:17:32.071Z"
   },
   {
    "duration": 21,
    "start_time": "2023-06-28T09:17:32.153Z"
   },
   {
    "duration": 20,
    "start_time": "2023-06-28T09:17:32.176Z"
   },
   {
    "duration": 55,
    "start_time": "2023-06-28T09:17:32.198Z"
   },
   {
    "duration": 43,
    "start_time": "2023-06-28T09:17:32.255Z"
   },
   {
    "duration": 41,
    "start_time": "2023-06-28T09:17:32.300Z"
   },
   {
    "duration": 40,
    "start_time": "2023-06-28T09:17:32.342Z"
   },
   {
    "duration": 69,
    "start_time": "2023-06-28T09:17:32.385Z"
   },
   {
    "duration": 29,
    "start_time": "2023-06-28T09:17:32.456Z"
   },
   {
    "duration": 81,
    "start_time": "2023-06-28T09:17:32.487Z"
   },
   {
    "duration": 276,
    "start_time": "2023-06-28T09:17:32.571Z"
   },
   {
    "duration": 14,
    "start_time": "2023-06-28T09:17:32.857Z"
   },
   {
    "duration": 34,
    "start_time": "2023-06-28T09:17:32.874Z"
   },
   {
    "duration": 141,
    "start_time": "2023-06-28T09:17:32.924Z"
   },
   {
    "duration": 266,
    "start_time": "2023-06-28T09:17:33.067Z"
   },
   {
    "duration": 204,
    "start_time": "2023-06-28T09:17:33.335Z"
   },
   {
    "duration": 165,
    "start_time": "2023-06-28T09:17:33.541Z"
   },
   {
    "duration": 28,
    "start_time": "2023-06-28T09:17:33.711Z"
   },
   {
    "duration": 84,
    "start_time": "2023-06-28T09:17:33.741Z"
   },
   {
    "duration": 99,
    "start_time": "2023-06-28T09:17:33.827Z"
   },
   {
    "duration": 42,
    "start_time": "2023-06-28T09:17:33.931Z"
   },
   {
    "duration": 244,
    "start_time": "2023-06-28T09:17:33.975Z"
   },
   {
    "duration": 191,
    "start_time": "2023-06-28T09:17:34.222Z"
   },
   {
    "duration": 1091,
    "start_time": "2023-06-28T09:17:34.415Z"
   },
   {
    "duration": 5,
    "start_time": "2023-06-28T09:17:35.508Z"
   },
   {
    "duration": 63,
    "start_time": "2023-06-28T09:17:35.515Z"
   },
   {
    "duration": 293,
    "start_time": "2023-06-28T09:17:35.581Z"
   },
   {
    "duration": 17,
    "start_time": "2023-06-28T09:17:35.876Z"
   },
   {
    "duration": 57,
    "start_time": "2023-06-28T09:17:35.909Z"
   },
   {
    "duration": 1128,
    "start_time": "2023-06-28T09:17:35.969Z"
   },
   {
    "duration": 15,
    "start_time": "2023-06-28T09:17:37.104Z"
   },
   {
    "duration": 38,
    "start_time": "2023-06-28T09:17:37.122Z"
   },
   {
    "duration": 317,
    "start_time": "2023-06-28T09:17:37.163Z"
   },
   {
    "duration": 1715,
    "start_time": "2023-06-28T09:17:37.483Z"
   },
   {
    "duration": 162,
    "start_time": "2023-06-28T09:17:39.210Z"
   },
   {
    "duration": 0,
    "start_time": "2023-06-28T09:17:39.375Z"
   },
   {
    "duration": 13,
    "start_time": "2023-06-28T09:18:13.935Z"
   },
   {
    "duration": 8,
    "start_time": "2023-06-28T09:18:17.817Z"
   },
   {
    "duration": 12,
    "start_time": "2023-06-28T09:18:23.998Z"
   },
   {
    "duration": 1466,
    "start_time": "2023-06-28T09:23:23.554Z"
   },
   {
    "duration": 121,
    "start_time": "2023-06-28T09:23:25.023Z"
   },
   {
    "duration": 25,
    "start_time": "2023-06-28T09:23:25.147Z"
   },
   {
    "duration": 119,
    "start_time": "2023-06-28T09:23:25.175Z"
   },
   {
    "duration": 96,
    "start_time": "2023-06-28T09:23:25.298Z"
   },
   {
    "duration": 93,
    "start_time": "2023-06-28T09:23:25.396Z"
   },
   {
    "duration": 68,
    "start_time": "2023-06-28T09:23:25.492Z"
   },
   {
    "duration": 25,
    "start_time": "2023-06-28T09:23:25.562Z"
   },
   {
    "duration": 90,
    "start_time": "2023-06-28T09:23:25.590Z"
   },
   {
    "duration": 35,
    "start_time": "2023-06-28T09:23:25.686Z"
   },
   {
    "duration": 63,
    "start_time": "2023-06-28T09:23:25.726Z"
   },
   {
    "duration": 49,
    "start_time": "2023-06-28T09:23:25.791Z"
   },
   {
    "duration": 50,
    "start_time": "2023-06-28T09:23:25.842Z"
   },
   {
    "duration": 78,
    "start_time": "2023-06-28T09:23:25.894Z"
   },
   {
    "duration": 15,
    "start_time": "2023-06-28T09:23:25.974Z"
   },
   {
    "duration": 74,
    "start_time": "2023-06-28T09:23:25.991Z"
   },
   {
    "duration": 120,
    "start_time": "2023-06-28T09:23:26.071Z"
   },
   {
    "duration": 72,
    "start_time": "2023-06-28T09:23:26.193Z"
   },
   {
    "duration": 28,
    "start_time": "2023-06-28T09:23:26.267Z"
   },
   {
    "duration": 37,
    "start_time": "2023-06-28T09:23:26.298Z"
   },
   {
    "duration": 48,
    "start_time": "2023-06-28T09:23:26.338Z"
   },
   {
    "duration": 31,
    "start_time": "2023-06-28T09:23:26.390Z"
   },
   {
    "duration": 270,
    "start_time": "2023-06-28T09:23:26.423Z"
   },
   {
    "duration": 18,
    "start_time": "2023-06-28T09:23:26.695Z"
   },
   {
    "duration": 56,
    "start_time": "2023-06-28T09:23:26.727Z"
   },
   {
    "duration": 151,
    "start_time": "2023-06-28T09:23:26.786Z"
   },
   {
    "duration": 232,
    "start_time": "2023-06-28T09:23:26.943Z"
   },
   {
    "duration": 176,
    "start_time": "2023-06-28T09:23:27.181Z"
   },
   {
    "duration": 174,
    "start_time": "2023-06-28T09:23:27.359Z"
   },
   {
    "duration": 30,
    "start_time": "2023-06-28T09:23:27.535Z"
   },
   {
    "duration": 31,
    "start_time": "2023-06-28T09:23:27.567Z"
   },
   {
    "duration": 42,
    "start_time": "2023-06-28T09:23:27.601Z"
   },
   {
    "duration": 29,
    "start_time": "2023-06-28T09:23:27.645Z"
   },
   {
    "duration": 205,
    "start_time": "2023-06-28T09:23:27.676Z"
   },
   {
    "duration": 240,
    "start_time": "2023-06-28T09:23:27.883Z"
   },
   {
    "duration": 1254,
    "start_time": "2023-06-28T09:23:28.134Z"
   },
   {
    "duration": 4,
    "start_time": "2023-06-28T09:23:29.390Z"
   },
   {
    "duration": 59,
    "start_time": "2023-06-28T09:23:29.395Z"
   },
   {
    "duration": 307,
    "start_time": "2023-06-28T09:23:29.456Z"
   },
   {
    "duration": 14,
    "start_time": "2023-06-28T09:23:29.765Z"
   },
   {
    "duration": 6,
    "start_time": "2023-06-28T09:23:29.781Z"
   },
   {
    "duration": 1279,
    "start_time": "2023-06-28T09:23:29.789Z"
   },
   {
    "duration": 8,
    "start_time": "2023-06-28T09:23:31.071Z"
   },
   {
    "duration": 111,
    "start_time": "2023-06-28T09:23:31.082Z"
   },
   {
    "duration": 428,
    "start_time": "2023-06-28T09:23:31.195Z"
   },
   {
    "duration": 2019,
    "start_time": "2023-06-28T09:23:31.626Z"
   },
   {
    "duration": 14,
    "start_time": "2023-06-28T09:23:33.650Z"
   },
   {
    "duration": 23,
    "start_time": "2023-06-28T09:23:33.666Z"
   },
   {
    "duration": 7,
    "start_time": "2023-06-28T09:23:57.575Z"
   },
   {
    "duration": 8,
    "start_time": "2023-06-28T09:24:02.446Z"
   },
   {
    "duration": 10,
    "start_time": "2023-06-28T09:24:07.150Z"
   },
   {
    "duration": 12,
    "start_time": "2023-06-28T09:24:11.712Z"
   },
   {
    "duration": 15,
    "start_time": "2023-06-28T09:24:22.130Z"
   },
   {
    "duration": 8,
    "start_time": "2023-06-28T09:24:28.563Z"
   },
   {
    "duration": 185,
    "start_time": "2023-06-28T09:24:39.753Z"
   },
   {
    "duration": 68,
    "start_time": "2023-06-28T09:24:47.044Z"
   },
   {
    "duration": 1862,
    "start_time": "2023-06-28T09:24:51.027Z"
   },
   {
    "duration": 1479,
    "start_time": "2023-06-28T09:28:59.281Z"
   },
   {
    "duration": 110,
    "start_time": "2023-06-28T09:29:00.766Z"
   },
   {
    "duration": 17,
    "start_time": "2023-06-28T09:29:00.879Z"
   },
   {
    "duration": 71,
    "start_time": "2023-06-28T09:29:00.899Z"
   },
   {
    "duration": 76,
    "start_time": "2023-06-28T09:29:00.973Z"
   },
   {
    "duration": 53,
    "start_time": "2023-06-28T09:29:01.051Z"
   },
   {
    "duration": 91,
    "start_time": "2023-06-28T09:29:01.109Z"
   },
   {
    "duration": 76,
    "start_time": "2023-06-28T09:29:01.207Z"
   },
   {
    "duration": 77,
    "start_time": "2023-06-28T09:29:01.285Z"
   },
   {
    "duration": 58,
    "start_time": "2023-06-28T09:29:01.365Z"
   },
   {
    "duration": 108,
    "start_time": "2023-06-28T09:29:01.427Z"
   },
   {
    "duration": 57,
    "start_time": "2023-06-28T09:29:01.537Z"
   },
   {
    "duration": 152,
    "start_time": "2023-06-28T09:29:01.596Z"
   },
   {
    "duration": 89,
    "start_time": "2023-06-28T09:29:01.751Z"
   },
   {
    "duration": 42,
    "start_time": "2023-06-28T09:29:01.842Z"
   },
   {
    "duration": 75,
    "start_time": "2023-06-28T09:29:01.885Z"
   },
   {
    "duration": 77,
    "start_time": "2023-06-28T09:29:01.962Z"
   },
   {
    "duration": 45,
    "start_time": "2023-06-28T09:29:02.041Z"
   },
   {
    "duration": 74,
    "start_time": "2023-06-28T09:29:02.088Z"
   },
   {
    "duration": 101,
    "start_time": "2023-06-28T09:29:02.163Z"
   },
   {
    "duration": 180,
    "start_time": "2023-06-28T09:29:02.266Z"
   },
   {
    "duration": 47,
    "start_time": "2023-06-28T09:29:02.448Z"
   },
   {
    "duration": 236,
    "start_time": "2023-06-28T09:29:02.497Z"
   },
   {
    "duration": 6,
    "start_time": "2023-06-28T09:29:02.737Z"
   },
   {
    "duration": 27,
    "start_time": "2023-06-28T09:29:02.745Z"
   },
   {
    "duration": 126,
    "start_time": "2023-06-28T09:29:02.774Z"
   },
   {
    "duration": 170,
    "start_time": "2023-06-28T09:29:02.906Z"
   },
   {
    "duration": 178,
    "start_time": "2023-06-28T09:29:03.078Z"
   },
   {
    "duration": 148,
    "start_time": "2023-06-28T09:29:03.259Z"
   },
   {
    "duration": 31,
    "start_time": "2023-06-28T09:29:03.416Z"
   },
   {
    "duration": 24,
    "start_time": "2023-06-28T09:29:03.449Z"
   },
   {
    "duration": 11,
    "start_time": "2023-06-28T09:29:03.475Z"
   },
   {
    "duration": 62,
    "start_time": "2023-06-28T09:29:03.488Z"
   },
   {
    "duration": 201,
    "start_time": "2023-06-28T09:29:03.552Z"
   },
   {
    "duration": 212,
    "start_time": "2023-06-28T09:29:03.756Z"
   },
   {
    "duration": 1079,
    "start_time": "2023-06-28T09:29:03.970Z"
   },
   {
    "duration": 6,
    "start_time": "2023-06-28T09:29:05.051Z"
   },
   {
    "duration": 19,
    "start_time": "2023-06-28T09:29:05.059Z"
   },
   {
    "duration": 304,
    "start_time": "2023-06-28T09:29:05.080Z"
   },
   {
    "duration": 38,
    "start_time": "2023-06-28T09:29:05.386Z"
   },
   {
    "duration": 13,
    "start_time": "2023-06-28T09:29:05.438Z"
   },
   {
    "duration": 1128,
    "start_time": "2023-06-28T09:29:05.454Z"
   },
   {
    "duration": 6,
    "start_time": "2023-06-28T09:29:06.584Z"
   },
   {
    "duration": 40,
    "start_time": "2023-06-28T09:29:06.592Z"
   },
   {
    "duration": 310,
    "start_time": "2023-06-28T09:29:06.635Z"
   },
   {
    "duration": 1945,
    "start_time": "2023-06-28T09:29:06.950Z"
   },
   {
    "duration": 28,
    "start_time": "2023-06-28T09:29:08.897Z"
   },
   {
    "duration": 32,
    "start_time": "2023-06-28T09:29:08.926Z"
   },
   {
    "duration": 1017,
    "start_time": "2023-06-28T21:23:10.439Z"
   },
   {
    "duration": 67,
    "start_time": "2023-06-28T21:23:11.458Z"
   },
   {
    "duration": 10,
    "start_time": "2023-06-28T21:23:11.527Z"
   },
   {
    "duration": 14,
    "start_time": "2023-06-28T21:23:11.539Z"
   },
   {
    "duration": 25,
    "start_time": "2023-06-28T21:23:11.554Z"
   },
   {
    "duration": 18,
    "start_time": "2023-06-28T21:23:11.580Z"
   },
   {
    "duration": 26,
    "start_time": "2023-06-28T21:23:11.599Z"
   },
   {
    "duration": 18,
    "start_time": "2023-06-28T21:23:11.627Z"
   },
   {
    "duration": 18,
    "start_time": "2023-06-28T21:23:11.646Z"
   },
   {
    "duration": 12,
    "start_time": "2023-06-28T21:23:11.666Z"
   },
   {
    "duration": 6,
    "start_time": "2023-06-28T21:23:11.679Z"
   },
   {
    "duration": 10,
    "start_time": "2023-06-28T21:23:11.686Z"
   },
   {
    "duration": 9,
    "start_time": "2023-06-28T21:23:11.697Z"
   },
   {
    "duration": 12,
    "start_time": "2023-06-28T21:23:11.707Z"
   },
   {
    "duration": 23,
    "start_time": "2023-06-28T21:23:11.720Z"
   },
   {
    "duration": 14,
    "start_time": "2023-06-28T21:23:11.745Z"
   },
   {
    "duration": 22,
    "start_time": "2023-06-28T21:23:11.761Z"
   },
   {
    "duration": 12,
    "start_time": "2023-06-28T21:23:11.784Z"
   },
   {
    "duration": 15,
    "start_time": "2023-06-28T21:23:11.797Z"
   },
   {
    "duration": 23,
    "start_time": "2023-06-28T21:23:11.813Z"
   },
   {
    "duration": 28,
    "start_time": "2023-06-28T21:23:11.838Z"
   },
   {
    "duration": 36,
    "start_time": "2023-06-28T21:23:11.868Z"
   },
   {
    "duration": 129,
    "start_time": "2023-06-28T21:23:11.906Z"
   },
   {
    "duration": 3,
    "start_time": "2023-06-28T21:23:12.036Z"
   },
   {
    "duration": 11,
    "start_time": "2023-06-28T21:23:12.040Z"
   },
   {
    "duration": 82,
    "start_time": "2023-06-28T21:23:12.052Z"
   },
   {
    "duration": 130,
    "start_time": "2023-06-28T21:23:12.135Z"
   },
   {
    "duration": 106,
    "start_time": "2023-06-28T21:23:12.268Z"
   },
   {
    "duration": 107,
    "start_time": "2023-06-28T21:23:12.376Z"
   },
   {
    "duration": 24,
    "start_time": "2023-06-28T21:23:12.485Z"
   },
   {
    "duration": 15,
    "start_time": "2023-06-28T21:23:12.511Z"
   },
   {
    "duration": 8,
    "start_time": "2023-06-28T21:23:12.528Z"
   },
   {
    "duration": 6,
    "start_time": "2023-06-28T21:23:12.537Z"
   },
   {
    "duration": 148,
    "start_time": "2023-06-28T21:23:12.544Z"
   },
   {
    "duration": 126,
    "start_time": "2023-06-28T21:23:12.699Z"
   },
   {
    "duration": 838,
    "start_time": "2023-06-28T21:23:12.826Z"
   },
   {
    "duration": 12,
    "start_time": "2023-06-28T21:23:13.666Z"
   },
   {
    "duration": 20,
    "start_time": "2023-06-28T21:23:13.680Z"
   },
   {
    "duration": 39,
    "start_time": "2023-06-28T21:23:13.701Z"
   },
   {
    "duration": 203,
    "start_time": "2023-06-28T21:23:13.741Z"
   },
   {
    "duration": 11,
    "start_time": "2023-06-28T21:23:13.945Z"
   },
   {
    "duration": 21,
    "start_time": "2023-06-28T21:23:13.958Z"
   },
   {
    "duration": 690,
    "start_time": "2023-06-28T21:23:13.981Z"
   },
   {
    "duration": 5,
    "start_time": "2023-06-28T21:23:14.672Z"
   },
   {
    "duration": 12,
    "start_time": "2023-06-28T21:23:14.678Z"
   },
   {
    "duration": 183,
    "start_time": "2023-06-28T21:23:14.699Z"
   },
   {
    "duration": 1169,
    "start_time": "2023-06-28T21:23:14.883Z"
   },
   {
    "duration": 7,
    "start_time": "2023-06-28T21:23:16.054Z"
   },
   {
    "duration": 23,
    "start_time": "2023-06-28T21:23:16.062Z"
   },
   {
    "duration": 52,
    "start_time": "2023-06-29T05:34:02.430Z"
   },
   {
    "duration": 1226,
    "start_time": "2023-06-29T05:42:06.991Z"
   },
   {
    "duration": 187,
    "start_time": "2023-06-29T05:42:08.219Z"
   },
   {
    "duration": 10,
    "start_time": "2023-06-29T05:42:08.408Z"
   },
   {
    "duration": 8,
    "start_time": "2023-06-29T05:42:08.420Z"
   },
   {
    "duration": 8,
    "start_time": "2023-06-29T05:42:08.429Z"
   },
   {
    "duration": 13,
    "start_time": "2023-06-29T05:42:08.438Z"
   },
   {
    "duration": 17,
    "start_time": "2023-06-29T05:42:08.452Z"
   },
   {
    "duration": 9,
    "start_time": "2023-06-29T05:42:08.470Z"
   },
   {
    "duration": 13,
    "start_time": "2023-06-29T05:42:08.480Z"
   },
   {
    "duration": 9,
    "start_time": "2023-06-29T05:42:08.496Z"
   },
   {
    "duration": 12,
    "start_time": "2023-06-29T05:42:08.506Z"
   },
   {
    "duration": 13,
    "start_time": "2023-06-29T05:42:08.519Z"
   },
   {
    "duration": 5,
    "start_time": "2023-06-29T05:42:08.533Z"
   },
   {
    "duration": 7,
    "start_time": "2023-06-29T05:42:08.539Z"
   },
   {
    "duration": 23,
    "start_time": "2023-06-29T05:42:08.547Z"
   },
   {
    "duration": 6,
    "start_time": "2023-06-29T05:42:08.572Z"
   },
   {
    "duration": 7,
    "start_time": "2023-06-29T05:42:08.579Z"
   },
   {
    "duration": 10,
    "start_time": "2023-06-29T05:42:08.588Z"
   },
   {
    "duration": 10,
    "start_time": "2023-06-29T05:42:08.600Z"
   },
   {
    "duration": 14,
    "start_time": "2023-06-29T05:42:08.612Z"
   },
   {
    "duration": 34,
    "start_time": "2023-06-29T05:42:08.628Z"
   },
   {
    "duration": 11,
    "start_time": "2023-06-29T05:42:08.663Z"
   },
   {
    "duration": 134,
    "start_time": "2023-06-29T05:42:08.676Z"
   },
   {
    "duration": 125,
    "start_time": "2023-06-29T05:42:08.812Z"
   },
   {
    "duration": 3,
    "start_time": "2023-06-29T05:42:08.939Z"
   },
   {
    "duration": 9,
    "start_time": "2023-06-29T05:42:08.943Z"
   },
   {
    "duration": 94,
    "start_time": "2023-06-29T05:42:08.953Z"
   },
   {
    "duration": 164,
    "start_time": "2023-06-29T05:42:09.050Z"
   },
   {
    "duration": 115,
    "start_time": "2023-06-29T05:42:09.216Z"
   },
   {
    "duration": 174,
    "start_time": "2023-06-29T05:42:09.333Z"
   },
   {
    "duration": 123,
    "start_time": "2023-06-29T05:42:09.508Z"
   },
   {
    "duration": 1612,
    "start_time": "2023-06-29T05:42:09.633Z"
   },
   {
    "duration": 0,
    "start_time": "2023-06-29T05:42:11.247Z"
   },
   {
    "duration": 0,
    "start_time": "2023-06-29T05:42:11.248Z"
   },
   {
    "duration": 0,
    "start_time": "2023-06-29T05:42:11.249Z"
   },
   {
    "duration": 0,
    "start_time": "2023-06-29T05:42:11.250Z"
   },
   {
    "duration": 0,
    "start_time": "2023-06-29T05:42:11.252Z"
   },
   {
    "duration": 0,
    "start_time": "2023-06-29T05:42:11.253Z"
   },
   {
    "duration": 0,
    "start_time": "2023-06-29T05:42:11.254Z"
   },
   {
    "duration": 0,
    "start_time": "2023-06-29T05:42:11.255Z"
   },
   {
    "duration": 0,
    "start_time": "2023-06-29T05:42:11.256Z"
   },
   {
    "duration": 0,
    "start_time": "2023-06-29T05:42:11.257Z"
   },
   {
    "duration": 0,
    "start_time": "2023-06-29T05:42:11.258Z"
   },
   {
    "duration": 0,
    "start_time": "2023-06-29T05:42:11.259Z"
   },
   {
    "duration": 0,
    "start_time": "2023-06-29T05:42:11.260Z"
   },
   {
    "duration": 0,
    "start_time": "2023-06-29T05:42:11.261Z"
   },
   {
    "duration": 0,
    "start_time": "2023-06-29T05:42:11.262Z"
   },
   {
    "duration": 0,
    "start_time": "2023-06-29T05:42:11.263Z"
   },
   {
    "duration": 0,
    "start_time": "2023-06-29T05:42:11.264Z"
   },
   {
    "duration": 0,
    "start_time": "2023-06-29T05:42:11.265Z"
   },
   {
    "duration": 0,
    "start_time": "2023-06-29T05:42:11.266Z"
   },
   {
    "duration": 0,
    "start_time": "2023-06-29T05:42:11.266Z"
   },
   {
    "duration": 1095,
    "start_time": "2023-06-29T05:48:39.339Z"
   },
   {
    "duration": 66,
    "start_time": "2023-06-29T05:48:40.435Z"
   },
   {
    "duration": 12,
    "start_time": "2023-06-29T05:48:40.503Z"
   },
   {
    "duration": 8,
    "start_time": "2023-06-29T05:48:40.517Z"
   },
   {
    "duration": 10,
    "start_time": "2023-06-29T05:48:40.527Z"
   },
   {
    "duration": 13,
    "start_time": "2023-06-29T05:48:40.539Z"
   },
   {
    "duration": 13,
    "start_time": "2023-06-29T05:48:40.553Z"
   },
   {
    "duration": 10,
    "start_time": "2023-06-29T05:48:40.567Z"
   },
   {
    "duration": 15,
    "start_time": "2023-06-29T05:48:40.579Z"
   },
   {
    "duration": 6,
    "start_time": "2023-06-29T05:48:40.596Z"
   },
   {
    "duration": 9,
    "start_time": "2023-06-29T05:48:40.603Z"
   },
   {
    "duration": 20,
    "start_time": "2023-06-29T05:48:40.614Z"
   },
   {
    "duration": 6,
    "start_time": "2023-06-29T05:48:40.636Z"
   },
   {
    "duration": 7,
    "start_time": "2023-06-29T05:48:40.643Z"
   },
   {
    "duration": 7,
    "start_time": "2023-06-29T05:48:40.652Z"
   },
   {
    "duration": 23,
    "start_time": "2023-06-29T05:48:40.661Z"
   },
   {
    "duration": 23,
    "start_time": "2023-06-29T05:48:40.686Z"
   },
   {
    "duration": 31,
    "start_time": "2023-06-29T05:48:40.711Z"
   },
   {
    "duration": 17,
    "start_time": "2023-06-29T05:48:40.743Z"
   },
   {
    "duration": 7,
    "start_time": "2023-06-29T05:48:40.761Z"
   },
   {
    "duration": 10,
    "start_time": "2023-06-29T05:48:40.769Z"
   },
   {
    "duration": 17,
    "start_time": "2023-06-29T05:48:40.780Z"
   },
   {
    "duration": 146,
    "start_time": "2023-06-29T05:48:40.799Z"
   },
   {
    "duration": 150,
    "start_time": "2023-06-29T05:48:40.946Z"
   },
   {
    "duration": 4,
    "start_time": "2023-06-29T05:48:41.097Z"
   },
   {
    "duration": 8,
    "start_time": "2023-06-29T05:48:41.102Z"
   },
   {
    "duration": 103,
    "start_time": "2023-06-29T05:48:41.111Z"
   },
   {
    "duration": 200,
    "start_time": "2023-06-29T05:48:41.217Z"
   },
   {
    "duration": 125,
    "start_time": "2023-06-29T05:48:41.419Z"
   },
   {
    "duration": 203,
    "start_time": "2023-06-29T05:48:41.545Z"
   },
   {
    "duration": 134,
    "start_time": "2023-06-29T05:48:41.750Z"
   },
   {
    "duration": 3100,
    "start_time": "2023-06-29T05:48:41.885Z"
   },
   {
    "duration": 0,
    "start_time": "2023-06-29T05:48:44.987Z"
   },
   {
    "duration": 0,
    "start_time": "2023-06-29T05:48:44.988Z"
   },
   {
    "duration": 0,
    "start_time": "2023-06-29T05:48:44.989Z"
   },
   {
    "duration": 0,
    "start_time": "2023-06-29T05:48:44.991Z"
   },
   {
    "duration": 0,
    "start_time": "2023-06-29T05:48:44.992Z"
   },
   {
    "duration": 0,
    "start_time": "2023-06-29T05:48:44.994Z"
   },
   {
    "duration": 0,
    "start_time": "2023-06-29T05:48:44.995Z"
   },
   {
    "duration": 0,
    "start_time": "2023-06-29T05:48:44.997Z"
   },
   {
    "duration": 0,
    "start_time": "2023-06-29T05:48:44.998Z"
   },
   {
    "duration": 0,
    "start_time": "2023-06-29T05:48:45.000Z"
   },
   {
    "duration": 0,
    "start_time": "2023-06-29T05:48:45.001Z"
   },
   {
    "duration": 0,
    "start_time": "2023-06-29T05:48:45.003Z"
   },
   {
    "duration": 0,
    "start_time": "2023-06-29T05:48:45.004Z"
   },
   {
    "duration": 0,
    "start_time": "2023-06-29T05:48:45.005Z"
   },
   {
    "duration": 0,
    "start_time": "2023-06-29T05:48:45.007Z"
   },
   {
    "duration": 0,
    "start_time": "2023-06-29T05:48:45.008Z"
   },
   {
    "duration": 0,
    "start_time": "2023-06-29T05:48:45.009Z"
   },
   {
    "duration": 0,
    "start_time": "2023-06-29T05:48:45.010Z"
   },
   {
    "duration": 0,
    "start_time": "2023-06-29T05:48:45.011Z"
   },
   {
    "duration": 0,
    "start_time": "2023-06-29T05:48:45.013Z"
   },
   {
    "duration": 160,
    "start_time": "2023-06-29T05:51:08.585Z"
   },
   {
    "duration": 2159,
    "start_time": "2023-06-29T05:52:53.395Z"
   },
   {
    "duration": 1152,
    "start_time": "2023-06-29T05:55:15.211Z"
   },
   {
    "duration": 65,
    "start_time": "2023-06-29T05:55:16.366Z"
   },
   {
    "duration": 12,
    "start_time": "2023-06-29T05:55:16.433Z"
   },
   {
    "duration": 17,
    "start_time": "2023-06-29T05:55:16.447Z"
   },
   {
    "duration": 13,
    "start_time": "2023-06-29T05:55:16.466Z"
   },
   {
    "duration": 39,
    "start_time": "2023-06-29T05:55:16.481Z"
   },
   {
    "duration": 19,
    "start_time": "2023-06-29T05:55:16.522Z"
   },
   {
    "duration": 13,
    "start_time": "2023-06-29T05:55:16.543Z"
   },
   {
    "duration": 9,
    "start_time": "2023-06-29T05:55:16.558Z"
   },
   {
    "duration": 7,
    "start_time": "2023-06-29T05:55:16.569Z"
   },
   {
    "duration": 5,
    "start_time": "2023-06-29T05:55:16.577Z"
   },
   {
    "duration": 6,
    "start_time": "2023-06-29T05:55:16.584Z"
   },
   {
    "duration": 15,
    "start_time": "2023-06-29T05:55:16.592Z"
   },
   {
    "duration": 27,
    "start_time": "2023-06-29T05:55:16.608Z"
   },
   {
    "duration": 14,
    "start_time": "2023-06-29T05:55:16.637Z"
   },
   {
    "duration": 5,
    "start_time": "2023-06-29T05:55:16.652Z"
   },
   {
    "duration": 8,
    "start_time": "2023-06-29T05:55:16.659Z"
   },
   {
    "duration": 9,
    "start_time": "2023-06-29T05:55:16.668Z"
   },
   {
    "duration": 4,
    "start_time": "2023-06-29T05:55:16.678Z"
   },
   {
    "duration": 4,
    "start_time": "2023-06-29T05:55:16.684Z"
   },
   {
    "duration": 8,
    "start_time": "2023-06-29T05:55:16.690Z"
   },
   {
    "duration": 34,
    "start_time": "2023-06-29T05:55:16.700Z"
   },
   {
    "duration": 150,
    "start_time": "2023-06-29T05:55:16.736Z"
   },
   {
    "duration": 137,
    "start_time": "2023-06-29T05:55:16.888Z"
   },
   {
    "duration": 4,
    "start_time": "2023-06-29T05:55:17.032Z"
   },
   {
    "duration": 24,
    "start_time": "2023-06-29T05:55:17.038Z"
   },
   {
    "duration": 95,
    "start_time": "2023-06-29T05:55:17.064Z"
   },
   {
    "duration": 173,
    "start_time": "2023-06-29T05:55:17.162Z"
   },
   {
    "duration": 162,
    "start_time": "2023-06-29T05:55:17.337Z"
   },
   {
    "duration": 178,
    "start_time": "2023-06-29T05:55:17.501Z"
   },
   {
    "duration": 155,
    "start_time": "2023-06-29T05:55:17.681Z"
   },
   {
    "duration": 193,
    "start_time": "2023-06-29T05:55:17.838Z"
   },
   {
    "duration": 17,
    "start_time": "2023-06-29T05:55:18.033Z"
   },
   {
    "duration": 18,
    "start_time": "2023-06-29T05:55:18.051Z"
   },
   {
    "duration": 7,
    "start_time": "2023-06-29T05:55:18.071Z"
   },
   {
    "duration": 101,
    "start_time": "2023-06-29T05:55:18.080Z"
   },
   {
    "duration": 164,
    "start_time": "2023-06-29T05:55:18.183Z"
   },
   {
    "duration": 168,
    "start_time": "2023-06-29T05:55:18.349Z"
   },
   {
    "duration": 794,
    "start_time": "2023-06-29T05:55:18.519Z"
   },
   {
    "duration": 27,
    "start_time": "2023-06-29T05:55:19.315Z"
   },
   {
    "duration": 16,
    "start_time": "2023-06-29T05:55:19.343Z"
   },
   {
    "duration": 16,
    "start_time": "2023-06-29T05:55:19.361Z"
   },
   {
    "duration": 136,
    "start_time": "2023-06-29T05:55:19.378Z"
   },
   {
    "duration": 15,
    "start_time": "2023-06-29T05:55:19.516Z"
   },
   {
    "duration": 6,
    "start_time": "2023-06-29T05:55:19.533Z"
   },
   {
    "duration": 814,
    "start_time": "2023-06-29T05:55:19.540Z"
   },
   {
    "duration": 6,
    "start_time": "2023-06-29T05:55:20.355Z"
   },
   {
    "duration": 13,
    "start_time": "2023-06-29T05:55:20.363Z"
   },
   {
    "duration": 232,
    "start_time": "2023-06-29T05:55:20.378Z"
   },
   {
    "duration": 1353,
    "start_time": "2023-06-29T05:55:20.612Z"
   },
   {
    "duration": 7,
    "start_time": "2023-06-29T05:55:21.967Z"
   },
   {
    "duration": 11,
    "start_time": "2023-06-29T05:55:21.976Z"
   },
   {
    "duration": 1588,
    "start_time": "2023-06-29T06:05:50.612Z"
   },
   {
    "duration": 64,
    "start_time": "2023-06-29T06:05:52.202Z"
   },
   {
    "duration": 10,
    "start_time": "2023-06-29T06:05:52.267Z"
   },
   {
    "duration": 18,
    "start_time": "2023-06-29T06:05:52.279Z"
   },
   {
    "duration": 10,
    "start_time": "2023-06-29T06:05:52.299Z"
   },
   {
    "duration": 40,
    "start_time": "2023-06-29T06:05:52.311Z"
   },
   {
    "duration": 23,
    "start_time": "2023-06-29T06:05:52.352Z"
   },
   {
    "duration": 12,
    "start_time": "2023-06-29T06:05:52.376Z"
   },
   {
    "duration": 12,
    "start_time": "2023-06-29T06:05:52.389Z"
   },
   {
    "duration": 6,
    "start_time": "2023-06-29T06:05:52.403Z"
   },
   {
    "duration": 18,
    "start_time": "2023-06-29T06:05:52.410Z"
   },
   {
    "duration": 11,
    "start_time": "2023-06-29T06:05:52.429Z"
   },
   {
    "duration": 16,
    "start_time": "2023-06-29T06:05:52.441Z"
   },
   {
    "duration": 9,
    "start_time": "2023-06-29T06:05:52.458Z"
   },
   {
    "duration": 18,
    "start_time": "2023-06-29T06:05:52.469Z"
   },
   {
    "duration": 9,
    "start_time": "2023-06-29T06:05:52.489Z"
   },
   {
    "duration": 23,
    "start_time": "2023-06-29T06:05:52.499Z"
   },
   {
    "duration": 16,
    "start_time": "2023-06-29T06:05:52.524Z"
   },
   {
    "duration": 31,
    "start_time": "2023-06-29T06:05:52.541Z"
   },
   {
    "duration": 8,
    "start_time": "2023-06-29T06:05:52.574Z"
   },
   {
    "duration": 18,
    "start_time": "2023-06-29T06:05:52.583Z"
   },
   {
    "duration": 6,
    "start_time": "2023-06-29T06:05:52.602Z"
   },
   {
    "duration": 141,
    "start_time": "2023-06-29T06:05:52.610Z"
   },
   {
    "duration": 130,
    "start_time": "2023-06-29T06:05:52.753Z"
   },
   {
    "duration": 4,
    "start_time": "2023-06-29T06:05:52.884Z"
   },
   {
    "duration": 43,
    "start_time": "2023-06-29T06:05:52.889Z"
   },
   {
    "duration": 99,
    "start_time": "2023-06-29T06:05:52.934Z"
   },
   {
    "duration": 148,
    "start_time": "2023-06-29T06:05:53.036Z"
   },
   {
    "duration": 113,
    "start_time": "2023-06-29T06:05:53.186Z"
   },
   {
    "duration": 182,
    "start_time": "2023-06-29T06:05:53.301Z"
   },
   {
    "duration": 120,
    "start_time": "2023-06-29T06:05:53.484Z"
   },
   {
    "duration": 188,
    "start_time": "2023-06-29T06:05:53.605Z"
   },
   {
    "duration": 16,
    "start_time": "2023-06-29T06:05:53.794Z"
   },
   {
    "duration": 70,
    "start_time": "2023-06-29T06:05:53.812Z"
   },
   {
    "duration": 70,
    "start_time": "2023-06-29T06:05:53.884Z"
   },
   {
    "duration": 10,
    "start_time": "2023-06-29T06:05:53.955Z"
   },
   {
    "duration": 16,
    "start_time": "2023-06-29T06:05:53.966Z"
   },
   {
    "duration": 8,
    "start_time": "2023-06-29T06:05:53.983Z"
   },
   {
    "duration": 140,
    "start_time": "2023-06-29T06:05:53.992Z"
   },
   {
    "duration": 153,
    "start_time": "2023-06-29T06:05:54.133Z"
   },
   {
    "duration": 833,
    "start_time": "2023-06-29T06:05:54.287Z"
   },
   {
    "duration": 16,
    "start_time": "2023-06-29T06:05:55.121Z"
   },
   {
    "duration": 4,
    "start_time": "2023-06-29T06:05:55.138Z"
   },
   {
    "duration": 7,
    "start_time": "2023-06-29T06:05:55.143Z"
   },
   {
    "duration": 136,
    "start_time": "2023-06-29T06:05:55.152Z"
   },
   {
    "duration": 12,
    "start_time": "2023-06-29T06:05:55.290Z"
   },
   {
    "duration": 6,
    "start_time": "2023-06-29T06:05:55.303Z"
   },
   {
    "duration": 753,
    "start_time": "2023-06-29T06:05:55.310Z"
   },
   {
    "duration": 5,
    "start_time": "2023-06-29T06:05:56.065Z"
   },
   {
    "duration": 9,
    "start_time": "2023-06-29T06:05:56.071Z"
   },
   {
    "duration": 224,
    "start_time": "2023-06-29T06:05:56.082Z"
   },
   {
    "duration": 1286,
    "start_time": "2023-06-29T06:05:56.307Z"
   },
   {
    "duration": 6,
    "start_time": "2023-06-29T06:05:57.595Z"
   },
   {
    "duration": 19,
    "start_time": "2023-06-29T06:05:57.603Z"
   },
   {
    "duration": 31,
    "start_time": "2023-06-29T06:19:20.944Z"
   },
   {
    "duration": 1122,
    "start_time": "2023-06-29T06:22:52.001Z"
   },
   {
    "duration": 64,
    "start_time": "2023-06-29T06:22:53.125Z"
   },
   {
    "duration": 13,
    "start_time": "2023-06-29T06:22:53.191Z"
   },
   {
    "duration": 22,
    "start_time": "2023-06-29T06:22:53.206Z"
   },
   {
    "duration": 27,
    "start_time": "2023-06-29T06:22:53.229Z"
   },
   {
    "duration": 23,
    "start_time": "2023-06-29T06:22:53.257Z"
   },
   {
    "duration": 15,
    "start_time": "2023-06-29T06:22:53.281Z"
   },
   {
    "duration": 19,
    "start_time": "2023-06-29T06:22:53.298Z"
   },
   {
    "duration": 16,
    "start_time": "2023-06-29T06:22:53.319Z"
   },
   {
    "duration": 26,
    "start_time": "2023-06-29T06:22:53.338Z"
   },
   {
    "duration": 47,
    "start_time": "2023-06-29T06:22:53.365Z"
   },
   {
    "duration": 22,
    "start_time": "2023-06-29T06:22:53.413Z"
   },
   {
    "duration": 30,
    "start_time": "2023-06-29T06:22:53.437Z"
   },
   {
    "duration": 33,
    "start_time": "2023-06-29T06:22:53.468Z"
   },
   {
    "duration": 25,
    "start_time": "2023-06-29T06:22:53.502Z"
   },
   {
    "duration": 26,
    "start_time": "2023-06-29T06:22:53.528Z"
   },
   {
    "duration": 27,
    "start_time": "2023-06-29T06:22:53.556Z"
   },
   {
    "duration": 30,
    "start_time": "2023-06-29T06:22:53.585Z"
   },
   {
    "duration": 20,
    "start_time": "2023-06-29T06:22:53.616Z"
   },
   {
    "duration": 15,
    "start_time": "2023-06-29T06:22:53.637Z"
   },
   {
    "duration": 19,
    "start_time": "2023-06-29T06:22:53.654Z"
   },
   {
    "duration": 26,
    "start_time": "2023-06-29T06:22:53.675Z"
   },
   {
    "duration": 158,
    "start_time": "2023-06-29T06:22:53.702Z"
   },
   {
    "duration": 130,
    "start_time": "2023-06-29T06:22:53.861Z"
   },
   {
    "duration": 4,
    "start_time": "2023-06-29T06:22:53.992Z"
   },
   {
    "duration": 22,
    "start_time": "2023-06-29T06:22:53.997Z"
   },
   {
    "duration": 93,
    "start_time": "2023-06-29T06:22:54.021Z"
   },
   {
    "duration": 142,
    "start_time": "2023-06-29T06:22:54.119Z"
   },
   {
    "duration": 117,
    "start_time": "2023-06-29T06:22:54.263Z"
   },
   {
    "duration": 170,
    "start_time": "2023-06-29T06:22:54.382Z"
   },
   {
    "duration": 10,
    "start_time": "2023-06-29T06:22:54.554Z"
   },
   {
    "duration": 157,
    "start_time": "2023-06-29T06:22:54.567Z"
   },
   {
    "duration": 195,
    "start_time": "2023-06-29T06:22:54.726Z"
   },
   {
    "duration": 13,
    "start_time": "2023-06-29T06:22:54.923Z"
   },
   {
    "duration": 16,
    "start_time": "2023-06-29T06:22:54.938Z"
   },
   {
    "duration": 18,
    "start_time": "2023-06-29T06:22:54.956Z"
   },
   {
    "duration": 30,
    "start_time": "2023-06-29T06:22:54.976Z"
   },
   {
    "duration": 75,
    "start_time": "2023-06-29T06:22:55.032Z"
   },
   {
    "duration": 16,
    "start_time": "2023-06-29T06:22:55.109Z"
   },
   {
    "duration": 8,
    "start_time": "2023-06-29T06:22:55.126Z"
   },
   {
    "duration": 9,
    "start_time": "2023-06-29T06:22:55.135Z"
   },
   {
    "duration": 140,
    "start_time": "2023-06-29T06:22:55.145Z"
   },
   {
    "duration": 155,
    "start_time": "2023-06-29T06:22:55.286Z"
   },
   {
    "duration": 834,
    "start_time": "2023-06-29T06:22:55.443Z"
   },
   {
    "duration": 14,
    "start_time": "2023-06-29T06:22:56.279Z"
   },
   {
    "duration": 26,
    "start_time": "2023-06-29T06:22:56.295Z"
   },
   {
    "duration": 15,
    "start_time": "2023-06-29T06:22:56.322Z"
   },
   {
    "duration": 124,
    "start_time": "2023-06-29T06:22:56.339Z"
   },
   {
    "duration": 14,
    "start_time": "2023-06-29T06:22:56.465Z"
   },
   {
    "duration": 6,
    "start_time": "2023-06-29T06:22:56.480Z"
   },
   {
    "duration": 761,
    "start_time": "2023-06-29T06:22:56.487Z"
   },
   {
    "duration": 6,
    "start_time": "2023-06-29T06:22:57.249Z"
   },
   {
    "duration": 11,
    "start_time": "2023-06-29T06:22:57.256Z"
   },
   {
    "duration": 221,
    "start_time": "2023-06-29T06:22:57.269Z"
   },
   {
    "duration": 1317,
    "start_time": "2023-06-29T06:22:57.492Z"
   },
   {
    "duration": 5,
    "start_time": "2023-06-29T06:22:58.811Z"
   },
   {
    "duration": 15,
    "start_time": "2023-06-29T06:22:58.817Z"
   },
   {
    "duration": 1032,
    "start_time": "2023-06-29T06:49:12.985Z"
   },
   {
    "duration": 64,
    "start_time": "2023-06-29T06:49:14.019Z"
   },
   {
    "duration": 11,
    "start_time": "2023-06-29T06:49:14.085Z"
   },
   {
    "duration": 19,
    "start_time": "2023-06-29T06:49:14.098Z"
   },
   {
    "duration": 39,
    "start_time": "2023-06-29T06:49:14.119Z"
   },
   {
    "duration": 39,
    "start_time": "2023-06-29T06:49:14.160Z"
   },
   {
    "duration": 23,
    "start_time": "2023-06-29T06:49:14.201Z"
   },
   {
    "duration": 11,
    "start_time": "2023-06-29T06:49:14.225Z"
   },
   {
    "duration": 11,
    "start_time": "2023-06-29T06:49:14.237Z"
   },
   {
    "duration": 5,
    "start_time": "2023-06-29T06:49:14.250Z"
   },
   {
    "duration": 4,
    "start_time": "2023-06-29T06:49:14.257Z"
   },
   {
    "duration": 8,
    "start_time": "2023-06-29T06:49:14.262Z"
   },
   {
    "duration": 7,
    "start_time": "2023-06-29T06:49:14.271Z"
   },
   {
    "duration": 5,
    "start_time": "2023-06-29T06:49:14.279Z"
   },
   {
    "duration": 8,
    "start_time": "2023-06-29T06:49:14.285Z"
   },
   {
    "duration": 8,
    "start_time": "2023-06-29T06:49:14.294Z"
   },
   {
    "duration": 31,
    "start_time": "2023-06-29T06:49:14.303Z"
   },
   {
    "duration": 6,
    "start_time": "2023-06-29T06:49:14.336Z"
   },
   {
    "duration": 4,
    "start_time": "2023-06-29T06:49:14.344Z"
   },
   {
    "duration": 5,
    "start_time": "2023-06-29T06:49:14.349Z"
   },
   {
    "duration": 7,
    "start_time": "2023-06-29T06:49:14.355Z"
   },
   {
    "duration": 7,
    "start_time": "2023-06-29T06:49:14.363Z"
   },
   {
    "duration": 155,
    "start_time": "2023-06-29T06:49:14.371Z"
   },
   {
    "duration": 171,
    "start_time": "2023-06-29T06:49:14.531Z"
   },
   {
    "duration": 4,
    "start_time": "2023-06-29T06:49:14.703Z"
   },
   {
    "duration": 25,
    "start_time": "2023-06-29T06:49:14.709Z"
   },
   {
    "duration": 82,
    "start_time": "2023-06-29T06:49:14.735Z"
   },
   {
    "duration": 148,
    "start_time": "2023-06-29T06:49:14.820Z"
   },
   {
    "duration": 114,
    "start_time": "2023-06-29T06:49:14.970Z"
   },
   {
    "duration": 179,
    "start_time": "2023-06-29T06:49:15.086Z"
   },
   {
    "duration": 8,
    "start_time": "2023-06-29T06:49:15.267Z"
   },
   {
    "duration": 121,
    "start_time": "2023-06-29T06:49:15.276Z"
   },
   {
    "duration": 181,
    "start_time": "2023-06-29T06:49:15.399Z"
   },
   {
    "duration": 8,
    "start_time": "2023-06-29T06:49:15.581Z"
   },
   {
    "duration": 26,
    "start_time": "2023-06-29T06:49:15.590Z"
   },
   {
    "duration": 25,
    "start_time": "2023-06-29T06:49:15.617Z"
   },
   {
    "duration": 106,
    "start_time": "2023-06-29T06:49:15.644Z"
   },
   {
    "duration": 7,
    "start_time": "2023-06-29T06:49:15.751Z"
   },
   {
    "duration": 13,
    "start_time": "2023-06-29T06:49:15.759Z"
   },
   {
    "duration": 7,
    "start_time": "2023-06-29T06:49:15.773Z"
   },
   {
    "duration": 6,
    "start_time": "2023-06-29T06:49:15.782Z"
   },
   {
    "duration": 159,
    "start_time": "2023-06-29T06:49:15.789Z"
   },
   {
    "duration": 151,
    "start_time": "2023-06-29T06:49:15.949Z"
   },
   {
    "duration": 799,
    "start_time": "2023-06-29T06:49:16.101Z"
   },
   {
    "duration": 15,
    "start_time": "2023-06-29T06:49:16.901Z"
   },
   {
    "duration": 41,
    "start_time": "2023-06-29T06:49:16.917Z"
   },
   {
    "duration": 5,
    "start_time": "2023-06-29T06:49:16.960Z"
   },
   {
    "duration": 130,
    "start_time": "2023-06-29T06:49:16.967Z"
   },
   {
    "duration": 12,
    "start_time": "2023-06-29T06:49:17.099Z"
   },
   {
    "duration": 21,
    "start_time": "2023-06-29T06:49:17.113Z"
   },
   {
    "duration": 818,
    "start_time": "2023-06-29T06:49:17.135Z"
   },
   {
    "duration": 5,
    "start_time": "2023-06-29T06:49:17.955Z"
   },
   {
    "duration": 13,
    "start_time": "2023-06-29T06:49:17.961Z"
   },
   {
    "duration": 236,
    "start_time": "2023-06-29T06:49:17.976Z"
   },
   {
    "duration": 1341,
    "start_time": "2023-06-29T06:49:18.214Z"
   },
   {
    "duration": 6,
    "start_time": "2023-06-29T06:49:19.556Z"
   },
   {
    "duration": 11,
    "start_time": "2023-06-29T06:49:19.564Z"
   },
   {
    "duration": 1216,
    "start_time": "2023-06-29T06:56:03.838Z"
   },
   {
    "duration": 66,
    "start_time": "2023-06-29T06:56:05.056Z"
   },
   {
    "duration": 12,
    "start_time": "2023-06-29T06:56:05.123Z"
   },
   {
    "duration": 14,
    "start_time": "2023-06-29T06:56:05.137Z"
   },
   {
    "duration": 19,
    "start_time": "2023-06-29T06:56:05.153Z"
   },
   {
    "duration": 18,
    "start_time": "2023-06-29T06:56:05.173Z"
   },
   {
    "duration": 12,
    "start_time": "2023-06-29T06:56:05.193Z"
   },
   {
    "duration": 20,
    "start_time": "2023-06-29T06:56:05.206Z"
   },
   {
    "duration": 12,
    "start_time": "2023-06-29T06:56:05.227Z"
   },
   {
    "duration": 13,
    "start_time": "2023-06-29T06:56:05.241Z"
   },
   {
    "duration": 8,
    "start_time": "2023-06-29T06:56:05.256Z"
   },
   {
    "duration": 10,
    "start_time": "2023-06-29T06:56:05.265Z"
   },
   {
    "duration": 16,
    "start_time": "2023-06-29T06:56:05.276Z"
   },
   {
    "duration": 6,
    "start_time": "2023-06-29T06:56:05.294Z"
   },
   {
    "duration": 10,
    "start_time": "2023-06-29T06:56:05.301Z"
   },
   {
    "duration": 11,
    "start_time": "2023-06-29T06:56:05.312Z"
   },
   {
    "duration": 11,
    "start_time": "2023-06-29T06:56:05.324Z"
   },
   {
    "duration": 11,
    "start_time": "2023-06-29T06:56:05.337Z"
   },
   {
    "duration": 18,
    "start_time": "2023-06-29T06:56:05.349Z"
   },
   {
    "duration": 7,
    "start_time": "2023-06-29T06:56:05.370Z"
   },
   {
    "duration": 9,
    "start_time": "2023-06-29T06:56:05.378Z"
   },
   {
    "duration": 13,
    "start_time": "2023-06-29T06:56:05.388Z"
   },
   {
    "duration": 154,
    "start_time": "2023-06-29T06:56:05.402Z"
   },
   {
    "duration": 163,
    "start_time": "2023-06-29T06:56:05.558Z"
   },
   {
    "duration": 11,
    "start_time": "2023-06-29T06:56:05.722Z"
   },
   {
    "duration": 56,
    "start_time": "2023-06-29T06:56:05.735Z"
   },
   {
    "duration": 109,
    "start_time": "2023-06-29T06:56:05.792Z"
   },
   {
    "duration": 172,
    "start_time": "2023-06-29T06:56:05.905Z"
   },
   {
    "duration": 121,
    "start_time": "2023-06-29T06:56:06.079Z"
   },
   {
    "duration": 174,
    "start_time": "2023-06-29T06:56:06.202Z"
   },
   {
    "duration": 10,
    "start_time": "2023-06-29T06:56:06.378Z"
   },
   {
    "duration": 124,
    "start_time": "2023-06-29T06:56:06.390Z"
   },
   {
    "duration": 202,
    "start_time": "2023-06-29T06:56:06.516Z"
   },
   {
    "duration": 18,
    "start_time": "2023-06-29T06:56:06.720Z"
   },
   {
    "duration": 17,
    "start_time": "2023-06-29T06:56:06.739Z"
   },
   {
    "duration": 22,
    "start_time": "2023-06-29T06:56:06.758Z"
   },
   {
    "duration": 129,
    "start_time": "2023-06-29T06:56:06.782Z"
   },
   {
    "duration": 6,
    "start_time": "2023-06-29T06:56:06.912Z"
   },
   {
    "duration": 5,
    "start_time": "2023-06-29T06:56:06.931Z"
   },
   {
    "duration": 11,
    "start_time": "2023-06-29T06:56:06.938Z"
   },
   {
    "duration": 7,
    "start_time": "2023-06-29T06:56:06.951Z"
   },
   {
    "duration": 165,
    "start_time": "2023-06-29T06:56:06.960Z"
   },
   {
    "duration": 155,
    "start_time": "2023-06-29T06:56:07.126Z"
   },
   {
    "duration": 876,
    "start_time": "2023-06-29T06:56:07.283Z"
   },
   {
    "duration": 14,
    "start_time": "2023-06-29T06:56:08.161Z"
   },
   {
    "duration": 4,
    "start_time": "2023-06-29T06:56:08.176Z"
   },
   {
    "duration": 9,
    "start_time": "2023-06-29T06:56:08.181Z"
   },
   {
    "duration": 139,
    "start_time": "2023-06-29T06:56:08.193Z"
   },
   {
    "duration": 14,
    "start_time": "2023-06-29T06:56:08.334Z"
   },
   {
    "duration": 7,
    "start_time": "2023-06-29T06:56:08.350Z"
   },
   {
    "duration": 789,
    "start_time": "2023-06-29T06:56:08.359Z"
   },
   {
    "duration": 6,
    "start_time": "2023-06-29T06:56:09.150Z"
   },
   {
    "duration": 14,
    "start_time": "2023-06-29T06:56:09.158Z"
   },
   {
    "duration": 242,
    "start_time": "2023-06-29T06:56:09.173Z"
   },
   {
    "duration": 1388,
    "start_time": "2023-06-29T06:56:09.417Z"
   },
   {
    "duration": 6,
    "start_time": "2023-06-29T06:56:10.806Z"
   },
   {
    "duration": 18,
    "start_time": "2023-06-29T06:56:10.813Z"
   },
   {
    "duration": 1192,
    "start_time": "2023-06-29T07:03:46.218Z"
   },
   {
    "duration": 65,
    "start_time": "2023-06-29T07:03:47.412Z"
   },
   {
    "duration": 11,
    "start_time": "2023-06-29T07:03:47.479Z"
   },
   {
    "duration": 9,
    "start_time": "2023-06-29T07:03:47.491Z"
   },
   {
    "duration": 8,
    "start_time": "2023-06-29T07:03:47.502Z"
   },
   {
    "duration": 18,
    "start_time": "2023-06-29T07:03:47.512Z"
   },
   {
    "duration": 16,
    "start_time": "2023-06-29T07:03:47.531Z"
   },
   {
    "duration": 9,
    "start_time": "2023-06-29T07:03:47.549Z"
   },
   {
    "duration": 7,
    "start_time": "2023-06-29T07:03:47.560Z"
   },
   {
    "duration": 7,
    "start_time": "2023-06-29T07:03:47.569Z"
   },
   {
    "duration": 4,
    "start_time": "2023-06-29T07:03:47.578Z"
   },
   {
    "duration": 8,
    "start_time": "2023-06-29T07:03:47.583Z"
   },
   {
    "duration": 7,
    "start_time": "2023-06-29T07:03:47.593Z"
   },
   {
    "duration": 32,
    "start_time": "2023-06-29T07:03:47.603Z"
   },
   {
    "duration": 7,
    "start_time": "2023-06-29T07:03:47.637Z"
   },
   {
    "duration": 5,
    "start_time": "2023-06-29T07:03:47.645Z"
   },
   {
    "duration": 12,
    "start_time": "2023-06-29T07:03:47.652Z"
   },
   {
    "duration": 11,
    "start_time": "2023-06-29T07:03:47.665Z"
   },
   {
    "duration": 5,
    "start_time": "2023-06-29T07:03:47.677Z"
   },
   {
    "duration": 7,
    "start_time": "2023-06-29T07:03:47.683Z"
   },
   {
    "duration": 11,
    "start_time": "2023-06-29T07:03:47.691Z"
   },
   {
    "duration": 31,
    "start_time": "2023-06-29T07:03:47.703Z"
   },
   {
    "duration": 150,
    "start_time": "2023-06-29T07:03:47.735Z"
   },
   {
    "duration": 133,
    "start_time": "2023-06-29T07:03:47.886Z"
   },
   {
    "duration": 11,
    "start_time": "2023-06-29T07:03:48.020Z"
   },
   {
    "duration": 7,
    "start_time": "2023-06-29T07:03:48.033Z"
   },
   {
    "duration": 91,
    "start_time": "2023-06-29T07:03:48.042Z"
   },
   {
    "duration": 151,
    "start_time": "2023-06-29T07:03:48.135Z"
   },
   {
    "duration": 115,
    "start_time": "2023-06-29T07:03:48.287Z"
   },
   {
    "duration": 172,
    "start_time": "2023-06-29T07:03:48.404Z"
   },
   {
    "duration": 8,
    "start_time": "2023-06-29T07:03:48.577Z"
   },
   {
    "duration": 125,
    "start_time": "2023-06-29T07:03:48.587Z"
   },
   {
    "duration": 185,
    "start_time": "2023-06-29T07:03:48.714Z"
   },
   {
    "duration": 9,
    "start_time": "2023-06-29T07:03:48.900Z"
   },
   {
    "duration": 5,
    "start_time": "2023-06-29T07:03:48.910Z"
   },
   {
    "duration": 24,
    "start_time": "2023-06-29T07:03:48.916Z"
   },
   {
    "duration": 10,
    "start_time": "2023-06-29T07:03:48.941Z"
   },
   {
    "duration": 33,
    "start_time": "2023-06-29T07:03:48.952Z"
   },
   {
    "duration": 30,
    "start_time": "2023-06-29T07:03:48.987Z"
   },
   {
    "duration": 77,
    "start_time": "2023-06-29T07:03:49.019Z"
   },
   {
    "duration": 14,
    "start_time": "2023-06-29T07:03:49.099Z"
   },
   {
    "duration": 9,
    "start_time": "2023-06-29T07:03:49.114Z"
   },
   {
    "duration": 15,
    "start_time": "2023-06-29T07:03:49.124Z"
   },
   {
    "duration": 1647,
    "start_time": "2023-06-29T07:03:49.140Z"
   },
   {
    "duration": 0,
    "start_time": "2023-06-29T07:03:50.789Z"
   },
   {
    "duration": 0,
    "start_time": "2023-06-29T07:03:50.790Z"
   },
   {
    "duration": 0,
    "start_time": "2023-06-29T07:03:50.791Z"
   },
   {
    "duration": 0,
    "start_time": "2023-06-29T07:03:50.792Z"
   },
   {
    "duration": 0,
    "start_time": "2023-06-29T07:03:50.793Z"
   },
   {
    "duration": 0,
    "start_time": "2023-06-29T07:03:50.794Z"
   },
   {
    "duration": 0,
    "start_time": "2023-06-29T07:03:50.795Z"
   },
   {
    "duration": 0,
    "start_time": "2023-06-29T07:03:50.796Z"
   },
   {
    "duration": 0,
    "start_time": "2023-06-29T07:03:50.797Z"
   },
   {
    "duration": 0,
    "start_time": "2023-06-29T07:03:50.798Z"
   },
   {
    "duration": 0,
    "start_time": "2023-06-29T07:03:50.799Z"
   },
   {
    "duration": 0,
    "start_time": "2023-06-29T07:03:50.800Z"
   },
   {
    "duration": 0,
    "start_time": "2023-06-29T07:03:50.801Z"
   },
   {
    "duration": 0,
    "start_time": "2023-06-29T07:03:50.802Z"
   },
   {
    "duration": 0,
    "start_time": "2023-06-29T07:03:50.803Z"
   },
   {
    "duration": 1198,
    "start_time": "2023-06-29T07:18:46.835Z"
   },
   {
    "duration": 67,
    "start_time": "2023-06-29T07:18:48.035Z"
   },
   {
    "duration": 11,
    "start_time": "2023-06-29T07:18:48.103Z"
   },
   {
    "duration": 11,
    "start_time": "2023-06-29T07:18:48.116Z"
   },
   {
    "duration": 11,
    "start_time": "2023-06-29T07:18:48.128Z"
   },
   {
    "duration": 19,
    "start_time": "2023-06-29T07:18:48.141Z"
   },
   {
    "duration": 16,
    "start_time": "2023-06-29T07:18:48.161Z"
   },
   {
    "duration": 25,
    "start_time": "2023-06-29T07:18:48.178Z"
   },
   {
    "duration": 29,
    "start_time": "2023-06-29T07:18:48.205Z"
   },
   {
    "duration": 6,
    "start_time": "2023-06-29T07:18:48.236Z"
   },
   {
    "duration": 7,
    "start_time": "2023-06-29T07:18:48.244Z"
   },
   {
    "duration": 19,
    "start_time": "2023-06-29T07:18:48.252Z"
   },
   {
    "duration": 21,
    "start_time": "2023-06-29T07:18:48.273Z"
   },
   {
    "duration": 12,
    "start_time": "2023-06-29T07:18:48.295Z"
   },
   {
    "duration": 10,
    "start_time": "2023-06-29T07:18:48.308Z"
   },
   {
    "duration": 7,
    "start_time": "2023-06-29T07:18:48.319Z"
   },
   {
    "duration": 25,
    "start_time": "2023-06-29T07:18:48.327Z"
   },
   {
    "duration": 22,
    "start_time": "2023-06-29T07:18:48.354Z"
   },
   {
    "duration": 8,
    "start_time": "2023-06-29T07:18:48.378Z"
   },
   {
    "duration": 7,
    "start_time": "2023-06-29T07:18:48.387Z"
   },
   {
    "duration": 12,
    "start_time": "2023-06-29T07:18:48.396Z"
   },
   {
    "duration": 8,
    "start_time": "2023-06-29T07:18:48.410Z"
   },
   {
    "duration": 139,
    "start_time": "2023-06-29T07:18:48.420Z"
   },
   {
    "duration": 138,
    "start_time": "2023-06-29T07:18:48.561Z"
   },
   {
    "duration": 3,
    "start_time": "2023-06-29T07:18:48.701Z"
   },
   {
    "duration": 40,
    "start_time": "2023-06-29T07:18:48.706Z"
   },
   {
    "duration": 91,
    "start_time": "2023-06-29T07:18:48.748Z"
   },
   {
    "duration": 174,
    "start_time": "2023-06-29T07:18:48.843Z"
   },
   {
    "duration": 123,
    "start_time": "2023-06-29T07:18:49.018Z"
   },
   {
    "duration": 178,
    "start_time": "2023-06-29T07:18:49.142Z"
   },
   {
    "duration": 12,
    "start_time": "2023-06-29T07:18:49.321Z"
   },
   {
    "duration": 132,
    "start_time": "2023-06-29T07:18:49.334Z"
   },
   {
    "duration": 188,
    "start_time": "2023-06-29T07:18:49.467Z"
   },
   {
    "duration": 8,
    "start_time": "2023-06-29T07:18:49.656Z"
   },
   {
    "duration": 11,
    "start_time": "2023-06-29T07:18:49.666Z"
   },
   {
    "duration": 36,
    "start_time": "2023-06-29T07:18:49.679Z"
   },
   {
    "duration": 42,
    "start_time": "2023-06-29T07:18:49.716Z"
   },
   {
    "duration": 28,
    "start_time": "2023-06-29T07:18:49.759Z"
   },
   {
    "duration": 116,
    "start_time": "2023-06-29T07:18:49.788Z"
   },
   {
    "duration": 6,
    "start_time": "2023-06-29T07:18:49.906Z"
   },
   {
    "duration": 20,
    "start_time": "2023-06-29T07:18:49.913Z"
   },
   {
    "duration": 31,
    "start_time": "2023-06-29T07:18:49.934Z"
   },
   {
    "duration": 32,
    "start_time": "2023-06-29T07:18:49.966Z"
   },
   {
    "duration": 166,
    "start_time": "2023-06-29T07:18:50.000Z"
   },
   {
    "duration": 157,
    "start_time": "2023-06-29T07:18:50.167Z"
   },
   {
    "duration": 817,
    "start_time": "2023-06-29T07:18:50.326Z"
   },
   {
    "duration": 16,
    "start_time": "2023-06-29T07:18:51.145Z"
   },
   {
    "duration": 17,
    "start_time": "2023-06-29T07:18:51.162Z"
   },
   {
    "duration": 57,
    "start_time": "2023-06-29T07:18:51.180Z"
   },
   {
    "duration": 145,
    "start_time": "2023-06-29T07:18:51.238Z"
   },
   {
    "duration": 12,
    "start_time": "2023-06-29T07:18:51.385Z"
   },
   {
    "duration": 17,
    "start_time": "2023-06-29T07:18:51.398Z"
   },
   {
    "duration": 781,
    "start_time": "2023-06-29T07:18:51.416Z"
   },
   {
    "duration": 5,
    "start_time": "2023-06-29T07:18:52.198Z"
   },
   {
    "duration": 51,
    "start_time": "2023-06-29T07:18:52.205Z"
   },
   {
    "duration": 221,
    "start_time": "2023-06-29T07:18:52.257Z"
   },
   {
    "duration": 1303,
    "start_time": "2023-06-29T07:18:52.480Z"
   },
   {
    "duration": 6,
    "start_time": "2023-06-29T07:18:53.784Z"
   },
   {
    "duration": 19,
    "start_time": "2023-06-29T07:18:53.792Z"
   },
   {
    "duration": 1210,
    "start_time": "2023-06-29T07:32:29.227Z"
   },
   {
    "duration": 66,
    "start_time": "2023-06-29T07:32:30.439Z"
   },
   {
    "duration": 11,
    "start_time": "2023-06-29T07:32:30.507Z"
   },
   {
    "duration": 41,
    "start_time": "2023-06-29T07:32:30.520Z"
   },
   {
    "duration": 44,
    "start_time": "2023-06-29T07:32:30.563Z"
   },
   {
    "duration": 46,
    "start_time": "2023-06-29T07:32:30.609Z"
   },
   {
    "duration": 62,
    "start_time": "2023-06-29T07:32:30.657Z"
   },
   {
    "duration": 44,
    "start_time": "2023-06-29T07:32:30.721Z"
   },
   {
    "duration": 53,
    "start_time": "2023-06-29T07:32:30.766Z"
   },
   {
    "duration": 64,
    "start_time": "2023-06-29T07:32:30.822Z"
   },
   {
    "duration": 30,
    "start_time": "2023-06-29T07:32:30.888Z"
   },
   {
    "duration": 64,
    "start_time": "2023-06-29T07:32:30.920Z"
   },
   {
    "duration": 57,
    "start_time": "2023-06-29T07:32:30.986Z"
   },
   {
    "duration": 133,
    "start_time": "2023-06-29T07:32:31.044Z"
   },
   {
    "duration": 35,
    "start_time": "2023-06-29T07:32:31.178Z"
   },
   {
    "duration": 33,
    "start_time": "2023-06-29T07:32:31.214Z"
   },
   {
    "duration": 54,
    "start_time": "2023-06-29T07:32:31.248Z"
   },
   {
    "duration": 31,
    "start_time": "2023-06-29T07:32:31.303Z"
   },
   {
    "duration": 60,
    "start_time": "2023-06-29T07:32:31.336Z"
   },
   {
    "duration": 42,
    "start_time": "2023-06-29T07:32:31.398Z"
   },
   {
    "duration": 23,
    "start_time": "2023-06-29T07:32:31.442Z"
   },
   {
    "duration": 76,
    "start_time": "2023-06-29T07:32:31.467Z"
   },
   {
    "duration": 167,
    "start_time": "2023-06-29T07:32:31.544Z"
   },
   {
    "duration": 133,
    "start_time": "2023-06-29T07:32:31.712Z"
   },
   {
    "duration": 49,
    "start_time": "2023-06-29T07:32:31.846Z"
   },
   {
    "duration": 51,
    "start_time": "2023-06-29T07:32:31.896Z"
   },
   {
    "duration": 113,
    "start_time": "2023-06-29T07:32:31.948Z"
   },
   {
    "duration": 169,
    "start_time": "2023-06-29T07:32:32.065Z"
   },
   {
    "duration": 171,
    "start_time": "2023-06-29T07:32:32.236Z"
   },
   {
    "duration": 256,
    "start_time": "2023-06-29T07:32:32.409Z"
   },
   {
    "duration": 7,
    "start_time": "2023-06-29T07:32:32.667Z"
   },
   {
    "duration": 119,
    "start_time": "2023-06-29T07:32:32.675Z"
   },
   {
    "duration": 182,
    "start_time": "2023-06-29T07:32:32.795Z"
   },
   {
    "duration": 9,
    "start_time": "2023-06-29T07:32:32.978Z"
   },
   {
    "duration": 2,
    "start_time": "2023-06-29T07:32:33.032Z"
   },
   {
    "duration": 39,
    "start_time": "2023-06-29T07:32:33.036Z"
   },
   {
    "duration": 21,
    "start_time": "2023-06-29T07:32:33.077Z"
   },
   {
    "duration": 23,
    "start_time": "2023-06-29T07:32:33.099Z"
   },
   {
    "duration": 116,
    "start_time": "2023-06-29T07:32:33.123Z"
   },
   {
    "duration": 6,
    "start_time": "2023-06-29T07:32:33.241Z"
   },
   {
    "duration": 12,
    "start_time": "2023-06-29T07:32:33.249Z"
   },
   {
    "duration": 37,
    "start_time": "2023-06-29T07:32:33.263Z"
   },
   {
    "duration": 41,
    "start_time": "2023-06-29T07:32:33.302Z"
   },
   {
    "duration": 180,
    "start_time": "2023-06-29T07:32:33.344Z"
   },
   {
    "duration": 146,
    "start_time": "2023-06-29T07:32:33.531Z"
   },
   {
    "duration": 822,
    "start_time": "2023-06-29T07:32:33.680Z"
   },
   {
    "duration": 14,
    "start_time": "2023-06-29T07:32:34.504Z"
   },
   {
    "duration": 15,
    "start_time": "2023-06-29T07:32:34.519Z"
   },
   {
    "duration": 13,
    "start_time": "2023-06-29T07:32:34.535Z"
   },
   {
    "duration": 164,
    "start_time": "2023-06-29T07:32:34.549Z"
   },
   {
    "duration": 20,
    "start_time": "2023-06-29T07:32:34.714Z"
   },
   {
    "duration": 8,
    "start_time": "2023-06-29T07:32:34.736Z"
   },
   {
    "duration": 767,
    "start_time": "2023-06-29T07:32:34.746Z"
   },
   {
    "duration": 5,
    "start_time": "2023-06-29T07:32:35.515Z"
   },
   {
    "duration": 15,
    "start_time": "2023-06-29T07:32:35.532Z"
   },
   {
    "duration": 233,
    "start_time": "2023-06-29T07:32:35.549Z"
   },
   {
    "duration": 1296,
    "start_time": "2023-06-29T07:32:35.783Z"
   },
   {
    "duration": 5,
    "start_time": "2023-06-29T07:32:37.081Z"
   },
   {
    "duration": 8,
    "start_time": "2023-06-29T07:32:37.087Z"
   },
   {
    "duration": 1491,
    "start_time": "2023-06-29T08:50:43.031Z"
   },
   {
    "duration": 202,
    "start_time": "2023-06-29T08:50:44.524Z"
   },
   {
    "duration": 13,
    "start_time": "2023-06-29T08:50:44.728Z"
   },
   {
    "duration": 14,
    "start_time": "2023-06-29T08:50:44.743Z"
   },
   {
    "duration": 23,
    "start_time": "2023-06-29T08:50:44.759Z"
   },
   {
    "duration": 24,
    "start_time": "2023-06-29T08:50:44.784Z"
   },
   {
    "duration": 29,
    "start_time": "2023-06-29T08:50:44.810Z"
   },
   {
    "duration": 11,
    "start_time": "2023-06-29T08:50:44.841Z"
   },
   {
    "duration": 39,
    "start_time": "2023-06-29T08:50:44.853Z"
   },
   {
    "duration": 15,
    "start_time": "2023-06-29T08:50:44.894Z"
   },
   {
    "duration": 10,
    "start_time": "2023-06-29T08:50:44.911Z"
   },
   {
    "duration": 24,
    "start_time": "2023-06-29T08:50:44.923Z"
   },
   {
    "duration": 14,
    "start_time": "2023-06-29T08:50:44.948Z"
   },
   {
    "duration": 18,
    "start_time": "2023-06-29T08:50:44.965Z"
   },
   {
    "duration": 53,
    "start_time": "2023-06-29T08:50:44.985Z"
   },
   {
    "duration": 34,
    "start_time": "2023-06-29T08:50:45.040Z"
   },
   {
    "duration": 30,
    "start_time": "2023-06-29T08:50:45.076Z"
   },
   {
    "duration": 45,
    "start_time": "2023-06-29T08:50:45.108Z"
   },
   {
    "duration": 18,
    "start_time": "2023-06-29T08:50:45.155Z"
   },
   {
    "duration": 15,
    "start_time": "2023-06-29T08:50:45.176Z"
   },
   {
    "duration": 26,
    "start_time": "2023-06-29T08:50:45.193Z"
   },
   {
    "duration": 12,
    "start_time": "2023-06-29T08:50:45.221Z"
   },
   {
    "duration": 164,
    "start_time": "2023-06-29T08:50:45.234Z"
   },
   {
    "duration": 168,
    "start_time": "2023-06-29T08:50:45.401Z"
   },
   {
    "duration": 3,
    "start_time": "2023-06-29T08:50:45.571Z"
   },
   {
    "duration": 37,
    "start_time": "2023-06-29T08:50:45.576Z"
   },
   {
    "duration": 101,
    "start_time": "2023-06-29T08:50:45.615Z"
   },
   {
    "duration": 169,
    "start_time": "2023-06-29T08:50:45.718Z"
   },
   {
    "duration": 134,
    "start_time": "2023-06-29T08:50:45.888Z"
   },
   {
    "duration": 195,
    "start_time": "2023-06-29T08:50:46.023Z"
   },
   {
    "duration": 9,
    "start_time": "2023-06-29T08:50:46.220Z"
   },
   {
    "duration": 152,
    "start_time": "2023-06-29T08:50:46.231Z"
   },
   {
    "duration": 320,
    "start_time": "2023-06-29T08:50:46.384Z"
   },
   {
    "duration": 9,
    "start_time": "2023-06-29T08:50:46.706Z"
   },
   {
    "duration": 82,
    "start_time": "2023-06-29T08:50:46.716Z"
   },
   {
    "duration": 35,
    "start_time": "2023-06-29T08:50:46.799Z"
   },
   {
    "duration": 160,
    "start_time": "2023-06-29T08:50:46.836Z"
   },
   {
    "duration": 7,
    "start_time": "2023-06-29T08:50:47.001Z"
   },
   {
    "duration": 37,
    "start_time": "2023-06-29T08:50:47.009Z"
   },
   {
    "duration": 69,
    "start_time": "2023-06-29T08:50:47.047Z"
   },
   {
    "duration": 41,
    "start_time": "2023-06-29T08:50:47.120Z"
   },
   {
    "duration": 208,
    "start_time": "2023-06-29T08:50:47.163Z"
   },
   {
    "duration": 169,
    "start_time": "2023-06-29T08:50:47.373Z"
   },
   {
    "duration": 866,
    "start_time": "2023-06-29T08:50:47.544Z"
   },
   {
    "duration": 15,
    "start_time": "2023-06-29T08:50:48.412Z"
   },
   {
    "duration": 54,
    "start_time": "2023-06-29T08:50:48.429Z"
   },
   {
    "duration": 57,
    "start_time": "2023-06-29T08:50:48.485Z"
   },
   {
    "duration": 193,
    "start_time": "2023-06-29T08:50:48.544Z"
   },
   {
    "duration": 13,
    "start_time": "2023-06-29T08:50:48.739Z"
   },
   {
    "duration": 95,
    "start_time": "2023-06-29T08:50:48.754Z"
   },
   {
    "duration": 859,
    "start_time": "2023-06-29T08:50:48.850Z"
   },
   {
    "duration": 6,
    "start_time": "2023-06-29T08:50:49.711Z"
   },
   {
    "duration": 57,
    "start_time": "2023-06-29T08:50:49.718Z"
   },
   {
    "duration": 272,
    "start_time": "2023-06-29T08:50:49.777Z"
   },
   {
    "duration": 1560,
    "start_time": "2023-06-29T08:50:50.051Z"
   },
   {
    "duration": 7,
    "start_time": "2023-06-29T08:50:51.613Z"
   },
   {
    "duration": 26,
    "start_time": "2023-06-29T08:50:51.622Z"
   },
   {
    "duration": 1335,
    "start_time": "2023-06-29T08:59:43.047Z"
   },
   {
    "duration": 70,
    "start_time": "2023-06-29T08:59:44.384Z"
   },
   {
    "duration": 14,
    "start_time": "2023-06-29T08:59:44.458Z"
   },
   {
    "duration": 26,
    "start_time": "2023-06-29T08:59:44.474Z"
   },
   {
    "duration": 27,
    "start_time": "2023-06-29T08:59:44.502Z"
   },
   {
    "duration": 27,
    "start_time": "2023-06-29T08:59:44.531Z"
   },
   {
    "duration": 24,
    "start_time": "2023-06-29T08:59:44.560Z"
   },
   {
    "duration": 14,
    "start_time": "2023-06-29T08:59:44.586Z"
   },
   {
    "duration": 16,
    "start_time": "2023-06-29T08:59:44.604Z"
   },
   {
    "duration": 7,
    "start_time": "2023-06-29T08:59:44.622Z"
   },
   {
    "duration": 8,
    "start_time": "2023-06-29T08:59:44.630Z"
   },
   {
    "duration": 9,
    "start_time": "2023-06-29T08:59:44.640Z"
   },
   {
    "duration": 8,
    "start_time": "2023-06-29T08:59:44.650Z"
   },
   {
    "duration": 13,
    "start_time": "2023-06-29T08:59:44.659Z"
   },
   {
    "duration": 43,
    "start_time": "2023-06-29T08:59:44.673Z"
   },
   {
    "duration": 8,
    "start_time": "2023-06-29T08:59:44.719Z"
   },
   {
    "duration": 11,
    "start_time": "2023-06-29T08:59:44.728Z"
   },
   {
    "duration": 26,
    "start_time": "2023-06-29T08:59:44.741Z"
   },
   {
    "duration": 10,
    "start_time": "2023-06-29T08:59:44.769Z"
   },
   {
    "duration": 15,
    "start_time": "2023-06-29T08:59:44.780Z"
   },
   {
    "duration": 19,
    "start_time": "2023-06-29T08:59:44.797Z"
   },
   {
    "duration": 30,
    "start_time": "2023-06-29T08:59:44.817Z"
   },
   {
    "duration": 168,
    "start_time": "2023-06-29T08:59:44.848Z"
   },
   {
    "duration": 151,
    "start_time": "2023-06-29T08:59:45.018Z"
   },
   {
    "duration": 4,
    "start_time": "2023-06-29T08:59:45.172Z"
   },
   {
    "duration": 24,
    "start_time": "2023-06-29T08:59:45.178Z"
   },
   {
    "duration": 100,
    "start_time": "2023-06-29T08:59:45.206Z"
   },
   {
    "duration": 171,
    "start_time": "2023-06-29T08:59:45.308Z"
   },
   {
    "duration": 137,
    "start_time": "2023-06-29T08:59:45.481Z"
   },
   {
    "duration": 191,
    "start_time": "2023-06-29T08:59:45.620Z"
   },
   {
    "duration": 8,
    "start_time": "2023-06-29T08:59:45.813Z"
   },
   {
    "duration": 136,
    "start_time": "2023-06-29T08:59:45.823Z"
   },
   {
    "duration": 207,
    "start_time": "2023-06-29T08:59:45.960Z"
   },
   {
    "duration": 8,
    "start_time": "2023-06-29T08:59:46.169Z"
   },
   {
    "duration": 30,
    "start_time": "2023-06-29T08:59:46.179Z"
   },
   {
    "duration": 17,
    "start_time": "2023-06-29T08:59:46.211Z"
   },
   {
    "duration": 130,
    "start_time": "2023-06-29T08:59:46.230Z"
   },
   {
    "duration": 7,
    "start_time": "2023-06-29T08:59:46.362Z"
   },
   {
    "duration": 23,
    "start_time": "2023-06-29T08:59:46.371Z"
   },
   {
    "duration": 33,
    "start_time": "2023-06-29T08:59:46.395Z"
   },
   {
    "duration": 32,
    "start_time": "2023-06-29T08:59:46.429Z"
   },
   {
    "duration": 179,
    "start_time": "2023-06-29T08:59:46.462Z"
   },
   {
    "duration": 167,
    "start_time": "2023-06-29T08:59:46.643Z"
   },
   {
    "duration": 890,
    "start_time": "2023-06-29T08:59:46.812Z"
   },
   {
    "duration": 15,
    "start_time": "2023-06-29T08:59:47.703Z"
   },
   {
    "duration": 5,
    "start_time": "2023-06-29T08:59:47.719Z"
   },
   {
    "duration": 10,
    "start_time": "2023-06-29T08:59:47.725Z"
   },
   {
    "duration": 164,
    "start_time": "2023-06-29T08:59:47.737Z"
   },
   {
    "duration": 15,
    "start_time": "2023-06-29T08:59:47.903Z"
   },
   {
    "duration": 5,
    "start_time": "2023-06-29T08:59:47.919Z"
   },
   {
    "duration": 843,
    "start_time": "2023-06-29T08:59:47.926Z"
   },
   {
    "duration": 6,
    "start_time": "2023-06-29T08:59:48.771Z"
   },
   {
    "duration": 25,
    "start_time": "2023-06-29T08:59:48.778Z"
   },
   {
    "duration": 250,
    "start_time": "2023-06-29T08:59:48.804Z"
   },
   {
    "duration": 1548,
    "start_time": "2023-06-29T08:59:49.056Z"
   },
   {
    "duration": 8,
    "start_time": "2023-06-29T08:59:50.606Z"
   },
   {
    "duration": 15,
    "start_time": "2023-06-29T08:59:50.615Z"
   },
   {
    "duration": 1283,
    "start_time": "2023-06-29T09:00:38.239Z"
   },
   {
    "duration": 70,
    "start_time": "2023-06-29T09:00:39.524Z"
   },
   {
    "duration": 14,
    "start_time": "2023-06-29T09:00:39.595Z"
   },
   {
    "duration": 33,
    "start_time": "2023-06-29T09:00:39.611Z"
   },
   {
    "duration": 24,
    "start_time": "2023-06-29T09:00:39.646Z"
   },
   {
    "duration": 24,
    "start_time": "2023-06-29T09:00:39.672Z"
   },
   {
    "duration": 33,
    "start_time": "2023-06-29T09:00:39.698Z"
   },
   {
    "duration": 19,
    "start_time": "2023-06-29T09:00:39.733Z"
   },
   {
    "duration": 21,
    "start_time": "2023-06-29T09:00:39.753Z"
   },
   {
    "duration": 14,
    "start_time": "2023-06-29T09:00:39.775Z"
   },
   {
    "duration": 39,
    "start_time": "2023-06-29T09:00:39.791Z"
   },
   {
    "duration": 29,
    "start_time": "2023-06-29T09:00:39.832Z"
   },
   {
    "duration": 29,
    "start_time": "2023-06-29T09:00:39.862Z"
   },
   {
    "duration": 33,
    "start_time": "2023-06-29T09:00:39.894Z"
   },
   {
    "duration": 23,
    "start_time": "2023-06-29T09:00:39.929Z"
   },
   {
    "duration": 24,
    "start_time": "2023-06-29T09:00:39.954Z"
   },
   {
    "duration": 8,
    "start_time": "2023-06-29T09:00:39.980Z"
   },
   {
    "duration": 10,
    "start_time": "2023-06-29T09:00:39.990Z"
   },
   {
    "duration": 4,
    "start_time": "2023-06-29T09:00:40.001Z"
   },
   {
    "duration": 15,
    "start_time": "2023-06-29T09:00:40.007Z"
   },
   {
    "duration": 42,
    "start_time": "2023-06-29T09:00:40.024Z"
   },
   {
    "duration": 34,
    "start_time": "2023-06-29T09:00:40.068Z"
   },
   {
    "duration": 155,
    "start_time": "2023-06-29T09:00:40.103Z"
   },
   {
    "duration": 146,
    "start_time": "2023-06-29T09:00:40.260Z"
   },
   {
    "duration": 4,
    "start_time": "2023-06-29T09:00:40.407Z"
   },
   {
    "duration": 15,
    "start_time": "2023-06-29T09:00:40.413Z"
   },
   {
    "duration": 131,
    "start_time": "2023-06-29T09:00:40.429Z"
   },
   {
    "duration": 203,
    "start_time": "2023-06-29T09:00:40.563Z"
   },
   {
    "duration": 136,
    "start_time": "2023-06-29T09:00:40.768Z"
   },
   {
    "duration": 187,
    "start_time": "2023-06-29T09:00:40.906Z"
   },
   {
    "duration": 8,
    "start_time": "2023-06-29T09:00:41.102Z"
   },
   {
    "duration": 146,
    "start_time": "2023-06-29T09:00:41.112Z"
   },
   {
    "duration": 203,
    "start_time": "2023-06-29T09:00:41.260Z"
   },
   {
    "duration": 9,
    "start_time": "2023-06-29T09:00:41.464Z"
   },
   {
    "duration": 19,
    "start_time": "2023-06-29T09:00:41.474Z"
   },
   {
    "duration": 110,
    "start_time": "2023-06-29T09:00:41.501Z"
   },
   {
    "duration": 0,
    "start_time": "2023-06-29T09:00:41.613Z"
   },
   {
    "duration": 0,
    "start_time": "2023-06-29T09:00:41.614Z"
   },
   {
    "duration": 0,
    "start_time": "2023-06-29T09:00:41.615Z"
   },
   {
    "duration": 0,
    "start_time": "2023-06-29T09:00:41.732Z"
   },
   {
    "duration": 0,
    "start_time": "2023-06-29T09:00:41.733Z"
   },
   {
    "duration": 0,
    "start_time": "2023-06-29T09:00:41.734Z"
   },
   {
    "duration": 0,
    "start_time": "2023-06-29T09:00:41.735Z"
   },
   {
    "duration": 0,
    "start_time": "2023-06-29T09:00:41.736Z"
   },
   {
    "duration": 0,
    "start_time": "2023-06-29T09:00:41.737Z"
   },
   {
    "duration": 0,
    "start_time": "2023-06-29T09:00:41.738Z"
   },
   {
    "duration": 0,
    "start_time": "2023-06-29T09:00:41.739Z"
   },
   {
    "duration": 0,
    "start_time": "2023-06-29T09:00:41.740Z"
   },
   {
    "duration": 0,
    "start_time": "2023-06-29T09:00:41.740Z"
   },
   {
    "duration": 0,
    "start_time": "2023-06-29T09:00:41.742Z"
   },
   {
    "duration": 0,
    "start_time": "2023-06-29T09:00:41.743Z"
   },
   {
    "duration": 0,
    "start_time": "2023-06-29T09:00:41.743Z"
   },
   {
    "duration": 0,
    "start_time": "2023-06-29T09:00:41.745Z"
   },
   {
    "duration": 0,
    "start_time": "2023-06-29T09:00:41.746Z"
   },
   {
    "duration": 0,
    "start_time": "2023-06-29T09:00:41.747Z"
   },
   {
    "duration": 0,
    "start_time": "2023-06-29T09:00:41.748Z"
   },
   {
    "duration": 0,
    "start_time": "2023-06-29T09:00:41.749Z"
   },
   {
    "duration": 0,
    "start_time": "2023-06-29T09:00:41.750Z"
   },
   {
    "duration": 10,
    "start_time": "2023-06-29T09:01:29.517Z"
   },
   {
    "duration": 20,
    "start_time": "2023-06-29T09:01:31.194Z"
   },
   {
    "duration": 1176,
    "start_time": "2023-06-29T09:06:27.455Z"
   },
   {
    "duration": 71,
    "start_time": "2023-06-29T09:06:28.633Z"
   },
   {
    "duration": 15,
    "start_time": "2023-06-29T09:06:28.705Z"
   },
   {
    "duration": 20,
    "start_time": "2023-06-29T09:06:28.722Z"
   },
   {
    "duration": 11,
    "start_time": "2023-06-29T09:06:28.744Z"
   },
   {
    "duration": 24,
    "start_time": "2023-06-29T09:06:28.757Z"
   },
   {
    "duration": 29,
    "start_time": "2023-06-29T09:06:28.783Z"
   },
   {
    "duration": 19,
    "start_time": "2023-06-29T09:06:28.814Z"
   },
   {
    "duration": 14,
    "start_time": "2023-06-29T09:06:28.835Z"
   },
   {
    "duration": 26,
    "start_time": "2023-06-29T09:06:28.852Z"
   },
   {
    "duration": 8,
    "start_time": "2023-06-29T09:06:28.880Z"
   },
   {
    "duration": 15,
    "start_time": "2023-06-29T09:06:28.889Z"
   },
   {
    "duration": 15,
    "start_time": "2023-06-29T09:06:28.905Z"
   },
   {
    "duration": 15,
    "start_time": "2023-06-29T09:06:28.921Z"
   },
   {
    "duration": 20,
    "start_time": "2023-06-29T09:06:28.937Z"
   },
   {
    "duration": 12,
    "start_time": "2023-06-29T09:06:28.960Z"
   },
   {
    "duration": 16,
    "start_time": "2023-06-29T09:06:28.974Z"
   },
   {
    "duration": 26,
    "start_time": "2023-06-29T09:06:28.992Z"
   },
   {
    "duration": 8,
    "start_time": "2023-06-29T09:06:29.020Z"
   },
   {
    "duration": 8,
    "start_time": "2023-06-29T09:06:29.030Z"
   },
   {
    "duration": 11,
    "start_time": "2023-06-29T09:06:29.039Z"
   },
   {
    "duration": 28,
    "start_time": "2023-06-29T09:06:29.052Z"
   },
   {
    "duration": 185,
    "start_time": "2023-06-29T09:06:29.082Z"
   },
   {
    "duration": 170,
    "start_time": "2023-06-29T09:06:29.269Z"
   },
   {
    "duration": 7,
    "start_time": "2023-06-29T09:06:29.441Z"
   },
   {
    "duration": 23,
    "start_time": "2023-06-29T09:06:29.450Z"
   },
   {
    "duration": 133,
    "start_time": "2023-06-29T09:06:29.475Z"
   },
   {
    "duration": 188,
    "start_time": "2023-06-29T09:06:29.613Z"
   },
   {
    "duration": 136,
    "start_time": "2023-06-29T09:06:29.803Z"
   },
   {
    "duration": 199,
    "start_time": "2023-06-29T09:06:29.941Z"
   },
   {
    "duration": 9,
    "start_time": "2023-06-29T09:06:30.142Z"
   },
   {
    "duration": 149,
    "start_time": "2023-06-29T09:06:30.153Z"
   },
   {
    "duration": 260,
    "start_time": "2023-06-29T09:06:30.304Z"
   },
   {
    "duration": 15,
    "start_time": "2023-06-29T09:06:30.567Z"
   },
   {
    "duration": 42,
    "start_time": "2023-06-29T09:06:30.584Z"
   },
   {
    "duration": 80,
    "start_time": "2023-06-29T09:06:30.629Z"
   },
   {
    "duration": 79,
    "start_time": "2023-06-29T09:06:30.711Z"
   },
   {
    "duration": 146,
    "start_time": "2023-06-29T09:06:30.792Z"
   },
   {
    "duration": 10,
    "start_time": "2023-06-29T09:06:30.940Z"
   },
   {
    "duration": 29,
    "start_time": "2023-06-29T09:06:30.952Z"
   },
   {
    "duration": 44,
    "start_time": "2023-06-29T09:06:30.983Z"
   },
   {
    "duration": 61,
    "start_time": "2023-06-29T09:06:31.029Z"
   },
   {
    "duration": 218,
    "start_time": "2023-06-29T09:06:31.093Z"
   },
   {
    "duration": 179,
    "start_time": "2023-06-29T09:06:31.313Z"
   },
   {
    "duration": 947,
    "start_time": "2023-06-29T09:06:31.494Z"
   },
   {
    "duration": 22,
    "start_time": "2023-06-29T09:06:32.444Z"
   },
   {
    "duration": 11,
    "start_time": "2023-06-29T09:06:32.468Z"
   },
   {
    "duration": 21,
    "start_time": "2023-06-29T09:06:32.481Z"
   },
   {
    "duration": 161,
    "start_time": "2023-06-29T09:06:32.504Z"
   },
   {
    "duration": 14,
    "start_time": "2023-06-29T09:06:32.667Z"
   },
   {
    "duration": 17,
    "start_time": "2023-06-29T09:06:32.682Z"
   },
   {
    "duration": 862,
    "start_time": "2023-06-29T09:06:32.702Z"
   },
   {
    "duration": 6,
    "start_time": "2023-06-29T09:06:33.566Z"
   },
   {
    "duration": 30,
    "start_time": "2023-06-29T09:06:33.573Z"
   },
   {
    "duration": 279,
    "start_time": "2023-06-29T09:06:33.605Z"
   },
   {
    "duration": 1494,
    "start_time": "2023-06-29T09:06:33.887Z"
   },
   {
    "duration": 6,
    "start_time": "2023-06-29T09:06:35.383Z"
   },
   {
    "duration": 5,
    "start_time": "2023-06-29T09:06:35.402Z"
   },
   {
    "duration": 11,
    "start_time": "2023-06-29T09:07:54.602Z"
   },
   {
    "duration": 2,
    "start_time": "2023-06-29T09:07:55.357Z"
   },
   {
    "duration": 19,
    "start_time": "2023-06-29T09:07:56.361Z"
   },
   {
    "duration": 12,
    "start_time": "2023-06-29T09:08:18.124Z"
   },
   {
    "duration": 22,
    "start_time": "2023-06-29T09:08:22.119Z"
   },
   {
    "duration": 1255,
    "start_time": "2023-06-29T09:20:14.576Z"
   },
   {
    "duration": 77,
    "start_time": "2023-06-29T09:20:15.833Z"
   },
   {
    "duration": 12,
    "start_time": "2023-06-29T09:20:15.911Z"
   },
   {
    "duration": 8,
    "start_time": "2023-06-29T09:20:15.925Z"
   },
   {
    "duration": 15,
    "start_time": "2023-06-29T09:20:15.937Z"
   },
   {
    "duration": 20,
    "start_time": "2023-06-29T09:20:15.955Z"
   },
   {
    "duration": 28,
    "start_time": "2023-06-29T09:20:15.977Z"
   },
   {
    "duration": 11,
    "start_time": "2023-06-29T09:20:16.007Z"
   },
   {
    "duration": 11,
    "start_time": "2023-06-29T09:20:16.019Z"
   },
   {
    "duration": 19,
    "start_time": "2023-06-29T09:20:16.031Z"
   },
   {
    "duration": 7,
    "start_time": "2023-06-29T09:20:16.052Z"
   },
   {
    "duration": 7,
    "start_time": "2023-06-29T09:20:16.061Z"
   },
   {
    "duration": 34,
    "start_time": "2023-06-29T09:20:16.069Z"
   },
   {
    "duration": 7,
    "start_time": "2023-06-29T09:20:16.106Z"
   },
   {
    "duration": 10,
    "start_time": "2023-06-29T09:20:16.115Z"
   },
   {
    "duration": 8,
    "start_time": "2023-06-29T09:20:16.128Z"
   },
   {
    "duration": 8,
    "start_time": "2023-06-29T09:20:16.138Z"
   },
   {
    "duration": 11,
    "start_time": "2023-06-29T09:20:16.147Z"
   },
   {
    "duration": 8,
    "start_time": "2023-06-29T09:20:16.159Z"
   },
   {
    "duration": 33,
    "start_time": "2023-06-29T09:20:16.169Z"
   },
   {
    "duration": 8,
    "start_time": "2023-06-29T09:20:16.204Z"
   },
   {
    "duration": 9,
    "start_time": "2023-06-29T09:20:16.213Z"
   },
   {
    "duration": 165,
    "start_time": "2023-06-29T09:20:16.224Z"
   },
   {
    "duration": 156,
    "start_time": "2023-06-29T09:20:16.391Z"
   },
   {
    "duration": 4,
    "start_time": "2023-06-29T09:20:16.549Z"
   },
   {
    "duration": 15,
    "start_time": "2023-06-29T09:20:16.555Z"
   },
   {
    "duration": 106,
    "start_time": "2023-06-29T09:20:16.572Z"
   },
   {
    "duration": 179,
    "start_time": "2023-06-29T09:20:16.679Z"
   },
   {
    "duration": 144,
    "start_time": "2023-06-29T09:20:16.860Z"
   },
   {
    "duration": 207,
    "start_time": "2023-06-29T09:20:17.006Z"
   },
   {
    "duration": 10,
    "start_time": "2023-06-29T09:20:17.216Z"
   },
   {
    "duration": 150,
    "start_time": "2023-06-29T09:20:17.228Z"
   },
   {
    "duration": 216,
    "start_time": "2023-06-29T09:20:17.381Z"
   },
   {
    "duration": 9,
    "start_time": "2023-06-29T09:20:17.602Z"
   },
   {
    "duration": 16,
    "start_time": "2023-06-29T09:20:17.613Z"
   },
   {
    "duration": 11,
    "start_time": "2023-06-29T09:20:17.631Z"
   },
   {
    "duration": 29,
    "start_time": "2023-06-29T09:20:17.644Z"
   },
   {
    "duration": 147,
    "start_time": "2023-06-29T09:20:17.675Z"
   },
   {
    "duration": 9,
    "start_time": "2023-06-29T09:20:17.824Z"
   },
   {
    "duration": 8,
    "start_time": "2023-06-29T09:20:17.835Z"
   },
   {
    "duration": 9,
    "start_time": "2023-06-29T09:20:17.848Z"
   },
   {
    "duration": 17,
    "start_time": "2023-06-29T09:20:17.859Z"
   },
   {
    "duration": 191,
    "start_time": "2023-06-29T09:20:17.878Z"
   },
   {
    "duration": 178,
    "start_time": "2023-06-29T09:20:18.071Z"
   },
   {
    "duration": 960,
    "start_time": "2023-06-29T09:20:18.250Z"
   },
   {
    "duration": 15,
    "start_time": "2023-06-29T09:20:19.212Z"
   },
   {
    "duration": 4,
    "start_time": "2023-06-29T09:20:19.229Z"
   },
   {
    "duration": 12,
    "start_time": "2023-06-29T09:20:19.234Z"
   },
   {
    "duration": 161,
    "start_time": "2023-06-29T09:20:19.248Z"
   },
   {
    "duration": 14,
    "start_time": "2023-06-29T09:20:19.410Z"
   },
   {
    "duration": 9,
    "start_time": "2023-06-29T09:20:19.426Z"
   },
   {
    "duration": 10,
    "start_time": "2023-06-29T09:20:19.436Z"
   },
   {
    "duration": 913,
    "start_time": "2023-06-29T09:20:19.448Z"
   },
   {
    "duration": 6,
    "start_time": "2023-06-29T09:20:20.363Z"
   },
   {
    "duration": 52,
    "start_time": "2023-06-29T09:20:20.371Z"
   },
   {
    "duration": 38,
    "start_time": "2023-06-29T09:20:20.425Z"
   },
   {
    "duration": 2140,
    "start_time": "2023-06-29T09:20:20.466Z"
   },
   {
    "duration": 0,
    "start_time": "2023-06-29T09:20:22.607Z"
   },
   {
    "duration": 0,
    "start_time": "2023-06-29T09:20:22.609Z"
   },
   {
    "duration": 0,
    "start_time": "2023-06-29T09:20:22.610Z"
   },
   {
    "duration": 0,
    "start_time": "2023-06-29T09:20:22.611Z"
   },
   {
    "duration": 1177,
    "start_time": "2023-06-29T09:21:16.442Z"
   },
   {
    "duration": 69,
    "start_time": "2023-06-29T09:21:17.621Z"
   },
   {
    "duration": 12,
    "start_time": "2023-06-29T09:21:17.692Z"
   },
   {
    "duration": 20,
    "start_time": "2023-06-29T09:21:17.706Z"
   },
   {
    "duration": 20,
    "start_time": "2023-06-29T09:21:17.728Z"
   },
   {
    "duration": 29,
    "start_time": "2023-06-29T09:21:17.749Z"
   },
   {
    "duration": 30,
    "start_time": "2023-06-29T09:21:17.780Z"
   },
   {
    "duration": 15,
    "start_time": "2023-06-29T09:21:17.811Z"
   },
   {
    "duration": 31,
    "start_time": "2023-06-29T09:21:17.827Z"
   },
   {
    "duration": 11,
    "start_time": "2023-06-29T09:21:17.860Z"
   },
   {
    "duration": 15,
    "start_time": "2023-06-29T09:21:17.873Z"
   },
   {
    "duration": 12,
    "start_time": "2023-06-29T09:21:17.889Z"
   },
   {
    "duration": 8,
    "start_time": "2023-06-29T09:21:17.902Z"
   },
   {
    "duration": 7,
    "start_time": "2023-06-29T09:21:17.912Z"
   },
   {
    "duration": 8,
    "start_time": "2023-06-29T09:21:17.920Z"
   },
   {
    "duration": 5,
    "start_time": "2023-06-29T09:21:17.930Z"
   },
   {
    "duration": 6,
    "start_time": "2023-06-29T09:21:17.936Z"
   },
   {
    "duration": 12,
    "start_time": "2023-06-29T09:21:17.943Z"
   },
   {
    "duration": 4,
    "start_time": "2023-06-29T09:21:17.956Z"
   },
   {
    "duration": 13,
    "start_time": "2023-06-29T09:21:17.962Z"
   },
   {
    "duration": 6,
    "start_time": "2023-06-29T09:21:18.001Z"
   },
   {
    "duration": 11,
    "start_time": "2023-06-29T09:21:18.010Z"
   },
   {
    "duration": 162,
    "start_time": "2023-06-29T09:21:18.022Z"
   },
   {
    "duration": 153,
    "start_time": "2023-06-29T09:21:18.185Z"
   },
   {
    "duration": 4,
    "start_time": "2023-06-29T09:21:18.339Z"
   },
   {
    "duration": 8,
    "start_time": "2023-06-29T09:21:18.345Z"
   },
   {
    "duration": 101,
    "start_time": "2023-06-29T09:21:18.355Z"
   },
   {
    "duration": 173,
    "start_time": "2023-06-29T09:21:18.460Z"
   },
   {
    "duration": 129,
    "start_time": "2023-06-29T09:21:18.635Z"
   },
   {
    "duration": 194,
    "start_time": "2023-06-29T09:21:18.766Z"
   },
   {
    "duration": 9,
    "start_time": "2023-06-29T09:21:18.962Z"
   },
   {
    "duration": 145,
    "start_time": "2023-06-29T09:21:18.973Z"
   },
   {
    "duration": 194,
    "start_time": "2023-06-29T09:21:19.120Z"
   },
   {
    "duration": 9,
    "start_time": "2023-06-29T09:21:19.316Z"
   },
   {
    "duration": 10,
    "start_time": "2023-06-29T09:21:19.327Z"
   },
   {
    "duration": 12,
    "start_time": "2023-06-29T09:21:19.338Z"
   },
   {
    "duration": 21,
    "start_time": "2023-06-29T09:21:19.351Z"
   },
   {
    "duration": 152,
    "start_time": "2023-06-29T09:21:19.373Z"
   },
   {
    "duration": 8,
    "start_time": "2023-06-29T09:21:19.527Z"
   },
   {
    "duration": 7,
    "start_time": "2023-06-29T09:21:19.537Z"
   },
   {
    "duration": 9,
    "start_time": "2023-06-29T09:21:19.545Z"
   },
   {
    "duration": 7,
    "start_time": "2023-06-29T09:21:19.556Z"
   },
   {
    "duration": 187,
    "start_time": "2023-06-29T09:21:19.564Z"
   },
   {
    "duration": 167,
    "start_time": "2023-06-29T09:21:19.753Z"
   },
   {
    "duration": 956,
    "start_time": "2023-06-29T09:21:19.922Z"
   },
   {
    "duration": 24,
    "start_time": "2023-06-29T09:21:20.879Z"
   },
   {
    "duration": 7,
    "start_time": "2023-06-29T09:21:20.905Z"
   },
   {
    "duration": 16,
    "start_time": "2023-06-29T09:21:20.914Z"
   },
   {
    "duration": 153,
    "start_time": "2023-06-29T09:21:20.932Z"
   },
   {
    "duration": 19,
    "start_time": "2023-06-29T09:21:21.087Z"
   },
   {
    "duration": 6,
    "start_time": "2023-06-29T09:21:21.107Z"
   },
   {
    "duration": 9,
    "start_time": "2023-06-29T09:21:21.115Z"
   },
   {
    "duration": 13,
    "start_time": "2023-06-29T09:21:21.126Z"
   },
   {
    "duration": 875,
    "start_time": "2023-06-29T09:21:21.141Z"
   },
   {
    "duration": 7,
    "start_time": "2023-06-29T09:21:22.018Z"
   },
   {
    "duration": 12,
    "start_time": "2023-06-29T09:21:22.027Z"
   },
   {
    "duration": 8,
    "start_time": "2023-06-29T09:21:22.041Z"
   },
   {
    "duration": 20,
    "start_time": "2023-06-29T09:21:22.051Z"
   },
   {
    "duration": 1848,
    "start_time": "2023-06-29T09:21:22.073Z"
   },
   {
    "duration": 0,
    "start_time": "2023-06-29T09:21:23.923Z"
   },
   {
    "duration": 0,
    "start_time": "2023-06-29T09:21:23.925Z"
   },
   {
    "duration": 0,
    "start_time": "2023-06-29T09:21:23.927Z"
   },
   {
    "duration": 0,
    "start_time": "2023-06-29T09:21:23.928Z"
   },
   {
    "duration": 0,
    "start_time": "2023-06-29T09:21:23.930Z"
   },
   {
    "duration": 1166,
    "start_time": "2023-06-29T09:23:28.253Z"
   },
   {
    "duration": 69,
    "start_time": "2023-06-29T09:23:29.421Z"
   },
   {
    "duration": 14,
    "start_time": "2023-06-29T09:23:29.492Z"
   },
   {
    "duration": 8,
    "start_time": "2023-06-29T09:23:29.508Z"
   },
   {
    "duration": 21,
    "start_time": "2023-06-29T09:23:29.518Z"
   },
   {
    "duration": 25,
    "start_time": "2023-06-29T09:23:29.541Z"
   },
   {
    "duration": 26,
    "start_time": "2023-06-29T09:23:29.568Z"
   },
   {
    "duration": 11,
    "start_time": "2023-06-29T09:23:29.595Z"
   },
   {
    "duration": 10,
    "start_time": "2023-06-29T09:23:29.608Z"
   },
   {
    "duration": 18,
    "start_time": "2023-06-29T09:23:29.619Z"
   },
   {
    "duration": 11,
    "start_time": "2023-06-29T09:23:29.638Z"
   },
   {
    "duration": 6,
    "start_time": "2023-06-29T09:23:29.651Z"
   },
   {
    "duration": 8,
    "start_time": "2023-06-29T09:23:29.658Z"
   },
   {
    "duration": 5,
    "start_time": "2023-06-29T09:23:29.669Z"
   },
   {
    "duration": 27,
    "start_time": "2023-06-29T09:23:29.676Z"
   },
   {
    "duration": 6,
    "start_time": "2023-06-29T09:23:29.704Z"
   },
   {
    "duration": 8,
    "start_time": "2023-06-29T09:23:29.711Z"
   },
   {
    "duration": 27,
    "start_time": "2023-06-29T09:23:29.720Z"
   },
   {
    "duration": 5,
    "start_time": "2023-06-29T09:23:29.749Z"
   },
   {
    "duration": 6,
    "start_time": "2023-06-29T09:23:29.756Z"
   },
   {
    "duration": 12,
    "start_time": "2023-06-29T09:23:29.764Z"
   },
   {
    "duration": 9,
    "start_time": "2023-06-29T09:23:29.778Z"
   },
   {
    "duration": 161,
    "start_time": "2023-06-29T09:23:29.788Z"
   },
   {
    "duration": 153,
    "start_time": "2023-06-29T09:23:29.951Z"
   },
   {
    "duration": 4,
    "start_time": "2023-06-29T09:23:30.106Z"
   },
   {
    "duration": 45,
    "start_time": "2023-06-29T09:23:30.111Z"
   },
   {
    "duration": 123,
    "start_time": "2023-06-29T09:23:30.157Z"
   },
   {
    "duration": 184,
    "start_time": "2023-06-29T09:23:30.282Z"
   },
   {
    "duration": 156,
    "start_time": "2023-06-29T09:23:30.469Z"
   },
   {
    "duration": 234,
    "start_time": "2023-06-29T09:23:30.627Z"
   },
   {
    "duration": 9,
    "start_time": "2023-06-29T09:23:30.863Z"
   },
   {
    "duration": 159,
    "start_time": "2023-06-29T09:23:30.874Z"
   },
   {
    "duration": 206,
    "start_time": "2023-06-29T09:23:31.035Z"
   },
   {
    "duration": 9,
    "start_time": "2023-06-29T09:23:31.243Z"
   },
   {
    "duration": 46,
    "start_time": "2023-06-29T09:23:31.254Z"
   },
   {
    "duration": 53,
    "start_time": "2023-06-29T09:23:31.302Z"
   },
   {
    "duration": 42,
    "start_time": "2023-06-29T09:23:31.356Z"
   },
   {
    "duration": 145,
    "start_time": "2023-06-29T09:23:31.400Z"
   },
   {
    "duration": 8,
    "start_time": "2023-06-29T09:23:31.547Z"
   },
   {
    "duration": 71,
    "start_time": "2023-06-29T09:23:31.557Z"
   },
   {
    "duration": 72,
    "start_time": "2023-06-29T09:23:31.634Z"
   },
   {
    "duration": 58,
    "start_time": "2023-06-29T09:23:31.709Z"
   },
   {
    "duration": 48,
    "start_time": "2023-06-29T09:23:31.769Z"
   },
   {
    "duration": 75,
    "start_time": "2023-06-29T09:23:31.818Z"
   },
   {
    "duration": 198,
    "start_time": "2023-06-29T09:23:31.894Z"
   },
   {
    "duration": 178,
    "start_time": "2023-06-29T09:23:32.094Z"
   },
   {
    "duration": 858,
    "start_time": "2023-06-29T09:23:32.274Z"
   },
   {
    "duration": 16,
    "start_time": "2023-06-29T09:23:33.134Z"
   },
   {
    "duration": 4,
    "start_time": "2023-06-29T09:23:33.151Z"
   },
   {
    "duration": 12,
    "start_time": "2023-06-29T09:23:33.157Z"
   },
   {
    "duration": 159,
    "start_time": "2023-06-29T09:23:33.171Z"
   },
   {
    "duration": 15,
    "start_time": "2023-06-29T09:23:33.332Z"
   },
   {
    "duration": 7,
    "start_time": "2023-06-29T09:23:33.348Z"
   },
   {
    "duration": 11,
    "start_time": "2023-06-29T09:23:33.356Z"
   },
   {
    "duration": 13,
    "start_time": "2023-06-29T09:23:33.369Z"
   },
   {
    "duration": 903,
    "start_time": "2023-06-29T09:23:33.384Z"
   },
   {
    "duration": 13,
    "start_time": "2023-06-29T09:23:34.288Z"
   },
   {
    "duration": 12,
    "start_time": "2023-06-29T09:23:34.303Z"
   },
   {
    "duration": 10,
    "start_time": "2023-06-29T09:23:34.316Z"
   },
   {
    "duration": 24,
    "start_time": "2023-06-29T09:23:34.328Z"
   },
   {
    "duration": 1591,
    "start_time": "2023-06-29T09:23:34.354Z"
   },
   {
    "duration": 0,
    "start_time": "2023-06-29T09:23:35.947Z"
   },
   {
    "duration": 0,
    "start_time": "2023-06-29T09:23:35.947Z"
   },
   {
    "duration": 0,
    "start_time": "2023-06-29T09:23:35.948Z"
   },
   {
    "duration": 0,
    "start_time": "2023-06-29T09:23:35.950Z"
   },
   {
    "duration": 0,
    "start_time": "2023-06-29T09:23:35.951Z"
   },
   {
    "duration": 5,
    "start_time": "2023-06-29T09:25:37.681Z"
   },
   {
    "duration": 5,
    "start_time": "2023-06-29T09:25:45.913Z"
   },
   {
    "duration": 1180,
    "start_time": "2023-06-29T09:25:53.836Z"
   },
   {
    "duration": 70,
    "start_time": "2023-06-29T09:25:55.018Z"
   },
   {
    "duration": 12,
    "start_time": "2023-06-29T09:25:55.090Z"
   },
   {
    "duration": 21,
    "start_time": "2023-06-29T09:25:55.104Z"
   },
   {
    "duration": 23,
    "start_time": "2023-06-29T09:25:55.127Z"
   },
   {
    "duration": 37,
    "start_time": "2023-06-29T09:25:55.152Z"
   },
   {
    "duration": 35,
    "start_time": "2023-06-29T09:25:55.191Z"
   },
   {
    "duration": 27,
    "start_time": "2023-06-29T09:25:55.228Z"
   },
   {
    "duration": 36,
    "start_time": "2023-06-29T09:25:55.257Z"
   },
   {
    "duration": 29,
    "start_time": "2023-06-29T09:25:55.296Z"
   },
   {
    "duration": 11,
    "start_time": "2023-06-29T09:25:55.326Z"
   },
   {
    "duration": 21,
    "start_time": "2023-06-29T09:25:55.338Z"
   },
   {
    "duration": 15,
    "start_time": "2023-06-29T09:25:55.361Z"
   },
   {
    "duration": 26,
    "start_time": "2023-06-29T09:25:55.378Z"
   },
   {
    "duration": 35,
    "start_time": "2023-06-29T09:25:55.406Z"
   },
   {
    "duration": 18,
    "start_time": "2023-06-29T09:25:55.443Z"
   },
   {
    "duration": 14,
    "start_time": "2023-06-29T09:25:55.463Z"
   },
   {
    "duration": 21,
    "start_time": "2023-06-29T09:25:55.478Z"
   },
   {
    "duration": 9,
    "start_time": "2023-06-29T09:25:55.500Z"
   },
   {
    "duration": 22,
    "start_time": "2023-06-29T09:25:55.510Z"
   },
   {
    "duration": 30,
    "start_time": "2023-06-29T09:25:55.533Z"
   },
   {
    "duration": 32,
    "start_time": "2023-06-29T09:25:55.565Z"
   },
   {
    "duration": 160,
    "start_time": "2023-06-29T09:25:55.599Z"
   },
   {
    "duration": 156,
    "start_time": "2023-06-29T09:25:55.761Z"
   },
   {
    "duration": 4,
    "start_time": "2023-06-29T09:25:55.919Z"
   },
   {
    "duration": 31,
    "start_time": "2023-06-29T09:25:55.924Z"
   },
   {
    "duration": 147,
    "start_time": "2023-06-29T09:25:55.957Z"
   },
   {
    "duration": 194,
    "start_time": "2023-06-29T09:25:56.108Z"
   },
   {
    "duration": 135,
    "start_time": "2023-06-29T09:25:56.304Z"
   },
   {
    "duration": 190,
    "start_time": "2023-06-29T09:25:56.440Z"
   },
   {
    "duration": 9,
    "start_time": "2023-06-29T09:25:56.632Z"
   },
   {
    "duration": 132,
    "start_time": "2023-06-29T09:25:56.642Z"
   },
   {
    "duration": 212,
    "start_time": "2023-06-29T09:25:56.776Z"
   },
   {
    "duration": 13,
    "start_time": "2023-06-29T09:25:56.990Z"
   },
   {
    "duration": 10,
    "start_time": "2023-06-29T09:25:57.004Z"
   },
   {
    "duration": 9,
    "start_time": "2023-06-29T09:25:57.016Z"
   },
   {
    "duration": 18,
    "start_time": "2023-06-29T09:25:57.027Z"
   },
   {
    "duration": 151,
    "start_time": "2023-06-29T09:25:57.047Z"
   },
   {
    "duration": 8,
    "start_time": "2023-06-29T09:25:57.200Z"
   },
   {
    "duration": 13,
    "start_time": "2023-06-29T09:25:57.209Z"
   },
   {
    "duration": 32,
    "start_time": "2023-06-29T09:25:57.224Z"
   },
   {
    "duration": 24,
    "start_time": "2023-06-29T09:25:57.258Z"
   },
   {
    "duration": 13,
    "start_time": "2023-06-29T09:25:57.284Z"
   },
   {
    "duration": 35,
    "start_time": "2023-06-29T09:25:57.298Z"
   },
   {
    "duration": 180,
    "start_time": "2023-06-29T09:25:57.335Z"
   },
   {
    "duration": 172,
    "start_time": "2023-06-29T09:25:57.517Z"
   },
   {
    "duration": 867,
    "start_time": "2023-06-29T09:25:57.691Z"
   },
   {
    "duration": 16,
    "start_time": "2023-06-29T09:25:58.560Z"
   },
   {
    "duration": 11,
    "start_time": "2023-06-29T09:25:58.578Z"
   },
   {
    "duration": 10,
    "start_time": "2023-06-29T09:25:58.591Z"
   },
   {
    "duration": 151,
    "start_time": "2023-06-29T09:25:58.603Z"
   },
   {
    "duration": 14,
    "start_time": "2023-06-29T09:25:58.756Z"
   },
   {
    "duration": 20,
    "start_time": "2023-06-29T09:25:58.772Z"
   },
   {
    "duration": 12,
    "start_time": "2023-06-29T09:25:58.794Z"
   },
   {
    "duration": 13,
    "start_time": "2023-06-29T09:25:58.808Z"
   },
   {
    "duration": 892,
    "start_time": "2023-06-29T09:25:58.822Z"
   },
   {
    "duration": 5,
    "start_time": "2023-06-29T09:25:59.716Z"
   },
   {
    "duration": 29,
    "start_time": "2023-06-29T09:25:59.723Z"
   },
   {
    "duration": 29,
    "start_time": "2023-06-29T09:25:59.754Z"
   },
   {
    "duration": 24,
    "start_time": "2023-06-29T09:25:59.786Z"
   },
   {
    "duration": 76,
    "start_time": "2023-06-29T09:25:59.811Z"
   },
   {
    "duration": 84,
    "start_time": "2023-06-29T09:25:59.889Z"
   },
   {
    "duration": 272,
    "start_time": "2023-06-29T09:25:59.975Z"
   },
   {
    "duration": 1612,
    "start_time": "2023-06-29T09:26:00.249Z"
   },
   {
    "duration": 7,
    "start_time": "2023-06-29T09:26:01.863Z"
   },
   {
    "duration": 60,
    "start_time": "2023-06-29T09:26:01.872Z"
   },
   {
    "duration": 1437,
    "start_time": "2023-06-30T04:59:22.581Z"
   },
   {
    "duration": 278,
    "start_time": "2023-06-30T04:59:24.021Z"
   },
   {
    "duration": 12,
    "start_time": "2023-06-30T04:59:24.301Z"
   },
   {
    "duration": 8,
    "start_time": "2023-06-30T04:59:24.315Z"
   },
   {
    "duration": 13,
    "start_time": "2023-06-30T04:59:24.325Z"
   },
   {
    "duration": 16,
    "start_time": "2023-06-30T04:59:24.339Z"
   },
   {
    "duration": 23,
    "start_time": "2023-06-30T04:59:24.357Z"
   },
   {
    "duration": 21,
    "start_time": "2023-06-30T04:59:24.382Z"
   },
   {
    "duration": 14,
    "start_time": "2023-06-30T04:59:24.405Z"
   },
   {
    "duration": 18,
    "start_time": "2023-06-30T04:59:24.422Z"
   },
   {
    "duration": 12,
    "start_time": "2023-06-30T04:59:24.442Z"
   },
   {
    "duration": 11,
    "start_time": "2023-06-30T04:59:24.456Z"
   },
   {
    "duration": 13,
    "start_time": "2023-06-30T04:59:24.469Z"
   },
   {
    "duration": 16,
    "start_time": "2023-06-30T04:59:24.484Z"
   },
   {
    "duration": 17,
    "start_time": "2023-06-30T04:59:24.502Z"
   },
   {
    "duration": 27,
    "start_time": "2023-06-30T04:59:24.521Z"
   },
   {
    "duration": 20,
    "start_time": "2023-06-30T04:59:24.550Z"
   },
   {
    "duration": 14,
    "start_time": "2023-06-30T04:59:24.572Z"
   },
   {
    "duration": 4,
    "start_time": "2023-06-30T04:59:24.588Z"
   },
   {
    "duration": 6,
    "start_time": "2023-06-30T04:59:24.594Z"
   },
   {
    "duration": 7,
    "start_time": "2023-06-30T04:59:24.602Z"
   },
   {
    "duration": 9,
    "start_time": "2023-06-30T04:59:24.611Z"
   },
   {
    "duration": 184,
    "start_time": "2023-06-30T04:59:24.622Z"
   },
   {
    "duration": 169,
    "start_time": "2023-06-30T04:59:24.808Z"
   },
   {
    "duration": 4,
    "start_time": "2023-06-30T04:59:24.979Z"
   },
   {
    "duration": 19,
    "start_time": "2023-06-30T04:59:24.984Z"
   },
   {
    "duration": 129,
    "start_time": "2023-06-30T04:59:25.004Z"
   },
   {
    "duration": 292,
    "start_time": "2023-06-30T04:59:25.138Z"
   },
   {
    "duration": 0,
    "start_time": "2023-06-30T04:59:25.432Z"
   },
   {
    "duration": 0,
    "start_time": "2023-06-30T04:59:25.433Z"
   },
   {
    "duration": 0,
    "start_time": "2023-06-30T04:59:25.435Z"
   },
   {
    "duration": 0,
    "start_time": "2023-06-30T04:59:25.436Z"
   },
   {
    "duration": 0,
    "start_time": "2023-06-30T04:59:25.437Z"
   },
   {
    "duration": 0,
    "start_time": "2023-06-30T04:59:25.438Z"
   },
   {
    "duration": 0,
    "start_time": "2023-06-30T04:59:25.455Z"
   },
   {
    "duration": 0,
    "start_time": "2023-06-30T04:59:25.456Z"
   },
   {
    "duration": 0,
    "start_time": "2023-06-30T04:59:25.457Z"
   },
   {
    "duration": 0,
    "start_time": "2023-06-30T04:59:25.458Z"
   },
   {
    "duration": 0,
    "start_time": "2023-06-30T04:59:25.459Z"
   },
   {
    "duration": 0,
    "start_time": "2023-06-30T04:59:25.460Z"
   },
   {
    "duration": 0,
    "start_time": "2023-06-30T04:59:25.461Z"
   },
   {
    "duration": 0,
    "start_time": "2023-06-30T04:59:25.462Z"
   },
   {
    "duration": 0,
    "start_time": "2023-06-30T04:59:25.463Z"
   },
   {
    "duration": 0,
    "start_time": "2023-06-30T04:59:25.464Z"
   },
   {
    "duration": 0,
    "start_time": "2023-06-30T04:59:25.465Z"
   },
   {
    "duration": 0,
    "start_time": "2023-06-30T04:59:25.466Z"
   },
   {
    "duration": 0,
    "start_time": "2023-06-30T04:59:25.468Z"
   },
   {
    "duration": 0,
    "start_time": "2023-06-30T04:59:25.469Z"
   },
   {
    "duration": 0,
    "start_time": "2023-06-30T04:59:25.469Z"
   },
   {
    "duration": 0,
    "start_time": "2023-06-30T04:59:25.470Z"
   },
   {
    "duration": 0,
    "start_time": "2023-06-30T04:59:25.471Z"
   },
   {
    "duration": 0,
    "start_time": "2023-06-30T04:59:25.472Z"
   },
   {
    "duration": 0,
    "start_time": "2023-06-30T04:59:25.473Z"
   },
   {
    "duration": 0,
    "start_time": "2023-06-30T04:59:25.474Z"
   },
   {
    "duration": 0,
    "start_time": "2023-06-30T04:59:25.475Z"
   },
   {
    "duration": 0,
    "start_time": "2023-06-30T04:59:25.476Z"
   },
   {
    "duration": 0,
    "start_time": "2023-06-30T04:59:25.478Z"
   },
   {
    "duration": 0,
    "start_time": "2023-06-30T04:59:25.478Z"
   },
   {
    "duration": 0,
    "start_time": "2023-06-30T04:59:25.479Z"
   },
   {
    "duration": 0,
    "start_time": "2023-06-30T04:59:25.481Z"
   },
   {
    "duration": 0,
    "start_time": "2023-06-30T04:59:25.482Z"
   },
   {
    "duration": 0,
    "start_time": "2023-06-30T04:59:25.483Z"
   },
   {
    "duration": 0,
    "start_time": "2023-06-30T04:59:25.484Z"
   },
   {
    "duration": 0,
    "start_time": "2023-06-30T04:59:25.485Z"
   },
   {
    "duration": 0,
    "start_time": "2023-06-30T04:59:25.486Z"
   },
   {
    "duration": 0,
    "start_time": "2023-06-30T04:59:25.487Z"
   },
   {
    "duration": 66,
    "start_time": "2023-06-30T05:01:20.516Z"
   },
   {
    "duration": 184,
    "start_time": "2023-06-30T05:01:38.279Z"
   },
   {
    "duration": 174,
    "start_time": "2023-06-30T05:01:51.218Z"
   },
   {
    "duration": 191,
    "start_time": "2023-06-30T05:02:00.277Z"
   },
   {
    "duration": 178,
    "start_time": "2023-06-30T05:04:43.814Z"
   },
   {
    "duration": 1243,
    "start_time": "2023-06-30T05:04:58.978Z"
   },
   {
    "duration": 74,
    "start_time": "2023-06-30T05:05:00.223Z"
   },
   {
    "duration": 14,
    "start_time": "2023-06-30T05:05:00.299Z"
   },
   {
    "duration": 22,
    "start_time": "2023-06-30T05:05:00.315Z"
   },
   {
    "duration": 33,
    "start_time": "2023-06-30T05:05:00.339Z"
   },
   {
    "duration": 50,
    "start_time": "2023-06-30T05:05:00.374Z"
   },
   {
    "duration": 51,
    "start_time": "2023-06-30T05:05:00.426Z"
   },
   {
    "duration": 18,
    "start_time": "2023-06-30T05:05:00.479Z"
   },
   {
    "duration": 36,
    "start_time": "2023-06-30T05:05:00.499Z"
   },
   {
    "duration": 30,
    "start_time": "2023-06-30T05:05:00.537Z"
   },
   {
    "duration": 30,
    "start_time": "2023-06-30T05:05:00.570Z"
   },
   {
    "duration": 38,
    "start_time": "2023-06-30T05:05:00.602Z"
   },
   {
    "duration": 51,
    "start_time": "2023-06-30T05:05:00.641Z"
   },
   {
    "duration": 32,
    "start_time": "2023-06-30T05:05:00.695Z"
   },
   {
    "duration": 22,
    "start_time": "2023-06-30T05:05:00.729Z"
   },
   {
    "duration": 39,
    "start_time": "2023-06-30T05:05:00.754Z"
   },
   {
    "duration": 39,
    "start_time": "2023-06-30T05:05:00.795Z"
   },
   {
    "duration": 34,
    "start_time": "2023-06-30T05:05:00.836Z"
   },
   {
    "duration": 52,
    "start_time": "2023-06-30T05:05:00.873Z"
   },
   {
    "duration": 28,
    "start_time": "2023-06-30T05:05:00.927Z"
   },
   {
    "duration": 26,
    "start_time": "2023-06-30T05:05:00.958Z"
   },
   {
    "duration": 74,
    "start_time": "2023-06-30T05:05:00.986Z"
   },
   {
    "duration": 195,
    "start_time": "2023-06-30T05:05:01.062Z"
   },
   {
    "duration": 187,
    "start_time": "2023-06-30T05:05:01.259Z"
   },
   {
    "duration": 12,
    "start_time": "2023-06-30T05:05:01.448Z"
   },
   {
    "duration": 51,
    "start_time": "2023-06-30T05:05:01.461Z"
   },
   {
    "duration": 148,
    "start_time": "2023-06-30T05:05:01.513Z"
   },
   {
    "duration": 199,
    "start_time": "2023-06-30T05:05:01.664Z"
   },
   {
    "duration": 152,
    "start_time": "2023-06-30T05:05:01.865Z"
   },
   {
    "duration": 210,
    "start_time": "2023-06-30T05:05:02.019Z"
   },
   {
    "duration": 27,
    "start_time": "2023-06-30T05:05:02.231Z"
   },
   {
    "duration": 170,
    "start_time": "2023-06-30T05:05:02.261Z"
   },
   {
    "duration": 260,
    "start_time": "2023-06-30T05:05:02.434Z"
   },
   {
    "duration": 9,
    "start_time": "2023-06-30T05:05:02.696Z"
   },
   {
    "duration": 31,
    "start_time": "2023-06-30T05:05:02.707Z"
   },
   {
    "duration": 17,
    "start_time": "2023-06-30T05:05:02.740Z"
   },
   {
    "duration": 36,
    "start_time": "2023-06-30T05:05:02.759Z"
   },
   {
    "duration": 124,
    "start_time": "2023-06-30T05:05:02.797Z"
   },
   {
    "duration": 7,
    "start_time": "2023-06-30T05:05:02.923Z"
   },
   {
    "duration": 16,
    "start_time": "2023-06-30T05:05:02.932Z"
   },
   {
    "duration": 33,
    "start_time": "2023-06-30T05:05:02.953Z"
   },
   {
    "duration": 28,
    "start_time": "2023-06-30T05:05:02.987Z"
   },
   {
    "duration": 15,
    "start_time": "2023-06-30T05:05:03.017Z"
   },
   {
    "duration": 40,
    "start_time": "2023-06-30T05:05:03.035Z"
   },
   {
    "duration": 207,
    "start_time": "2023-06-30T05:05:03.077Z"
   },
   {
    "duration": 203,
    "start_time": "2023-06-30T05:05:03.287Z"
   },
   {
    "duration": 957,
    "start_time": "2023-06-30T05:05:03.492Z"
   },
   {
    "duration": 19,
    "start_time": "2023-06-30T05:05:04.451Z"
   },
   {
    "duration": 4,
    "start_time": "2023-06-30T05:05:04.472Z"
   },
   {
    "duration": 11,
    "start_time": "2023-06-30T05:05:04.478Z"
   },
   {
    "duration": 169,
    "start_time": "2023-06-30T05:05:04.491Z"
   },
   {
    "duration": 17,
    "start_time": "2023-06-30T05:05:04.662Z"
   },
   {
    "duration": 6,
    "start_time": "2023-06-30T05:05:04.681Z"
   },
   {
    "duration": 7,
    "start_time": "2023-06-30T05:05:04.688Z"
   },
   {
    "duration": 10,
    "start_time": "2023-06-30T05:05:04.697Z"
   },
   {
    "duration": 979,
    "start_time": "2023-06-30T05:05:04.708Z"
   },
   {
    "duration": 5,
    "start_time": "2023-06-30T05:05:05.689Z"
   },
   {
    "duration": 9,
    "start_time": "2023-06-30T05:05:05.696Z"
   },
   {
    "duration": 7,
    "start_time": "2023-06-30T05:05:05.706Z"
   },
   {
    "duration": 13,
    "start_time": "2023-06-30T05:05:05.714Z"
   },
   {
    "duration": 28,
    "start_time": "2023-06-30T05:05:05.729Z"
   },
   {
    "duration": 7,
    "start_time": "2023-06-30T05:05:05.760Z"
   },
   {
    "duration": 274,
    "start_time": "2023-06-30T05:05:05.769Z"
   },
   {
    "duration": 1772,
    "start_time": "2023-06-30T05:05:06.045Z"
   },
   {
    "duration": 6,
    "start_time": "2023-06-30T05:05:07.819Z"
   },
   {
    "duration": 25,
    "start_time": "2023-06-30T05:05:07.826Z"
   },
   {
    "duration": 176,
    "start_time": "2023-06-30T05:06:20.130Z"
   },
   {
    "duration": 177,
    "start_time": "2023-06-30T05:06:28.730Z"
   },
   {
    "duration": 1231,
    "start_time": "2023-06-30T05:08:24.378Z"
   },
   {
    "duration": 72,
    "start_time": "2023-06-30T05:08:25.611Z"
   },
   {
    "duration": 13,
    "start_time": "2023-06-30T05:08:25.685Z"
   },
   {
    "duration": 9,
    "start_time": "2023-06-30T05:08:25.699Z"
   },
   {
    "duration": 7,
    "start_time": "2023-06-30T05:08:25.710Z"
   },
   {
    "duration": 12,
    "start_time": "2023-06-30T05:08:25.719Z"
   },
   {
    "duration": 38,
    "start_time": "2023-06-30T05:08:25.733Z"
   },
   {
    "duration": 11,
    "start_time": "2023-06-30T05:08:25.772Z"
   },
   {
    "duration": 10,
    "start_time": "2023-06-30T05:08:25.784Z"
   },
   {
    "duration": 7,
    "start_time": "2023-06-30T05:08:25.795Z"
   },
   {
    "duration": 9,
    "start_time": "2023-06-30T05:08:25.803Z"
   },
   {
    "duration": 6,
    "start_time": "2023-06-30T05:08:25.814Z"
   },
   {
    "duration": 48,
    "start_time": "2023-06-30T05:08:25.821Z"
   },
   {
    "duration": 6,
    "start_time": "2023-06-30T05:08:25.873Z"
   },
   {
    "duration": 6,
    "start_time": "2023-06-30T05:08:25.880Z"
   },
   {
    "duration": 5,
    "start_time": "2023-06-30T05:08:25.887Z"
   },
   {
    "duration": 5,
    "start_time": "2023-06-30T05:08:25.894Z"
   },
   {
    "duration": 8,
    "start_time": "2023-06-30T05:08:25.901Z"
   },
   {
    "duration": 7,
    "start_time": "2023-06-30T05:08:25.910Z"
   },
   {
    "duration": 35,
    "start_time": "2023-06-30T05:08:25.919Z"
   },
   {
    "duration": 10,
    "start_time": "2023-06-30T05:08:25.956Z"
   },
   {
    "duration": 7,
    "start_time": "2023-06-30T05:08:25.968Z"
   },
   {
    "duration": 199,
    "start_time": "2023-06-30T05:08:25.977Z"
   },
   {
    "duration": 200,
    "start_time": "2023-06-30T05:08:26.177Z"
   },
   {
    "duration": 5,
    "start_time": "2023-06-30T05:08:26.379Z"
   },
   {
    "duration": 13,
    "start_time": "2023-06-30T05:08:26.386Z"
   },
   {
    "duration": 131,
    "start_time": "2023-06-30T05:08:26.401Z"
   },
   {
    "duration": 235,
    "start_time": "2023-06-30T05:08:26.535Z"
   },
   {
    "duration": 140,
    "start_time": "2023-06-30T05:08:26.773Z"
   },
   {
    "duration": 206,
    "start_time": "2023-06-30T05:08:26.915Z"
   },
   {
    "duration": 9,
    "start_time": "2023-06-30T05:08:27.123Z"
   },
   {
    "duration": 164,
    "start_time": "2023-06-30T05:08:27.133Z"
   },
   {
    "duration": 281,
    "start_time": "2023-06-30T05:08:27.299Z"
   },
   {
    "duration": 11,
    "start_time": "2023-06-30T05:08:27.582Z"
   },
   {
    "duration": 12,
    "start_time": "2023-06-30T05:08:27.594Z"
   },
   {
    "duration": 10,
    "start_time": "2023-06-30T05:08:27.608Z"
   },
   {
    "duration": 54,
    "start_time": "2023-06-30T05:08:27.620Z"
   },
   {
    "duration": 117,
    "start_time": "2023-06-30T05:08:27.676Z"
   },
   {
    "duration": 7,
    "start_time": "2023-06-30T05:08:27.794Z"
   },
   {
    "duration": 6,
    "start_time": "2023-06-30T05:08:27.802Z"
   },
   {
    "duration": 43,
    "start_time": "2023-06-30T05:08:27.813Z"
   },
   {
    "duration": 10,
    "start_time": "2023-06-30T05:08:27.858Z"
   },
   {
    "duration": 4,
    "start_time": "2023-06-30T05:08:27.871Z"
   },
   {
    "duration": 20,
    "start_time": "2023-06-30T05:08:27.877Z"
   },
   {
    "duration": 204,
    "start_time": "2023-06-30T05:08:27.898Z"
   },
   {
    "duration": 187,
    "start_time": "2023-06-30T05:08:28.103Z"
   },
   {
    "duration": 976,
    "start_time": "2023-06-30T05:08:28.291Z"
   },
   {
    "duration": 17,
    "start_time": "2023-06-30T05:08:29.269Z"
   },
   {
    "duration": 5,
    "start_time": "2023-06-30T05:08:29.288Z"
   },
   {
    "duration": 7,
    "start_time": "2023-06-30T05:08:29.295Z"
   },
   {
    "duration": 174,
    "start_time": "2023-06-30T05:08:29.303Z"
   },
   {
    "duration": 13,
    "start_time": "2023-06-30T05:08:29.479Z"
   },
   {
    "duration": 5,
    "start_time": "2023-06-30T05:08:29.493Z"
   },
   {
    "duration": 7,
    "start_time": "2023-06-30T05:08:29.500Z"
   },
   {
    "duration": 5,
    "start_time": "2023-06-30T05:08:29.508Z"
   },
   {
    "duration": 952,
    "start_time": "2023-06-30T05:08:29.514Z"
   },
   {
    "duration": 6,
    "start_time": "2023-06-30T05:08:30.469Z"
   },
   {
    "duration": 35,
    "start_time": "2023-06-30T05:08:30.477Z"
   },
   {
    "duration": 22,
    "start_time": "2023-06-30T05:08:30.514Z"
   },
   {
    "duration": 47,
    "start_time": "2023-06-30T05:08:30.538Z"
   },
   {
    "duration": 30,
    "start_time": "2023-06-30T05:08:30.587Z"
   },
   {
    "duration": 34,
    "start_time": "2023-06-30T05:08:30.619Z"
   },
   {
    "duration": 277,
    "start_time": "2023-06-30T05:08:30.655Z"
   },
   {
    "duration": 1637,
    "start_time": "2023-06-30T05:08:30.934Z"
   },
   {
    "duration": 8,
    "start_time": "2023-06-30T05:08:32.573Z"
   },
   {
    "duration": 7,
    "start_time": "2023-06-30T05:08:32.583Z"
   },
   {
    "duration": 218,
    "start_time": "2023-06-30T05:09:07.391Z"
   },
   {
    "duration": 279,
    "start_time": "2023-06-30T05:09:55.449Z"
   },
   {
    "duration": 218,
    "start_time": "2023-06-30T05:10:07.199Z"
   },
   {
    "duration": 428,
    "start_time": "2023-06-30T05:10:20.734Z"
   },
   {
    "duration": 302,
    "start_time": "2023-06-30T05:10:42.035Z"
   },
   {
    "duration": 326,
    "start_time": "2023-06-30T05:11:16.550Z"
   },
   {
    "duration": 308,
    "start_time": "2023-06-30T05:11:29.357Z"
   },
   {
    "duration": 170,
    "start_time": "2023-06-30T05:11:38.513Z"
   },
   {
    "duration": 184,
    "start_time": "2023-06-30T05:11:55.144Z"
   },
   {
    "duration": 198,
    "start_time": "2023-06-30T05:12:06.716Z"
   },
   {
    "duration": 197,
    "start_time": "2023-06-30T05:12:15.510Z"
   },
   {
    "duration": 205,
    "start_time": "2023-06-30T05:12:29.496Z"
   },
   {
    "duration": 229,
    "start_time": "2023-06-30T05:12:39.128Z"
   },
   {
    "duration": 258,
    "start_time": "2023-06-30T05:13:33.355Z"
   },
   {
    "duration": 1126,
    "start_time": "2023-06-30T05:15:07.036Z"
   },
   {
    "duration": 1011,
    "start_time": "2023-06-30T05:15:15.615Z"
   },
   {
    "duration": 8,
    "start_time": "2023-06-30T05:17:24.274Z"
   },
   {
    "duration": 13,
    "start_time": "2023-06-30T05:17:55.721Z"
   },
   {
    "duration": 1271,
    "start_time": "2023-06-30T05:19:44.606Z"
   },
   {
    "duration": 67,
    "start_time": "2023-06-30T05:19:45.879Z"
   },
   {
    "duration": 17,
    "start_time": "2023-06-30T05:19:45.948Z"
   },
   {
    "duration": 31,
    "start_time": "2023-06-30T05:19:45.970Z"
   },
   {
    "duration": 12,
    "start_time": "2023-06-30T05:19:46.003Z"
   },
   {
    "duration": 15,
    "start_time": "2023-06-30T05:19:46.017Z"
   },
   {
    "duration": 25,
    "start_time": "2023-06-30T05:19:46.034Z"
   },
   {
    "duration": 18,
    "start_time": "2023-06-30T05:19:46.062Z"
   },
   {
    "duration": 9,
    "start_time": "2023-06-30T05:19:46.081Z"
   },
   {
    "duration": 12,
    "start_time": "2023-06-30T05:19:46.094Z"
   },
   {
    "duration": 5,
    "start_time": "2023-06-30T05:19:46.108Z"
   },
   {
    "duration": 7,
    "start_time": "2023-06-30T05:19:46.115Z"
   },
   {
    "duration": 37,
    "start_time": "2023-06-30T05:19:46.123Z"
   },
   {
    "duration": 11,
    "start_time": "2023-06-30T05:19:46.161Z"
   },
   {
    "duration": 28,
    "start_time": "2023-06-30T05:19:46.175Z"
   },
   {
    "duration": 6,
    "start_time": "2023-06-30T05:19:46.205Z"
   },
   {
    "duration": 8,
    "start_time": "2023-06-30T05:19:46.213Z"
   },
   {
    "duration": 17,
    "start_time": "2023-06-30T05:19:46.222Z"
   },
   {
    "duration": 26,
    "start_time": "2023-06-30T05:19:46.240Z"
   },
   {
    "duration": 15,
    "start_time": "2023-06-30T05:19:46.269Z"
   },
   {
    "duration": 7,
    "start_time": "2023-06-30T05:19:46.287Z"
   },
   {
    "duration": 9,
    "start_time": "2023-06-30T05:19:46.296Z"
   },
   {
    "duration": 214,
    "start_time": "2023-06-30T05:19:46.306Z"
   },
   {
    "duration": 200,
    "start_time": "2023-06-30T05:19:46.522Z"
   },
   {
    "duration": 4,
    "start_time": "2023-06-30T05:19:46.724Z"
   },
   {
    "duration": 8,
    "start_time": "2023-06-30T05:19:46.730Z"
   },
   {
    "duration": 143,
    "start_time": "2023-06-30T05:19:46.740Z"
   },
   {
    "duration": 251,
    "start_time": "2023-06-30T05:19:46.890Z"
   },
   {
    "duration": 179,
    "start_time": "2023-06-30T05:19:47.143Z"
   },
   {
    "duration": 248,
    "start_time": "2023-06-30T05:19:47.324Z"
   },
   {
    "duration": 10,
    "start_time": "2023-06-30T05:19:47.575Z"
   },
   {
    "duration": 188,
    "start_time": "2023-06-30T05:19:47.587Z"
   },
   {
    "duration": 304,
    "start_time": "2023-06-30T05:19:47.779Z"
   },
   {
    "duration": 13,
    "start_time": "2023-06-30T05:19:48.086Z"
   },
   {
    "duration": 11,
    "start_time": "2023-06-30T05:19:48.101Z"
   },
   {
    "duration": 12,
    "start_time": "2023-06-30T05:19:48.113Z"
   },
   {
    "duration": 61,
    "start_time": "2023-06-30T05:19:48.127Z"
   },
   {
    "duration": 126,
    "start_time": "2023-06-30T05:19:48.190Z"
   },
   {
    "duration": 7,
    "start_time": "2023-06-30T05:19:48.318Z"
   },
   {
    "duration": 18,
    "start_time": "2023-06-30T05:19:48.327Z"
   },
   {
    "duration": 26,
    "start_time": "2023-06-30T05:19:48.347Z"
   },
   {
    "duration": 13,
    "start_time": "2023-06-30T05:19:48.375Z"
   },
   {
    "duration": 5,
    "start_time": "2023-06-30T05:19:48.390Z"
   },
   {
    "duration": 27,
    "start_time": "2023-06-30T05:19:48.397Z"
   },
   {
    "duration": 215,
    "start_time": "2023-06-30T05:19:48.425Z"
   },
   {
    "duration": 206,
    "start_time": "2023-06-30T05:19:48.642Z"
   },
   {
    "duration": 1044,
    "start_time": "2023-06-30T05:19:48.849Z"
   },
   {
    "duration": 16,
    "start_time": "2023-06-30T05:19:49.895Z"
   },
   {
    "duration": 5,
    "start_time": "2023-06-30T05:19:49.913Z"
   },
   {
    "duration": 6,
    "start_time": "2023-06-30T05:19:49.920Z"
   },
   {
    "duration": 188,
    "start_time": "2023-06-30T05:19:49.928Z"
   },
   {
    "duration": 32,
    "start_time": "2023-06-30T05:19:50.118Z"
   },
   {
    "duration": 15,
    "start_time": "2023-06-30T05:19:50.153Z"
   },
   {
    "duration": 958,
    "start_time": "2023-06-30T05:19:50.175Z"
   },
   {
    "duration": 7,
    "start_time": "2023-06-30T05:19:51.135Z"
   },
   {
    "duration": 25,
    "start_time": "2023-06-30T05:19:51.144Z"
   },
   {
    "duration": 6,
    "start_time": "2023-06-30T05:19:51.181Z"
   },
   {
    "duration": 15,
    "start_time": "2023-06-30T05:19:51.189Z"
   },
   {
    "duration": 323,
    "start_time": "2023-06-30T05:19:51.206Z"
   },
   {
    "duration": 1661,
    "start_time": "2023-06-30T05:19:51.531Z"
   },
   {
    "duration": 8,
    "start_time": "2023-06-30T05:19:53.196Z"
   },
   {
    "duration": 24,
    "start_time": "2023-06-30T05:19:53.206Z"
   },
   {
    "duration": 1216,
    "start_time": "2023-06-30T05:20:45.014Z"
   },
   {
    "duration": 90,
    "start_time": "2023-06-30T05:20:46.232Z"
   },
   {
    "duration": 13,
    "start_time": "2023-06-30T05:20:46.324Z"
   },
   {
    "duration": 15,
    "start_time": "2023-06-30T05:20:46.338Z"
   },
   {
    "duration": 19,
    "start_time": "2023-06-30T05:20:46.361Z"
   },
   {
    "duration": 29,
    "start_time": "2023-06-30T05:20:46.383Z"
   },
   {
    "duration": 15,
    "start_time": "2023-06-30T05:20:46.414Z"
   },
   {
    "duration": 29,
    "start_time": "2023-06-30T05:20:46.431Z"
   },
   {
    "duration": 34,
    "start_time": "2023-06-30T05:20:46.464Z"
   },
   {
    "duration": 19,
    "start_time": "2023-06-30T05:20:46.499Z"
   },
   {
    "duration": 7,
    "start_time": "2023-06-30T05:20:46.520Z"
   },
   {
    "duration": 9,
    "start_time": "2023-06-30T05:20:46.529Z"
   },
   {
    "duration": 8,
    "start_time": "2023-06-30T05:20:46.540Z"
   },
   {
    "duration": 13,
    "start_time": "2023-06-30T05:20:46.552Z"
   },
   {
    "duration": 40,
    "start_time": "2023-06-30T05:20:46.571Z"
   },
   {
    "duration": 10,
    "start_time": "2023-06-30T05:20:46.613Z"
   },
   {
    "duration": 25,
    "start_time": "2023-06-30T05:20:46.625Z"
   },
   {
    "duration": 21,
    "start_time": "2023-06-30T05:20:46.652Z"
   },
   {
    "duration": 39,
    "start_time": "2023-06-30T05:20:46.676Z"
   },
   {
    "duration": 23,
    "start_time": "2023-06-30T05:20:46.717Z"
   },
   {
    "duration": 38,
    "start_time": "2023-06-30T05:20:46.742Z"
   },
   {
    "duration": 26,
    "start_time": "2023-06-30T05:20:46.783Z"
   },
   {
    "duration": 217,
    "start_time": "2023-06-30T05:20:46.811Z"
   },
   {
    "duration": 197,
    "start_time": "2023-06-30T05:20:47.030Z"
   },
   {
    "duration": 4,
    "start_time": "2023-06-30T05:20:47.229Z"
   },
   {
    "duration": 6,
    "start_time": "2023-06-30T05:20:47.235Z"
   },
   {
    "duration": 145,
    "start_time": "2023-06-30T05:20:47.254Z"
   },
   {
    "duration": 286,
    "start_time": "2023-06-30T05:20:47.402Z"
   },
   {
    "duration": 184,
    "start_time": "2023-06-30T05:20:47.690Z"
   },
   {
    "duration": 230,
    "start_time": "2023-06-30T05:20:47.876Z"
   },
   {
    "duration": 11,
    "start_time": "2023-06-30T05:20:48.108Z"
   },
   {
    "duration": 166,
    "start_time": "2023-06-30T05:20:48.121Z"
   },
   {
    "duration": 246,
    "start_time": "2023-06-30T05:20:48.289Z"
   },
   {
    "duration": 27,
    "start_time": "2023-06-30T05:20:48.537Z"
   },
   {
    "duration": 14,
    "start_time": "2023-06-30T05:20:48.567Z"
   },
   {
    "duration": 17,
    "start_time": "2023-06-30T05:20:48.584Z"
   },
   {
    "duration": 40,
    "start_time": "2023-06-30T05:20:48.603Z"
   },
   {
    "duration": 159,
    "start_time": "2023-06-30T05:20:48.645Z"
   },
   {
    "duration": 8,
    "start_time": "2023-06-30T05:20:48.806Z"
   },
   {
    "duration": 4,
    "start_time": "2023-06-30T05:20:48.815Z"
   },
   {
    "duration": 50,
    "start_time": "2023-06-30T05:20:48.823Z"
   },
   {
    "duration": 6,
    "start_time": "2023-06-30T05:20:48.875Z"
   },
   {
    "duration": 13,
    "start_time": "2023-06-30T05:20:48.883Z"
   },
   {
    "duration": 21,
    "start_time": "2023-06-30T05:20:48.899Z"
   },
   {
    "duration": 217,
    "start_time": "2023-06-30T05:20:48.922Z"
   },
   {
    "duration": 230,
    "start_time": "2023-06-30T05:20:49.142Z"
   },
   {
    "duration": 1012,
    "start_time": "2023-06-30T05:20:49.374Z"
   },
   {
    "duration": 19,
    "start_time": "2023-06-30T05:20:50.388Z"
   },
   {
    "duration": 16,
    "start_time": "2023-06-30T05:20:50.410Z"
   },
   {
    "duration": 24,
    "start_time": "2023-06-30T05:20:50.428Z"
   },
   {
    "duration": 161,
    "start_time": "2023-06-30T05:20:50.454Z"
   },
   {
    "duration": 14,
    "start_time": "2023-06-30T05:20:50.616Z"
   },
   {
    "duration": 29,
    "start_time": "2023-06-30T05:20:50.632Z"
   },
   {
    "duration": 964,
    "start_time": "2023-06-30T05:20:50.663Z"
   },
   {
    "duration": 7,
    "start_time": "2023-06-30T05:20:51.629Z"
   },
   {
    "duration": 40,
    "start_time": "2023-06-30T05:20:51.637Z"
   },
   {
    "duration": 311,
    "start_time": "2023-06-30T05:20:51.679Z"
   },
   {
    "duration": 2097,
    "start_time": "2023-06-30T05:20:51.991Z"
   },
   {
    "duration": 8,
    "start_time": "2023-06-30T05:20:54.090Z"
   },
   {
    "duration": 7,
    "start_time": "2023-06-30T05:20:54.100Z"
   },
   {
    "duration": 1416,
    "start_time": "2023-06-30T05:26:52.022Z"
   },
   {
    "duration": 68,
    "start_time": "2023-06-30T05:26:53.441Z"
   },
   {
    "duration": 13,
    "start_time": "2023-06-30T05:26:53.511Z"
   },
   {
    "duration": 8,
    "start_time": "2023-06-30T05:26:53.526Z"
   },
   {
    "duration": 12,
    "start_time": "2023-06-30T05:26:53.536Z"
   },
   {
    "duration": 12,
    "start_time": "2023-06-30T05:26:53.550Z"
   },
   {
    "duration": 17,
    "start_time": "2023-06-30T05:26:53.564Z"
   },
   {
    "duration": 12,
    "start_time": "2023-06-30T05:26:53.583Z"
   },
   {
    "duration": 10,
    "start_time": "2023-06-30T05:26:53.597Z"
   },
   {
    "duration": 13,
    "start_time": "2023-06-30T05:26:53.610Z"
   },
   {
    "duration": 33,
    "start_time": "2023-06-30T05:26:53.625Z"
   },
   {
    "duration": 9,
    "start_time": "2023-06-30T05:26:53.660Z"
   },
   {
    "duration": 12,
    "start_time": "2023-06-30T05:26:53.671Z"
   },
   {
    "duration": 9,
    "start_time": "2023-06-30T05:26:53.685Z"
   },
   {
    "duration": 8,
    "start_time": "2023-06-30T05:26:53.696Z"
   },
   {
    "duration": 5,
    "start_time": "2023-06-30T05:26:53.706Z"
   },
   {
    "duration": 42,
    "start_time": "2023-06-30T05:26:53.713Z"
   },
   {
    "duration": 9,
    "start_time": "2023-06-30T05:26:53.757Z"
   },
   {
    "duration": 5,
    "start_time": "2023-06-30T05:26:53.768Z"
   },
   {
    "duration": 24,
    "start_time": "2023-06-30T05:26:53.775Z"
   },
   {
    "duration": 16,
    "start_time": "2023-06-30T05:26:53.801Z"
   },
   {
    "duration": 10,
    "start_time": "2023-06-30T05:26:53.819Z"
   },
   {
    "duration": 186,
    "start_time": "2023-06-30T05:26:53.830Z"
   },
   {
    "duration": 183,
    "start_time": "2023-06-30T05:26:54.018Z"
   },
   {
    "duration": 4,
    "start_time": "2023-06-30T05:26:54.202Z"
   },
   {
    "duration": 6,
    "start_time": "2023-06-30T05:26:54.208Z"
   },
   {
    "duration": 119,
    "start_time": "2023-06-30T05:26:54.216Z"
   },
   {
    "duration": 233,
    "start_time": "2023-06-30T05:26:54.339Z"
   },
   {
    "duration": 149,
    "start_time": "2023-06-30T05:26:54.575Z"
   },
   {
    "duration": 230,
    "start_time": "2023-06-30T05:26:54.726Z"
   },
   {
    "duration": 9,
    "start_time": "2023-06-30T05:26:54.958Z"
   },
   {
    "duration": 157,
    "start_time": "2023-06-30T05:26:54.969Z"
   },
   {
    "duration": 231,
    "start_time": "2023-06-30T05:26:55.128Z"
   },
   {
    "duration": 11,
    "start_time": "2023-06-30T05:26:55.361Z"
   },
   {
    "duration": 10,
    "start_time": "2023-06-30T05:26:55.375Z"
   },
   {
    "duration": 10,
    "start_time": "2023-06-30T05:26:55.387Z"
   },
   {
    "duration": 20,
    "start_time": "2023-06-30T05:26:55.399Z"
   },
   {
    "duration": 156,
    "start_time": "2023-06-30T05:26:55.420Z"
   },
   {
    "duration": 8,
    "start_time": "2023-06-30T05:26:55.578Z"
   },
   {
    "duration": 23,
    "start_time": "2023-06-30T05:26:55.588Z"
   },
   {
    "duration": 26,
    "start_time": "2023-06-30T05:26:55.613Z"
   },
   {
    "duration": 6,
    "start_time": "2023-06-30T05:26:55.641Z"
   },
   {
    "duration": 8,
    "start_time": "2023-06-30T05:26:55.649Z"
   },
   {
    "duration": 21,
    "start_time": "2023-06-30T05:26:55.659Z"
   },
   {
    "duration": 220,
    "start_time": "2023-06-30T05:26:55.681Z"
   },
   {
    "duration": 211,
    "start_time": "2023-06-30T05:26:55.903Z"
   },
   {
    "duration": 1233,
    "start_time": "2023-06-30T05:26:56.115Z"
   },
   {
    "duration": 23,
    "start_time": "2023-06-30T05:26:57.354Z"
   },
   {
    "duration": 4,
    "start_time": "2023-06-30T05:26:57.380Z"
   },
   {
    "duration": 20,
    "start_time": "2023-06-30T05:26:57.387Z"
   },
   {
    "duration": 179,
    "start_time": "2023-06-30T05:26:57.410Z"
   },
   {
    "duration": 14,
    "start_time": "2023-06-30T05:26:57.591Z"
   },
   {
    "duration": 9,
    "start_time": "2023-06-30T05:26:57.607Z"
   },
   {
    "duration": 902,
    "start_time": "2023-06-30T05:26:57.618Z"
   },
   {
    "duration": 7,
    "start_time": "2023-06-30T05:26:58.522Z"
   },
   {
    "duration": 30,
    "start_time": "2023-06-30T05:26:58.531Z"
   },
   {
    "duration": 258,
    "start_time": "2023-06-30T05:26:58.563Z"
   },
   {
    "duration": 1774,
    "start_time": "2023-06-30T05:26:58.823Z"
   },
   {
    "duration": 6,
    "start_time": "2023-06-30T05:27:00.599Z"
   },
   {
    "duration": 6,
    "start_time": "2023-06-30T05:27:00.655Z"
   }
  ],
  "kernelspec": {
   "display_name": "Python 3 (ipykernel)",
   "language": "python",
   "name": "python3"
  },
  "language_info": {
   "codemirror_mode": {
    "name": "ipython",
    "version": 3
   },
   "file_extension": ".py",
   "mimetype": "text/x-python",
   "name": "python",
   "nbconvert_exporter": "python",
   "pygments_lexer": "ipython3",
   "version": "3.10.9"
  },
  "toc": {
   "base_numbering": 1,
   "nav_menu": {},
   "number_sections": true,
   "sideBar": true,
   "skip_h1_title": true,
   "title_cell": "Table of Contents",
   "title_sidebar": "Contents",
   "toc_cell": false,
   "toc_position": {},
   "toc_section_display": true,
   "toc_window_display": false
  }
 },
 "nbformat": 4,
 "nbformat_minor": 5
}
