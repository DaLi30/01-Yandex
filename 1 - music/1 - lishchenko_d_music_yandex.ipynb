{
 "cells": [
  {
   "cell_type": "markdown",
   "metadata": {
    "deletable": false,
    "editable": false,
    "id": "E0vqbgi9ay0H"
   },
   "source": [
    "# Яндекс.Музыка"
   ]
  },
  {
   "cell_type": "markdown",
   "metadata": {
    "deletable": false,
    "editable": false,
    "id": "VUC88oWjTJw2"
   },
   "source": [
    "Сравнение Москвы и Петербурга окружено мифами. Например:\n",
    " * Москва — мегаполис, подчинённый жёсткому ритму рабочей недели;\n",
    " * Петербург — культурная столица, со своими вкусами.\n",
    "\n",
    "На данных Яндекс Музыки вы сравните поведение пользователей двух столиц.\n",
    "\n",
    "**Цель исследования** — проверьте три гипотезы:\n",
    "1. Активность пользователей зависит от дня недели. Причём в Москве и Петербурге это проявляется по-разному.\n",
    "2. В понедельник утром в Москве преобладают одни жанры, а в Петербурге — другие. Так же и вечером пятницы преобладают разные жанры — в зависимости от города. \n",
    "3. Москва и Петербург предпочитают разные жанры музыки. В Москве чаще слушают поп-музыку, в Петербурге — русский рэп.\n",
    "\n",
    "**Ход исследования**\n",
    "\n",
    "Данные о поведении пользователей вы получите из файла `yandex_music_project.csv`. О качестве данных ничего не известно. Поэтому перед проверкой гипотез понадобится обзор данных. \n",
    "\n",
    "Вы проверите данные на ошибки и оцените их влияние на исследование. Затем, на этапе предобработки вы поищете возможность исправить самые критичные ошибки данных.\n",
    " \n",
    "Таким образом, исследование пройдёт в три этапа:\n",
    " 1. Обзор данных.\n",
    " 2. Предобработка данных.\n",
    " 3. Проверка гипотез.\n",
    "\n"
   ]
  },
  {
   "cell_type": "markdown",
   "metadata": {
    "deletable": false,
    "editable": false,
    "id": "Ml1hmfXC_Zcs"
   },
   "source": [
    "## Обзор данных\n",
    "\n",
    "Составьте первое представление о данных Яндекс Музыки.\n",
    "\n",
    "\n"
   ]
  },
  {
   "cell_type": "markdown",
   "metadata": {
    "deletable": false,
    "editable": false,
    "id": "57eAOGIz_Zcs",
    "tags": [
     "start_task"
    ]
   },
   "source": [
    "**Задание 1**\n",
    "\n",
    "Основной инструмент аналитика — `pandas`. Импортируйте эту библиотеку."
   ]
  },
  {
   "cell_type": "code",
   "execution_count": 1,
   "metadata": {
    "deletable": false,
    "id": "AXN7PHPN_Zcs"
   },
   "outputs": [],
   "source": [
    "# импорт библиотеки pandas\n",
    "import pandas as pd"
   ]
  },
  {
   "cell_type": "markdown",
   "metadata": {
    "deletable": false,
    "editable": false,
    "id": "SG23P8tt_Zcs",
    "tags": [
     "start_task"
    ]
   },
   "source": [
    "**Задание 2**\n",
    "\n",
    "Прочитайте файл `yandex_music_project.csv` из папки `/datasets` и сохраните его в переменной `df`:"
   ]
  },
  {
   "cell_type": "code",
   "execution_count": 2,
   "metadata": {
    "deletable": false,
    "id": "fFVu7vqh_Zct"
   },
   "outputs": [],
   "source": [
    "# чтение файла с данными и сохранение в df\n",
    "df = pd.read_csv"
   ]
  },
  {
   "cell_type": "markdown",
   "metadata": {
    "deletable": false,
    "editable": false,
    "id": "rDoOMd3uTqnZ",
    "tags": [
     "start_task"
    ]
   },
   "source": [
    "**Задание 3**\n",
    "\n",
    "\n",
    "Выведите на экран первые десять строк таблицы:"
   ]
  },
  {
   "cell_type": "code",
   "execution_count": 3,
   "metadata": {
    "deletable": false,
    "id": "oWTVX3gW_Zct"
   },
   "outputs": [
    {
     "name": "stdout",
     "output_type": "stream",
     "text": [
      "     userID                        Track            artist   genre  \\\n",
      "0  FFB692EC            Kamigata To Boots  The Mass Missile    rock   \n",
      "1  55204538  Delayed Because of Accident  Andreas Rönnberg    rock   \n",
      "2    20EC38            Funiculì funiculà       Mario Lanza     pop   \n",
      "3  A3DD03C9        Dragons in the Sunset        Fire + Ice    folk   \n",
      "4  E2DC1FAE                  Soul People        Space Echo   dance   \n",
      "5  842029A1                    Преданная         IMPERVTOR  rusrap   \n",
      "6  4CB90AA5                         True      Roman Messer   dance   \n",
      "7  F03E1C1F             Feeling This Way   Polina Griffith   dance   \n",
      "8  8FA1D3BE     И вновь продолжается бой               NaN  ruspop   \n",
      "9  E772D5C0                    Pessimist               NaN   dance   \n",
      "\n",
      "             City        time        Day  \n",
      "0  Saint-Petersburg  20:28:33  Wednesday  \n",
      "1            Moscow  14:07:09     Friday  \n",
      "2  Saint-Petersburg  20:58:07  Wednesday  \n",
      "3  Saint-Petersburg  08:37:09     Monday  \n",
      "4            Moscow  08:34:34     Monday  \n",
      "5  Saint-Petersburg  13:09:41     Friday  \n",
      "6            Moscow  13:00:07  Wednesday  \n",
      "7            Moscow  20:47:49  Wednesday  \n",
      "8            Moscow  09:17:40     Friday  \n",
      "9  Saint-Petersburg  21:20:49  Wednesday  \n"
     ]
    }
   ],
   "source": [
    "# получение первых 10 строк таблицы df\n",
    "print(df.head(10))"
   ]
  },
  {
   "cell_type": "markdown",
   "metadata": {
    "deletable": false,
    "editable": false,
    "id": "EO73Kwic_Zct",
    "tags": [
     "start_task"
    ]
   },
   "source": [
    "**Задание 4**\n",
    "\n",
    "\n",
    "Одной командой получить общую информацию о таблице c помощью метода `info()`:"
   ]
  },
  {
   "cell_type": "code",
   "execution_count": 4,
   "metadata": {
    "deletable": false,
    "id": "DSf2kIb-_Zct"
   },
   "outputs": [
    {
     "name": "stdout",
     "output_type": "stream",
     "text": [
      "<class 'pandas.core.frame.DataFrame'>\n",
      "RangeIndex: 65079 entries, 0 to 65078\n",
      "Data columns (total 7 columns):\n",
      " #   Column    Non-Null Count  Dtype \n",
      "---  ------    --------------  ----- \n",
      " 0     userID  65079 non-null  object\n",
      " 1   Track     63848 non-null  object\n",
      " 2   artist    57876 non-null  object\n",
      " 3   genre     63881 non-null  object\n",
      " 4     City    65079 non-null  object\n",
      " 5   time      65079 non-null  object\n",
      " 6   Day       65079 non-null  object\n",
      "dtypes: object(7)\n",
      "memory usage: 3.5+ MB\n",
      "None\n"
     ]
    }
   ],
   "source": [
    "# получение общей информации о данных в таблице df\n",
    "print(df.info())"
   ]
  },
  {
   "cell_type": "markdown",
   "metadata": {
    "deletable": false,
    "editable": false,
    "id": "TaQ2Iwbr_Zct"
   },
   "source": [
    "Итак, в таблице семь столбцов. Тип данных во всех столбцах — `object`.\n",
    "\n",
    "Согласно документации к данным:\n",
    "* `userID` — идентификатор пользователя;\n",
    "* `Track` — название трека;  \n",
    "* `artist` — имя исполнителя;\n",
    "* `genre` — название жанра;\n",
    "* `City` — город пользователя;\n",
    "* `time` — время начала прослушивания;\n",
    "* `Day` — день недели.\n",
    "\n",
    "Количество значений в столбцах различается. Значит, в данных есть пропущенные значения."
   ]
  },
  {
   "cell_type": "markdown",
   "metadata": {
    "deletable": false,
    "editable": false,
    "id": "4P0UCWzswgEm",
    "tags": [
     "start_task"
    ]
   },
   "source": [
    "**Задание 5**\n",
    "\n",
    "**Вопрос со свободной формой ответа**\n",
    "\n",
    "В названиях колонок видны три нарушения стиля:\n",
    "1. Строчные буквы сочетаются с прописными.\n",
    "2. Встречаются пробелы."
   ]
  },
  {
   "cell_type": "code",
   "execution_count": 5,
   "metadata": {
    "id": "c137-ZstwgEm"
   },
   "outputs": [],
   "source": [
    "# Не использован snake_case для составных названий"
   ]
  },
  {
   "cell_type": "markdown",
   "metadata": {
    "deletable": false,
    "editable": false,
    "id": "MCB6-dXG_Zct"
   },
   "source": [
    "**Выводы**\n",
    "\n",
    "В каждой строке таблицы — данные о прослушанном треке. Часть колонок описывает саму композицию: название, исполнителя и жанр. Остальные данные рассказывают о пользователе: из какого он города, когда он слушал музыку. \n",
    "\n",
    "Предварительно можно утверждать, что, данных достаточно для проверки гипотез. Но встречаются пропуски в данных, а в названиях колонок — расхождения с хорошим стилем.\n",
    "\n",
    "Чтобы двигаться дальше, нужно устранить проблемы в данных."
   ]
  },
  {
   "cell_type": "markdown",
   "metadata": {
    "deletable": false,
    "editable": false,
    "id": "SjYF6Ub9_Zct"
   },
   "source": [
    "## Предобработка данных\n",
    "Исправьте стиль в заголовках столбцов, исключите пропуски. Затем проверьте данные на дубликаты."
   ]
  },
  {
   "cell_type": "markdown",
   "metadata": {
    "deletable": false,
    "editable": false,
    "id": "dIaKXr29_Zct",
    "tags": [
     "start_task"
    ]
   },
   "source": [
    "### Стиль заголовков\n",
    "\n",
    "**Задание 6**\n",
    "\n",
    "Выведите на экран названия столбцов:"
   ]
  },
  {
   "cell_type": "code",
   "execution_count": 6,
   "metadata": {
    "deletable": false,
    "id": "oKOTdF_Q_Zct"
   },
   "outputs": [
    {
     "name": "stdout",
     "output_type": "stream",
     "text": [
      "Index(['  userID', 'Track', 'artist', 'genre', '  City  ', 'time', 'Day'], dtype='object')\n"
     ]
    }
   ],
   "source": [
    "# перечень названий столбцов таблицы df\n",
    "print(df.columns)"
   ]
  },
  {
   "cell_type": "markdown",
   "metadata": {
    "deletable": false,
    "editable": false,
    "id": "zj5534cv_Zct",
    "tags": [
     "start_task"
    ]
   },
   "source": [
    "**Задание 7**\n",
    "\n",
    "\n",
    "Приведите названия в соответствие с хорошим стилем:\n",
    "* несколько слов в названии запишите в «змеином_регистре»,\n",
    "* все символы сделайте строчными,\n",
    "* устраните пробелы.\n",
    "\n",
    "Для этого переименуйте колонки так:\n",
    "* `'  userID'` → `'user_id'`;\n",
    "* `'Track'` → `'track'`;\n",
    "* `'  City  '` → `'city'`;\n",
    "* `'Day'` → `'day'`."
   ]
  },
  {
   "cell_type": "code",
   "execution_count": 7,
   "metadata": {
    "deletable": false,
    "id": "ISlFqs5y_Zct"
   },
   "outputs": [],
   "source": [
    "# переименование столбцов\n",
    "df = df.rename(columns={'  userID':'user_id', 'Track': 'track', '  City  ': 'city', 'Day':'day'})"
   ]
  },
  {
   "cell_type": "markdown",
   "metadata": {
    "deletable": false,
    "editable": false,
    "id": "1dqbh00J_Zct",
    "tags": [
     "start_task"
    ]
   },
   "source": [
    "**Задание 8**\n",
    "\n",
    "\n",
    "Проверьте результат. Для этого ещё раз выведите на экран названия столбцов:"
   ]
  },
  {
   "cell_type": "code",
   "execution_count": 8,
   "metadata": {
    "deletable": false,
    "id": "d4NOAmTW_Zct"
   },
   "outputs": [
    {
     "name": "stdout",
     "output_type": "stream",
     "text": [
      "Index(['user_id', 'track', 'artist', 'genre', 'city', 'time', 'day'], dtype='object')\n"
     ]
    }
   ],
   "source": [
    "# проверка результатов - перечень названий столбцов\n",
    "print(df.columns)"
   ]
  },
  {
   "cell_type": "markdown",
   "metadata": {
    "deletable": false,
    "editable": false,
    "id": "5ISfbcfY_Zct",
    "tags": [
     "start_task"
    ]
   },
   "source": [
    "### Пропуски значений\n",
    "\n",
    "**Задание 9**\n",
    "\n",
    "Сначала посчитайте, сколько в таблице пропущенных значений. Для этого достаточно двух методов `pandas`:"
   ]
  },
  {
   "cell_type": "code",
   "execution_count": 9,
   "metadata": {
    "deletable": false,
    "id": "RskX29qr_Zct"
   },
   "outputs": [
    {
     "name": "stdout",
     "output_type": "stream",
     "text": [
      "user_id       0\n",
      "track      1231\n",
      "artist     7203\n",
      "genre      1198\n",
      "city          0\n",
      "time          0\n",
      "day           0\n",
      "dtype: int64\n"
     ]
    }
   ],
   "source": [
    "# подсчёт пропусков\n",
    "print(df.isna().sum())"
   ]
  },
  {
   "cell_type": "markdown",
   "metadata": {
    "deletable": false,
    "editable": false,
    "id": "qubhgnlO_Zct"
   },
   "source": [
    "Не все пропущенные значения влияют на исследование. Так в `track` и `artist` пропуски не важны для вашей работы. Достаточно заменить их явными обозначениями.\n",
    "\n",
    "Но пропуски в `genre` могут помешать сравнению музыкальных вкусов в Москве и Санкт-Петербурге. На практике было бы правильно установить причину пропусков и восстановить данные. Такой возможности нет в учебном проекте. Придётся:\n",
    "* заполнить и эти пропуски явными обозначениями,\n",
    "* оценить, насколько они повредят расчётам. "
   ]
  },
  {
   "cell_type": "markdown",
   "metadata": {
    "deletable": false,
    "editable": false,
    "id": "fSv2laPA_Zct",
    "tags": [
     "start_task"
    ]
   },
   "source": [
    "**Задание 10**\n",
    "\n",
    "Замените пропущенные значения в столбцах `track`, `artist` и `genre` на строку `'unknown'`. Для этого создайте список `columns_to_replace`, переберите его элементы циклом `for` и для каждого столбца выполните замену пропущенных значений:"
   ]
  },
  {
   "cell_type": "code",
   "execution_count": 10,
   "metadata": {
    "deletable": false,
    "id": "KplB5qWs_Zct"
   },
   "outputs": [],
   "source": [
    "# перебор названий столбцов в цикле и замена пропущенных значений на 'unknown'\n",
    "columns_to_replace = ['track','artist','genre']\n",
    "for column in columns_to_replace:\n",
    "    df[column] = df[column].fillna('unknown')"
   ]
  },
  {
   "cell_type": "markdown",
   "metadata": {
    "deletable": false,
    "editable": false,
    "id": "Ilsm-MZo_Zct",
    "tags": [
     "start_task"
    ]
   },
   "source": [
    "**Задание 11**\n",
    "\n",
    "Убедитесь, что в таблице не осталось пропусков. Для этого ещё раз посчитайте пропущенные значения."
   ]
  },
  {
   "cell_type": "code",
   "execution_count": 11,
   "metadata": {
    "deletable": false,
    "id": "Tq4nYRX4_Zct"
   },
   "outputs": [
    {
     "name": "stdout",
     "output_type": "stream",
     "text": [
      "user_id    0\n",
      "track      0\n",
      "artist     0\n",
      "genre      0\n",
      "city       0\n",
      "time       0\n",
      "day        0\n",
      "dtype: int64\n"
     ]
    }
   ],
   "source": [
    "# подсчёт пропусков\n",
    "print(df.isna().sum())"
   ]
  },
  {
   "cell_type": "markdown",
   "metadata": {
    "deletable": false,
    "editable": false,
    "id": "BWKRtBJ3_Zct",
    "tags": [
     "start_task"
    ]
   },
   "source": [
    "### Дубликаты\n",
    "\n",
    "**Задание 12**\n",
    "\n",
    "Посчитайте явные дубликаты в таблице одной командой:"
   ]
  },
  {
   "cell_type": "code",
   "execution_count": 12,
   "metadata": {
    "deletable": false,
    "id": "36eES_S0_Zct"
   },
   "outputs": [
    {
     "name": "stdout",
     "output_type": "stream",
     "text": [
      "3826\n"
     ]
    }
   ],
   "source": [
    "# подсчёт явных дубликатов\n",
    "print(df.duplicated().sum())"
   ]
  },
  {
   "cell_type": "markdown",
   "metadata": {
    "deletable": false,
    "editable": false,
    "id": "Ot25h6XR_Zct",
    "tags": [
     "start_task"
    ]
   },
   "source": [
    "**Задание 13**\n",
    "\n",
    "Вызовите специальный метод `pandas`, чтобы удалить явные дубликаты:"
   ]
  },
  {
   "cell_type": "code",
   "execution_count": 13,
   "metadata": {
    "deletable": false,
    "id": "exFHq6tt_Zct"
   },
   "outputs": [],
   "source": [
    "# удаление явных дубликатов (с удалением старых индексов и формированием новых)\n",
    "df = df.drop_duplicates()"
   ]
  },
  {
   "cell_type": "markdown",
   "metadata": {
    "deletable": false,
    "editable": false,
    "id": "Im2YwBEG_Zct",
    "tags": [
     "start_task"
    ]
   },
   "source": [
    "**Задание 14**\n",
    "\n",
    "Ещё раз посчитайте явные дубликаты в таблице — убедитесь, что полностью от них избавились:"
   ]
  },
  {
   "cell_type": "code",
   "execution_count": 14,
   "metadata": {
    "deletable": false,
    "id": "-8PuNWQ0_Zct"
   },
   "outputs": [
    {
     "name": "stdout",
     "output_type": "stream",
     "text": [
      "0\n"
     ]
    }
   ],
   "source": [
    "# проверка на отсутствие дубликатов\n",
    "print(df.duplicated().sum())"
   ]
  },
  {
   "cell_type": "markdown",
   "metadata": {
    "deletable": false,
    "editable": false,
    "id": "QlFBsxAr_Zct"
   },
   "source": [
    "Теперь избавьтесь от неявных дубликатов в колонке `genre`. Например, название одного и того же жанра может быть записано немного по-разному. Такие ошибки тоже повлияют на результат исследования."
   ]
  },
  {
   "cell_type": "markdown",
   "metadata": {
    "deletable": false,
    "editable": false,
    "id": "eSjWwsOh_Zct",
    "tags": [
     "start_task"
    ]
   },
   "source": [
    "**Задание 15**\n",
    "\n",
    "Выведите на экран список уникальных названий жанров, отсортированный в алфавитном порядке. Для этого:\n",
    "* извлеките нужный столбец датафрейма, \n",
    "* примените к нему метод сортировки,\n",
    "* для отсортированного столбца вызовите метод, который вернёт уникальные значения из столбца."
   ]
  },
  {
   "cell_type": "code",
   "execution_count": 15,
   "metadata": {
    "deletable": false,
    "id": "JIUcqzZN_Zct"
   },
   "outputs": [
    {
     "name": "stdout",
     "output_type": "stream",
     "text": [
      "['acid' 'acoustic' 'action' 'adult' 'africa' 'afrikaans' 'alternative'\n",
      " 'alternativepunk' 'ambient' 'americana' 'animated' 'anime' 'arabesk'\n",
      " 'arabic' 'arena' 'argentinetango' 'art' 'audiobook' 'author' 'avantgarde'\n",
      " 'axé' 'baile' 'balkan' 'beats' 'bigroom' 'black' 'bluegrass' 'blues'\n",
      " 'bollywood' 'bossa' 'brazilian' 'breakbeat' 'breaks' 'broadway'\n",
      " 'cantautori' 'cantopop' 'canzone' 'caribbean' 'caucasian' 'celtic'\n",
      " 'chamber' 'chanson' 'children' 'chill' 'chinese' 'choral' 'christian'\n",
      " 'christmas' 'classical' 'classicmetal' 'club' 'colombian' 'comedy'\n",
      " 'conjazz' 'contemporary' 'country' 'cuban' 'dance' 'dancehall' 'dancepop'\n",
      " 'dark' 'death' 'deep' 'deutschrock' 'deutschspr' 'dirty' 'disco' 'dnb'\n",
      " 'documentary' 'downbeat' 'downtempo' 'drum' 'dub' 'dubstep' 'eastern'\n",
      " 'easy' 'electronic' 'electropop' 'emo' 'entehno' 'epicmetal' 'estrada'\n",
      " 'ethnic' 'eurofolk' 'european' 'experimental' 'extrememetal' 'fado'\n",
      " 'fairytail' 'film' 'fitness' 'flamenco' 'folk' 'folklore' 'folkmetal'\n",
      " 'folkrock' 'folktronica' 'forró' 'frankreich' 'französisch' 'french'\n",
      " 'funk' 'future' 'gangsta' 'garage' 'german' 'ghazal' 'gitarre' 'glitch'\n",
      " 'gospel' 'gothic' 'grime' 'grunge' 'gypsy' 'handsup' \"hard'n'heavy\"\n",
      " 'hardcore' 'hardstyle' 'hardtechno' 'hip' 'hip-hop' 'hiphop' 'historisch'\n",
      " 'holiday' 'hop' 'horror' 'house' 'hymn' 'idm' 'independent' 'indian'\n",
      " 'indie' 'indipop' 'industrial' 'inspirational' 'instrumental'\n",
      " 'international' 'irish' 'jam' 'japanese' 'jazz' 'jewish' 'jpop' 'jungle'\n",
      " 'k-pop' 'karadeniz' 'karaoke' 'kayokyoku' 'korean' 'laiko' 'latin'\n",
      " 'latino' 'leftfield' 'local' 'lounge' 'loungeelectronic' 'lovers'\n",
      " 'malaysian' 'mandopop' 'marschmusik' 'meditative' 'mediterranean'\n",
      " 'melodic' 'metal' 'metalcore' 'mexican' 'middle' 'minimal'\n",
      " 'miscellaneous' 'modern' 'mood' 'mpb' 'muslim' 'native' 'neoklassik'\n",
      " 'neue' 'new' 'newage' 'newwave' 'nu' 'nujazz' 'numetal' 'oceania' 'old'\n",
      " 'opera' 'orchestral' 'other' 'piano' 'podcasts' 'pop' 'popdance'\n",
      " 'popelectronic' 'popeurodance' 'poprussian' 'post' 'posthardcore'\n",
      " 'postrock' 'power' 'progmetal' 'progressive' 'psychedelic' 'punjabi'\n",
      " 'punk' 'quebecois' 'ragga' 'ram' 'rancheras' 'rap' 'rave' 'reggae'\n",
      " 'reggaeton' 'regional' 'relax' 'religious' 'retro' 'rhythm' 'rnb' 'rnr'\n",
      " 'rock' 'rockabilly' 'rockalternative' 'rockindie' 'rockother' 'romance'\n",
      " 'roots' 'ruspop' 'rusrap' 'rusrock' 'russian' 'salsa' 'samba' 'scenic'\n",
      " 'schlager' 'self' 'sertanejo' 'shanson' 'shoegazing' 'showtunes' 'singer'\n",
      " 'ska' 'skarock' 'slow' 'smooth' 'soft' 'soul' 'soulful' 'sound'\n",
      " 'soundtrack' 'southern' 'specialty' 'speech' 'spiritual' 'sport'\n",
      " 'stonerrock' 'surf' 'swing' 'synthpop' 'synthrock' 'sängerportrait'\n",
      " 'tango' 'tanzorchester' 'taraftar' 'tatar' 'tech' 'techno' 'teen'\n",
      " 'thrash' 'top' 'traditional' 'tradjazz' 'trance' 'tribal' 'trip'\n",
      " 'triphop' 'tropical' 'türk' 'türkçe' 'ukrrock' 'unknown' 'urban' 'uzbek'\n",
      " 'variété' 'vi' 'videogame' 'vocal' 'western' 'world' 'worldbeat' 'ïîï'\n",
      " 'электроника']\n"
     ]
    }
   ],
   "source": [
    "# Просмотр уникальных названий жанров\n",
    "print(df['genre'].sort_values().unique())"
   ]
  },
  {
   "cell_type": "markdown",
   "metadata": {
    "deletable": false,
    "editable": false,
    "id": "qej-Qmuo_Zct",
    "tags": [
     "start_task"
    ]
   },
   "source": [
    "**Задание 16**\n",
    "\n",
    "Просмотрите список и найдите неявные дубликаты названия `hiphop`. Это могут быть названия с ошибками или альтернативные названия того же жанра.\n",
    "\n",
    "Вы увидите следующие неявные дубликаты:\n",
    "* *hip*,\n",
    "* *hop*,\n",
    "* *hip-hop*.\n",
    "\n",
    "Чтобы очистить от них таблицу используйте метод `replace()` с двумя аргументами: списком строк-дубликатов (включащий *hip*, *hop* и *hip-hop*) и строкой с правильным значением. Вам нужно исправить колонку `genre` в таблице `df`: заменить каждое значение из списка дубликатов на верное. Вместо `hip`, `hop` и `hip-hop` в таблице должно быть значение `hiphop`:"
   ]
  },
  {
   "cell_type": "code",
   "execution_count": 16,
   "metadata": {
    "deletable": false,
    "id": "ErNDkmns_Zct"
   },
   "outputs": [],
   "source": [
    "# Устранение неявных дубликатов\n",
    "duplicates = ['hip', 'hop', 'hip-hop'] \n",
    "correct_genre = 'hiphop' \n",
    "df['genre'] = df['genre'].replace(duplicates, correct_genre)"
   ]
  },
  {
   "cell_type": "markdown",
   "metadata": {
    "deletable": false,
    "editable": false,
    "id": "zQKF16_RG15m",
    "tags": [
     "start_task"
    ]
   },
   "source": [
    "**Задание 17**\n",
    "\n",
    "Проверьте, что заменили неправильные названия:\n",
    "\n",
    "*   hip\n",
    "*   hop\n",
    "*   hip-hop\n",
    "\n",
    "Выведите отсортированный список уникальных значений столбца `genre`:"
   ]
  },
  {
   "cell_type": "code",
   "execution_count": 17,
   "metadata": {
    "deletable": false,
    "id": "wvixALnFG15m"
   },
   "outputs": [
    {
     "name": "stdout",
     "output_type": "stream",
     "text": [
      "['acid' 'acoustic' 'action' 'adult' 'africa' 'afrikaans' 'alternative'\n",
      " 'alternativepunk' 'ambient' 'americana' 'animated' 'anime' 'arabesk'\n",
      " 'arabic' 'arena' 'argentinetango' 'art' 'audiobook' 'author' 'avantgarde'\n",
      " 'axé' 'baile' 'balkan' 'beats' 'bigroom' 'black' 'bluegrass' 'blues'\n",
      " 'bollywood' 'bossa' 'brazilian' 'breakbeat' 'breaks' 'broadway'\n",
      " 'cantautori' 'cantopop' 'canzone' 'caribbean' 'caucasian' 'celtic'\n",
      " 'chamber' 'chanson' 'children' 'chill' 'chinese' 'choral' 'christian'\n",
      " 'christmas' 'classical' 'classicmetal' 'club' 'colombian' 'comedy'\n",
      " 'conjazz' 'contemporary' 'country' 'cuban' 'dance' 'dancehall' 'dancepop'\n",
      " 'dark' 'death' 'deep' 'deutschrock' 'deutschspr' 'dirty' 'disco' 'dnb'\n",
      " 'documentary' 'downbeat' 'downtempo' 'drum' 'dub' 'dubstep' 'eastern'\n",
      " 'easy' 'electronic' 'electropop' 'emo' 'entehno' 'epicmetal' 'estrada'\n",
      " 'ethnic' 'eurofolk' 'european' 'experimental' 'extrememetal' 'fado'\n",
      " 'fairytail' 'film' 'fitness' 'flamenco' 'folk' 'folklore' 'folkmetal'\n",
      " 'folkrock' 'folktronica' 'forró' 'frankreich' 'französisch' 'french'\n",
      " 'funk' 'future' 'gangsta' 'garage' 'german' 'ghazal' 'gitarre' 'glitch'\n",
      " 'gospel' 'gothic' 'grime' 'grunge' 'gypsy' 'handsup' \"hard'n'heavy\"\n",
      " 'hardcore' 'hardstyle' 'hardtechno' 'hiphop' 'historisch' 'holiday'\n",
      " 'horror' 'house' 'hymn' 'idm' 'independent' 'indian' 'indie' 'indipop'\n",
      " 'industrial' 'inspirational' 'instrumental' 'international' 'irish' 'jam'\n",
      " 'japanese' 'jazz' 'jewish' 'jpop' 'jungle' 'k-pop' 'karadeniz' 'karaoke'\n",
      " 'kayokyoku' 'korean' 'laiko' 'latin' 'latino' 'leftfield' 'local'\n",
      " 'lounge' 'loungeelectronic' 'lovers' 'malaysian' 'mandopop' 'marschmusik'\n",
      " 'meditative' 'mediterranean' 'melodic' 'metal' 'metalcore' 'mexican'\n",
      " 'middle' 'minimal' 'miscellaneous' 'modern' 'mood' 'mpb' 'muslim'\n",
      " 'native' 'neoklassik' 'neue' 'new' 'newage' 'newwave' 'nu' 'nujazz'\n",
      " 'numetal' 'oceania' 'old' 'opera' 'orchestral' 'other' 'piano' 'podcasts'\n",
      " 'pop' 'popdance' 'popelectronic' 'popeurodance' 'poprussian' 'post'\n",
      " 'posthardcore' 'postrock' 'power' 'progmetal' 'progressive' 'psychedelic'\n",
      " 'punjabi' 'punk' 'quebecois' 'ragga' 'ram' 'rancheras' 'rap' 'rave'\n",
      " 'reggae' 'reggaeton' 'regional' 'relax' 'religious' 'retro' 'rhythm'\n",
      " 'rnb' 'rnr' 'rock' 'rockabilly' 'rockalternative' 'rockindie' 'rockother'\n",
      " 'romance' 'roots' 'ruspop' 'rusrap' 'rusrock' 'russian' 'salsa' 'samba'\n",
      " 'scenic' 'schlager' 'self' 'sertanejo' 'shanson' 'shoegazing' 'showtunes'\n",
      " 'singer' 'ska' 'skarock' 'slow' 'smooth' 'soft' 'soul' 'soulful' 'sound'\n",
      " 'soundtrack' 'southern' 'specialty' 'speech' 'spiritual' 'sport'\n",
      " 'stonerrock' 'surf' 'swing' 'synthpop' 'synthrock' 'sängerportrait'\n",
      " 'tango' 'tanzorchester' 'taraftar' 'tatar' 'tech' 'techno' 'teen'\n",
      " 'thrash' 'top' 'traditional' 'tradjazz' 'trance' 'tribal' 'trip'\n",
      " 'triphop' 'tropical' 'türk' 'türkçe' 'ukrrock' 'unknown' 'urban' 'uzbek'\n",
      " 'variété' 'vi' 'videogame' 'vocal' 'western' 'world' 'worldbeat' 'ïîï'\n",
      " 'электроника']\n"
     ]
    }
   ],
   "source": [
    "# Проверка на неявные дубликаты\n",
    "print(df['genre'].sort_values().unique())"
   ]
  },
  {
   "cell_type": "markdown",
   "metadata": {
    "deletable": false,
    "editable": false,
    "id": "jz6a9-7HQUDd"
   },
   "source": [
    "**Выводы**\n",
    "\n",
    "Предобработка обнаружила три проблемы в данных:\n",
    "\n",
    "- нарушения в стиле заголовков,\n",
    "- пропущенные значения,\n",
    "- дубликаты — явные и неявные.\n",
    "\n",
    "Вы исправили заголовки, чтобы упростить работу с таблицей. Без дубликатов исследование станет более точным.\n",
    "\n",
    "Пропущенные значения вы заменили на `'unknown'`. Ещё предстоит увидеть, не повредят ли исследованию пропуски в колонке `genre`.\n",
    "\n",
    "Теперь можно перейти к проверке гипотез. "
   ]
  },
  {
   "cell_type": "markdown",
   "metadata": {
    "deletable": false,
    "editable": false,
    "id": "WttZHXH0SqKk"
   },
   "source": [
    "## Проверка гипотез"
   ]
  },
  {
   "cell_type": "markdown",
   "metadata": {
    "deletable": false,
    "editable": false,
    "id": "Im936VVi_Zcu"
   },
   "source": [
    "### Сравнение поведения пользователей двух столиц"
   ]
  },
  {
   "cell_type": "markdown",
   "metadata": {
    "deletable": false,
    "editable": false,
    "id": "nwt_MuaL_Zcu"
   },
   "source": [
    "Первая гипотеза утверждает, что пользователи по-разному слушают музыку в Москве и Санкт-Петербурге. Проверьте это предположение по данным о трёх днях недели — понедельнике, среде и пятнице. Для этого:\n",
    "\n",
    "* Разделите пользователей Москвы и Санкт-Петербурга\n",
    "* Сравните, сколько треков послушала каждая группа пользователей в понедельник, среду и пятницу.\n"
   ]
  },
  {
   "cell_type": "markdown",
   "metadata": {
    "deletable": false,
    "editable": false,
    "id": "8Dw_YMmT_Zcu",
    "tags": [
     "start_task"
    ]
   },
   "source": [
    "**Задание 18**\n",
    "\n",
    "Для тренировки сначала выполните каждый из расчётов по отдельности. \n",
    "\n",
    "Оцените активность пользователей в каждом городе. Сгруппируйте данные по городу и посчитайте прослушивания в каждой группе.\n",
    "\n"
   ]
  },
  {
   "cell_type": "code",
   "execution_count": 18,
   "metadata": {
    "deletable": false,
    "id": "0_Qs96oh_Zcu"
   },
   "outputs": [
    {
     "name": "stdout",
     "output_type": "stream",
     "text": [
      "city\n",
      "Moscow              42741\n",
      "Saint-Petersburg    18512\n",
      "Name: track, dtype: int64\n"
     ]
    }
   ],
   "source": [
    "# Подсчёт прослушиваний в каждом городе\n",
    "track_grouping = df.groupby('city')['track']\n",
    "track_counting = track_grouping.count()\n",
    "print(track_counting)"
   ]
  },
  {
   "cell_type": "markdown",
   "metadata": {
    "deletable": false,
    "editable": false,
    "id": "dzli3w8o_Zcu",
    "tags": [
     "start_task"
    ]
   },
   "source": [
    "В Москве прослушиваний больше, чем в Петербурге. Из этого не следует, что московские пользователи чаще слушают музыку. Просто самих пользователей в Москве больше.\n",
    "\n",
    "**Задание 19**\n",
    "\n",
    "Теперь сгруппируйте данные по дню недели и подсчитайте прослушивания в понедельник, среду и пятницу. Учтите, что в данных есть информация только о прослушиваниях только за эти дни.\n"
   ]
  },
  {
   "cell_type": "code",
   "execution_count": 19,
   "metadata": {
    "deletable": false,
    "id": "uZMKjiJz_Zcu"
   },
   "outputs": [
    {
     "name": "stdout",
     "output_type": "stream",
     "text": [
      "day\n",
      "Friday       21840\n",
      "Monday       21354\n",
      "Wednesday    18059\n",
      "Name: track, dtype: int64\n"
     ]
    }
   ],
   "source": [
    "# Подсчёт прослушиваний в каждый из трёх дней\n",
    "track_count_monday = df.groupby('day')['track'].count()\n",
    "print(track_count_monday)"
   ]
  },
  {
   "cell_type": "markdown",
   "metadata": {
    "deletable": false,
    "editable": false,
    "id": "cC2tNrlL_Zcu"
   },
   "source": [
    "В среднем пользователи из двух городов менее активны по средам. Но картина может измениться, если рассмотреть каждый город в отдельности."
   ]
  },
  {
   "cell_type": "markdown",
   "metadata": {
    "deletable": false,
    "editable": false,
    "id": "POzs8bGa_Zcu",
    "tags": [
     "start_task"
    ]
   },
   "source": [
    "**Задание 20**\n",
    "\n",
    "\n",
    "Вы видели, как работает группировка по городу и по дням недели. Теперь напишите функцию, которая объединит два эти расчёта.\n",
    "\n",
    "Создайте функцию `number_tracks()`, которая посчитает прослушивания для заданного дня и города. Ей понадобятся два параметра:\n",
    "* день недели,\n",
    "* название города.\n",
    "\n",
    "В функции сохраните в переменную строки исходной таблицы, у которых значение:\n",
    "  * в колонке `day` равно параметру `day`,\n",
    "  * в колонке `city` равно параметру `city`.\n",
    "\n",
    "Для этого примените последовательную фильтрацию с логической индексацией (или сложные логические выражения в одну строку, если вы уже знакомы с ними).\n",
    "\n",
    "Затем посчитайте значения в столбце `user_id` получившейся таблицы. Результат сохраните в новую переменную. Верните эту переменную из функции."
   ]
  },
  {
   "cell_type": "code",
   "execution_count": 20,
   "metadata": {
    "deletable": false,
    "id": "Nz3GdQB1_Zcu"
   },
   "outputs": [],
   "source": [
    "# <создание функции number_tracks()>\n",
    "# Объявляется функция с двумя параметрами: day, city. \n",
    "# В переменной track_list сохраняются те строки таблицы df, для которых \n",
    "# значение в столбце 'day' равно параметру day и одновременно значение\n",
    "# в столбце 'city' равно параметру city (используйте последовательную фильтрацию\n",
    "# с помощью логической индексации или сложные логические выражения в одну строку, если вы уже знакомы с ними).\n",
    "# В переменной track_list_count сохраняется число значений столбца 'user_id',\n",
    "# рассчитанное методом count() для таблицы track_list.\n",
    "# Функция возвращает число - значение track_list_count.\n",
    "# Функция для подсчёта прослушиваний для конкретного города и дня.\n",
    "# С помощью последовательной фильтрации с логической индексацией она \n",
    "# сначала получит из исходной таблицы строки с нужным днём,\n",
    "# затем из результата отфильтрует строки с нужным городом,\n",
    "# методом count() посчитает количество значений в колонке user_id. \n",
    "# Это количество функция вернёт в качестве результата\n",
    "def number_tracks(day,city):\n",
    "    track_list = df[(df['day'] == day) & (df['city'] == city)]\n",
    "    track_list_count = track_list['user_id'].count()\n",
    "    return track_list_count"
   ]
  },
  {
   "cell_type": "markdown",
   "metadata": {
    "deletable": false,
    "editable": false,
    "id": "ytf7xFrFJQ2r",
    "tags": [
     "start_task"
    ]
   },
   "source": [
    "**Задание 21**\n",
    "\n",
    "Вызовите `number_tracks()` шесть раз, меняя значение параметров — так, чтобы получить данные для каждого города в каждый из трёх дней."
   ]
  },
  {
   "cell_type": "code",
   "execution_count": 21,
   "metadata": {
    "deletable": false,
    "id": "rJcRATNQ_Zcu"
   },
   "outputs": [
    {
     "name": "stdout",
     "output_type": "stream",
     "text": [
      "15740\n"
     ]
    }
   ],
   "source": [
    "# количество прослушиваний в Москве по понедельникам\n",
    "def number_tracks(day,city): \n",
    "    track_list = df[(df['day'] == day) & (df['city'] == city)]\n",
    "    track_list_count = track_list['user_id'].count()\n",
    "    return track_list_count\n",
    "\n",
    "mm_count = number_tracks('Monday','Moscow')\n",
    "print(mm_count)"
   ]
  },
  {
   "cell_type": "code",
   "execution_count": 22,
   "metadata": {
    "deletable": false,
    "id": "hq_ncZ5T_Zcu"
   },
   "outputs": [
    {
     "name": "stdout",
     "output_type": "stream",
     "text": [
      "5614\n"
     ]
    }
   ],
   "source": [
    "# количество прослушиваний в Санкт-Петербурге по понедельникам\n",
    "def number_tracks(day,city): \n",
    "    track_list = df[(df['day'] == day) & (df['city'] == city)]\n",
    "    track_list_count = track_list['user_id'].count()\n",
    "    return track_list_count\n",
    "    \n",
    "ms_count = number_tracks('Monday','Saint-Petersburg')\n",
    "print(ms_count)"
   ]
  },
  {
   "cell_type": "code",
   "execution_count": 23,
   "metadata": {
    "deletable": false,
    "id": "_NTy2VPU_Zcu"
   },
   "outputs": [
    {
     "name": "stdout",
     "output_type": "stream",
     "text": [
      "11056\n"
     ]
    }
   ],
   "source": [
    "# количество прослушиваний в Москве по средам\n",
    "def number_tracks(day,city): \n",
    "    track_list = df[(df['day'] == day) & (df['city'] == city)]\n",
    "    track_list_count = track_list['user_id'].count()\n",
    "    return track_list_count\n",
    "    \n",
    "wm_count = number_tracks('Wednesday','Moscow')\n",
    "print(wm_count)"
   ]
  },
  {
   "cell_type": "code",
   "execution_count": 24,
   "metadata": {
    "deletable": false,
    "id": "j2y3TAwo_Zcu"
   },
   "outputs": [
    {
     "name": "stdout",
     "output_type": "stream",
     "text": [
      "7003\n"
     ]
    }
   ],
   "source": [
    "# количество прослушиваний в Санкт-Петербурге по средам\n",
    "def number_tracks(day,city): \n",
    "    track_list = df[(df['day'] == day) & (df['city'] == city)]\n",
    "    track_list_count = track_list['user_id'].count()\n",
    "    return track_list_count\n",
    "    \n",
    "ws_count = number_tracks('Wednesday','Saint-Petersburg')\n",
    "print(ws_count)"
   ]
  },
  {
   "cell_type": "code",
   "execution_count": 25,
   "metadata": {
    "deletable": false,
    "id": "vYDw5u_K_Zcu"
   },
   "outputs": [
    {
     "name": "stdout",
     "output_type": "stream",
     "text": [
      "15945\n"
     ]
    }
   ],
   "source": [
    "# количество прослушиваний в Москве по пятницам\n",
    "def number_tracks(day,city): \n",
    "    track_list = df[(df['day'] == day) & (df['city'] == city)]\n",
    "    track_list_count = track_list['user_id'].count()\n",
    "    return track_list_count\n",
    "    \n",
    "fm_count = number_tracks('Friday','Moscow')\n",
    "print(fm_count)"
   ]
  },
  {
   "cell_type": "code",
   "execution_count": 26,
   "metadata": {
    "deletable": false,
    "id": "8_yzFtW3_Zcu"
   },
   "outputs": [
    {
     "name": "stdout",
     "output_type": "stream",
     "text": [
      "5895\n"
     ]
    }
   ],
   "source": [
    "# количество прослушиваний в Санкт-Петербурге по пятницам\n",
    "def number_tracks(day,city): \n",
    "    track_list = df[(df['day'] == day) & (df['city'] == city)]\n",
    "    track_list_count = track_list['user_id'].count()\n",
    "    return track_list_count\n",
    "    \n",
    "fs_count = number_tracks('Friday','Saint-Petersburg')\n",
    "print(fs_count)"
   ]
  },
  {
   "cell_type": "markdown",
   "metadata": {
    "deletable": false,
    "editable": false,
    "id": "7QXffbO-_Zcu",
    "tags": [
     "start_task"
    ]
   },
   "source": [
    "**Задание 22**\n",
    "\n",
    "Создайте c помощью конструктора `pd.DataFrame` таблицу, где\n",
    "* названия колонок — `['city', 'monday', 'wednesday', 'friday']`;\n",
    "* данные — результаты, которые вы получили с помощью `number_tracks`."
   ]
  },
  {
   "cell_type": "code",
   "execution_count": 27,
   "metadata": {
    "deletable": false,
    "id": "APAcLpOr_Zcu"
   },
   "outputs": [
    {
     "name": "stdout",
     "output_type": "stream",
     "text": [
      "               city  monday  wednesday  friday\n",
      "0            Moscow   15740      11056   15945\n",
      "1  Saint-Petersburg    5614       7003    5895\n"
     ]
    }
   ],
   "source": [
    "# Таблица с результатами\n",
    "columns_names = ['city', 'monday', 'wednesday', 'friday']\n",
    "number_tracks = [['Moscow', 15740, 11056, 15945], ['Saint-Petersburg', 5614, 7003, 5895]]\n",
    "\n",
    "full_table = pd.DataFrame(data=number_tracks, columns=columns_names)\n",
    "print(full_table)"
   ]
  },
  {
   "cell_type": "markdown",
   "metadata": {
    "deletable": false,
    "editable": false,
    "id": "-EgPIHYu_Zcu"
   },
   "source": [
    "**Выводы**\n",
    "\n",
    "Данные показывают разницу поведения пользователей:\n",
    "\n",
    "- В Москве пик прослушиваний приходится на понедельник и пятницу, а в среду заметен спад.\n",
    "- В Петербурге, наоборот, больше слушают музыку по средам. Активность в понедельник и пятницу здесь почти в равной мере уступает среде.\n",
    "\n",
    "Значит, данные говорят в пользу первой гипотезы."
   ]
  },
  {
   "cell_type": "markdown",
   "metadata": {
    "deletable": false,
    "editable": false,
    "id": "atZAxtq4_Zcu"
   },
   "source": [
    "### Музыка в начале и в конце недели"
   ]
  },
  {
   "cell_type": "markdown",
   "metadata": {
    "deletable": false,
    "editable": false,
    "id": "eXrQqXFH_Zcu"
   },
   "source": [
    "Согласно второй гипотезе, утром в понедельник в Москве преобладают одни жанры, а в Петербурге — другие. Так же и вечером пятницы преобладают разные жанры — в зависимости от города."
   ]
  },
  {
   "cell_type": "markdown",
   "metadata": {
    "deletable": false,
    "editable": false,
    "id": "S8UcW6Hw_Zcu",
    "tags": [
     "start_task"
    ]
   },
   "source": [
    "**Задание 23**\n",
    "\n",
    "Сохраните таблицы с данными в две переменные:\n",
    "* по Москве — в `moscow_general`;\n",
    "* по Санкт-Петербургу — в `spb_general`."
   ]
  },
  {
   "cell_type": "code",
   "execution_count": 28,
   "metadata": {
    "deletable": false,
    "id": "qeaFfM_P_Zcu"
   },
   "outputs": [],
   "source": [
    "# получение таблицы moscow_general из тех строк таблицы df, \n",
    "# для которых значение в столбце 'city' равно 'Moscow'\n",
    "moscow_general = df[df['city'] == 'Moscow']"
   ]
  },
  {
   "cell_type": "code",
   "execution_count": 29,
   "metadata": {
    "deletable": false,
    "id": "ORaVRKto_Zcu"
   },
   "outputs": [],
   "source": [
    "# получение таблицы spb_general из тех строк таблицы df,\n",
    "# для которых значение в столбце 'city' равно 'Saint-Petersburg'\n",
    "spb_general = df[df['city'] == 'Saint-Petersburg']"
   ]
  },
  {
   "cell_type": "markdown",
   "metadata": {
    "deletable": false,
    "id": "MEJV-CX2_Zcu",
    "tags": [
     "start_task"
    ]
   },
   "source": [
    "**Задание 24**\n",
    "\n",
    "Создайте функцию `genre_weekday()` с четырьмя параметрами:\n",
    "* таблица (датафрейм) с данными,\n",
    "* день недели,\n",
    "* начальная временная метка в формате 'hh:mm', \n",
    "* последняя временная метка в формате 'hh:mm'.\n",
    "\n",
    "Функция должна вернуть информацию о топ-10 жанров тех треков, которые прослушивали в указанный день, в промежутке между двумя отметками времени."
   ]
  },
  {
   "cell_type": "code",
   "execution_count": 30,
   "metadata": {
    "deletable": false,
    "id": "laJT9BYl_Zcu"
   },
   "outputs": [],
   "source": [
    "# Объявление функции genre_weekday() с параметрами table, day, time1, time2,\n",
    "# которая возвращает информацию о самых популярных жанрах в указанный день в\n",
    "# заданное время:\n",
    "# 1) в переменную genre_df сохраняются те строки переданного датафрейма table, для\n",
    "#    которых одновременно:\n",
    "#    - значение в столбце day равно значению аргумента day\n",
    "#    - значение в столбце time больше значения аргумента time1\n",
    "#    - значение в столбце time меньше значения аргумента time2\n",
    "#    Используйте последовательную фильтрацию с помощью логической индексации.\n",
    "# 2) сгруппировать датафрейм genre_df по столбцу genre, взять один из его\n",
    "#    столбцов и посчитать методом count() количество записей для каждого из\n",
    "#    присутствующих жанров, получившийся Series записать в переменную\n",
    "#    genre_df_grouped\n",
    "# 3) отсортировать genre_df_grouped по убыванию встречаемости и сохранить\n",
    "#    в переменную genre_df_sorted\n",
    "# 4) вернуть Series из 10 первых значений genre_df_sorted, это будут топ-10\n",
    "#    популярных жанров (в указанный день, в заданное время)\n",
    "\n",
    "def genre_weekday(df, day, time1, time2):\n",
    "    # последовательная фильтрация\n",
    "    # оставляем в genre_df только те строки df, у которых день равен day\n",
    "    genre_df = df[df['day'] == day] \n",
    "    # оставляем в genre_df только те строки genre_df, у которых время меньше time2\n",
    "    genre_df = genre_df[genre_df['time'] < time2]\n",
    "    # оставляем в genre_df только те строки genre_df, у которых время больше time1\n",
    "    genre_df = genre_df[genre_df['time'] > time1]\n",
    "    # сгруппируем отфильтрованный датафрейм по столбцу с названиями жанров, возьмём столбец genre и посчитаем кол-во строк для каждого жанра методом count()\n",
    "    genre_df_grouped = genre_df.groupby('genre')['genre'].count()\n",
    "    # отсортируем результат по убыванию (чтобы в начале Series оказались самые популярные жанры)\n",
    "    genre_df_sorted = genre_df_grouped.sort_values(ascending=False)\n",
    "    # вернём Series с 10 самыми популярными жанрами в указанный отрезок времени заданного дня\n",
    "    return genre_df_sorted[:10]\n",
    "\n"
   ]
  },
  {
   "cell_type": "markdown",
   "metadata": {
    "deletable": false,
    "editable": false,
    "id": "la2s2_PF_Zcu",
    "tags": [
     "start_task"
    ]
   },
   "source": [
    "**Задание 25**\n",
    "\n",
    "\n",
    "Cравните результаты функции `genre_weekday()` для Москвы и Санкт-Петербурга в понедельник утром (с 7:00 до 11:00) и в пятницу вечером (с 17:00 до 23:00):"
   ]
  },
  {
   "cell_type": "code",
   "execution_count": 31,
   "metadata": {
    "deletable": false,
    "id": "yz7itPUQ_Zcu"
   },
   "outputs": [
    {
     "name": "stdout",
     "output_type": "stream",
     "text": [
      "genre\n",
      "pop            781\n",
      "dance          549\n",
      "electronic     480\n",
      "rock           474\n",
      "hiphop         286\n",
      "ruspop         186\n",
      "world          181\n",
      "rusrap         175\n",
      "alternative    164\n",
      "unknown        161\n",
      "Name: genre, dtype: int64\n"
     ]
    }
   ],
   "source": [
    "# вызов функции для утра понедельника в Москве (вместо df — таблица moscow_general)\n",
    "# объекты, хранящие время, являются строками и сравниваются как строки\n",
    "# пример вызова: genre_weekday(moscow_general, 'Monday', '07:00', '11:00')\n",
    "def genre_weekday(df, day, time1, time2):\n",
    "    genre_df = df[df['day'] == day] \n",
    "    genre_df = genre_df[genre_df['time'] < time2]\n",
    "    genre_df = genre_df[genre_df['time'] > time1]\n",
    "    genre_df_grouped = genre_df.groupby('genre')['genre'].count()\n",
    "    genre_df_sorted = genre_df_grouped.sort_values(ascending=False)\n",
    "    return genre_df_sorted[:10]\n",
    "print(genre_weekday(moscow_general, 'Monday', '07:00', '11:00'))"
   ]
  },
  {
   "cell_type": "code",
   "execution_count": 32,
   "metadata": {
    "deletable": false,
    "id": "kwUcHPdy_Zcu"
   },
   "outputs": [
    {
     "name": "stdout",
     "output_type": "stream",
     "text": [
      "genre\n",
      "pop            218\n",
      "dance          182\n",
      "rock           162\n",
      "electronic     147\n",
      "hiphop          80\n",
      "ruspop          64\n",
      "alternative     58\n",
      "rusrap          55\n",
      "jazz            44\n",
      "classical       40\n",
      "Name: genre, dtype: int64\n"
     ]
    }
   ],
   "source": [
    "# вызов функции для утра понедельника в Петербурге (вместо df — таблица spb_general)\n",
    "def genre_weekday(df, day, time1, time2):\n",
    "    genre_df = df[df['day'] == day] \n",
    "    genre_df = genre_df[genre_df['time'] < time2]\n",
    "    genre_df = genre_df[genre_df['time'] > time1]\n",
    "    genre_df_grouped = genre_df.groupby('genre')['genre'].count()\n",
    "    genre_df_sorted = genre_df_grouped.sort_values(ascending=False)\n",
    "    return genre_df_sorted[:10]\n",
    "print(genre_weekday(spb_general, 'Monday', '07:00', '11:00'))\n"
   ]
  },
  {
   "cell_type": "code",
   "execution_count": 33,
   "metadata": {
    "deletable": false,
    "id": "EzXVRE1o_Zcu"
   },
   "outputs": [
    {
     "name": "stdout",
     "output_type": "stream",
     "text": [
      "genre\n",
      "pop            713\n",
      "rock           517\n",
      "dance          495\n",
      "electronic     482\n",
      "hiphop         273\n",
      "world          208\n",
      "ruspop         170\n",
      "alternative    163\n",
      "classical      163\n",
      "rusrap         142\n",
      "Name: genre, dtype: int64\n"
     ]
    }
   ],
   "source": [
    "# вызов функции для вечера пятницы в Москве\n",
    "def genre_weekday(df, day, time1, time2):\n",
    "    genre_df = df[df['day'] == day] \n",
    "    genre_df = genre_df[genre_df['time'] < time2]\n",
    "    genre_df = genre_df[genre_df['time'] > time1]\n",
    "    genre_df_grouped = genre_df.groupby('genre')['genre'].count()\n",
    "    genre_df_sorted = genre_df_grouped.sort_values(ascending=False)\n",
    "    return genre_df_sorted[:10]\n",
    "print(genre_weekday(moscow_general, 'Friday', '17:00', '23:00'))"
   ]
  },
  {
   "cell_type": "code",
   "execution_count": 34,
   "metadata": {
    "deletable": false,
    "id": "JZaEKu5v_Zcu"
   },
   "outputs": [
    {
     "name": "stdout",
     "output_type": "stream",
     "text": [
      "genre\n",
      "pop            256\n",
      "electronic     216\n",
      "rock           216\n",
      "dance          210\n",
      "hiphop          97\n",
      "alternative     63\n",
      "jazz            61\n",
      "classical       60\n",
      "rusrap          59\n",
      "world           54\n",
      "Name: genre, dtype: int64\n"
     ]
    }
   ],
   "source": [
    "# вызов функции для вечера пятницы в Петербурге\n",
    "def genre_weekday(df, day, time1, time2):\n",
    "    genre_df = df[df['day'] == day] \n",
    "    genre_df = genre_df[genre_df['time'] < time2]\n",
    "    genre_df = genre_df[genre_df['time'] > time1]\n",
    "    genre_df_grouped = genre_df.groupby('genre')['genre'].count()\n",
    "    genre_df_sorted = genre_df_grouped.sort_values(ascending=False)\n",
    "    return genre_df_sorted[:10]\n",
    "print(genre_weekday(spb_general, 'Friday', '17:00', '23:00'))\n"
   ]
  },
  {
   "cell_type": "markdown",
   "metadata": {
    "deletable": false,
    "editable": false,
    "id": "wrCe4MNX_Zcu"
   },
   "source": [
    "**Выводы**\n",
    "\n",
    "Если сравнить топ-10 жанров в понедельник утром, можно сделать такие выводы:\n",
    "\n",
    "1. В Москве и Петербурге слушают похожую музыку. Единственное отличие — в московский рейтинг вошёл жанр “world”, а в петербургский — джаз и классика.\n",
    "\n",
    "2. В Москве пропущенных значений оказалось так много, что значение `'unknown'` заняло десятое место среди самых популярных жанров. Значит, пропущенные значения занимают существенную долю в данных и угрожают достоверности исследования.\n",
    "\n",
    "Вечер пятницы не меняет эту картину. Некоторые жанры поднимаются немного выше, другие спускаются, но в целом топ-10 остаётся тем же самым.\n",
    "\n",
    "Таким образом, вторая гипотеза подтвердилась лишь частично:\n",
    "* Пользователи слушают похожую музыку в начале недели и в конце.\n",
    "* Разница между Москвой и Петербургом не слишком выражена. В Москве чаще слушают русскую популярную музыку, в Петербурге — джаз.\n",
    "\n",
    "Однако пропуски в данных ставят под сомнение этот результат. В Москве их так много, что рейтинг топ-10 мог бы выглядеть иначе, если бы не утерянные  данные о жанрах."
   ]
  },
  {
   "cell_type": "markdown",
   "metadata": {
    "deletable": false,
    "editable": false,
    "id": "JolODAqr_Zcu"
   },
   "source": [
    "### Жанровые предпочтения в Москве и Петербурге\n",
    "\n",
    "Гипотеза: Петербург — столица рэпа, музыку этого жанра там слушают чаще, чем в Москве.  А Москва — город контрастов, в котором, тем не менее, преобладает поп-музыка."
   ]
  },
  {
   "cell_type": "markdown",
   "metadata": {
    "deletable": false,
    "editable": false,
    "id": "DlegSvaT_Zcu",
    "tags": [
     "start_task"
    ]
   },
   "source": [
    "**Задание 26**\n",
    "\n",
    "Сгруппируйте таблицу `moscow_general` по жанру и посчитайте прослушивания треков каждого жанра методом `count()`. Затем отсортируйте результат в порядке убывания и сохраните его в таблице `moscow_genres`."
   ]
  },
  {
   "cell_type": "code",
   "execution_count": 35,
   "metadata": {
    "deletable": false,
    "id": "r19lIPke_Zcu"
   },
   "outputs": [],
   "source": [
    "# одной строкой: группировка таблицы moscow_general по столбцу 'genre', \n",
    "# подсчёт числа значений 'genre' в этой группировке методом count(), \n",
    "# сортировка получившегося Series в порядке убывания и сохранение в moscow_genres\n",
    "moscow_genres = moscow_general.groupby('genre')['genre'].count().sort_values(ascending=False)"
   ]
  },
  {
   "cell_type": "markdown",
   "metadata": {
    "deletable": false,
    "editable": false,
    "id": "6kMuomxTiIr8",
    "tags": [
     "start_task"
    ]
   },
   "source": [
    "**Задание 27**\n",
    "\n",
    "Выведите на экран первые десять строк `moscow_genres`:"
   ]
  },
  {
   "cell_type": "code",
   "execution_count": 36,
   "metadata": {
    "deletable": false,
    "id": "WhCSooF8_Zcv"
   },
   "outputs": [
    {
     "name": "stdout",
     "output_type": "stream",
     "text": [
      "             user_id  track  artist  city  time   day\n",
      "genre                                                \n",
      "pop             5892   5892    5892  5892  5892  5892\n",
      "dance           4435   4435    4435  4435  4435  4435\n",
      "rock            3965   3965    3965  3965  3965  3965\n",
      "electronic      3786   3786    3786  3786  3786  3786\n",
      "hiphop          2096   2096    2096  2096  2096  2096\n",
      "classical       1616   1616    1616  1616  1616  1616\n",
      "world           1432   1432    1432  1432  1432  1432\n",
      "alternative     1379   1379    1379  1379  1379  1379\n",
      "ruspop          1372   1372    1372  1372  1372  1372\n",
      "rusrap          1161   1161    1161  1161  1161  1161\n"
     ]
    }
   ],
   "source": [
    "# просмотр первых 10 строк moscow_genres\n",
    "print(moscow_genres.head(10))"
   ]
  },
  {
   "cell_type": "markdown",
   "metadata": {
    "deletable": false,
    "editable": false,
    "id": "cnPG2vnN_Zcv",
    "tags": [
     "start_task"
    ]
   },
   "source": [
    "**Задание 28**\n",
    "\n",
    "\n",
    "Теперь повторите то же и для Петербурга.\n",
    "\n",
    "Сгруппируйте таблицу `spb_general` по жанру. Посчитайте прослушивания треков каждого жанра. Результат отсортируйте в порядке убывания и сохраните в таблице `spb_genres`:\n"
   ]
  },
  {
   "cell_type": "code",
   "execution_count": 37,
   "metadata": {
    "deletable": false,
    "id": "gluLIpE7_Zcv"
   },
   "outputs": [],
   "source": [
    "# одной строкой: группировка таблицы spb_general по столбцу 'genre', \n",
    "# подсчёт числа значений 'genre' в этой группировке методом count(), \n",
    "# сортировка получившегося Series в порядке убывания и сохранение в spb_genres\n",
    "spb_genres = spb_general.groupby('genre')['genre'].count().sort_values(ascending=False)"
   ]
  },
  {
   "cell_type": "markdown",
   "metadata": {
    "deletable": false,
    "editable": false,
    "id": "5Doha_ODgyQ8",
    "tags": [
     "start_task"
    ]
   },
   "source": [
    "**Задание 29**\n",
    "\n",
    "Выведите на экран первые десять строк `spb_genres`:"
   ]
  },
  {
   "cell_type": "code",
   "execution_count": 38,
   "metadata": {
    "deletable": false,
    "id": "uaGJHjVU_Zcv"
   },
   "outputs": [
    {
     "name": "stdout",
     "output_type": "stream",
     "text": [
      "             user_id  track  artist  city  time   day\n",
      "genre                                                \n",
      "pop             2431   2431    2431  2431  2431  2431\n",
      "dance           1932   1932    1932  1932  1932  1932\n",
      "rock            1879   1879    1879  1879  1879  1879\n",
      "electronic      1736   1736    1736  1736  1736  1736\n",
      "hiphop           960    960     960   960   960   960\n",
      "alternative      649    649     649   649   649   649\n",
      "classical        646    646     646   646   646   646\n",
      "rusrap           564    564     564   564   564   564\n",
      "ruspop           538    538     538   538   538   538\n",
      "world            515    515     515   515   515   515\n"
     ]
    }
   ],
   "source": [
    "# просмотр первых 10 строк spb_genres\n",
    "print(spb_genres.head(10))"
   ]
  },
  {
   "cell_type": "markdown",
   "metadata": {
    "deletable": false,
    "editable": false,
    "id": "RY51YJYu_Zcv"
   },
   "source": [
    "**Выводы**"
   ]
  },
  {
   "cell_type": "markdown",
   "metadata": {
    "deletable": false,
    "editable": false,
    "id": "nVhnJEm__Zcv"
   },
   "source": [
    "Гипотеза частично подтвердилась:\n",
    "* Поп-музыка — самый популярный жанр в Москве, как и предполагала гипотеза. Более того, в топ-10 жанров встречается близкий жанр — русская популярная музыка.\n",
    "* Вопреки ожиданиям, рэп одинаково популярен в Москве и Петербурге. \n"
   ]
  },
  {
   "cell_type": "markdown",
   "metadata": {
    "deletable": false,
    "editable": false,
    "id": "ykKQ0N65_Zcv"
   },
   "source": [
    "## Итоги исследования"
   ]
  },
  {
   "cell_type": "markdown",
   "metadata": {
    "deletable": false,
    "editable": false,
    "id": "tjUwbHb3_Zcv"
   },
   "source": [
    "Вы проверили три гипотезы и установили:\n",
    "\n",
    "1. День недели по-разному влияет на активность пользователей в Москве и Петербурге. \n",
    "\n",
    "Первая гипотеза полностью подтвердилась.\n",
    "\n",
    "2. Музыкальные предпочтения не сильно меняются в течение недели — будь то Москва или Петербург. Небольшие различия заметны в начале недели, по понедельникам:\n",
    "* в Москве слушают музыку жанра “world”,\n",
    "* в Петербурге — джаз и классику.\n",
    "\n",
    "Таким образом, вторая гипотеза подтвердилась лишь отчасти. Этот результат мог оказаться иным, если бы не пропуски в данных.\n",
    "\n",
    "3. Во вкусах пользователей Москвы и Петербурга больше общего чем различий. Вопреки ожиданиям, предпочтения жанров в Петербурге напоминают московские.\n",
    "\n",
    "Третья гипотеза не подтвердилась. Если различия в предпочтениях и существуют, на основной массе пользователей они незаметны.\n",
    "\n",
    "**На практике исследования содержат проверки статистических гипотез.**\n",
    "Из данных одного сервиса не всегда можно сделать вывод о всех жителях города.\n",
    "Проверки статистических гипотез покажут, насколько они достоверны, исходя из имеющихся данных. \n",
    "С методами проверок гипотез вы ещё познакомитесь в следующих темах."
   ]
  }
 ],
 "metadata": {
  "ExecuteTimeLog": [
   {
    "duration": 2,
    "start_time": "2023-05-23T06:01:29.029Z"
   },
   {
    "duration": 161,
    "start_time": "2023-05-23T06:04:45.848Z"
   },
   {
    "duration": 7,
    "start_time": "2023-05-23T06:05:02.231Z"
   },
   {
    "duration": 26,
    "start_time": "2023-05-23T06:05:20.911Z"
   },
   {
    "duration": 2,
    "start_time": "2023-05-23T06:09:32.270Z"
   },
   {
    "duration": 10,
    "start_time": "2023-05-23T06:15:23.540Z"
   },
   {
    "duration": 7,
    "start_time": "2023-05-23T06:15:38.027Z"
   },
   {
    "duration": 3,
    "start_time": "2023-05-23T06:16:20.859Z"
   },
   {
    "duration": 14,
    "start_time": "2023-05-23T06:18:13.658Z"
   },
   {
    "duration": 3,
    "start_time": "2023-05-23T06:18:38.971Z"
   },
   {
    "duration": 53,
    "start_time": "2023-05-23T09:16:18.611Z"
   },
   {
    "duration": 464,
    "start_time": "2023-05-23T09:16:31.193Z"
   },
   {
    "duration": 305,
    "start_time": "2023-05-23T09:16:31.660Z"
   },
   {
    "duration": 11,
    "start_time": "2023-05-23T09:16:31.967Z"
   },
   {
    "duration": 57,
    "start_time": "2023-05-23T09:16:31.981Z"
   },
   {
    "duration": 20,
    "start_time": "2023-05-23T09:16:32.040Z"
   },
   {
    "duration": 20,
    "start_time": "2023-05-23T09:16:32.062Z"
   },
   {
    "duration": 37,
    "start_time": "2023-05-23T09:16:32.084Z"
   },
   {
    "duration": 17,
    "start_time": "2023-05-23T09:16:32.123Z"
   },
   {
    "duration": 34,
    "start_time": "2023-05-23T09:16:32.143Z"
   },
   {
    "duration": 7,
    "start_time": "2023-05-23T09:16:32.182Z"
   },
   {
    "duration": 9,
    "start_time": "2023-05-23T09:16:32.191Z"
   },
   {
    "duration": 14,
    "start_time": "2023-05-23T09:16:32.202Z"
   },
   {
    "duration": 8,
    "start_time": "2023-05-23T09:16:32.218Z"
   },
   {
    "duration": 15,
    "start_time": "2023-05-23T09:16:32.228Z"
   },
   {
    "duration": 12,
    "start_time": "2023-05-23T09:16:32.246Z"
   },
   {
    "duration": 10,
    "start_time": "2023-05-23T09:16:32.261Z"
   },
   {
    "duration": 16,
    "start_time": "2023-05-23T09:16:32.273Z"
   },
   {
    "duration": 6,
    "start_time": "2023-05-23T09:16:32.291Z"
   },
   {
    "duration": 6,
    "start_time": "2023-05-23T09:16:32.299Z"
   },
   {
    "duration": 12,
    "start_time": "2023-05-23T09:16:32.308Z"
   },
   {
    "duration": 24,
    "start_time": "2023-05-23T09:16:32.322Z"
   },
   {
    "duration": 11,
    "start_time": "2023-05-23T09:16:32.348Z"
   },
   {
    "duration": 10,
    "start_time": "2023-05-23T09:16:32.361Z"
   },
   {
    "duration": 9,
    "start_time": "2023-05-23T09:16:32.373Z"
   },
   {
    "duration": 12,
    "start_time": "2023-05-23T09:16:32.384Z"
   },
   {
    "duration": 10,
    "start_time": "2023-05-23T09:16:32.398Z"
   },
   {
    "duration": 5,
    "start_time": "2023-05-23T09:16:32.411Z"
   },
   {
    "duration": 7,
    "start_time": "2023-05-23T09:16:32.419Z"
   },
   {
    "duration": 10,
    "start_time": "2023-05-23T09:16:32.427Z"
   },
   {
    "duration": 93,
    "start_time": "2023-05-23T09:16:32.439Z"
   },
   {
    "duration": 0,
    "start_time": "2023-05-23T09:16:32.533Z"
   },
   {
    "duration": 0,
    "start_time": "2023-05-23T09:16:32.535Z"
   },
   {
    "duration": 0,
    "start_time": "2023-05-23T09:16:32.536Z"
   },
   {
    "duration": 0,
    "start_time": "2023-05-23T09:16:32.537Z"
   },
   {
    "duration": 0,
    "start_time": "2023-05-23T09:16:32.538Z"
   },
   {
    "duration": 0,
    "start_time": "2023-05-23T09:16:32.539Z"
   },
   {
    "duration": 0,
    "start_time": "2023-05-23T09:16:32.541Z"
   },
   {
    "duration": 0,
    "start_time": "2023-05-23T09:16:32.541Z"
   },
   {
    "duration": 23,
    "start_time": "2023-05-23T09:18:53.961Z"
   },
   {
    "duration": 24,
    "start_time": "2023-05-23T09:19:43.069Z"
   },
   {
    "duration": 77,
    "start_time": "2023-05-23T09:20:44.919Z"
   },
   {
    "duration": 84,
    "start_time": "2023-05-23T09:27:28.069Z"
   },
   {
    "duration": 73,
    "start_time": "2023-05-23T09:27:37.417Z"
   },
   {
    "duration": 109,
    "start_time": "2023-05-23T09:28:59.962Z"
   },
   {
    "duration": 91,
    "start_time": "2023-05-23T09:47:39.707Z"
   },
   {
    "duration": 5,
    "start_time": "2023-05-23T09:53:48.164Z"
   },
   {
    "duration": 55,
    "start_time": "2023-05-23T09:53:55.772Z"
   },
   {
    "duration": 105,
    "start_time": "2023-05-23T09:55:16.182Z"
   },
   {
    "duration": 36,
    "start_time": "2023-05-23T09:55:29.150Z"
   },
   {
    "duration": 12,
    "start_time": "2023-05-23T10:01:04.505Z"
   },
   {
    "duration": 36,
    "start_time": "2023-05-23T10:02:00.587Z"
   },
   {
    "duration": 12,
    "start_time": "2023-05-23T10:04:40.881Z"
   },
   {
    "duration": 13,
    "start_time": "2023-05-23T10:04:56.850Z"
   },
   {
    "duration": 50,
    "start_time": "2023-05-23T10:16:17.212Z"
   },
   {
    "duration": 64,
    "start_time": "2023-05-23T10:17:12.347Z"
   },
   {
    "duration": 136,
    "start_time": "2023-05-23T10:47:37.372Z"
   },
   {
    "duration": 71,
    "start_time": "2023-05-23T10:47:47.034Z"
   },
   {
    "duration": 5,
    "start_time": "2023-05-23T10:48:10.049Z"
   },
   {
    "duration": 5,
    "start_time": "2023-05-23T10:48:17.317Z"
   },
   {
    "duration": 4,
    "start_time": "2023-05-23T10:54:43.944Z"
   },
   {
    "duration": 4,
    "start_time": "2023-05-23T10:58:09.890Z"
   },
   {
    "duration": 5,
    "start_time": "2023-05-23T10:58:20.655Z"
   },
   {
    "duration": 23,
    "start_time": "2023-05-23T11:12:48.787Z"
   },
   {
    "duration": 25,
    "start_time": "2023-05-23T11:13:13.755Z"
   },
   {
    "duration": 24,
    "start_time": "2023-05-23T11:28:45.503Z"
   },
   {
    "duration": 27,
    "start_time": "2023-05-23T11:29:23.180Z"
   },
   {
    "duration": 4,
    "start_time": "2023-05-23T11:29:25.205Z"
   },
   {
    "duration": 24,
    "start_time": "2023-05-23T11:29:27.315Z"
   },
   {
    "duration": 144,
    "start_time": "2023-05-23T11:30:26.193Z"
   },
   {
    "duration": 102,
    "start_time": "2023-05-23T11:30:34.815Z"
   },
   {
    "duration": 100,
    "start_time": "2023-05-23T11:30:46.356Z"
   },
   {
    "duration": 17,
    "start_time": "2023-05-23T11:30:57.135Z"
   },
   {
    "duration": 14,
    "start_time": "2023-05-23T11:32:06.978Z"
   },
   {
    "duration": 18,
    "start_time": "2023-05-23T11:32:09.244Z"
   },
   {
    "duration": 14,
    "start_time": "2023-05-23T11:32:10.264Z"
   },
   {
    "duration": 17,
    "start_time": "2023-05-23T11:32:11.035Z"
   },
   {
    "duration": 15,
    "start_time": "2023-05-23T11:32:12.078Z"
   },
   {
    "duration": 9,
    "start_time": "2023-05-23T11:32:17.164Z"
   },
   {
    "duration": 21,
    "start_time": "2023-05-23T11:33:10.782Z"
   },
   {
    "duration": 16,
    "start_time": "2023-05-23T11:33:18.136Z"
   },
   {
    "duration": 17,
    "start_time": "2023-05-23T11:33:34.639Z"
   },
   {
    "duration": 9,
    "start_time": "2023-05-23T11:43:29.836Z"
   },
   {
    "duration": 17,
    "start_time": "2023-05-23T11:50:50.864Z"
   },
   {
    "duration": 15,
    "start_time": "2023-05-23T11:51:03.300Z"
   },
   {
    "duration": 22,
    "start_time": "2023-05-23T11:51:46.405Z"
   },
   {
    "duration": 27,
    "start_time": "2023-05-23T11:52:15.748Z"
   },
   {
    "duration": 286,
    "start_time": "2023-05-23T11:55:19.895Z"
   },
   {
    "duration": 26,
    "start_time": "2023-05-23T11:55:28.449Z"
   },
   {
    "duration": 19,
    "start_time": "2023-05-23T12:00:01.109Z"
   },
   {
    "duration": 6,
    "start_time": "2023-05-23T12:00:38.173Z"
   },
   {
    "duration": 16,
    "start_time": "2023-05-23T12:00:43.304Z"
   },
   {
    "duration": 17,
    "start_time": "2023-05-23T12:01:47.355Z"
   },
   {
    "duration": 19,
    "start_time": "2023-05-23T12:02:20.863Z"
   },
   {
    "duration": 18,
    "start_time": "2023-05-23T12:02:49.450Z"
   },
   {
    "duration": 19,
    "start_time": "2023-05-23T12:02:52.423Z"
   },
   {
    "duration": 21,
    "start_time": "2023-05-23T12:02:54.440Z"
   },
   {
    "duration": 20,
    "start_time": "2023-05-23T12:03:16.350Z"
   },
   {
    "duration": 15,
    "start_time": "2023-05-23T12:03:39.123Z"
   },
   {
    "duration": 17,
    "start_time": "2023-05-23T12:04:46.820Z"
   },
   {
    "duration": 115,
    "start_time": "2023-05-23T12:10:27.584Z"
   },
   {
    "duration": 146,
    "start_time": "2023-05-23T12:10:45.974Z"
   },
   {
    "duration": 343,
    "start_time": "2023-05-23T12:11:04.602Z"
   },
   {
    "duration": 8,
    "start_time": "2023-05-23T12:11:26.982Z"
   },
   {
    "duration": 12,
    "start_time": "2023-05-23T12:11:35.226Z"
   },
   {
    "duration": 13,
    "start_time": "2023-05-23T12:11:37.370Z"
   },
   {
    "duration": 5,
    "start_time": "2023-05-23T12:18:45.069Z"
   },
   {
    "duration": 44,
    "start_time": "2023-05-23T12:21:55.183Z"
   },
   {
    "duration": 5,
    "start_time": "2023-05-23T12:22:53.704Z"
   },
   {
    "duration": 1830,
    "start_time": "2023-05-23T12:22:59.184Z"
   },
   {
    "duration": 44,
    "start_time": "2023-05-23T12:40:20.003Z"
   },
   {
    "duration": 41,
    "start_time": "2023-05-23T12:40:43.402Z"
   },
   {
    "duration": 32,
    "start_time": "2023-05-23T12:41:22.898Z"
   },
   {
    "duration": 6,
    "start_time": "2023-05-23T12:41:43.526Z"
   },
   {
    "duration": 39,
    "start_time": "2023-05-23T12:42:00.266Z"
   },
   {
    "duration": 6,
    "start_time": "2023-05-23T12:42:12.050Z"
   },
   {
    "duration": 35,
    "start_time": "2023-05-23T12:42:44.071Z"
   },
   {
    "duration": 6,
    "start_time": "2023-05-23T12:42:47.090Z"
   },
   {
    "duration": 27,
    "start_time": "2023-05-23T12:42:57.070Z"
   },
   {
    "duration": 33,
    "start_time": "2023-05-23T12:43:05.167Z"
   },
   {
    "duration": 494,
    "start_time": "2023-05-23T12:48:19.087Z"
   },
   {
    "duration": 216,
    "start_time": "2023-05-23T12:48:19.584Z"
   },
   {
    "duration": 12,
    "start_time": "2023-05-23T12:48:19.803Z"
   },
   {
    "duration": 36,
    "start_time": "2023-05-23T12:48:19.817Z"
   },
   {
    "duration": 5,
    "start_time": "2023-05-23T12:48:19.872Z"
   },
   {
    "duration": 28,
    "start_time": "2023-05-23T12:48:19.879Z"
   },
   {
    "duration": 57,
    "start_time": "2023-05-23T12:48:19.908Z"
   },
   {
    "duration": 31,
    "start_time": "2023-05-23T12:48:19.968Z"
   },
   {
    "duration": 37,
    "start_time": "2023-05-23T12:48:20.001Z"
   },
   {
    "duration": 66,
    "start_time": "2023-05-23T12:48:20.041Z"
   },
   {
    "duration": 36,
    "start_time": "2023-05-23T12:48:20.108Z"
   },
   {
    "duration": 111,
    "start_time": "2023-05-23T12:48:20.147Z"
   },
   {
    "duration": 90,
    "start_time": "2023-05-23T12:48:20.260Z"
   },
   {
    "duration": 99,
    "start_time": "2023-05-23T12:48:20.354Z"
   },
   {
    "duration": 53,
    "start_time": "2023-05-23T12:48:20.471Z"
   },
   {
    "duration": 23,
    "start_time": "2023-05-23T12:48:20.526Z"
   },
   {
    "duration": 62,
    "start_time": "2023-05-23T12:48:20.551Z"
   },
   {
    "duration": 15,
    "start_time": "2023-05-23T12:48:20.615Z"
   },
   {
    "duration": 120,
    "start_time": "2023-05-23T12:48:20.632Z"
   },
   {
    "duration": 16,
    "start_time": "2023-05-23T12:48:20.755Z"
   },
   {
    "duration": 54,
    "start_time": "2023-05-23T12:48:20.774Z"
   },
   {
    "duration": 57,
    "start_time": "2023-05-23T12:48:20.830Z"
   },
   {
    "duration": 43,
    "start_time": "2023-05-23T12:48:20.890Z"
   },
   {
    "duration": 28,
    "start_time": "2023-05-23T12:48:20.935Z"
   },
   {
    "duration": 54,
    "start_time": "2023-05-23T12:48:20.965Z"
   },
   {
    "duration": 27,
    "start_time": "2023-05-23T12:48:21.021Z"
   },
   {
    "duration": 70,
    "start_time": "2023-05-23T12:48:21.051Z"
   },
   {
    "duration": 50,
    "start_time": "2023-05-23T12:48:21.123Z"
   },
   {
    "duration": 68,
    "start_time": "2023-05-23T12:48:21.175Z"
   },
   {
    "duration": 63,
    "start_time": "2023-05-23T12:48:21.246Z"
   },
   {
    "duration": 1225,
    "start_time": "2023-05-23T12:48:21.311Z"
   },
   {
    "duration": 0,
    "start_time": "2023-05-23T12:48:22.539Z"
   },
   {
    "duration": 0,
    "start_time": "2023-05-23T12:48:22.540Z"
   },
   {
    "duration": 0,
    "start_time": "2023-05-23T12:48:22.541Z"
   },
   {
    "duration": 0,
    "start_time": "2023-05-23T12:48:22.543Z"
   },
   {
    "duration": 0,
    "start_time": "2023-05-23T12:48:22.544Z"
   },
   {
    "duration": 0,
    "start_time": "2023-05-23T12:48:22.545Z"
   },
   {
    "duration": 0,
    "start_time": "2023-05-23T12:48:22.546Z"
   },
   {
    "duration": 59,
    "start_time": "2023-05-23T13:05:50.447Z"
   },
   {
    "duration": 439,
    "start_time": "2023-05-23T13:06:04.741Z"
   },
   {
    "duration": 220,
    "start_time": "2023-05-23T13:06:05.182Z"
   },
   {
    "duration": 9,
    "start_time": "2023-05-23T13:06:05.404Z"
   },
   {
    "duration": 39,
    "start_time": "2023-05-23T13:06:05.416Z"
   },
   {
    "duration": 3,
    "start_time": "2023-05-23T13:06:05.472Z"
   },
   {
    "duration": 13,
    "start_time": "2023-05-23T13:06:05.477Z"
   },
   {
    "duration": 21,
    "start_time": "2023-05-23T13:06:05.492Z"
   },
   {
    "duration": 8,
    "start_time": "2023-05-23T13:06:05.515Z"
   },
   {
    "duration": 32,
    "start_time": "2023-05-23T13:06:05.525Z"
   },
   {
    "duration": 24,
    "start_time": "2023-05-23T13:06:05.572Z"
   },
   {
    "duration": 35,
    "start_time": "2023-05-23T13:06:05.599Z"
   },
   {
    "duration": 95,
    "start_time": "2023-05-23T13:06:05.637Z"
   },
   {
    "duration": 124,
    "start_time": "2023-05-23T13:06:05.736Z"
   },
   {
    "duration": 122,
    "start_time": "2023-05-23T13:06:05.863Z"
   },
   {
    "duration": 52,
    "start_time": "2023-05-23T13:06:05.989Z"
   },
   {
    "duration": 32,
    "start_time": "2023-05-23T13:06:06.043Z"
   },
   {
    "duration": 55,
    "start_time": "2023-05-23T13:06:06.078Z"
   },
   {
    "duration": 13,
    "start_time": "2023-05-23T13:06:06.135Z"
   },
   {
    "duration": 29,
    "start_time": "2023-05-23T13:06:06.149Z"
   },
   {
    "duration": 5,
    "start_time": "2023-05-23T13:06:06.181Z"
   },
   {
    "duration": 29,
    "start_time": "2023-05-23T13:06:06.188Z"
   },
   {
    "duration": 39,
    "start_time": "2023-05-23T13:06:06.220Z"
   },
   {
    "duration": 20,
    "start_time": "2023-05-23T13:06:06.262Z"
   },
   {
    "duration": 17,
    "start_time": "2023-05-23T13:06:06.284Z"
   },
   {
    "duration": 21,
    "start_time": "2023-05-23T13:06:06.302Z"
   },
   {
    "duration": 46,
    "start_time": "2023-05-23T13:06:06.325Z"
   },
   {
    "duration": 7,
    "start_time": "2023-05-23T13:06:06.374Z"
   },
   {
    "duration": 19,
    "start_time": "2023-05-23T13:06:06.385Z"
   },
   {
    "duration": 12,
    "start_time": "2023-05-23T13:06:06.406Z"
   },
   {
    "duration": 11,
    "start_time": "2023-05-23T13:06:06.420Z"
   },
   {
    "duration": 1361,
    "start_time": "2023-05-23T13:06:06.434Z"
   },
   {
    "duration": 0,
    "start_time": "2023-05-23T13:06:07.798Z"
   },
   {
    "duration": 0,
    "start_time": "2023-05-23T13:06:07.800Z"
   },
   {
    "duration": 0,
    "start_time": "2023-05-23T13:06:07.801Z"
   },
   {
    "duration": 0,
    "start_time": "2023-05-23T13:06:07.803Z"
   },
   {
    "duration": 0,
    "start_time": "2023-05-23T13:06:07.805Z"
   },
   {
    "duration": 0,
    "start_time": "2023-05-23T13:06:07.807Z"
   },
   {
    "duration": 0,
    "start_time": "2023-05-23T13:06:07.808Z"
   },
   {
    "duration": 4,
    "start_time": "2023-05-23T13:08:35.629Z"
   },
   {
    "duration": 5,
    "start_time": "2023-05-23T13:12:36.216Z"
   },
   {
    "duration": 5,
    "start_time": "2023-05-23T13:12:51.885Z"
   },
   {
    "duration": 5,
    "start_time": "2023-05-23T13:13:25.853Z"
   },
   {
    "duration": 6,
    "start_time": "2023-05-23T13:14:22.350Z"
   },
   {
    "duration": 4412,
    "start_time": "2023-05-23T13:22:02.392Z"
   },
   {
    "duration": 0,
    "start_time": "2023-05-23T13:22:06.807Z"
   },
   {
    "duration": 0,
    "start_time": "2023-05-23T13:22:06.809Z"
   },
   {
    "duration": 0,
    "start_time": "2023-05-23T13:22:06.811Z"
   },
   {
    "duration": 5190,
    "start_time": "2023-05-23T13:23:05.789Z"
   },
   {
    "duration": 3203,
    "start_time": "2023-05-23T13:24:51.189Z"
   },
   {
    "duration": 27,
    "start_time": "2023-05-23T13:26:46.023Z"
   },
   {
    "duration": 21,
    "start_time": "2023-05-23T13:29:47.759Z"
   },
   {
    "duration": 30,
    "start_time": "2023-05-23T13:29:50.444Z"
   },
   {
    "duration": 20,
    "start_time": "2023-05-23T13:29:52.820Z"
   },
   {
    "duration": 33,
    "start_time": "2023-05-23T13:31:53.289Z"
   },
   {
    "duration": 15,
    "start_time": "2023-05-23T13:31:56.528Z"
   },
   {
    "duration": 483,
    "start_time": "2023-05-23T13:32:04.648Z"
   },
   {
    "duration": 219,
    "start_time": "2023-05-23T13:32:05.134Z"
   },
   {
    "duration": 17,
    "start_time": "2023-05-23T13:32:05.355Z"
   },
   {
    "duration": 47,
    "start_time": "2023-05-23T13:32:05.374Z"
   },
   {
    "duration": 22,
    "start_time": "2023-05-23T13:32:05.425Z"
   },
   {
    "duration": 44,
    "start_time": "2023-05-23T13:32:05.449Z"
   },
   {
    "duration": 69,
    "start_time": "2023-05-23T13:32:05.495Z"
   },
   {
    "duration": 50,
    "start_time": "2023-05-23T13:32:05.566Z"
   },
   {
    "duration": 82,
    "start_time": "2023-05-23T13:32:05.619Z"
   },
   {
    "duration": 60,
    "start_time": "2023-05-23T13:32:05.704Z"
   },
   {
    "duration": 60,
    "start_time": "2023-05-23T13:32:05.766Z"
   },
   {
    "duration": 125,
    "start_time": "2023-05-23T13:32:05.828Z"
   },
   {
    "duration": 99,
    "start_time": "2023-05-23T13:32:05.955Z"
   },
   {
    "duration": 99,
    "start_time": "2023-05-23T13:32:06.058Z"
   },
   {
    "duration": 69,
    "start_time": "2023-05-23T13:32:06.160Z"
   },
   {
    "duration": 77,
    "start_time": "2023-05-23T13:32:06.236Z"
   },
   {
    "duration": 120,
    "start_time": "2023-05-23T13:32:06.316Z"
   },
   {
    "duration": 37,
    "start_time": "2023-05-23T13:32:06.438Z"
   },
   {
    "duration": 70,
    "start_time": "2023-05-23T13:32:06.477Z"
   },
   {
    "duration": 45,
    "start_time": "2023-05-23T13:32:06.550Z"
   },
   {
    "duration": 132,
    "start_time": "2023-05-23T13:32:06.597Z"
   },
   {
    "duration": 105,
    "start_time": "2023-05-23T13:32:06.731Z"
   },
   {
    "duration": 63,
    "start_time": "2023-05-23T13:32:06.839Z"
   },
   {
    "duration": 67,
    "start_time": "2023-05-23T13:32:06.904Z"
   },
   {
    "duration": 59,
    "start_time": "2023-05-23T13:32:06.973Z"
   },
   {
    "duration": 53,
    "start_time": "2023-05-23T13:32:07.034Z"
   },
   {
    "duration": 55,
    "start_time": "2023-05-23T13:32:07.089Z"
   },
   {
    "duration": 93,
    "start_time": "2023-05-23T13:32:07.146Z"
   },
   {
    "duration": 57,
    "start_time": "2023-05-23T13:32:07.241Z"
   },
   {
    "duration": 45,
    "start_time": "2023-05-23T13:32:07.300Z"
   },
   {
    "duration": 99,
    "start_time": "2023-05-23T13:32:07.348Z"
   },
   {
    "duration": 59,
    "start_time": "2023-05-23T13:32:07.449Z"
   },
   {
    "duration": 105,
    "start_time": "2023-05-23T13:32:07.511Z"
   },
   {
    "duration": 37,
    "start_time": "2023-05-23T13:32:07.618Z"
   },
   {
    "duration": 59,
    "start_time": "2023-05-23T13:32:07.658Z"
   },
   {
    "duration": 25,
    "start_time": "2023-05-23T13:32:07.719Z"
   },
   {
    "duration": 90,
    "start_time": "2023-05-23T13:32:07.746Z"
   },
   {
    "duration": 49,
    "start_time": "2023-05-23T13:32:07.839Z"
   },
   {
    "duration": 22,
    "start_time": "2023-05-23T13:32:54.736Z"
   },
   {
    "duration": 31,
    "start_time": "2023-05-23T13:33:02.480Z"
   },
   {
    "duration": 497,
    "start_time": "2023-05-23T13:33:28.080Z"
   },
   {
    "duration": 210,
    "start_time": "2023-05-23T13:33:28.579Z"
   },
   {
    "duration": 10,
    "start_time": "2023-05-23T13:33:28.791Z"
   },
   {
    "duration": 33,
    "start_time": "2023-05-23T13:33:28.802Z"
   },
   {
    "duration": 3,
    "start_time": "2023-05-23T13:33:28.838Z"
   },
   {
    "duration": 29,
    "start_time": "2023-05-23T13:33:28.842Z"
   },
   {
    "duration": 17,
    "start_time": "2023-05-23T13:33:28.874Z"
   },
   {
    "duration": 7,
    "start_time": "2023-05-23T13:33:28.894Z"
   },
   {
    "duration": 30,
    "start_time": "2023-05-23T13:33:28.902Z"
   },
   {
    "duration": 45,
    "start_time": "2023-05-23T13:33:28.933Z"
   },
   {
    "duration": 26,
    "start_time": "2023-05-23T13:33:28.980Z"
   },
   {
    "duration": 89,
    "start_time": "2023-05-23T13:33:29.008Z"
   },
   {
    "duration": 93,
    "start_time": "2023-05-23T13:33:29.099Z"
   },
   {
    "duration": 84,
    "start_time": "2023-05-23T13:33:29.196Z"
   },
   {
    "duration": 38,
    "start_time": "2023-05-23T13:33:29.281Z"
   },
   {
    "duration": 11,
    "start_time": "2023-05-23T13:33:29.321Z"
   },
   {
    "duration": 54,
    "start_time": "2023-05-23T13:33:29.334Z"
   },
   {
    "duration": 13,
    "start_time": "2023-05-23T13:33:29.390Z"
   },
   {
    "duration": 19,
    "start_time": "2023-05-23T13:33:29.406Z"
   },
   {
    "duration": 7,
    "start_time": "2023-05-23T13:33:29.427Z"
   },
   {
    "duration": 54,
    "start_time": "2023-05-23T13:33:29.436Z"
   },
   {
    "duration": 16,
    "start_time": "2023-05-23T13:33:29.493Z"
   },
   {
    "duration": 22,
    "start_time": "2023-05-23T13:33:29.510Z"
   },
   {
    "duration": 38,
    "start_time": "2023-05-23T13:33:29.534Z"
   },
   {
    "duration": 18,
    "start_time": "2023-05-23T13:33:29.574Z"
   },
   {
    "duration": 16,
    "start_time": "2023-05-23T13:33:29.595Z"
   },
   {
    "duration": 8,
    "start_time": "2023-05-23T13:33:29.613Z"
   },
   {
    "duration": 43,
    "start_time": "2023-05-23T13:33:29.623Z"
   },
   {
    "duration": 17,
    "start_time": "2023-05-23T13:33:29.671Z"
   },
   {
    "duration": 11,
    "start_time": "2023-05-23T13:33:29.690Z"
   },
   {
    "duration": 30,
    "start_time": "2023-05-23T13:33:29.703Z"
   },
   {
    "duration": 14,
    "start_time": "2023-05-23T13:33:29.735Z"
   },
   {
    "duration": 36,
    "start_time": "2023-05-23T13:33:29.751Z"
   },
   {
    "duration": 15,
    "start_time": "2023-05-23T13:33:29.790Z"
   },
   {
    "duration": 29,
    "start_time": "2023-05-23T13:33:29.807Z"
   },
   {
    "duration": 34,
    "start_time": "2023-05-23T13:33:29.838Z"
   },
   {
    "duration": 20,
    "start_time": "2023-05-23T13:33:29.875Z"
   },
   {
    "duration": 6,
    "start_time": "2023-05-23T13:33:29.897Z"
   }
  ],
  "colab": {
   "collapsed_sections": [
    "E0vqbgi9ay0H",
    "VUC88oWjTJw2"
   ],
   "provenance": []
  },
  "kernelspec": {
   "display_name": "Python 3 (ipykernel)",
   "language": "python",
   "name": "python3"
  },
  "language_info": {
   "codemirror_mode": {
    "name": "ipython",
    "version": 3
   },
   "file_extension": ".py",
   "mimetype": "text/x-python",
   "name": "python",
   "nbconvert_exporter": "python",
   "pygments_lexer": "ipython3",
   "version": "3.10.9"
  },
  "toc": {
   "base_numbering": 1,
   "nav_menu": {
    "height": "215px",
    "width": "403px"
   },
   "number_sections": true,
   "sideBar": true,
   "skip_h1_title": true,
   "title_cell": "Table of Contents",
   "title_sidebar": "Contents",
   "toc_cell": false,
   "toc_position": {
    "height": "calc(100% - 180px)",
    "left": "10px",
    "top": "150px",
    "width": "285.825px"
   },
   "toc_section_display": true,
   "toc_window_display": false
  }
 },
 "nbformat": 4,
 "nbformat_minor": 4
}
